{
 "cells": [
  {
   "cell_type": "markdown",
   "metadata": {},
   "source": [
    "# Исследование объявлений о продаже квартир\n",
    "\n",
    "В нашем распоряжении данные сервиса Яндекс.Недвижимость — архив объявлений о продаже квартир в Санкт-Петербурге и соседних населённых пунктов за несколько лет. Нужно научиться определять рыночную стоимость объектов недвижимости. З адача — установить параметры. Это позволит построить автоматизированную систему: она отследит аномалии и мошенническую деятельность. \n",
    "\n",
    "По каждой квартире на продажу доступны два вида данных. Первые вписаны пользователем, вторые — получены автоматически на основе картографических данных. Например, расстояние до центра, аэропорта, ближайшего парка и водоёма. "
   ]
  },
  {
   "cell_type": "markdown",
   "metadata": {},
   "source": [
    "### Откройте файл с данными и изучите общую информацию. "
   ]
  },
  {
   "cell_type": "code",
   "execution_count": 1,
   "metadata": {},
   "outputs": [],
   "source": [
    "import pandas as pd\n",
    "import numpy as np\n",
    "import matplotlib.pyplot as plt"
   ]
  },
  {
   "cell_type": "code",
   "execution_count": 2,
   "metadata": {},
   "outputs": [
    {
     "data": {
      "text/html": [
       "<div>\n",
       "<style scoped>\n",
       "    .dataframe tbody tr th:only-of-type {\n",
       "        vertical-align: middle;\n",
       "    }\n",
       "\n",
       "    .dataframe tbody tr th {\n",
       "        vertical-align: top;\n",
       "    }\n",
       "\n",
       "    .dataframe thead th {\n",
       "        text-align: right;\n",
       "    }\n",
       "</style>\n",
       "<table border=\"1\" class=\"dataframe\">\n",
       "  <thead>\n",
       "    <tr style=\"text-align: right;\">\n",
       "      <th></th>\n",
       "      <th>total_images</th>\n",
       "      <th>last_price</th>\n",
       "      <th>total_area</th>\n",
       "      <th>first_day_exposition</th>\n",
       "      <th>rooms</th>\n",
       "      <th>ceiling_height</th>\n",
       "      <th>floors_total</th>\n",
       "      <th>living_area</th>\n",
       "      <th>floor</th>\n",
       "      <th>is_apartment</th>\n",
       "      <th>studio</th>\n",
       "      <th>open_plan</th>\n",
       "      <th>kitchen_area</th>\n",
       "      <th>balcony</th>\n",
       "      <th>locality_name</th>\n",
       "      <th>airports_nearest</th>\n",
       "      <th>cityCenters_nearest</th>\n",
       "      <th>parks_around3000</th>\n",
       "      <th>parks_nearest</th>\n",
       "      <th>ponds_around3000</th>\n",
       "      <th>ponds_nearest</th>\n",
       "      <th>days_exposition</th>\n",
       "    </tr>\n",
       "  </thead>\n",
       "  <tbody>\n",
       "    <tr>\n",
       "      <th>0</th>\n",
       "      <td>20</td>\n",
       "      <td>13000000.0</td>\n",
       "      <td>108.00</td>\n",
       "      <td>2019-03-07T00:00:00</td>\n",
       "      <td>3</td>\n",
       "      <td>2.70</td>\n",
       "      <td>16.0</td>\n",
       "      <td>51.00</td>\n",
       "      <td>8</td>\n",
       "      <td>NaN</td>\n",
       "      <td>False</td>\n",
       "      <td>False</td>\n",
       "      <td>25.00</td>\n",
       "      <td>NaN</td>\n",
       "      <td>Санкт-Петербург</td>\n",
       "      <td>18863.0</td>\n",
       "      <td>16028.0</td>\n",
       "      <td>1.0</td>\n",
       "      <td>482.0</td>\n",
       "      <td>2.0</td>\n",
       "      <td>755.0</td>\n",
       "      <td>NaN</td>\n",
       "    </tr>\n",
       "    <tr>\n",
       "      <th>1</th>\n",
       "      <td>7</td>\n",
       "      <td>3350000.0</td>\n",
       "      <td>40.40</td>\n",
       "      <td>2018-12-04T00:00:00</td>\n",
       "      <td>1</td>\n",
       "      <td>NaN</td>\n",
       "      <td>11.0</td>\n",
       "      <td>18.60</td>\n",
       "      <td>1</td>\n",
       "      <td>NaN</td>\n",
       "      <td>False</td>\n",
       "      <td>False</td>\n",
       "      <td>11.00</td>\n",
       "      <td>2.0</td>\n",
       "      <td>посёлок Шушары</td>\n",
       "      <td>12817.0</td>\n",
       "      <td>18603.0</td>\n",
       "      <td>0.0</td>\n",
       "      <td>NaN</td>\n",
       "      <td>0.0</td>\n",
       "      <td>NaN</td>\n",
       "      <td>81.0</td>\n",
       "    </tr>\n",
       "    <tr>\n",
       "      <th>2</th>\n",
       "      <td>10</td>\n",
       "      <td>5196000.0</td>\n",
       "      <td>56.00</td>\n",
       "      <td>2015-08-20T00:00:00</td>\n",
       "      <td>2</td>\n",
       "      <td>NaN</td>\n",
       "      <td>5.0</td>\n",
       "      <td>34.30</td>\n",
       "      <td>4</td>\n",
       "      <td>NaN</td>\n",
       "      <td>False</td>\n",
       "      <td>False</td>\n",
       "      <td>8.30</td>\n",
       "      <td>0.0</td>\n",
       "      <td>Санкт-Петербург</td>\n",
       "      <td>21741.0</td>\n",
       "      <td>13933.0</td>\n",
       "      <td>1.0</td>\n",
       "      <td>90.0</td>\n",
       "      <td>2.0</td>\n",
       "      <td>574.0</td>\n",
       "      <td>558.0</td>\n",
       "    </tr>\n",
       "    <tr>\n",
       "      <th>3</th>\n",
       "      <td>0</td>\n",
       "      <td>64900000.0</td>\n",
       "      <td>159.00</td>\n",
       "      <td>2015-07-24T00:00:00</td>\n",
       "      <td>3</td>\n",
       "      <td>NaN</td>\n",
       "      <td>14.0</td>\n",
       "      <td>NaN</td>\n",
       "      <td>9</td>\n",
       "      <td>NaN</td>\n",
       "      <td>False</td>\n",
       "      <td>False</td>\n",
       "      <td>NaN</td>\n",
       "      <td>0.0</td>\n",
       "      <td>Санкт-Петербург</td>\n",
       "      <td>28098.0</td>\n",
       "      <td>6800.0</td>\n",
       "      <td>2.0</td>\n",
       "      <td>84.0</td>\n",
       "      <td>3.0</td>\n",
       "      <td>234.0</td>\n",
       "      <td>424.0</td>\n",
       "    </tr>\n",
       "    <tr>\n",
       "      <th>4</th>\n",
       "      <td>2</td>\n",
       "      <td>10000000.0</td>\n",
       "      <td>100.00</td>\n",
       "      <td>2018-06-19T00:00:00</td>\n",
       "      <td>2</td>\n",
       "      <td>3.03</td>\n",
       "      <td>14.0</td>\n",
       "      <td>32.00</td>\n",
       "      <td>13</td>\n",
       "      <td>NaN</td>\n",
       "      <td>False</td>\n",
       "      <td>False</td>\n",
       "      <td>41.00</td>\n",
       "      <td>NaN</td>\n",
       "      <td>Санкт-Петербург</td>\n",
       "      <td>31856.0</td>\n",
       "      <td>8098.0</td>\n",
       "      <td>2.0</td>\n",
       "      <td>112.0</td>\n",
       "      <td>1.0</td>\n",
       "      <td>48.0</td>\n",
       "      <td>121.0</td>\n",
       "    </tr>\n",
       "    <tr>\n",
       "      <th>5</th>\n",
       "      <td>10</td>\n",
       "      <td>2890000.0</td>\n",
       "      <td>30.40</td>\n",
       "      <td>2018-09-10T00:00:00</td>\n",
       "      <td>1</td>\n",
       "      <td>NaN</td>\n",
       "      <td>12.0</td>\n",
       "      <td>14.40</td>\n",
       "      <td>5</td>\n",
       "      <td>NaN</td>\n",
       "      <td>False</td>\n",
       "      <td>False</td>\n",
       "      <td>9.10</td>\n",
       "      <td>NaN</td>\n",
       "      <td>городской посёлок Янино-1</td>\n",
       "      <td>NaN</td>\n",
       "      <td>NaN</td>\n",
       "      <td>NaN</td>\n",
       "      <td>NaN</td>\n",
       "      <td>NaN</td>\n",
       "      <td>NaN</td>\n",
       "      <td>55.0</td>\n",
       "    </tr>\n",
       "    <tr>\n",
       "      <th>6</th>\n",
       "      <td>6</td>\n",
       "      <td>3700000.0</td>\n",
       "      <td>37.30</td>\n",
       "      <td>2017-11-02T00:00:00</td>\n",
       "      <td>1</td>\n",
       "      <td>NaN</td>\n",
       "      <td>26.0</td>\n",
       "      <td>10.60</td>\n",
       "      <td>6</td>\n",
       "      <td>NaN</td>\n",
       "      <td>False</td>\n",
       "      <td>False</td>\n",
       "      <td>14.40</td>\n",
       "      <td>1.0</td>\n",
       "      <td>посёлок Парголово</td>\n",
       "      <td>52996.0</td>\n",
       "      <td>19143.0</td>\n",
       "      <td>0.0</td>\n",
       "      <td>NaN</td>\n",
       "      <td>0.0</td>\n",
       "      <td>NaN</td>\n",
       "      <td>155.0</td>\n",
       "    </tr>\n",
       "    <tr>\n",
       "      <th>7</th>\n",
       "      <td>5</td>\n",
       "      <td>7915000.0</td>\n",
       "      <td>71.60</td>\n",
       "      <td>2019-04-18T00:00:00</td>\n",
       "      <td>2</td>\n",
       "      <td>NaN</td>\n",
       "      <td>24.0</td>\n",
       "      <td>NaN</td>\n",
       "      <td>22</td>\n",
       "      <td>NaN</td>\n",
       "      <td>False</td>\n",
       "      <td>False</td>\n",
       "      <td>18.90</td>\n",
       "      <td>2.0</td>\n",
       "      <td>Санкт-Петербург</td>\n",
       "      <td>23982.0</td>\n",
       "      <td>11634.0</td>\n",
       "      <td>0.0</td>\n",
       "      <td>NaN</td>\n",
       "      <td>0.0</td>\n",
       "      <td>NaN</td>\n",
       "      <td>NaN</td>\n",
       "    </tr>\n",
       "    <tr>\n",
       "      <th>8</th>\n",
       "      <td>20</td>\n",
       "      <td>2900000.0</td>\n",
       "      <td>33.16</td>\n",
       "      <td>2018-05-23T00:00:00</td>\n",
       "      <td>1</td>\n",
       "      <td>NaN</td>\n",
       "      <td>27.0</td>\n",
       "      <td>15.43</td>\n",
       "      <td>26</td>\n",
       "      <td>NaN</td>\n",
       "      <td>False</td>\n",
       "      <td>False</td>\n",
       "      <td>8.81</td>\n",
       "      <td>NaN</td>\n",
       "      <td>посёлок Мурино</td>\n",
       "      <td>NaN</td>\n",
       "      <td>NaN</td>\n",
       "      <td>NaN</td>\n",
       "      <td>NaN</td>\n",
       "      <td>NaN</td>\n",
       "      <td>NaN</td>\n",
       "      <td>189.0</td>\n",
       "    </tr>\n",
       "    <tr>\n",
       "      <th>9</th>\n",
       "      <td>18</td>\n",
       "      <td>5400000.0</td>\n",
       "      <td>61.00</td>\n",
       "      <td>2017-02-26T00:00:00</td>\n",
       "      <td>3</td>\n",
       "      <td>2.50</td>\n",
       "      <td>9.0</td>\n",
       "      <td>43.60</td>\n",
       "      <td>7</td>\n",
       "      <td>NaN</td>\n",
       "      <td>False</td>\n",
       "      <td>False</td>\n",
       "      <td>6.50</td>\n",
       "      <td>2.0</td>\n",
       "      <td>Санкт-Петербург</td>\n",
       "      <td>50898.0</td>\n",
       "      <td>15008.0</td>\n",
       "      <td>0.0</td>\n",
       "      <td>NaN</td>\n",
       "      <td>0.0</td>\n",
       "      <td>NaN</td>\n",
       "      <td>289.0</td>\n",
       "    </tr>\n",
       "  </tbody>\n",
       "</table>\n",
       "</div>"
      ],
      "text/plain": [
       "   total_images  last_price  total_area first_day_exposition  rooms  \\\n",
       "0            20  13000000.0      108.00  2019-03-07T00:00:00      3   \n",
       "1             7   3350000.0       40.40  2018-12-04T00:00:00      1   \n",
       "2            10   5196000.0       56.00  2015-08-20T00:00:00      2   \n",
       "3             0  64900000.0      159.00  2015-07-24T00:00:00      3   \n",
       "4             2  10000000.0      100.00  2018-06-19T00:00:00      2   \n",
       "5            10   2890000.0       30.40  2018-09-10T00:00:00      1   \n",
       "6             6   3700000.0       37.30  2017-11-02T00:00:00      1   \n",
       "7             5   7915000.0       71.60  2019-04-18T00:00:00      2   \n",
       "8            20   2900000.0       33.16  2018-05-23T00:00:00      1   \n",
       "9            18   5400000.0       61.00  2017-02-26T00:00:00      3   \n",
       "\n",
       "   ceiling_height  floors_total  living_area  floor is_apartment  studio  \\\n",
       "0            2.70          16.0        51.00      8          NaN   False   \n",
       "1             NaN          11.0        18.60      1          NaN   False   \n",
       "2             NaN           5.0        34.30      4          NaN   False   \n",
       "3             NaN          14.0          NaN      9          NaN   False   \n",
       "4            3.03          14.0        32.00     13          NaN   False   \n",
       "5             NaN          12.0        14.40      5          NaN   False   \n",
       "6             NaN          26.0        10.60      6          NaN   False   \n",
       "7             NaN          24.0          NaN     22          NaN   False   \n",
       "8             NaN          27.0        15.43     26          NaN   False   \n",
       "9            2.50           9.0        43.60      7          NaN   False   \n",
       "\n",
       "   open_plan  kitchen_area  balcony              locality_name  \\\n",
       "0      False         25.00      NaN            Санкт-Петербург   \n",
       "1      False         11.00      2.0             посёлок Шушары   \n",
       "2      False          8.30      0.0            Санкт-Петербург   \n",
       "3      False           NaN      0.0            Санкт-Петербург   \n",
       "4      False         41.00      NaN            Санкт-Петербург   \n",
       "5      False          9.10      NaN  городской посёлок Янино-1   \n",
       "6      False         14.40      1.0          посёлок Парголово   \n",
       "7      False         18.90      2.0            Санкт-Петербург   \n",
       "8      False          8.81      NaN             посёлок Мурино   \n",
       "9      False          6.50      2.0            Санкт-Петербург   \n",
       "\n",
       "   airports_nearest  cityCenters_nearest  parks_around3000  parks_nearest  \\\n",
       "0           18863.0              16028.0               1.0          482.0   \n",
       "1           12817.0              18603.0               0.0            NaN   \n",
       "2           21741.0              13933.0               1.0           90.0   \n",
       "3           28098.0               6800.0               2.0           84.0   \n",
       "4           31856.0               8098.0               2.0          112.0   \n",
       "5               NaN                  NaN               NaN            NaN   \n",
       "6           52996.0              19143.0               0.0            NaN   \n",
       "7           23982.0              11634.0               0.0            NaN   \n",
       "8               NaN                  NaN               NaN            NaN   \n",
       "9           50898.0              15008.0               0.0            NaN   \n",
       "\n",
       "   ponds_around3000  ponds_nearest  days_exposition  \n",
       "0               2.0          755.0              NaN  \n",
       "1               0.0            NaN             81.0  \n",
       "2               2.0          574.0            558.0  \n",
       "3               3.0          234.0            424.0  \n",
       "4               1.0           48.0            121.0  \n",
       "5               NaN            NaN             55.0  \n",
       "6               0.0            NaN            155.0  \n",
       "7               0.0            NaN              NaN  \n",
       "8               NaN            NaN            189.0  \n",
       "9               0.0            NaN            289.0  "
      ]
     },
     "execution_count": 2,
     "metadata": {},
     "output_type": "execute_result"
    }
   ],
   "source": [
    "data = pd.read_csv('/datasets/real_estate_data.csv',sep='\\t') #при чтении добавлен параметр sep='\\t' для наглядности вывода данных\n",
    "pd.set_option('display.max_columns', None)\n",
    "data.head(10)"
   ]
  },
  {
   "cell_type": "code",
   "execution_count": 3,
   "metadata": {},
   "outputs": [
    {
     "name": "stdout",
     "output_type": "stream",
     "text": [
      "<class 'pandas.core.frame.DataFrame'>\n",
      "RangeIndex: 23699 entries, 0 to 23698\n",
      "Data columns (total 22 columns):\n",
      " #   Column                Non-Null Count  Dtype  \n",
      "---  ------                --------------  -----  \n",
      " 0   total_images          23699 non-null  int64  \n",
      " 1   last_price            23699 non-null  float64\n",
      " 2   total_area            23699 non-null  float64\n",
      " 3   first_day_exposition  23699 non-null  object \n",
      " 4   rooms                 23699 non-null  int64  \n",
      " 5   ceiling_height        14504 non-null  float64\n",
      " 6   floors_total          23613 non-null  float64\n",
      " 7   living_area           21796 non-null  float64\n",
      " 8   floor                 23699 non-null  int64  \n",
      " 9   is_apartment          2775 non-null   object \n",
      " 10  studio                23699 non-null  bool   \n",
      " 11  open_plan             23699 non-null  bool   \n",
      " 12  kitchen_area          21421 non-null  float64\n",
      " 13  balcony               12180 non-null  float64\n",
      " 14  locality_name         23650 non-null  object \n",
      " 15  airports_nearest      18157 non-null  float64\n",
      " 16  cityCenters_nearest   18180 non-null  float64\n",
      " 17  parks_around3000      18181 non-null  float64\n",
      " 18  parks_nearest         8079 non-null   float64\n",
      " 19  ponds_around3000      18181 non-null  float64\n",
      " 20  ponds_nearest         9110 non-null   float64\n",
      " 21  days_exposition       20518 non-null  float64\n",
      "dtypes: bool(2), float64(14), int64(3), object(3)\n",
      "memory usage: 3.7+ MB\n"
     ]
    }
   ],
   "source": [
    "data.info()"
   ]
  },
  {
   "cell_type": "code",
   "execution_count": 4,
   "metadata": {},
   "outputs": [
    {
     "data": {
      "text/plain": [
       "is_apartment            20924\n",
       "parks_nearest           15620\n",
       "ponds_nearest           14589\n",
       "balcony                 11519\n",
       "ceiling_height           9195\n",
       "airports_nearest         5542\n",
       "cityCenters_nearest      5519\n",
       "ponds_around3000         5518\n",
       "parks_around3000         5518\n",
       "days_exposition          3181\n",
       "kitchen_area             2278\n",
       "living_area              1903\n",
       "floors_total               86\n",
       "locality_name              49\n",
       "total_images                0\n",
       "last_price                  0\n",
       "studio                      0\n",
       "floor                       0\n",
       "rooms                       0\n",
       "first_day_exposition        0\n",
       "total_area                  0\n",
       "open_plan                   0\n",
       "dtype: int64"
      ]
     },
     "execution_count": 4,
     "metadata": {},
     "output_type": "execute_result"
    }
   ],
   "source": [
    "#проранжируем количество пропусков в каждой колонке\n",
    "data.isna().sum().sort_values(ascending=False)"
   ]
  },
  {
   "cell_type": "code",
   "execution_count": 5,
   "metadata": {},
   "outputs": [
    {
     "data": {
      "image/png": "[encoded data removed]",
      "text/plain": [
       "<Figure size 360x360 with 1 Axes>"
      ]
     },
     "metadata": {
      "needs_background": "light"
     },
     "output_type": "display_data"
    },
    {
     "data": {
      "image/png": "[encoded data removed]",
      "text/plain": [
       "<Figure size 360x360 with 1 Axes>"
      ]
     },
     "metadata": {
      "needs_background": "light"
     },
     "output_type": "display_data"
    },
    {
     "data": {
      "image/png": "[encoded data removed]",
      "text/plain": [
       "<Figure size 360x360 with 1 Axes>"
      ]
     },
     "metadata": {
      "needs_background": "light"
     },
     "output_type": "display_data"
    },
    {
     "data": {
      "image/png": "[encoded data removed]",
      "text/plain": [
       "<Figure size 360x360 with 1 Axes>"
      ]
     },
     "metadata": {
      "needs_background": "light"
     },
     "output_type": "display_data"
    },
    {
     "data": {
      "image/png": "[encoded data removed]",
      "text/plain": [
       "<Figure size 360x360 with 1 Axes>"
      ]
     },
     "metadata": {
      "needs_background": "light"
     },
     "output_type": "display_data"
    },
    {
     "data": {
      "image/png": "[encoded data removed]",
      "text/plain": [
       "<Figure size 360x360 with 1 Axes>"
      ]
     },
     "metadata": {
      "needs_background": "light"
     },
     "output_type": "display_data"
    },
    {
     "data": {
      "image/png": "[encoded data removed]",
      "text/plain": [
       "<Figure size 360x360 with 1 Axes>"
      ]
     },
     "metadata": {
      "needs_background": "light"
     },
     "output_type": "display_data"
    },
    {
     "data": {
      "image/png": "[encoded data removed]",
      "text/plain": [
       "<Figure size 360x360 with 1 Axes>"
      ]
     },
     "metadata": {
      "needs_background": "light"
     },
     "output_type": "display_data"
    },
    {
     "data": {
      "image/png": "[encoded data removed]",
      "text/plain": [
       "<Figure size 360x360 with 1 Axes>"
      ]
     },
     "metadata": {
      "needs_background": "light"
     },
     "output_type": "display_data"
    },
    {
     "data": {
      "image/png": "[encoded data removed]",
      "text/plain": [
       "<Figure size 360x360 with 1 Axes>"
      ]
     },
     "metadata": {
      "needs_background": "light"
     },
     "output_type": "display_data"
    },
    {
     "data": {
      "image/png": "[encoded data removed]",
      "text/plain": [
       "<Figure size 360x360 with 1 Axes>"
      ]
     },
     "metadata": {
      "needs_background": "light"
     },
     "output_type": "display_data"
    },
    {
     "data": {
      "image/png": "[encoded data removed]",
      "text/plain": [
       "<Figure size 360x360 with 1 Axes>"
      ]
     },
     "metadata": {
      "needs_background": "light"
     },
     "output_type": "display_data"
    },
    {
     "data": {
      "image/png": "[encoded data removed]",
      "text/plain": [
       "<Figure size 360x360 with 1 Axes>"
      ]
     },
     "metadata": {
      "needs_background": "light"
     },
     "output_type": "display_data"
    },
    {
     "data": {
      "image/png": "[encoded data removed]",
      "text/plain": [
       "<Figure size 360x360 with 1 Axes>"
      ]
     },
     "metadata": {
      "needs_background": "light"
     },
     "output_type": "display_data"
    },
    {
     "data": {
      "image/png": "[encoded data removed]",
      "text/plain": [
       "<Figure size 360x360 with 1 Axes>"
      ]
     },
     "metadata": {
      "needs_background": "light"
     },
     "output_type": "display_data"
    },
    {
     "data": {
      "image/png": "[encoded data removed]",
      "text/plain": [
       "<Figure size 360x360 with 1 Axes>"
      ]
     },
     "metadata": {
      "needs_background": "light"
     },
     "output_type": "display_data"
    },
    {
     "data": {
      "image/png": "[encoded data removed]",
      "text/plain": [
       "<Figure size 360x360 with 1 Axes>"
      ]
     },
     "metadata": {
      "needs_background": "light"
     },
     "output_type": "display_data"
    }
   ],
   "source": [
    "#для поиска числовых значений вызовем метод select_dtypes библиотеки numpy, пройдемся циклом по столбцам и строим гистограмму  \n",
    "data_numeric = data.select_dtypes(include=np.number)\n",
    "for col in data_numeric :\n",
    "    data_numeric [col].plot(title=col, kind ='hist',figsize=(5, 5))\n",
    "    plt.show()"
   ]
  },
  {
   "cell_type": "markdown",
   "metadata": {},
   "source": [
    "<div style=\"background-color:black; color:#ffffff; text-align:left; padding:2%\"> \n",
    "    \n",
    "💬 <br>1.В данных много столбцов с пропущенными данными. Для анализа данных ключевые из них:\n",
    "    <br>balcony                 11519\n",
    "    <br>ceiling_height           9195\n",
    "    <br>cityCenters_nearest      5519\n",
    "    <br>days_exposition          3181\n",
    "    <br>kitchen_area             2278\n",
    "    <br>living_area              1903\n",
    "    <br>floors_total               86\n",
    "    <br>locality_name              49\n",
    "    <br>Часть из них можно заменить, часть оставить либо переименовать как неизвестное значение (в случае с locality_name)\n",
    "    <br>2. first_day_exposition  имеет формат Object, очевидно далжен быть формат даты. Такие данные как количество балконов, этажей могут быть целочисленными\n",
    "    <br>3. Столбцы last_price, total_area, rooms, living_area, kitchen_area содержат явные выбросы и аномалии, а в значениях ceiling_height вероятны ошибки.  \n",
    "      \n"
   ]
  },
  {
   "cell_type": "code",
   "execution_count": 6,
   "metadata": {},
   "outputs": [
    {
     "data": {
      "text/html": [
       "<div>\n",
       "<style scoped>\n",
       "    .dataframe tbody tr th:only-of-type {\n",
       "        vertical-align: middle;\n",
       "    }\n",
       "\n",
       "    .dataframe tbody tr th {\n",
       "        vertical-align: top;\n",
       "    }\n",
       "\n",
       "    .dataframe thead th {\n",
       "        text-align: right;\n",
       "    }\n",
       "</style>\n",
       "<table border=\"1\" class=\"dataframe\">\n",
       "  <thead>\n",
       "    <tr style=\"text-align: right;\">\n",
       "      <th></th>\n",
       "      <th>total_images</th>\n",
       "      <th>last_price</th>\n",
       "      <th>total_area</th>\n",
       "      <th>first_day_exposition</th>\n",
       "      <th>rooms</th>\n",
       "      <th>ceiling_height</th>\n",
       "      <th>floors_total</th>\n",
       "      <th>living_area</th>\n",
       "      <th>floor</th>\n",
       "      <th>is_apartment</th>\n",
       "      <th>studio</th>\n",
       "      <th>open_plan</th>\n",
       "      <th>kitchen_area</th>\n",
       "      <th>balcony</th>\n",
       "      <th>locality_name</th>\n",
       "      <th>airports_nearest</th>\n",
       "      <th>cityCenters_nearest</th>\n",
       "      <th>parks_around3000</th>\n",
       "      <th>parks_nearest</th>\n",
       "      <th>ponds_around3000</th>\n",
       "      <th>ponds_nearest</th>\n",
       "      <th>days_exposition</th>\n",
       "    </tr>\n",
       "  </thead>\n",
       "  <tbody>\n",
       "    <tr>\n",
       "      <th>35</th>\n",
       "      <td>6</td>\n",
       "      <td>15500000.0</td>\n",
       "      <td>149.0</td>\n",
       "      <td>2017-06-26T00:00:00</td>\n",
       "      <td>5</td>\n",
       "      <td>NaN</td>\n",
       "      <td>5.0</td>\n",
       "      <td>104.0</td>\n",
       "      <td>4</td>\n",
       "      <td>NaN</td>\n",
       "      <td>False</td>\n",
       "      <td>False</td>\n",
       "      <td>17.0</td>\n",
       "      <td>NaN</td>\n",
       "      <td>Санкт-Петербург</td>\n",
       "      <td>23670.0</td>\n",
       "      <td>3502.0</td>\n",
       "      <td>0.0</td>\n",
       "      <td>NaN</td>\n",
       "      <td>1.0</td>\n",
       "      <td>779.0</td>\n",
       "      <td>644.0</td>\n",
       "    </tr>\n",
       "    <tr>\n",
       "      <th>52</th>\n",
       "      <td>20</td>\n",
       "      <td>11795000.0</td>\n",
       "      <td>136.0</td>\n",
       "      <td>2017-09-22T00:00:00</td>\n",
       "      <td>6</td>\n",
       "      <td>3.00</td>\n",
       "      <td>2.0</td>\n",
       "      <td>94.0</td>\n",
       "      <td>2</td>\n",
       "      <td>NaN</td>\n",
       "      <td>False</td>\n",
       "      <td>False</td>\n",
       "      <td>11.0</td>\n",
       "      <td>1.0</td>\n",
       "      <td>Санкт-Петербург</td>\n",
       "      <td>16510.0</td>\n",
       "      <td>6582.0</td>\n",
       "      <td>1.0</td>\n",
       "      <td>526.0</td>\n",
       "      <td>0.0</td>\n",
       "      <td>NaN</td>\n",
       "      <td>NaN</td>\n",
       "    </tr>\n",
       "    <tr>\n",
       "      <th>106</th>\n",
       "      <td>9</td>\n",
       "      <td>10500000.0</td>\n",
       "      <td>124.1</td>\n",
       "      <td>2017-05-25T00:00:00</td>\n",
       "      <td>5</td>\n",
       "      <td>3.20</td>\n",
       "      <td>4.0</td>\n",
       "      <td>79.4</td>\n",
       "      <td>3</td>\n",
       "      <td>NaN</td>\n",
       "      <td>False</td>\n",
       "      <td>False</td>\n",
       "      <td>20.0</td>\n",
       "      <td>0.0</td>\n",
       "      <td>Санкт-Петербург</td>\n",
       "      <td>26825.0</td>\n",
       "      <td>5527.0</td>\n",
       "      <td>1.0</td>\n",
       "      <td>384.0</td>\n",
       "      <td>0.0</td>\n",
       "      <td>NaN</td>\n",
       "      <td>6.0</td>\n",
       "    </tr>\n",
       "    <tr>\n",
       "      <th>147</th>\n",
       "      <td>10</td>\n",
       "      <td>27700000.0</td>\n",
       "      <td>179.6</td>\n",
       "      <td>2017-07-06T00:00:00</td>\n",
       "      <td>5</td>\n",
       "      <td>2.85</td>\n",
       "      <td>25.0</td>\n",
       "      <td>97.2</td>\n",
       "      <td>25</td>\n",
       "      <td>NaN</td>\n",
       "      <td>False</td>\n",
       "      <td>False</td>\n",
       "      <td>33.8</td>\n",
       "      <td>2.0</td>\n",
       "      <td>Санкт-Петербург</td>\n",
       "      <td>19424.0</td>\n",
       "      <td>4489.0</td>\n",
       "      <td>0.0</td>\n",
       "      <td>NaN</td>\n",
       "      <td>1.0</td>\n",
       "      <td>806.0</td>\n",
       "      <td>75.0</td>\n",
       "    </tr>\n",
       "    <tr>\n",
       "      <th>201</th>\n",
       "      <td>5</td>\n",
       "      <td>10880000.0</td>\n",
       "      <td>123.1</td>\n",
       "      <td>2015-11-12T00:00:00</td>\n",
       "      <td>6</td>\n",
       "      <td>3.20</td>\n",
       "      <td>5.0</td>\n",
       "      <td>89.0</td>\n",
       "      <td>2</td>\n",
       "      <td>NaN</td>\n",
       "      <td>False</td>\n",
       "      <td>False</td>\n",
       "      <td>11.0</td>\n",
       "      <td>NaN</td>\n",
       "      <td>Санкт-Петербург</td>\n",
       "      <td>26009.0</td>\n",
       "      <td>3369.0</td>\n",
       "      <td>2.0</td>\n",
       "      <td>516.0</td>\n",
       "      <td>0.0</td>\n",
       "      <td>NaN</td>\n",
       "      <td>992.0</td>\n",
       "    </tr>\n",
       "    <tr>\n",
       "      <th>335</th>\n",
       "      <td>1</td>\n",
       "      <td>21800000.0</td>\n",
       "      <td>163.4</td>\n",
       "      <td>2017-12-10T00:00:00</td>\n",
       "      <td>5</td>\n",
       "      <td>3.50</td>\n",
       "      <td>5.0</td>\n",
       "      <td>119.5</td>\n",
       "      <td>2</td>\n",
       "      <td>False</td>\n",
       "      <td>False</td>\n",
       "      <td>False</td>\n",
       "      <td>10.0</td>\n",
       "      <td>NaN</td>\n",
       "      <td>Санкт-Петербург</td>\n",
       "      <td>26791.0</td>\n",
       "      <td>5493.0</td>\n",
       "      <td>1.0</td>\n",
       "      <td>349.0</td>\n",
       "      <td>0.0</td>\n",
       "      <td>NaN</td>\n",
       "      <td>106.0</td>\n",
       "    </tr>\n",
       "    <tr>\n",
       "      <th>417</th>\n",
       "      <td>5</td>\n",
       "      <td>14200000.0</td>\n",
       "      <td>178.0</td>\n",
       "      <td>2017-10-26T00:00:00</td>\n",
       "      <td>5</td>\n",
       "      <td>3.30</td>\n",
       "      <td>4.0</td>\n",
       "      <td>126.6</td>\n",
       "      <td>2</td>\n",
       "      <td>NaN</td>\n",
       "      <td>False</td>\n",
       "      <td>False</td>\n",
       "      <td>19.4</td>\n",
       "      <td>NaN</td>\n",
       "      <td>Санкт-Петербург</td>\n",
       "      <td>24287.0</td>\n",
       "      <td>2835.0</td>\n",
       "      <td>0.0</td>\n",
       "      <td>NaN</td>\n",
       "      <td>3.0</td>\n",
       "      <td>257.0</td>\n",
       "      <td>104.0</td>\n",
       "    </tr>\n",
       "    <tr>\n",
       "      <th>458</th>\n",
       "      <td>9</td>\n",
       "      <td>4200000.0</td>\n",
       "      <td>106.0</td>\n",
       "      <td>2018-10-05T00:00:00</td>\n",
       "      <td>5</td>\n",
       "      <td>NaN</td>\n",
       "      <td>5.0</td>\n",
       "      <td>75.8</td>\n",
       "      <td>1</td>\n",
       "      <td>NaN</td>\n",
       "      <td>False</td>\n",
       "      <td>False</td>\n",
       "      <td>12.0</td>\n",
       "      <td>NaN</td>\n",
       "      <td>посёлок городского типа Лебяжье</td>\n",
       "      <td>NaN</td>\n",
       "      <td>NaN</td>\n",
       "      <td>NaN</td>\n",
       "      <td>NaN</td>\n",
       "      <td>NaN</td>\n",
       "      <td>NaN</td>\n",
       "      <td>NaN</td>\n",
       "    </tr>\n",
       "    <tr>\n",
       "      <th>464</th>\n",
       "      <td>15</td>\n",
       "      <td>66571000.0</td>\n",
       "      <td>280.3</td>\n",
       "      <td>2015-06-11T00:00:00</td>\n",
       "      <td>6</td>\n",
       "      <td>5.20</td>\n",
       "      <td>8.0</td>\n",
       "      <td>159.5</td>\n",
       "      <td>7</td>\n",
       "      <td>NaN</td>\n",
       "      <td>False</td>\n",
       "      <td>False</td>\n",
       "      <td>21.1</td>\n",
       "      <td>0.0</td>\n",
       "      <td>Санкт-Петербург</td>\n",
       "      <td>26316.0</td>\n",
       "      <td>6655.0</td>\n",
       "      <td>3.0</td>\n",
       "      <td>187.0</td>\n",
       "      <td>1.0</td>\n",
       "      <td>616.0</td>\n",
       "      <td>578.0</td>\n",
       "    </tr>\n",
       "    <tr>\n",
       "      <th>495</th>\n",
       "      <td>1</td>\n",
       "      <td>10400000.0</td>\n",
       "      <td>104.0</td>\n",
       "      <td>2015-09-20T00:00:00</td>\n",
       "      <td>5</td>\n",
       "      <td>3.50</td>\n",
       "      <td>6.0</td>\n",
       "      <td>70.0</td>\n",
       "      <td>4</td>\n",
       "      <td>NaN</td>\n",
       "      <td>False</td>\n",
       "      <td>False</td>\n",
       "      <td>14.0</td>\n",
       "      <td>0.0</td>\n",
       "      <td>Санкт-Петербург</td>\n",
       "      <td>21773.0</td>\n",
       "      <td>2074.0</td>\n",
       "      <td>1.0</td>\n",
       "      <td>637.0</td>\n",
       "      <td>1.0</td>\n",
       "      <td>145.0</td>\n",
       "      <td>702.0</td>\n",
       "    </tr>\n",
       "  </tbody>\n",
       "</table>\n",
       "</div>"
      ],
      "text/plain": [
       "     total_images  last_price  total_area first_day_exposition  rooms  \\\n",
       "35              6  15500000.0       149.0  2017-06-26T00:00:00      5   \n",
       "52             20  11795000.0       136.0  2017-09-22T00:00:00      6   \n",
       "106             9  10500000.0       124.1  2017-05-25T00:00:00      5   \n",
       "147            10  27700000.0       179.6  2017-07-06T00:00:00      5   \n",
       "201             5  10880000.0       123.1  2015-11-12T00:00:00      6   \n",
       "335             1  21800000.0       163.4  2017-12-10T00:00:00      5   \n",
       "417             5  14200000.0       178.0  2017-10-26T00:00:00      5   \n",
       "458             9   4200000.0       106.0  2018-10-05T00:00:00      5   \n",
       "464            15  66571000.0       280.3  2015-06-11T00:00:00      6   \n",
       "495             1  10400000.0       104.0  2015-09-20T00:00:00      5   \n",
       "\n",
       "     ceiling_height  floors_total  living_area  floor is_apartment  studio  \\\n",
       "35              NaN           5.0        104.0      4          NaN   False   \n",
       "52             3.00           2.0         94.0      2          NaN   False   \n",
       "106            3.20           4.0         79.4      3          NaN   False   \n",
       "147            2.85          25.0         97.2     25          NaN   False   \n",
       "201            3.20           5.0         89.0      2          NaN   False   \n",
       "335            3.50           5.0        119.5      2        False   False   \n",
       "417            3.30           4.0        126.6      2          NaN   False   \n",
       "458             NaN           5.0         75.8      1          NaN   False   \n",
       "464            5.20           8.0        159.5      7          NaN   False   \n",
       "495            3.50           6.0         70.0      4          NaN   False   \n",
       "\n",
       "     open_plan  kitchen_area  balcony                    locality_name  \\\n",
       "35       False          17.0      NaN                  Санкт-Петербург   \n",
       "52       False          11.0      1.0                  Санкт-Петербург   \n",
       "106      False          20.0      0.0                  Санкт-Петербург   \n",
       "147      False          33.8      2.0                  Санкт-Петербург   \n",
       "201      False          11.0      NaN                  Санкт-Петербург   \n",
       "335      False          10.0      NaN                  Санкт-Петербург   \n",
       "417      False          19.4      NaN                  Санкт-Петербург   \n",
       "458      False          12.0      NaN  посёлок городского типа Лебяжье   \n",
       "464      False          21.1      0.0                  Санкт-Петербург   \n",
       "495      False          14.0      0.0                  Санкт-Петербург   \n",
       "\n",
       "     airports_nearest  cityCenters_nearest  parks_around3000  parks_nearest  \\\n",
       "35            23670.0               3502.0               0.0            NaN   \n",
       "52            16510.0               6582.0               1.0          526.0   \n",
       "106           26825.0               5527.0               1.0          384.0   \n",
       "147           19424.0               4489.0               0.0            NaN   \n",
       "201           26009.0               3369.0               2.0          516.0   \n",
       "335           26791.0               5493.0               1.0          349.0   \n",
       "417           24287.0               2835.0               0.0            NaN   \n",
       "458               NaN                  NaN               NaN            NaN   \n",
       "464           26316.0               6655.0               3.0          187.0   \n",
       "495           21773.0               2074.0               1.0          637.0   \n",
       "\n",
       "     ponds_around3000  ponds_nearest  days_exposition  \n",
       "35                1.0          779.0            644.0  \n",
       "52                0.0            NaN              NaN  \n",
       "106               0.0            NaN              6.0  \n",
       "147               1.0          806.0             75.0  \n",
       "201               0.0            NaN            992.0  \n",
       "335               0.0            NaN            106.0  \n",
       "417               3.0          257.0            104.0  \n",
       "458               NaN            NaN              NaN  \n",
       "464               1.0          616.0            578.0  \n",
       "495               1.0          145.0            702.0  "
      ]
     },
     "execution_count": 6,
     "metadata": {},
     "output_type": "execute_result"
    }
   ],
   "source": [
    "data_rooms = data[data['rooms'] > 4]\n",
    "data_rooms.head(10)"
   ]
  },
  {
   "cell_type": "markdown",
   "metadata": {},
   "source": [
    "### Предобработка данных"
   ]
  },
  {
   "cell_type": "code",
   "execution_count": 7,
   "metadata": {},
   "outputs": [
    {
     "name": "stdout",
     "output_type": "stream",
     "text": [
      "<class 'pandas.core.frame.DataFrame'>\n",
      "RangeIndex: 23699 entries, 0 to 23698\n",
      "Data columns (total 22 columns):\n",
      " #   Column                Non-Null Count  Dtype  \n",
      "---  ------                --------------  -----  \n",
      " 0   total_images          23699 non-null  int64  \n",
      " 1   last_price            23699 non-null  float64\n",
      " 2   total_area            23699 non-null  float64\n",
      " 3   first_day_exposition  23699 non-null  object \n",
      " 4   rooms                 23699 non-null  int64  \n",
      " 5   ceiling_height        23578 non-null  float64\n",
      " 6   floors_total          23699 non-null  float64\n",
      " 7   living_area           23699 non-null  float64\n",
      " 8   floor                 23699 non-null  int64  \n",
      " 9   is_apartment          23699 non-null  bool   \n",
      " 10  studio                23699 non-null  bool   \n",
      " 11  open_plan             23699 non-null  bool   \n",
      " 12  kitchen_area          23502 non-null  float64\n",
      " 13  balcony               23694 non-null  float64\n",
      " 14  locality_name         23699 non-null  object \n",
      " 15  airports_nearest      18157 non-null  float64\n",
      " 16  cityCenters_nearest   18180 non-null  float64\n",
      " 17  parks_around3000      18181 non-null  float64\n",
      " 18  parks_nearest         8079 non-null   float64\n",
      " 19  ponds_around3000      18181 non-null  float64\n",
      " 20  ponds_nearest         9110 non-null   float64\n",
      " 21  days_exposition       20518 non-null  float64\n",
      "dtypes: bool(3), float64(14), int64(3), object(2)\n",
      "memory usage: 3.5+ MB\n"
     ]
    },
    {
     "data": {
      "text/plain": [
       "parks_nearest           15620\n",
       "ponds_nearest           14589\n",
       "airports_nearest         5542\n",
       "cityCenters_nearest      5519\n",
       "ponds_around3000         5518\n",
       "parks_around3000         5518\n",
       "days_exposition          3181\n",
       "kitchen_area              197\n",
       "ceiling_height            121\n",
       "balcony                     5\n",
       "locality_name               0\n",
       "total_images                0\n",
       "last_price                  0\n",
       "studio                      0\n",
       "is_apartment                0\n",
       "floor                       0\n",
       "living_area                 0\n",
       "floors_total                0\n",
       "rooms                       0\n",
       "first_day_exposition        0\n",
       "total_area                  0\n",
       "open_plan                   0\n",
       "dtype: int64"
      ]
     },
     "execution_count": 7,
     "metadata": {},
     "output_type": "execute_result"
    }
   ],
   "source": [
    "# заменим прорпуски в столбцах, где это имеет смысл:\n",
    "\n",
    "data['is_apartment'] = data['is_apartment'].fillna(False) #булево значение\n",
    "data['locality_name'] = data['locality_name'].fillna('Unknown') #заменить название нечем,кроме категории \"неизвестен\"\n",
    "\n",
    "# пропуски в количестве балконов можно заполнить средним значением для квартир с аналоичным количеством комнат\n",
    "# не факт, что пропуск означает отсутствие балкона вообще, заменять на 0 некорректно\n",
    "\n",
    "for d in data['rooms'].unique():\n",
    "    data.loc[(data['rooms'] == d) & (data['balcony'].isna()), 'balcony'] = \\\n",
    "    data.loc[(data['rooms'] == d),'balcony'].mean()\n",
    "    \n",
    "#пропуск в названии населенног пункта заменить нечем, подставляем Unknown\n",
    "data['locality_name'] = data['locality_name'].fillna('Unknown')\n",
    "\n",
    "#для floors_total заменой может быть медиана этажности в населенном пункте\n",
    "\n",
    "for d in data['locality_name'].unique():\n",
    "    data.loc[(data['locality_name'] == d) & (data['floors_total'].isna()), 'floors_total'] = \\\n",
    "    data.loc[(data['locality_name'] == d),'floors_total'].median() \n",
    "\n",
    "# аналогично для заполнения пропусков площади кухни и общей жилой площади    \n",
    "\n",
    "for d in data['rooms'].unique():\n",
    "    data.loc[(data['rooms'] == d) & (data['kitchen_area'].isna()), 'kitchen_area'] = \\\n",
    "    data.loc[(data['rooms'] == d),'kitchen_area'].mean() \n",
    "    \n",
    "for d in data['rooms'].unique():\n",
    "    data.loc[(data['rooms'] == d) & (data['living_area'].isna()), 'living_area'] = \\\n",
    "    data.loc[(data['rooms'] == d),'living_area'].mean()\n",
    "\n",
    "# пропуски в высоте потолков логично было бы заменить на среднее среди объектов аналогичной этажности\n",
    "\n",
    "for d in data['locality_name'].unique():\n",
    "    data.loc[(data['locality_name'] == d) & (data['ceiling_height'].isna()), 'ceiling_height'] = \\\n",
    "    data.loc[(data['locality_name'] == d),'ceiling_height'].mean()     \n",
    "\n",
    "# проверим пропуски еще раз    \n",
    "data.info()\n",
    "data.isna().sum().sort_values(ascending=False)\n"
   ]
  },
  {
   "cell_type": "code",
   "execution_count": 8,
   "metadata": {},
   "outputs": [
    {
     "data": {
      "text/plain": [
       "parks_nearest           15620\n",
       "ponds_nearest           14589\n",
       "airports_nearest         5542\n",
       "cityCenters_nearest      5519\n",
       "ponds_around3000         5518\n",
       "parks_around3000         5518\n",
       "days_exposition          3181\n",
       "last_price                  0\n",
       "locality_name               0\n",
       "balcony                     0\n",
       "kitchen_area                0\n",
       "total_images                0\n",
       "studio                      0\n",
       "is_apartment                0\n",
       "floor                       0\n",
       "living_area                 0\n",
       "floors_total                0\n",
       "ceiling_height              0\n",
       "rooms                       0\n",
       "first_day_exposition        0\n",
       "total_area                  0\n",
       "open_plan                   0\n",
       "dtype: int64"
      ]
     },
     "execution_count": 8,
     "metadata": {},
     "output_type": "execute_result"
    }
   ],
   "source": [
    "#Оставшиеся 5 пропусков в balcony могут быть для числа комнат, где нет данных по балконам\n",
    "#заменим на 0. \n",
    "data['balcony'] = data['balcony'].fillna(0)\n",
    "\n",
    "#оставшуюся строку в ceiling_height можно объяснить отсутствием данных для конкретной этажности, заменим медианой.\n",
    "data['ceiling_height'] = data['ceiling_height'].fillna(data['ceiling_height'].median())\n",
    "\n",
    "#аналогично для kitchen_area              \n",
    "data['kitchen_area'] = data['kitchen_area'].fillna(data['kitchen_area'].median())\n",
    "\n",
    "# проверим пропуски еще раз    \n",
    "data.isna().sum().sort_values(ascending=False)"
   ]
  },
  {
   "cell_type": "markdown",
   "metadata": {},
   "source": [
    "<div style=\"background-color:black; color:#ffffff; text-align:left; padding:2%\">\n",
    "💬 Остались пропуски в некритичных для анализа данных: близость до парков и водоемов, до центра. \n",
    "Пропуски в days_exposition могут означать,что объявление еще активно."
   ]
  },
  {
   "cell_type": "markdown",
   "metadata": {},
   "source": [
    "<div style=\"background-color:black; color:#ffffff; text-align:left; padding:2%\">\n",
    "💬 Даты публикаций имеют формат object, что затруднит обработку данных. Переводим в формат даты методом to_datetime()\n",
    "\n",
    "Число балконов вряд ли может быть дробным, как и количество этажей, переводим в целочисленный формат методом astype().\n"
   ]
  },
  {
   "cell_type": "code",
   "execution_count": 9,
   "metadata": {},
   "outputs": [
    {
     "name": "stdout",
     "output_type": "stream",
     "text": [
      "<class 'pandas.core.frame.DataFrame'>\n",
      "RangeIndex: 23699 entries, 0 to 23698\n",
      "Data columns (total 22 columns):\n",
      " #   Column                Non-Null Count  Dtype         \n",
      "---  ------                --------------  -----         \n",
      " 0   total_images          23699 non-null  int64         \n",
      " 1   last_price            23699 non-null  float64       \n",
      " 2   total_area            23699 non-null  float64       \n",
      " 3   first_day_exposition  23699 non-null  datetime64[ns]\n",
      " 4   rooms                 23699 non-null  int64         \n",
      " 5   ceiling_height        23699 non-null  float64       \n",
      " 6   floors_total          23699 non-null  int64         \n",
      " 7   living_area           23699 non-null  float64       \n",
      " 8   floor                 23699 non-null  int64         \n",
      " 9   is_apartment          23699 non-null  bool          \n",
      " 10  studio                23699 non-null  bool          \n",
      " 11  open_plan             23699 non-null  bool          \n",
      " 12  kitchen_area          23699 non-null  float64       \n",
      " 13  balcony               23699 non-null  int64         \n",
      " 14  locality_name         23699 non-null  object        \n",
      " 15  airports_nearest      18157 non-null  float64       \n",
      " 16  cityCenters_nearest   18180 non-null  float64       \n",
      " 17  parks_around3000      18181 non-null  float64       \n",
      " 18  parks_nearest         8079 non-null   float64       \n",
      " 19  ponds_around3000      18181 non-null  float64       \n",
      " 20  ponds_nearest         9110 non-null   float64       \n",
      " 21  days_exposition       20518 non-null  float64       \n",
      "dtypes: bool(3), datetime64[ns](1), float64(12), int64(5), object(1)\n",
      "memory usage: 3.5+ MB\n"
     ]
    },
    {
     "data": {
      "text/html": [
       "<div>\n",
       "<style scoped>\n",
       "    .dataframe tbody tr th:only-of-type {\n",
       "        vertical-align: middle;\n",
       "    }\n",
       "\n",
       "    .dataframe tbody tr th {\n",
       "        vertical-align: top;\n",
       "    }\n",
       "\n",
       "    .dataframe thead th {\n",
       "        text-align: right;\n",
       "    }\n",
       "</style>\n",
       "<table border=\"1\" class=\"dataframe\">\n",
       "  <thead>\n",
       "    <tr style=\"text-align: right;\">\n",
       "      <th></th>\n",
       "      <th>total_images</th>\n",
       "      <th>last_price</th>\n",
       "      <th>total_area</th>\n",
       "      <th>first_day_exposition</th>\n",
       "      <th>rooms</th>\n",
       "      <th>ceiling_height</th>\n",
       "      <th>floors_total</th>\n",
       "      <th>living_area</th>\n",
       "      <th>floor</th>\n",
       "      <th>is_apartment</th>\n",
       "      <th>studio</th>\n",
       "      <th>open_plan</th>\n",
       "      <th>kitchen_area</th>\n",
       "      <th>balcony</th>\n",
       "      <th>locality_name</th>\n",
       "      <th>airports_nearest</th>\n",
       "      <th>cityCenters_nearest</th>\n",
       "      <th>parks_around3000</th>\n",
       "      <th>parks_nearest</th>\n",
       "      <th>ponds_around3000</th>\n",
       "      <th>ponds_nearest</th>\n",
       "      <th>days_exposition</th>\n",
       "    </tr>\n",
       "  </thead>\n",
       "  <tbody>\n",
       "    <tr>\n",
       "      <th>0</th>\n",
       "      <td>20</td>\n",
       "      <td>13000000.0</td>\n",
       "      <td>108.0</td>\n",
       "      <td>2019-03-07</td>\n",
       "      <td>3</td>\n",
       "      <td>2.700000</td>\n",
       "      <td>16</td>\n",
       "      <td>51.000000</td>\n",
       "      <td>8</td>\n",
       "      <td>False</td>\n",
       "      <td>False</td>\n",
       "      <td>False</td>\n",
       "      <td>25.00000</td>\n",
       "      <td>1</td>\n",
       "      <td>Санкт-Петербург</td>\n",
       "      <td>18863.0</td>\n",
       "      <td>16028.0</td>\n",
       "      <td>1.0</td>\n",
       "      <td>482.0</td>\n",
       "      <td>2.0</td>\n",
       "      <td>755.0</td>\n",
       "      <td>NaN</td>\n",
       "    </tr>\n",
       "    <tr>\n",
       "      <th>1</th>\n",
       "      <td>7</td>\n",
       "      <td>3350000.0</td>\n",
       "      <td>40.4</td>\n",
       "      <td>2018-12-04</td>\n",
       "      <td>1</td>\n",
       "      <td>2.644470</td>\n",
       "      <td>11</td>\n",
       "      <td>18.600000</td>\n",
       "      <td>1</td>\n",
       "      <td>False</td>\n",
       "      <td>False</td>\n",
       "      <td>False</td>\n",
       "      <td>11.00000</td>\n",
       "      <td>2</td>\n",
       "      <td>посёлок Шушары</td>\n",
       "      <td>12817.0</td>\n",
       "      <td>18603.0</td>\n",
       "      <td>0.0</td>\n",
       "      <td>NaN</td>\n",
       "      <td>0.0</td>\n",
       "      <td>NaN</td>\n",
       "      <td>81.0</td>\n",
       "    </tr>\n",
       "    <tr>\n",
       "      <th>2</th>\n",
       "      <td>10</td>\n",
       "      <td>5196000.0</td>\n",
       "      <td>56.0</td>\n",
       "      <td>2015-08-20</td>\n",
       "      <td>2</td>\n",
       "      <td>2.803709</td>\n",
       "      <td>5</td>\n",
       "      <td>34.300000</td>\n",
       "      <td>4</td>\n",
       "      <td>False</td>\n",
       "      <td>False</td>\n",
       "      <td>False</td>\n",
       "      <td>8.30000</td>\n",
       "      <td>0</td>\n",
       "      <td>Санкт-Петербург</td>\n",
       "      <td>21741.0</td>\n",
       "      <td>13933.0</td>\n",
       "      <td>1.0</td>\n",
       "      <td>90.0</td>\n",
       "      <td>2.0</td>\n",
       "      <td>574.0</td>\n",
       "      <td>558.0</td>\n",
       "    </tr>\n",
       "    <tr>\n",
       "      <th>3</th>\n",
       "      <td>0</td>\n",
       "      <td>64900000.0</td>\n",
       "      <td>159.0</td>\n",
       "      <td>2015-07-24</td>\n",
       "      <td>3</td>\n",
       "      <td>2.803709</td>\n",
       "      <td>14</td>\n",
       "      <td>47.387941</td>\n",
       "      <td>9</td>\n",
       "      <td>False</td>\n",
       "      <td>False</td>\n",
       "      <td>False</td>\n",
       "      <td>11.30858</td>\n",
       "      <td>0</td>\n",
       "      <td>Санкт-Петербург</td>\n",
       "      <td>28098.0</td>\n",
       "      <td>6800.0</td>\n",
       "      <td>2.0</td>\n",
       "      <td>84.0</td>\n",
       "      <td>3.0</td>\n",
       "      <td>234.0</td>\n",
       "      <td>424.0</td>\n",
       "    </tr>\n",
       "    <tr>\n",
       "      <th>4</th>\n",
       "      <td>2</td>\n",
       "      <td>10000000.0</td>\n",
       "      <td>100.0</td>\n",
       "      <td>2018-06-19</td>\n",
       "      <td>2</td>\n",
       "      <td>3.030000</td>\n",
       "      <td>14</td>\n",
       "      <td>32.000000</td>\n",
       "      <td>13</td>\n",
       "      <td>False</td>\n",
       "      <td>False</td>\n",
       "      <td>False</td>\n",
       "      <td>41.00000</td>\n",
       "      <td>1</td>\n",
       "      <td>Санкт-Петербург</td>\n",
       "      <td>31856.0</td>\n",
       "      <td>8098.0</td>\n",
       "      <td>2.0</td>\n",
       "      <td>112.0</td>\n",
       "      <td>1.0</td>\n",
       "      <td>48.0</td>\n",
       "      <td>121.0</td>\n",
       "    </tr>\n",
       "  </tbody>\n",
       "</table>\n",
       "</div>"
      ],
      "text/plain": [
       "   total_images  last_price  total_area first_day_exposition  rooms  \\\n",
       "0            20  13000000.0       108.0           2019-03-07      3   \n",
       "1             7   3350000.0        40.4           2018-12-04      1   \n",
       "2            10   5196000.0        56.0           2015-08-20      2   \n",
       "3             0  64900000.0       159.0           2015-07-24      3   \n",
       "4             2  10000000.0       100.0           2018-06-19      2   \n",
       "\n",
       "   ceiling_height  floors_total  living_area  floor  is_apartment  studio  \\\n",
       "0        2.700000            16    51.000000      8         False   False   \n",
       "1        2.644470            11    18.600000      1         False   False   \n",
       "2        2.803709             5    34.300000      4         False   False   \n",
       "3        2.803709            14    47.387941      9         False   False   \n",
       "4        3.030000            14    32.000000     13         False   False   \n",
       "\n",
       "   open_plan  kitchen_area  balcony    locality_name  airports_nearest  \\\n",
       "0      False      25.00000        1  Санкт-Петербург           18863.0   \n",
       "1      False      11.00000        2   посёлок Шушары           12817.0   \n",
       "2      False       8.30000        0  Санкт-Петербург           21741.0   \n",
       "3      False      11.30858        0  Санкт-Петербург           28098.0   \n",
       "4      False      41.00000        1  Санкт-Петербург           31856.0   \n",
       "\n",
       "   cityCenters_nearest  parks_around3000  parks_nearest  ponds_around3000  \\\n",
       "0              16028.0               1.0          482.0               2.0   \n",
       "1              18603.0               0.0            NaN               0.0   \n",
       "2              13933.0               1.0           90.0               2.0   \n",
       "3               6800.0               2.0           84.0               3.0   \n",
       "4               8098.0               2.0          112.0               1.0   \n",
       "\n",
       "   ponds_nearest  days_exposition  \n",
       "0          755.0              NaN  \n",
       "1            NaN             81.0  \n",
       "2          574.0            558.0  \n",
       "3          234.0            424.0  \n",
       "4           48.0            121.0  "
      ]
     },
     "execution_count": 9,
     "metadata": {},
     "output_type": "execute_result"
    }
   ],
   "source": [
    "data['first_day_exposition'] = pd.to_datetime(\n",
    "    data['first_day_exposition'], format='%Y-%m-%dT%H:%M:%S'\n",
    ")\n",
    "data['floors_total'] = data['floors_total'].astype('int')\n",
    "data['balcony'] = data['balcony'].astype('int')\n",
    "data.info()\n",
    "data.head()"
   ]
  },
  {
   "cell_type": "code",
   "execution_count": 10,
   "metadata": {},
   "outputs": [
    {
     "data": {
      "text/plain": [
       "['Unknown',\n",
       " 'Бокситогорск',\n",
       " 'Волосово',\n",
       " 'Волхов',\n",
       " 'Всеволожск',\n",
       " 'Выборг',\n",
       " 'Высоцк',\n",
       " 'Гатчина',\n",
       " 'Зеленогорск',\n",
       " 'Ивангород',\n",
       " 'Каменногорск',\n",
       " 'Кингисепп',\n",
       " 'Кириши',\n",
       " 'Кировск',\n",
       " 'Колпино',\n",
       " 'Коммунар',\n",
       " 'Красное Село',\n",
       " 'Кронштадт',\n",
       " 'Кудрово',\n",
       " 'Лодейное Поле',\n",
       " 'Ломоносов',\n",
       " 'Луга',\n",
       " 'Любань',\n",
       " 'Мурино',\n",
       " 'Никольское',\n",
       " 'Новая Ладога',\n",
       " 'Отрадное',\n",
       " 'Павловск',\n",
       " 'Петергоф',\n",
       " 'Пикалёво',\n",
       " 'Подпорожье',\n",
       " 'Приморск',\n",
       " 'Приозерск',\n",
       " 'Пушкин',\n",
       " 'Санкт-Петербург',\n",
       " 'Светогорск',\n",
       " 'Сертолово',\n",
       " 'Сестрорецк',\n",
       " 'Сланцы',\n",
       " 'Сосновый Бор',\n",
       " 'Сясьстрой',\n",
       " 'Тихвин',\n",
       " 'Тосно',\n",
       " 'Шлиссельбург',\n",
       " 'городской поселок Большая Ижора',\n",
       " 'городской поселок Янино-1',\n",
       " 'городской посёлок Будогощь',\n",
       " 'городской посёлок Виллози',\n",
       " 'городской посёлок Лесогорский',\n",
       " 'городской посёлок Мга',\n",
       " 'городской посёлок Назия',\n",
       " 'городской посёлок Новоселье',\n",
       " 'городской посёлок Павлово',\n",
       " 'городской посёлок Рощино',\n",
       " 'городской посёлок Свирьстрой',\n",
       " 'городской посёлок Советский',\n",
       " 'городской посёлок Фёдоровское',\n",
       " 'городской посёлок Янино-1',\n",
       " 'деревня Агалатово',\n",
       " 'деревня Аро',\n",
       " 'деревня Батово',\n",
       " 'деревня Бегуницы',\n",
       " 'деревня Белогорка',\n",
       " 'деревня Большая Вруда',\n",
       " 'деревня Большая Пустомержа',\n",
       " 'деревня Большие Колпаны',\n",
       " 'деревня Большое Рейзино',\n",
       " 'деревня Большой Сабск',\n",
       " 'деревня Бор',\n",
       " 'деревня Борисова Грива',\n",
       " 'деревня Ваганово',\n",
       " 'деревня Вартемяги',\n",
       " 'деревня Вахнова Кара',\n",
       " 'деревня Выскатка',\n",
       " 'деревня Гарболово',\n",
       " 'деревня Глинка',\n",
       " 'деревня Горбунки',\n",
       " 'деревня Гостилицы',\n",
       " 'деревня Заклинье',\n",
       " 'деревня Заневка',\n",
       " 'деревня Зимитицы',\n",
       " 'деревня Извара',\n",
       " 'деревня Иссад',\n",
       " 'деревня Калитино',\n",
       " 'деревня Кальтино',\n",
       " 'деревня Камышовка',\n",
       " 'деревня Каськово',\n",
       " 'деревня Келози',\n",
       " 'деревня Кипень',\n",
       " 'деревня Кисельня',\n",
       " 'деревня Колтуши',\n",
       " 'деревня Коркино',\n",
       " 'деревня Котлы',\n",
       " 'деревня Кривко',\n",
       " 'деревня Кудрово',\n",
       " 'деревня Кузьмолово',\n",
       " 'деревня Курковицы',\n",
       " 'деревня Куровицы',\n",
       " 'деревня Куттузи',\n",
       " 'деревня Лаврики',\n",
       " 'деревня Лаголово',\n",
       " 'деревня Лампово',\n",
       " 'деревня Лесколово',\n",
       " 'деревня Лопухинка',\n",
       " 'деревня Лупполово',\n",
       " 'деревня Малая Романовка',\n",
       " 'деревня Малое Верево',\n",
       " 'деревня Малое Карлино',\n",
       " 'деревня Малые Колпаны',\n",
       " 'деревня Мануйлово',\n",
       " 'деревня Меньково',\n",
       " 'деревня Мины',\n",
       " 'деревня Мистолово',\n",
       " 'деревня Ненимяки',\n",
       " 'деревня Нижние Осельки',\n",
       " 'деревня Нижняя',\n",
       " 'деревня Низино',\n",
       " 'деревня Новое Девяткино',\n",
       " 'деревня Новолисино',\n",
       " 'деревня Нурма',\n",
       " 'деревня Оржицы',\n",
       " 'деревня Парицы',\n",
       " 'деревня Пельгора',\n",
       " 'деревня Пеники',\n",
       " 'деревня Пижма',\n",
       " 'деревня Пикколово',\n",
       " 'деревня Пудомяги',\n",
       " 'деревня Пустынка',\n",
       " 'деревня Пчева',\n",
       " 'деревня Рабитицы',\n",
       " 'деревня Разбегаево',\n",
       " 'деревня Раздолье',\n",
       " 'деревня Разметелево',\n",
       " 'деревня Рапполово',\n",
       " 'деревня Реброво',\n",
       " 'деревня Русско',\n",
       " 'деревня Сижно',\n",
       " 'деревня Снегирёвка',\n",
       " 'деревня Старая',\n",
       " 'деревня Старая Пустошь',\n",
       " 'деревня Старое Хинколово',\n",
       " 'деревня Старополье',\n",
       " 'деревня Старосиверская',\n",
       " 'деревня Старые Бегуницы',\n",
       " 'деревня Суоранда',\n",
       " 'деревня Сяськелево',\n",
       " 'деревня Тарасово',\n",
       " 'деревня Терпилицы',\n",
       " 'деревня Тихковицы',\n",
       " 'деревня Тойворово',\n",
       " 'деревня Торосово',\n",
       " 'деревня Торошковичи',\n",
       " 'деревня Трубников Бор',\n",
       " 'деревня Фалилеево',\n",
       " 'деревня Фёдоровское',\n",
       " 'деревня Хапо-Ое',\n",
       " 'деревня Хязельки',\n",
       " 'деревня Чудской Бор',\n",
       " 'деревня Шпаньково',\n",
       " 'деревня Щеглово',\n",
       " 'деревня Юкки',\n",
       " 'деревня Ялгино',\n",
       " 'деревня Яльгелево',\n",
       " 'деревня Ям-Тесово',\n",
       " 'коттеджный поселок Кивеннапа Север',\n",
       " 'коттеджный поселок Счастье',\n",
       " 'коттеджный посёлок Лесное',\n",
       " 'поселок Аннино',\n",
       " 'поселок Барышево',\n",
       " 'поселок Бугры',\n",
       " 'поселок Возрождение',\n",
       " 'поселок Войсковицы',\n",
       " 'поселок Володарское',\n",
       " 'поселок Гаврилово',\n",
       " 'поселок Гарболово',\n",
       " 'поселок Гладкое',\n",
       " 'поселок Глажево',\n",
       " 'поселок Глебычево',\n",
       " 'поселок Гончарово',\n",
       " 'поселок Громово',\n",
       " 'поселок Дружноселье',\n",
       " 'поселок Елизаветино',\n",
       " 'поселок Жилгородок',\n",
       " 'поселок Жилпосёлок',\n",
       " 'поселок Житково',\n",
       " 'поселок Заводской',\n",
       " 'поселок Запорожское',\n",
       " 'поселок Зимитицы',\n",
       " 'поселок Ильичёво',\n",
       " 'поселок Калитино',\n",
       " 'поселок Каложицы',\n",
       " 'поселок Кингисеппский',\n",
       " 'поселок Кирпичное',\n",
       " 'поселок Кобралово',\n",
       " 'поселок Кобринское',\n",
       " 'поселок Коммунары',\n",
       " 'поселок Коробицыно',\n",
       " 'поселок Котельский',\n",
       " 'поселок Красная Долина',\n",
       " 'поселок Красносельское',\n",
       " 'поселок Лесное',\n",
       " 'поселок Лисий Нос',\n",
       " 'поселок Лукаши',\n",
       " 'поселок Любань',\n",
       " 'поселок Мельниково',\n",
       " 'поселок Мичуринское',\n",
       " 'поселок Молодцово',\n",
       " 'поселок Мурино',\n",
       " 'поселок Новый Свет',\n",
       " 'поселок Новый Учхоз',\n",
       " 'поселок Оредеж',\n",
       " 'поселок Пансионат Зелёный Бор',\n",
       " 'поселок Первомайское',\n",
       " 'поселок Перово',\n",
       " 'поселок Петровское',\n",
       " 'поселок Победа',\n",
       " 'поселок Поляны',\n",
       " 'поселок Почап',\n",
       " 'поселок Починок',\n",
       " 'поселок Пушное',\n",
       " 'поселок Пчевжа',\n",
       " 'поселок Рабитицы',\n",
       " 'поселок Романовка',\n",
       " 'поселок Ромашки',\n",
       " 'поселок Рябово',\n",
       " 'поселок Севастьяново',\n",
       " 'поселок Селезнёво',\n",
       " 'поселок Сельцо',\n",
       " 'поселок Семиозерье',\n",
       " 'поселок Семрино',\n",
       " 'поселок Серебрянский',\n",
       " 'поселок Совхозный',\n",
       " 'поселок Старая Малукса',\n",
       " 'поселок Стеклянный',\n",
       " 'поселок Сумино',\n",
       " 'поселок Суходолье',\n",
       " 'поселок Тельмана',\n",
       " 'поселок Терволово',\n",
       " 'поселок Торковичи',\n",
       " 'поселок Тёсово-4',\n",
       " 'поселок Углово',\n",
       " 'поселок Усть-Луга',\n",
       " 'поселок Ушаки',\n",
       " 'поселок Цвелодубово',\n",
       " 'поселок Цвылёво',\n",
       " 'поселок городского типа Большая Ижора',\n",
       " 'поселок городского типа Вырица',\n",
       " 'поселок городского типа Дружная Горка',\n",
       " 'поселок городского типа Дубровка',\n",
       " 'поселок городского типа Ефимовский',\n",
       " 'поселок городского типа Кондратьево',\n",
       " 'поселок городского типа Красный Бор',\n",
       " 'поселок городского типа Кузьмоловский',\n",
       " 'поселок городского типа Лебяжье',\n",
       " 'поселок городского типа Лесогорский',\n",
       " 'поселок городского типа Назия',\n",
       " 'поселок городского типа Никольский',\n",
       " 'поселок городского типа Приладожский',\n",
       " 'поселок городского типа Рахья',\n",
       " 'поселок городского типа Рощино',\n",
       " 'поселок городского типа Рябово',\n",
       " 'поселок городского типа Синявино',\n",
       " 'поселок городского типа Советский',\n",
       " 'поселок городского типа Токсово',\n",
       " 'поселок городского типа Форносово',\n",
       " 'поселок городского типа имени Свердлова',\n",
       " 'поселок станции Вещево',\n",
       " 'поселок станции Корнево',\n",
       " 'поселок станции Лужайка',\n",
       " 'поселок станции Приветнинское',\n",
       " 'посёлок Александровская',\n",
       " 'посёлок Алексеевка',\n",
       " 'посёлок Аннино',\n",
       " 'посёлок Белоостров',\n",
       " 'посёлок Бугры',\n",
       " 'посёлок Возрождение',\n",
       " 'посёлок Войскорово',\n",
       " 'посёлок Высокоключевой',\n",
       " 'посёлок Гаврилово',\n",
       " 'посёлок Дзержинского',\n",
       " 'посёлок Жилгородок',\n",
       " 'посёлок Ильичёво',\n",
       " 'посёлок Кикерино',\n",
       " 'посёлок Кобралово',\n",
       " 'посёлок Коробицыно',\n",
       " 'посёлок Левашово',\n",
       " 'посёлок Ленинское',\n",
       " 'посёлок Лисий Нос',\n",
       " 'посёлок Мельниково',\n",
       " 'посёлок Металлострой',\n",
       " 'посёлок Мичуринское',\n",
       " 'посёлок Молодёжное',\n",
       " 'посёлок Мурино',\n",
       " 'посёлок Мыза-Ивановка',\n",
       " 'посёлок Новогорелово',\n",
       " 'посёлок Новый Свет',\n",
       " 'посёлок Пансионат Зелёный Бор',\n",
       " 'посёлок Парголово',\n",
       " 'посёлок Перово',\n",
       " 'посёлок Песочный',\n",
       " 'посёлок Петро-Славянка',\n",
       " 'посёлок Петровское',\n",
       " 'посёлок Платформа 69-й километр',\n",
       " 'посёлок Плодовое',\n",
       " 'посёлок Плоское',\n",
       " 'посёлок Победа',\n",
       " 'посёлок Поляны',\n",
       " 'посёлок Понтонный',\n",
       " 'посёлок Пригородный',\n",
       " 'посёлок Пудость',\n",
       " 'посёлок Репино',\n",
       " 'посёлок Ропша',\n",
       " 'посёлок Сапёрное',\n",
       " 'посёлок Сапёрный',\n",
       " 'посёлок Сосново',\n",
       " 'посёлок Старая Малукса',\n",
       " 'посёлок Стеклянный',\n",
       " 'посёлок Стрельна',\n",
       " 'посёлок Суйда',\n",
       " 'посёлок Сумино',\n",
       " 'посёлок Тельмана',\n",
       " 'посёлок Терволово',\n",
       " 'посёлок Торфяное',\n",
       " 'посёлок Усть-Ижора',\n",
       " 'посёлок Усть-Луга',\n",
       " 'посёлок Форт Красная Горка',\n",
       " 'посёлок Шугозеро',\n",
       " 'посёлок Шушары',\n",
       " 'посёлок Щеглово',\n",
       " 'посёлок городского типа Важины',\n",
       " 'посёлок городского типа Вознесенье',\n",
       " 'посёлок городского типа Вырица',\n",
       " 'посёлок городского типа Красный Бор',\n",
       " 'посёлок городского типа Кузнечное',\n",
       " 'посёлок городского типа Кузьмоловский',\n",
       " 'посёлок городского типа Лебяжье',\n",
       " 'посёлок городского типа Мга',\n",
       " 'посёлок городского типа Павлово',\n",
       " 'посёлок городского типа Рощино',\n",
       " 'посёлок городского типа Рябово',\n",
       " 'посёлок городского типа Сиверский',\n",
       " 'посёлок городского типа Тайцы',\n",
       " 'посёлок городского типа Токсово',\n",
       " 'посёлок городского типа Ульяновка',\n",
       " 'посёлок городского типа Форносово',\n",
       " 'посёлок городского типа имени Морозова',\n",
       " 'посёлок городского типа имени Свердлова',\n",
       " 'посёлок при железнодорожной станции Вещево',\n",
       " 'посёлок при железнодорожной станции Приветнинское',\n",
       " 'посёлок станции Громово',\n",
       " 'посёлок станции Свирь',\n",
       " 'садоводческое некоммерческое товарищество Лесная Поляна',\n",
       " 'садовое товарищество Новая Ропша',\n",
       " 'садовое товарищество Приладожский',\n",
       " 'садовое товарищество Рахья',\n",
       " 'садовое товарищество Садко',\n",
       " 'село Копорье',\n",
       " 'село Никольское',\n",
       " 'село Павлово',\n",
       " 'село Паша',\n",
       " 'село Путилово',\n",
       " 'село Рождествено',\n",
       " 'село Русско-Высоцкое',\n",
       " 'село Старая Ладога',\n",
       " 'село Шум']"
      ]
     },
     "execution_count": 10,
     "metadata": {},
     "output_type": "execute_result"
    }
   ],
   "source": [
    "#удалим неявные дубликаты в locality_name\n",
    "#выведем на экран отсортированные уникальные значения столбца\n",
    "\n",
    "sorted(data['locality_name'].unique())\n"
   ]
  },
  {
   "cell_type": "code",
   "execution_count": 11,
   "metadata": {},
   "outputs": [
    {
     "name": "stdout",
     "output_type": "stream",
     "text": [
      "   total_images  last_price  total_area first_day_exposition  rooms  \\\n",
      "0            20  13000000.0       108.0           2019-03-07      3   \n",
      "1             7   3350000.0        40.4           2018-12-04      1   \n",
      "2            10   5196000.0        56.0           2015-08-20      2   \n",
      "3             0  64900000.0       159.0           2015-07-24      3   \n",
      "4             2  10000000.0       100.0           2018-06-19      2   \n",
      "\n",
      "   ceiling_height  floors_total  living_area  floor  is_apartment  studio  \\\n",
      "0        2.700000            16    51.000000      8         False   False   \n",
      "1        2.644470            11    18.600000      1         False   False   \n",
      "2        2.803709             5    34.300000      4         False   False   \n",
      "3        2.803709            14    47.387941      9         False   False   \n",
      "4        3.030000            14    32.000000     13         False   False   \n",
      "\n",
      "   open_plan  kitchen_area  balcony    locality_name  airports_nearest  \\\n",
      "0      False      25.00000        1  Санкт-Петербург           18863.0   \n",
      "1      False      11.00000        2   поселок Шушары           12817.0   \n",
      "2      False       8.30000        0  Санкт-Петербург           21741.0   \n",
      "3      False      11.30858        0  Санкт-Петербург           28098.0   \n",
      "4      False      41.00000        1  Санкт-Петербург           31856.0   \n",
      "\n",
      "   cityCenters_nearest  parks_around3000  parks_nearest  ponds_around3000  \\\n",
      "0              16028.0               1.0          482.0               2.0   \n",
      "1              18603.0               0.0            NaN               0.0   \n",
      "2              13933.0               1.0           90.0               2.0   \n",
      "3               6800.0               2.0           84.0               3.0   \n",
      "4               8098.0               2.0          112.0               1.0   \n",
      "\n",
      "   ponds_nearest  days_exposition  \n",
      "0          755.0              NaN  \n",
      "1            NaN             81.0  \n",
      "2          574.0            558.0  \n",
      "3          234.0            424.0  \n",
      "4           48.0            121.0  \n"
     ]
    }
   ],
   "source": [
    "#для замены дубликатов достаточно привести к единому написанию тип поселений\n",
    "\n",
    "duplicates = ['поселок городского типа', 'посёлок городского типа', 'городской поселок', 'посёлок'] \n",
    "name = 'поселок'\n",
    "for el in duplicates:\n",
    "    data['locality_name'] = data['locality_name'].str.replace(el, name)\n",
    "\n",
    "print(data.head())"
   ]
  },
  {
   "cell_type": "code",
   "execution_count": 12,
   "metadata": {},
   "outputs": [
    {
     "data": {
      "text/html": [
       "<div>\n",
       "<style scoped>\n",
       "    .dataframe tbody tr th:only-of-type {\n",
       "        vertical-align: middle;\n",
       "    }\n",
       "\n",
       "    .dataframe tbody tr th {\n",
       "        vertical-align: top;\n",
       "    }\n",
       "\n",
       "    .dataframe thead th {\n",
       "        text-align: right;\n",
       "    }\n",
       "</style>\n",
       "<table border=\"1\" class=\"dataframe\">\n",
       "  <thead>\n",
       "    <tr style=\"text-align: right;\">\n",
       "      <th></th>\n",
       "      <th>total_images</th>\n",
       "      <th>last_price</th>\n",
       "      <th>total_area</th>\n",
       "      <th>rooms</th>\n",
       "      <th>ceiling_height</th>\n",
       "      <th>floors_total</th>\n",
       "      <th>living_area</th>\n",
       "      <th>floor</th>\n",
       "      <th>kitchen_area</th>\n",
       "      <th>balcony</th>\n",
       "      <th>airports_nearest</th>\n",
       "      <th>cityCenters_nearest</th>\n",
       "      <th>parks_around3000</th>\n",
       "      <th>parks_nearest</th>\n",
       "      <th>ponds_around3000</th>\n",
       "      <th>ponds_nearest</th>\n",
       "      <th>days_exposition</th>\n",
       "    </tr>\n",
       "  </thead>\n",
       "  <tbody>\n",
       "    <tr>\n",
       "      <th>count</th>\n",
       "      <td>23699.000000</td>\n",
       "      <td>2.369900e+04</td>\n",
       "      <td>23699.000000</td>\n",
       "      <td>23699.000000</td>\n",
       "      <td>23699.000000</td>\n",
       "      <td>23699.000000</td>\n",
       "      <td>23699.000000</td>\n",
       "      <td>23699.000000</td>\n",
       "      <td>23699.000000</td>\n",
       "      <td>23699.000000</td>\n",
       "      <td>18157.000000</td>\n",
       "      <td>18180.000000</td>\n",
       "      <td>18181.000000</td>\n",
       "      <td>8079.000000</td>\n",
       "      <td>18181.000000</td>\n",
       "      <td>9110.000000</td>\n",
       "      <td>20518.000000</td>\n",
       "    </tr>\n",
       "    <tr>\n",
       "      <th>mean</th>\n",
       "      <td>9.858475</td>\n",
       "      <td>6.541549e+06</td>\n",
       "      <td>60.348651</td>\n",
       "      <td>2.070636</td>\n",
       "      <td>2.771479</td>\n",
       "      <td>10.670028</td>\n",
       "      <td>34.441157</td>\n",
       "      <td>5.892358</td>\n",
       "      <td>10.558439</td>\n",
       "      <td>1.064180</td>\n",
       "      <td>28793.672193</td>\n",
       "      <td>14191.277833</td>\n",
       "      <td>0.611408</td>\n",
       "      <td>490.804555</td>\n",
       "      <td>0.770255</td>\n",
       "      <td>517.980900</td>\n",
       "      <td>180.888634</td>\n",
       "    </tr>\n",
       "    <tr>\n",
       "      <th>std</th>\n",
       "      <td>5.682529</td>\n",
       "      <td>1.088701e+07</td>\n",
       "      <td>35.654083</td>\n",
       "      <td>1.078405</td>\n",
       "      <td>1.009358</td>\n",
       "      <td>6.587831</td>\n",
       "      <td>21.802121</td>\n",
       "      <td>4.885249</td>\n",
       "      <td>5.642888</td>\n",
       "      <td>0.781176</td>\n",
       "      <td>12630.880622</td>\n",
       "      <td>8608.386210</td>\n",
       "      <td>0.802074</td>\n",
       "      <td>342.317995</td>\n",
       "      <td>0.938346</td>\n",
       "      <td>277.720643</td>\n",
       "      <td>219.727988</td>\n",
       "    </tr>\n",
       "    <tr>\n",
       "      <th>min</th>\n",
       "      <td>0.000000</td>\n",
       "      <td>1.219000e+04</td>\n",
       "      <td>12.000000</td>\n",
       "      <td>0.000000</td>\n",
       "      <td>1.000000</td>\n",
       "      <td>1.000000</td>\n",
       "      <td>2.000000</td>\n",
       "      <td>1.000000</td>\n",
       "      <td>1.300000</td>\n",
       "      <td>0.000000</td>\n",
       "      <td>0.000000</td>\n",
       "      <td>181.000000</td>\n",
       "      <td>0.000000</td>\n",
       "      <td>1.000000</td>\n",
       "      <td>0.000000</td>\n",
       "      <td>13.000000</td>\n",
       "      <td>1.000000</td>\n",
       "    </tr>\n",
       "    <tr>\n",
       "      <th>25%</th>\n",
       "      <td>6.000000</td>\n",
       "      <td>3.400000e+06</td>\n",
       "      <td>40.000000</td>\n",
       "      <td>1.000000</td>\n",
       "      <td>2.600000</td>\n",
       "      <td>5.000000</td>\n",
       "      <td>18.400000</td>\n",
       "      <td>2.000000</td>\n",
       "      <td>7.400000</td>\n",
       "      <td>1.000000</td>\n",
       "      <td>18585.000000</td>\n",
       "      <td>9238.000000</td>\n",
       "      <td>0.000000</td>\n",
       "      <td>288.000000</td>\n",
       "      <td>0.000000</td>\n",
       "      <td>294.000000</td>\n",
       "      <td>45.000000</td>\n",
       "    </tr>\n",
       "    <tr>\n",
       "      <th>50%</th>\n",
       "      <td>9.000000</td>\n",
       "      <td>4.650000e+06</td>\n",
       "      <td>52.000000</td>\n",
       "      <td>2.000000</td>\n",
       "      <td>2.724262</td>\n",
       "      <td>9.000000</td>\n",
       "      <td>30.300000</td>\n",
       "      <td>4.000000</td>\n",
       "      <td>9.550118</td>\n",
       "      <td>1.000000</td>\n",
       "      <td>26726.000000</td>\n",
       "      <td>13098.500000</td>\n",
       "      <td>0.000000</td>\n",
       "      <td>455.000000</td>\n",
       "      <td>1.000000</td>\n",
       "      <td>502.000000</td>\n",
       "      <td>95.000000</td>\n",
       "    </tr>\n",
       "    <tr>\n",
       "      <th>75%</th>\n",
       "      <td>14.000000</td>\n",
       "      <td>6.800000e+06</td>\n",
       "      <td>69.900000</td>\n",
       "      <td>3.000000</td>\n",
       "      <td>2.803709</td>\n",
       "      <td>16.000000</td>\n",
       "      <td>42.700000</td>\n",
       "      <td>8.000000</td>\n",
       "      <td>11.600000</td>\n",
       "      <td>1.000000</td>\n",
       "      <td>37273.000000</td>\n",
       "      <td>16293.000000</td>\n",
       "      <td>1.000000</td>\n",
       "      <td>612.000000</td>\n",
       "      <td>1.000000</td>\n",
       "      <td>729.000000</td>\n",
       "      <td>232.000000</td>\n",
       "    </tr>\n",
       "    <tr>\n",
       "      <th>max</th>\n",
       "      <td>50.000000</td>\n",
       "      <td>7.630000e+08</td>\n",
       "      <td>900.000000</td>\n",
       "      <td>19.000000</td>\n",
       "      <td>100.000000</td>\n",
       "      <td>60.000000</td>\n",
       "      <td>409.700000</td>\n",
       "      <td>33.000000</td>\n",
       "      <td>112.000000</td>\n",
       "      <td>5.000000</td>\n",
       "      <td>84869.000000</td>\n",
       "      <td>65968.000000</td>\n",
       "      <td>3.000000</td>\n",
       "      <td>3190.000000</td>\n",
       "      <td>3.000000</td>\n",
       "      <td>1344.000000</td>\n",
       "      <td>1580.000000</td>\n",
       "    </tr>\n",
       "  </tbody>\n",
       "</table>\n",
       "</div>"
      ],
      "text/plain": [
       "       total_images    last_price    total_area         rooms  ceiling_height  \\\n",
       "count  23699.000000  2.369900e+04  23699.000000  23699.000000    23699.000000   \n",
       "mean       9.858475  6.541549e+06     60.348651      2.070636        2.771479   \n",
       "std        5.682529  1.088701e+07     35.654083      1.078405        1.009358   \n",
       "min        0.000000  1.219000e+04     12.000000      0.000000        1.000000   \n",
       "25%        6.000000  3.400000e+06     40.000000      1.000000        2.600000   \n",
       "50%        9.000000  4.650000e+06     52.000000      2.000000        2.724262   \n",
       "75%       14.000000  6.800000e+06     69.900000      3.000000        2.803709   \n",
       "max       50.000000  7.630000e+08    900.000000     19.000000      100.000000   \n",
       "\n",
       "       floors_total   living_area         floor  kitchen_area       balcony  \\\n",
       "count  23699.000000  23699.000000  23699.000000  23699.000000  23699.000000   \n",
       "mean      10.670028     34.441157      5.892358     10.558439      1.064180   \n",
       "std        6.587831     21.802121      4.885249      5.642888      0.781176   \n",
       "min        1.000000      2.000000      1.000000      1.300000      0.000000   \n",
       "25%        5.000000     18.400000      2.000000      7.400000      1.000000   \n",
       "50%        9.000000     30.300000      4.000000      9.550118      1.000000   \n",
       "75%       16.000000     42.700000      8.000000     11.600000      1.000000   \n",
       "max       60.000000    409.700000     33.000000    112.000000      5.000000   \n",
       "\n",
       "       airports_nearest  cityCenters_nearest  parks_around3000  parks_nearest  \\\n",
       "count      18157.000000         18180.000000      18181.000000    8079.000000   \n",
       "mean       28793.672193         14191.277833          0.611408     490.804555   \n",
       "std        12630.880622          8608.386210          0.802074     342.317995   \n",
       "min            0.000000           181.000000          0.000000       1.000000   \n",
       "25%        18585.000000          9238.000000          0.000000     288.000000   \n",
       "50%        26726.000000         13098.500000          0.000000     455.000000   \n",
       "75%        37273.000000         16293.000000          1.000000     612.000000   \n",
       "max        84869.000000         65968.000000          3.000000    3190.000000   \n",
       "\n",
       "       ponds_around3000  ponds_nearest  days_exposition  \n",
       "count      18181.000000    9110.000000     20518.000000  \n",
       "mean           0.770255     517.980900       180.888634  \n",
       "std            0.938346     277.720643       219.727988  \n",
       "min            0.000000      13.000000         1.000000  \n",
       "25%            0.000000     294.000000        45.000000  \n",
       "50%            1.000000     502.000000        95.000000  \n",
       "75%            1.000000     729.000000       232.000000  \n",
       "max            3.000000    1344.000000      1580.000000  "
      ]
     },
     "execution_count": 12,
     "metadata": {},
     "output_type": "execute_result"
    }
   ],
   "source": [
    "#рассмотрим аномалии и выбросы в данных\n",
    "#выведем основные показатели по столбцам\n",
    "\n",
    "data.describe()"
   ]
  },
  {
   "cell_type": "code",
   "execution_count": 13,
   "metadata": {},
   "outputs": [
    {
     "data": {
      "text/plain": [
       "<AxesSubplot:>"
      ]
     },
     "execution_count": 13,
     "metadata": {},
     "output_type": "execute_result"
    },
    {
     "data": {
      "image/png": "[encoded data removed]",
      "text/plain": [
       "<Figure size 432x288 with 1 Axes>"
      ]
     },
     "metadata": {
      "needs_background": "light"
     },
     "output_type": "display_data"
    }
   ],
   "source": [
    "#рассмотрим диаграммы размаха для столбцов total_area, rooms, ceiling_height, living_area, kitchen_area, days_exposition\n",
    "\n",
    "data.boxplot('total_area')"
   ]
  },
  {
   "cell_type": "code",
   "execution_count": 14,
   "metadata": {},
   "outputs": [
    {
     "data": {
      "text/plain": [
       "<AxesSubplot:>"
      ]
     },
     "execution_count": 14,
     "metadata": {},
     "output_type": "execute_result"
    },
    {
     "data": {
      "image/png": "[encoded data removed]",
      "text/plain": [
       "<Figure size 432x288 with 1 Axes>"
      ]
     },
     "metadata": {
      "needs_background": "light"
     },
     "output_type": "display_data"
    }
   ],
   "source": [
    "data.boxplot('rooms') "
   ]
  },
  {
   "cell_type": "code",
   "execution_count": 15,
   "metadata": {},
   "outputs": [
    {
     "data": {
      "text/plain": [
       "<AxesSubplot:>"
      ]
     },
     "execution_count": 15,
     "metadata": {},
     "output_type": "execute_result"
    },
    {
     "data": {
      "image/png": "[encoded data removed]",
      "text/plain": [
       "<Figure size 432x288 with 1 Axes>"
      ]
     },
     "metadata": {
      "needs_background": "light"
     },
     "output_type": "display_data"
    }
   ],
   "source": [
    "data.boxplot('ceiling_height')"
   ]
  },
  {
   "cell_type": "code",
   "execution_count": 16,
   "metadata": {},
   "outputs": [
    {
     "data": {
      "text/plain": [
       "<AxesSubplot:>"
      ]
     },
     "execution_count": 16,
     "metadata": {},
     "output_type": "execute_result"
    },
    {
     "data": {
      "image/png": "[encoded data removed]",
      "text/plain": [
       "<Figure size 432x288 with 1 Axes>"
      ]
     },
     "metadata": {
      "needs_background": "light"
     },
     "output_type": "display_data"
    }
   ],
   "source": [
    "data.boxplot('living_area') "
   ]
  },
  {
   "cell_type": "code",
   "execution_count": 17,
   "metadata": {},
   "outputs": [
    {
     "data": {
      "text/plain": [
       "<AxesSubplot:>"
      ]
     },
     "execution_count": 17,
     "metadata": {},
     "output_type": "execute_result"
    },
    {
     "data": {
      "image/png": "[encoded data removed]",
      "text/plain": [
       "<Figure size 432x288 with 1 Axes>"
      ]
     },
     "metadata": {
      "needs_background": "light"
     },
     "output_type": "display_data"
    }
   ],
   "source": [
    "data.boxplot('kitchen_area') "
   ]
  },
  {
   "cell_type": "code",
   "execution_count": 18,
   "metadata": {},
   "outputs": [
    {
     "data": {
      "text/plain": [
       "<AxesSubplot:>"
      ]
     },
     "execution_count": 18,
     "metadata": {},
     "output_type": "execute_result"
    },
    {
     "data": {
      "image/png": "[encoded data removed]",
      "text/plain": [
       "<Figure size 432x288 with 1 Axes>"
      ]
     },
     "metadata": {
      "needs_background": "light"
     },
     "output_type": "display_data"
    }
   ],
   "source": [
    "data.boxplot('days_exposition') "
   ]
  },
  {
   "cell_type": "code",
   "execution_count": 19,
   "metadata": {},
   "outputs": [
    {
     "data": {
      "text/plain": [
       "<AxesSubplot:>"
      ]
     },
     "execution_count": 19,
     "metadata": {},
     "output_type": "execute_result"
    },
    {
     "data": {
      "image/png": "[encoded data removed]",
      "text/plain": [
       "<Figure size 432x288 with 1 Axes>"
      ]
     },
     "metadata": {
      "needs_background": "light"
     },
     "output_type": "display_data"
    }
   ],
   "source": [
    "data.boxplot('last_price') "
   ]
  },
  {
   "cell_type": "markdown",
   "metadata": {},
   "source": [
    "<div style=\"background-color:black; color:#ffffff; text-align:left; padding:2%\">\n",
    "💬 Видны аномалии и выбросы в столбцах.\n",
    "По данным гистограмм, диаграмм размаха и таблицы describe можно сделать выводы:\n",
    "    \n",
    "- в столбце total_area,living_area, kitchen_area можно ограничить данные максимальными значениями до 250 кв м, 175 кв м и 40 кв м. \n",
    "- в столбце rooms можно ограничить данные максимальными значениями до 10 комнат\n",
    "- в last_price тоже есть выбросы: цены выше 30 млн лучше отбросить\n",
    "- в данных столбца ceiling_height явная ошибка данных и аномальные значения стоит заменить корректными данными"
   ]
  },
  {
   "cell_type": "code",
   "execution_count": 31,
   "metadata": {},
   "outputs": [],
   "source": [
    "#для начала разберемся что там с потолками))\n",
    "ceiling = data['ceiling_height'].sort_values(ascending=False).unique()\n",
    "#допустим, что в значениях 27,5, 32 и 100 кто-то пропустил запятую.\n",
    "#Но потолки в 1, 14 и 20 метров выглядят также неубедительно, и запятая здесь не поможет. Попробуем отбросить лишние данные."
   ]
  },
  {
   "cell_type": "code",
   "execution_count": 22,
   "metadata": {},
   "outputs": [
    {
     "data": {
      "text/plain": [
       "(0.0, 10.0)"
      ]
     },
     "execution_count": 22,
     "metadata": {},
     "output_type": "execute_result"
    },
    {
     "data": {
      "image/png": "[encoded data removed]",
      "text/plain": [
       "<Figure size 432x288 with 1 Axes>"
      ]
     },
     "metadata": {
      "needs_background": "light"
     },
     "output_type": "display_data"
    }
   ],
   "source": [
    "#ограничим масштаб диаграммы рзброса значением 10\n",
    "\n",
    "import matplotlib.pyplot as plt \n",
    "data.boxplot('ceiling_height')\n",
    "plt.ylim(0, 10)\n"
   ]
  },
  {
   "cell_type": "code",
   "execution_count": null,
   "metadata": {},
   "outputs": [],
   "source": [
    "#оставим реалистичные данные с учетом данных диаграммы разброса\n",
    "data_filtered_ceiling = data[(data['ceiling_height'] >= 1.75)\\\n",
    "                     & (data['ceiling_height'] < 5)]\n",
    "\n",
    "#посмотрим, много ли данных отфильтровано\n",
    "data.shape[0]/data_filtered_ceiling.shape[0] # 0,2% выглядит небольшой потерей"
   ]
  },
  {
   "cell_type": "code",
   "execution_count": null,
   "metadata": {},
   "outputs": [],
   "source": [
    "#Разберемся с ценой. Выбросы можно отфильтровать, т к заменить их будет неверно:\n",
    "#получим изначально дорогие квартиры по заниженной цене и наоборот\n",
    "\n",
    "sorted(data['last_price'].unique()) #жилплощадь за 12190.0 вероятно хотели сдать в аренду, но разместили не в том разделе.\n",
    "#отбросим это значение при фильтрации\n"
   ]
  },
  {
   "cell_type": "code",
   "execution_count": null,
   "metadata": {},
   "outputs": [],
   "source": [
    "#ограничим диаграмму размаха значениями от 400 000 до 50 000 000\n",
    " \n",
    "data.boxplot('last_price')\n",
    "plt.ylim(400000, 50000000)"
   ]
  },
  {
   "cell_type": "code",
   "execution_count": null,
   "metadata": {},
   "outputs": [],
   "source": [
    "#отфильтруем данные с учетом данных диаграммы размаха\n",
    "data_filtered_price = data_filtered_ceiling[(data_filtered_ceiling['last_price'] >= 400000)\\\n",
    "                     & (data_filtered_ceiling['last_price'] < 30000000)]\n",
    "\n",
    "#посмотрим, много ли данных отфильтровали\n",
    "data.shape[0]/data_filtered_price.shape[0] # 1,56%"
   ]
  },
  {
   "cell_type": "code",
   "execution_count": null,
   "metadata": {},
   "outputs": [],
   "source": [
    "#далее отфильтруем выбросы по количеству комнат и площадям\n",
    "data_final = data_filtered_price[(data_filtered_price['rooms'] <= 10)\\\n",
    "                                          & (data_filtered_price['total_area'] < 250)\\\n",
    "                                          & (data_filtered_price['living_area'] < 175)\\\n",
    "                                          & (data_filtered_price['kitchen_area'] < 40)]\\\n",
    "\n",
    "data_final = data_final.reset_index() #убираем привязку нового датафрейма к предыдущему                                         \n",
    "\n",
    "#посмотрим, много ли данных отфильтровали\n",
    "data.shape[0]/data_final.shape[0] # 2,97%"
   ]
  },
  {
   "cell_type": "markdown",
   "metadata": {},
   "source": [
    "<div style=\"background-color:black; color:#ffffff; text-align:left; padding:2%\">\n",
    "💬 Осталось разобраться с days_exposition. Распределение на гистограмме и диаграмме показывает, что есть выбросы с периодом по несколько лет. Их можно отбросить. Пропуски оставляем, т к они могут говорить о том, что объявление еще актуально.\n"
   ]
  },
  {
   "cell_type": "code",
   "execution_count": null,
   "metadata": {},
   "outputs": [],
   "source": [
    "#для ненулевых значений days_exposition ограничим данные 1000 днями\n",
    "\n",
    "data_final = data_final.query('days_exposition < 1000 | days_exposition.isnull()', engine='python')\n",
    "data.shape[0]/data_final.shape[0] #потеря данных после фильтрации составила 3%, что в пределах допустимого."
   ]
  },
  {
   "cell_type": "markdown",
   "metadata": {},
   "source": [
    "Посчитайте и добавьте в таблицу новые столбцы"
   ]
  },
  {
   "cell_type": "code",
   "execution_count": null,
   "metadata": {},
   "outputs": [],
   "source": [
    "#добавим данные о цене за кв метр, а также о дне недели, месяце и годе публикации:\n",
    "\n",
    "data_final['price_m'] = data_final['last_price']/data_filtered_price['total_area']\n",
    "data_final['weekday'] = data_final['first_day_exposition'].dt.weekday\n",
    "data_final['month'] = data_final['first_day_exposition'].dt.month\n",
    "data_final['year'] = data_final['first_day_exposition'].dt.year\n",
    "\n",
    "#для определения типа этажа воспользуемся собственной функцией:\n",
    "def floor_type(row):\n",
    "    if row[\"floor\"] ==  row[\"floors_total\"]:\n",
    "        return \"«последний»\"\n",
    "    elif row[\"floor\"] == 1:\n",
    "        return \"первый\"\n",
    "    else:\n",
    "        return \"другой\"\n",
    "\n",
    "data_final['floor_type'] = data_final[['floor', 'floors_total']].apply(floor_type, axis=1)\n",
    "\n",
    "#добавим данные о расстоянии до центра города в км и округлим до целого\n",
    "data_final['downtown_km'] = data_final['cityCenters_nearest'] / 1000\n",
    "data_final['downtown_km'] = data_final['downtown_km'].round(0)\n",
    "\n",
    "data_final.head()\n",
    "\n"
   ]
  },
  {
   "cell_type": "markdown",
   "metadata": {},
   "source": [
    "<div style=\"background-color:black; color:#ffffff; text-align:left; padding:2%\">\n",
    "💬 В данных, которые добавляют пользователи, чаще содержатся ошибки. \n",
    "<br>В данных достаточно много выбросов: объектов с большой площадью и высокой стоимостью. \n",
    "<br>Т к цель исследования - изучить особенности и закономерности рынка в целом, \n",
    "можем брать в расчет значения, приближенные к типичным, а пропуски заменить средними или медианными значениями"
   ]
  },
  {
   "cell_type": "markdown",
   "metadata": {},
   "source": [
    "### Проведите исследовательский анализ данных"
   ]
  },
  {
   "cell_type": "code",
   "execution_count": null,
   "metadata": {},
   "outputs": [],
   "source": [
    "data_final_numeric = data_final.select_dtypes(include=np.number)\n",
    "for col in data_final_numeric:\n",
    "    data_final_numeric [col].plot(title=col, kind ='hist',figsize=(5, 5))\n",
    "    plt.show()"
   ]
  },
  {
   "cell_type": "code",
   "execution_count": null,
   "metadata": {},
   "outputs": [],
   "source": [
    "ax = data_final['floor_type'].value_counts().plot.bar(title='floor_type', rot=45)\n",
    "ax.set(xlabel='Тип этажа объекта', ylabel='Количество объектов с таким этажом')"
   ]
  },
  {
   "cell_type": "markdown",
   "metadata": {},
   "source": [
    "<div style=\"background-color:black; color:#ffffff; text-align:left; padding:2%\">\n",
    "💬 по графикам можно сделать следующие предварительные выводы:\n",
    "    <br>- объекты в своей основной массе стоят в пределах 10 млн руб;\n",
    "    <br>- наибольшая часть предложений по общей площади не превышают 100 кв м\n",
    "    <br>- больше всего предложений в категории однокомнатные квартиры, чуть меньше в категории двухкомнатные. Количество предложений в прямой корреляции с количеством комнат. Меньше всего предложений от 6 комнат и выше\n",
    "    <br>- абсолютное большинство объектов имеют стандартную высоту потолков до 3 м\n",
    "    <br>- этажность зданий объектов в прямой зависимости от их количества. Абсолютное большинство предложений в домах до 10 этажей, однако значимые доли занимают дома до 15, 20 и 30 этажей. Логично, что и количество предложений на кокретном этаже имеет такю же корреляцию\n",
    "    <br>- На последних или первых этажах находится примерно по 15% всех объектов, подавляющее же большинство располагаются на других этажах\n",
    "    <br>- жилая площадь объектов в общей массе колеблется в пределах 50 кв м. Однако немало предложений и с площадью до 100 кв м\n",
    "    <br>- площадь кухни в подавляющем большинстве предложений до 15 кв м. Наибольшая доля объектов с очень компактными кухнями: до 10 кв м. Однако есть из чего выбрать и в категориях с кухнями до 30 кв м\n",
    "    <br>- абсолютное большинство публикаций имеют срок до 300 дней\n",
    "    <br>- пользователи предпочитают публиковать предложения по будним дням. Активность в первый и последний месяцы года заметно возрастает\n",
    "    <br>- видна положительная динамика в количестве объектов в сервисе Яндекс.Недвижимость. Небольшой объем в 2019 г возможно объясняется тем, что архив захватил только часть года\n",
    "    <br>- наибольшая часть объектов имеет удаленность от центра города от 10 до 20 км\n",
    "    "
   ]
  },
  {
   "cell_type": "code",
   "execution_count": null,
   "metadata": {},
   "outputs": [],
   "source": [
    "#Изучим подробнее first_day_exposition\n",
    "\n",
    "day_mean = data_final['days_exposition'].mean()\n",
    "day_med = data_final['days_exposition'].median()\n",
    "day_mean, day_med"
   ]
  },
  {
   "cell_type": "code",
   "execution_count": null,
   "metadata": {},
   "outputs": [],
   "source": [
    "data_final['days_exposition'].plot(title='days_exposition', kind ='hist',figsize=(5, 5))\n"
   ]
  },
  {
   "cell_type": "markdown",
   "metadata": {},
   "source": [
    "<div style=\"background-color:black; color:#ffffff; text-align:left; padding:2%\">\n",
    "💬 Количество публикаций обратно пропорционально длительности размещения. \n",
    "<br>Половина объектов продается за период до 92 дней. А среднее составляет 166 дней. Значительные доли имеют периоды до 600 дней. И есть единичные случаи, когда объекты продаются по несколько лет"
   ]
  },
  {
   "cell_type": "code",
   "execution_count": null,
   "metadata": {},
   "outputs": [],
   "source": [
    "#для выбранных столбцов построимм диаграммы рассеяния\n",
    "\n",
    "series_scatter  = ['total_area', 'living_area', 'kitchen_area', 'rooms', 'floor', 'weekday','month','year'] \n",
    "for col in series_scatter:\n",
    "    data_final.pivot_table(index=col,values='last_price').reset_index().plot(x=col, y='last_price', kind='scatter')\n",
    "    plt.show()\n"
   ]
  },
  {
   "cell_type": "markdown",
   "metadata": {},
   "source": [
    "<div style=\"background-color:black; color:#ffffff; text-align:left; padding:2%\">\n",
    "💬 Какие факторы наиболее сильно влияют на стоимость недвижимости?    \n",
    "    <br>- очевидна прямая взаимосвязь между общей и жилой площадью, площадью кухни объекта и его стоимостью. Однако стоит сказать, что с увеличением стоимости объекта эта корреляция становится слабее\n",
    "    <br>- также стоимость напрямую обусловлена количеством комнат: больше комнат - дороже объект\n",
    "    <br>- этаж имеет влияние на цену объекта, хотя и не слишком сильное. Выше этаж, выше стоимость. \n",
    "    <br>- расмотрим дату публикации: объявления, размещенные в выходные, имеют более низкую цену. Месяц размещения, судя по диаграмме, не сильно влияет на стоимость. Есть влияние года размещения: в течение периода стоимость постепенно снижалась, небольшой рост в 2019 г."
   ]
  },
  {
   "cell_type": "code",
   "execution_count": null,
   "metadata": {},
   "outputs": [],
   "source": [
    "#выясним, в каких населенных пунктах наибольшая цена кв м\n",
    "#отфильтруем 10 городов с наибольшим количеством объектов в продаже\n",
    "\n",
    "data_10 = data_final.pivot_table(index='locality_name',values='last_price',aggfunc='count')\\\n",
    ".sort_values(by='last_price',ascending=False).head(10)\n",
    "\n",
    "#выведем из основных данных среднюю стоимость кв м по этим городам через объединение полученных таблиц\n",
    "data_10.merge(data_final.pivot_table(index='locality_name',values='price_m'),on = 'locality_name')\\\n",
    ".sort_values(by='price_m',ascending=False)\n"
   ]
  },
  {
   "cell_type": "markdown",
   "metadata": {},
   "source": [
    "<div style=\"background-color:black; color:#ffffff; text-align:left; padding:2%\">\n",
    "💬 Ожидаемо, возглавляет список Санкт-Петербург, далее исторический пригород Пушкин и поселки Парголово и Кудрово. Из 10 самых популярных на сервисе Яндекс поселений, наименьшая стоимость кв м в Мурино, Гатчине и Выборге."
   ]
  },
  {
   "cell_type": "code",
   "execution_count": null,
   "metadata": {},
   "outputs": [],
   "source": [
    "#отфильтруем данные по Санкт-Петербургу и посчитаем среднюю стоимость км от центра\n",
    "\n",
    "data_spb = data_final[data_final['locality_name'] =='Санкт-Петербург']\n",
    "data_spb_pivot = data_spb.pivot_table(index='downtown_km',values='last_price')"
   ]
  },
  {
   "cell_type": "code",
   "execution_count": null,
   "metadata": {},
   "outputs": [],
   "source": [
    "#для наглядности отобразим данные на гистограмме\n",
    "\n",
    "data_spb_pivot.plot(title='data_spb', kind ='bar',figsize=(10,5))"
   ]
  },
  {
   "cell_type": "code",
   "execution_count": null,
   "metadata": {},
   "outputs": [],
   "source": [
    "#стоимость на 27 км выглядит как аномалия. Рассмотрим подробнее:\n",
    "\n",
    "data_spb = data_spb.pivot_table(index='downtown_km')\n",
    "data_spb"
   ]
  },
  {
   "cell_type": "markdown",
   "metadata": {},
   "source": [
    "<div style=\"background-color:black; color:#ffffff; text-align:left; padding:2%\">\n",
    "💬 Гистограмма стоимости км расстояния до центра показывает, что цена снижается по мере удаленности объекта от центра города. Вероятно, граница центральной части города около 9 км.\n",
    "Рост стоимости объектов на 27 км объясняется тем, что в этом районе преимущественно малоэтажная застройка. Очевидно, там располагается поселок таунхаусов или дома повышенной комфортности. Об этом говорят средние показатели этажности: 3,5 и этажа объекта: 2,5.  "
   ]
  },
  {
   "cell_type": "markdown",
   "metadata": {},
   "source": [
    "### Общий вывод"
   ]
  },
  {
   "cell_type": "markdown",
   "metadata": {},
   "source": [
    "<div style=\"background-color:black; color:#ffffff; text-align:left; padding:2%\">\n",
    "💬 По итогам исследования объектов в базе Яндекс.недвижимость сделаны выводы:\n",
    "\n",
    "- бОльшая часть объектов стоят в пределах 10 млн руб;\n",
    "- по стоимости кв м лидирует Санкт-Петербург, далее исторический пригород Пушкин и поселки Парголово и Кудрово. Из 10 самых популярных на сервисе Яндекс поселений, наименьшая стоимость кв м в Мурино, Гатчине и Выборге.\n",
    "- наибольшая часть объектов имеет удаленность от центра города от 10 до 20 км. Цена кв м объектов снижается по мере удаленности объекта от центра города. Исключение составляет малоэтажная застройка на 27 км от центра Санкт-Петербурга.\n",
    "- больше всего предложений в категориях однокомнатные и двухкомнатные квартиры. Чем больше количество комнат, тем меньше предложений в данной категории.\n",
    "- Типичная этажность зданий объектов - до 10 этажей, однако значимые доли занимают дома до 15, 20 и 30 этажей. Чем выше этажность и сам этаж объекта, тем меньше предложений в категории.На последних или первых этажах находится примерно по 15% всех объектов, подавляющее же большинство располагаются на других этажах. \n",
    "- абсолютное большинство объектов имеют стандартную высоту потолков до 3 м.\n",
    "- наибольшая часть предложений по общей площади не превышают 100 кв м, жилая площадь объектов в общей массе колеблется в пределах 50 кв м. Однако значительные доля категории с площадью до 100 кв м\n",
    "- площадь кухни в подавляющем большинстве предложений до 15 кв м. Наибольшая доля объектов с очень компактными кухнями: до 10 кв м.\n",
    "- в целом чем больше общая, жилая или площадь кухни, тем меньше объектов в категории.\n",
    "- абсолютное большинство публикаций имеют срок до 300 дней. Количество публикаций обратно пропорционально длительности размещения. Половина объектов продается за период до 92 дней. А среднее составляет 166 дней. Значительные доли имеют периоды до 600 дней. И есть единичные случаи, когда объекты продаются по несколько лет\n",
    "- пользователи предпочитают публиковать предложения по будним дням. Активность в первый и последний месяцы года заметно возрастает\n",
    "- объявления, размещенные в выходные, имеют более низкую цену. Месяц размещения не сильно влияет на стоимость. Есть влияние года размещения: в течение периода стоимость постепенно снижалась, небольшой рост в 2019 г.\n",
    "- в количестве объектов в сервисе Яндекс.Недвижимость видна положительная динамика по годам. Небольшой объем в 2019 г возможно объясняется тем, что архив захватил только часть года\n"
   ]
  }
 ],
 "metadata": {
  "ExecuteTimeLog": [
   {
    "duration": 483,
    "start_time": "2023-04-06T14:27:26.137Z"
   },
   {
    "duration": 123,
    "start_time": "2023-04-06T14:28:09.698Z"
   },
   {
    "duration": 417,
    "start_time": "2023-04-06T14:28:19.160Z"
   },
   {
    "duration": 124,
    "start_time": "2023-04-06T14:28:46.976Z"
   },
   {
    "duration": 665,
    "start_time": "2023-04-06T14:29:58.086Z"
   },
   {
    "duration": 131,
    "start_time": "2023-04-06T14:38:06.905Z"
   },
   {
    "duration": 7,
    "start_time": "2023-04-06T14:40:30.516Z"
   },
   {
    "duration": 119,
    "start_time": "2023-04-06T14:40:52.157Z"
   },
   {
    "duration": 178,
    "start_time": "2023-04-06T14:41:45.489Z"
   },
   {
    "duration": 149,
    "start_time": "2023-04-06T14:43:49.571Z"
   },
   {
    "duration": 568,
    "start_time": "2023-04-06T14:44:04.098Z"
   },
   {
    "duration": 224,
    "start_time": "2023-04-06T14:44:34.466Z"
   },
   {
    "duration": 3122,
    "start_time": "2023-04-06T14:48:01.360Z"
   },
   {
    "duration": 110,
    "start_time": "2023-04-06T14:49:02.969Z"
   },
   {
    "duration": 2659,
    "start_time": "2023-04-06T14:49:10.137Z"
   },
   {
    "duration": 268,
    "start_time": "2023-04-06T15:02:48.215Z"
   },
   {
    "duration": 186,
    "start_time": "2023-04-06T15:03:43.669Z"
   },
   {
    "duration": 203,
    "start_time": "2023-04-06T15:06:36.023Z"
   },
   {
    "duration": 26142,
    "start_time": "2023-04-06T15:06:49.370Z"
   },
   {
    "duration": 27342,
    "start_time": "2023-04-06T15:08:16.893Z"
   },
   {
    "duration": 8,
    "start_time": "2023-04-06T16:11:37.504Z"
   },
   {
    "duration": 4,
    "start_time": "2023-04-06T16:25:19.621Z"
   },
   {
    "duration": 28,
    "start_time": "2023-04-06T16:26:28.890Z"
   },
   {
    "duration": 129,
    "start_time": "2023-04-06T16:35:39.164Z"
   },
   {
    "duration": 105,
    "start_time": "2023-04-06T16:35:51.809Z"
   },
   {
    "duration": 507,
    "start_time": "2023-04-06T16:40:09.991Z"
   },
   {
    "duration": 0,
    "start_time": "2023-04-06T16:40:10.500Z"
   },
   {
    "duration": 106,
    "start_time": "2023-04-06T16:40:30.390Z"
   },
   {
    "duration": 122,
    "start_time": "2023-04-06T16:51:45.785Z"
   },
   {
    "duration": 102,
    "start_time": "2023-04-06T16:52:07.675Z"
   },
   {
    "duration": 124,
    "start_time": "2023-04-06T16:53:24.098Z"
   },
   {
    "duration": 102,
    "start_time": "2023-04-06T17:00:01.233Z"
   },
   {
    "duration": 93,
    "start_time": "2023-04-06T17:00:25.504Z"
   },
   {
    "duration": 138,
    "start_time": "2023-04-06T17:04:18.136Z"
   },
   {
    "duration": 63,
    "start_time": "2023-04-06T17:30:07.394Z"
   },
   {
    "duration": 188,
    "start_time": "2023-04-06T17:48:25.588Z"
   },
   {
    "duration": 130,
    "start_time": "2023-04-06T17:49:14.861Z"
   },
   {
    "duration": 541,
    "start_time": "2023-04-06T17:49:42.892Z"
   },
   {
    "duration": 166,
    "start_time": "2023-04-06T17:49:43.435Z"
   },
   {
    "duration": 137,
    "start_time": "2023-04-06T18:00:44.394Z"
   },
   {
    "duration": 1590,
    "start_time": "2023-04-07T07:59:01.200Z"
   },
   {
    "duration": 370,
    "start_time": "2023-04-07T07:59:47.901Z"
   },
   {
    "duration": 360,
    "start_time": "2023-04-07T07:59:55.899Z"
   },
   {
    "duration": 4152,
    "start_time": "2023-04-07T08:12:00.705Z"
   },
   {
    "duration": 1818,
    "start_time": "2023-04-07T08:25:00.482Z"
   },
   {
    "duration": 124,
    "start_time": "2023-04-07T08:26:38.304Z"
   },
   {
    "duration": 1447,
    "start_time": "2023-04-07T08:26:52.482Z"
   },
   {
    "duration": 33,
    "start_time": "2023-04-07T08:27:33.307Z"
   },
   {
    "duration": 22,
    "start_time": "2023-04-07T08:35:36.690Z"
   },
   {
    "duration": 22,
    "start_time": "2023-04-07T08:37:06.022Z"
   },
   {
    "duration": 4996,
    "start_time": "2023-04-07T08:37:29.391Z"
   },
   {
    "duration": 160,
    "start_time": "2023-04-07T08:37:34.389Z"
   },
   {
    "duration": 101,
    "start_time": "2023-04-07T08:37:34.551Z"
   },
   {
    "duration": 50,
    "start_time": "2023-04-07T08:38:30.787Z"
   },
   {
    "duration": 24,
    "start_time": "2023-04-07T08:45:07.882Z"
   },
   {
    "duration": 155,
    "start_time": "2023-04-07T08:50:01.225Z"
   },
   {
    "duration": 145,
    "start_time": "2023-04-07T08:51:34.030Z"
   },
   {
    "duration": 150,
    "start_time": "2023-04-07T08:52:03.543Z"
   },
   {
    "duration": 144,
    "start_time": "2023-04-07T08:52:12.966Z"
   },
   {
    "duration": 166,
    "start_time": "2023-04-07T08:53:08.254Z"
   },
   {
    "duration": 166,
    "start_time": "2023-04-07T08:53:25.888Z"
   },
   {
    "duration": 47,
    "start_time": "2023-04-07T08:57:53.109Z"
   },
   {
    "duration": 24,
    "start_time": "2023-04-07T08:59:12.288Z"
   },
   {
    "duration": 33,
    "start_time": "2023-04-07T09:08:44.233Z"
   },
   {
    "duration": 36,
    "start_time": "2023-04-07T09:11:21.543Z"
   },
   {
    "duration": 19,
    "start_time": "2023-04-07T09:30:26.155Z"
   },
   {
    "duration": 78,
    "start_time": "2023-04-07T09:30:51.938Z"
   },
   {
    "duration": 9,
    "start_time": "2023-04-07T11:03:15.711Z"
   },
   {
    "duration": 10,
    "start_time": "2023-04-07T11:03:29.523Z"
   },
   {
    "duration": 10,
    "start_time": "2023-04-07T11:05:00.237Z"
   },
   {
    "duration": 4781,
    "start_time": "2023-04-07T11:05:15.814Z"
   },
   {
    "duration": 189,
    "start_time": "2023-04-07T11:05:20.598Z"
   },
   {
    "duration": 25,
    "start_time": "2023-04-07T11:05:20.790Z"
   },
   {
    "duration": 94,
    "start_time": "2023-04-07T11:05:20.816Z"
   },
   {
    "duration": 7,
    "start_time": "2023-04-07T11:05:32.614Z"
   },
   {
    "duration": 7,
    "start_time": "2023-04-07T11:20:10.994Z"
   },
   {
    "duration": 5,
    "start_time": "2023-04-07T11:20:20.063Z"
   },
   {
    "duration": 5286,
    "start_time": "2023-04-07T11:20:52.052Z"
   },
   {
    "duration": 169,
    "start_time": "2023-04-07T11:20:57.340Z"
   },
   {
    "duration": 25,
    "start_time": "2023-04-07T11:20:57.511Z"
   },
   {
    "duration": 5,
    "start_time": "2023-04-07T11:20:57.537Z"
   },
   {
    "duration": 5,
    "start_time": "2023-04-07T11:21:03.009Z"
   },
   {
    "duration": 7,
    "start_time": "2023-04-07T11:21:15.915Z"
   },
   {
    "duration": 7,
    "start_time": "2023-04-07T11:21:22.948Z"
   },
   {
    "duration": 9,
    "start_time": "2023-04-07T11:22:03.402Z"
   },
   {
    "duration": 7,
    "start_time": "2023-04-07T11:28:27.361Z"
   },
   {
    "duration": 355,
    "start_time": "2023-04-07T12:05:17.999Z"
   },
   {
    "duration": 15,
    "start_time": "2023-04-07T12:05:43.262Z"
   },
   {
    "duration": 21,
    "start_time": "2023-04-07T12:05:52.133Z"
   },
   {
    "duration": 53,
    "start_time": "2023-04-07T12:30:37.303Z"
   },
   {
    "duration": 50,
    "start_time": "2023-04-07T12:31:05.222Z"
   },
   {
    "duration": 62,
    "start_time": "2023-04-07T12:32:17.091Z"
   },
   {
    "duration": 8,
    "start_time": "2023-04-07T12:35:15.877Z"
   },
   {
    "duration": 5342,
    "start_time": "2023-04-07T12:35:39.581Z"
   },
   {
    "duration": 171,
    "start_time": "2023-04-07T12:35:44.926Z"
   },
   {
    "duration": 24,
    "start_time": "2023-04-07T12:35:45.098Z"
   },
   {
    "duration": 8,
    "start_time": "2023-04-07T12:35:45.124Z"
   },
   {
    "duration": 83,
    "start_time": "2023-04-07T12:35:45.134Z"
   },
   {
    "duration": 73,
    "start_time": "2023-04-07T13:44:58.484Z"
   },
   {
    "duration": 46,
    "start_time": "2023-04-07T13:48:32.509Z"
   },
   {
    "duration": 85,
    "start_time": "2023-04-07T14:15:55.707Z"
   },
   {
    "duration": 13,
    "start_time": "2023-04-07T14:18:20.236Z"
   },
   {
    "duration": 15,
    "start_time": "2023-04-07T14:19:29.971Z"
   },
   {
    "duration": 20,
    "start_time": "2023-04-07T14:19:52.454Z"
   },
   {
    "duration": 12,
    "start_time": "2023-04-07T14:20:47.355Z"
   },
   {
    "duration": 14,
    "start_time": "2023-04-07T14:21:55.484Z"
   },
   {
    "duration": 22,
    "start_time": "2023-04-07T14:23:01.081Z"
   },
   {
    "duration": 1417,
    "start_time": "2023-04-07T14:24:03.819Z"
   },
   {
    "duration": 9,
    "start_time": "2023-04-07T14:26:26.810Z"
   },
   {
    "duration": 772,
    "start_time": "2023-04-07T14:26:37.667Z"
   },
   {
    "duration": 146,
    "start_time": "2023-04-07T14:27:20.682Z"
   },
   {
    "duration": 13,
    "start_time": "2023-04-07T14:27:43.409Z"
   },
   {
    "duration": 137,
    "start_time": "2023-04-07T14:27:54.349Z"
   },
   {
    "duration": 316,
    "start_time": "2023-04-07T14:28:36.827Z"
   },
   {
    "duration": 130,
    "start_time": "2023-04-07T14:29:02.097Z"
   },
   {
    "duration": 167,
    "start_time": "2023-04-07T14:31:57.928Z"
   },
   {
    "duration": 122,
    "start_time": "2023-04-07T14:32:13.551Z"
   },
   {
    "duration": 126,
    "start_time": "2023-04-07T14:32:37.184Z"
   },
   {
    "duration": 131,
    "start_time": "2023-04-07T14:32:48.744Z"
   },
   {
    "duration": 124,
    "start_time": "2023-04-07T14:37:45.766Z"
   },
   {
    "duration": 178,
    "start_time": "2023-04-07T14:38:25.661Z"
   },
   {
    "duration": 131,
    "start_time": "2023-04-07T14:38:29.092Z"
   },
   {
    "duration": 118,
    "start_time": "2023-04-07T14:38:31.809Z"
   },
   {
    "duration": 124,
    "start_time": "2023-04-07T14:38:34.144Z"
   },
   {
    "duration": 131,
    "start_time": "2023-04-07T14:51:21.247Z"
   },
   {
    "duration": 7,
    "start_time": "2023-04-07T14:58:16.437Z"
   },
   {
    "duration": 7,
    "start_time": "2023-04-07T14:58:42.045Z"
   },
   {
    "duration": 10,
    "start_time": "2023-04-07T15:07:13.187Z"
   },
   {
    "duration": 9,
    "start_time": "2023-04-07T15:07:35.735Z"
   },
   {
    "duration": 7,
    "start_time": "2023-04-07T15:07:46.754Z"
   },
   {
    "duration": 7,
    "start_time": "2023-04-07T15:08:00.119Z"
   },
   {
    "duration": 7,
    "start_time": "2023-04-07T15:08:08.075Z"
   },
   {
    "duration": 15,
    "start_time": "2023-04-07T15:08:43.110Z"
   },
   {
    "duration": 10,
    "start_time": "2023-04-07T15:08:59.662Z"
   },
   {
    "duration": 8,
    "start_time": "2023-04-07T15:09:25.593Z"
   },
   {
    "duration": 8,
    "start_time": "2023-04-07T15:09:54.802Z"
   },
   {
    "duration": 13,
    "start_time": "2023-04-07T15:12:16.763Z"
   },
   {
    "duration": 12,
    "start_time": "2023-04-07T15:18:03.442Z"
   },
   {
    "duration": 7,
    "start_time": "2023-04-07T15:18:22.274Z"
   },
   {
    "duration": 7,
    "start_time": "2023-04-07T15:21:05.951Z"
   },
   {
    "duration": 108,
    "start_time": "2023-04-07T15:25:44.433Z"
   },
   {
    "duration": 127,
    "start_time": "2023-04-07T15:30:36.845Z"
   },
   {
    "duration": 117,
    "start_time": "2023-04-07T15:30:55.319Z"
   },
   {
    "duration": 148,
    "start_time": "2023-04-07T15:31:10.308Z"
   },
   {
    "duration": 21,
    "start_time": "2023-04-07T15:31:52.395Z"
   },
   {
    "duration": 11,
    "start_time": "2023-04-07T15:34:46.129Z"
   },
   {
    "duration": 18,
    "start_time": "2023-04-07T15:35:00.213Z"
   },
   {
    "duration": 11,
    "start_time": "2023-04-07T15:36:21.045Z"
   },
   {
    "duration": 7,
    "start_time": "2023-04-07T15:36:29.532Z"
   },
   {
    "duration": 111,
    "start_time": "2023-04-07T15:37:50.996Z"
   },
   {
    "duration": 127,
    "start_time": "2023-04-07T15:38:01.963Z"
   },
   {
    "duration": 125,
    "start_time": "2023-04-07T15:38:25.676Z"
   },
   {
    "duration": 112,
    "start_time": "2023-04-07T15:38:44.429Z"
   },
   {
    "duration": 10,
    "start_time": "2023-04-07T15:41:47.779Z"
   },
   {
    "duration": 11,
    "start_time": "2023-04-07T15:42:50.402Z"
   },
   {
    "duration": 4796,
    "start_time": "2023-04-07T15:43:07.959Z"
   },
   {
    "duration": 175,
    "start_time": "2023-04-07T15:43:12.757Z"
   },
   {
    "duration": 58,
    "start_time": "2023-04-07T15:43:12.934Z"
   },
   {
    "duration": 9,
    "start_time": "2023-04-07T15:43:12.994Z"
   },
   {
    "duration": 61,
    "start_time": "2023-04-07T15:43:13.004Z"
   },
   {
    "duration": 74,
    "start_time": "2023-04-07T15:43:13.086Z"
   },
   {
    "duration": 127,
    "start_time": "2023-04-07T15:43:13.162Z"
   },
   {
    "duration": 129,
    "start_time": "2023-04-07T15:43:13.291Z"
   },
   {
    "duration": 120,
    "start_time": "2023-04-07T15:43:13.423Z"
   },
   {
    "duration": 132,
    "start_time": "2023-04-07T15:43:13.545Z"
   },
   {
    "duration": 123,
    "start_time": "2023-04-07T15:43:13.679Z"
   },
   {
    "duration": 129,
    "start_time": "2023-04-07T15:43:13.804Z"
   },
   {
    "duration": 143,
    "start_time": "2023-04-07T15:43:13.934Z"
   },
   {
    "duration": 12,
    "start_time": "2023-04-07T15:43:14.079Z"
   },
   {
    "duration": 121,
    "start_time": "2023-04-07T15:43:14.093Z"
   },
   {
    "duration": 8,
    "start_time": "2023-04-07T15:43:14.215Z"
   },
   {
    "duration": 20,
    "start_time": "2023-04-07T15:43:14.224Z"
   },
   {
    "duration": 121,
    "start_time": "2023-04-07T15:43:14.245Z"
   },
   {
    "duration": 20,
    "start_time": "2023-04-07T15:43:14.368Z"
   },
   {
    "duration": 86,
    "start_time": "2023-04-07T15:59:42.814Z"
   },
   {
    "duration": 11,
    "start_time": "2023-04-07T16:00:53.277Z"
   },
   {
    "duration": 24,
    "start_time": "2023-04-07T16:12:12.858Z"
   },
   {
    "duration": 7,
    "start_time": "2023-04-07T16:18:56.738Z"
   },
   {
    "duration": 9,
    "start_time": "2023-04-07T16:19:36.646Z"
   },
   {
    "duration": 11,
    "start_time": "2023-04-07T16:21:58.670Z"
   },
   {
    "duration": 8,
    "start_time": "2023-04-07T16:22:52.046Z"
   },
   {
    "duration": 8,
    "start_time": "2023-04-07T16:23:06.878Z"
   },
   {
    "duration": 9,
    "start_time": "2023-04-07T16:23:33.254Z"
   },
   {
    "duration": 10,
    "start_time": "2023-04-07T16:23:40.366Z"
   },
   {
    "duration": 13,
    "start_time": "2023-04-07T16:28:40.365Z"
   },
   {
    "duration": 8,
    "start_time": "2023-04-07T16:29:13.820Z"
   },
   {
    "duration": 9,
    "start_time": "2023-04-07T16:29:35.461Z"
   },
   {
    "duration": 9,
    "start_time": "2023-04-07T16:29:49.983Z"
   },
   {
    "duration": 9,
    "start_time": "2023-04-07T16:30:18.940Z"
   },
   {
    "duration": 12,
    "start_time": "2023-04-07T16:31:14.797Z"
   },
   {
    "duration": 8,
    "start_time": "2023-04-07T16:32:49.067Z"
   },
   {
    "duration": 9,
    "start_time": "2023-04-07T16:33:03.100Z"
   },
   {
    "duration": 9,
    "start_time": "2023-04-07T16:33:36.698Z"
   },
   {
    "duration": 2,
    "start_time": "2023-04-07T16:35:33.524Z"
   },
   {
    "duration": 3252,
    "start_time": "2023-04-07T16:36:16.299Z"
   },
   {
    "duration": 55,
    "start_time": "2023-04-08T03:38:59.540Z"
   },
   {
    "duration": 4189,
    "start_time": "2023-04-08T03:39:14.288Z"
   },
   {
    "duration": 148,
    "start_time": "2023-04-08T03:39:18.480Z"
   },
   {
    "duration": 55,
    "start_time": "2023-04-08T03:39:18.630Z"
   },
   {
    "duration": 14,
    "start_time": "2023-04-08T03:39:18.687Z"
   },
   {
    "duration": 80,
    "start_time": "2023-04-08T03:39:18.704Z"
   },
   {
    "duration": 64,
    "start_time": "2023-04-08T03:39:18.786Z"
   },
   {
    "duration": 123,
    "start_time": "2023-04-08T03:39:18.852Z"
   },
   {
    "duration": 156,
    "start_time": "2023-04-08T03:39:18.977Z"
   },
   {
    "duration": 114,
    "start_time": "2023-04-08T03:39:19.135Z"
   },
   {
    "duration": 127,
    "start_time": "2023-04-08T03:39:19.251Z"
   },
   {
    "duration": 112,
    "start_time": "2023-04-08T03:39:19.380Z"
   },
   {
    "duration": 130,
    "start_time": "2023-04-08T03:39:19.493Z"
   },
   {
    "duration": 135,
    "start_time": "2023-04-08T03:39:19.625Z"
   },
   {
    "duration": 15,
    "start_time": "2023-04-08T03:39:19.762Z"
   },
   {
    "duration": 116,
    "start_time": "2023-04-08T03:39:19.779Z"
   },
   {
    "duration": 8,
    "start_time": "2023-04-08T03:39:19.897Z"
   },
   {
    "duration": 19,
    "start_time": "2023-04-08T03:39:19.907Z"
   },
   {
    "duration": 179,
    "start_time": "2023-04-08T03:39:19.928Z"
   },
   {
    "duration": 9,
    "start_time": "2023-04-08T03:39:20.109Z"
   },
   {
    "duration": 96,
    "start_time": "2023-04-08T03:39:20.120Z"
   },
   {
    "duration": 0,
    "start_time": "2023-04-08T03:39:20.218Z"
   },
   {
    "duration": 12,
    "start_time": "2023-04-08T03:44:46.280Z"
   },
   {
    "duration": 107,
    "start_time": "2023-04-08T03:45:48.150Z"
   },
   {
    "duration": 93,
    "start_time": "2023-04-08T03:46:08.511Z"
   },
   {
    "duration": 107,
    "start_time": "2023-04-08T03:46:20.045Z"
   },
   {
    "duration": 113,
    "start_time": "2023-04-08T03:46:33.877Z"
   },
   {
    "duration": 106,
    "start_time": "2023-04-08T03:46:43.807Z"
   },
   {
    "duration": 111,
    "start_time": "2023-04-08T03:47:27.692Z"
   },
   {
    "duration": 106,
    "start_time": "2023-04-08T03:47:50.285Z"
   },
   {
    "duration": 10,
    "start_time": "2023-04-08T03:48:08.732Z"
   },
   {
    "duration": 11,
    "start_time": "2023-04-08T03:50:37.916Z"
   },
   {
    "duration": 9,
    "start_time": "2023-04-08T03:51:08.475Z"
   },
   {
    "duration": 9,
    "start_time": "2023-04-08T03:51:27.445Z"
   },
   {
    "duration": 3,
    "start_time": "2023-04-08T03:56:34.497Z"
   },
   {
    "duration": 2738,
    "start_time": "2023-04-08T03:58:33.242Z"
   },
   {
    "duration": 2611,
    "start_time": "2023-04-08T03:58:42.625Z"
   },
   {
    "duration": 2633,
    "start_time": "2023-04-08T03:58:57.514Z"
   },
   {
    "duration": 2262,
    "start_time": "2023-04-08T03:59:03.049Z"
   },
   {
    "duration": 85,
    "start_time": "2023-04-08T04:18:57.697Z"
   },
   {
    "duration": 75,
    "start_time": "2023-04-08T04:19:13.426Z"
   },
   {
    "duration": 50,
    "start_time": "2023-04-08T04:25:22.543Z"
   },
   {
    "duration": 32,
    "start_time": "2023-04-08T04:27:32.504Z"
   },
   {
    "duration": 66,
    "start_time": "2023-04-08T04:32:08.445Z"
   },
   {
    "duration": 13,
    "start_time": "2023-04-08T04:32:12.800Z"
   },
   {
    "duration": 3494,
    "start_time": "2023-04-08T04:32:18.533Z"
   },
   {
    "duration": 140,
    "start_time": "2023-04-08T04:32:22.029Z"
   },
   {
    "duration": 50,
    "start_time": "2023-04-08T04:32:22.171Z"
   },
   {
    "duration": 13,
    "start_time": "2023-04-08T04:32:22.224Z"
   },
   {
    "duration": 111,
    "start_time": "2023-04-08T04:32:22.239Z"
   },
   {
    "duration": 97,
    "start_time": "2023-04-08T04:32:22.352Z"
   },
   {
    "duration": 119,
    "start_time": "2023-04-08T04:32:22.451Z"
   },
   {
    "duration": 138,
    "start_time": "2023-04-08T04:32:22.571Z"
   },
   {
    "duration": 120,
    "start_time": "2023-04-08T04:32:22.711Z"
   },
   {
    "duration": 160,
    "start_time": "2023-04-08T04:32:22.833Z"
   },
   {
    "duration": 130,
    "start_time": "2023-04-08T04:32:22.995Z"
   },
   {
    "duration": 134,
    "start_time": "2023-04-08T04:32:23.127Z"
   },
   {
    "duration": 164,
    "start_time": "2023-04-08T04:32:23.263Z"
   },
   {
    "duration": 10,
    "start_time": "2023-04-08T04:32:23.429Z"
   },
   {
    "duration": 171,
    "start_time": "2023-04-08T04:32:23.441Z"
   },
   {
    "duration": 11,
    "start_time": "2023-04-08T04:32:23.622Z"
   },
   {
    "duration": 31,
    "start_time": "2023-04-08T04:32:23.634Z"
   },
   {
    "duration": 128,
    "start_time": "2023-04-08T04:32:23.668Z"
   },
   {
    "duration": 10,
    "start_time": "2023-04-08T04:32:23.797Z"
   },
   {
    "duration": 32,
    "start_time": "2023-04-08T04:32:23.809Z"
   },
   {
    "duration": 67,
    "start_time": "2023-04-08T04:36:26.286Z"
   },
   {
    "duration": 3253,
    "start_time": "2023-04-08T04:36:30.237Z"
   },
   {
    "duration": 133,
    "start_time": "2023-04-08T04:36:33.492Z"
   },
   {
    "duration": 63,
    "start_time": "2023-04-08T04:36:33.627Z"
   },
   {
    "duration": 12,
    "start_time": "2023-04-08T04:36:33.692Z"
   },
   {
    "duration": 58,
    "start_time": "2023-04-08T04:36:33.707Z"
   },
   {
    "duration": 86,
    "start_time": "2023-04-08T04:36:33.775Z"
   },
   {
    "duration": 133,
    "start_time": "2023-04-08T04:36:33.862Z"
   },
   {
    "duration": 122,
    "start_time": "2023-04-08T04:36:33.997Z"
   },
   {
    "duration": 120,
    "start_time": "2023-04-08T04:36:34.120Z"
   },
   {
    "duration": 111,
    "start_time": "2023-04-08T04:36:34.242Z"
   },
   {
    "duration": 109,
    "start_time": "2023-04-08T04:36:34.355Z"
   },
   {
    "duration": 124,
    "start_time": "2023-04-08T04:36:34.472Z"
   },
   {
    "duration": 152,
    "start_time": "2023-04-08T04:36:34.597Z"
   },
   {
    "duration": 10,
    "start_time": "2023-04-08T04:36:34.752Z"
   },
   {
    "duration": 136,
    "start_time": "2023-04-08T04:36:34.771Z"
   },
   {
    "duration": 10,
    "start_time": "2023-04-08T04:36:34.908Z"
   },
   {
    "duration": 30,
    "start_time": "2023-04-08T04:36:34.919Z"
   },
   {
    "duration": 114,
    "start_time": "2023-04-08T04:36:34.951Z"
   },
   {
    "duration": 28,
    "start_time": "2023-04-08T04:36:35.067Z"
   },
   {
    "duration": 14,
    "start_time": "2023-04-08T04:36:35.097Z"
   },
   {
    "duration": 56,
    "start_time": "2023-04-08T04:36:51.165Z"
   },
   {
    "duration": 3167,
    "start_time": "2023-04-08T04:38:02.252Z"
   },
   {
    "duration": 146,
    "start_time": "2023-04-08T04:38:05.421Z"
   },
   {
    "duration": 52,
    "start_time": "2023-04-08T04:38:05.568Z"
   },
   {
    "duration": 8,
    "start_time": "2023-04-08T04:38:05.622Z"
   },
   {
    "duration": 82,
    "start_time": "2023-04-08T04:38:05.631Z"
   },
   {
    "duration": 80,
    "start_time": "2023-04-08T04:38:05.715Z"
   },
   {
    "duration": 112,
    "start_time": "2023-04-08T04:38:05.796Z"
   },
   {
    "duration": 136,
    "start_time": "2023-04-08T04:38:05.910Z"
   },
   {
    "duration": 158,
    "start_time": "2023-04-08T04:38:06.048Z"
   },
   {
    "duration": 153,
    "start_time": "2023-04-08T04:38:06.209Z"
   },
   {
    "duration": 147,
    "start_time": "2023-04-08T04:38:06.364Z"
   },
   {
    "duration": 138,
    "start_time": "2023-04-08T04:38:06.512Z"
   },
   {
    "duration": 150,
    "start_time": "2023-04-08T04:38:06.651Z"
   },
   {
    "duration": 9,
    "start_time": "2023-04-08T04:38:06.803Z"
   },
   {
    "duration": 119,
    "start_time": "2023-04-08T04:38:06.813Z"
   },
   {
    "duration": 7,
    "start_time": "2023-04-08T04:38:06.933Z"
   },
   {
    "duration": 16,
    "start_time": "2023-04-08T04:38:06.941Z"
   },
   {
    "duration": 135,
    "start_time": "2023-04-08T04:38:06.958Z"
   },
   {
    "duration": 10,
    "start_time": "2023-04-08T04:38:07.107Z"
   },
   {
    "duration": 11,
    "start_time": "2023-04-08T04:38:07.118Z"
   },
   {
    "duration": 63,
    "start_time": "2023-04-08T04:38:15.261Z"
   },
   {
    "duration": 3240,
    "start_time": "2023-04-08T04:38:19.247Z"
   },
   {
    "duration": 143,
    "start_time": "2023-04-08T04:38:22.491Z"
   },
   {
    "duration": 58,
    "start_time": "2023-04-08T04:38:22.635Z"
   },
   {
    "duration": 10,
    "start_time": "2023-04-08T04:38:22.701Z"
   },
   {
    "duration": 57,
    "start_time": "2023-04-08T04:38:22.713Z"
   },
   {
    "duration": 71,
    "start_time": "2023-04-08T04:38:22.771Z"
   },
   {
    "duration": 153,
    "start_time": "2023-04-08T04:38:22.844Z"
   },
   {
    "duration": 140,
    "start_time": "2023-04-08T04:38:22.999Z"
   },
   {
    "duration": 123,
    "start_time": "2023-04-08T04:38:23.140Z"
   },
   {
    "duration": 141,
    "start_time": "2023-04-08T04:38:23.265Z"
   },
   {
    "duration": 119,
    "start_time": "2023-04-08T04:38:23.407Z"
   },
   {
    "duration": 176,
    "start_time": "2023-04-08T04:38:23.528Z"
   },
   {
    "duration": 126,
    "start_time": "2023-04-08T04:38:23.706Z"
   },
   {
    "duration": 7,
    "start_time": "2023-04-08T04:38:23.834Z"
   },
   {
    "duration": 131,
    "start_time": "2023-04-08T04:38:23.842Z"
   },
   {
    "duration": 13,
    "start_time": "2023-04-08T04:38:23.974Z"
   },
   {
    "duration": 27,
    "start_time": "2023-04-08T04:38:23.988Z"
   },
   {
    "duration": 121,
    "start_time": "2023-04-08T04:38:24.017Z"
   },
   {
    "duration": 10,
    "start_time": "2023-04-08T04:38:24.140Z"
   },
   {
    "duration": 11,
    "start_time": "2023-04-08T04:38:24.151Z"
   },
   {
    "duration": 49,
    "start_time": "2023-04-08T04:42:35.799Z"
   },
   {
    "duration": 6,
    "start_time": "2023-04-08T04:42:48.906Z"
   },
   {
    "duration": 8,
    "start_time": "2023-04-08T04:42:53.292Z"
   },
   {
    "duration": 3244,
    "start_time": "2023-04-08T05:38:50.272Z"
   },
   {
    "duration": 141,
    "start_time": "2023-04-08T05:38:53.518Z"
   },
   {
    "duration": 47,
    "start_time": "2023-04-08T05:38:53.660Z"
   },
   {
    "duration": 9,
    "start_time": "2023-04-08T05:38:53.709Z"
   },
   {
    "duration": 79,
    "start_time": "2023-04-08T05:38:53.719Z"
   },
   {
    "duration": 77,
    "start_time": "2023-04-08T05:38:53.800Z"
   },
   {
    "duration": 109,
    "start_time": "2023-04-08T05:38:53.879Z"
   },
   {
    "duration": 130,
    "start_time": "2023-04-08T05:38:53.990Z"
   },
   {
    "duration": 125,
    "start_time": "2023-04-08T05:38:54.123Z"
   },
   {
    "duration": 144,
    "start_time": "2023-04-08T05:38:54.250Z"
   },
   {
    "duration": 116,
    "start_time": "2023-04-08T05:38:54.396Z"
   },
   {
    "duration": 126,
    "start_time": "2023-04-08T05:38:54.514Z"
   },
   {
    "duration": 118,
    "start_time": "2023-04-08T05:38:54.642Z"
   },
   {
    "duration": 14,
    "start_time": "2023-04-08T05:38:54.762Z"
   },
   {
    "duration": 110,
    "start_time": "2023-04-08T05:38:54.777Z"
   },
   {
    "duration": 7,
    "start_time": "2023-04-08T05:38:54.889Z"
   },
   {
    "duration": 23,
    "start_time": "2023-04-08T05:38:54.898Z"
   },
   {
    "duration": 99,
    "start_time": "2023-04-08T05:38:54.922Z"
   },
   {
    "duration": 9,
    "start_time": "2023-04-08T05:38:55.022Z"
   },
   {
    "duration": 18,
    "start_time": "2023-04-08T05:38:55.032Z"
   },
   {
    "duration": 24,
    "start_time": "2023-04-08T05:38:55.051Z"
   },
   {
    "duration": 47,
    "start_time": "2023-04-08T17:44:08.770Z"
   },
   {
    "duration": 3124,
    "start_time": "2023-04-08T17:44:21.439Z"
   },
   {
    "duration": 134,
    "start_time": "2023-04-08T17:44:24.565Z"
   },
   {
    "duration": 54,
    "start_time": "2023-04-08T17:44:24.700Z"
   },
   {
    "duration": 11,
    "start_time": "2023-04-08T17:44:24.757Z"
   },
   {
    "duration": 74,
    "start_time": "2023-04-08T17:44:24.771Z"
   },
   {
    "duration": 59,
    "start_time": "2023-04-08T17:44:24.847Z"
   },
   {
    "duration": 111,
    "start_time": "2023-04-08T17:44:24.908Z"
   },
   {
    "duration": 106,
    "start_time": "2023-04-08T17:44:25.020Z"
   },
   {
    "duration": 102,
    "start_time": "2023-04-08T17:44:25.127Z"
   },
   {
    "duration": 123,
    "start_time": "2023-04-08T17:44:25.231Z"
   },
   {
    "duration": 105,
    "start_time": "2023-04-08T17:44:25.355Z"
   },
   {
    "duration": 111,
    "start_time": "2023-04-08T17:44:25.461Z"
   },
   {
    "duration": 116,
    "start_time": "2023-04-08T17:44:25.574Z"
   },
   {
    "duration": 5,
    "start_time": "2023-04-08T17:44:25.692Z"
   },
   {
    "duration": 107,
    "start_time": "2023-04-08T17:44:25.698Z"
   },
   {
    "duration": 8,
    "start_time": "2023-04-08T17:44:25.806Z"
   },
   {
    "duration": 40,
    "start_time": "2023-04-08T17:44:25.815Z"
   },
   {
    "duration": 100,
    "start_time": "2023-04-08T17:44:25.857Z"
   },
   {
    "duration": 8,
    "start_time": "2023-04-08T17:44:25.959Z"
   },
   {
    "duration": 43,
    "start_time": "2023-04-08T17:44:25.968Z"
   },
   {
    "duration": 0,
    "start_time": "2023-04-08T17:44:26.013Z"
   },
   {
    "duration": 50,
    "start_time": "2023-04-08T17:45:06.291Z"
   },
   {
    "duration": 9,
    "start_time": "2023-04-08T17:46:43.393Z"
   },
   {
    "duration": 10,
    "start_time": "2023-04-08T17:46:55.449Z"
   },
   {
    "duration": 9,
    "start_time": "2023-04-08T17:47:04.367Z"
   },
   {
    "duration": 9,
    "start_time": "2023-04-08T17:47:52.903Z"
   },
   {
    "duration": 41,
    "start_time": "2023-04-08T17:52:33.239Z"
   },
   {
    "duration": 59,
    "start_time": "2023-04-08T17:53:01.742Z"
   },
   {
    "duration": 12,
    "start_time": "2023-04-08T17:53:06.249Z"
   },
   {
    "duration": 62,
    "start_time": "2023-04-08T17:53:21.430Z"
   },
   {
    "duration": 43,
    "start_time": "2023-04-08T17:53:30.119Z"
   },
   {
    "duration": 50,
    "start_time": "2023-04-08T17:54:01.649Z"
   },
   {
    "duration": 40,
    "start_time": "2023-04-08T17:54:09.456Z"
   },
   {
    "duration": 14,
    "start_time": "2023-04-08T17:54:25.498Z"
   },
   {
    "duration": 103,
    "start_time": "2023-04-08T17:54:59.742Z"
   },
   {
    "duration": 56,
    "start_time": "2023-04-08T17:55:24.352Z"
   },
   {
    "duration": 14,
    "start_time": "2023-04-08T17:55:37.222Z"
   },
   {
    "duration": 15,
    "start_time": "2023-04-08T17:56:26.470Z"
   },
   {
    "duration": 48,
    "start_time": "2023-04-08T17:57:03.694Z"
   },
   {
    "duration": 75,
    "start_time": "2023-04-08T17:57:08.590Z"
   },
   {
    "duration": 50,
    "start_time": "2023-04-08T17:58:39.568Z"
   },
   {
    "duration": 49,
    "start_time": "2023-04-08T17:58:54.063Z"
   },
   {
    "duration": 53,
    "start_time": "2023-04-08T17:59:00.748Z"
   },
   {
    "duration": 48,
    "start_time": "2023-04-08T18:00:06.980Z"
   },
   {
    "duration": 3,
    "start_time": "2023-04-08T18:00:15.350Z"
   },
   {
    "duration": 50,
    "start_time": "2023-04-08T18:00:47.740Z"
   },
   {
    "duration": 51,
    "start_time": "2023-04-08T18:00:57.388Z"
   },
   {
    "duration": 53,
    "start_time": "2023-04-08T18:01:02.610Z"
   },
   {
    "duration": 50,
    "start_time": "2023-04-08T18:01:20.044Z"
   },
   {
    "duration": 51,
    "start_time": "2023-04-08T18:01:41.728Z"
   },
   {
    "duration": 50,
    "start_time": "2023-04-08T18:01:54.631Z"
   },
   {
    "duration": 72,
    "start_time": "2023-04-08T18:02:23.532Z"
   },
   {
    "duration": 65,
    "start_time": "2023-04-08T18:02:31.524Z"
   },
   {
    "duration": 60,
    "start_time": "2023-04-08T18:02:46.034Z"
   },
   {
    "duration": 124,
    "start_time": "2023-04-08T18:07:11.567Z"
   },
   {
    "duration": 2068,
    "start_time": "2023-04-08T18:07:31.580Z"
   },
   {
    "duration": 144,
    "start_time": "2023-04-08T18:07:33.650Z"
   },
   {
    "duration": 35,
    "start_time": "2023-04-08T18:07:33.795Z"
   },
   {
    "duration": 8,
    "start_time": "2023-04-08T18:07:33.839Z"
   },
   {
    "duration": 54,
    "start_time": "2023-04-08T18:07:33.850Z"
   },
   {
    "duration": 81,
    "start_time": "2023-04-08T18:07:33.905Z"
   },
   {
    "duration": 99,
    "start_time": "2023-04-08T18:07:33.988Z"
   },
   {
    "duration": 108,
    "start_time": "2023-04-08T18:07:34.089Z"
   },
   {
    "duration": 102,
    "start_time": "2023-04-08T18:07:34.198Z"
   },
   {
    "duration": 170,
    "start_time": "2023-04-08T18:07:34.301Z"
   },
   {
    "duration": 115,
    "start_time": "2023-04-08T18:07:34.472Z"
   },
   {
    "duration": 115,
    "start_time": "2023-04-08T18:07:34.589Z"
   },
   {
    "duration": 127,
    "start_time": "2023-04-08T18:07:34.706Z"
   },
   {
    "duration": 7,
    "start_time": "2023-04-08T18:07:34.839Z"
   },
   {
    "duration": 106,
    "start_time": "2023-04-08T18:07:34.848Z"
   },
   {
    "duration": 8,
    "start_time": "2023-04-08T18:07:34.955Z"
   },
   {
    "duration": 16,
    "start_time": "2023-04-08T18:07:34.964Z"
   },
   {
    "duration": 116,
    "start_time": "2023-04-08T18:07:34.981Z"
   },
   {
    "duration": 7,
    "start_time": "2023-04-08T18:07:35.099Z"
   },
   {
    "duration": 10,
    "start_time": "2023-04-08T18:07:35.107Z"
   },
   {
    "duration": 78,
    "start_time": "2023-04-08T18:07:35.119Z"
   },
   {
    "duration": 8,
    "start_time": "2023-04-08T18:07:35.198Z"
   },
   {
    "duration": 7,
    "start_time": "2023-04-08T18:08:10.659Z"
   },
   {
    "duration": 5,
    "start_time": "2023-04-08T18:08:34.058Z"
   },
   {
    "duration": 8,
    "start_time": "2023-04-08T18:09:18.521Z"
   },
   {
    "duration": 5,
    "start_time": "2023-04-08T18:10:17.795Z"
   },
   {
    "duration": 9,
    "start_time": "2023-04-08T18:18:40.456Z"
   },
   {
    "duration": 7,
    "start_time": "2023-04-08T18:18:52.728Z"
   },
   {
    "duration": 8,
    "start_time": "2023-04-08T18:19:25.145Z"
   },
   {
    "duration": 2,
    "start_time": "2023-04-08T18:24:40.911Z"
   },
   {
    "duration": 3220,
    "start_time": "2023-04-09T03:48:39.702Z"
   },
   {
    "duration": 144,
    "start_time": "2023-04-09T03:48:42.925Z"
   },
   {
    "duration": 41,
    "start_time": "2023-04-09T03:48:43.071Z"
   },
   {
    "duration": 22,
    "start_time": "2023-04-09T03:48:43.114Z"
   },
   {
    "duration": 51,
    "start_time": "2023-04-09T03:48:43.137Z"
   },
   {
    "duration": 82,
    "start_time": "2023-04-09T03:48:43.189Z"
   },
   {
    "duration": 108,
    "start_time": "2023-04-09T03:48:43.272Z"
   },
   {
    "duration": 113,
    "start_time": "2023-04-09T03:48:43.381Z"
   },
   {
    "duration": 101,
    "start_time": "2023-04-09T03:48:43.495Z"
   },
   {
    "duration": 116,
    "start_time": "2023-04-09T03:48:43.599Z"
   },
   {
    "duration": 107,
    "start_time": "2023-04-09T03:48:43.716Z"
   },
   {
    "duration": 119,
    "start_time": "2023-04-09T03:48:43.825Z"
   },
   {
    "duration": 120,
    "start_time": "2023-04-09T03:48:43.945Z"
   },
   {
    "duration": 7,
    "start_time": "2023-04-09T03:48:44.067Z"
   },
   {
    "duration": 106,
    "start_time": "2023-04-09T03:48:44.076Z"
   },
   {
    "duration": 8,
    "start_time": "2023-04-09T03:48:44.183Z"
   },
   {
    "duration": 18,
    "start_time": "2023-04-09T03:48:44.192Z"
   },
   {
    "duration": 165,
    "start_time": "2023-04-09T03:48:44.211Z"
   },
   {
    "duration": 8,
    "start_time": "2023-04-09T03:48:44.377Z"
   },
   {
    "duration": 9,
    "start_time": "2023-04-09T03:48:44.387Z"
   },
   {
    "duration": 5,
    "start_time": "2023-04-09T03:48:44.397Z"
   },
   {
    "duration": 17,
    "start_time": "2023-04-09T03:48:44.403Z"
   },
   {
    "duration": 34,
    "start_time": "2023-04-09T03:49:11.253Z"
   },
   {
    "duration": 73,
    "start_time": "2023-04-09T03:55:15.157Z"
   },
   {
    "duration": 14,
    "start_time": "2023-04-09T03:55:28.498Z"
   },
   {
    "duration": 13,
    "start_time": "2023-04-09T03:55:59.427Z"
   },
   {
    "duration": 19,
    "start_time": "2023-04-09T03:57:38.138Z"
   },
   {
    "duration": 2557,
    "start_time": "2023-04-09T03:57:47.176Z"
   },
   {
    "duration": 157,
    "start_time": "2023-04-09T03:57:49.735Z"
   },
   {
    "duration": 54,
    "start_time": "2023-04-09T03:57:49.894Z"
   },
   {
    "duration": 8,
    "start_time": "2023-04-09T03:57:49.950Z"
   },
   {
    "duration": 75,
    "start_time": "2023-04-09T03:57:49.960Z"
   },
   {
    "duration": 72,
    "start_time": "2023-04-09T03:57:50.037Z"
   },
   {
    "duration": 125,
    "start_time": "2023-04-09T03:57:50.111Z"
   },
   {
    "duration": 127,
    "start_time": "2023-04-09T03:57:50.237Z"
   },
   {
    "duration": 119,
    "start_time": "2023-04-09T03:57:50.366Z"
   },
   {
    "duration": 139,
    "start_time": "2023-04-09T03:57:50.487Z"
   },
   {
    "duration": 185,
    "start_time": "2023-04-09T03:57:50.627Z"
   },
   {
    "duration": 145,
    "start_time": "2023-04-09T03:57:50.813Z"
   },
   {
    "duration": 147,
    "start_time": "2023-04-09T03:57:50.960Z"
   },
   {
    "duration": 7,
    "start_time": "2023-04-09T03:57:51.110Z"
   },
   {
    "duration": 129,
    "start_time": "2023-04-09T03:57:51.119Z"
   },
   {
    "duration": 8,
    "start_time": "2023-04-09T03:57:51.249Z"
   },
   {
    "duration": 25,
    "start_time": "2023-04-09T03:57:51.258Z"
   },
   {
    "duration": 159,
    "start_time": "2023-04-09T03:57:51.285Z"
   },
   {
    "duration": 8,
    "start_time": "2023-04-09T03:57:51.446Z"
   },
   {
    "duration": 16,
    "start_time": "2023-04-09T03:57:51.456Z"
   },
   {
    "duration": 10,
    "start_time": "2023-04-09T03:57:51.473Z"
   },
   {
    "duration": 35,
    "start_time": "2023-04-09T03:57:51.485Z"
   },
   {
    "duration": 12,
    "start_time": "2023-04-09T04:02:05.832Z"
   },
   {
    "duration": 2384,
    "start_time": "2023-04-09T16:27:34.587Z"
   },
   {
    "duration": 262,
    "start_time": "2023-04-09T16:27:36.973Z"
   },
   {
    "duration": 44,
    "start_time": "2023-04-09T16:27:37.237Z"
   },
   {
    "duration": 9,
    "start_time": "2023-04-09T16:27:37.283Z"
   },
   {
    "duration": 90,
    "start_time": "2023-04-09T16:27:37.295Z"
   },
   {
    "duration": 73,
    "start_time": "2023-04-09T16:27:37.387Z"
   },
   {
    "duration": 106,
    "start_time": "2023-04-09T16:27:37.462Z"
   },
   {
    "duration": 118,
    "start_time": "2023-04-09T16:27:37.570Z"
   },
   {
    "duration": 115,
    "start_time": "2023-04-09T16:27:37.689Z"
   },
   {
    "duration": 151,
    "start_time": "2023-04-09T16:27:37.807Z"
   },
   {
    "duration": 114,
    "start_time": "2023-04-09T16:27:37.959Z"
   },
   {
    "duration": 127,
    "start_time": "2023-04-09T16:27:38.075Z"
   },
   {
    "duration": 136,
    "start_time": "2023-04-09T16:27:38.204Z"
   },
   {
    "duration": 8,
    "start_time": "2023-04-09T16:27:38.343Z"
   },
   {
    "duration": 122,
    "start_time": "2023-04-09T16:27:38.353Z"
   },
   {
    "duration": 7,
    "start_time": "2023-04-09T16:27:38.477Z"
   },
   {
    "duration": 23,
    "start_time": "2023-04-09T16:27:38.486Z"
   },
   {
    "duration": 129,
    "start_time": "2023-04-09T16:27:38.511Z"
   },
   {
    "duration": 7,
    "start_time": "2023-04-09T16:27:38.642Z"
   },
   {
    "duration": 15,
    "start_time": "2023-04-09T16:27:38.651Z"
   },
   {
    "duration": 8,
    "start_time": "2023-04-09T16:27:38.667Z"
   },
   {
    "duration": 35,
    "start_time": "2023-04-09T16:27:38.677Z"
   },
   {
    "duration": 39,
    "start_time": "2023-04-09T16:32:41.719Z"
   },
   {
    "duration": 18,
    "start_time": "2023-04-09T17:10:04.231Z"
   },
   {
    "duration": 21,
    "start_time": "2023-04-09T17:10:23.335Z"
   },
   {
    "duration": 3271,
    "start_time": "2023-04-09T17:10:31.622Z"
   },
   {
    "duration": 1656,
    "start_time": "2023-04-09T17:13:58.033Z"
   },
   {
    "duration": 83,
    "start_time": "2023-04-09T17:18:08.798Z"
   },
   {
    "duration": 5,
    "start_time": "2023-04-09T17:18:17.684Z"
   },
   {
    "duration": 277,
    "start_time": "2023-04-09T17:18:23.764Z"
   },
   {
    "duration": 262,
    "start_time": "2023-04-09T17:18:42.910Z"
   },
   {
    "duration": 243,
    "start_time": "2023-04-09T17:28:02.905Z"
   },
   {
    "duration": 260,
    "start_time": "2023-04-09T17:28:19.154Z"
   },
   {
    "duration": 262,
    "start_time": "2023-04-09T17:28:31.988Z"
   },
   {
    "duration": 2577,
    "start_time": "2023-04-09T17:34:28.435Z"
   },
   {
    "duration": 263,
    "start_time": "2023-04-09T17:34:31.014Z"
   },
   {
    "duration": 41,
    "start_time": "2023-04-09T17:34:31.279Z"
   },
   {
    "duration": 13,
    "start_time": "2023-04-09T17:34:31.334Z"
   },
   {
    "duration": 66,
    "start_time": "2023-04-09T17:34:31.348Z"
   },
   {
    "duration": 76,
    "start_time": "2023-04-09T17:34:31.415Z"
   },
   {
    "duration": 111,
    "start_time": "2023-04-09T17:34:31.493Z"
   },
   {
    "duration": 134,
    "start_time": "2023-04-09T17:34:31.606Z"
   },
   {
    "duration": 119,
    "start_time": "2023-04-09T17:34:31.742Z"
   },
   {
    "duration": 130,
    "start_time": "2023-04-09T17:34:31.864Z"
   },
   {
    "duration": 114,
    "start_time": "2023-04-09T17:34:31.996Z"
   },
   {
    "duration": 129,
    "start_time": "2023-04-09T17:34:32.112Z"
   },
   {
    "duration": 129,
    "start_time": "2023-04-09T17:34:32.242Z"
   },
   {
    "duration": 7,
    "start_time": "2023-04-09T17:34:32.373Z"
   },
   {
    "duration": 116,
    "start_time": "2023-04-09T17:34:32.382Z"
   },
   {
    "duration": 8,
    "start_time": "2023-04-09T17:34:32.500Z"
   },
   {
    "duration": 34,
    "start_time": "2023-04-09T17:34:32.510Z"
   },
   {
    "duration": 111,
    "start_time": "2023-04-09T17:34:32.546Z"
   },
   {
    "duration": 8,
    "start_time": "2023-04-09T17:34:32.658Z"
   },
   {
    "duration": 13,
    "start_time": "2023-04-09T17:34:32.668Z"
   },
   {
    "duration": 2,
    "start_time": "2023-04-09T17:34:32.682Z"
   },
   {
    "duration": 277,
    "start_time": "2023-04-09T17:34:32.686Z"
   },
   {
    "duration": 3426,
    "start_time": "2023-04-10T04:57:08.593Z"
   },
   {
    "duration": 163,
    "start_time": "2023-04-10T04:57:12.021Z"
   },
   {
    "duration": 52,
    "start_time": "2023-04-10T04:57:12.186Z"
   },
   {
    "duration": 11,
    "start_time": "2023-04-10T04:57:12.240Z"
   },
   {
    "duration": 85,
    "start_time": "2023-04-10T04:57:12.253Z"
   },
   {
    "duration": 0,
    "start_time": "2023-04-10T04:57:12.341Z"
   },
   {
    "duration": 0,
    "start_time": "2023-04-10T04:57:12.342Z"
   },
   {
    "duration": 0,
    "start_time": "2023-04-10T04:57:12.344Z"
   },
   {
    "duration": 1,
    "start_time": "2023-04-10T04:57:12.345Z"
   },
   {
    "duration": 0,
    "start_time": "2023-04-10T04:57:12.347Z"
   },
   {
    "duration": 0,
    "start_time": "2023-04-10T04:57:12.349Z"
   },
   {
    "duration": 0,
    "start_time": "2023-04-10T04:57:12.350Z"
   },
   {
    "duration": 0,
    "start_time": "2023-04-10T04:57:12.351Z"
   },
   {
    "duration": 0,
    "start_time": "2023-04-10T04:57:12.353Z"
   },
   {
    "duration": 0,
    "start_time": "2023-04-10T04:57:12.354Z"
   },
   {
    "duration": 0,
    "start_time": "2023-04-10T04:57:12.355Z"
   },
   {
    "duration": 0,
    "start_time": "2023-04-10T04:57:12.356Z"
   },
   {
    "duration": 0,
    "start_time": "2023-04-10T04:57:12.357Z"
   },
   {
    "duration": 0,
    "start_time": "2023-04-10T04:57:12.358Z"
   },
   {
    "duration": 0,
    "start_time": "2023-04-10T04:57:12.359Z"
   },
   {
    "duration": 0,
    "start_time": "2023-04-10T04:57:12.361Z"
   },
   {
    "duration": 0,
    "start_time": "2023-04-10T04:57:12.362Z"
   },
   {
    "duration": 80,
    "start_time": "2023-04-10T04:57:34.129Z"
   },
   {
    "duration": 11,
    "start_time": "2023-04-10T05:05:40.839Z"
   },
   {
    "duration": 9,
    "start_time": "2023-04-10T05:10:04.326Z"
   },
   {
    "duration": 13,
    "start_time": "2023-04-10T05:11:39.079Z"
   },
   {
    "duration": 11,
    "start_time": "2023-04-10T05:11:48.113Z"
   },
   {
    "duration": 10,
    "start_time": "2023-04-10T05:12:07.762Z"
   },
   {
    "duration": 24,
    "start_time": "2023-04-10T05:20:19.565Z"
   },
   {
    "duration": 19,
    "start_time": "2023-04-10T05:20:27.140Z"
   },
   {
    "duration": 26,
    "start_time": "2023-04-10T05:20:50.201Z"
   },
   {
    "duration": 356,
    "start_time": "2023-04-10T05:23:20.948Z"
   },
   {
    "duration": 327,
    "start_time": "2023-04-10T05:23:31.922Z"
   },
   {
    "duration": 360,
    "start_time": "2023-04-10T05:25:12.765Z"
   },
   {
    "duration": 18,
    "start_time": "2023-04-10T05:32:51.944Z"
   },
   {
    "duration": 19,
    "start_time": "2023-04-10T05:33:41.551Z"
   },
   {
    "duration": 84,
    "start_time": "2023-04-10T05:35:26.287Z"
   },
   {
    "duration": 123,
    "start_time": "2023-04-10T05:36:22.582Z"
   },
   {
    "duration": 18,
    "start_time": "2023-04-10T05:36:34.726Z"
   },
   {
    "duration": 90,
    "start_time": "2023-04-10T05:37:23.957Z"
   },
   {
    "duration": 175,
    "start_time": "2023-04-10T05:37:34.389Z"
   },
   {
    "duration": 83,
    "start_time": "2023-04-10T05:37:41.990Z"
   },
   {
    "duration": 92,
    "start_time": "2023-04-10T05:37:45.877Z"
   },
   {
    "duration": 80,
    "start_time": "2023-04-10T05:37:55.973Z"
   },
   {
    "duration": 104,
    "start_time": "2023-04-10T06:36:52.212Z"
   },
   {
    "duration": 20,
    "start_time": "2023-04-10T06:36:59.261Z"
   },
   {
    "duration": 24,
    "start_time": "2023-04-10T06:52:42.908Z"
   },
   {
    "duration": 34,
    "start_time": "2023-04-10T07:33:11.460Z"
   },
   {
    "duration": 91,
    "start_time": "2023-04-10T07:43:07.144Z"
   },
   {
    "duration": 98,
    "start_time": "2023-04-10T07:43:56.513Z"
   },
   {
    "duration": 2892,
    "start_time": "2023-04-10T07:45:13.970Z"
   },
   {
    "duration": 155,
    "start_time": "2023-04-10T07:45:16.865Z"
   },
   {
    "duration": 44,
    "start_time": "2023-04-10T07:45:17.023Z"
   },
   {
    "duration": 12,
    "start_time": "2023-04-10T07:45:17.084Z"
   },
   {
    "duration": 94,
    "start_time": "2023-04-10T07:45:17.099Z"
   },
   {
    "duration": 96,
    "start_time": "2023-04-10T07:45:17.196Z"
   },
   {
    "duration": 114,
    "start_time": "2023-04-10T07:45:17.295Z"
   },
   {
    "duration": 128,
    "start_time": "2023-04-10T07:45:17.412Z"
   },
   {
    "duration": 167,
    "start_time": "2023-04-10T07:45:17.541Z"
   },
   {
    "duration": 174,
    "start_time": "2023-04-10T07:45:17.709Z"
   },
   {
    "duration": 136,
    "start_time": "2023-04-10T07:45:17.885Z"
   },
   {
    "duration": 130,
    "start_time": "2023-04-10T07:45:18.023Z"
   },
   {
    "duration": 185,
    "start_time": "2023-04-10T07:45:18.155Z"
   },
   {
    "duration": 10,
    "start_time": "2023-04-10T07:45:18.343Z"
   },
   {
    "duration": 189,
    "start_time": "2023-04-10T07:45:18.354Z"
   },
   {
    "duration": 10,
    "start_time": "2023-04-10T07:45:18.545Z"
   },
   {
    "duration": 44,
    "start_time": "2023-04-10T07:45:18.556Z"
   },
   {
    "duration": 143,
    "start_time": "2023-04-10T07:45:18.601Z"
   },
   {
    "duration": 13,
    "start_time": "2023-04-10T07:45:18.746Z"
   },
   {
    "duration": 37,
    "start_time": "2023-04-10T07:45:18.761Z"
   },
   {
    "duration": 0,
    "start_time": "2023-04-10T07:45:18.799Z"
   },
   {
    "duration": 0,
    "start_time": "2023-04-10T07:45:18.801Z"
   },
   {
    "duration": 13,
    "start_time": "2023-04-10T07:45:48.675Z"
   },
   {
    "duration": 10,
    "start_time": "2023-04-10T07:45:52.329Z"
   },
   {
    "duration": 8,
    "start_time": "2023-04-10T07:45:59.225Z"
   },
   {
    "duration": 13,
    "start_time": "2023-04-10T07:46:07.156Z"
   },
   {
    "duration": 17,
    "start_time": "2023-04-10T07:53:51.487Z"
   },
   {
    "duration": 14,
    "start_time": "2023-04-10T07:55:13.823Z"
   },
   {
    "duration": 18,
    "start_time": "2023-04-10T07:55:17.911Z"
   },
   {
    "duration": 9,
    "start_time": "2023-04-10T07:57:54.447Z"
   },
   {
    "duration": 9,
    "start_time": "2023-04-10T07:58:05.767Z"
   },
   {
    "duration": 23,
    "start_time": "2023-04-10T07:58:57.800Z"
   },
   {
    "duration": 22,
    "start_time": "2023-04-10T07:59:33.317Z"
   },
   {
    "duration": 3,
    "start_time": "2023-04-10T08:07:25.122Z"
   },
   {
    "duration": 832,
    "start_time": "2023-04-10T08:09:00.701Z"
   },
   {
    "duration": 2577,
    "start_time": "2023-04-10T08:10:50.618Z"
   },
   {
    "duration": 44,
    "start_time": "2023-04-10T08:13:35.717Z"
   },
   {
    "duration": 70,
    "start_time": "2023-04-10T08:13:42.612Z"
   },
   {
    "duration": 54,
    "start_time": "2023-04-10T08:15:10.369Z"
   },
   {
    "duration": 164,
    "start_time": "2023-04-10T08:15:28.440Z"
   },
   {
    "duration": 65,
    "start_time": "2023-04-10T08:15:32.253Z"
   },
   {
    "duration": 2888,
    "start_time": "2023-04-10T08:16:00.667Z"
   },
   {
    "duration": 220,
    "start_time": "2023-04-10T08:16:03.557Z"
   },
   {
    "duration": 72,
    "start_time": "2023-04-10T08:16:03.782Z"
   },
   {
    "duration": 34,
    "start_time": "2023-04-10T08:16:03.857Z"
   },
   {
    "duration": 107,
    "start_time": "2023-04-10T08:16:03.895Z"
   },
   {
    "duration": 105,
    "start_time": "2023-04-10T08:16:04.005Z"
   },
   {
    "duration": 155,
    "start_time": "2023-04-10T08:16:04.112Z"
   },
   {
    "duration": 171,
    "start_time": "2023-04-10T08:16:04.268Z"
   },
   {
    "duration": 304,
    "start_time": "2023-04-10T08:16:04.441Z"
   },
   {
    "duration": 181,
    "start_time": "2023-04-10T08:16:04.748Z"
   },
   {
    "duration": 172,
    "start_time": "2023-04-10T08:16:04.931Z"
   },
   {
    "duration": 183,
    "start_time": "2023-04-10T08:16:05.106Z"
   },
   {
    "duration": 185,
    "start_time": "2023-04-10T08:16:05.292Z"
   },
   {
    "duration": 12,
    "start_time": "2023-04-10T08:16:05.482Z"
   },
   {
    "duration": 170,
    "start_time": "2023-04-10T08:16:05.497Z"
   },
   {
    "duration": 20,
    "start_time": "2023-04-10T08:16:05.670Z"
   },
   {
    "duration": 67,
    "start_time": "2023-04-10T08:16:05.693Z"
   },
   {
    "duration": 197,
    "start_time": "2023-04-10T08:16:05.762Z"
   },
   {
    "duration": 11,
    "start_time": "2023-04-10T08:16:05.962Z"
   },
   {
    "duration": 108,
    "start_time": "2023-04-10T08:16:05.975Z"
   },
   {
    "duration": 160,
    "start_time": "2023-04-10T08:16:06.085Z"
   },
   {
    "duration": 132,
    "start_time": "2023-04-10T08:16:06.248Z"
   },
   {
    "duration": 0,
    "start_time": "2023-04-10T08:16:06.383Z"
   },
   {
    "duration": 3249,
    "start_time": "2023-04-10T08:22:12.300Z"
   },
   {
    "duration": 158,
    "start_time": "2023-04-10T08:22:15.551Z"
   },
   {
    "duration": 49,
    "start_time": "2023-04-10T08:22:15.711Z"
   },
   {
    "duration": 25,
    "start_time": "2023-04-10T08:22:15.762Z"
   },
   {
    "duration": 72,
    "start_time": "2023-04-10T08:22:15.788Z"
   },
   {
    "duration": 85,
    "start_time": "2023-04-10T08:22:15.862Z"
   },
   {
    "duration": 116,
    "start_time": "2023-04-10T08:22:15.949Z"
   },
   {
    "duration": 139,
    "start_time": "2023-04-10T08:22:16.066Z"
   },
   {
    "duration": 121,
    "start_time": "2023-04-10T08:22:16.207Z"
   },
   {
    "duration": 131,
    "start_time": "2023-04-10T08:22:16.331Z"
   },
   {
    "duration": 151,
    "start_time": "2023-04-10T08:22:16.465Z"
   },
   {
    "duration": 141,
    "start_time": "2023-04-10T08:22:16.618Z"
   },
   {
    "duration": 157,
    "start_time": "2023-04-10T08:22:16.762Z"
   },
   {
    "duration": 7,
    "start_time": "2023-04-10T08:22:16.922Z"
   },
   {
    "duration": 161,
    "start_time": "2023-04-10T08:22:16.931Z"
   },
   {
    "duration": 11,
    "start_time": "2023-04-10T08:22:17.094Z"
   },
   {
    "duration": 24,
    "start_time": "2023-04-10T08:22:17.107Z"
   },
   {
    "duration": 128,
    "start_time": "2023-04-10T08:22:17.133Z"
   },
   {
    "duration": 22,
    "start_time": "2023-04-10T08:22:17.263Z"
   },
   {
    "duration": 17,
    "start_time": "2023-04-10T08:22:17.287Z"
   },
   {
    "duration": 8,
    "start_time": "2023-04-10T08:22:17.306Z"
   },
   {
    "duration": 160,
    "start_time": "2023-04-10T08:22:17.316Z"
   },
   {
    "duration": 0,
    "start_time": "2023-04-10T08:22:17.484Z"
   },
   {
    "duration": 2556,
    "start_time": "2023-04-10T08:32:08.643Z"
   },
   {
    "duration": 337,
    "start_time": "2023-04-10T08:34:20.601Z"
   },
   {
    "duration": 3611,
    "start_time": "2023-04-10T08:34:25.003Z"
   },
   {
    "duration": 9,
    "start_time": "2023-04-10T11:03:41.767Z"
   },
   {
    "duration": 77,
    "start_time": "2023-04-10T11:04:03.742Z"
   },
   {
    "duration": 9,
    "start_time": "2023-04-10T11:05:43.078Z"
   },
   {
    "duration": 10,
    "start_time": "2023-04-10T11:05:55.469Z"
   },
   {
    "duration": 20,
    "start_time": "2023-04-10T11:06:04.685Z"
   },
   {
    "duration": 9,
    "start_time": "2023-04-10T11:06:09.070Z"
   },
   {
    "duration": 8,
    "start_time": "2023-04-10T11:06:17.598Z"
   },
   {
    "duration": 2795,
    "start_time": "2023-04-10T11:06:42.627Z"
   },
   {
    "duration": 174,
    "start_time": "2023-04-10T11:06:45.424Z"
   },
   {
    "duration": 41,
    "start_time": "2023-04-10T11:06:45.599Z"
   },
   {
    "duration": 8,
    "start_time": "2023-04-10T11:06:45.643Z"
   },
   {
    "duration": 98,
    "start_time": "2023-04-10T11:06:45.653Z"
   },
   {
    "duration": 90,
    "start_time": "2023-04-10T11:06:45.753Z"
   },
   {
    "duration": 141,
    "start_time": "2023-04-10T11:06:45.845Z"
   },
   {
    "duration": 174,
    "start_time": "2023-04-10T11:06:45.987Z"
   },
   {
    "duration": 164,
    "start_time": "2023-04-10T11:06:46.163Z"
   },
   {
    "duration": 143,
    "start_time": "2023-04-10T11:06:46.330Z"
   },
   {
    "duration": 132,
    "start_time": "2023-04-10T11:06:46.475Z"
   },
   {
    "duration": 139,
    "start_time": "2023-04-10T11:06:46.609Z"
   },
   {
    "duration": 151,
    "start_time": "2023-04-10T11:06:46.750Z"
   },
   {
    "duration": 7,
    "start_time": "2023-04-10T11:06:46.903Z"
   },
   {
    "duration": 127,
    "start_time": "2023-04-10T11:06:46.912Z"
   },
   {
    "duration": 8,
    "start_time": "2023-04-10T11:06:47.042Z"
   },
   {
    "duration": 23,
    "start_time": "2023-04-10T11:06:47.052Z"
   },
   {
    "duration": 222,
    "start_time": "2023-04-10T11:06:47.087Z"
   },
   {
    "duration": 8,
    "start_time": "2023-04-10T11:06:47.311Z"
   },
   {
    "duration": 24,
    "start_time": "2023-04-10T11:06:47.320Z"
   },
   {
    "duration": 32,
    "start_time": "2023-04-10T11:06:47.346Z"
   },
   {
    "duration": 290,
    "start_time": "2023-04-10T11:06:47.381Z"
   },
   {
    "duration": 3621,
    "start_time": "2023-04-10T11:06:47.673Z"
   },
   {
    "duration": 10,
    "start_time": "2023-04-10T11:07:38.913Z"
   },
   {
    "duration": 13,
    "start_time": "2023-04-10T11:07:54.030Z"
   },
   {
    "duration": 20,
    "start_time": "2023-04-10T11:07:58.496Z"
   },
   {
    "duration": 15,
    "start_time": "2023-04-10T11:08:06.844Z"
   },
   {
    "duration": 17,
    "start_time": "2023-04-10T11:08:09.822Z"
   },
   {
    "duration": 14,
    "start_time": "2023-04-10T11:08:12.654Z"
   },
   {
    "duration": 5,
    "start_time": "2023-04-10T11:55:14.566Z"
   },
   {
    "duration": 7,
    "start_time": "2023-04-10T11:55:44.285Z"
   },
   {
    "duration": 7,
    "start_time": "2023-04-10T11:56:45.061Z"
   },
   {
    "duration": 7,
    "start_time": "2023-04-10T11:56:51.485Z"
   },
   {
    "duration": 2328,
    "start_time": "2023-04-10T11:59:25.657Z"
   },
   {
    "duration": 149,
    "start_time": "2023-04-10T11:59:27.987Z"
   },
   {
    "duration": 49,
    "start_time": "2023-04-10T11:59:28.138Z"
   },
   {
    "duration": 13,
    "start_time": "2023-04-10T11:59:28.189Z"
   },
   {
    "duration": 79,
    "start_time": "2023-04-10T11:59:28.204Z"
   },
   {
    "duration": 70,
    "start_time": "2023-04-10T11:59:28.284Z"
   },
   {
    "duration": 112,
    "start_time": "2023-04-10T11:59:28.356Z"
   },
   {
    "duration": 130,
    "start_time": "2023-04-10T11:59:28.470Z"
   },
   {
    "duration": 116,
    "start_time": "2023-04-10T11:59:28.602Z"
   },
   {
    "duration": 128,
    "start_time": "2023-04-10T11:59:28.721Z"
   },
   {
    "duration": 189,
    "start_time": "2023-04-10T11:59:28.850Z"
   },
   {
    "duration": 120,
    "start_time": "2023-04-10T11:59:29.040Z"
   },
   {
    "duration": 131,
    "start_time": "2023-04-10T11:59:29.161Z"
   },
   {
    "duration": 7,
    "start_time": "2023-04-10T11:59:29.294Z"
   },
   {
    "duration": 119,
    "start_time": "2023-04-10T11:59:29.302Z"
   },
   {
    "duration": 7,
    "start_time": "2023-04-10T11:59:29.423Z"
   },
   {
    "duration": 21,
    "start_time": "2023-04-10T11:59:29.432Z"
   },
   {
    "duration": 118,
    "start_time": "2023-04-10T11:59:29.455Z"
   },
   {
    "duration": 15,
    "start_time": "2023-04-10T11:59:29.575Z"
   },
   {
    "duration": 14,
    "start_time": "2023-04-10T11:59:29.592Z"
   },
   {
    "duration": 12,
    "start_time": "2023-04-10T11:59:29.607Z"
   },
   {
    "duration": 271,
    "start_time": "2023-04-10T11:59:29.621Z"
   },
   {
    "duration": 3166,
    "start_time": "2023-04-10T11:59:29.894Z"
   },
   {
    "duration": 5,
    "start_time": "2023-04-10T11:59:33.062Z"
   },
   {
    "duration": 3196,
    "start_time": "2023-04-10T12:00:06.717Z"
   },
   {
    "duration": 165,
    "start_time": "2023-04-10T12:00:09.915Z"
   },
   {
    "duration": 44,
    "start_time": "2023-04-10T12:00:10.081Z"
   },
   {
    "duration": 9,
    "start_time": "2023-04-10T12:00:10.126Z"
   },
   {
    "duration": 84,
    "start_time": "2023-04-10T12:00:10.136Z"
   },
   {
    "duration": 76,
    "start_time": "2023-04-10T12:00:10.222Z"
   },
   {
    "duration": 111,
    "start_time": "2023-04-10T12:00:10.300Z"
   },
   {
    "duration": 123,
    "start_time": "2023-04-10T12:00:10.413Z"
   },
   {
    "duration": 125,
    "start_time": "2023-04-10T12:00:10.538Z"
   },
   {
    "duration": 153,
    "start_time": "2023-04-10T12:00:10.666Z"
   },
   {
    "duration": 137,
    "start_time": "2023-04-10T12:00:10.820Z"
   },
   {
    "duration": 153,
    "start_time": "2023-04-10T12:00:10.958Z"
   },
   {
    "duration": 133,
    "start_time": "2023-04-10T12:00:11.113Z"
   },
   {
    "duration": 7,
    "start_time": "2023-04-10T12:00:11.247Z"
   },
   {
    "duration": 147,
    "start_time": "2023-04-10T12:00:11.256Z"
   },
   {
    "duration": 9,
    "start_time": "2023-04-10T12:00:11.405Z"
   },
   {
    "duration": 16,
    "start_time": "2023-04-10T12:00:11.416Z"
   },
   {
    "duration": 136,
    "start_time": "2023-04-10T12:00:11.434Z"
   },
   {
    "duration": 18,
    "start_time": "2023-04-10T12:00:11.572Z"
   },
   {
    "duration": 14,
    "start_time": "2023-04-10T12:00:11.592Z"
   },
   {
    "duration": 9,
    "start_time": "2023-04-10T12:00:11.608Z"
   },
   {
    "duration": 330,
    "start_time": "2023-04-10T12:00:11.618Z"
   },
   {
    "duration": 3350,
    "start_time": "2023-04-10T12:00:11.950Z"
   },
   {
    "duration": 6,
    "start_time": "2023-04-10T12:00:15.302Z"
   },
   {
    "duration": 155,
    "start_time": "2023-04-10T12:03:24.607Z"
   },
   {
    "duration": 9,
    "start_time": "2023-04-10T12:04:17.167Z"
   },
   {
    "duration": 47,
    "start_time": "2023-04-10T12:05:09.039Z"
   },
   {
    "duration": 2658,
    "start_time": "2023-04-10T12:05:20.671Z"
   },
   {
    "duration": 170,
    "start_time": "2023-04-10T12:05:23.332Z"
   },
   {
    "duration": 42,
    "start_time": "2023-04-10T12:05:23.504Z"
   },
   {
    "duration": 8,
    "start_time": "2023-04-10T12:05:23.548Z"
   },
   {
    "duration": 100,
    "start_time": "2023-04-10T12:05:23.559Z"
   },
   {
    "duration": 74,
    "start_time": "2023-04-10T12:05:23.661Z"
   },
   {
    "duration": 121,
    "start_time": "2023-04-10T12:05:23.736Z"
   },
   {
    "duration": 134,
    "start_time": "2023-04-10T12:05:23.859Z"
   },
   {
    "duration": 134,
    "start_time": "2023-04-10T12:05:23.994Z"
   },
   {
    "duration": 226,
    "start_time": "2023-04-10T12:05:24.130Z"
   },
   {
    "duration": 122,
    "start_time": "2023-04-10T12:05:24.357Z"
   },
   {
    "duration": 139,
    "start_time": "2023-04-10T12:05:24.484Z"
   },
   {
    "duration": 158,
    "start_time": "2023-04-10T12:05:24.625Z"
   },
   {
    "duration": 8,
    "start_time": "2023-04-10T12:05:24.788Z"
   },
   {
    "duration": 258,
    "start_time": "2023-04-10T12:05:24.798Z"
   },
   {
    "duration": 8,
    "start_time": "2023-04-10T12:05:25.058Z"
   },
   {
    "duration": 56,
    "start_time": "2023-04-10T12:05:25.068Z"
   },
   {
    "duration": 117,
    "start_time": "2023-04-10T12:05:25.126Z"
   },
   {
    "duration": 9,
    "start_time": "2023-04-10T12:05:25.245Z"
   },
   {
    "duration": 28,
    "start_time": "2023-04-10T12:05:25.256Z"
   },
   {
    "duration": 31,
    "start_time": "2023-04-10T12:05:25.286Z"
   },
   {
    "duration": 331,
    "start_time": "2023-04-10T12:05:25.319Z"
   },
   {
    "duration": 3331,
    "start_time": "2023-04-10T12:05:25.652Z"
   },
   {
    "duration": 5,
    "start_time": "2023-04-10T12:05:28.985Z"
   },
   {
    "duration": 6,
    "start_time": "2023-04-10T12:25:28.917Z"
   },
   {
    "duration": 2597,
    "start_time": "2023-04-10T12:26:58.815Z"
   },
   {
    "duration": 162,
    "start_time": "2023-04-10T12:27:01.414Z"
   },
   {
    "duration": 55,
    "start_time": "2023-04-10T12:27:01.577Z"
   },
   {
    "duration": 44,
    "start_time": "2023-04-10T12:27:01.634Z"
   },
   {
    "duration": 99,
    "start_time": "2023-04-10T12:27:01.680Z"
   },
   {
    "duration": 70,
    "start_time": "2023-04-10T12:27:01.785Z"
   },
   {
    "duration": 110,
    "start_time": "2023-04-10T12:27:01.856Z"
   },
   {
    "duration": 136,
    "start_time": "2023-04-10T12:27:01.967Z"
   },
   {
    "duration": 117,
    "start_time": "2023-04-10T12:27:02.105Z"
   },
   {
    "duration": 130,
    "start_time": "2023-04-10T12:27:02.225Z"
   },
   {
    "duration": 140,
    "start_time": "2023-04-10T12:27:02.356Z"
   },
   {
    "duration": 143,
    "start_time": "2023-04-10T12:27:02.497Z"
   },
   {
    "duration": 142,
    "start_time": "2023-04-10T12:27:02.641Z"
   },
   {
    "duration": 7,
    "start_time": "2023-04-10T12:27:02.785Z"
   },
   {
    "duration": 141,
    "start_time": "2023-04-10T12:27:02.794Z"
   },
   {
    "duration": 7,
    "start_time": "2023-04-10T12:27:02.937Z"
   },
   {
    "duration": 66,
    "start_time": "2023-04-10T12:27:02.946Z"
   },
   {
    "duration": 134,
    "start_time": "2023-04-10T12:27:03.014Z"
   },
   {
    "duration": 7,
    "start_time": "2023-04-10T12:27:03.150Z"
   },
   {
    "duration": 36,
    "start_time": "2023-04-10T12:27:03.159Z"
   },
   {
    "duration": 37,
    "start_time": "2023-04-10T12:27:03.196Z"
   },
   {
    "duration": 269,
    "start_time": "2023-04-10T12:27:03.235Z"
   },
   {
    "duration": 3408,
    "start_time": "2023-04-10T12:27:03.505Z"
   },
   {
    "duration": 5,
    "start_time": "2023-04-10T12:27:06.915Z"
   },
   {
    "duration": 7,
    "start_time": "2023-04-10T12:28:53.591Z"
   },
   {
    "duration": 173,
    "start_time": "2023-04-10T12:42:15.773Z"
   },
   {
    "duration": 81,
    "start_time": "2023-04-10T12:42:36.317Z"
   },
   {
    "duration": 130,
    "start_time": "2023-04-10T12:42:45.550Z"
   },
   {
    "duration": 150,
    "start_time": "2023-04-10T12:42:53.276Z"
   },
   {
    "duration": 12,
    "start_time": "2023-04-10T12:48:04.437Z"
   },
   {
    "duration": 13,
    "start_time": "2023-04-10T12:48:10.237Z"
   },
   {
    "duration": 14,
    "start_time": "2023-04-10T12:48:13.295Z"
   },
   {
    "duration": 13,
    "start_time": "2023-04-10T12:48:24.732Z"
   },
   {
    "duration": 2824,
    "start_time": "2023-04-10T12:50:25.086Z"
   },
   {
    "duration": 183,
    "start_time": "2023-04-10T12:50:27.913Z"
   },
   {
    "duration": 41,
    "start_time": "2023-04-10T12:50:28.099Z"
   },
   {
    "duration": 9,
    "start_time": "2023-04-10T12:50:28.142Z"
   },
   {
    "duration": 93,
    "start_time": "2023-04-10T12:50:28.153Z"
   },
   {
    "duration": 97,
    "start_time": "2023-04-10T12:50:28.248Z"
   },
   {
    "duration": 137,
    "start_time": "2023-04-10T12:50:28.346Z"
   },
   {
    "duration": 147,
    "start_time": "2023-04-10T12:50:28.486Z"
   },
   {
    "duration": 136,
    "start_time": "2023-04-10T12:50:28.635Z"
   },
   {
    "duration": 162,
    "start_time": "2023-04-10T12:50:28.773Z"
   },
   {
    "duration": 133,
    "start_time": "2023-04-10T12:50:28.937Z"
   },
   {
    "duration": 159,
    "start_time": "2023-04-10T12:50:29.072Z"
   },
   {
    "duration": 144,
    "start_time": "2023-04-10T12:50:29.232Z"
   },
   {
    "duration": 7,
    "start_time": "2023-04-10T12:50:29.384Z"
   },
   {
    "duration": 143,
    "start_time": "2023-04-10T12:50:29.393Z"
   },
   {
    "duration": 9,
    "start_time": "2023-04-10T12:50:29.537Z"
   },
   {
    "duration": 29,
    "start_time": "2023-04-10T12:50:29.547Z"
   },
   {
    "duration": 133,
    "start_time": "2023-04-10T12:50:29.587Z"
   },
   {
    "duration": 11,
    "start_time": "2023-04-10T12:50:29.723Z"
   },
   {
    "duration": 15,
    "start_time": "2023-04-10T12:50:29.736Z"
   },
   {
    "duration": 37,
    "start_time": "2023-04-10T12:50:29.753Z"
   },
   {
    "duration": 372,
    "start_time": "2023-04-10T12:50:29.794Z"
   },
   {
    "duration": 3724,
    "start_time": "2023-04-10T12:50:30.167Z"
   },
   {
    "duration": 10,
    "start_time": "2023-04-10T12:50:33.894Z"
   },
   {
    "duration": 182,
    "start_time": "2023-04-10T12:50:33.906Z"
   },
   {
    "duration": 127,
    "start_time": "2023-04-10T12:50:34.091Z"
   },
   {
    "duration": 14,
    "start_time": "2023-04-10T12:54:10.621Z"
   },
   {
    "duration": 13,
    "start_time": "2023-04-10T12:54:21.077Z"
   },
   {
    "duration": 182,
    "start_time": "2023-04-10T13:09:22.857Z"
   },
   {
    "duration": 1086,
    "start_time": "2023-04-10T13:17:11.892Z"
   },
   {
    "duration": 1415,
    "start_time": "2023-04-10T13:31:13.203Z"
   },
   {
    "duration": 8,
    "start_time": "2023-04-10T13:32:21.628Z"
   },
   {
    "duration": 1183,
    "start_time": "2023-04-10T13:34:53.401Z"
   },
   {
    "duration": 10,
    "start_time": "2023-04-10T17:01:17.828Z"
   },
   {
    "duration": 3190,
    "start_time": "2023-04-10T17:01:28.931Z"
   },
   {
    "duration": 156,
    "start_time": "2023-04-10T17:01:32.123Z"
   },
   {
    "duration": 43,
    "start_time": "2023-04-10T17:01:32.283Z"
   },
   {
    "duration": 10,
    "start_time": "2023-04-10T17:01:32.328Z"
   },
   {
    "duration": 77,
    "start_time": "2023-04-10T17:01:32.339Z"
   },
   {
    "duration": 78,
    "start_time": "2023-04-10T17:01:32.417Z"
   },
   {
    "duration": 125,
    "start_time": "2023-04-10T17:01:32.497Z"
   },
   {
    "duration": 136,
    "start_time": "2023-04-10T17:01:32.624Z"
   },
   {
    "duration": 132,
    "start_time": "2023-04-10T17:01:32.761Z"
   },
   {
    "duration": 146,
    "start_time": "2023-04-10T17:01:32.896Z"
   },
   {
    "duration": 116,
    "start_time": "2023-04-10T17:01:33.044Z"
   },
   {
    "duration": 133,
    "start_time": "2023-04-10T17:01:33.162Z"
   },
   {
    "duration": 128,
    "start_time": "2023-04-10T17:01:33.296Z"
   },
   {
    "duration": 8,
    "start_time": "2023-04-10T17:01:33.425Z"
   },
   {
    "duration": 116,
    "start_time": "2023-04-10T17:01:33.440Z"
   },
   {
    "duration": 9,
    "start_time": "2023-04-10T17:01:33.558Z"
   },
   {
    "duration": 51,
    "start_time": "2023-04-10T17:01:33.568Z"
   },
   {
    "duration": 120,
    "start_time": "2023-04-10T17:01:33.621Z"
   },
   {
    "duration": 11,
    "start_time": "2023-04-10T17:01:33.744Z"
   },
   {
    "duration": 35,
    "start_time": "2023-04-10T17:01:33.757Z"
   },
   {
    "duration": 135,
    "start_time": "2023-04-10T17:01:33.795Z"
   },
   {
    "duration": 300,
    "start_time": "2023-04-10T17:01:33.931Z"
   },
   {
    "duration": 3189,
    "start_time": "2023-04-10T17:01:34.232Z"
   },
   {
    "duration": 7,
    "start_time": "2023-04-10T17:01:37.423Z"
   },
   {
    "duration": 141,
    "start_time": "2023-04-10T17:01:37.431Z"
   },
   {
    "duration": 1134,
    "start_time": "2023-04-10T17:01:37.573Z"
   },
   {
    "duration": 85,
    "start_time": "2023-04-10T17:01:38.710Z"
   },
   {
    "duration": 20,
    "start_time": "2023-04-10T17:01:49.828Z"
   },
   {
    "duration": 25,
    "start_time": "2023-04-10T17:02:34.732Z"
   },
   {
    "duration": 20,
    "start_time": "2023-04-10T17:02:59.827Z"
   },
   {
    "duration": 16,
    "start_time": "2023-04-10T17:03:10.826Z"
   },
   {
    "duration": 15,
    "start_time": "2023-04-10T17:03:18.858Z"
   },
   {
    "duration": 17,
    "start_time": "2023-04-10T17:03:59.867Z"
   },
   {
    "duration": 17,
    "start_time": "2023-04-10T17:04:16.055Z"
   },
   {
    "duration": 11,
    "start_time": "2023-04-10T17:05:34.146Z"
   },
   {
    "duration": 15,
    "start_time": "2023-04-10T17:05:52.585Z"
   },
   {
    "duration": 2070,
    "start_time": "2023-04-10T17:15:33.076Z"
   },
   {
    "duration": 21,
    "start_time": "2023-04-10T17:16:33.383Z"
   },
   {
    "duration": 1523,
    "start_time": "2023-04-10T17:17:38.143Z"
   },
   {
    "duration": 25,
    "start_time": "2023-04-10T17:19:10.151Z"
   },
   {
    "duration": 25,
    "start_time": "2023-04-10T17:27:52.596Z"
   },
   {
    "duration": 24,
    "start_time": "2023-04-10T17:28:42.345Z"
   },
   {
    "duration": 1364,
    "start_time": "2023-04-10T17:45:43.328Z"
   },
   {
    "duration": 1201,
    "start_time": "2023-04-10T17:46:33.415Z"
   },
   {
    "duration": 1298,
    "start_time": "2023-04-10T17:46:58.430Z"
   },
   {
    "duration": 27,
    "start_time": "2023-04-10T17:47:25.022Z"
   },
   {
    "duration": 20,
    "start_time": "2023-04-10T17:47:37.501Z"
   },
   {
    "duration": 13,
    "start_time": "2023-04-10T17:47:46.982Z"
   },
   {
    "duration": 177,
    "start_time": "2023-04-10T17:49:18.671Z"
   },
   {
    "duration": 322,
    "start_time": "2023-04-10T17:49:53.113Z"
   },
   {
    "duration": 257,
    "start_time": "2023-04-10T17:50:11.310Z"
   },
   {
    "duration": 263,
    "start_time": "2023-04-10T17:50:20.875Z"
   },
   {
    "duration": 3313,
    "start_time": "2023-04-10T17:57:43.434Z"
   },
   {
    "duration": 158,
    "start_time": "2023-04-10T17:57:46.749Z"
   },
   {
    "duration": 43,
    "start_time": "2023-04-10T17:57:46.908Z"
   },
   {
    "duration": 9,
    "start_time": "2023-04-10T17:57:46.953Z"
   },
   {
    "duration": 93,
    "start_time": "2023-04-10T17:57:46.963Z"
   },
   {
    "duration": 102,
    "start_time": "2023-04-10T17:57:47.058Z"
   },
   {
    "duration": 132,
    "start_time": "2023-04-10T17:57:47.162Z"
   },
   {
    "duration": 136,
    "start_time": "2023-04-10T17:57:47.296Z"
   },
   {
    "duration": 120,
    "start_time": "2023-04-10T17:57:47.434Z"
   },
   {
    "duration": 142,
    "start_time": "2023-04-10T17:57:47.557Z"
   },
   {
    "duration": 122,
    "start_time": "2023-04-10T17:57:47.701Z"
   },
   {
    "duration": 126,
    "start_time": "2023-04-10T17:57:47.825Z"
   },
   {
    "duration": 160,
    "start_time": "2023-04-10T17:57:47.952Z"
   },
   {
    "duration": 8,
    "start_time": "2023-04-10T17:57:48.113Z"
   },
   {
    "duration": 134,
    "start_time": "2023-04-10T17:57:48.122Z"
   },
   {
    "duration": 8,
    "start_time": "2023-04-10T17:57:48.257Z"
   },
   {
    "duration": 53,
    "start_time": "2023-04-10T17:57:48.266Z"
   },
   {
    "duration": 112,
    "start_time": "2023-04-10T17:57:48.321Z"
   },
   {
    "duration": 9,
    "start_time": "2023-04-10T17:57:48.435Z"
   },
   {
    "duration": 30,
    "start_time": "2023-04-10T17:57:48.445Z"
   },
   {
    "duration": 93,
    "start_time": "2023-04-10T17:57:48.477Z"
   },
   {
    "duration": 297,
    "start_time": "2023-04-10T17:57:48.572Z"
   },
   {
    "duration": 3018,
    "start_time": "2023-04-10T17:57:48.870Z"
   },
   {
    "duration": 8,
    "start_time": "2023-04-10T17:57:51.890Z"
   },
   {
    "duration": 143,
    "start_time": "2023-04-10T17:57:51.900Z"
   },
   {
    "duration": 1108,
    "start_time": "2023-04-10T17:57:52.045Z"
   },
   {
    "duration": 81,
    "start_time": "2023-04-10T17:57:53.155Z"
   },
   {
    "duration": 0,
    "start_time": "2023-04-10T17:57:53.237Z"
   },
   {
    "duration": 0,
    "start_time": "2023-04-10T17:57:53.238Z"
   },
   {
    "duration": 25,
    "start_time": "2023-04-10T17:58:23.556Z"
   },
   {
    "duration": 3769,
    "start_time": "2023-04-11T06:33:50.912Z"
   },
   {
    "duration": 169,
    "start_time": "2023-04-11T06:33:54.683Z"
   },
   {
    "duration": 49,
    "start_time": "2023-04-11T06:33:54.854Z"
   },
   {
    "duration": 9,
    "start_time": "2023-04-11T06:33:54.906Z"
   },
   {
    "duration": 88,
    "start_time": "2023-04-11T06:33:54.916Z"
   },
   {
    "duration": 95,
    "start_time": "2023-04-11T06:33:55.005Z"
   },
   {
    "duration": 128,
    "start_time": "2023-04-11T06:33:55.101Z"
   },
   {
    "duration": 138,
    "start_time": "2023-04-11T06:33:55.242Z"
   },
   {
    "duration": 120,
    "start_time": "2023-04-11T06:33:55.381Z"
   },
   {
    "duration": 155,
    "start_time": "2023-04-11T06:33:55.504Z"
   },
   {
    "duration": 136,
    "start_time": "2023-04-11T06:33:55.661Z"
   },
   {
    "duration": 173,
    "start_time": "2023-04-11T06:33:55.799Z"
   },
   {
    "duration": 178,
    "start_time": "2023-04-11T06:33:55.974Z"
   },
   {
    "duration": 7,
    "start_time": "2023-04-11T06:33:56.154Z"
   },
   {
    "duration": 140,
    "start_time": "2023-04-11T06:33:56.163Z"
   },
   {
    "duration": 10,
    "start_time": "2023-04-11T06:33:56.305Z"
   },
   {
    "duration": 32,
    "start_time": "2023-04-11T06:33:56.317Z"
   },
   {
    "duration": 202,
    "start_time": "2023-04-11T06:33:56.351Z"
   },
   {
    "duration": 10,
    "start_time": "2023-04-11T06:33:56.554Z"
   },
   {
    "duration": 29,
    "start_time": "2023-04-11T06:33:56.566Z"
   },
   {
    "duration": 18,
    "start_time": "2023-04-11T06:33:56.597Z"
   },
   {
    "duration": 340,
    "start_time": "2023-04-11T06:33:56.617Z"
   },
   {
    "duration": 3453,
    "start_time": "2023-04-11T06:33:56.959Z"
   },
   {
    "duration": 7,
    "start_time": "2023-04-11T06:34:00.414Z"
   },
   {
    "duration": 177,
    "start_time": "2023-04-11T06:34:00.423Z"
   },
   {
    "duration": 1179,
    "start_time": "2023-04-11T06:34:00.602Z"
   },
   {
    "duration": 26,
    "start_time": "2023-04-11T06:34:01.783Z"
   },
   {
    "duration": 3479,
    "start_time": "2023-04-11T06:34:50.348Z"
   },
   {
    "duration": 162,
    "start_time": "2023-04-11T06:34:53.829Z"
   },
   {
    "duration": 123,
    "start_time": "2023-04-11T06:34:53.994Z"
   },
   {
    "duration": 10,
    "start_time": "2023-04-11T06:34:54.119Z"
   },
   {
    "duration": 108,
    "start_time": "2023-04-11T06:34:54.131Z"
   },
   {
    "duration": 102,
    "start_time": "2023-04-11T06:34:54.241Z"
   },
   {
    "duration": 129,
    "start_time": "2023-04-11T06:34:54.344Z"
   },
   {
    "duration": 139,
    "start_time": "2023-04-11T06:34:54.475Z"
   },
   {
    "duration": 139,
    "start_time": "2023-04-11T06:34:54.616Z"
   },
   {
    "duration": 148,
    "start_time": "2023-04-11T06:34:54.759Z"
   },
   {
    "duration": 137,
    "start_time": "2023-04-11T06:34:54.909Z"
   },
   {
    "duration": 141,
    "start_time": "2023-04-11T06:34:55.047Z"
   },
   {
    "duration": 156,
    "start_time": "2023-04-11T06:34:55.190Z"
   },
   {
    "duration": 7,
    "start_time": "2023-04-11T06:34:55.348Z"
   },
   {
    "duration": 145,
    "start_time": "2023-04-11T06:34:55.356Z"
   },
   {
    "duration": 9,
    "start_time": "2023-04-11T06:34:55.503Z"
   },
   {
    "duration": 30,
    "start_time": "2023-04-11T06:34:55.514Z"
   },
   {
    "duration": 167,
    "start_time": "2023-04-11T06:34:55.546Z"
   },
   {
    "duration": 10,
    "start_time": "2023-04-11T06:34:55.715Z"
   },
   {
    "duration": 47,
    "start_time": "2023-04-11T06:34:55.727Z"
   },
   {
    "duration": 107,
    "start_time": "2023-04-11T06:34:55.777Z"
   },
   {
    "duration": 341,
    "start_time": "2023-04-11T06:34:55.886Z"
   },
   {
    "duration": 3544,
    "start_time": "2023-04-11T06:34:56.229Z"
   },
   {
    "duration": 8,
    "start_time": "2023-04-11T06:34:59.775Z"
   },
   {
    "duration": 166,
    "start_time": "2023-04-11T06:34:59.785Z"
   },
   {
    "duration": 1219,
    "start_time": "2023-04-11T06:34:59.953Z"
   },
   {
    "duration": 30,
    "start_time": "2023-04-11T06:35:01.174Z"
   },
   {
    "duration": 3827,
    "start_time": "2023-04-11T06:39:59.632Z"
   },
   {
    "duration": 156,
    "start_time": "2023-04-11T06:40:03.461Z"
   },
   {
    "duration": 58,
    "start_time": "2023-04-11T06:40:03.619Z"
   },
   {
    "duration": 11,
    "start_time": "2023-04-11T06:40:03.678Z"
   },
   {
    "duration": 81,
    "start_time": "2023-04-11T06:40:03.692Z"
   },
   {
    "duration": 81,
    "start_time": "2023-04-11T06:40:03.774Z"
   },
   {
    "duration": 124,
    "start_time": "2023-04-11T06:40:03.857Z"
   },
   {
    "duration": 124,
    "start_time": "2023-04-11T06:40:03.982Z"
   },
   {
    "duration": 120,
    "start_time": "2023-04-11T06:40:04.108Z"
   },
   {
    "duration": 142,
    "start_time": "2023-04-11T06:40:04.230Z"
   },
   {
    "duration": 121,
    "start_time": "2023-04-11T06:40:04.374Z"
   },
   {
    "duration": 134,
    "start_time": "2023-04-11T06:40:04.497Z"
   },
   {
    "duration": 139,
    "start_time": "2023-04-11T06:40:04.641Z"
   },
   {
    "duration": 7,
    "start_time": "2023-04-11T06:40:04.782Z"
   },
   {
    "duration": 157,
    "start_time": "2023-04-11T06:40:04.791Z"
   },
   {
    "duration": 9,
    "start_time": "2023-04-11T06:40:04.949Z"
   },
   {
    "duration": 29,
    "start_time": "2023-04-11T06:40:04.960Z"
   },
   {
    "duration": 115,
    "start_time": "2023-04-11T06:40:04.991Z"
   },
   {
    "duration": 11,
    "start_time": "2023-04-11T06:40:05.108Z"
   },
   {
    "duration": 61,
    "start_time": "2023-04-11T06:40:05.121Z"
   },
   {
    "duration": 99,
    "start_time": "2023-04-11T06:40:05.184Z"
   },
   {
    "duration": 278,
    "start_time": "2023-04-11T06:40:05.285Z"
   },
   {
    "duration": 3357,
    "start_time": "2023-04-11T06:40:05.565Z"
   },
   {
    "duration": 7,
    "start_time": "2023-04-11T06:40:08.924Z"
   },
   {
    "duration": 153,
    "start_time": "2023-04-11T06:40:08.932Z"
   },
   {
    "duration": 1136,
    "start_time": "2023-04-11T06:40:09.087Z"
   },
   {
    "duration": 35,
    "start_time": "2023-04-11T06:40:10.224Z"
   },
   {
    "duration": 60,
    "start_time": "2023-04-11T06:51:45.953Z"
   },
   {
    "duration": 3992,
    "start_time": "2023-04-11T06:51:53.726Z"
   },
   {
    "duration": 165,
    "start_time": "2023-04-11T06:51:57.722Z"
   },
   {
    "duration": 59,
    "start_time": "2023-04-11T06:51:57.889Z"
   },
   {
    "duration": 11,
    "start_time": "2023-04-11T06:51:57.950Z"
   },
   {
    "duration": 90,
    "start_time": "2023-04-11T06:51:57.964Z"
   },
   {
    "duration": 87,
    "start_time": "2023-04-11T06:51:58.055Z"
   },
   {
    "duration": 123,
    "start_time": "2023-04-11T06:51:58.144Z"
   },
   {
    "duration": 140,
    "start_time": "2023-04-11T06:51:58.269Z"
   },
   {
    "duration": 134,
    "start_time": "2023-04-11T06:51:58.411Z"
   },
   {
    "duration": 143,
    "start_time": "2023-04-11T06:51:58.547Z"
   },
   {
    "duration": 130,
    "start_time": "2023-04-11T06:51:58.692Z"
   },
   {
    "duration": 151,
    "start_time": "2023-04-11T06:51:58.824Z"
   },
   {
    "duration": 140,
    "start_time": "2023-04-11T06:51:58.978Z"
   },
   {
    "duration": 7,
    "start_time": "2023-04-11T06:51:59.121Z"
   },
   {
    "duration": 135,
    "start_time": "2023-04-11T06:51:59.142Z"
   },
   {
    "duration": 9,
    "start_time": "2023-04-11T06:51:59.279Z"
   },
   {
    "duration": 20,
    "start_time": "2023-04-11T06:51:59.290Z"
   },
   {
    "duration": 137,
    "start_time": "2023-04-11T06:51:59.311Z"
   },
   {
    "duration": 13,
    "start_time": "2023-04-11T06:51:59.450Z"
   },
   {
    "duration": 21,
    "start_time": "2023-04-11T06:51:59.465Z"
   },
   {
    "duration": 138,
    "start_time": "2023-04-11T06:51:59.489Z"
   },
   {
    "duration": 306,
    "start_time": "2023-04-11T06:51:59.629Z"
   },
   {
    "duration": 3515,
    "start_time": "2023-04-11T06:51:59.937Z"
   },
   {
    "duration": 8,
    "start_time": "2023-04-11T06:52:03.453Z"
   },
   {
    "duration": 152,
    "start_time": "2023-04-11T06:52:03.462Z"
   },
   {
    "duration": 1149,
    "start_time": "2023-04-11T06:52:03.616Z"
   },
   {
    "duration": 27,
    "start_time": "2023-04-11T06:52:04.767Z"
   },
   {
    "duration": 48,
    "start_time": "2023-04-11T07:13:17.043Z"
   },
   {
    "duration": 3704,
    "start_time": "2023-04-11T07:13:27.819Z"
   },
   {
    "duration": 173,
    "start_time": "2023-04-11T07:13:31.525Z"
   },
   {
    "duration": 62,
    "start_time": "2023-04-11T07:13:31.699Z"
   },
   {
    "duration": 96,
    "start_time": "2023-04-11T07:13:31.763Z"
   },
   {
    "duration": 99,
    "start_time": "2023-04-11T07:13:31.862Z"
   },
   {
    "duration": 102,
    "start_time": "2023-04-11T07:13:31.963Z"
   },
   {
    "duration": 124,
    "start_time": "2023-04-11T07:13:32.067Z"
   },
   {
    "duration": 150,
    "start_time": "2023-04-11T07:13:32.193Z"
   },
   {
    "duration": 133,
    "start_time": "2023-04-11T07:13:32.345Z"
   },
   {
    "duration": 146,
    "start_time": "2023-04-11T07:13:32.480Z"
   },
   {
    "duration": 137,
    "start_time": "2023-04-11T07:13:32.627Z"
   },
   {
    "duration": 142,
    "start_time": "2023-04-11T07:13:32.766Z"
   },
   {
    "duration": 145,
    "start_time": "2023-04-11T07:13:32.910Z"
   },
   {
    "duration": 8,
    "start_time": "2023-04-11T07:13:33.058Z"
   },
   {
    "duration": 140,
    "start_time": "2023-04-11T07:13:33.068Z"
   },
   {
    "duration": 11,
    "start_time": "2023-04-11T07:13:33.210Z"
   },
   {
    "duration": 53,
    "start_time": "2023-04-11T07:13:33.223Z"
   },
   {
    "duration": 135,
    "start_time": "2023-04-11T07:13:33.279Z"
   },
   {
    "duration": 10,
    "start_time": "2023-04-11T07:13:33.416Z"
   },
   {
    "duration": 29,
    "start_time": "2023-04-11T07:13:33.427Z"
   },
   {
    "duration": 103,
    "start_time": "2023-04-11T07:13:33.458Z"
   },
   {
    "duration": 312,
    "start_time": "2023-04-11T07:13:33.563Z"
   },
   {
    "duration": 3482,
    "start_time": "2023-04-11T07:13:33.877Z"
   },
   {
    "duration": 7,
    "start_time": "2023-04-11T07:13:37.362Z"
   },
   {
    "duration": 177,
    "start_time": "2023-04-11T07:13:37.372Z"
   },
   {
    "duration": 1165,
    "start_time": "2023-04-11T07:13:37.551Z"
   },
   {
    "duration": 36,
    "start_time": "2023-04-11T07:13:38.717Z"
   },
   {
    "duration": 2,
    "start_time": "2023-04-11T07:13:38.755Z"
   },
   {
    "duration": 98,
    "start_time": "2023-04-11T07:13:38.759Z"
   },
   {
    "duration": 9,
    "start_time": "2023-04-11T07:14:01.607Z"
   },
   {
    "duration": 64,
    "start_time": "2023-04-11T07:14:05.071Z"
   },
   {
    "duration": 22,
    "start_time": "2023-04-11T07:18:34.117Z"
   },
   {
    "duration": 62,
    "start_time": "2023-04-11T07:29:35.290Z"
   },
   {
    "duration": 3778,
    "start_time": "2023-04-11T07:30:17.446Z"
   },
   {
    "duration": 165,
    "start_time": "2023-04-11T07:30:21.226Z"
   },
   {
    "duration": 71,
    "start_time": "2023-04-11T07:30:21.392Z"
   },
   {
    "duration": 10,
    "start_time": "2023-04-11T07:30:21.465Z"
   },
   {
    "duration": 85,
    "start_time": "2023-04-11T07:30:21.477Z"
   },
   {
    "duration": 126,
    "start_time": "2023-04-11T07:30:21.564Z"
   },
   {
    "duration": 135,
    "start_time": "2023-04-11T07:30:21.692Z"
   },
   {
    "duration": 146,
    "start_time": "2023-04-11T07:30:21.829Z"
   },
   {
    "duration": 130,
    "start_time": "2023-04-11T07:30:21.977Z"
   },
   {
    "duration": 162,
    "start_time": "2023-04-11T07:30:22.111Z"
   },
   {
    "duration": 129,
    "start_time": "2023-04-11T07:30:22.275Z"
   },
   {
    "duration": 154,
    "start_time": "2023-04-11T07:30:22.406Z"
   },
   {
    "duration": 137,
    "start_time": "2023-04-11T07:30:22.562Z"
   },
   {
    "duration": 7,
    "start_time": "2023-04-11T07:30:22.701Z"
   },
   {
    "duration": 144,
    "start_time": "2023-04-11T07:30:22.709Z"
   },
   {
    "duration": 10,
    "start_time": "2023-04-11T07:30:22.856Z"
   },
   {
    "duration": 40,
    "start_time": "2023-04-11T07:30:22.867Z"
   },
   {
    "duration": 120,
    "start_time": "2023-04-11T07:30:22.909Z"
   },
   {
    "duration": 24,
    "start_time": "2023-04-11T07:30:23.031Z"
   },
   {
    "duration": 34,
    "start_time": "2023-04-11T07:30:23.057Z"
   },
   {
    "duration": 91,
    "start_time": "2023-04-11T07:30:23.093Z"
   },
   {
    "duration": 413,
    "start_time": "2023-04-11T07:30:23.185Z"
   },
   {
    "duration": 3853,
    "start_time": "2023-04-11T07:30:23.599Z"
   },
   {
    "duration": 10,
    "start_time": "2023-04-11T07:30:27.454Z"
   },
   {
    "duration": 200,
    "start_time": "2023-04-11T07:30:27.466Z"
   },
   {
    "duration": 1223,
    "start_time": "2023-04-11T07:30:27.668Z"
   },
   {
    "duration": 26,
    "start_time": "2023-04-11T07:30:28.893Z"
   },
   {
    "duration": 36,
    "start_time": "2023-04-11T07:30:28.922Z"
   },
   {
    "duration": 344,
    "start_time": "2023-04-11T07:30:28.960Z"
   },
   {
    "duration": 15,
    "start_time": "2023-04-11T07:30:29.306Z"
   },
   {
    "duration": 24,
    "start_time": "2023-04-11T07:31:20.349Z"
   },
   {
    "duration": 412,
    "start_time": "2023-04-11T07:31:31.370Z"
   },
   {
    "duration": 78,
    "start_time": "2023-04-11T07:31:35.803Z"
   },
   {
    "duration": 148,
    "start_time": "2023-04-11T08:02:00.354Z"
   },
   {
    "duration": 157,
    "start_time": "2023-04-11T08:04:15.201Z"
   },
   {
    "duration": 2987,
    "start_time": "2023-04-11T08:04:45.838Z"
   },
   {
    "duration": 169,
    "start_time": "2023-04-11T08:04:48.827Z"
   },
   {
    "duration": 120,
    "start_time": "2023-04-11T08:04:48.998Z"
   },
   {
    "duration": 0,
    "start_time": "2023-04-11T08:04:49.121Z"
   },
   {
    "duration": 0,
    "start_time": "2023-04-11T08:04:49.123Z"
   },
   {
    "duration": 0,
    "start_time": "2023-04-11T08:04:49.124Z"
   },
   {
    "duration": 0,
    "start_time": "2023-04-11T08:04:49.126Z"
   },
   {
    "duration": 0,
    "start_time": "2023-04-11T08:04:49.142Z"
   },
   {
    "duration": 0,
    "start_time": "2023-04-11T08:04:49.144Z"
   },
   {
    "duration": 0,
    "start_time": "2023-04-11T08:04:49.152Z"
   },
   {
    "duration": 0,
    "start_time": "2023-04-11T08:04:49.152Z"
   },
   {
    "duration": 0,
    "start_time": "2023-04-11T08:04:49.153Z"
   },
   {
    "duration": 0,
    "start_time": "2023-04-11T08:04:49.154Z"
   },
   {
    "duration": 0,
    "start_time": "2023-04-11T08:04:49.155Z"
   },
   {
    "duration": 0,
    "start_time": "2023-04-11T08:04:49.160Z"
   },
   {
    "duration": 0,
    "start_time": "2023-04-11T08:04:49.162Z"
   },
   {
    "duration": 0,
    "start_time": "2023-04-11T08:04:49.163Z"
   },
   {
    "duration": 0,
    "start_time": "2023-04-11T08:04:49.164Z"
   },
   {
    "duration": 0,
    "start_time": "2023-04-11T08:04:49.168Z"
   },
   {
    "duration": 0,
    "start_time": "2023-04-11T08:04:49.169Z"
   },
   {
    "duration": 0,
    "start_time": "2023-04-11T08:04:49.171Z"
   },
   {
    "duration": 0,
    "start_time": "2023-04-11T08:04:49.172Z"
   },
   {
    "duration": 0,
    "start_time": "2023-04-11T08:04:49.174Z"
   },
   {
    "duration": 0,
    "start_time": "2023-04-11T08:04:49.175Z"
   },
   {
    "duration": 0,
    "start_time": "2023-04-11T08:04:49.177Z"
   },
   {
    "duration": 0,
    "start_time": "2023-04-11T08:04:49.180Z"
   },
   {
    "duration": 0,
    "start_time": "2023-04-11T08:04:49.181Z"
   },
   {
    "duration": 0,
    "start_time": "2023-04-11T08:04:49.182Z"
   },
   {
    "duration": 0,
    "start_time": "2023-04-11T08:04:49.185Z"
   },
   {
    "duration": 0,
    "start_time": "2023-04-11T08:04:49.186Z"
   },
   {
    "duration": 12,
    "start_time": "2023-04-11T08:05:21.264Z"
   },
   {
    "duration": 68,
    "start_time": "2023-04-11T08:05:54.891Z"
   },
   {
    "duration": 17,
    "start_time": "2023-04-11T08:07:47.958Z"
   },
   {
    "duration": 1660,
    "start_time": "2023-04-11T08:28:20.105Z"
   },
   {
    "duration": 1812,
    "start_time": "2023-04-11T08:29:56.046Z"
   },
   {
    "duration": 1715,
    "start_time": "2023-04-11T08:31:14.136Z"
   },
   {
    "duration": 2926,
    "start_time": "2023-04-11T08:31:30.043Z"
   },
   {
    "duration": 1607,
    "start_time": "2023-04-11T08:31:34.472Z"
   },
   {
    "duration": 1738,
    "start_time": "2023-04-11T08:32:48.243Z"
   },
   {
    "duration": 1615,
    "start_time": "2023-04-11T08:33:03.784Z"
   },
   {
    "duration": 6,
    "start_time": "2023-04-11T08:38:28.438Z"
   },
   {
    "duration": 12,
    "start_time": "2023-04-11T08:39:52.086Z"
   },
   {
    "duration": 15,
    "start_time": "2023-04-11T08:41:49.862Z"
   },
   {
    "duration": 13,
    "start_time": "2023-04-11T08:43:15.309Z"
   },
   {
    "duration": 50,
    "start_time": "2023-04-11T08:43:27.829Z"
   },
   {
    "duration": 55,
    "start_time": "2023-04-11T08:44:39.125Z"
   },
   {
    "duration": 9,
    "start_time": "2023-04-11T08:45:40.466Z"
   },
   {
    "duration": 63,
    "start_time": "2023-04-11T08:45:43.265Z"
   },
   {
    "duration": 90,
    "start_time": "2023-04-11T08:45:46.692Z"
   },
   {
    "duration": 123,
    "start_time": "2023-04-11T08:47:06.466Z"
   },
   {
    "duration": 129,
    "start_time": "2023-04-11T08:47:10.268Z"
   },
   {
    "duration": 121,
    "start_time": "2023-04-11T08:47:13.556Z"
   },
   {
    "duration": 150,
    "start_time": "2023-04-11T08:47:16.523Z"
   },
   {
    "duration": 131,
    "start_time": "2023-04-11T08:47:19.340Z"
   },
   {
    "duration": 141,
    "start_time": "2023-04-11T08:47:22.166Z"
   },
   {
    "duration": 231,
    "start_time": "2023-04-11T08:47:24.456Z"
   },
   {
    "duration": 8,
    "start_time": "2023-04-11T08:48:04.767Z"
   },
   {
    "duration": 129,
    "start_time": "2023-04-11T08:48:11.835Z"
   },
   {
    "duration": 10,
    "start_time": "2023-04-11T08:48:17.871Z"
   },
   {
    "duration": 20,
    "start_time": "2023-04-11T08:48:34.324Z"
   },
   {
    "duration": 118,
    "start_time": "2023-04-11T08:48:46.892Z"
   },
   {
    "duration": 14,
    "start_time": "2023-04-11T08:49:06.083Z"
   },
   {
    "duration": 27,
    "start_time": "2023-04-11T08:49:15.236Z"
   },
   {
    "duration": 17,
    "start_time": "2023-04-11T08:49:27.740Z"
   },
   {
    "duration": 18,
    "start_time": "2023-04-11T08:51:34.765Z"
   },
   {
    "duration": 3179,
    "start_time": "2023-04-11T08:56:24.207Z"
   },
   {
    "duration": 8,
    "start_time": "2023-04-11T08:58:22.729Z"
   },
   {
    "duration": 183,
    "start_time": "2023-04-11T08:58:39.486Z"
   },
   {
    "duration": 1063,
    "start_time": "2023-04-11T08:59:42.868Z"
   },
   {
    "duration": 367,
    "start_time": "2023-04-11T09:01:39.225Z"
   },
   {
    "duration": 1293,
    "start_time": "2023-04-11T09:01:54.690Z"
   },
   {
    "duration": 29,
    "start_time": "2023-04-11T09:02:28.119Z"
   },
   {
    "duration": 18,
    "start_time": "2023-04-11T09:06:59.468Z"
   },
   {
    "duration": 322,
    "start_time": "2023-04-11T09:07:08.278Z"
   },
   {
    "duration": 75,
    "start_time": "2023-04-11T09:07:11.623Z"
   },
   {
    "duration": 169,
    "start_time": "2023-04-11T09:41:23.011Z"
   },
   {
    "duration": 3565,
    "start_time": "2023-04-11T09:52:04.507Z"
   },
   {
    "duration": 1599,
    "start_time": "2023-04-11T09:52:08.075Z"
   },
   {
    "duration": 23,
    "start_time": "2023-04-11T09:52:09.676Z"
   },
   {
    "duration": 74,
    "start_time": "2023-04-11T09:52:09.702Z"
   },
   {
    "duration": 14,
    "start_time": "2023-04-11T09:52:09.778Z"
   },
   {
    "duration": 70,
    "start_time": "2023-04-11T09:52:09.794Z"
   },
   {
    "duration": 92,
    "start_time": "2023-04-11T09:52:09.866Z"
   },
   {
    "duration": 153,
    "start_time": "2023-04-11T09:52:09.960Z"
   },
   {
    "duration": 168,
    "start_time": "2023-04-11T09:52:10.114Z"
   },
   {
    "duration": 153,
    "start_time": "2023-04-11T09:52:10.289Z"
   },
   {
    "duration": 179,
    "start_time": "2023-04-11T09:52:10.445Z"
   },
   {
    "duration": 151,
    "start_time": "2023-04-11T09:52:10.626Z"
   },
   {
    "duration": 157,
    "start_time": "2023-04-11T09:52:10.790Z"
   },
   {
    "duration": 148,
    "start_time": "2023-04-11T09:52:10.950Z"
   },
   {
    "duration": 7,
    "start_time": "2023-04-11T09:52:11.100Z"
   },
   {
    "duration": 197,
    "start_time": "2023-04-11T09:52:11.109Z"
   },
   {
    "duration": 11,
    "start_time": "2023-04-11T09:52:11.307Z"
   },
   {
    "duration": 40,
    "start_time": "2023-04-11T09:52:11.320Z"
   },
   {
    "duration": 143,
    "start_time": "2023-04-11T09:52:11.362Z"
   },
   {
    "duration": 12,
    "start_time": "2023-04-11T09:52:11.507Z"
   },
   {
    "duration": 30,
    "start_time": "2023-04-11T09:52:11.521Z"
   },
   {
    "duration": 92,
    "start_time": "2023-04-11T09:52:11.553Z"
   },
   {
    "duration": 324,
    "start_time": "2023-04-11T09:52:11.647Z"
   },
   {
    "duration": 3537,
    "start_time": "2023-04-11T09:52:11.973Z"
   },
   {
    "duration": 8,
    "start_time": "2023-04-11T09:52:15.512Z"
   },
   {
    "duration": 169,
    "start_time": "2023-04-11T09:52:15.525Z"
   },
   {
    "duration": 1238,
    "start_time": "2023-04-11T09:52:15.695Z"
   },
   {
    "duration": 28,
    "start_time": "2023-04-11T09:52:16.936Z"
   },
   {
    "duration": 36,
    "start_time": "2023-04-11T09:52:16.966Z"
   },
   {
    "duration": 323,
    "start_time": "2023-04-11T09:52:17.004Z"
   },
   {
    "duration": 100,
    "start_time": "2023-04-11T09:52:17.329Z"
   },
   {
    "duration": 7,
    "start_time": "2023-04-11T10:09:01.637Z"
   },
   {
    "duration": 27,
    "start_time": "2023-04-11T10:09:32.679Z"
   },
   {
    "duration": 176,
    "start_time": "2023-04-11T10:09:35.906Z"
   },
   {
    "duration": 8,
    "start_time": "2023-04-11T10:09:59.572Z"
   },
   {
    "duration": 3311,
    "start_time": "2023-04-11T15:18:34.097Z"
   },
   {
    "duration": 4,
    "start_time": "2023-04-11T15:18:39.856Z"
   },
   {
    "duration": 147,
    "start_time": "2023-04-11T15:20:19.415Z"
   },
   {
    "duration": 19,
    "start_time": "2023-04-11T15:20:38.981Z"
   },
   {
    "duration": 225,
    "start_time": "2023-04-11T15:20:46.668Z"
   },
   {
    "duration": 17,
    "start_time": "2023-04-11T15:22:25.497Z"
   },
   {
    "duration": 2914,
    "start_time": "2023-04-11T15:22:30.401Z"
   },
   {
    "duration": 218,
    "start_time": "2023-04-11T15:47:58.274Z"
   },
   {
    "duration": 159,
    "start_time": "2023-04-11T16:01:35.764Z"
   },
   {
    "duration": 142,
    "start_time": "2023-04-11T16:02:25.584Z"
   },
   {
    "duration": 34,
    "start_time": "2023-04-11T16:06:36.690Z"
   },
   {
    "duration": 10,
    "start_time": "2023-04-11T16:06:59.796Z"
   },
   {
    "duration": 69,
    "start_time": "2023-04-11T16:08:16.380Z"
   },
   {
    "duration": 303,
    "start_time": "2023-04-11T16:10:13.070Z"
   },
   {
    "duration": 118,
    "start_time": "2023-04-11T16:10:53.169Z"
   },
   {
    "duration": 9,
    "start_time": "2023-04-11T16:11:11.279Z"
   },
   {
    "duration": 18,
    "start_time": "2023-04-11T16:11:38.383Z"
   },
   {
    "duration": 65,
    "start_time": "2023-04-11T16:12:00.736Z"
   },
   {
    "duration": 2989,
    "start_time": "2023-04-11T16:20:20.462Z"
   },
   {
    "duration": 23,
    "start_time": "2023-04-11T16:20:40.098Z"
   },
   {
    "duration": 27,
    "start_time": "2023-04-11T16:24:27.949Z"
   },
   {
    "duration": 174,
    "start_time": "2023-04-11T16:30:42.181Z"
   },
   {
    "duration": 111,
    "start_time": "2023-04-11T16:34:01.628Z"
   },
   {
    "duration": 99,
    "start_time": "2023-04-11T16:43:57.776Z"
   },
   {
    "duration": 2653,
    "start_time": "2023-04-11T16:44:40.618Z"
   },
   {
    "duration": 16,
    "start_time": "2023-04-11T16:51:49.418Z"
   },
   {
    "duration": 50,
    "start_time": "2023-04-12T02:33:11.212Z"
   },
   {
    "duration": 8,
    "start_time": "2023-04-12T02:33:24.707Z"
   },
   {
    "duration": 901,
    "start_time": "2023-04-12T02:33:35.544Z"
   },
   {
    "duration": 391,
    "start_time": "2023-04-12T02:33:36.447Z"
   },
   {
    "duration": 15,
    "start_time": "2023-04-12T02:33:36.840Z"
   },
   {
    "duration": 24,
    "start_time": "2023-04-12T02:33:36.857Z"
   },
   {
    "duration": 2525,
    "start_time": "2023-04-12T02:33:36.882Z"
   },
   {
    "duration": 49,
    "start_time": "2023-04-12T02:33:39.410Z"
   },
   {
    "duration": 2589,
    "start_time": "2023-04-12T02:33:39.460Z"
   },
   {
    "duration": 18,
    "start_time": "2023-04-12T02:33:42.051Z"
   },
   {
    "duration": 91,
    "start_time": "2023-04-12T02:33:42.072Z"
   },
   {
    "duration": 14,
    "start_time": "2023-04-12T02:33:42.166Z"
   },
   {
    "duration": 95,
    "start_time": "2023-04-12T02:33:42.183Z"
   },
   {
    "duration": 117,
    "start_time": "2023-04-12T02:33:42.280Z"
   },
   {
    "duration": 154,
    "start_time": "2023-04-12T02:33:42.400Z"
   },
   {
    "duration": 150,
    "start_time": "2023-04-12T02:33:42.556Z"
   },
   {
    "duration": 174,
    "start_time": "2023-04-12T02:33:42.708Z"
   },
   {
    "duration": 188,
    "start_time": "2023-04-12T02:33:42.884Z"
   },
   {
    "duration": 123,
    "start_time": "2023-04-12T02:33:43.074Z"
   },
   {
    "duration": 148,
    "start_time": "2023-04-12T02:33:43.199Z"
   },
   {
    "duration": 154,
    "start_time": "2023-04-12T02:33:43.350Z"
   },
   {
    "duration": 11,
    "start_time": "2023-04-12T02:33:43.507Z"
   },
   {
    "duration": 178,
    "start_time": "2023-04-12T02:33:43.520Z"
   },
   {
    "duration": 12,
    "start_time": "2023-04-12T02:33:43.700Z"
   },
   {
    "duration": 32,
    "start_time": "2023-04-12T02:33:43.713Z"
   },
   {
    "duration": 143,
    "start_time": "2023-04-12T02:33:43.747Z"
   },
   {
    "duration": 9,
    "start_time": "2023-04-12T02:33:43.892Z"
   },
   {
    "duration": 32,
    "start_time": "2023-04-12T02:33:43.903Z"
   },
   {
    "duration": 94,
    "start_time": "2023-04-12T02:33:43.936Z"
   },
   {
    "duration": 311,
    "start_time": "2023-04-12T02:33:44.044Z"
   },
   {
    "duration": 3529,
    "start_time": "2023-04-12T02:33:44.357Z"
   },
   {
    "duration": 144,
    "start_time": "2023-04-12T02:33:47.888Z"
   },
   {
    "duration": 8,
    "start_time": "2023-04-12T02:33:48.040Z"
   },
   {
    "duration": 154,
    "start_time": "2023-04-12T02:33:48.049Z"
   },
   {
    "duration": 1137,
    "start_time": "2023-04-12T02:33:48.205Z"
   },
   {
    "duration": 27,
    "start_time": "2023-04-12T02:33:49.344Z"
   },
   {
    "duration": 17,
    "start_time": "2023-04-12T02:33:49.373Z"
   },
   {
    "duration": 425,
    "start_time": "2023-04-12T02:33:49.392Z"
   },
   {
    "duration": 81,
    "start_time": "2023-04-12T02:33:49.820Z"
   },
   {
    "duration": 120,
    "start_time": "2023-04-12T02:55:28.828Z"
   },
   {
    "duration": 667,
    "start_time": "2023-04-12T13:22:26.415Z"
   },
   {
    "duration": 119,
    "start_time": "2023-04-12T13:22:27.084Z"
   },
   {
    "duration": 16,
    "start_time": "2023-04-12T13:22:27.205Z"
   },
   {
    "duration": 17,
    "start_time": "2023-04-12T13:22:27.223Z"
   },
   {
    "duration": 2202,
    "start_time": "2023-04-12T13:22:27.249Z"
   },
   {
    "duration": 41,
    "start_time": "2023-04-12T13:22:29.452Z"
   },
   {
    "duration": 2434,
    "start_time": "2023-04-12T13:22:29.494Z"
   },
   {
    "duration": 22,
    "start_time": "2023-04-12T13:22:31.930Z"
   },
   {
    "duration": 88,
    "start_time": "2023-04-12T13:22:31.953Z"
   },
   {
    "duration": 22,
    "start_time": "2023-04-12T13:22:32.043Z"
   },
   {
    "duration": 112,
    "start_time": "2023-04-12T13:22:32.067Z"
   },
   {
    "duration": 67,
    "start_time": "2023-04-12T13:22:32.181Z"
   },
   {
    "duration": 115,
    "start_time": "2023-04-12T13:22:32.250Z"
   },
   {
    "duration": 122,
    "start_time": "2023-04-12T13:22:32.366Z"
   },
   {
    "duration": 130,
    "start_time": "2023-04-12T13:22:32.489Z"
   },
   {
    "duration": 140,
    "start_time": "2023-04-12T13:22:32.621Z"
   },
   {
    "duration": 120,
    "start_time": "2023-04-12T13:22:32.763Z"
   },
   {
    "duration": 124,
    "start_time": "2023-04-12T13:22:32.885Z"
   },
   {
    "duration": 140,
    "start_time": "2023-04-12T13:22:33.011Z"
   },
   {
    "duration": 7,
    "start_time": "2023-04-12T13:22:33.153Z"
   },
   {
    "duration": 131,
    "start_time": "2023-04-12T13:22:33.161Z"
   },
   {
    "duration": 10,
    "start_time": "2023-04-12T13:22:33.294Z"
   },
   {
    "duration": 29,
    "start_time": "2023-04-12T13:22:33.306Z"
   },
   {
    "duration": 113,
    "start_time": "2023-04-12T13:22:33.337Z"
   },
   {
    "duration": 8,
    "start_time": "2023-04-12T13:22:33.452Z"
   },
   {
    "duration": 17,
    "start_time": "2023-04-12T13:22:33.462Z"
   },
   {
    "duration": 86,
    "start_time": "2023-04-12T13:22:33.480Z"
   },
   {
    "duration": 306,
    "start_time": "2023-04-12T13:22:33.569Z"
   },
   {
    "duration": 3047,
    "start_time": "2023-04-12T13:22:33.877Z"
   },
   {
    "duration": 134,
    "start_time": "2023-04-12T13:22:36.926Z"
   },
   {
    "duration": 6,
    "start_time": "2023-04-12T13:22:37.062Z"
   },
   {
    "duration": 149,
    "start_time": "2023-04-12T13:22:37.069Z"
   },
   {
    "duration": 1019,
    "start_time": "2023-04-12T13:22:37.220Z"
   },
   {
    "duration": 29,
    "start_time": "2023-04-12T13:22:38.241Z"
   },
   {
    "duration": 13,
    "start_time": "2023-04-12T13:22:38.272Z"
   },
   {
    "duration": 326,
    "start_time": "2023-04-12T13:22:38.286Z"
   },
   {
    "duration": 55,
    "start_time": "2023-04-12T13:22:38.613Z"
   },
   {
    "duration": 669,
    "start_time": "2023-09-23T16:33:37.993Z"
   },
   {
    "duration": 177,
    "start_time": "2023-09-23T16:33:38.665Z"
   },
   {
    "duration": 31,
    "start_time": "2023-09-23T16:33:59.674Z"
   },
   {
    "duration": 58,
    "start_time": "2023-09-23T16:34:29.162Z"
   },
   {
    "duration": 70,
    "start_time": "2023-09-23T19:38:14.655Z"
   },
   {
    "duration": 2,
    "start_time": "2023-09-23T19:38:24.526Z"
   },
   {
    "duration": 143,
    "start_time": "2023-09-23T19:38:24.530Z"
   },
   {
    "duration": 13,
    "start_time": "2023-09-23T19:38:24.675Z"
   },
   {
    "duration": 8,
    "start_time": "2023-09-23T19:38:24.690Z"
   },
   {
    "duration": 2457,
    "start_time": "2023-09-23T19:38:24.699Z"
   },
   {
    "duration": 32,
    "start_time": "2023-09-23T19:38:27.158Z"
   },
   {
    "duration": 2714,
    "start_time": "2023-09-23T19:38:27.192Z"
   },
   {
    "duration": 11,
    "start_time": "2023-09-23T19:38:29.908Z"
   },
   {
    "duration": 61,
    "start_time": "2023-09-23T19:38:29.921Z"
   },
   {
    "duration": 8,
    "start_time": "2023-09-23T19:38:29.984Z"
   },
   {
    "duration": 110,
    "start_time": "2023-09-23T19:38:29.993Z"
   },
   {
    "duration": 87,
    "start_time": "2023-09-23T19:38:30.105Z"
   },
   {
    "duration": 124,
    "start_time": "2023-09-23T19:38:30.194Z"
   },
   {
    "duration": 128,
    "start_time": "2023-09-23T19:38:30.319Z"
   },
   {
    "duration": 119,
    "start_time": "2023-09-23T19:38:30.449Z"
   },
   {
    "duration": 128,
    "start_time": "2023-09-23T19:38:30.570Z"
   },
   {
    "duration": 121,
    "start_time": "2023-09-23T19:38:30.700Z"
   },
   {
    "duration": 126,
    "start_time": "2023-09-23T19:38:30.823Z"
   },
   {
    "duration": 143,
    "start_time": "2023-09-23T19:38:30.951Z"
   },
   {
    "duration": 10,
    "start_time": "2023-09-23T19:38:31.096Z"
   },
   {
    "duration": 12,
    "start_time": "2023-09-23T19:38:54.941Z"
   },
   {
    "duration": 691,
    "start_time": "2023-09-23T19:39:11.158Z"
   },
   {
    "duration": 131,
    "start_time": "2023-09-23T19:39:11.853Z"
   },
   {
    "duration": 16,
    "start_time": "2023-09-23T19:39:11.986Z"
   },
   {
    "duration": 10,
    "start_time": "2023-09-23T19:39:12.003Z"
   },
   {
    "duration": 2592,
    "start_time": "2023-09-23T19:39:12.015Z"
   },
   {
    "duration": 42,
    "start_time": "2023-09-23T19:39:14.609Z"
   },
   {
    "duration": 2960,
    "start_time": "2023-09-23T19:39:14.658Z"
   },
   {
    "duration": 12,
    "start_time": "2023-09-23T19:39:17.620Z"
   },
   {
    "duration": 59,
    "start_time": "2023-09-23T19:39:17.645Z"
   },
   {
    "duration": 8,
    "start_time": "2023-09-23T19:39:17.707Z"
   },
   {
    "duration": 91,
    "start_time": "2023-09-23T19:39:17.716Z"
   },
   {
    "duration": 80,
    "start_time": "2023-09-23T19:39:17.809Z"
   },
   {
    "duration": 123,
    "start_time": "2023-09-23T19:39:17.890Z"
   },
   {
    "duration": 133,
    "start_time": "2023-09-23T19:39:18.014Z"
   },
   {
    "duration": 140,
    "start_time": "2023-09-23T19:39:18.149Z"
   },
   {
    "duration": 187,
    "start_time": "2023-09-23T19:39:18.291Z"
   },
   {
    "duration": 164,
    "start_time": "2023-09-23T19:39:18.480Z"
   },
   {
    "duration": 142,
    "start_time": "2023-09-23T19:39:18.646Z"
   },
   {
    "duration": 131,
    "start_time": "2023-09-23T19:39:18.790Z"
   },
   {
    "duration": 93,
    "start_time": "2023-09-23T19:39:18.923Z"
   },
   {
    "duration": 0,
    "start_time": "2023-09-23T19:39:19.018Z"
   },
   {
    "duration": 0,
    "start_time": "2023-09-23T19:39:19.021Z"
   },
   {
    "duration": 0,
    "start_time": "2023-09-23T19:39:19.023Z"
   },
   {
    "duration": 0,
    "start_time": "2023-09-23T19:39:19.024Z"
   },
   {
    "duration": 0,
    "start_time": "2023-09-23T19:39:19.026Z"
   },
   {
    "duration": 0,
    "start_time": "2023-09-23T19:39:19.027Z"
   },
   {
    "duration": 0,
    "start_time": "2023-09-23T19:39:19.029Z"
   },
   {
    "duration": 0,
    "start_time": "2023-09-23T19:39:19.049Z"
   },
   {
    "duration": 0,
    "start_time": "2023-09-23T19:39:19.050Z"
   },
   {
    "duration": 0,
    "start_time": "2023-09-23T19:39:19.051Z"
   },
   {
    "duration": 0,
    "start_time": "2023-09-23T19:39:19.051Z"
   },
   {
    "duration": 0,
    "start_time": "2023-09-23T19:39:19.052Z"
   },
   {
    "duration": 0,
    "start_time": "2023-09-23T19:39:19.059Z"
   },
   {
    "duration": 0,
    "start_time": "2023-09-23T19:39:19.060Z"
   },
   {
    "duration": 0,
    "start_time": "2023-09-23T19:39:19.062Z"
   },
   {
    "duration": 0,
    "start_time": "2023-09-23T19:39:19.063Z"
   },
   {
    "duration": 0,
    "start_time": "2023-09-23T19:39:19.065Z"
   },
   {
    "duration": 3,
    "start_time": "2023-09-23T19:39:40.417Z"
   },
   {
    "duration": 151,
    "start_time": "2023-09-23T19:39:44.745Z"
   },
   {
    "duration": 9,
    "start_time": "2023-09-23T19:40:52.584Z"
   },
   {
    "duration": 10,
    "start_time": "2023-09-23T19:41:03.895Z"
   },
   {
    "duration": 19,
    "start_time": "2023-09-23T19:41:28.655Z"
   },
   {
    "duration": 10,
    "start_time": "2023-09-23T19:41:41.368Z"
   },
   {
    "duration": 77,
    "start_time": "2023-09-23T19:41:44.642Z"
   },
   {
    "duration": 15,
    "start_time": "2023-09-23T19:41:47.945Z"
   },
   {
    "duration": 5,
    "start_time": "2023-09-23T19:41:54.635Z"
   },
   {
    "duration": 14,
    "start_time": "2023-09-23T19:42:10.751Z"
   },
   {
    "duration": 5,
    "start_time": "2023-09-23T19:42:24.700Z"
   }
  ],
  "kernelspec": {
   "display_name": "Python 3 (ipykernel)",
   "language": "python",
   "name": "python3"
  },
  "language_info": {
   "codemirror_mode": {
    "name": "ipython",
    "version": 3
   },
   "file_extension": ".py",
   "mimetype": "text/x-python",
   "name": "python",
   "nbconvert_exporter": "python",
   "pygments_lexer": "ipython3",
   "version": "3.9.5"
  },
  "toc": {
   "base_numbering": 1,
   "nav_menu": {},
   "number_sections": true,
   "sideBar": true,
   "skip_h1_title": true,
   "title_cell": "Table of Contents",
   "title_sidebar": "Contents",
   "toc_cell": false,
   "toc_position": {},
   "toc_section_display": true,
   "toc_window_display": false
  }
 },
 "nbformat": 4,
 "nbformat_minor": 2
}
