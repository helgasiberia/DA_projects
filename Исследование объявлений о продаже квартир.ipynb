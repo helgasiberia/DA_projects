{
 "cells": [
  {
   "cell_type": "markdown",
   "metadata": {},
   "source": [
    "# Исследование объявлений о продаже квартир\n",
    "\n",
    "В нашем распоряжении данные сервиса Яндекс.Недвижимость — архив объявлений о продаже квартир в Санкт-Петербурге и соседних населённых пунктов за несколько лет. Нужно научиться определять рыночную стоимость объектов недвижимости. З адача — установить параметры. Это позволит построить автоматизированную систему: она отследит аномалии и мошенническую деятельность. \n",
    "\n",
    "По каждой квартире на продажу доступны два вида данных. Первые вписаны пользователем, вторые — получены автоматически на основе картографических данных. Например, расстояние до центра, аэропорта, ближайшего парка и водоёма. "
   ]
  },
  {
   "cell_type": "markdown",
   "metadata": {},
   "source": [
    "### Откройте файл с данными и изучите общую информацию. "
   ]
  },
  {
   "cell_type": "code",
   "execution_count": 1,
   "metadata": {},
   "outputs": [],
   "source": [
    "import pandas as pd\n",
    "import numpy as np\n",
    "import matplotlib.pyplot as plt"
   ]
  },
  {
   "cell_type": "code",
   "execution_count": 2,
   "metadata": {},
   "outputs": [
    {
     "data": {
      "text/html": [
       "<div>\n",
       "<style scoped>\n",
       "    .dataframe tbody tr th:only-of-type {\n",
       "        vertical-align: middle;\n",
       "    }\n",
       "\n",
       "    .dataframe tbody tr th {\n",
       "        vertical-align: top;\n",
       "    }\n",
       "\n",
       "    .dataframe thead th {\n",
       "        text-align: right;\n",
       "    }\n",
       "</style>\n",
       "<table border=\"1\" class=\"dataframe\">\n",
       "  <thead>\n",
       "    <tr style=\"text-align: right;\">\n",
       "      <th></th>\n",
       "      <th>total_images</th>\n",
       "      <th>last_price</th>\n",
       "      <th>total_area</th>\n",
       "      <th>first_day_exposition</th>\n",
       "      <th>rooms</th>\n",
       "      <th>ceiling_height</th>\n",
       "      <th>floors_total</th>\n",
       "      <th>living_area</th>\n",
       "      <th>floor</th>\n",
       "      <th>is_apartment</th>\n",
       "      <th>studio</th>\n",
       "      <th>open_plan</th>\n",
       "      <th>kitchen_area</th>\n",
       "      <th>balcony</th>\n",
       "      <th>locality_name</th>\n",
       "      <th>airports_nearest</th>\n",
       "      <th>cityCenters_nearest</th>\n",
       "      <th>parks_around3000</th>\n",
       "      <th>parks_nearest</th>\n",
       "      <th>ponds_around3000</th>\n",
       "      <th>ponds_nearest</th>\n",
       "      <th>days_exposition</th>\n",
       "    </tr>\n",
       "  </thead>\n",
       "  <tbody>\n",
       "    <tr>\n",
       "      <th>0</th>\n",
       "      <td>20</td>\n",
       "      <td>13000000.0</td>\n",
       "      <td>108.00</td>\n",
       "      <td>2019-03-07T00:00:00</td>\n",
       "      <td>3</td>\n",
       "      <td>2.70</td>\n",
       "      <td>16.0</td>\n",
       "      <td>51.00</td>\n",
       "      <td>8</td>\n",
       "      <td>NaN</td>\n",
       "      <td>False</td>\n",
       "      <td>False</td>\n",
       "      <td>25.00</td>\n",
       "      <td>NaN</td>\n",
       "      <td>Санкт-Петербург</td>\n",
       "      <td>18863.0</td>\n",
       "      <td>16028.0</td>\n",
       "      <td>1.0</td>\n",
       "      <td>482.0</td>\n",
       "      <td>2.0</td>\n",
       "      <td>755.0</td>\n",
       "      <td>NaN</td>\n",
       "    </tr>\n",
       "    <tr>\n",
       "      <th>1</th>\n",
       "      <td>7</td>\n",
       "      <td>3350000.0</td>\n",
       "      <td>40.40</td>\n",
       "      <td>2018-12-04T00:00:00</td>\n",
       "      <td>1</td>\n",
       "      <td>NaN</td>\n",
       "      <td>11.0</td>\n",
       "      <td>18.60</td>\n",
       "      <td>1</td>\n",
       "      <td>NaN</td>\n",
       "      <td>False</td>\n",
       "      <td>False</td>\n",
       "      <td>11.00</td>\n",
       "      <td>2.0</td>\n",
       "      <td>посёлок Шушары</td>\n",
       "      <td>12817.0</td>\n",
       "      <td>18603.0</td>\n",
       "      <td>0.0</td>\n",
       "      <td>NaN</td>\n",
       "      <td>0.0</td>\n",
       "      <td>NaN</td>\n",
       "      <td>81.0</td>\n",
       "    </tr>\n",
       "    <tr>\n",
       "      <th>2</th>\n",
       "      <td>10</td>\n",
       "      <td>5196000.0</td>\n",
       "      <td>56.00</td>\n",
       "      <td>2015-08-20T00:00:00</td>\n",
       "      <td>2</td>\n",
       "      <td>NaN</td>\n",
       "      <td>5.0</td>\n",
       "      <td>34.30</td>\n",
       "      <td>4</td>\n",
       "      <td>NaN</td>\n",
       "      <td>False</td>\n",
       "      <td>False</td>\n",
       "      <td>8.30</td>\n",
       "      <td>0.0</td>\n",
       "      <td>Санкт-Петербург</td>\n",
       "      <td>21741.0</td>\n",
       "      <td>13933.0</td>\n",
       "      <td>1.0</td>\n",
       "      <td>90.0</td>\n",
       "      <td>2.0</td>\n",
       "      <td>574.0</td>\n",
       "      <td>558.0</td>\n",
       "    </tr>\n",
       "    <tr>\n",
       "      <th>3</th>\n",
       "      <td>0</td>\n",
       "      <td>64900000.0</td>\n",
       "      <td>159.00</td>\n",
       "      <td>2015-07-24T00:00:00</td>\n",
       "      <td>3</td>\n",
       "      <td>NaN</td>\n",
       "      <td>14.0</td>\n",
       "      <td>NaN</td>\n",
       "      <td>9</td>\n",
       "      <td>NaN</td>\n",
       "      <td>False</td>\n",
       "      <td>False</td>\n",
       "      <td>NaN</td>\n",
       "      <td>0.0</td>\n",
       "      <td>Санкт-Петербург</td>\n",
       "      <td>28098.0</td>\n",
       "      <td>6800.0</td>\n",
       "      <td>2.0</td>\n",
       "      <td>84.0</td>\n",
       "      <td>3.0</td>\n",
       "      <td>234.0</td>\n",
       "      <td>424.0</td>\n",
       "    </tr>\n",
       "    <tr>\n",
       "      <th>4</th>\n",
       "      <td>2</td>\n",
       "      <td>10000000.0</td>\n",
       "      <td>100.00</td>\n",
       "      <td>2018-06-19T00:00:00</td>\n",
       "      <td>2</td>\n",
       "      <td>3.03</td>\n",
       "      <td>14.0</td>\n",
       "      <td>32.00</td>\n",
       "      <td>13</td>\n",
       "      <td>NaN</td>\n",
       "      <td>False</td>\n",
       "      <td>False</td>\n",
       "      <td>41.00</td>\n",
       "      <td>NaN</td>\n",
       "      <td>Санкт-Петербург</td>\n",
       "      <td>31856.0</td>\n",
       "      <td>8098.0</td>\n",
       "      <td>2.0</td>\n",
       "      <td>112.0</td>\n",
       "      <td>1.0</td>\n",
       "      <td>48.0</td>\n",
       "      <td>121.0</td>\n",
       "    </tr>\n",
       "    <tr>\n",
       "      <th>5</th>\n",
       "      <td>10</td>\n",
       "      <td>2890000.0</td>\n",
       "      <td>30.40</td>\n",
       "      <td>2018-09-10T00:00:00</td>\n",
       "      <td>1</td>\n",
       "      <td>NaN</td>\n",
       "      <td>12.0</td>\n",
       "      <td>14.40</td>\n",
       "      <td>5</td>\n",
       "      <td>NaN</td>\n",
       "      <td>False</td>\n",
       "      <td>False</td>\n",
       "      <td>9.10</td>\n",
       "      <td>NaN</td>\n",
       "      <td>городской посёлок Янино-1</td>\n",
       "      <td>NaN</td>\n",
       "      <td>NaN</td>\n",
       "      <td>NaN</td>\n",
       "      <td>NaN</td>\n",
       "      <td>NaN</td>\n",
       "      <td>NaN</td>\n",
       "      <td>55.0</td>\n",
       "    </tr>\n",
       "    <tr>\n",
       "      <th>6</th>\n",
       "      <td>6</td>\n",
       "      <td>3700000.0</td>\n",
       "      <td>37.30</td>\n",
       "      <td>2017-11-02T00:00:00</td>\n",
       "      <td>1</td>\n",
       "      <td>NaN</td>\n",
       "      <td>26.0</td>\n",
       "      <td>10.60</td>\n",
       "      <td>6</td>\n",
       "      <td>NaN</td>\n",
       "      <td>False</td>\n",
       "      <td>False</td>\n",
       "      <td>14.40</td>\n",
       "      <td>1.0</td>\n",
       "      <td>посёлок Парголово</td>\n",
       "      <td>52996.0</td>\n",
       "      <td>19143.0</td>\n",
       "      <td>0.0</td>\n",
       "      <td>NaN</td>\n",
       "      <td>0.0</td>\n",
       "      <td>NaN</td>\n",
       "      <td>155.0</td>\n",
       "    </tr>\n",
       "    <tr>\n",
       "      <th>7</th>\n",
       "      <td>5</td>\n",
       "      <td>7915000.0</td>\n",
       "      <td>71.60</td>\n",
       "      <td>2019-04-18T00:00:00</td>\n",
       "      <td>2</td>\n",
       "      <td>NaN</td>\n",
       "      <td>24.0</td>\n",
       "      <td>NaN</td>\n",
       "      <td>22</td>\n",
       "      <td>NaN</td>\n",
       "      <td>False</td>\n",
       "      <td>False</td>\n",
       "      <td>18.90</td>\n",
       "      <td>2.0</td>\n",
       "      <td>Санкт-Петербург</td>\n",
       "      <td>23982.0</td>\n",
       "      <td>11634.0</td>\n",
       "      <td>0.0</td>\n",
       "      <td>NaN</td>\n",
       "      <td>0.0</td>\n",
       "      <td>NaN</td>\n",
       "      <td>NaN</td>\n",
       "    </tr>\n",
       "    <tr>\n",
       "      <th>8</th>\n",
       "      <td>20</td>\n",
       "      <td>2900000.0</td>\n",
       "      <td>33.16</td>\n",
       "      <td>2018-05-23T00:00:00</td>\n",
       "      <td>1</td>\n",
       "      <td>NaN</td>\n",
       "      <td>27.0</td>\n",
       "      <td>15.43</td>\n",
       "      <td>26</td>\n",
       "      <td>NaN</td>\n",
       "      <td>False</td>\n",
       "      <td>False</td>\n",
       "      <td>8.81</td>\n",
       "      <td>NaN</td>\n",
       "      <td>посёлок Мурино</td>\n",
       "      <td>NaN</td>\n",
       "      <td>NaN</td>\n",
       "      <td>NaN</td>\n",
       "      <td>NaN</td>\n",
       "      <td>NaN</td>\n",
       "      <td>NaN</td>\n",
       "      <td>189.0</td>\n",
       "    </tr>\n",
       "    <tr>\n",
       "      <th>9</th>\n",
       "      <td>18</td>\n",
       "      <td>5400000.0</td>\n",
       "      <td>61.00</td>\n",
       "      <td>2017-02-26T00:00:00</td>\n",
       "      <td>3</td>\n",
       "      <td>2.50</td>\n",
       "      <td>9.0</td>\n",
       "      <td>43.60</td>\n",
       "      <td>7</td>\n",
       "      <td>NaN</td>\n",
       "      <td>False</td>\n",
       "      <td>False</td>\n",
       "      <td>6.50</td>\n",
       "      <td>2.0</td>\n",
       "      <td>Санкт-Петербург</td>\n",
       "      <td>50898.0</td>\n",
       "      <td>15008.0</td>\n",
       "      <td>0.0</td>\n",
       "      <td>NaN</td>\n",
       "      <td>0.0</td>\n",
       "      <td>NaN</td>\n",
       "      <td>289.0</td>\n",
       "    </tr>\n",
       "  </tbody>\n",
       "</table>\n",
       "</div>"
      ],
      "text/plain": [
       "   total_images  last_price  total_area first_day_exposition  rooms  \\\n",
       "0            20  13000000.0      108.00  2019-03-07T00:00:00      3   \n",
       "1             7   3350000.0       40.40  2018-12-04T00:00:00      1   \n",
       "2            10   5196000.0       56.00  2015-08-20T00:00:00      2   \n",
       "3             0  64900000.0      159.00  2015-07-24T00:00:00      3   \n",
       "4             2  10000000.0      100.00  2018-06-19T00:00:00      2   \n",
       "5            10   2890000.0       30.40  2018-09-10T00:00:00      1   \n",
       "6             6   3700000.0       37.30  2017-11-02T00:00:00      1   \n",
       "7             5   7915000.0       71.60  2019-04-18T00:00:00      2   \n",
       "8            20   2900000.0       33.16  2018-05-23T00:00:00      1   \n",
       "9            18   5400000.0       61.00  2017-02-26T00:00:00      3   \n",
       "\n",
       "   ceiling_height  floors_total  living_area  floor is_apartment  studio  \\\n",
       "0            2.70          16.0        51.00      8          NaN   False   \n",
       "1             NaN          11.0        18.60      1          NaN   False   \n",
       "2             NaN           5.0        34.30      4          NaN   False   \n",
       "3             NaN          14.0          NaN      9          NaN   False   \n",
       "4            3.03          14.0        32.00     13          NaN   False   \n",
       "5             NaN          12.0        14.40      5          NaN   False   \n",
       "6             NaN          26.0        10.60      6          NaN   False   \n",
       "7             NaN          24.0          NaN     22          NaN   False   \n",
       "8             NaN          27.0        15.43     26          NaN   False   \n",
       "9            2.50           9.0        43.60      7          NaN   False   \n",
       "\n",
       "   open_plan  kitchen_area  balcony              locality_name  \\\n",
       "0      False         25.00      NaN            Санкт-Петербург   \n",
       "1      False         11.00      2.0             посёлок Шушары   \n",
       "2      False          8.30      0.0            Санкт-Петербург   \n",
       "3      False           NaN      0.0            Санкт-Петербург   \n",
       "4      False         41.00      NaN            Санкт-Петербург   \n",
       "5      False          9.10      NaN  городской посёлок Янино-1   \n",
       "6      False         14.40      1.0          посёлок Парголово   \n",
       "7      False         18.90      2.0            Санкт-Петербург   \n",
       "8      False          8.81      NaN             посёлок Мурино   \n",
       "9      False          6.50      2.0            Санкт-Петербург   \n",
       "\n",
       "   airports_nearest  cityCenters_nearest  parks_around3000  parks_nearest  \\\n",
       "0           18863.0              16028.0               1.0          482.0   \n",
       "1           12817.0              18603.0               0.0            NaN   \n",
       "2           21741.0              13933.0               1.0           90.0   \n",
       "3           28098.0               6800.0               2.0           84.0   \n",
       "4           31856.0               8098.0               2.0          112.0   \n",
       "5               NaN                  NaN               NaN            NaN   \n",
       "6           52996.0              19143.0               0.0            NaN   \n",
       "7           23982.0              11634.0               0.0            NaN   \n",
       "8               NaN                  NaN               NaN            NaN   \n",
       "9           50898.0              15008.0               0.0            NaN   \n",
       "\n",
       "   ponds_around3000  ponds_nearest  days_exposition  \n",
       "0               2.0          755.0              NaN  \n",
       "1               0.0            NaN             81.0  \n",
       "2               2.0          574.0            558.0  \n",
       "3               3.0          234.0            424.0  \n",
       "4               1.0           48.0            121.0  \n",
       "5               NaN            NaN             55.0  \n",
       "6               0.0            NaN            155.0  \n",
       "7               0.0            NaN              NaN  \n",
       "8               NaN            NaN            189.0  \n",
       "9               0.0            NaN            289.0  "
      ]
     },
     "execution_count": 2,
     "metadata": {},
     "output_type": "execute_result"
    }
   ],
   "source": [
    "data = pd.read_csv('/datasets/real_estate_data.csv',sep='\\t') #при чтении добавлен параметр sep='\\t' для наглядности вывода данных\n",
    "pd.set_option('display.max_columns', None)\n",
    "data.head(10)"
   ]
  },
  {
   "cell_type": "code",
   "execution_count": 3,
   "metadata": {},
   "outputs": [
    {
     "name": "stdout",
     "output_type": "stream",
     "text": [
      "<class 'pandas.core.frame.DataFrame'>\n",
      "RangeIndex: 23699 entries, 0 to 23698\n",
      "Data columns (total 22 columns):\n",
      " #   Column                Non-Null Count  Dtype  \n",
      "---  ------                --------------  -----  \n",
      " 0   total_images          23699 non-null  int64  \n",
      " 1   last_price            23699 non-null  float64\n",
      " 2   total_area            23699 non-null  float64\n",
      " 3   first_day_exposition  23699 non-null  object \n",
      " 4   rooms                 23699 non-null  int64  \n",
      " 5   ceiling_height        14504 non-null  float64\n",
      " 6   floors_total          23613 non-null  float64\n",
      " 7   living_area           21796 non-null  float64\n",
      " 8   floor                 23699 non-null  int64  \n",
      " 9   is_apartment          2775 non-null   object \n",
      " 10  studio                23699 non-null  bool   \n",
      " 11  open_plan             23699 non-null  bool   \n",
      " 12  kitchen_area          21421 non-null  float64\n",
      " 13  balcony               12180 non-null  float64\n",
      " 14  locality_name         23650 non-null  object \n",
      " 15  airports_nearest      18157 non-null  float64\n",
      " 16  cityCenters_nearest   18180 non-null  float64\n",
      " 17  parks_around3000      18181 non-null  float64\n",
      " 18  parks_nearest         8079 non-null   float64\n",
      " 19  ponds_around3000      18181 non-null  float64\n",
      " 20  ponds_nearest         9110 non-null   float64\n",
      " 21  days_exposition       20518 non-null  float64\n",
      "dtypes: bool(2), float64(14), int64(3), object(3)\n",
      "memory usage: 3.7+ MB\n"
     ]
    }
   ],
   "source": [
    "data.info()"
   ]
  },
  {
   "cell_type": "code",
   "execution_count": 4,
   "metadata": {},
   "outputs": [
    {
     "data": {
      "text/plain": [
       "is_apartment            20924\n",
       "parks_nearest           15620\n",
       "ponds_nearest           14589\n",
       "balcony                 11519\n",
       "ceiling_height           9195\n",
       "airports_nearest         5542\n",
       "cityCenters_nearest      5519\n",
       "ponds_around3000         5518\n",
       "parks_around3000         5518\n",
       "days_exposition          3181\n",
       "kitchen_area             2278\n",
       "living_area              1903\n",
       "floors_total               86\n",
       "locality_name              49\n",
       "total_images                0\n",
       "last_price                  0\n",
       "studio                      0\n",
       "floor                       0\n",
       "rooms                       0\n",
       "first_day_exposition        0\n",
       "total_area                  0\n",
       "open_plan                   0\n",
       "dtype: int64"
      ]
     },
     "execution_count": 4,
     "metadata": {},
     "output_type": "execute_result"
    }
   ],
   "source": [
    "#проранжируем количество пропусков в каждой колонке\n",
    "data.isna().sum().sort_values(ascending=False)"
   ]
  },
  {
   "cell_type": "code",
   "execution_count": 5,
   "metadata": {},
   "outputs": [
    {
     "data": {
      "image/png": "[encoded data removed]",
      "text/plain": [
       "<Figure size 360x360 with 1 Axes>"
      ]
     },
     "metadata": {
      "needs_background": "light"
     },
     "output_type": "display_data"
    },
    {
     "data": {
      "image/png": "[encoded data removed]",
      "text/plain": [
       "<Figure size 360x360 with 1 Axes>"
      ]
     },
     "metadata": {
      "needs_background": "light"
     },
     "output_type": "display_data"
    },
    {
     "data": {
      "image/png": "[encoded data removed]",
      "text/plain": [
       "<Figure size 360x360 with 1 Axes>"
      ]
     },
     "metadata": {
      "needs_background": "light"
     },
     "output_type": "display_data"
    },
    {
     "data": {
      "image/png": "[encoded data removed]",
      "text/plain": [
       "<Figure size 360x360 with 1 Axes>"
      ]
     },
     "metadata": {
      "needs_background": "light"
     },
     "output_type": "display_data"
    },
    {
     "data": {
      "image/png": "[encoded data removed]",
      "text/plain": [
       "<Figure size 360x360 with 1 Axes>"
      ]
     },
     "metadata": {
      "needs_background": "light"
     },
     "output_type": "display_data"
    },
    {
     "data": {
      "image/png": "[encoded data removed]",
      "text/plain": [
       "<Figure size 360x360 with 1 Axes>"
      ]
     },
     "metadata": {
      "needs_background": "light"
     },
     "output_type": "display_data"
    },
    {
     "data": {
      "image/png": "[encoded data removed]",
      "text/plain": [
       "<Figure size 360x360 with 1 Axes>"
      ]
     },
     "metadata": {
      "needs_background": "light"
     },
     "output_type": "display_data"
    },
    {
     "data": {
      "image/png": "[encoded data removed]",
      "text/plain": [
       "<Figure size 360x360 with 1 Axes>"
      ]
     },
     "metadata": {
      "needs_background": "light"
     },
     "output_type": "display_data"
    },
    {
     "data": {
      "image/png": "[encoded data removed]",
      "text/plain": [
       "<Figure size 360x360 with 1 Axes>"
      ]
     },
     "metadata": {
      "needs_background": "light"
     },
     "output_type": "display_data"
    },
    {
     "data": {
      "image/png": "[encoded data removed]",
      "text/plain": [
       "<Figure size 360x360 with 1 Axes>"
      ]
     },
     "metadata": {
      "needs_background": "light"
     },
     "output_type": "display_data"
    },
    {
     "data": {
      "image/png": "[encoded data removed]",
      "text/plain": [
       "<Figure size 360x360 with 1 Axes>"
      ]
     },
     "metadata": {
      "needs_background": "light"
     },
     "output_type": "display_data"
    },
    {
     "data": {
      "image/png": "[encoded data removed]",
      "text/plain": [
       "<Figure size 360x360 with 1 Axes>"
      ]
     },
     "metadata": {
      "needs_background": "light"
     },
     "output_type": "display_data"
    },
    {
     "data": {
      "image/png": "[encoded data removed]",
      "text/plain": [
       "<Figure size 360x360 with 1 Axes>"
      ]
     },
     "metadata": {
      "needs_background": "light"
     },
     "output_type": "display_data"
    },
    {
     "data": {
      "image/png": "[encoded data removed]",
      "text/plain": [
       "<Figure size 360x360 with 1 Axes>"
      ]
     },
     "metadata": {
      "needs_background": "light"
     },
     "output_type": "display_data"
    },
    {
     "data": {
      "image/png": "[encoded data removed]",
      "text/plain": [
       "<Figure size 360x360 with 1 Axes>"
      ]
     },
     "metadata": {
      "needs_background": "light"
     },
     "output_type": "display_data"
    },
    {
     "data": {
      "image/png": "[encoded data removed]",
      "text/plain": [
       "<Figure size 360x360 with 1 Axes>"
      ]
     },
     "metadata": {
      "needs_background": "light"
     },
     "output_type": "display_data"
    },
    {
     "data": {
      "image/png": "[encoded data removed]",
      "text/plain": [
       "<Figure size 360x360 with 1 Axes>"
      ]
     },
     "metadata": {
      "needs_background": "light"
     },
     "output_type": "display_data"
    }
   ],
   "source": [
    "#для поиска числовых значений вызовем метод select_dtypes библиотеки numpy, пройдемся циклом по столбцам и строим гистограмму  \n",
    "data_numeric = data.select_dtypes(include=np.number)\n",
    "for col in data_numeric :\n",
    "    data_numeric [col].plot(title=col, kind ='hist',figsize=(5, 5))\n",
    "    plt.show()"
   ]
  },
  {
   "cell_type": "markdown",
   "metadata": {},
   "source": [
    "<div style=\"background-color:black; color:#ffffff; text-align:left; padding:2%\"> \n",
    "    \n",
    "💬 <br>1.В данных много столбцов с пропущенными данными. Для анализа данных ключевые из них:\n",
    "    <br>balcony                 11519\n",
    "    <br>ceiling_height           9195\n",
    "    <br>cityCenters_nearest      5519\n",
    "    <br>days_exposition          3181\n",
    "    <br>kitchen_area             2278\n",
    "    <br>living_area              1903\n",
    "    <br>floors_total               86\n",
    "    <br>locality_name              49\n",
    "    <br>Часть из них можно заменить, часть оставить либо переименовать как неизвестное значение (в случае с locality_name)\n",
    "    <br>2. first_day_exposition  имеет формат Object, очевидно далжен быть формат даты. Такие данные как количество балконов, этажей могут быть целочисленными\n",
    "    <br>3. Столбцы last_price, total_area, rooms, living_area, kitchen_area содержат явные выбросы и аномалии, а в значениях ceiling_height вероятны ошибки.  \n",
    "      \n"
   ]
  },
  {
   "cell_type": "code",
   "execution_count": 3,
   "metadata": {},
   "outputs": [
    {
     "data": {
      "text/html": [
       "<div>\n",
       "<style scoped>\n",
       "    .dataframe tbody tr th:only-of-type {\n",
       "        vertical-align: middle;\n",
       "    }\n",
       "\n",
       "    .dataframe tbody tr th {\n",
       "        vertical-align: top;\n",
       "    }\n",
       "\n",
       "    .dataframe thead th {\n",
       "        text-align: right;\n",
       "    }\n",
       "</style>\n",
       "<table border=\"1\" class=\"dataframe\">\n",
       "  <thead>\n",
       "    <tr style=\"text-align: right;\">\n",
       "      <th></th>\n",
       "      <th>total_images</th>\n",
       "      <th>last_price</th>\n",
       "      <th>total_area</th>\n",
       "      <th>first_day_exposition</th>\n",
       "      <th>rooms</th>\n",
       "      <th>ceiling_height</th>\n",
       "      <th>floors_total</th>\n",
       "      <th>living_area</th>\n",
       "      <th>floor</th>\n",
       "      <th>is_apartment</th>\n",
       "      <th>studio</th>\n",
       "      <th>open_plan</th>\n",
       "      <th>kitchen_area</th>\n",
       "      <th>balcony</th>\n",
       "      <th>locality_name</th>\n",
       "      <th>airports_nearest</th>\n",
       "      <th>cityCenters_nearest</th>\n",
       "      <th>parks_around3000</th>\n",
       "      <th>parks_nearest</th>\n",
       "      <th>ponds_around3000</th>\n",
       "      <th>ponds_nearest</th>\n",
       "      <th>days_exposition</th>\n",
       "    </tr>\n",
       "  </thead>\n",
       "  <tbody>\n",
       "    <tr>\n",
       "      <th>35</th>\n",
       "      <td>6</td>\n",
       "      <td>15500000.0</td>\n",
       "      <td>149.0</td>\n",
       "      <td>2017-06-26T00:00:00</td>\n",
       "      <td>5</td>\n",
       "      <td>NaN</td>\n",
       "      <td>5.0</td>\n",
       "      <td>104.0</td>\n",
       "      <td>4</td>\n",
       "      <td>NaN</td>\n",
       "      <td>False</td>\n",
       "      <td>False</td>\n",
       "      <td>17.0</td>\n",
       "      <td>NaN</td>\n",
       "      <td>Санкт-Петербург</td>\n",
       "      <td>23670.0</td>\n",
       "      <td>3502.0</td>\n",
       "      <td>0.0</td>\n",
       "      <td>NaN</td>\n",
       "      <td>1.0</td>\n",
       "      <td>779.0</td>\n",
       "      <td>644.0</td>\n",
       "    </tr>\n",
       "    <tr>\n",
       "      <th>52</th>\n",
       "      <td>20</td>\n",
       "      <td>11795000.0</td>\n",
       "      <td>136.0</td>\n",
       "      <td>2017-09-22T00:00:00</td>\n",
       "      <td>6</td>\n",
       "      <td>3.00</td>\n",
       "      <td>2.0</td>\n",
       "      <td>94.0</td>\n",
       "      <td>2</td>\n",
       "      <td>NaN</td>\n",
       "      <td>False</td>\n",
       "      <td>False</td>\n",
       "      <td>11.0</td>\n",
       "      <td>1.0</td>\n",
       "      <td>Санкт-Петербург</td>\n",
       "      <td>16510.0</td>\n",
       "      <td>6582.0</td>\n",
       "      <td>1.0</td>\n",
       "      <td>526.0</td>\n",
       "      <td>0.0</td>\n",
       "      <td>NaN</td>\n",
       "      <td>NaN</td>\n",
       "    </tr>\n",
       "    <tr>\n",
       "      <th>106</th>\n",
       "      <td>9</td>\n",
       "      <td>10500000.0</td>\n",
       "      <td>124.1</td>\n",
       "      <td>2017-05-25T00:00:00</td>\n",
       "      <td>5</td>\n",
       "      <td>3.20</td>\n",
       "      <td>4.0</td>\n",
       "      <td>79.4</td>\n",
       "      <td>3</td>\n",
       "      <td>NaN</td>\n",
       "      <td>False</td>\n",
       "      <td>False</td>\n",
       "      <td>20.0</td>\n",
       "      <td>0.0</td>\n",
       "      <td>Санкт-Петербург</td>\n",
       "      <td>26825.0</td>\n",
       "      <td>5527.0</td>\n",
       "      <td>1.0</td>\n",
       "      <td>384.0</td>\n",
       "      <td>0.0</td>\n",
       "      <td>NaN</td>\n",
       "      <td>6.0</td>\n",
       "    </tr>\n",
       "    <tr>\n",
       "      <th>147</th>\n",
       "      <td>10</td>\n",
       "      <td>27700000.0</td>\n",
       "      <td>179.6</td>\n",
       "      <td>2017-07-06T00:00:00</td>\n",
       "      <td>5</td>\n",
       "      <td>2.85</td>\n",
       "      <td>25.0</td>\n",
       "      <td>97.2</td>\n",
       "      <td>25</td>\n",
       "      <td>NaN</td>\n",
       "      <td>False</td>\n",
       "      <td>False</td>\n",
       "      <td>33.8</td>\n",
       "      <td>2.0</td>\n",
       "      <td>Санкт-Петербург</td>\n",
       "      <td>19424.0</td>\n",
       "      <td>4489.0</td>\n",
       "      <td>0.0</td>\n",
       "      <td>NaN</td>\n",
       "      <td>1.0</td>\n",
       "      <td>806.0</td>\n",
       "      <td>75.0</td>\n",
       "    </tr>\n",
       "    <tr>\n",
       "      <th>201</th>\n",
       "      <td>5</td>\n",
       "      <td>10880000.0</td>\n",
       "      <td>123.1</td>\n",
       "      <td>2015-11-12T00:00:00</td>\n",
       "      <td>6</td>\n",
       "      <td>3.20</td>\n",
       "      <td>5.0</td>\n",
       "      <td>89.0</td>\n",
       "      <td>2</td>\n",
       "      <td>NaN</td>\n",
       "      <td>False</td>\n",
       "      <td>False</td>\n",
       "      <td>11.0</td>\n",
       "      <td>NaN</td>\n",
       "      <td>Санкт-Петербург</td>\n",
       "      <td>26009.0</td>\n",
       "      <td>3369.0</td>\n",
       "      <td>2.0</td>\n",
       "      <td>516.0</td>\n",
       "      <td>0.0</td>\n",
       "      <td>NaN</td>\n",
       "      <td>992.0</td>\n",
       "    </tr>\n",
       "    <tr>\n",
       "      <th>335</th>\n",
       "      <td>1</td>\n",
       "      <td>21800000.0</td>\n",
       "      <td>163.4</td>\n",
       "      <td>2017-12-10T00:00:00</td>\n",
       "      <td>5</td>\n",
       "      <td>3.50</td>\n",
       "      <td>5.0</td>\n",
       "      <td>119.5</td>\n",
       "      <td>2</td>\n",
       "      <td>False</td>\n",
       "      <td>False</td>\n",
       "      <td>False</td>\n",
       "      <td>10.0</td>\n",
       "      <td>NaN</td>\n",
       "      <td>Санкт-Петербург</td>\n",
       "      <td>26791.0</td>\n",
       "      <td>5493.0</td>\n",
       "      <td>1.0</td>\n",
       "      <td>349.0</td>\n",
       "      <td>0.0</td>\n",
       "      <td>NaN</td>\n",
       "      <td>106.0</td>\n",
       "    </tr>\n",
       "    <tr>\n",
       "      <th>417</th>\n",
       "      <td>5</td>\n",
       "      <td>14200000.0</td>\n",
       "      <td>178.0</td>\n",
       "      <td>2017-10-26T00:00:00</td>\n",
       "      <td>5</td>\n",
       "      <td>3.30</td>\n",
       "      <td>4.0</td>\n",
       "      <td>126.6</td>\n",
       "      <td>2</td>\n",
       "      <td>NaN</td>\n",
       "      <td>False</td>\n",
       "      <td>False</td>\n",
       "      <td>19.4</td>\n",
       "      <td>NaN</td>\n",
       "      <td>Санкт-Петербург</td>\n",
       "      <td>24287.0</td>\n",
       "      <td>2835.0</td>\n",
       "      <td>0.0</td>\n",
       "      <td>NaN</td>\n",
       "      <td>3.0</td>\n",
       "      <td>257.0</td>\n",
       "      <td>104.0</td>\n",
       "    </tr>\n",
       "    <tr>\n",
       "      <th>458</th>\n",
       "      <td>9</td>\n",
       "      <td>4200000.0</td>\n",
       "      <td>106.0</td>\n",
       "      <td>2018-10-05T00:00:00</td>\n",
       "      <td>5</td>\n",
       "      <td>NaN</td>\n",
       "      <td>5.0</td>\n",
       "      <td>75.8</td>\n",
       "      <td>1</td>\n",
       "      <td>NaN</td>\n",
       "      <td>False</td>\n",
       "      <td>False</td>\n",
       "      <td>12.0</td>\n",
       "      <td>NaN</td>\n",
       "      <td>посёлок городского типа Лебяжье</td>\n",
       "      <td>NaN</td>\n",
       "      <td>NaN</td>\n",
       "      <td>NaN</td>\n",
       "      <td>NaN</td>\n",
       "      <td>NaN</td>\n",
       "      <td>NaN</td>\n",
       "      <td>NaN</td>\n",
       "    </tr>\n",
       "    <tr>\n",
       "      <th>464</th>\n",
       "      <td>15</td>\n",
       "      <td>66571000.0</td>\n",
       "      <td>280.3</td>\n",
       "      <td>2015-06-11T00:00:00</td>\n",
       "      <td>6</td>\n",
       "      <td>5.20</td>\n",
       "      <td>8.0</td>\n",
       "      <td>159.5</td>\n",
       "      <td>7</td>\n",
       "      <td>NaN</td>\n",
       "      <td>False</td>\n",
       "      <td>False</td>\n",
       "      <td>21.1</td>\n",
       "      <td>0.0</td>\n",
       "      <td>Санкт-Петербург</td>\n",
       "      <td>26316.0</td>\n",
       "      <td>6655.0</td>\n",
       "      <td>3.0</td>\n",
       "      <td>187.0</td>\n",
       "      <td>1.0</td>\n",
       "      <td>616.0</td>\n",
       "      <td>578.0</td>\n",
       "    </tr>\n",
       "    <tr>\n",
       "      <th>495</th>\n",
       "      <td>1</td>\n",
       "      <td>10400000.0</td>\n",
       "      <td>104.0</td>\n",
       "      <td>2015-09-20T00:00:00</td>\n",
       "      <td>5</td>\n",
       "      <td>3.50</td>\n",
       "      <td>6.0</td>\n",
       "      <td>70.0</td>\n",
       "      <td>4</td>\n",
       "      <td>NaN</td>\n",
       "      <td>False</td>\n",
       "      <td>False</td>\n",
       "      <td>14.0</td>\n",
       "      <td>0.0</td>\n",
       "      <td>Санкт-Петербург</td>\n",
       "      <td>21773.0</td>\n",
       "      <td>2074.0</td>\n",
       "      <td>1.0</td>\n",
       "      <td>637.0</td>\n",
       "      <td>1.0</td>\n",
       "      <td>145.0</td>\n",
       "      <td>702.0</td>\n",
       "    </tr>\n",
       "  </tbody>\n",
       "</table>\n",
       "</div>"
      ],
      "text/plain": [
       "     total_images  last_price  total_area first_day_exposition  rooms  \\\n",
       "35              6  15500000.0       149.0  2017-06-26T00:00:00      5   \n",
       "52             20  11795000.0       136.0  2017-09-22T00:00:00      6   \n",
       "106             9  10500000.0       124.1  2017-05-25T00:00:00      5   \n",
       "147            10  27700000.0       179.6  2017-07-06T00:00:00      5   \n",
       "201             5  10880000.0       123.1  2015-11-12T00:00:00      6   \n",
       "335             1  21800000.0       163.4  2017-12-10T00:00:00      5   \n",
       "417             5  14200000.0       178.0  2017-10-26T00:00:00      5   \n",
       "458             9   4200000.0       106.0  2018-10-05T00:00:00      5   \n",
       "464            15  66571000.0       280.3  2015-06-11T00:00:00      6   \n",
       "495             1  10400000.0       104.0  2015-09-20T00:00:00      5   \n",
       "\n",
       "     ceiling_height  floors_total  living_area  floor is_apartment  studio  \\\n",
       "35              NaN           5.0        104.0      4          NaN   False   \n",
       "52             3.00           2.0         94.0      2          NaN   False   \n",
       "106            3.20           4.0         79.4      3          NaN   False   \n",
       "147            2.85          25.0         97.2     25          NaN   False   \n",
       "201            3.20           5.0         89.0      2          NaN   False   \n",
       "335            3.50           5.0        119.5      2        False   False   \n",
       "417            3.30           4.0        126.6      2          NaN   False   \n",
       "458             NaN           5.0         75.8      1          NaN   False   \n",
       "464            5.20           8.0        159.5      7          NaN   False   \n",
       "495            3.50           6.0         70.0      4          NaN   False   \n",
       "\n",
       "     open_plan  kitchen_area  balcony                    locality_name  \\\n",
       "35       False          17.0      NaN                  Санкт-Петербург   \n",
       "52       False          11.0      1.0                  Санкт-Петербург   \n",
       "106      False          20.0      0.0                  Санкт-Петербург   \n",
       "147      False          33.8      2.0                  Санкт-Петербург   \n",
       "201      False          11.0      NaN                  Санкт-Петербург   \n",
       "335      False          10.0      NaN                  Санкт-Петербург   \n",
       "417      False          19.4      NaN                  Санкт-Петербург   \n",
       "458      False          12.0      NaN  посёлок городского типа Лебяжье   \n",
       "464      False          21.1      0.0                  Санкт-Петербург   \n",
       "495      False          14.0      0.0                  Санкт-Петербург   \n",
       "\n",
       "     airports_nearest  cityCenters_nearest  parks_around3000  parks_nearest  \\\n",
       "35            23670.0               3502.0               0.0            NaN   \n",
       "52            16510.0               6582.0               1.0          526.0   \n",
       "106           26825.0               5527.0               1.0          384.0   \n",
       "147           19424.0               4489.0               0.0            NaN   \n",
       "201           26009.0               3369.0               2.0          516.0   \n",
       "335           26791.0               5493.0               1.0          349.0   \n",
       "417           24287.0               2835.0               0.0            NaN   \n",
       "458               NaN                  NaN               NaN            NaN   \n",
       "464           26316.0               6655.0               3.0          187.0   \n",
       "495           21773.0               2074.0               1.0          637.0   \n",
       "\n",
       "     ponds_around3000  ponds_nearest  days_exposition  \n",
       "35                1.0          779.0            644.0  \n",
       "52                0.0            NaN              NaN  \n",
       "106               0.0            NaN              6.0  \n",
       "147               1.0          806.0             75.0  \n",
       "201               0.0            NaN            992.0  \n",
       "335               0.0            NaN            106.0  \n",
       "417               3.0          257.0            104.0  \n",
       "458               NaN            NaN              NaN  \n",
       "464               1.0          616.0            578.0  \n",
       "495               1.0          145.0            702.0  "
      ]
     },
     "execution_count": 3,
     "metadata": {},
     "output_type": "execute_result"
    }
   ],
   "source": [
    "data_rooms = data[data['rooms'] > 4]\n",
    "data_rooms.head(10)"
   ]
  },
  {
   "cell_type": "markdown",
   "metadata": {},
   "source": [
    "### Предобработка данных"
   ]
  },
  {
   "cell_type": "code",
   "execution_count": 7,
   "metadata": {},
   "outputs": [
    {
     "name": "stdout",
     "output_type": "stream",
     "text": [
      "<class 'pandas.core.frame.DataFrame'>\n",
      "RangeIndex: 23699 entries, 0 to 23698\n",
      "Data columns (total 22 columns):\n",
      " #   Column                Non-Null Count  Dtype  \n",
      "---  ------                --------------  -----  \n",
      " 0   total_images          23699 non-null  int64  \n",
      " 1   last_price            23699 non-null  float64\n",
      " 2   total_area            23699 non-null  float64\n",
      " 3   first_day_exposition  23699 non-null  object \n",
      " 4   rooms                 23699 non-null  int64  \n",
      " 5   ceiling_height        23578 non-null  float64\n",
      " 6   floors_total          23699 non-null  float64\n",
      " 7   living_area           23699 non-null  float64\n",
      " 8   floor                 23699 non-null  int64  \n",
      " 9   is_apartment          23699 non-null  bool   \n",
      " 10  studio                23699 non-null  bool   \n",
      " 11  open_plan             23699 non-null  bool   \n",
      " 12  kitchen_area          23502 non-null  float64\n",
      " 13  balcony               23694 non-null  float64\n",
      " 14  locality_name         23699 non-null  object \n",
      " 15  airports_nearest      18157 non-null  float64\n",
      " 16  cityCenters_nearest   18180 non-null  float64\n",
      " 17  parks_around3000      18181 non-null  float64\n",
      " 18  parks_nearest         8079 non-null   float64\n",
      " 19  ponds_around3000      18181 non-null  float64\n",
      " 20  ponds_nearest         9110 non-null   float64\n",
      " 21  days_exposition       20518 non-null  float64\n",
      "dtypes: bool(3), float64(14), int64(3), object(2)\n",
      "memory usage: 3.5+ MB\n"
     ]
    },
    {
     "data": {
      "text/plain": [
       "parks_nearest           15620\n",
       "ponds_nearest           14589\n",
       "airports_nearest         5542\n",
       "cityCenters_nearest      5519\n",
       "ponds_around3000         5518\n",
       "parks_around3000         5518\n",
       "days_exposition          3181\n",
       "kitchen_area              197\n",
       "ceiling_height            121\n",
       "balcony                     5\n",
       "locality_name               0\n",
       "total_images                0\n",
       "last_price                  0\n",
       "studio                      0\n",
       "is_apartment                0\n",
       "floor                       0\n",
       "living_area                 0\n",
       "floors_total                0\n",
       "rooms                       0\n",
       "first_day_exposition        0\n",
       "total_area                  0\n",
       "open_plan                   0\n",
       "dtype: int64"
      ]
     },
     "execution_count": 7,
     "metadata": {},
     "output_type": "execute_result"
    }
   ],
   "source": [
    "# заменим прорпуски в столбцах, где это имеет смысл:\n",
    "\n",
    "data['is_apartment'] = data['is_apartment'].fillna(False) #булево значение\n",
    "data['locality_name'] = data['locality_name'].fillna('Unknown') #заменить название нечем,кроме категории \"неизвестен\"\n",
    "\n",
    "# пропуски в количестве балконов можно заполнить средним значением для квартир с аналоичным количеством комнат\n",
    "# не факт, что пропуск означает отсутствие балкона вообще, заменять на 0 некорректно\n",
    "\n",
    "for d in data['rooms'].unique():\n",
    "    data.loc[(data['rooms'] == d) & (data['balcony'].isna()), 'balcony'] = \\\n",
    "    data.loc[(data['rooms'] == d),'balcony'].mean()\n",
    "    \n",
    "#пропуск в названии населенног пункта заменить нечем, подставляем Unknown\n",
    "data['locality_name'] = data['locality_name'].fillna('Unknown')\n",
    "\n",
    "#для floors_total заменой может быть медиана этажности в населенном пункте\n",
    "\n",
    "for d in data['locality_name'].unique():\n",
    "    data.loc[(data['locality_name'] == d) & (data['floors_total'].isna()), 'floors_total'] = \\\n",
    "    data.loc[(data['locality_name'] == d),'floors_total'].median() \n",
    "\n",
    "# аналогично для заполнения пропусков площади кухни и общей жилой площади    \n",
    "\n",
    "for d in data['rooms'].unique():\n",
    "    data.loc[(data['rooms'] == d) & (data['kitchen_area'].isna()), 'kitchen_area'] = \\\n",
    "    data.loc[(data['rooms'] == d),'kitchen_area'].mean() \n",
    "    \n",
    "for d in data['rooms'].unique():\n",
    "    data.loc[(data['rooms'] == d) & (data['living_area'].isna()), 'living_area'] = \\\n",
    "    data.loc[(data['rooms'] == d),'living_area'].mean()\n",
    "\n",
    "# пропуски в высоте потолков логично было бы заменить на среднее среди объектов аналогичной этажности\n",
    "\n",
    "for d in data['locality_name'].unique():\n",
    "    data.loc[(data['locality_name'] == d) & (data['ceiling_height'].isna()), 'ceiling_height'] = \\\n",
    "    data.loc[(data['locality_name'] == d),'ceiling_height'].mean()     \n",
    "\n",
    "# проверим пропуски еще раз    \n",
    "data.info()\n",
    "data.isna().sum().sort_values(ascending=False)\n"
   ]
  },
  {
   "cell_type": "code",
   "execution_count": 8,
   "metadata": {},
   "outputs": [
    {
     "data": {
      "text/plain": [
       "parks_nearest           15620\n",
       "ponds_nearest           14589\n",
       "airports_nearest         5542\n",
       "cityCenters_nearest      5519\n",
       "ponds_around3000         5518\n",
       "parks_around3000         5518\n",
       "days_exposition          3181\n",
       "last_price                  0\n",
       "locality_name               0\n",
       "balcony                     0\n",
       "kitchen_area                0\n",
       "total_images                0\n",
       "studio                      0\n",
       "is_apartment                0\n",
       "floor                       0\n",
       "living_area                 0\n",
       "floors_total                0\n",
       "ceiling_height              0\n",
       "rooms                       0\n",
       "first_day_exposition        0\n",
       "total_area                  0\n",
       "open_plan                   0\n",
       "dtype: int64"
      ]
     },
     "execution_count": 8,
     "metadata": {},
     "output_type": "execute_result"
    }
   ],
   "source": [
    "#Оставшиеся 5 пропусков в balcony могут быть для числа комнат, где нет данных по балконам\n",
    "#заменим на 0. \n",
    "data['balcony'] = data['balcony'].fillna(0)\n",
    "\n",
    "#оставшуюся строку в ceiling_height можно объяснить отсутствием данных для конкретной этажности, заменим медианой.\n",
    "data['ceiling_height'] = data['ceiling_height'].fillna(data['ceiling_height'].median())\n",
    "\n",
    "#аналогично для kitchen_area              \n",
    "data['kitchen_area'] = data['kitchen_area'].fillna(data['kitchen_area'].median())\n",
    "\n",
    "# проверим пропуски еще раз    \n",
    "data.isna().sum().sort_values(ascending=False)"
   ]
  },
  {
   "cell_type": "markdown",
   "metadata": {},
   "source": [
    "<div style=\"background-color:black; color:#ffffff; text-align:left; padding:2%\">\n",
    "💬 Остались пропуски в некритичных для анализа данных: близость до парков и водоемов, до центра. \n",
    "Пропуски в days_exposition могут означать,что объявление еще активно."
   ]
  },
  {
   "cell_type": "markdown",
   "metadata": {},
   "source": [
    "<div style=\"background-color:black; color:#ffffff; text-align:left; padding:2%\">\n",
    "💬 Даты публикаций имеют формат object, что затруднит обработку данных. Переводим в формат даты методом to_datetime()\n",
    "\n",
    "Число балконов вряд ли может быть дробным, как и количество этажей, переводим в целочисленный формат методом astype().\n"
   ]
  },
  {
   "cell_type": "code",
   "execution_count": 9,
   "metadata": {},
   "outputs": [
    {
     "name": "stdout",
     "output_type": "stream",
     "text": [
      "<class 'pandas.core.frame.DataFrame'>\n",
      "RangeIndex: 23699 entries, 0 to 23698\n",
      "Data columns (total 22 columns):\n",
      " #   Column                Non-Null Count  Dtype         \n",
      "---  ------                --------------  -----         \n",
      " 0   total_images          23699 non-null  int64         \n",
      " 1   last_price            23699 non-null  float64       \n",
      " 2   total_area            23699 non-null  float64       \n",
      " 3   first_day_exposition  23699 non-null  datetime64[ns]\n",
      " 4   rooms                 23699 non-null  int64         \n",
      " 5   ceiling_height        23699 non-null  float64       \n",
      " 6   floors_total          23699 non-null  int64         \n",
      " 7   living_area           23699 non-null  float64       \n",
      " 8   floor                 23699 non-null  int64         \n",
      " 9   is_apartment          23699 non-null  bool          \n",
      " 10  studio                23699 non-null  bool          \n",
      " 11  open_plan             23699 non-null  bool          \n",
      " 12  kitchen_area          23699 non-null  float64       \n",
      " 13  balcony               23699 non-null  int64         \n",
      " 14  locality_name         23699 non-null  object        \n",
      " 15  airports_nearest      18157 non-null  float64       \n",
      " 16  cityCenters_nearest   18180 non-null  float64       \n",
      " 17  parks_around3000      18181 non-null  float64       \n",
      " 18  parks_nearest         8079 non-null   float64       \n",
      " 19  ponds_around3000      18181 non-null  float64       \n",
      " 20  ponds_nearest         9110 non-null   float64       \n",
      " 21  days_exposition       20518 non-null  float64       \n",
      "dtypes: bool(3), datetime64[ns](1), float64(12), int64(5), object(1)\n",
      "memory usage: 3.5+ MB\n"
     ]
    },
    {
     "data": {
      "text/html": [
       "<div>\n",
       "<style scoped>\n",
       "    .dataframe tbody tr th:only-of-type {\n",
       "        vertical-align: middle;\n",
       "    }\n",
       "\n",
       "    .dataframe tbody tr th {\n",
       "        vertical-align: top;\n",
       "    }\n",
       "\n",
       "    .dataframe thead th {\n",
       "        text-align: right;\n",
       "    }\n",
       "</style>\n",
       "<table border=\"1\" class=\"dataframe\">\n",
       "  <thead>\n",
       "    <tr style=\"text-align: right;\">\n",
       "      <th></th>\n",
       "      <th>total_images</th>\n",
       "      <th>last_price</th>\n",
       "      <th>total_area</th>\n",
       "      <th>first_day_exposition</th>\n",
       "      <th>rooms</th>\n",
       "      <th>ceiling_height</th>\n",
       "      <th>floors_total</th>\n",
       "      <th>living_area</th>\n",
       "      <th>floor</th>\n",
       "      <th>is_apartment</th>\n",
       "      <th>...</th>\n",
       "      <th>kitchen_area</th>\n",
       "      <th>balcony</th>\n",
       "      <th>locality_name</th>\n",
       "      <th>airports_nearest</th>\n",
       "      <th>cityCenters_nearest</th>\n",
       "      <th>parks_around3000</th>\n",
       "      <th>parks_nearest</th>\n",
       "      <th>ponds_around3000</th>\n",
       "      <th>ponds_nearest</th>\n",
       "      <th>days_exposition</th>\n",
       "    </tr>\n",
       "  </thead>\n",
       "  <tbody>\n",
       "    <tr>\n",
       "      <th>0</th>\n",
       "      <td>20</td>\n",
       "      <td>13000000.0</td>\n",
       "      <td>108.0</td>\n",
       "      <td>2019-03-07</td>\n",
       "      <td>3</td>\n",
       "      <td>2.700000</td>\n",
       "      <td>16</td>\n",
       "      <td>51.000000</td>\n",
       "      <td>8</td>\n",
       "      <td>False</td>\n",
       "      <td>...</td>\n",
       "      <td>25.00000</td>\n",
       "      <td>1</td>\n",
       "      <td>Санкт-Петербург</td>\n",
       "      <td>18863.0</td>\n",
       "      <td>16028.0</td>\n",
       "      <td>1.0</td>\n",
       "      <td>482.0</td>\n",
       "      <td>2.0</td>\n",
       "      <td>755.0</td>\n",
       "      <td>NaN</td>\n",
       "    </tr>\n",
       "    <tr>\n",
       "      <th>1</th>\n",
       "      <td>7</td>\n",
       "      <td>3350000.0</td>\n",
       "      <td>40.4</td>\n",
       "      <td>2018-12-04</td>\n",
       "      <td>1</td>\n",
       "      <td>2.644470</td>\n",
       "      <td>11</td>\n",
       "      <td>18.600000</td>\n",
       "      <td>1</td>\n",
       "      <td>False</td>\n",
       "      <td>...</td>\n",
       "      <td>11.00000</td>\n",
       "      <td>2</td>\n",
       "      <td>посёлок Шушары</td>\n",
       "      <td>12817.0</td>\n",
       "      <td>18603.0</td>\n",
       "      <td>0.0</td>\n",
       "      <td>NaN</td>\n",
       "      <td>0.0</td>\n",
       "      <td>NaN</td>\n",
       "      <td>81.0</td>\n",
       "    </tr>\n",
       "    <tr>\n",
       "      <th>2</th>\n",
       "      <td>10</td>\n",
       "      <td>5196000.0</td>\n",
       "      <td>56.0</td>\n",
       "      <td>2015-08-20</td>\n",
       "      <td>2</td>\n",
       "      <td>2.803709</td>\n",
       "      <td>5</td>\n",
       "      <td>34.300000</td>\n",
       "      <td>4</td>\n",
       "      <td>False</td>\n",
       "      <td>...</td>\n",
       "      <td>8.30000</td>\n",
       "      <td>0</td>\n",
       "      <td>Санкт-Петербург</td>\n",
       "      <td>21741.0</td>\n",
       "      <td>13933.0</td>\n",
       "      <td>1.0</td>\n",
       "      <td>90.0</td>\n",
       "      <td>2.0</td>\n",
       "      <td>574.0</td>\n",
       "      <td>558.0</td>\n",
       "    </tr>\n",
       "    <tr>\n",
       "      <th>3</th>\n",
       "      <td>0</td>\n",
       "      <td>64900000.0</td>\n",
       "      <td>159.0</td>\n",
       "      <td>2015-07-24</td>\n",
       "      <td>3</td>\n",
       "      <td>2.803709</td>\n",
       "      <td>14</td>\n",
       "      <td>47.387941</td>\n",
       "      <td>9</td>\n",
       "      <td>False</td>\n",
       "      <td>...</td>\n",
       "      <td>11.30858</td>\n",
       "      <td>0</td>\n",
       "      <td>Санкт-Петербург</td>\n",
       "      <td>28098.0</td>\n",
       "      <td>6800.0</td>\n",
       "      <td>2.0</td>\n",
       "      <td>84.0</td>\n",
       "      <td>3.0</td>\n",
       "      <td>234.0</td>\n",
       "      <td>424.0</td>\n",
       "    </tr>\n",
       "    <tr>\n",
       "      <th>4</th>\n",
       "      <td>2</td>\n",
       "      <td>10000000.0</td>\n",
       "      <td>100.0</td>\n",
       "      <td>2018-06-19</td>\n",
       "      <td>2</td>\n",
       "      <td>3.030000</td>\n",
       "      <td>14</td>\n",
       "      <td>32.000000</td>\n",
       "      <td>13</td>\n",
       "      <td>False</td>\n",
       "      <td>...</td>\n",
       "      <td>41.00000</td>\n",
       "      <td>1</td>\n",
       "      <td>Санкт-Петербург</td>\n",
       "      <td>31856.0</td>\n",
       "      <td>8098.0</td>\n",
       "      <td>2.0</td>\n",
       "      <td>112.0</td>\n",
       "      <td>1.0</td>\n",
       "      <td>48.0</td>\n",
       "      <td>121.0</td>\n",
       "    </tr>\n",
       "  </tbody>\n",
       "</table>\n",
       "<p>5 rows × 22 columns</p>\n",
       "</div>"
      ],
      "text/plain": [
       "   total_images  last_price  total_area first_day_exposition  rooms  \\\n",
       "0            20  13000000.0       108.0           2019-03-07      3   \n",
       "1             7   3350000.0        40.4           2018-12-04      1   \n",
       "2            10   5196000.0        56.0           2015-08-20      2   \n",
       "3             0  64900000.0       159.0           2015-07-24      3   \n",
       "4             2  10000000.0       100.0           2018-06-19      2   \n",
       "\n",
       "   ceiling_height  floors_total  living_area  floor  is_apartment  ...  \\\n",
       "0        2.700000            16    51.000000      8         False  ...   \n",
       "1        2.644470            11    18.600000      1         False  ...   \n",
       "2        2.803709             5    34.300000      4         False  ...   \n",
       "3        2.803709            14    47.387941      9         False  ...   \n",
       "4        3.030000            14    32.000000     13         False  ...   \n",
       "\n",
       "   kitchen_area  balcony    locality_name  airports_nearest  \\\n",
       "0      25.00000        1  Санкт-Петербург           18863.0   \n",
       "1      11.00000        2   посёлок Шушары           12817.0   \n",
       "2       8.30000        0  Санкт-Петербург           21741.0   \n",
       "3      11.30858        0  Санкт-Петербург           28098.0   \n",
       "4      41.00000        1  Санкт-Петербург           31856.0   \n",
       "\n",
       "  cityCenters_nearest  parks_around3000  parks_nearest  ponds_around3000  \\\n",
       "0             16028.0               1.0          482.0               2.0   \n",
       "1             18603.0               0.0            NaN               0.0   \n",
       "2             13933.0               1.0           90.0               2.0   \n",
       "3              6800.0               2.0           84.0               3.0   \n",
       "4              8098.0               2.0          112.0               1.0   \n",
       "\n",
       "   ponds_nearest  days_exposition  \n",
       "0          755.0              NaN  \n",
       "1            NaN             81.0  \n",
       "2          574.0            558.0  \n",
       "3          234.0            424.0  \n",
       "4           48.0            121.0  \n",
       "\n",
       "[5 rows x 22 columns]"
      ]
     },
     "execution_count": 9,
     "metadata": {},
     "output_type": "execute_result"
    }
   ],
   "source": [
    "data['first_day_exposition'] = pd.to_datetime(\n",
    "    data['first_day_exposition'], format='%Y-%m-%dT%H:%M:%S'\n",
    ")\n",
    "data['floors_total'] = data['floors_total'].astype('int')\n",
    "data['balcony'] = data['balcony'].astype('int')\n",
    "data.info()\n",
    "data.head()"
   ]
  },
  {
   "cell_type": "code",
   "execution_count": 10,
   "metadata": {},
   "outputs": [
    {
     "data": {
      "text/plain": [
       "['Unknown',\n",
       " 'Бокситогорск',\n",
       " 'Волосово',\n",
       " 'Волхов',\n",
       " 'Всеволожск',\n",
       " 'Выборг',\n",
       " 'Высоцк',\n",
       " 'Гатчина',\n",
       " 'Зеленогорск',\n",
       " 'Ивангород',\n",
       " 'Каменногорск',\n",
       " 'Кингисепп',\n",
       " 'Кириши',\n",
       " 'Кировск',\n",
       " 'Колпино',\n",
       " 'Коммунар',\n",
       " 'Красное Село',\n",
       " 'Кронштадт',\n",
       " 'Кудрово',\n",
       " 'Лодейное Поле',\n",
       " 'Ломоносов',\n",
       " 'Луга',\n",
       " 'Любань',\n",
       " 'Мурино',\n",
       " 'Никольское',\n",
       " 'Новая Ладога',\n",
       " 'Отрадное',\n",
       " 'Павловск',\n",
       " 'Петергоф',\n",
       " 'Пикалёво',\n",
       " 'Подпорожье',\n",
       " 'Приморск',\n",
       " 'Приозерск',\n",
       " 'Пушкин',\n",
       " 'Санкт-Петербург',\n",
       " 'Светогорск',\n",
       " 'Сертолово',\n",
       " 'Сестрорецк',\n",
       " 'Сланцы',\n",
       " 'Сосновый Бор',\n",
       " 'Сясьстрой',\n",
       " 'Тихвин',\n",
       " 'Тосно',\n",
       " 'Шлиссельбург',\n",
       " 'городской поселок Большая Ижора',\n",
       " 'городской поселок Янино-1',\n",
       " 'городской посёлок Будогощь',\n",
       " 'городской посёлок Виллози',\n",
       " 'городской посёлок Лесогорский',\n",
       " 'городской посёлок Мга',\n",
       " 'городской посёлок Назия',\n",
       " 'городской посёлок Новоселье',\n",
       " 'городской посёлок Павлово',\n",
       " 'городской посёлок Рощино',\n",
       " 'городской посёлок Свирьстрой',\n",
       " 'городской посёлок Советский',\n",
       " 'городской посёлок Фёдоровское',\n",
       " 'городской посёлок Янино-1',\n",
       " 'деревня Агалатово',\n",
       " 'деревня Аро',\n",
       " 'деревня Батово',\n",
       " 'деревня Бегуницы',\n",
       " 'деревня Белогорка',\n",
       " 'деревня Большая Вруда',\n",
       " 'деревня Большая Пустомержа',\n",
       " 'деревня Большие Колпаны',\n",
       " 'деревня Большое Рейзино',\n",
       " 'деревня Большой Сабск',\n",
       " 'деревня Бор',\n",
       " 'деревня Борисова Грива',\n",
       " 'деревня Ваганово',\n",
       " 'деревня Вартемяги',\n",
       " 'деревня Вахнова Кара',\n",
       " 'деревня Выскатка',\n",
       " 'деревня Гарболово',\n",
       " 'деревня Глинка',\n",
       " 'деревня Горбунки',\n",
       " 'деревня Гостилицы',\n",
       " 'деревня Заклинье',\n",
       " 'деревня Заневка',\n",
       " 'деревня Зимитицы',\n",
       " 'деревня Извара',\n",
       " 'деревня Иссад',\n",
       " 'деревня Калитино',\n",
       " 'деревня Кальтино',\n",
       " 'деревня Камышовка',\n",
       " 'деревня Каськово',\n",
       " 'деревня Келози',\n",
       " 'деревня Кипень',\n",
       " 'деревня Кисельня',\n",
       " 'деревня Колтуши',\n",
       " 'деревня Коркино',\n",
       " 'деревня Котлы',\n",
       " 'деревня Кривко',\n",
       " 'деревня Кудрово',\n",
       " 'деревня Кузьмолово',\n",
       " 'деревня Курковицы',\n",
       " 'деревня Куровицы',\n",
       " 'деревня Куттузи',\n",
       " 'деревня Лаврики',\n",
       " 'деревня Лаголово',\n",
       " 'деревня Лампово',\n",
       " 'деревня Лесколово',\n",
       " 'деревня Лопухинка',\n",
       " 'деревня Лупполово',\n",
       " 'деревня Малая Романовка',\n",
       " 'деревня Малое Верево',\n",
       " 'деревня Малое Карлино',\n",
       " 'деревня Малые Колпаны',\n",
       " 'деревня Мануйлово',\n",
       " 'деревня Меньково',\n",
       " 'деревня Мины',\n",
       " 'деревня Мистолово',\n",
       " 'деревня Ненимяки',\n",
       " 'деревня Нижние Осельки',\n",
       " 'деревня Нижняя',\n",
       " 'деревня Низино',\n",
       " 'деревня Новое Девяткино',\n",
       " 'деревня Новолисино',\n",
       " 'деревня Нурма',\n",
       " 'деревня Оржицы',\n",
       " 'деревня Парицы',\n",
       " 'деревня Пельгора',\n",
       " 'деревня Пеники',\n",
       " 'деревня Пижма',\n",
       " 'деревня Пикколово',\n",
       " 'деревня Пудомяги',\n",
       " 'деревня Пустынка',\n",
       " 'деревня Пчева',\n",
       " 'деревня Рабитицы',\n",
       " 'деревня Разбегаево',\n",
       " 'деревня Раздолье',\n",
       " 'деревня Разметелево',\n",
       " 'деревня Рапполово',\n",
       " 'деревня Реброво',\n",
       " 'деревня Русско',\n",
       " 'деревня Сижно',\n",
       " 'деревня Снегирёвка',\n",
       " 'деревня Старая',\n",
       " 'деревня Старая Пустошь',\n",
       " 'деревня Старое Хинколово',\n",
       " 'деревня Старополье',\n",
       " 'деревня Старосиверская',\n",
       " 'деревня Старые Бегуницы',\n",
       " 'деревня Суоранда',\n",
       " 'деревня Сяськелево',\n",
       " 'деревня Тарасово',\n",
       " 'деревня Терпилицы',\n",
       " 'деревня Тихковицы',\n",
       " 'деревня Тойворово',\n",
       " 'деревня Торосово',\n",
       " 'деревня Торошковичи',\n",
       " 'деревня Трубников Бор',\n",
       " 'деревня Фалилеево',\n",
       " 'деревня Фёдоровское',\n",
       " 'деревня Хапо-Ое',\n",
       " 'деревня Хязельки',\n",
       " 'деревня Чудской Бор',\n",
       " 'деревня Шпаньково',\n",
       " 'деревня Щеглово',\n",
       " 'деревня Юкки',\n",
       " 'деревня Ялгино',\n",
       " 'деревня Яльгелево',\n",
       " 'деревня Ям-Тесово',\n",
       " 'коттеджный поселок Кивеннапа Север',\n",
       " 'коттеджный поселок Счастье',\n",
       " 'коттеджный посёлок Лесное',\n",
       " 'поселок Аннино',\n",
       " 'поселок Барышево',\n",
       " 'поселок Бугры',\n",
       " 'поселок Возрождение',\n",
       " 'поселок Войсковицы',\n",
       " 'поселок Володарское',\n",
       " 'поселок Гаврилово',\n",
       " 'поселок Гарболово',\n",
       " 'поселок Гладкое',\n",
       " 'поселок Глажево',\n",
       " 'поселок Глебычево',\n",
       " 'поселок Гончарово',\n",
       " 'поселок Громово',\n",
       " 'поселок Дружноселье',\n",
       " 'поселок Елизаветино',\n",
       " 'поселок Жилгородок',\n",
       " 'поселок Жилпосёлок',\n",
       " 'поселок Житково',\n",
       " 'поселок Заводской',\n",
       " 'поселок Запорожское',\n",
       " 'поселок Зимитицы',\n",
       " 'поселок Ильичёво',\n",
       " 'поселок Калитино',\n",
       " 'поселок Каложицы',\n",
       " 'поселок Кингисеппский',\n",
       " 'поселок Кирпичное',\n",
       " 'поселок Кобралово',\n",
       " 'поселок Кобринское',\n",
       " 'поселок Коммунары',\n",
       " 'поселок Коробицыно',\n",
       " 'поселок Котельский',\n",
       " 'поселок Красная Долина',\n",
       " 'поселок Красносельское',\n",
       " 'поселок Лесное',\n",
       " 'поселок Лисий Нос',\n",
       " 'поселок Лукаши',\n",
       " 'поселок Любань',\n",
       " 'поселок Мельниково',\n",
       " 'поселок Мичуринское',\n",
       " 'поселок Молодцово',\n",
       " 'поселок Мурино',\n",
       " 'поселок Новый Свет',\n",
       " 'поселок Новый Учхоз',\n",
       " 'поселок Оредеж',\n",
       " 'поселок Пансионат Зелёный Бор',\n",
       " 'поселок Первомайское',\n",
       " 'поселок Перово',\n",
       " 'поселок Петровское',\n",
       " 'поселок Победа',\n",
       " 'поселок Поляны',\n",
       " 'поселок Почап',\n",
       " 'поселок Починок',\n",
       " 'поселок Пушное',\n",
       " 'поселок Пчевжа',\n",
       " 'поселок Рабитицы',\n",
       " 'поселок Романовка',\n",
       " 'поселок Ромашки',\n",
       " 'поселок Рябово',\n",
       " 'поселок Севастьяново',\n",
       " 'поселок Селезнёво',\n",
       " 'поселок Сельцо',\n",
       " 'поселок Семиозерье',\n",
       " 'поселок Семрино',\n",
       " 'поселок Серебрянский',\n",
       " 'поселок Совхозный',\n",
       " 'поселок Старая Малукса',\n",
       " 'поселок Стеклянный',\n",
       " 'поселок Сумино',\n",
       " 'поселок Суходолье',\n",
       " 'поселок Тельмана',\n",
       " 'поселок Терволово',\n",
       " 'поселок Торковичи',\n",
       " 'поселок Тёсово-4',\n",
       " 'поселок Углово',\n",
       " 'поселок Усть-Луга',\n",
       " 'поселок Ушаки',\n",
       " 'поселок Цвелодубово',\n",
       " 'поселок Цвылёво',\n",
       " 'поселок городского типа Большая Ижора',\n",
       " 'поселок городского типа Вырица',\n",
       " 'поселок городского типа Дружная Горка',\n",
       " 'поселок городского типа Дубровка',\n",
       " 'поселок городского типа Ефимовский',\n",
       " 'поселок городского типа Кондратьево',\n",
       " 'поселок городского типа Красный Бор',\n",
       " 'поселок городского типа Кузьмоловский',\n",
       " 'поселок городского типа Лебяжье',\n",
       " 'поселок городского типа Лесогорский',\n",
       " 'поселок городского типа Назия',\n",
       " 'поселок городского типа Никольский',\n",
       " 'поселок городского типа Приладожский',\n",
       " 'поселок городского типа Рахья',\n",
       " 'поселок городского типа Рощино',\n",
       " 'поселок городского типа Рябово',\n",
       " 'поселок городского типа Синявино',\n",
       " 'поселок городского типа Советский',\n",
       " 'поселок городского типа Токсово',\n",
       " 'поселок городского типа Форносово',\n",
       " 'поселок городского типа имени Свердлова',\n",
       " 'поселок станции Вещево',\n",
       " 'поселок станции Корнево',\n",
       " 'поселок станции Лужайка',\n",
       " 'поселок станции Приветнинское',\n",
       " 'посёлок Александровская',\n",
       " 'посёлок Алексеевка',\n",
       " 'посёлок Аннино',\n",
       " 'посёлок Белоостров',\n",
       " 'посёлок Бугры',\n",
       " 'посёлок Возрождение',\n",
       " 'посёлок Войскорово',\n",
       " 'посёлок Высокоключевой',\n",
       " 'посёлок Гаврилово',\n",
       " 'посёлок Дзержинского',\n",
       " 'посёлок Жилгородок',\n",
       " 'посёлок Ильичёво',\n",
       " 'посёлок Кикерино',\n",
       " 'посёлок Кобралово',\n",
       " 'посёлок Коробицыно',\n",
       " 'посёлок Левашово',\n",
       " 'посёлок Ленинское',\n",
       " 'посёлок Лисий Нос',\n",
       " 'посёлок Мельниково',\n",
       " 'посёлок Металлострой',\n",
       " 'посёлок Мичуринское',\n",
       " 'посёлок Молодёжное',\n",
       " 'посёлок Мурино',\n",
       " 'посёлок Мыза-Ивановка',\n",
       " 'посёлок Новогорелово',\n",
       " 'посёлок Новый Свет',\n",
       " 'посёлок Пансионат Зелёный Бор',\n",
       " 'посёлок Парголово',\n",
       " 'посёлок Перово',\n",
       " 'посёлок Песочный',\n",
       " 'посёлок Петро-Славянка',\n",
       " 'посёлок Петровское',\n",
       " 'посёлок Платформа 69-й километр',\n",
       " 'посёлок Плодовое',\n",
       " 'посёлок Плоское',\n",
       " 'посёлок Победа',\n",
       " 'посёлок Поляны',\n",
       " 'посёлок Понтонный',\n",
       " 'посёлок Пригородный',\n",
       " 'посёлок Пудость',\n",
       " 'посёлок Репино',\n",
       " 'посёлок Ропша',\n",
       " 'посёлок Сапёрное',\n",
       " 'посёлок Сапёрный',\n",
       " 'посёлок Сосново',\n",
       " 'посёлок Старая Малукса',\n",
       " 'посёлок Стеклянный',\n",
       " 'посёлок Стрельна',\n",
       " 'посёлок Суйда',\n",
       " 'посёлок Сумино',\n",
       " 'посёлок Тельмана',\n",
       " 'посёлок Терволово',\n",
       " 'посёлок Торфяное',\n",
       " 'посёлок Усть-Ижора',\n",
       " 'посёлок Усть-Луга',\n",
       " 'посёлок Форт Красная Горка',\n",
       " 'посёлок Шугозеро',\n",
       " 'посёлок Шушары',\n",
       " 'посёлок Щеглово',\n",
       " 'посёлок городского типа Важины',\n",
       " 'посёлок городского типа Вознесенье',\n",
       " 'посёлок городского типа Вырица',\n",
       " 'посёлок городского типа Красный Бор',\n",
       " 'посёлок городского типа Кузнечное',\n",
       " 'посёлок городского типа Кузьмоловский',\n",
       " 'посёлок городского типа Лебяжье',\n",
       " 'посёлок городского типа Мга',\n",
       " 'посёлок городского типа Павлово',\n",
       " 'посёлок городского типа Рощино',\n",
       " 'посёлок городского типа Рябово',\n",
       " 'посёлок городского типа Сиверский',\n",
       " 'посёлок городского типа Тайцы',\n",
       " 'посёлок городского типа Токсово',\n",
       " 'посёлок городского типа Ульяновка',\n",
       " 'посёлок городского типа Форносово',\n",
       " 'посёлок городского типа имени Морозова',\n",
       " 'посёлок городского типа имени Свердлова',\n",
       " 'посёлок при железнодорожной станции Вещево',\n",
       " 'посёлок при железнодорожной станции Приветнинское',\n",
       " 'посёлок станции Громово',\n",
       " 'посёлок станции Свирь',\n",
       " 'садоводческое некоммерческое товарищество Лесная Поляна',\n",
       " 'садовое товарищество Новая Ропша',\n",
       " 'садовое товарищество Приладожский',\n",
       " 'садовое товарищество Рахья',\n",
       " 'садовое товарищество Садко',\n",
       " 'село Копорье',\n",
       " 'село Никольское',\n",
       " 'село Павлово',\n",
       " 'село Паша',\n",
       " 'село Путилово',\n",
       " 'село Рождествено',\n",
       " 'село Русско-Высоцкое',\n",
       " 'село Старая Ладога',\n",
       " 'село Шум']"
      ]
     },
     "execution_count": 10,
     "metadata": {},
     "output_type": "execute_result"
    }
   ],
   "source": [
    "#удалим неявные дубликаты в locality_name\n",
    "#выведем на экран отсортированные уникальные значения столбца\n",
    "\n",
    "sorted(data['locality_name'].unique())\n"
   ]
  },
  {
   "cell_type": "code",
   "execution_count": 4,
   "metadata": {},
   "outputs": [
    {
     "name": "stdout",
     "output_type": "stream",
     "text": [
      "   total_images  last_price  total_area first_day_exposition  rooms  \\\n",
      "0            20  13000000.0       108.0  2019-03-07T00:00:00      3   \n",
      "1             7   3350000.0        40.4  2018-12-04T00:00:00      1   \n",
      "2            10   5196000.0        56.0  2015-08-20T00:00:00      2   \n",
      "3             0  64900000.0       159.0  2015-07-24T00:00:00      3   \n",
      "4             2  10000000.0       100.0  2018-06-19T00:00:00      2   \n",
      "\n",
      "   ceiling_height  floors_total  living_area  floor is_apartment  studio  \\\n",
      "0            2.70          16.0         51.0      8          NaN   False   \n",
      "1             NaN          11.0         18.6      1          NaN   False   \n",
      "2             NaN           5.0         34.3      4          NaN   False   \n",
      "3             NaN          14.0          NaN      9          NaN   False   \n",
      "4            3.03          14.0         32.0     13          NaN   False   \n",
      "\n",
      "   open_plan  kitchen_area  balcony    locality_name  airports_nearest  \\\n",
      "0      False          25.0      NaN  Санкт-Петербург           18863.0   \n",
      "1      False          11.0      2.0   поселок Шушары           12817.0   \n",
      "2      False           8.3      0.0  Санкт-Петербург           21741.0   \n",
      "3      False           NaN      0.0  Санкт-Петербург           28098.0   \n",
      "4      False          41.0      NaN  Санкт-Петербург           31856.0   \n",
      "\n",
      "   cityCenters_nearest  parks_around3000  parks_nearest  ponds_around3000  \\\n",
      "0              16028.0               1.0          482.0               2.0   \n",
      "1              18603.0               0.0            NaN               0.0   \n",
      "2              13933.0               1.0           90.0               2.0   \n",
      "3               6800.0               2.0           84.0               3.0   \n",
      "4               8098.0               2.0          112.0               1.0   \n",
      "\n",
      "   ponds_nearest  days_exposition  \n",
      "0          755.0              NaN  \n",
      "1            NaN             81.0  \n",
      "2          574.0            558.0  \n",
      "3          234.0            424.0  \n",
      "4           48.0            121.0  \n"
     ]
    }
   ],
   "source": [
    "#для замены дубликатов достаточно привести к единому написанию тип поселений\n",
    "\n",
    "duplicates = ['поселок городского типа', 'посёлок городского типа', 'городской поселок', 'посёлок'] \n",
    "name = 'поселок'\n",
    "for el in duplicates:\n",
    "    data['locality_name'] = data['locality_name'].str.replace(el, name)\n",
    "\n",
    "print(data.head())"
   ]
  },
  {
   "cell_type": "code",
   "execution_count": 12,
   "metadata": {},
   "outputs": [
    {
     "data": {
      "text/html": [
       "<div>\n",
       "<style scoped>\n",
       "    .dataframe tbody tr th:only-of-type {\n",
       "        vertical-align: middle;\n",
       "    }\n",
       "\n",
       "    .dataframe tbody tr th {\n",
       "        vertical-align: top;\n",
       "    }\n",
       "\n",
       "    .dataframe thead th {\n",
       "        text-align: right;\n",
       "    }\n",
       "</style>\n",
       "<table border=\"1\" class=\"dataframe\">\n",
       "  <thead>\n",
       "    <tr style=\"text-align: right;\">\n",
       "      <th></th>\n",
       "      <th>total_images</th>\n",
       "      <th>last_price</th>\n",
       "      <th>total_area</th>\n",
       "      <th>rooms</th>\n",
       "      <th>ceiling_height</th>\n",
       "      <th>floors_total</th>\n",
       "      <th>living_area</th>\n",
       "      <th>floor</th>\n",
       "      <th>kitchen_area</th>\n",
       "      <th>balcony</th>\n",
       "      <th>airports_nearest</th>\n",
       "      <th>cityCenters_nearest</th>\n",
       "      <th>parks_around3000</th>\n",
       "      <th>parks_nearest</th>\n",
       "      <th>ponds_around3000</th>\n",
       "      <th>ponds_nearest</th>\n",
       "      <th>days_exposition</th>\n",
       "    </tr>\n",
       "  </thead>\n",
       "  <tbody>\n",
       "    <tr>\n",
       "      <th>count</th>\n",
       "      <td>23699.000000</td>\n",
       "      <td>2.369900e+04</td>\n",
       "      <td>23699.000000</td>\n",
       "      <td>23699.000000</td>\n",
       "      <td>23699.000000</td>\n",
       "      <td>23699.000000</td>\n",
       "      <td>23699.000000</td>\n",
       "      <td>23699.000000</td>\n",
       "      <td>23699.000000</td>\n",
       "      <td>23699.000000</td>\n",
       "      <td>18157.000000</td>\n",
       "      <td>18180.000000</td>\n",
       "      <td>18181.000000</td>\n",
       "      <td>8079.000000</td>\n",
       "      <td>18181.000000</td>\n",
       "      <td>9110.000000</td>\n",
       "      <td>20518.000000</td>\n",
       "    </tr>\n",
       "    <tr>\n",
       "      <th>mean</th>\n",
       "      <td>9.858475</td>\n",
       "      <td>6.541549e+06</td>\n",
       "      <td>60.348651</td>\n",
       "      <td>2.070636</td>\n",
       "      <td>2.771479</td>\n",
       "      <td>10.670028</td>\n",
       "      <td>34.441157</td>\n",
       "      <td>5.892358</td>\n",
       "      <td>10.558439</td>\n",
       "      <td>1.064180</td>\n",
       "      <td>28793.672193</td>\n",
       "      <td>14191.277833</td>\n",
       "      <td>0.611408</td>\n",
       "      <td>490.804555</td>\n",
       "      <td>0.770255</td>\n",
       "      <td>517.980900</td>\n",
       "      <td>180.888634</td>\n",
       "    </tr>\n",
       "    <tr>\n",
       "      <th>std</th>\n",
       "      <td>5.682529</td>\n",
       "      <td>1.088701e+07</td>\n",
       "      <td>35.654083</td>\n",
       "      <td>1.078405</td>\n",
       "      <td>1.009358</td>\n",
       "      <td>6.587831</td>\n",
       "      <td>21.802121</td>\n",
       "      <td>4.885249</td>\n",
       "      <td>5.642888</td>\n",
       "      <td>0.781176</td>\n",
       "      <td>12630.880622</td>\n",
       "      <td>8608.386210</td>\n",
       "      <td>0.802074</td>\n",
       "      <td>342.317995</td>\n",
       "      <td>0.938346</td>\n",
       "      <td>277.720643</td>\n",
       "      <td>219.727988</td>\n",
       "    </tr>\n",
       "    <tr>\n",
       "      <th>min</th>\n",
       "      <td>0.000000</td>\n",
       "      <td>1.219000e+04</td>\n",
       "      <td>12.000000</td>\n",
       "      <td>0.000000</td>\n",
       "      <td>1.000000</td>\n",
       "      <td>1.000000</td>\n",
       "      <td>2.000000</td>\n",
       "      <td>1.000000</td>\n",
       "      <td>1.300000</td>\n",
       "      <td>0.000000</td>\n",
       "      <td>0.000000</td>\n",
       "      <td>181.000000</td>\n",
       "      <td>0.000000</td>\n",
       "      <td>1.000000</td>\n",
       "      <td>0.000000</td>\n",
       "      <td>13.000000</td>\n",
       "      <td>1.000000</td>\n",
       "    </tr>\n",
       "    <tr>\n",
       "      <th>25%</th>\n",
       "      <td>6.000000</td>\n",
       "      <td>3.400000e+06</td>\n",
       "      <td>40.000000</td>\n",
       "      <td>1.000000</td>\n",
       "      <td>2.600000</td>\n",
       "      <td>5.000000</td>\n",
       "      <td>18.400000</td>\n",
       "      <td>2.000000</td>\n",
       "      <td>7.400000</td>\n",
       "      <td>1.000000</td>\n",
       "      <td>18585.000000</td>\n",
       "      <td>9238.000000</td>\n",
       "      <td>0.000000</td>\n",
       "      <td>288.000000</td>\n",
       "      <td>0.000000</td>\n",
       "      <td>294.000000</td>\n",
       "      <td>45.000000</td>\n",
       "    </tr>\n",
       "    <tr>\n",
       "      <th>50%</th>\n",
       "      <td>9.000000</td>\n",
       "      <td>4.650000e+06</td>\n",
       "      <td>52.000000</td>\n",
       "      <td>2.000000</td>\n",
       "      <td>2.724262</td>\n",
       "      <td>9.000000</td>\n",
       "      <td>30.300000</td>\n",
       "      <td>4.000000</td>\n",
       "      <td>9.550118</td>\n",
       "      <td>1.000000</td>\n",
       "      <td>26726.000000</td>\n",
       "      <td>13098.500000</td>\n",
       "      <td>0.000000</td>\n",
       "      <td>455.000000</td>\n",
       "      <td>1.000000</td>\n",
       "      <td>502.000000</td>\n",
       "      <td>95.000000</td>\n",
       "    </tr>\n",
       "    <tr>\n",
       "      <th>75%</th>\n",
       "      <td>14.000000</td>\n",
       "      <td>6.800000e+06</td>\n",
       "      <td>69.900000</td>\n",
       "      <td>3.000000</td>\n",
       "      <td>2.803709</td>\n",
       "      <td>16.000000</td>\n",
       "      <td>42.700000</td>\n",
       "      <td>8.000000</td>\n",
       "      <td>11.600000</td>\n",
       "      <td>1.000000</td>\n",
       "      <td>37273.000000</td>\n",
       "      <td>16293.000000</td>\n",
       "      <td>1.000000</td>\n",
       "      <td>612.000000</td>\n",
       "      <td>1.000000</td>\n",
       "      <td>729.000000</td>\n",
       "      <td>232.000000</td>\n",
       "    </tr>\n",
       "    <tr>\n",
       "      <th>max</th>\n",
       "      <td>50.000000</td>\n",
       "      <td>7.630000e+08</td>\n",
       "      <td>900.000000</td>\n",
       "      <td>19.000000</td>\n",
       "      <td>100.000000</td>\n",
       "      <td>60.000000</td>\n",
       "      <td>409.700000</td>\n",
       "      <td>33.000000</td>\n",
       "      <td>112.000000</td>\n",
       "      <td>5.000000</td>\n",
       "      <td>84869.000000</td>\n",
       "      <td>65968.000000</td>\n",
       "      <td>3.000000</td>\n",
       "      <td>3190.000000</td>\n",
       "      <td>3.000000</td>\n",
       "      <td>1344.000000</td>\n",
       "      <td>1580.000000</td>\n",
       "    </tr>\n",
       "  </tbody>\n",
       "</table>\n",
       "</div>"
      ],
      "text/plain": [
       "       total_images    last_price    total_area         rooms  ceiling_height  \\\n",
       "count  23699.000000  2.369900e+04  23699.000000  23699.000000    23699.000000   \n",
       "mean       9.858475  6.541549e+06     60.348651      2.070636        2.771479   \n",
       "std        5.682529  1.088701e+07     35.654083      1.078405        1.009358   \n",
       "min        0.000000  1.219000e+04     12.000000      0.000000        1.000000   \n",
       "25%        6.000000  3.400000e+06     40.000000      1.000000        2.600000   \n",
       "50%        9.000000  4.650000e+06     52.000000      2.000000        2.724262   \n",
       "75%       14.000000  6.800000e+06     69.900000      3.000000        2.803709   \n",
       "max       50.000000  7.630000e+08    900.000000     19.000000      100.000000   \n",
       "\n",
       "       floors_total   living_area         floor  kitchen_area       balcony  \\\n",
       "count  23699.000000  23699.000000  23699.000000  23699.000000  23699.000000   \n",
       "mean      10.670028     34.441157      5.892358     10.558439      1.064180   \n",
       "std        6.587831     21.802121      4.885249      5.642888      0.781176   \n",
       "min        1.000000      2.000000      1.000000      1.300000      0.000000   \n",
       "25%        5.000000     18.400000      2.000000      7.400000      1.000000   \n",
       "50%        9.000000     30.300000      4.000000      9.550118      1.000000   \n",
       "75%       16.000000     42.700000      8.000000     11.600000      1.000000   \n",
       "max       60.000000    409.700000     33.000000    112.000000      5.000000   \n",
       "\n",
       "       airports_nearest  cityCenters_nearest  parks_around3000  parks_nearest  \\\n",
       "count      18157.000000         18180.000000      18181.000000    8079.000000   \n",
       "mean       28793.672193         14191.277833          0.611408     490.804555   \n",
       "std        12630.880622          8608.386210          0.802074     342.317995   \n",
       "min            0.000000           181.000000          0.000000       1.000000   \n",
       "25%        18585.000000          9238.000000          0.000000     288.000000   \n",
       "50%        26726.000000         13098.500000          0.000000     455.000000   \n",
       "75%        37273.000000         16293.000000          1.000000     612.000000   \n",
       "max        84869.000000         65968.000000          3.000000    3190.000000   \n",
       "\n",
       "       ponds_around3000  ponds_nearest  days_exposition  \n",
       "count      18181.000000    9110.000000     20518.000000  \n",
       "mean           0.770255     517.980900       180.888634  \n",
       "std            0.938346     277.720643       219.727988  \n",
       "min            0.000000      13.000000         1.000000  \n",
       "25%            0.000000     294.000000        45.000000  \n",
       "50%            1.000000     502.000000        95.000000  \n",
       "75%            1.000000     729.000000       232.000000  \n",
       "max            3.000000    1344.000000      1580.000000  "
      ]
     },
     "execution_count": 12,
     "metadata": {},
     "output_type": "execute_result"
    }
   ],
   "source": [
    "#рассмотрим аномалии и выбросы в данных\n",
    "#выведем основные показатели по столбцам\n",
    "\n",
    "data.describe()"
   ]
  },
  {
   "cell_type": "code",
   "execution_count": 13,
   "metadata": {},
   "outputs": [
    {
     "data": {
      "text/plain": [
       "<AxesSubplot:>"
      ]
     },
     "execution_count": 13,
     "metadata": {},
     "output_type": "execute_result"
    },
    {
     "data": {
      "image/png": "[encoded data removed]",
      "text/plain": [
       "<Figure size 432x288 with 1 Axes>"
      ]
     },
     "metadata": {
      "needs_background": "light"
     },
     "output_type": "display_data"
    }
   ],
   "source": [
    "#рассмотрим диаграммы размаха для столбцов total_area, rooms, ceiling_height, living_area, kitchen_area, days_exposition\n",
    "\n",
    "data.boxplot('total_area')"
   ]
  },
  {
   "cell_type": "code",
   "execution_count": 14,
   "metadata": {},
   "outputs": [
    {
     "data": {
      "text/plain": [
       "<AxesSubplot:>"
      ]
     },
     "execution_count": 14,
     "metadata": {},
     "output_type": "execute_result"
    },
    {
     "data": {
      "image/png": "[encoded data removed]",
      "text/plain": [
       "<Figure size 432x288 with 1 Axes>"
      ]
     },
     "metadata": {
      "needs_background": "light"
     },
     "output_type": "display_data"
    }
   ],
   "source": [
    "data.boxplot('rooms') "
   ]
  },
  {
   "cell_type": "code",
   "execution_count": 15,
   "metadata": {},
   "outputs": [
    {
     "data": {
      "text/plain": [
       "<AxesSubplot:>"
      ]
     },
     "execution_count": 15,
     "metadata": {},
     "output_type": "execute_result"
    },
    {
     "data": {
      "image/png": "[encoded data removed]",
      "text/plain": [
       "<Figure size 432x288 with 1 Axes>"
      ]
     },
     "metadata": {
      "needs_background": "light"
     },
     "output_type": "display_data"
    }
   ],
   "source": [
    "data.boxplot('ceiling_height')"
   ]
  },
  {
   "cell_type": "code",
   "execution_count": 16,
   "metadata": {},
   "outputs": [
    {
     "data": {
      "text/plain": [
       "<AxesSubplot:>"
      ]
     },
     "execution_count": 16,
     "metadata": {},
     "output_type": "execute_result"
    },
    {
     "data": {
      "image/png": "[encoded data removed]",
      "text/plain": [
       "<Figure size 432x288 with 1 Axes>"
      ]
     },
     "metadata": {
      "needs_background": "light"
     },
     "output_type": "display_data"
    }
   ],
   "source": [
    "data.boxplot('living_area') "
   ]
  },
  {
   "cell_type": "code",
   "execution_count": 17,
   "metadata": {},
   "outputs": [
    {
     "data": {
      "text/plain": [
       "<AxesSubplot:>"
      ]
     },
     "execution_count": 17,
     "metadata": {},
     "output_type": "execute_result"
    },
    {
     "data": {
      "image/png": "[encoded data removed]",
      "text/plain": [
       "<Figure size 432x288 with 1 Axes>"
      ]
     },
     "metadata": {
      "needs_background": "light"
     },
     "output_type": "display_data"
    }
   ],
   "source": [
    "data.boxplot('kitchen_area') "
   ]
  },
  {
   "cell_type": "code",
   "execution_count": 18,
   "metadata": {},
   "outputs": [
    {
     "data": {
      "text/plain": [
       "<AxesSubplot:>"
      ]
     },
     "execution_count": 18,
     "metadata": {},
     "output_type": "execute_result"
    },
    {
     "data": {
      "image/png": "[encoded data removed]",
      "text/plain": [
       "<Figure size 432x288 with 1 Axes>"
      ]
     },
     "metadata": {
      "needs_background": "light"
     },
     "output_type": "display_data"
    }
   ],
   "source": [
    "data.boxplot('days_exposition') "
   ]
  },
  {
   "cell_type": "code",
   "execution_count": 19,
   "metadata": {},
   "outputs": [
    {
     "data": {
      "text/plain": [
       "<AxesSubplot:>"
      ]
     },
     "execution_count": 19,
     "metadata": {},
     "output_type": "execute_result"
    },
    {
     "data": {
      "image/png": "[encoded data removed]",
      "text/plain": [
       "<Figure size 432x288 with 1 Axes>"
      ]
     },
     "metadata": {
      "needs_background": "light"
     },
     "output_type": "display_data"
    }
   ],
   "source": [
    "data.boxplot('last_price') "
   ]
  },
  {
   "cell_type": "markdown",
   "metadata": {},
   "source": [
    "<div style=\"background-color:black; color:#ffffff; text-align:left; padding:2%\">\n",
    "💬 Видны аномалии и выбросы в столбцах.\n",
    "По данным гистограмм, диаграмм размаха и таблицы describe можно сделать выводы:\n",
    "    \n",
    "- в столбце total_area,living_area, kitchen_area можно ограничить данные максимальными значениями до 250 кв м, 175 кв м и 40 кв м. \n",
    "- в столбце rooms можно ограничить данные максимальными значениями до 10 комнат\n",
    "- в last_price тоже есть выбросы: цены выше 30 млн лучше отбросить\n",
    "- в данных столбца ceiling_height явная ошибка данных и аномальные значения стоит заменить корректными данными"
   ]
  },
  {
   "cell_type": "code",
   "execution_count": 20,
   "metadata": {},
   "outputs": [
    {
     "data": {
      "text/plain": [
       "[1.0,\n",
       " 1.2,\n",
       " 1.75,\n",
       " 2.0,\n",
       " 2.2,\n",
       " 2.25,\n",
       " 2.3,\n",
       " 2.34,\n",
       " 2.4,\n",
       " 2.433333333333333,\n",
       " 2.45,\n",
       " 2.46,\n",
       " 2.47,\n",
       " 2.475,\n",
       " 2.48,\n",
       " 2.49,\n",
       " 2.5,\n",
       " 2.5066666666666664,\n",
       " 2.507142857142857,\n",
       " 2.51,\n",
       " 2.5166666666666666,\n",
       " 2.5187500000000003,\n",
       " 2.52,\n",
       " 2.5200000000000005,\n",
       " 2.5225,\n",
       " 2.525,\n",
       " 2.5262921348314604,\n",
       " 2.5265,\n",
       " 2.53,\n",
       " 2.5315789473684207,\n",
       " 2.533333333333333,\n",
       " 2.5333333333333337,\n",
       " 2.535,\n",
       " 2.5374999999999996,\n",
       " 2.54,\n",
       " 2.5416666666666665,\n",
       " 2.542285714285714,\n",
       " 2.55,\n",
       " 2.5500000000000003,\n",
       " 2.5541666666666667,\n",
       " 2.558333333333333,\n",
       " 2.5590909090909095,\n",
       " 2.56,\n",
       " 2.5650000000000004,\n",
       " 2.5666666666666664,\n",
       " 2.566666666666667,\n",
       " 2.5675000000000003,\n",
       " 2.568214285714286,\n",
       " 2.57,\n",
       " 2.5707843137254907,\n",
       " 2.5720454545454547,\n",
       " 2.575,\n",
       " 2.5775,\n",
       " 2.5785714285714283,\n",
       " 2.5785714285714287,\n",
       " 2.58,\n",
       " 2.580769230769231,\n",
       " 2.58375,\n",
       " 2.5854545454545454,\n",
       " 2.5872727272727274,\n",
       " 2.5890243902439023,\n",
       " 2.59,\n",
       " 2.5925000000000002,\n",
       " 2.5999999999999996,\n",
       " 2.6,\n",
       " 2.604725274725275,\n",
       " 2.61,\n",
       " 2.6100000000000003,\n",
       " 2.610909090909091,\n",
       " 2.6111111111111116,\n",
       " 2.6114285714285717,\n",
       " 2.6145614035087723,\n",
       " 2.615,\n",
       " 2.6153846153846154,\n",
       " 2.6158823529411768,\n",
       " 2.6166666666666667,\n",
       " 2.6176,\n",
       " 2.619166666666667,\n",
       " 2.62,\n",
       " 2.6225,\n",
       " 2.6233333333333335,\n",
       " 2.625379310344828,\n",
       " 2.626315789473684,\n",
       " 2.628030303030303,\n",
       " 2.6285714285714286,\n",
       " 2.63,\n",
       " 2.6300000000000003,\n",
       " 2.6302919708029195,\n",
       " 2.631818181818182,\n",
       " 2.632307692307692,\n",
       " 2.6333333333333333,\n",
       " 2.6375,\n",
       " 2.638095238095238,\n",
       " 2.64,\n",
       " 2.6416666666666666,\n",
       " 2.644090909090909,\n",
       " 2.644470046082949,\n",
       " 2.646428571428572,\n",
       " 2.65,\n",
       " 2.6500000000000004,\n",
       " 2.6571428571428575,\n",
       " 2.6590243902439026,\n",
       " 2.6593069306930692,\n",
       " 2.66,\n",
       " 2.6685714285714286,\n",
       " 2.67,\n",
       " 2.675,\n",
       " 2.675625,\n",
       " 2.68,\n",
       " 2.685,\n",
       " 2.6854545454545455,\n",
       " 2.6857142857142855,\n",
       " 2.6864285714285714,\n",
       " 2.6875,\n",
       " 2.69,\n",
       " 2.6900000000000004,\n",
       " 2.693157894736842,\n",
       " 2.7,\n",
       " 2.7000000000000006,\n",
       " 2.7028767123287674,\n",
       " 2.7066666666666666,\n",
       " 2.7095876288659793,\n",
       " 2.71,\n",
       " 2.712857142857143,\n",
       " 2.713571428571428,\n",
       " 2.716086956521739,\n",
       " 2.7166666666666663,\n",
       " 2.716666666666667,\n",
       " 2.72,\n",
       " 2.7242622950819673,\n",
       " 2.725271317829457,\n",
       " 2.7275,\n",
       " 2.7287755102040814,\n",
       " 2.73,\n",
       " 2.7312499999999997,\n",
       " 2.7375,\n",
       " 2.74,\n",
       " 2.7458333333333336,\n",
       " 2.75,\n",
       " 2.76,\n",
       " 2.77,\n",
       " 2.78,\n",
       " 2.781946308724832,\n",
       " 2.79,\n",
       " 2.8,\n",
       " 2.8037094220110848,\n",
       " 2.81,\n",
       " 2.82,\n",
       " 2.83,\n",
       " 2.84,\n",
       " 2.85,\n",
       " 2.86,\n",
       " 2.87,\n",
       " 2.875,\n",
       " 2.88,\n",
       " 2.89,\n",
       " 2.9,\n",
       " 2.91,\n",
       " 2.92,\n",
       " 2.93,\n",
       " 2.9389,\n",
       " 2.94,\n",
       " 2.95,\n",
       " 2.96,\n",
       " 2.97,\n",
       " 2.98,\n",
       " 2.99,\n",
       " 2.9907142857142857,\n",
       " 3.0,\n",
       " 3.01,\n",
       " 3.02,\n",
       " 3.03,\n",
       " 3.04,\n",
       " 3.05,\n",
       " 3.06,\n",
       " 3.07,\n",
       " 3.0725,\n",
       " 3.08,\n",
       " 3.09,\n",
       " 3.1,\n",
       " 3.11,\n",
       " 3.12,\n",
       " 3.13,\n",
       " 3.14,\n",
       " 3.15,\n",
       " 3.1512068965517237,\n",
       " 3.16,\n",
       " 3.17,\n",
       " 3.18,\n",
       " 3.2,\n",
       " 3.21,\n",
       " 3.22,\n",
       " 3.23,\n",
       " 3.24,\n",
       " 3.25,\n",
       " 3.26,\n",
       " 3.269354838709677,\n",
       " 3.27,\n",
       " 3.28,\n",
       " 3.29,\n",
       " 3.3,\n",
       " 3.31,\n",
       " 3.32,\n",
       " 3.33,\n",
       " 3.34,\n",
       " 3.35,\n",
       " 3.36,\n",
       " 3.37,\n",
       " 3.38,\n",
       " 3.39,\n",
       " 3.4,\n",
       " 3.42,\n",
       " 3.43,\n",
       " 3.44,\n",
       " 3.45,\n",
       " 3.46,\n",
       " 3.47,\n",
       " 3.48,\n",
       " 3.49,\n",
       " 3.5,\n",
       " 3.51,\n",
       " 3.52,\n",
       " 3.53,\n",
       " 3.54,\n",
       " 3.55,\n",
       " 3.56,\n",
       " 3.57,\n",
       " 3.58,\n",
       " 3.59,\n",
       " 3.6,\n",
       " 3.62,\n",
       " 3.63,\n",
       " 3.65,\n",
       " 3.66,\n",
       " 3.67,\n",
       " 3.68,\n",
       " 3.69,\n",
       " 3.7,\n",
       " 3.75,\n",
       " 3.76,\n",
       " 3.78,\n",
       " 3.8,\n",
       " 3.82,\n",
       " 3.83,\n",
       " 3.84,\n",
       " 3.85,\n",
       " 3.86,\n",
       " 3.87,\n",
       " 3.88,\n",
       " 3.9,\n",
       " 3.93,\n",
       " 3.95,\n",
       " 3.98,\n",
       " 4.0,\n",
       " 4.06,\n",
       " 4.1,\n",
       " 4.14,\n",
       " 4.15,\n",
       " 4.19,\n",
       " 4.2,\n",
       " 4.25,\n",
       " 4.3,\n",
       " 4.37,\n",
       " 4.4,\n",
       " 4.45,\n",
       " 4.5,\n",
       " 4.65,\n",
       " 4.6625000000000005,\n",
       " 4.7,\n",
       " 4.8,\n",
       " 4.9,\n",
       " 5.0,\n",
       " 5.2,\n",
       " 5.3,\n",
       " 5.5,\n",
       " 5.6,\n",
       " 5.8,\n",
       " 6.0,\n",
       " 8.0,\n",
       " 8.3,\n",
       " 10.3,\n",
       " 13.85,\n",
       " 14.0,\n",
       " 20.0,\n",
       " 22.6,\n",
       " 24.0,\n",
       " 25.0,\n",
       " 26.0,\n",
       " 27.0,\n",
       " 27.5,\n",
       " 32.0,\n",
       " 100.0]"
      ]
     },
     "execution_count": 20,
     "metadata": {},
     "output_type": "execute_result"
    }
   ],
   "source": [
    "#для начала разберемся что там с потолками))\n",
    "sorted(data['ceiling_height'].unique())\n",
    "\n",
    "#допустим, что в значениях 27,5, 32 и 100 кто-то пропустил запятую.\n",
    "#Но потолки в 1, 14 и 20 метров выглядят также неубедительно, и запятая здесь не поможет. Попробуем отбросить лишние данные.\n"
   ]
  },
  {
   "cell_type": "code",
   "execution_count": 21,
   "metadata": {},
   "outputs": [
    {
     "data": {
      "text/plain": [
       "(0.0, 10.0)"
      ]
     },
     "execution_count": 21,
     "metadata": {},
     "output_type": "execute_result"
    },
    {
     "data": {
      "image/png": "[encoded data removed]",
      "text/plain": [
       "<Figure size 432x288 with 1 Axes>"
      ]
     },
     "metadata": {
      "needs_background": "light"
     },
     "output_type": "display_data"
    }
   ],
   "source": [
    "#ограничим масштаб диаграммы рзброса значением 10\n",
    "\n",
    "import matplotlib.pyplot as plt \n",
    "data.boxplot('ceiling_height')\n",
    "plt.ylim(0, 10)\n"
   ]
  },
  {
   "cell_type": "code",
   "execution_count": 22,
   "metadata": {},
   "outputs": [
    {
     "data": {
      "text/plain": [
       "1.001817720662834"
      ]
     },
     "execution_count": 22,
     "metadata": {},
     "output_type": "execute_result"
    }
   ],
   "source": [
    "#оставим реалистичные данные с учетом данных диаграммы разброса\n",
    "data_filtered_ceiling = data[(data['ceiling_height'] >= 1.75)\\\n",
    "                     & (data['ceiling_height'] < 5)]\n",
    "\n",
    "#посмотрим, много ли данных отфильтровано\n",
    "data.shape[0]/data_filtered_ceiling.shape[0] # 0,2% выглядит небольшой потерей"
   ]
  },
  {
   "cell_type": "code",
   "execution_count": 23,
   "metadata": {},
   "outputs": [
    {
     "data": {
      "text/plain": [
       "[12190.0,\n",
       " 430000.0,\n",
       " 440000.0,\n",
       " 450000.0,\n",
       " 470000.0,\n",
       " 480000.0,\n",
       " 490000.0,\n",
       " 500000.0,\n",
       " 520000.0,\n",
       " 530000.0,\n",
       " 550000.0,\n",
       " 560000.0,\n",
       " 565000.0,\n",
       " 580000.0,\n",
       " 585000.0,\n",
       " 590000.0,\n",
       " 600000.0,\n",
       " 620000.0,\n",
       " 630000.0,\n",
       " 650000.0,\n",
       " 660000.0,\n",
       " 680000.0,\n",
       " 690000.0,\n",
       " 700000.0,\n",
       " 710000.0,\n",
       " 720000.0,\n",
       " 730000.0,\n",
       " 740000.0,\n",
       " 750000.0,\n",
       " 760000.0,\n",
       " 770000.0,\n",
       " 777000.0,\n",
       " 780000.0,\n",
       " 790000.0,\n",
       " 799000.0,\n",
       " 800000.0,\n",
       " 820000.0,\n",
       " 850000.0,\n",
       " 860000.0,\n",
       " 869000.0,\n",
       " 870000.0,\n",
       " 880000.0,\n",
       " 890000.0,\n",
       " 900000.0,\n",
       " 910000.0,\n",
       " 920000.0,\n",
       " 945750.0,\n",
       " 950000.0,\n",
       " 965780.0,\n",
       " 970000.0,\n",
       " 980000.0,\n",
       " 990000.0,\n",
       " 995000.0,\n",
       " 999000.0,\n",
       " 999999.0,\n",
       " 1000000.0,\n",
       " 1010000.0,\n",
       " 1020000.0,\n",
       " 1030000.0,\n",
       " 1050000.0,\n",
       " 1060000.0,\n",
       " 1070000.0,\n",
       " 1080000.0,\n",
       " 1090000.0,\n",
       " 1099000.0,\n",
       " 1100000.0,\n",
       " 1110000.0,\n",
       " 1130000.0,\n",
       " 1150000.0,\n",
       " 1170000.0,\n",
       " 1180000.0,\n",
       " 1190000.0,\n",
       " 1199000.0,\n",
       " 1200000.0,\n",
       " 1220000.0,\n",
       " 1230000.0,\n",
       " 1240000.0,\n",
       " 1249000.0,\n",
       " 1250000.0,\n",
       " 1260000.0,\n",
       " 1270000.0,\n",
       " 1280000.0,\n",
       " 1290000.0,\n",
       " 1300000.0,\n",
       " 1310000.0,\n",
       " 1315000.0,\n",
       " 1320000.0,\n",
       " 1330000.0,\n",
       " 1350000.0,\n",
       " 1353000.0,\n",
       " 1360000.0,\n",
       " 1370000.0,\n",
       " 1380000.0,\n",
       " 1390000.0,\n",
       " 1399000.0,\n",
       " 1400000.0,\n",
       " 1420000.0,\n",
       " 1430000.0,\n",
       " 1440000.0,\n",
       " 1449900.0,\n",
       " 1450000.0,\n",
       " 1470000.0,\n",
       " 1480000.0,\n",
       " 1490000.0,\n",
       " 1495000.0,\n",
       " 1499000.0,\n",
       " 1500000.0,\n",
       " 1510000.0,\n",
       " 1540000.0,\n",
       " 1550000.0,\n",
       " 1555000.0,\n",
       " 1560000.0,\n",
       " 1570000.0,\n",
       " 1580000.0,\n",
       " 1590000.0,\n",
       " 1599000.0,\n",
       " 1600000.0,\n",
       " 1625000.0,\n",
       " 1630000.0,\n",
       " 1634000.0,\n",
       " 1640000.0,\n",
       " 1650000.0,\n",
       " 1670000.0,\n",
       " 1671240.0,\n",
       " 1678000.0,\n",
       " 1680000.0,\n",
       " 1686000.0,\n",
       " 1690000.0,\n",
       " 1690715.0,\n",
       " 1700000.0,\n",
       " 1704062.0,\n",
       " 1718857.0,\n",
       " 1720000.0,\n",
       " 1730000.0,\n",
       " 1737000.0,\n",
       " 1740000.0,\n",
       " 1748700.0,\n",
       " 1750000.0,\n",
       " 1760000.0,\n",
       " 1770000.0,\n",
       " 1780000.0,\n",
       " 1790000.0,\n",
       " 1799000.0,\n",
       " 1800000.0,\n",
       " 1810000.0,\n",
       " 1811250.0,\n",
       " 1820000.0,\n",
       " 1830000.0,\n",
       " 1840000.0,\n",
       " 1846230.0,\n",
       " 1846648.0,\n",
       " 1850000.0,\n",
       " 1860000.0,\n",
       " 1870000.0,\n",
       " 1880000.0,\n",
       " 1888000.0,\n",
       " 1890000.0,\n",
       " 1897000.0,\n",
       " 1899000.0,\n",
       " 1899400.0,\n",
       " 1900000.0,\n",
       " 1920000.0,\n",
       " 1930000.0,\n",
       " 1935000.0,\n",
       " 1938000.0,\n",
       " 1940000.0,\n",
       " 1945000.0,\n",
       " 1950000.0,\n",
       " 1960000.0,\n",
       " 1961100.0,\n",
       " 1968000.0,\n",
       " 1970000.0,\n",
       " 1980000.0,\n",
       " 1987584.0,\n",
       " 1990000.0,\n",
       " 1995000.0,\n",
       " 1999000.0,\n",
       " 1999999.0,\n",
       " 2000000.0,\n",
       " 2006000.0,\n",
       " 2030000.0,\n",
       " 2034000.0,\n",
       " 2050000.0,\n",
       " 2060000.0,\n",
       " 2070000.0,\n",
       " 2080000.0,\n",
       " 2090000.0,\n",
       " 2096864.0,\n",
       " 2098800.0,\n",
       " 2099000.0,\n",
       " 2100000.0,\n",
       " 2106799.0,\n",
       " 2112000.0,\n",
       " 2120000.0,\n",
       " 2130000.0,\n",
       " 2140000.0,\n",
       " 2148188.0,\n",
       " 2149000.0,\n",
       " 2150000.0,\n",
       " 2156000.0,\n",
       " 2160000.0,\n",
       " 2170000.0,\n",
       " 2175000.0,\n",
       " 2176000.0,\n",
       " 2179000.0,\n",
       " 2180000.0,\n",
       " 2182000.0,\n",
       " 2190000.0,\n",
       " 2194000.0,\n",
       " 2199000.0,\n",
       " 2200000.0,\n",
       " 2204000.0,\n",
       " 2205000.0,\n",
       " 2208000.0,\n",
       " 2210000.0,\n",
       " 2211000.0,\n",
       " 2220000.0,\n",
       " 2222222.0,\n",
       " 2228000.0,\n",
       " 2230000.0,\n",
       " 2235000.0,\n",
       " 2237962.0,\n",
       " 2241000.0,\n",
       " 2244375.0,\n",
       " 2250000.0,\n",
       " 2260000.0,\n",
       " 2268000.0,\n",
       " 2270000.0,\n",
       " 2280000.0,\n",
       " 2288800.0,\n",
       " 2290000.0,\n",
       " 2299000.0,\n",
       " 2300000.0,\n",
       " 2310000.0,\n",
       " 2320000.0,\n",
       " 2325000.0,\n",
       " 2330000.0,\n",
       " 2334420.0,\n",
       " 2340000.0,\n",
       " 2346000.0,\n",
       " 2348500.0,\n",
       " 2349000.0,\n",
       " 2350000.0,\n",
       " 2356000.0,\n",
       " 2360000.0,\n",
       " 2370000.0,\n",
       " 2380000.0,\n",
       " 2385000.0,\n",
       " 2390000.0,\n",
       " 2391000.0,\n",
       " 2399000.0,\n",
       " 2400000.0,\n",
       " 2401200.0,\n",
       " 2405000.0,\n",
       " 2406450.0,\n",
       " 2414306.0,\n",
       " 2414400.0,\n",
       " 2420000.0,\n",
       " 2426000.0,\n",
       " 2430000.0,\n",
       " 2438033.0,\n",
       " 2440000.0,\n",
       " 2442000.0,\n",
       " 2445000.0,\n",
       " 2449000.0,\n",
       " 2450000.0,\n",
       " 2454000.0,\n",
       " 2460000.0,\n",
       " 2470000.0,\n",
       " 2475000.0,\n",
       " 2479750.0,\n",
       " 2480000.0,\n",
       " 2490000.0,\n",
       " 2494000.0,\n",
       " 2495000.0,\n",
       " 2498540.0,\n",
       " 2499999.0,\n",
       " 2500000.0,\n",
       " 2515000.0,\n",
       " 2520000.0,\n",
       " 2527570.0,\n",
       " 2530000.0,\n",
       " 2533531.0,\n",
       " 2537830.0,\n",
       " 2539460.0,\n",
       " 2539492.0,\n",
       " 2540000.0,\n",
       " 2545454.0,\n",
       " 2549000.0,\n",
       " 2550000.0,\n",
       " 2555000.0,\n",
       " 2558000.0,\n",
       " 2560000.0,\n",
       " 2561000.0,\n",
       " 2565000.0,\n",
       " 2566270.0,\n",
       " 2568000.0,\n",
       " 2570000.0,\n",
       " 2574000.0,\n",
       " 2575000.0,\n",
       " 2580000.0,\n",
       " 2583900.0,\n",
       " 2590000.0,\n",
       " 2595000.0,\n",
       " 2596200.0,\n",
       " 2596800.0,\n",
       " 2599000.0,\n",
       " 2600000.0,\n",
       " 2609170.0,\n",
       " 2612347.0,\n",
       " 2620000.0,\n",
       " 2625000.0,\n",
       " 2630000.0,\n",
       " 2635000.0,\n",
       " 2636000.0,\n",
       " 2640000.0,\n",
       " 2645000.0,\n",
       " 2650000.0,\n",
       " 2653525.0,\n",
       " 2654000.0,\n",
       " 2655000.0,\n",
       " 2660000.0,\n",
       " 2664000.0,\n",
       " 2668000.0,\n",
       " 2670000.0,\n",
       " 2680000.0,\n",
       " 2685000.0,\n",
       " 2690000.0,\n",
       " 2695000.0,\n",
       " 2698000.0,\n",
       " 2699000.0,\n",
       " 2700000.0,\n",
       " 2710000.0,\n",
       " 2720000.0,\n",
       " 2730000.0,\n",
       " 2736214.0,\n",
       " 2740000.0,\n",
       " 2746000.0,\n",
       " 2750000.0,\n",
       " 2756000.0,\n",
       " 2760000.0,\n",
       " 2765000.0,\n",
       " 2766000.0,\n",
       " 2770000.0,\n",
       " 2780000.0,\n",
       " 2790000.0,\n",
       " 2795000.0,\n",
       " 2799000.0,\n",
       " 2799900.0,\n",
       " 2800000.0,\n",
       " 2804250.0,\n",
       " 2805000.0,\n",
       " 2810000.0,\n",
       " 2815000.0,\n",
       " 2820000.0,\n",
       " 2830000.0,\n",
       " 2840000.0,\n",
       " 2846000.0,\n",
       " 2848000.0,\n",
       " 2849000.0,\n",
       " 2849999.0,\n",
       " 2850000.0,\n",
       " 2851000.0,\n",
       " 2855000.0,\n",
       " 2860000.0,\n",
       " 2860200.0,\n",
       " 2865000.0,\n",
       " 2870000.0,\n",
       " 2871000.0,\n",
       " 2874906.0,\n",
       " 2875000.0,\n",
       " 2876100.0,\n",
       " 2880000.0,\n",
       " 2885000.0,\n",
       " 2888000.0,\n",
       " 2890000.0,\n",
       " 2895000.0,\n",
       " 2897000.0,\n",
       " 2899000.0,\n",
       " 2899900.0,\n",
       " 2900000.0,\n",
       " 2903659.0,\n",
       " 2919911.0,\n",
       " 2920000.0,\n",
       " 2925000.0,\n",
       " 2926000.0,\n",
       " 2930000.0,\n",
       " 2940000.0,\n",
       " 2945000.0,\n",
       " 2945600.0,\n",
       " 2948000.0,\n",
       " 2950000.0,\n",
       " 2952500.0,\n",
       " 2953000.0,\n",
       " 2960000.0,\n",
       " 2960431.0,\n",
       " 2967000.0,\n",
       " 2970000.0,\n",
       " 2975000.0,\n",
       " 2980000.0,\n",
       " 2982847.0,\n",
       " 2985000.0,\n",
       " 2990000.0,\n",
       " 2995000.0,\n",
       " 2997342.0,\n",
       " 2998000.0,\n",
       " 2999000.0,\n",
       " 2999999.0,\n",
       " 3000000.0,\n",
       " 3000060.0,\n",
       " 3001767.0,\n",
       " 3015000.0,\n",
       " 3019260.0,\n",
       " 3020000.0,\n",
       " 3024353.0,\n",
       " 3025000.0,\n",
       " 3030000.0,\n",
       " 3035000.0,\n",
       " 3040000.0,\n",
       " 3041000.0,\n",
       " 3045000.0,\n",
       " 3050000.0,\n",
       " 3055000.0,\n",
       " 3060000.0,\n",
       " 3062796.0,\n",
       " 3063600.0,\n",
       " 3070000.0,\n",
       " 3075000.0,\n",
       " 3080000.0,\n",
       " 3085000.0,\n",
       " 3085024.0,\n",
       " 3088000.0,\n",
       " 3089722.0,\n",
       " 3090000.0,\n",
       " 3094680.0,\n",
       " 3095000.0,\n",
       " 3099000.0,\n",
       " 3100000.0,\n",
       " 3100001.0,\n",
       " 3103000.0,\n",
       " 3109347.0,\n",
       " 3110000.0,\n",
       " 3114406.0,\n",
       " 3120000.0,\n",
       " 3122000.0,\n",
       " 3125000.0,\n",
       " 3128418.0,\n",
       " 3130000.0,\n",
       " 3134850.0,\n",
       " 3140000.0,\n",
       " 3145000.0,\n",
       " 3148000.0,\n",
       " 3149000.0,\n",
       " 3150000.0,\n",
       " 3150021.0,\n",
       " 3160000.0,\n",
       " 3170000.0,\n",
       " 3176015.0,\n",
       " 3176737.0,\n",
       " 3180000.0,\n",
       " 3180500.0,\n",
       " 3182400.0,\n",
       " 3185000.0,\n",
       " 3190000.0,\n",
       " 3195000.0,\n",
       " 3198000.0,\n",
       " 3199000.0,\n",
       " 3200000.0,\n",
       " 3204000.0,\n",
       " 3210000.0,\n",
       " 3210440.0,\n",
       " 3215000.0,\n",
       " 3216089.0,\n",
       " 3218008.0,\n",
       " 3220000.0,\n",
       " 3225000.0,\n",
       " 3227000.0,\n",
       " 3230000.0,\n",
       " 3230765.0,\n",
       " 3233007.0,\n",
       " 3237314.0,\n",
       " 3238000.0,\n",
       " 3240000.0,\n",
       " 3240352.0,\n",
       " 3241540.0,\n",
       " 3244000.0,\n",
       " 3245000.0,\n",
       " 3247000.0,\n",
       " 3249000.0,\n",
       " 3250000.0,\n",
       " 3253000.0,\n",
       " 3255000.0,\n",
       " 3258925.0,\n",
       " 3260000.0,\n",
       " 3270000.0,\n",
       " 3275000.0,\n",
       " 3277000.0,\n",
       " 3280000.0,\n",
       " 3286000.0,\n",
       " 3288000.0,\n",
       " 3288600.0,\n",
       " 3290000.0,\n",
       " 3295000.0,\n",
       " 3299000.0,\n",
       " 3300000.0,\n",
       " 3302520.0,\n",
       " 3305000.0,\n",
       " 3307095.0,\n",
       " 3310000.0,\n",
       " 3315000.0,\n",
       " 3316541.0,\n",
       " 3320000.0,\n",
       " 3324108.0,\n",
       " 3328000.0,\n",
       " 3330000.0,\n",
       " 3331500.0,\n",
       " 3335000.0,\n",
       " 3340000.0,\n",
       " 3342000.0,\n",
       " 3343000.0,\n",
       " 3345000.0,\n",
       " 3349000.0,\n",
       " 3350000.0,\n",
       " 3351765.0,\n",
       " 3355000.0,\n",
       " 3358000.0,\n",
       " 3360000.0,\n",
       " 3364930.0,\n",
       " 3369000.0,\n",
       " 3370000.0,\n",
       " 3375000.0,\n",
       " 3380000.0,\n",
       " 3381777.0,\n",
       " 3385000.0,\n",
       " 3390000.0,\n",
       " 3392333.0,\n",
       " 3394152.0,\n",
       " 3395000.0,\n",
       " 3398000.0,\n",
       " 3399000.0,\n",
       " 3400000.0,\n",
       " 3405000.0,\n",
       " 3406000.0,\n",
       " 3408000.0,\n",
       " 3413000.0,\n",
       " 3415000.0,\n",
       " 3420000.0,\n",
       " 3425000.0,\n",
       " 3429000.0,\n",
       " 3430000.0,\n",
       " 3433500.0,\n",
       " 3434000.0,\n",
       " 3435000.0,\n",
       " 3439200.0,\n",
       " 3440000.0,\n",
       " 3444000.0,\n",
       " 3445000.0,\n",
       " 3449000.0,\n",
       " 3450000.0,\n",
       " 3455000.0,\n",
       " 3456000.0,\n",
       " 3457000.0,\n",
       " 3458944.0,\n",
       " 3460000.0,\n",
       " 3465000.0,\n",
       " 3469000.0,\n",
       " 3469200.0,\n",
       " 3470000.0,\n",
       " 3470502.0,\n",
       " 3475000.0,\n",
       " 3480000.0,\n",
       " 3485000.0,\n",
       " 3490000.0,\n",
       " 3490304.0,\n",
       " 3495000.0,\n",
       " 3498000.0,\n",
       " 3499000.0,\n",
       " 3499999.0,\n",
       " 3500000.0,\n",
       " 3500100.0,\n",
       " 3503296.0,\n",
       " 3511000.0,\n",
       " 3515000.0,\n",
       " 3520000.0,\n",
       " 3521100.0,\n",
       " 3524454.0,\n",
       " 3525000.0,\n",
       " 3530000.0,\n",
       " 3535000.0,\n",
       " 3540000.0,\n",
       " 3546000.0,\n",
       " 3549000.0,\n",
       " 3550000.0,\n",
       " 3555000.0,\n",
       " 3556740.0,\n",
       " 3560000.0,\n",
       " 3564000.0,\n",
       " 3570000.0,\n",
       " 3575000.0,\n",
       " 3577388.0,\n",
       " 3579280.0,\n",
       " 3580000.0,\n",
       " 3584000.0,\n",
       " 3585000.0,\n",
       " 3589000.0,\n",
       " 3590000.0,\n",
       " 3595000.0,\n",
       " 3599000.0,\n",
       " 3599999.0,\n",
       " 3600000.0,\n",
       " 3604000.0,\n",
       " 3610000.0,\n",
       " 3611000.0,\n",
       " 3620000.0,\n",
       " 3621000.0,\n",
       " 3624000.0,\n",
       " 3629000.0,\n",
       " 3630000.0,\n",
       " 3638724.0,\n",
       " 3640000.0,\n",
       " 3643000.0,\n",
       " 3644640.0,\n",
       " 3645000.0,\n",
       " 3649000.0,\n",
       " 3650000.0,\n",
       " 3650217.0,\n",
       " 3660000.0,\n",
       " 3666000.0,\n",
       " 3670000.0,\n",
       " 3675000.0,\n",
       " 3675420.0,\n",
       " 3676365.0,\n",
       " 3680000.0,\n",
       " 3681288.0,\n",
       " 3685000.0,\n",
       " 3687397.0,\n",
       " 3687480.0,\n",
       " 3687503.0,\n",
       " 3689762.0,\n",
       " 3690000.0,\n",
       " 3692000.0,\n",
       " 3695000.0,\n",
       " 3699000.0,\n",
       " 3700000.0,\n",
       " 3701000.0,\n",
       " 3702400.0,\n",
       " 3707000.0,\n",
       " 3710000.0,\n",
       " 3715000.0,\n",
       " 3715100.0,\n",
       " 3720000.0,\n",
       " 3724812.0,\n",
       " 3725000.0,\n",
       " 3730000.0,\n",
       " 3735000.0,\n",
       " 3735325.0,\n",
       " 3737000.0,\n",
       " 3740000.0,\n",
       " 3745000.0,\n",
       " 3749000.0,\n",
       " 3750000.0,\n",
       " 3753180.0,\n",
       " 3758556.0,\n",
       " 3759000.0,\n",
       " 3760000.0,\n",
       " 3770000.0,\n",
       " 3777000.0,\n",
       " 3780000.0,\n",
       " 3785000.0,\n",
       " 3785080.0,\n",
       " 3786000.0,\n",
       " 3790000.0,\n",
       " 3794000.0,\n",
       " 3795000.0,\n",
       " 3796000.0,\n",
       " 3797250.0,\n",
       " 3799000.0,\n",
       " 3800000.0,\n",
       " 3805000.0,\n",
       " 3806504.0,\n",
       " 3810000.0,\n",
       " 3814524.0,\n",
       " 3815000.0,\n",
       " 3820000.0,\n",
       " 3825000.0,\n",
       " 3830000.0,\n",
       " 3833000.0,\n",
       " 3835000.0,\n",
       " 3837000.0,\n",
       " 3840000.0,\n",
       " 3845000.0,\n",
       " 3849000.0,\n",
       " 3850000.0,\n",
       " 3859000.0,\n",
       " 3860000.0,\n",
       " 3865000.0,\n",
       " 3870000.0,\n",
       " 3875000.0,\n",
       " 3880000.0,\n",
       " 3885000.0,\n",
       " 3886000.0,\n",
       " 3890000.0,\n",
       " 3895000.0,\n",
       " 3899000.0,\n",
       " 3899999.0,\n",
       " 3900000.0,\n",
       " 3905000.0,\n",
       " 3910000.0,\n",
       " 3920000.0,\n",
       " 3925000.0,\n",
       " 3930000.0,\n",
       " 3935000.0,\n",
       " 3936700.0,\n",
       " 3937424.0,\n",
       " 3940000.0,\n",
       " 3949000.0,\n",
       " 3950000.0,\n",
       " 3950134.0,\n",
       " 3959600.0,\n",
       " 3960000.0,\n",
       " 3960396.0,\n",
       " 3961140.0,\n",
       " 3965000.0,\n",
       " 3970000.0,\n",
       " 3973464.0,\n",
       " 3975000.0,\n",
       " 3978000.0,\n",
       " 3980000.0,\n",
       " 3986000.0,\n",
       " 3987000.0,\n",
       " 3988000.0,\n",
       " 3990000.0,\n",
       " 3990900.0,\n",
       " 3992300.0,\n",
       " 3994000.0,\n",
       " 3995000.0,\n",
       " 3997000.0,\n",
       " 3999000.0,\n",
       " 3999999.0,\n",
       " 4000000.0,\n",
       " 4006000.0,\n",
       " 4010000.0,\n",
       " 4020000.0,\n",
       " 4025000.0,\n",
       " 4027000.0,\n",
       " 4030000.0,\n",
       " 4032000.0,\n",
       " 4032740.0,\n",
       " 4040000.0,\n",
       " 4045000.0,\n",
       " 4049000.0,\n",
       " 4050000.0,\n",
       " 4060000.0,\n",
       " 4070000.0,\n",
       " 4072000.0,\n",
       " 4075000.0,\n",
       " 4078000.0,\n",
       " 4080000.0,\n",
       " 4089000.0,\n",
       " 4090000.0,\n",
       " 4094000.0,\n",
       " 4098000.0,\n",
       " 4099000.0,\n",
       " 4100000.0,\n",
       " 4101534.0,\n",
       " 4103288.0,\n",
       " 4108100.0,\n",
       " 4110000.0,\n",
       " 4111200.0,\n",
       " 4115000.0,\n",
       " 4120000.0,\n",
       " 4125000.0,\n",
       " 4128115.0,\n",
       " 4129000.0,\n",
       " 4130000.0,\n",
       " 4132020.0,\n",
       " 4134000.0,\n",
       " 4135000.0,\n",
       " 4135800.0,\n",
       " 4136843.0,\n",
       " 4139000.0,\n",
       " 4140000.0,\n",
       " 4142016.0,\n",
       " 4145000.0,\n",
       " 4147200.0,\n",
       " 4148000.0,\n",
       " 4149000.0,\n",
       " 4150000.0,\n",
       " 4157000.0,\n",
       " 4157100.0,\n",
       " 4160000.0,\n",
       " 4167000.0,\n",
       " 4169000.0,\n",
       " 4170000.0,\n",
       " 4175000.0,\n",
       " 4178000.0,\n",
       " 4180000.0,\n",
       " 4185000.0,\n",
       " 4190000.0,\n",
       " 4195000.0,\n",
       " 4198000.0,\n",
       " 4198017.0,\n",
       " 4199000.0,\n",
       " 4200000.0,\n",
       " 4201475.0,\n",
       " 4213395.0,\n",
       " 4217000.0,\n",
       " 4217233.0,\n",
       " 4220000.0,\n",
       " 4225000.0,\n",
       " 4229988.0,\n",
       " 4230000.0,\n",
       " 4238000.0,\n",
       " 4240000.0,\n",
       " 4243000.0,\n",
       " 4245000.0,\n",
       " 4246000.0,\n",
       " 4250000.0,\n",
       " 4252249.0,\n",
       " 4253000.0,\n",
       " 4260000.0,\n",
       " 4262941.0,\n",
       " 4270000.0,\n",
       " 4275000.0,\n",
       " 4275062.0,\n",
       " 4277000.0,\n",
       " 4280000.0,\n",
       " 4282546.0,\n",
       " 4283300.0,\n",
       " 4285000.0,\n",
       " 4288000.0,\n",
       " 4290000.0,\n",
       " 4295000.0,\n",
       " 4296240.0,\n",
       " 4299000.0,\n",
       " 4300000.0,\n",
       " 4307000.0,\n",
       " 4310000.0,\n",
       " 4318000.0,\n",
       " 4319000.0,\n",
       " 4320000.0,\n",
       " 4325000.0,\n",
       " 4330000.0,\n",
       " 4340000.0,\n",
       " 4342000.0,\n",
       " 4345000.0,\n",
       " 4349000.0,\n",
       " 4350000.0,\n",
       " 4360000.0,\n",
       " 4361004.0,\n",
       " 4365000.0,\n",
       " 4368750.0,\n",
       " 4369268.0,\n",
       " 4370000.0,\n",
       " 4371192.0,\n",
       " 4375000.0,\n",
       " 4380000.0,\n",
       " 4385000.0,\n",
       " 4386000.0,\n",
       " 4390000.0,\n",
       " 4395000.0,\n",
       " 4398307.0,\n",
       " 4399000.0,\n",
       " 4400000.0,\n",
       " 4403541.0,\n",
       " 4410000.0,\n",
       " 4412094.0,\n",
       " 4420000.0,\n",
       " 4421650.0,\n",
       " 4422000.0,\n",
       " 4425000.0,\n",
       " 4430000.0,\n",
       " 4433484.0,\n",
       " 4435000.0,\n",
       " 4440000.0,\n",
       " 4448520.0,\n",
       " 4449000.0,\n",
       " 4450000.0,\n",
       " 4460000.0,\n",
       " 4465000.0,\n",
       " 4470000.0,\n",
       " 4472000.0,\n",
       " 4475000.0,\n",
       " 4478000.0,\n",
       " 4479300.0,\n",
       " 4480000.0,\n",
       " 4482900.0,\n",
       " 4488000.0,\n",
       " 4490000.0,\n",
       " 4495000.0,\n",
       " 4498000.0,\n",
       " 4499000.0,\n",
       " 4499999.0,\n",
       " 4500000.0,\n",
       " 4510000.0,\n",
       " 4512000.0,\n",
       " 4520000.0,\n",
       " 4522000.0,\n",
       " 4525000.0,\n",
       " 4530000.0,\n",
       " 4538000.0,\n",
       " 4540000.0,\n",
       " 4544000.0,\n",
       " 4550000.0,\n",
       " 4555000.0,\n",
       " 4558637.0,\n",
       " 4560000.0,\n",
       " 4570000.0,\n",
       " 4574160.0,\n",
       " 4575000.0,\n",
       " 4580000.0,\n",
       " 4581000.0,\n",
       " 4585000.0,\n",
       " 4589000.0,\n",
       " 4590000.0,\n",
       " 4593600.0,\n",
       " 4594000.0,\n",
       " 4595000.0,\n",
       " 4599000.0,\n",
       " 4600000.0,\n",
       " 4600006.0,\n",
       " 4610000.0,\n",
       " 4620000.0,\n",
       " 4625000.0,\n",
       " 4626540.0,\n",
       " 4630000.0,\n",
       " 4632000.0,\n",
       " 4635000.0,\n",
       " 4636000.0,\n",
       " 4640000.0,\n",
       " 4644000.0,\n",
       " 4646000.0,\n",
       " 4647000.0,\n",
       " 4650000.0,\n",
       " 4650259.0,\n",
       " 4658000.0,\n",
       " 4658410.0,\n",
       " 4660000.0,\n",
       " 4660400.0,\n",
       " 4665000.0,\n",
       " 4670000.0,\n",
       " 4675000.0,\n",
       " 4680000.0,\n",
       " 4685000.0,\n",
       " 4690000.0,\n",
       " 4692000.0,\n",
       " 4695000.0,\n",
       " 4699000.0,\n",
       " 4700000.0,\n",
       " 4700284.0,\n",
       " 4709190.0,\n",
       " 4710000.0,\n",
       " 4712500.0,\n",
       " 4720000.0,\n",
       " 4725000.0,\n",
       " 4730000.0,\n",
       " 4740000.0,\n",
       " 4745000.0,\n",
       " 4746000.0,\n",
       " 4749000.0,\n",
       " 4750000.0,\n",
       " 4754940.0,\n",
       " 4755000.0,\n",
       " 4755962.0,\n",
       " 4760935.0,\n",
       " 4768714.0,\n",
       " 4769000.0,\n",
       " 4770000.0,\n",
       " 4770338.0,\n",
       " 4775000.0,\n",
       " 4776000.0,\n",
       " 4777000.0,\n",
       " 4779000.0,\n",
       " 4779014.0,\n",
       " 4780000.0,\n",
       " 4785000.0,\n",
       " 4789500.0,\n",
       " 4790000.0,\n",
       " 4792000.0,\n",
       " 4794000.0,\n",
       " 4796000.0,\n",
       " 4798000.0,\n",
       " 4799000.0,\n",
       " 4799500.0,\n",
       " 4800000.0,\n",
       " 4800227.0,\n",
       " 4802250.0,\n",
       " 4820000.0,\n",
       " 4823000.0,\n",
       " 4825000.0,\n",
       " 4830000.0,\n",
       " 4833675.0,\n",
       " 4835000.0,\n",
       " 4838050.0,\n",
       " 4840000.0,\n",
       " 4845000.0,\n",
       " 4846000.0,\n",
       " 4847000.0,\n",
       " 4850000.0,\n",
       " 4852000.0,\n",
       " ...]"
      ]
     },
     "execution_count": 23,
     "metadata": {},
     "output_type": "execute_result"
    }
   ],
   "source": [
    "#Разберемся с ценой. Выбросы можно отфильтровать, т к заменить их будет неверно:\n",
    "#получим изначально дорогие квартиры по заниженной цене и наоборот\n",
    "\n",
    "sorted(data['last_price'].unique()) #жилплощадь за 12190.0 вероятно хотели сдать в аренду, но разместили не в том разделе.\n",
    "#отбросим это значение при фильтрации\n"
   ]
  },
  {
   "cell_type": "code",
   "execution_count": 24,
   "metadata": {},
   "outputs": [
    {
     "data": {
      "text/plain": [
       "(400000.0, 50000000.0)"
      ]
     },
     "execution_count": 24,
     "metadata": {},
     "output_type": "execute_result"
    },
    {
     "data": {
      "image/png": "[encoded data removed]",
      "text/plain": [
       "<Figure size 432x288 with 1 Axes>"
      ]
     },
     "metadata": {
      "needs_background": "light"
     },
     "output_type": "display_data"
    }
   ],
   "source": [
    "#ограничим диаграмму размаха значениями от 400 000 до 50 000 000\n",
    " \n",
    "data.boxplot('last_price')\n",
    "plt.ylim(400000, 50000000)"
   ]
  },
  {
   "cell_type": "code",
   "execution_count": 25,
   "metadata": {},
   "outputs": [
    {
     "data": {
      "text/plain": [
       "1.0156424102168509"
      ]
     },
     "execution_count": 25,
     "metadata": {},
     "output_type": "execute_result"
    }
   ],
   "source": [
    "#отфильтруем данные с учетом данных диаграммы размаха\n",
    "data_filtered_price = data_filtered_ceiling[(data_filtered_ceiling['last_price'] >= 400000)\\\n",
    "                     & (data_filtered_ceiling['last_price'] < 30000000)]\n",
    "\n",
    "#посмотрим, много ли данных отфильтровали\n",
    "data.shape[0]/data_filtered_price.shape[0] # 1,56%"
   ]
  },
  {
   "cell_type": "code",
   "execution_count": 26,
   "metadata": {},
   "outputs": [
    {
     "data": {
      "text/plain": [
       "1.0211124994614158"
      ]
     },
     "execution_count": 26,
     "metadata": {},
     "output_type": "execute_result"
    }
   ],
   "source": [
    "#далее отфильтруем выбросы по количеству комнат и площадям\n",
    "data_final = data_filtered_price[(data_filtered_price['rooms'] <= 10)\\\n",
    "                                          & (data_filtered_price['total_area'] < 250)\\\n",
    "                                          & (data_filtered_price['living_area'] < 175)\\\n",
    "                                          & (data_filtered_price['kitchen_area'] < 40)]\\\n",
    "\n",
    "data_final = data_final.reset_index() #убираем привязку нового датафрейма к предыдущему                                         \n",
    "\n",
    "#посмотрим, много ли данных отфильтровали\n",
    "data.shape[0]/data_final.shape[0] # 2,97%"
   ]
  },
  {
   "cell_type": "markdown",
   "metadata": {},
   "source": [
    "<div style=\"background-color:black; color:#ffffff; text-align:left; padding:2%\">\n",
    "💬 Осталось разобраться с days_exposition. Распределение на гистограмме и диаграмме показывает, что есть выбросы с периодом по несколько лет. Их можно отбросить. Пропуски оставляем, т к они могут говорить о том, что объявление еще актуально.\n"
   ]
  },
  {
   "cell_type": "code",
   "execution_count": 27,
   "metadata": {},
   "outputs": [
    {
     "data": {
      "text/plain": [
       "1.0327711683444458"
      ]
     },
     "execution_count": 27,
     "metadata": {},
     "output_type": "execute_result"
    }
   ],
   "source": [
    "#для ненулевых значений days_exposition ограничим данные 1000 днями\n",
    "\n",
    "data_final = data_final.query('days_exposition < 1000 | days_exposition.isnull()', engine='python')\n",
    "data.shape[0]/data_final.shape[0] #потеря данных после фильтрации составила 3%, что в пределах допустимого."
   ]
  },
  {
   "cell_type": "markdown",
   "metadata": {},
   "source": [
    "Посчитайте и добавьте в таблицу новые столбцы"
   ]
  },
  {
   "cell_type": "code",
   "execution_count": 28,
   "metadata": {},
   "outputs": [
    {
     "data": {
      "text/html": [
       "<div>\n",
       "<style scoped>\n",
       "    .dataframe tbody tr th:only-of-type {\n",
       "        vertical-align: middle;\n",
       "    }\n",
       "\n",
       "    .dataframe tbody tr th {\n",
       "        vertical-align: top;\n",
       "    }\n",
       "\n",
       "    .dataframe thead th {\n",
       "        text-align: right;\n",
       "    }\n",
       "</style>\n",
       "<table border=\"1\" class=\"dataframe\">\n",
       "  <thead>\n",
       "    <tr style=\"text-align: right;\">\n",
       "      <th></th>\n",
       "      <th>index</th>\n",
       "      <th>total_images</th>\n",
       "      <th>last_price</th>\n",
       "      <th>total_area</th>\n",
       "      <th>first_day_exposition</th>\n",
       "      <th>rooms</th>\n",
       "      <th>ceiling_height</th>\n",
       "      <th>floors_total</th>\n",
       "      <th>living_area</th>\n",
       "      <th>floor</th>\n",
       "      <th>...</th>\n",
       "      <th>parks_nearest</th>\n",
       "      <th>ponds_around3000</th>\n",
       "      <th>ponds_nearest</th>\n",
       "      <th>days_exposition</th>\n",
       "      <th>price_m</th>\n",
       "      <th>weekday</th>\n",
       "      <th>month</th>\n",
       "      <th>year</th>\n",
       "      <th>floor_type</th>\n",
       "      <th>downtown_km</th>\n",
       "    </tr>\n",
       "  </thead>\n",
       "  <tbody>\n",
       "    <tr>\n",
       "      <th>0</th>\n",
       "      <td>0</td>\n",
       "      <td>20</td>\n",
       "      <td>13000000.0</td>\n",
       "      <td>108.0</td>\n",
       "      <td>2019-03-07</td>\n",
       "      <td>3</td>\n",
       "      <td>2.700000</td>\n",
       "      <td>16</td>\n",
       "      <td>51.0</td>\n",
       "      <td>8</td>\n",
       "      <td>...</td>\n",
       "      <td>482.0</td>\n",
       "      <td>2.0</td>\n",
       "      <td>755.0</td>\n",
       "      <td>NaN</td>\n",
       "      <td>120370.370370</td>\n",
       "      <td>3</td>\n",
       "      <td>3</td>\n",
       "      <td>2019</td>\n",
       "      <td>другой</td>\n",
       "      <td>16.0</td>\n",
       "    </tr>\n",
       "    <tr>\n",
       "      <th>1</th>\n",
       "      <td>1</td>\n",
       "      <td>7</td>\n",
       "      <td>3350000.0</td>\n",
       "      <td>40.4</td>\n",
       "      <td>2018-12-04</td>\n",
       "      <td>1</td>\n",
       "      <td>2.644470</td>\n",
       "      <td>11</td>\n",
       "      <td>18.6</td>\n",
       "      <td>1</td>\n",
       "      <td>...</td>\n",
       "      <td>NaN</td>\n",
       "      <td>0.0</td>\n",
       "      <td>NaN</td>\n",
       "      <td>81.0</td>\n",
       "      <td>82920.792079</td>\n",
       "      <td>1</td>\n",
       "      <td>12</td>\n",
       "      <td>2018</td>\n",
       "      <td>первый</td>\n",
       "      <td>19.0</td>\n",
       "    </tr>\n",
       "    <tr>\n",
       "      <th>2</th>\n",
       "      <td>2</td>\n",
       "      <td>10</td>\n",
       "      <td>5196000.0</td>\n",
       "      <td>56.0</td>\n",
       "      <td>2015-08-20</td>\n",
       "      <td>2</td>\n",
       "      <td>2.803709</td>\n",
       "      <td>5</td>\n",
       "      <td>34.3</td>\n",
       "      <td>4</td>\n",
       "      <td>...</td>\n",
       "      <td>90.0</td>\n",
       "      <td>2.0</td>\n",
       "      <td>574.0</td>\n",
       "      <td>558.0</td>\n",
       "      <td>92785.714286</td>\n",
       "      <td>3</td>\n",
       "      <td>8</td>\n",
       "      <td>2015</td>\n",
       "      <td>другой</td>\n",
       "      <td>14.0</td>\n",
       "    </tr>\n",
       "    <tr>\n",
       "      <th>3</th>\n",
       "      <td>5</td>\n",
       "      <td>10</td>\n",
       "      <td>2890000.0</td>\n",
       "      <td>30.4</td>\n",
       "      <td>2018-09-10</td>\n",
       "      <td>1</td>\n",
       "      <td>2.617600</td>\n",
       "      <td>12</td>\n",
       "      <td>14.4</td>\n",
       "      <td>5</td>\n",
       "      <td>...</td>\n",
       "      <td>NaN</td>\n",
       "      <td>NaN</td>\n",
       "      <td>NaN</td>\n",
       "      <td>55.0</td>\n",
       "      <td>NaN</td>\n",
       "      <td>0</td>\n",
       "      <td>9</td>\n",
       "      <td>2018</td>\n",
       "      <td>другой</td>\n",
       "      <td>NaN</td>\n",
       "    </tr>\n",
       "    <tr>\n",
       "      <th>4</th>\n",
       "      <td>6</td>\n",
       "      <td>6</td>\n",
       "      <td>3700000.0</td>\n",
       "      <td>37.3</td>\n",
       "      <td>2017-11-02</td>\n",
       "      <td>1</td>\n",
       "      <td>2.630292</td>\n",
       "      <td>26</td>\n",
       "      <td>10.6</td>\n",
       "      <td>6</td>\n",
       "      <td>...</td>\n",
       "      <td>NaN</td>\n",
       "      <td>0.0</td>\n",
       "      <td>NaN</td>\n",
       "      <td>155.0</td>\n",
       "      <td>37000.000000</td>\n",
       "      <td>3</td>\n",
       "      <td>11</td>\n",
       "      <td>2017</td>\n",
       "      <td>другой</td>\n",
       "      <td>19.0</td>\n",
       "    </tr>\n",
       "  </tbody>\n",
       "</table>\n",
       "<p>5 rows × 29 columns</p>\n",
       "</div>"
      ],
      "text/plain": [
       "   index  total_images  last_price  total_area first_day_exposition  rooms  \\\n",
       "0      0            20  13000000.0       108.0           2019-03-07      3   \n",
       "1      1             7   3350000.0        40.4           2018-12-04      1   \n",
       "2      2            10   5196000.0        56.0           2015-08-20      2   \n",
       "3      5            10   2890000.0        30.4           2018-09-10      1   \n",
       "4      6             6   3700000.0        37.3           2017-11-02      1   \n",
       "\n",
       "   ceiling_height  floors_total  living_area  floor  ...  parks_nearest  \\\n",
       "0        2.700000            16         51.0      8  ...          482.0   \n",
       "1        2.644470            11         18.6      1  ...            NaN   \n",
       "2        2.803709             5         34.3      4  ...           90.0   \n",
       "3        2.617600            12         14.4      5  ...            NaN   \n",
       "4        2.630292            26         10.6      6  ...            NaN   \n",
       "\n",
       "   ponds_around3000  ponds_nearest  days_exposition        price_m weekday  \\\n",
       "0               2.0          755.0              NaN  120370.370370       3   \n",
       "1               0.0            NaN             81.0   82920.792079       1   \n",
       "2               2.0          574.0            558.0   92785.714286       3   \n",
       "3               NaN            NaN             55.0            NaN       0   \n",
       "4               0.0            NaN            155.0   37000.000000       3   \n",
       "\n",
       "   month  year  floor_type  downtown_km  \n",
       "0      3  2019      другой         16.0  \n",
       "1     12  2018      первый         19.0  \n",
       "2      8  2015      другой         14.0  \n",
       "3      9  2018      другой          NaN  \n",
       "4     11  2017      другой         19.0  \n",
       "\n",
       "[5 rows x 29 columns]"
      ]
     },
     "execution_count": 28,
     "metadata": {},
     "output_type": "execute_result"
    }
   ],
   "source": [
    "#добавим данные о цене за кв метр, а также о дне недели, месяце и годе публикации:\n",
    "\n",
    "data_final['price_m'] = data_final['last_price']/data_filtered_price['total_area']\n",
    "data_final['weekday'] = data_final['first_day_exposition'].dt.weekday\n",
    "data_final['month'] = data_final['first_day_exposition'].dt.month\n",
    "data_final['year'] = data_final['first_day_exposition'].dt.year\n",
    "\n",
    "#для определения типа этажа воспользуемся собственной функцией:\n",
    "def floor_type(row):\n",
    "    if row[\"floor\"] ==  row[\"floors_total\"]:\n",
    "        return \"«последний»\"\n",
    "    elif row[\"floor\"] == 1:\n",
    "        return \"первый\"\n",
    "    else:\n",
    "        return \"другой\"\n",
    "\n",
    "data_final['floor_type'] = data_final[['floor', 'floors_total']].apply(floor_type, axis=1)\n",
    "\n",
    "#добавим данные о расстоянии до центра города в км и округлим до целого\n",
    "data_final['downtown_km'] = data_final['cityCenters_nearest'] / 1000\n",
    "data_final['downtown_km'] = data_final['downtown_km'].round(0)\n",
    "\n",
    "data_final.head()\n",
    "\n"
   ]
  },
  {
   "cell_type": "markdown",
   "metadata": {},
   "source": [
    "<div style=\"background-color:black; color:#ffffff; text-align:left; padding:2%\">\n",
    "💬 В данных, которые добавляют пользователи, чаще содержатся ошибки. \n",
    "<br>В данных достаточно много выбросов: объектов с большой площадью и высокой стоимостью. \n",
    "<br>Т к цель исследования - изучить особенности и закономерности рынка в целом, \n",
    "можем брать в расчет значения, приближенные к типичным, а пропуски заменить средними или медианными значениями"
   ]
  },
  {
   "cell_type": "markdown",
   "metadata": {},
   "source": [
    "### Проведите исследовательский анализ данных"
   ]
  },
  {
   "cell_type": "code",
   "execution_count": 29,
   "metadata": {},
   "outputs": [
    {
     "data": {
      "image/png": "[encoded data removed]",
      "text/plain": [
       "<Figure size 360x360 with 1 Axes>"
      ]
     },
     "metadata": {
      "needs_background": "light"
     },
     "output_type": "display_data"
    },
    {
     "data": {
      "image/png": "[encoded data removed]",
      "text/plain": [
       "<Figure size 360x360 with 1 Axes>"
      ]
     },
     "metadata": {
      "needs_background": "light"
     },
     "output_type": "display_data"
    },
    {
     "data": {
      "image/png": "[encoded data removed]",
      "text/plain": [
       "<Figure size 360x360 with 1 Axes>"
      ]
     },
     "metadata": {
      "needs_background": "light"
     },
     "output_type": "display_data"
    },
    {
     "data": {
      "image/png": "[encoded data removed]",
      "text/plain": [
       "<Figure size 360x360 with 1 Axes>"
      ]
     },
     "metadata": {
      "needs_background": "light"
     },
     "output_type": "display_data"
    },
    {
     "data": {
      "image/png": "[encoded data removed]",
      "text/plain": [
       "<Figure size 360x360 with 1 Axes>"
      ]
     },
     "metadata": {
      "needs_background": "light"
     },
     "output_type": "display_data"
    },
    {
     "data": {
      "image/png": "[encoded data removed]",
      "text/plain": [
       "<Figure size 360x360 with 1 Axes>"
      ]
     },
     "metadata": {
      "needs_background": "light"
     },
     "output_type": "display_data"
    },
    {
     "data": {
      "image/png": "[encoded data removed]",
      "text/plain": [
       "<Figure size 360x360 with 1 Axes>"
      ]
     },
     "metadata": {
      "needs_background": "light"
     },
     "output_type": "display_data"
    },
    {
     "data": {
      "image/png": "[encoded data removed]",
      "text/plain": [
       "<Figure size 360x360 with 1 Axes>"
      ]
     },
     "metadata": {
      "needs_background": "light"
     },
     "output_type": "display_data"
    },
    {
     "data": {
      "image/png": "[encoded data removed]",
      "text/plain": [
       "<Figure size 360x360 with 1 Axes>"
      ]
     },
     "metadata": {
      "needs_background": "light"
     },
     "output_type": "display_data"
    },
    {
     "data": {
      "image/png": "[encoded data removed]",
      "text/plain": [
       "<Figure size 360x360 with 1 Axes>"
      ]
     },
     "metadata": {
      "needs_background": "light"
     },
     "output_type": "display_data"
    },
    {
     "data": {
      "image/png": "[encoded data removed]",
      "text/plain": [
       "<Figure size 360x360 with 1 Axes>"
      ]
     },
     "metadata": {
      "needs_background": "light"
     },
     "output_type": "display_data"
    },
    {
     "data": {
      "image/png": "[encoded data removed]",
      "text/plain": [
       "<Figure size 360x360 with 1 Axes>"
      ]
     },
     "metadata": {
      "needs_background": "light"
     },
     "output_type": "display_data"
    },
    {
     "data": {
      "image/png": "[encoded data removed]",
      "text/plain": [
       "<Figure size 360x360 with 1 Axes>"
      ]
     },
     "metadata": {
      "needs_background": "light"
     },
     "output_type": "display_data"
    },
    {
     "data": {
      "image/png": "[encoded data removed]",
      "text/plain": [
       "<Figure size 360x360 with 1 Axes>"
      ]
     },
     "metadata": {
      "needs_background": "light"
     },
     "output_type": "display_data"
    },
    {
     "data": {
      "image/png": "[encoded data removed]",
      "text/plain": [
       "<Figure size 360x360 with 1 Axes>"
      ]
     },
     "metadata": {
      "needs_background": "light"
     },
     "output_type": "display_data"
    },
    {
     "data": {
      "image/png": "[encoded data removed]",
      "text/plain": [
       "<Figure size 360x360 with 1 Axes>"
      ]
     },
     "metadata": {
      "needs_background": "light"
     },
     "output_type": "display_data"
    },
    {
     "data": {
      "image/png": "[encoded data removed]",
      "text/plain": [
       "<Figure size 360x360 with 1 Axes>"
      ]
     },
     "metadata": {
      "needs_background": "light"
     },
     "output_type": "display_data"
    },
    {
     "data": {
      "image/png": "[encoded data removed]",
      "text/plain": [
       "<Figure size 360x360 with 1 Axes>"
      ]
     },
     "metadata": {
      "needs_background": "light"
     },
     "output_type": "display_data"
    },
    {
     "data": {
      "image/png": "[encoded data removed]",
      "text/plain": [
       "<Figure size 360x360 with 1 Axes>"
      ]
     },
     "metadata": {
      "needs_background": "light"
     },
     "output_type": "display_data"
    },
    {
     "data": {
      "image/png": "[encoded data removed]",
      "text/plain": [
       "<Figure size 360x360 with 1 Axes>"
      ]
     },
     "metadata": {
      "needs_background": "light"
     },
     "output_type": "display_data"
    },
    {
     "data": {
      "image/png": "[encoded data removed]",
      "text/plain": [
       "<Figure size 360x360 with 1 Axes>"
      ]
     },
     "metadata": {
      "needs_background": "light"
     },
     "output_type": "display_data"
    },
    {
     "data": {
      "image/png": "[encoded data removed]",
      "text/plain": [
       "<Figure size 360x360 with 1 Axes>"
      ]
     },
     "metadata": {
      "needs_background": "light"
     },
     "output_type": "display_data"
    },
    {
     "data": {
      "image/png": "[encoded data removed]",
      "text/plain": [
       "<Figure size 360x360 with 1 Axes>"
      ]
     },
     "metadata": {
      "needs_background": "light"
     },
     "output_type": "display_data"
    }
   ],
   "source": [
    "data_final_numeric = data_final.select_dtypes(include=np.number)\n",
    "for col in data_final_numeric:\n",
    "    data_final_numeric [col].plot(title=col, kind ='hist',figsize=(5, 5))\n",
    "    plt.show()"
   ]
  },
  {
   "cell_type": "code",
   "execution_count": 30,
   "metadata": {},
   "outputs": [
    {
     "data": {
      "text/plain": [
       "[Text(0.5, 0, 'Тип этажа объекта'),\n",
       " Text(0, 0.5, 'Количество объектов с таким этажом')]"
      ]
     },
     "execution_count": 30,
     "metadata": {},
     "output_type": "execute_result"
    },
    {
     "data": {
      "image/png": "[encoded data removed]",
      "text/plain": [
       "<Figure size 432x288 with 1 Axes>"
      ]
     },
     "metadata": {
      "needs_background": "light"
     },
     "output_type": "display_data"
    }
   ],
   "source": [
    "ax = data_final['floor_type'].value_counts().plot.bar(title='floor_type', rot=45)\n",
    "ax.set(xlabel='Тип этажа объекта', ylabel='Количество объектов с таким этажом')"
   ]
  },
  {
   "cell_type": "markdown",
   "metadata": {},
   "source": [
    "<div style=\"background-color:black; color:#ffffff; text-align:left; padding:2%\">\n",
    "💬 по графикам можно сделать следующие предварительные выводы:\n",
    "    <br>- объекты в своей основной массе стоят в пределах 10 млн руб;\n",
    "    <br>- наибольшая часть предложений по общей площади не превышают 100 кв м\n",
    "    <br>- больше всего предложений в категории однокомнатные квартиры, чуть меньше в категории двухкомнатные. Количество предложений в прямой корреляции с количеством комнат. Меньше всего предложений от 6 комнат и выше\n",
    "    <br>- абсолютное большинство объектов имеют стандартную высоту потолков до 3 м\n",
    "    <br>- этажность зданий объектов в прямой зависимости от их количества. Абсолютное большинство предложений в домах до 10 этажей, однако значимые доли занимают дома до 15, 20 и 30 этажей. Логично, что и количество предложений на кокретном этаже имеет такю же корреляцию\n",
    "    <br>- На последних или первых этажах находится примерно по 15% всех объектов, подавляющее же большинство располагаются на других этажах\n",
    "    <br>- жилая площадь объектов в общей массе колеблется в пределах 50 кв м. Однако немало предложений и с площадью до 100 кв м\n",
    "    <br>- площадь кухни в подавляющем большинстве предложений до 15 кв м. Наибольшая доля объектов с очень компактными кухнями: до 10 кв м. Однако есть из чего выбрать и в категориях с кухнями до 30 кв м\n",
    "    <br>- абсолютное большинство публикаций имеют срок до 300 дней\n",
    "    <br>- пользователи предпочитают публиковать предложения по будним дням. Активность в первый и последний месяцы года заметно возрастает\n",
    "    <br>- видна положительная динамика в количестве объектов в сервисе Яндекс.Недвижимость. Небольшой объем в 2019 г возможно объясняется тем, что архив захватил только часть года\n",
    "    <br>- наибольшая часть объектов имеет удаленность от центра города от 10 до 20 км\n",
    "    "
   ]
  },
  {
   "cell_type": "code",
   "execution_count": 31,
   "metadata": {},
   "outputs": [
    {
     "data": {
      "text/plain": [
       "(165.97370537958773, 92.0)"
      ]
     },
     "execution_count": 31,
     "metadata": {},
     "output_type": "execute_result"
    }
   ],
   "source": [
    "#Изучим подробнее first_day_exposition\n",
    "\n",
    "day_mean = data_final['days_exposition'].mean()\n",
    "day_med = data_final['days_exposition'].median()\n",
    "day_mean, day_med"
   ]
  },
  {
   "cell_type": "code",
   "execution_count": 32,
   "metadata": {},
   "outputs": [
    {
     "data": {
      "text/plain": [
       "<AxesSubplot:title={'center':'days_exposition'}, ylabel='Frequency'>"
      ]
     },
     "execution_count": 32,
     "metadata": {},
     "output_type": "execute_result"
    },
    {
     "data": {
      "image/png": "[encoded data removed]",
      "text/plain": [
       "<Figure size 360x360 with 1 Axes>"
      ]
     },
     "metadata": {
      "needs_background": "light"
     },
     "output_type": "display_data"
    }
   ],
   "source": [
    "data_final['days_exposition'].plot(title='days_exposition', kind ='hist',figsize=(5, 5))\n"
   ]
  },
  {
   "cell_type": "markdown",
   "metadata": {},
   "source": [
    "<div style=\"background-color:black; color:#ffffff; text-align:left; padding:2%\">\n",
    "💬 Количество публикаций обратно пропорционально длительности размещения. \n",
    "<br>Половина объектов продается за период до 92 дней. А среднее составляет 166 дней. Значительные доли имеют периоды до 600 дней. И есть единичные случаи, когда объекты продаются по несколько лет"
   ]
  },
  {
   "cell_type": "code",
   "execution_count": 33,
   "metadata": {},
   "outputs": [
    {
     "data": {
      "image/png": "[encoded data removed]",
      "text/plain": [
       "<Figure size 432x288 with 1 Axes>"
      ]
     },
     "metadata": {
      "needs_background": "light"
     },
     "output_type": "display_data"
    },
    {
     "data": {
      "image/png": "[encoded data removed]",
      "text/plain": [
       "<Figure size 432x288 with 1 Axes>"
      ]
     },
     "metadata": {
      "needs_background": "light"
     },
     "output_type": "display_data"
    },
    {
     "data": {
      "image/png": "[encoded data removed]",
      "text/plain": [
       "<Figure size 432x288 with 1 Axes>"
      ]
     },
     "metadata": {
      "needs_background": "light"
     },
     "output_type": "display_data"
    },
    {
     "data": {
      "image/png": "[encoded data removed]",
      "text/plain": [
       "<Figure size 432x288 with 1 Axes>"
      ]
     },
     "metadata": {
      "needs_background": "light"
     },
     "output_type": "display_data"
    },
    {
     "data": {
      "image/png": "[encoded data removed]",
      "text/plain": [
       "<Figure size 432x288 with 1 Axes>"
      ]
     },
     "metadata": {
      "needs_background": "light"
     },
     "output_type": "display_data"
    },
    {
     "data": {
      "image/png": "[encoded data removed]",
      "text/plain": [
       "<Figure size 432x288 with 1 Axes>"
      ]
     },
     "metadata": {
      "needs_background": "light"
     },
     "output_type": "display_data"
    },
    {
     "data": {
      "image/png": "[encoded data removed]",
      "text/plain": [
       "<Figure size 432x288 with 1 Axes>"
      ]
     },
     "metadata": {
      "needs_background": "light"
     },
     "output_type": "display_data"
    },
    {
     "data": {
      "image/png": "[encoded data removed]",
      "text/plain": [
       "<Figure size 432x288 with 1 Axes>"
      ]
     },
     "metadata": {
      "needs_background": "light"
     },
     "output_type": "display_data"
    }
   ],
   "source": [
    "#для выбранных столбцов построимм диаграммы рассеяния\n",
    "\n",
    "series_scatter  = ['total_area', 'living_area', 'kitchen_area', 'rooms', 'floor', 'weekday','month','year'] \n",
    "for col in series_scatter:\n",
    "    data_final.pivot_table(index=col,values='last_price').reset_index().plot(x=col, y='last_price', kind='scatter')\n",
    "    plt.show()\n"
   ]
  },
  {
   "cell_type": "markdown",
   "metadata": {},
   "source": [
    "<div style=\"background-color:black; color:#ffffff; text-align:left; padding:2%\">\n",
    "💬 Какие факторы наиболее сильно влияют на стоимость недвижимости?    \n",
    "    <br>- очевидна прямая взаимосвязь между общей и жилой площадью, площадью кухни объекта и его стоимостью. Однако стоит сказать, что с увеличением стоимости объекта эта корреляция становится слабее\n",
    "    <br>- также стоимость напрямую обусловлена количеством комнат: больше комнат - дороже объект\n",
    "    <br>- этаж имеет влияние на цену объекта, хотя и не слишком сильное. Выше этаж, выше стоимость. \n",
    "    <br>- расмотрим дату публикации: объявления, размещенные в выходные, имеют более низкую цену. Месяц размещения, судя по диаграмме, не сильно влияет на стоимость. Есть влияние года размещения: в течение периода стоимость постепенно снижалась, небольшой рост в 2019 г."
   ]
  },
  {
   "cell_type": "code",
   "execution_count": 34,
   "metadata": {},
   "outputs": [
    {
     "data": {
      "text/html": [
       "<div>\n",
       "<style scoped>\n",
       "    .dataframe tbody tr th:only-of-type {\n",
       "        vertical-align: middle;\n",
       "    }\n",
       "\n",
       "    .dataframe tbody tr th {\n",
       "        vertical-align: top;\n",
       "    }\n",
       "\n",
       "    .dataframe thead th {\n",
       "        text-align: right;\n",
       "    }\n",
       "</style>\n",
       "<table border=\"1\" class=\"dataframe\">\n",
       "  <thead>\n",
       "    <tr style=\"text-align: right;\">\n",
       "      <th></th>\n",
       "      <th>last_price</th>\n",
       "      <th>price_m</th>\n",
       "    </tr>\n",
       "    <tr>\n",
       "      <th>locality_name</th>\n",
       "      <th></th>\n",
       "      <th></th>\n",
       "    </tr>\n",
       "  </thead>\n",
       "  <tbody>\n",
       "    <tr>\n",
       "      <th>Санкт-Петербург</th>\n",
       "      <td>15073</td>\n",
       "      <td>135995.161845</td>\n",
       "    </tr>\n",
       "    <tr>\n",
       "      <th>Пушкин</th>\n",
       "      <td>354</td>\n",
       "      <td>120725.404546</td>\n",
       "    </tr>\n",
       "    <tr>\n",
       "      <th>поселок Парголово</th>\n",
       "      <td>326</td>\n",
       "      <td>92259.053628</td>\n",
       "    </tr>\n",
       "    <tr>\n",
       "      <th>деревня Кудрово</th>\n",
       "      <td>294</td>\n",
       "      <td>85651.609970</td>\n",
       "    </tr>\n",
       "    <tr>\n",
       "      <th>поселок Шушары</th>\n",
       "      <td>435</td>\n",
       "      <td>82699.692486</td>\n",
       "    </tr>\n",
       "    <tr>\n",
       "      <th>Всеволожск</th>\n",
       "      <td>394</td>\n",
       "      <td>77646.606984</td>\n",
       "    </tr>\n",
       "    <tr>\n",
       "      <th>Колпино</th>\n",
       "      <td>335</td>\n",
       "      <td>77181.934919</td>\n",
       "    </tr>\n",
       "    <tr>\n",
       "      <th>поселок Мурино</th>\n",
       "      <td>548</td>\n",
       "      <td>73484.523885</td>\n",
       "    </tr>\n",
       "    <tr>\n",
       "      <th>Гатчина</th>\n",
       "      <td>306</td>\n",
       "      <td>70411.091557</td>\n",
       "    </tr>\n",
       "    <tr>\n",
       "      <th>Выборг</th>\n",
       "      <td>236</td>\n",
       "      <td>65373.888198</td>\n",
       "    </tr>\n",
       "  </tbody>\n",
       "</table>\n",
       "</div>"
      ],
      "text/plain": [
       "                   last_price        price_m\n",
       "locality_name                               \n",
       "Санкт-Петербург         15073  135995.161845\n",
       "Пушкин                    354  120725.404546\n",
       "поселок Парголово         326   92259.053628\n",
       "деревня Кудрово           294   85651.609970\n",
       "поселок Шушары            435   82699.692486\n",
       "Всеволожск                394   77646.606984\n",
       "Колпино                   335   77181.934919\n",
       "поселок Мурино            548   73484.523885\n",
       "Гатчина                   306   70411.091557\n",
       "Выборг                    236   65373.888198"
      ]
     },
     "execution_count": 34,
     "metadata": {},
     "output_type": "execute_result"
    }
   ],
   "source": [
    "#выясним, в каких населенных пунктах наибольшая цена кв м\n",
    "#отфильтруем 10 городов с наибольшим количеством объектов в продаже\n",
    "\n",
    "data_10 = data_final.pivot_table(index='locality_name',values='last_price',aggfunc='count')\\\n",
    ".sort_values(by='last_price',ascending=False).head(10)\n",
    "\n",
    "#выведем из основных данных среднюю стоимость кв м по этим городам через объединение полученных таблиц\n",
    "data_10.merge(data_final.pivot_table(index='locality_name',values='price_m'),on = 'locality_name')\\\n",
    ".sort_values(by='price_m',ascending=False)\n"
   ]
  },
  {
   "cell_type": "markdown",
   "metadata": {},
   "source": [
    "<div style=\"background-color:black; color:#ffffff; text-align:left; padding:2%\">\n",
    "💬 Ожидаемо, возглавляет список Санкт-Петербург, далее исторический пригород Пушкин и поселки Парголово и Кудрово. Из 10 самых популярных на сервисе Яндекс поселений, наименьшая стоимость кв м в Мурино, Гатчине и Выборге."
   ]
  },
  {
   "cell_type": "code",
   "execution_count": 35,
   "metadata": {},
   "outputs": [],
   "source": [
    "#отфильтруем данные по Санкт-Петербургу и посчитаем среднюю стоимость км от центра\n",
    "\n",
    "data_spb = data_final[data_final['locality_name'] =='Санкт-Петербург']\n",
    "data_spb_pivot = data_spb.pivot_table(index='downtown_km',values='last_price')"
   ]
  },
  {
   "cell_type": "code",
   "execution_count": 36,
   "metadata": {},
   "outputs": [
    {
     "data": {
      "text/plain": [
       "<AxesSubplot:title={'center':'data_spb'}, xlabel='downtown_km'>"
      ]
     },
     "execution_count": 36,
     "metadata": {},
     "output_type": "execute_result"
    },
    {
     "data": {
      "image/png": "[encoded data removed]",
      "text/plain": [
       "<Figure size 720x360 with 1 Axes>"
      ]
     },
     "metadata": {
      "needs_background": "light"
     },
     "output_type": "display_data"
    }
   ],
   "source": [
    "#для наглядности отобразим данные на гистограмме\n",
    "\n",
    "data_spb_pivot.plot(title='data_spb', kind ='bar',figsize=(10,5))"
   ]
  },
  {
   "cell_type": "code",
   "execution_count": 37,
   "metadata": {},
   "outputs": [
    {
     "data": {
      "text/html": [
       "<div>\n",
       "<style scoped>\n",
       "    .dataframe tbody tr th:only-of-type {\n",
       "        vertical-align: middle;\n",
       "    }\n",
       "\n",
       "    .dataframe tbody tr th {\n",
       "        vertical-align: top;\n",
       "    }\n",
       "\n",
       "    .dataframe thead th {\n",
       "        text-align: right;\n",
       "    }\n",
       "</style>\n",
       "<table border=\"1\" class=\"dataframe\">\n",
       "  <thead>\n",
       "    <tr style=\"text-align: right;\">\n",
       "      <th></th>\n",
       "      <th>airports_nearest</th>\n",
       "      <th>balcony</th>\n",
       "      <th>ceiling_height</th>\n",
       "      <th>cityCenters_nearest</th>\n",
       "      <th>days_exposition</th>\n",
       "      <th>floor</th>\n",
       "      <th>floors_total</th>\n",
       "      <th>index</th>\n",
       "      <th>is_apartment</th>\n",
       "      <th>kitchen_area</th>\n",
       "      <th>...</th>\n",
       "      <th>parks_nearest</th>\n",
       "      <th>ponds_around3000</th>\n",
       "      <th>ponds_nearest</th>\n",
       "      <th>price_m</th>\n",
       "      <th>rooms</th>\n",
       "      <th>studio</th>\n",
       "      <th>total_area</th>\n",
       "      <th>total_images</th>\n",
       "      <th>weekday</th>\n",
       "      <th>year</th>\n",
       "    </tr>\n",
       "    <tr>\n",
       "      <th>downtown_km</th>\n",
       "      <th></th>\n",
       "      <th></th>\n",
       "      <th></th>\n",
       "      <th></th>\n",
       "      <th></th>\n",
       "      <th></th>\n",
       "      <th></th>\n",
       "      <th></th>\n",
       "      <th></th>\n",
       "      <th></th>\n",
       "      <th></th>\n",
       "      <th></th>\n",
       "      <th></th>\n",
       "      <th></th>\n",
       "      <th></th>\n",
       "      <th></th>\n",
       "      <th></th>\n",
       "      <th></th>\n",
       "      <th></th>\n",
       "      <th></th>\n",
       "      <th></th>\n",
       "    </tr>\n",
       "  </thead>\n",
       "  <tbody>\n",
       "    <tr>\n",
       "      <th>0.0</th>\n",
       "      <td>21822.866667</td>\n",
       "      <td>0.466667</td>\n",
       "      <td>3.375409</td>\n",
       "      <td>368.133333</td>\n",
       "      <td>196.846154</td>\n",
       "      <td>3.000000</td>\n",
       "      <td>4.933333</td>\n",
       "      <td>8525.533333</td>\n",
       "      <td>0.000000</td>\n",
       "      <td>12.547239</td>\n",
       "      <td>...</td>\n",
       "      <td>331.066667</td>\n",
       "      <td>2.533333</td>\n",
       "      <td>370.066667</td>\n",
       "      <td>265405.518599</td>\n",
       "      <td>2.933333</td>\n",
       "      <td>0.000000</td>\n",
       "      <td>98.853333</td>\n",
       "      <td>9.733333</td>\n",
       "      <td>1.866667</td>\n",
       "      <td>2016.800000</td>\n",
       "    </tr>\n",
       "    <tr>\n",
       "      <th>1.0</th>\n",
       "      <td>21518.670807</td>\n",
       "      <td>0.677019</td>\n",
       "      <td>3.058373</td>\n",
       "      <td>1113.180124</td>\n",
       "      <td>261.035971</td>\n",
       "      <td>2.931677</td>\n",
       "      <td>4.583851</td>\n",
       "      <td>12208.229814</td>\n",
       "      <td>0.000000</td>\n",
       "      <td>12.565388</td>\n",
       "      <td>...</td>\n",
       "      <td>463.328125</td>\n",
       "      <td>2.490683</td>\n",
       "      <td>171.024845</td>\n",
       "      <td>236698.608565</td>\n",
       "      <td>3.031056</td>\n",
       "      <td>0.000000</td>\n",
       "      <td>86.324720</td>\n",
       "      <td>9.633540</td>\n",
       "      <td>2.534161</td>\n",
       "      <td>2017.012422</td>\n",
       "    </tr>\n",
       "    <tr>\n",
       "      <th>2.0</th>\n",
       "      <td>22048.320755</td>\n",
       "      <td>0.652830</td>\n",
       "      <td>3.094564</td>\n",
       "      <td>2095.520755</td>\n",
       "      <td>217.601810</td>\n",
       "      <td>2.981132</td>\n",
       "      <td>4.822642</td>\n",
       "      <td>11235.350943</td>\n",
       "      <td>0.003774</td>\n",
       "      <td>13.823048</td>\n",
       "      <td>...</td>\n",
       "      <td>390.026906</td>\n",
       "      <td>2.109434</td>\n",
       "      <td>325.399177</td>\n",
       "      <td>221920.993219</td>\n",
       "      <td>2.973585</td>\n",
       "      <td>0.003774</td>\n",
       "      <td>90.043736</td>\n",
       "      <td>10.403774</td>\n",
       "      <td>2.750943</td>\n",
       "      <td>2017.188679</td>\n",
       "    </tr>\n",
       "    <tr>\n",
       "      <th>3.0</th>\n",
       "      <td>22886.134969</td>\n",
       "      <td>0.717791</td>\n",
       "      <td>3.041095</td>\n",
       "      <td>3119.463190</td>\n",
       "      <td>207.185328</td>\n",
       "      <td>3.180982</td>\n",
       "      <td>5.184049</td>\n",
       "      <td>11587.322086</td>\n",
       "      <td>0.003067</td>\n",
       "      <td>13.011763</td>\n",
       "      <td>...</td>\n",
       "      <td>427.995614</td>\n",
       "      <td>1.414110</td>\n",
       "      <td>502.875000</td>\n",
       "      <td>195644.373914</td>\n",
       "      <td>2.911043</td>\n",
       "      <td>0.003067</td>\n",
       "      <td>84.736810</td>\n",
       "      <td>10.515337</td>\n",
       "      <td>2.573620</td>\n",
       "      <td>2017.340491</td>\n",
       "    </tr>\n",
       "    <tr>\n",
       "      <th>4.0</th>\n",
       "      <td>23841.679305</td>\n",
       "      <td>0.842022</td>\n",
       "      <td>3.002052</td>\n",
       "      <td>4054.314376</td>\n",
       "      <td>234.892250</td>\n",
       "      <td>3.887836</td>\n",
       "      <td>6.668246</td>\n",
       "      <td>11684.627172</td>\n",
       "      <td>0.003160</td>\n",
       "      <td>12.729826</td>\n",
       "      <td>...</td>\n",
       "      <td>483.906516</td>\n",
       "      <td>1.097946</td>\n",
       "      <td>498.120482</td>\n",
       "      <td>200138.154805</td>\n",
       "      <td>2.826224</td>\n",
       "      <td>0.001580</td>\n",
       "      <td>84.208278</td>\n",
       "      <td>9.872038</td>\n",
       "      <td>2.352291</td>\n",
       "      <td>2017.236967</td>\n",
       "    </tr>\n",
       "    <tr>\n",
       "      <th>5.0</th>\n",
       "      <td>25560.776284</td>\n",
       "      <td>0.892552</td>\n",
       "      <td>2.978585</td>\n",
       "      <td>4971.716728</td>\n",
       "      <td>227.729769</td>\n",
       "      <td>4.523810</td>\n",
       "      <td>7.654457</td>\n",
       "      <td>11991.632479</td>\n",
       "      <td>0.001221</td>\n",
       "      <td>13.307010</td>\n",
       "      <td>...</td>\n",
       "      <td>544.708940</td>\n",
       "      <td>0.880342</td>\n",
       "      <td>587.607143</td>\n",
       "      <td>210797.688703</td>\n",
       "      <td>2.682540</td>\n",
       "      <td>0.004884</td>\n",
       "      <td>83.391770</td>\n",
       "      <td>9.717949</td>\n",
       "      <td>2.404151</td>\n",
       "      <td>2017.169719</td>\n",
       "    </tr>\n",
       "    <tr>\n",
       "      <th>6.0</th>\n",
       "      <td>26144.052731</td>\n",
       "      <td>0.939962</td>\n",
       "      <td>2.887580</td>\n",
       "      <td>5977.515947</td>\n",
       "      <td>188.849224</td>\n",
       "      <td>4.437148</td>\n",
       "      <td>7.859287</td>\n",
       "      <td>12524.054409</td>\n",
       "      <td>0.001876</td>\n",
       "      <td>12.236184</td>\n",
       "      <td>...</td>\n",
       "      <td>482.820106</td>\n",
       "      <td>1.200750</td>\n",
       "      <td>492.699739</td>\n",
       "      <td>193804.738835</td>\n",
       "      <td>2.371482</td>\n",
       "      <td>0.007505</td>\n",
       "      <td>74.219756</td>\n",
       "      <td>9.823640</td>\n",
       "      <td>2.604128</td>\n",
       "      <td>2017.360225</td>\n",
       "    </tr>\n",
       "    <tr>\n",
       "      <th>7.0</th>\n",
       "      <td>25690.852368</td>\n",
       "      <td>0.997214</td>\n",
       "      <td>2.832927</td>\n",
       "      <td>7016.250696</td>\n",
       "      <td>180.003300</td>\n",
       "      <td>5.272981</td>\n",
       "      <td>9.559889</td>\n",
       "      <td>11927.367688</td>\n",
       "      <td>0.000000</td>\n",
       "      <td>11.606858</td>\n",
       "      <td>...</td>\n",
       "      <td>419.966387</td>\n",
       "      <td>1.169916</td>\n",
       "      <td>487.902344</td>\n",
       "      <td>184914.077592</td>\n",
       "      <td>2.236769</td>\n",
       "      <td>0.005571</td>\n",
       "      <td>67.411727</td>\n",
       "      <td>10.598886</td>\n",
       "      <td>2.593315</td>\n",
       "      <td>2017.306407</td>\n",
       "    </tr>\n",
       "    <tr>\n",
       "      <th>8.0</th>\n",
       "      <td>28173.955357</td>\n",
       "      <td>1.003571</td>\n",
       "      <td>2.828937</td>\n",
       "      <td>8133.460714</td>\n",
       "      <td>174.635802</td>\n",
       "      <td>5.973214</td>\n",
       "      <td>10.955357</td>\n",
       "      <td>11869.117857</td>\n",
       "      <td>0.000000</td>\n",
       "      <td>11.449150</td>\n",
       "      <td>...</td>\n",
       "      <td>506.108761</td>\n",
       "      <td>1.142857</td>\n",
       "      <td>498.315217</td>\n",
       "      <td>173994.547793</td>\n",
       "      <td>2.235714</td>\n",
       "      <td>0.007143</td>\n",
       "      <td>68.856125</td>\n",
       "      <td>9.337500</td>\n",
       "      <td>2.671429</td>\n",
       "      <td>2017.326786</td>\n",
       "    </tr>\n",
       "    <tr>\n",
       "      <th>9.0</th>\n",
       "      <td>31120.229706</td>\n",
       "      <td>1.065630</td>\n",
       "      <td>2.782294</td>\n",
       "      <td>9045.255613</td>\n",
       "      <td>165.994071</td>\n",
       "      <td>5.682211</td>\n",
       "      <td>10.407599</td>\n",
       "      <td>11541.925734</td>\n",
       "      <td>0.001727</td>\n",
       "      <td>10.163502</td>\n",
       "      <td>...</td>\n",
       "      <td>609.394558</td>\n",
       "      <td>0.658031</td>\n",
       "      <td>503.843750</td>\n",
       "      <td>139274.911889</td>\n",
       "      <td>2.048359</td>\n",
       "      <td>0.003454</td>\n",
       "      <td>58.284542</td>\n",
       "      <td>9.430052</td>\n",
       "      <td>2.466321</td>\n",
       "      <td>2017.464594</td>\n",
       "    </tr>\n",
       "    <tr>\n",
       "      <th>10.0</th>\n",
       "      <td>29301.053085</td>\n",
       "      <td>1.065434</td>\n",
       "      <td>2.721493</td>\n",
       "      <td>10011.655761</td>\n",
       "      <td>155.938611</td>\n",
       "      <td>6.149360</td>\n",
       "      <td>11.301565</td>\n",
       "      <td>11566.807966</td>\n",
       "      <td>0.001422</td>\n",
       "      <td>9.621017</td>\n",
       "      <td>...</td>\n",
       "      <td>539.366359</td>\n",
       "      <td>0.662873</td>\n",
       "      <td>499.317857</td>\n",
       "      <td>128145.458002</td>\n",
       "      <td>1.974395</td>\n",
       "      <td>0.004267</td>\n",
       "      <td>55.445391</td>\n",
       "      <td>9.886202</td>\n",
       "      <td>2.523471</td>\n",
       "      <td>2017.431010</td>\n",
       "    </tr>\n",
       "    <tr>\n",
       "      <th>11.0</th>\n",
       "      <td>28510.832168</td>\n",
       "      <td>1.029668</td>\n",
       "      <td>2.709845</td>\n",
       "      <td>11024.143979</td>\n",
       "      <td>161.455268</td>\n",
       "      <td>6.160558</td>\n",
       "      <td>11.350785</td>\n",
       "      <td>11971.208551</td>\n",
       "      <td>0.001745</td>\n",
       "      <td>9.618677</td>\n",
       "      <td>...</td>\n",
       "      <td>528.920635</td>\n",
       "      <td>0.525305</td>\n",
       "      <td>611.495781</td>\n",
       "      <td>124152.404982</td>\n",
       "      <td>1.994764</td>\n",
       "      <td>0.000000</td>\n",
       "      <td>54.835236</td>\n",
       "      <td>9.879581</td>\n",
       "      <td>2.679756</td>\n",
       "      <td>2017.342932</td>\n",
       "    </tr>\n",
       "    <tr>\n",
       "      <th>12.0</th>\n",
       "      <td>27988.239924</td>\n",
       "      <td>1.165513</td>\n",
       "      <td>2.697593</td>\n",
       "      <td>12002.025802</td>\n",
       "      <td>148.510029</td>\n",
       "      <td>6.789805</td>\n",
       "      <td>12.898049</td>\n",
       "      <td>11932.647577</td>\n",
       "      <td>0.001259</td>\n",
       "      <td>9.705804</td>\n",
       "      <td>...</td>\n",
       "      <td>456.033962</td>\n",
       "      <td>0.468219</td>\n",
       "      <td>578.543750</td>\n",
       "      <td>116028.257965</td>\n",
       "      <td>1.948395</td>\n",
       "      <td>0.004405</td>\n",
       "      <td>53.659572</td>\n",
       "      <td>10.658905</td>\n",
       "      <td>2.590308</td>\n",
       "      <td>2017.451857</td>\n",
       "    </tr>\n",
       "    <tr>\n",
       "      <th>13.0</th>\n",
       "      <td>24139.448084</td>\n",
       "      <td>1.150381</td>\n",
       "      <td>2.702186</td>\n",
       "      <td>13005.342342</td>\n",
       "      <td>150.913380</td>\n",
       "      <td>7.387387</td>\n",
       "      <td>13.484407</td>\n",
       "      <td>11715.730423</td>\n",
       "      <td>0.000693</td>\n",
       "      <td>10.015869</td>\n",
       "      <td>...</td>\n",
       "      <td>551.500000</td>\n",
       "      <td>0.378378</td>\n",
       "      <td>650.411135</td>\n",
       "      <td>120327.660989</td>\n",
       "      <td>1.995842</td>\n",
       "      <td>0.009009</td>\n",
       "      <td>55.761268</td>\n",
       "      <td>10.766459</td>\n",
       "      <td>2.562717</td>\n",
       "      <td>2017.410949</td>\n",
       "    </tr>\n",
       "    <tr>\n",
       "      <th>14.0</th>\n",
       "      <td>27039.042197</td>\n",
       "      <td>1.141720</td>\n",
       "      <td>2.694837</td>\n",
       "      <td>14006.286624</td>\n",
       "      <td>150.432971</td>\n",
       "      <td>7.214968</td>\n",
       "      <td>13.105892</td>\n",
       "      <td>11956.355892</td>\n",
       "      <td>0.000000</td>\n",
       "      <td>9.856848</td>\n",
       "      <td>...</td>\n",
       "      <td>492.800857</td>\n",
       "      <td>0.502389</td>\n",
       "      <td>559.201183</td>\n",
       "      <td>111247.009701</td>\n",
       "      <td>1.912420</td>\n",
       "      <td>0.010350</td>\n",
       "      <td>53.619013</td>\n",
       "      <td>10.513535</td>\n",
       "      <td>2.531051</td>\n",
       "      <td>2017.468153</td>\n",
       "    </tr>\n",
       "    <tr>\n",
       "      <th>15.0</th>\n",
       "      <td>31052.505837</td>\n",
       "      <td>1.135538</td>\n",
       "      <td>2.703890</td>\n",
       "      <td>14965.420882</td>\n",
       "      <td>143.919557</td>\n",
       "      <td>7.119974</td>\n",
       "      <td>13.291180</td>\n",
       "      <td>11810.068742</td>\n",
       "      <td>0.000649</td>\n",
       "      <td>10.049906</td>\n",
       "      <td>...</td>\n",
       "      <td>476.511545</td>\n",
       "      <td>0.570039</td>\n",
       "      <td>599.922961</td>\n",
       "      <td>114564.003665</td>\n",
       "      <td>1.933852</td>\n",
       "      <td>0.003891</td>\n",
       "      <td>54.850798</td>\n",
       "      <td>10.255512</td>\n",
       "      <td>2.552529</td>\n",
       "      <td>2017.430610</td>\n",
       "    </tr>\n",
       "    <tr>\n",
       "      <th>16.0</th>\n",
       "      <td>32204.276579</td>\n",
       "      <td>1.133493</td>\n",
       "      <td>2.691366</td>\n",
       "      <td>15967.379696</td>\n",
       "      <td>143.042688</td>\n",
       "      <td>6.882494</td>\n",
       "      <td>13.264588</td>\n",
       "      <td>11752.314149</td>\n",
       "      <td>0.000799</td>\n",
       "      <td>9.693559</td>\n",
       "      <td>...</td>\n",
       "      <td>516.149733</td>\n",
       "      <td>0.700240</td>\n",
       "      <td>543.344464</td>\n",
       "      <td>105841.108381</td>\n",
       "      <td>1.928857</td>\n",
       "      <td>0.007194</td>\n",
       "      <td>53.287554</td>\n",
       "      <td>10.448441</td>\n",
       "      <td>2.687450</td>\n",
       "      <td>2017.465228</td>\n",
       "    </tr>\n",
       "    <tr>\n",
       "      <th>17.0</th>\n",
       "      <td>31072.748837</td>\n",
       "      <td>1.038372</td>\n",
       "      <td>2.700376</td>\n",
       "      <td>16947.911628</td>\n",
       "      <td>157.411995</td>\n",
       "      <td>6.931395</td>\n",
       "      <td>12.846512</td>\n",
       "      <td>11798.251163</td>\n",
       "      <td>0.000000</td>\n",
       "      <td>9.649692</td>\n",
       "      <td>...</td>\n",
       "      <td>599.843049</td>\n",
       "      <td>0.705814</td>\n",
       "      <td>424.666667</td>\n",
       "      <td>104841.661933</td>\n",
       "      <td>1.927907</td>\n",
       "      <td>0.011628</td>\n",
       "      <td>53.790919</td>\n",
       "      <td>9.374419</td>\n",
       "      <td>2.605814</td>\n",
       "      <td>2017.376744</td>\n",
       "    </tr>\n",
       "    <tr>\n",
       "      <th>18.0</th>\n",
       "      <td>28128.046875</td>\n",
       "      <td>1.050781</td>\n",
       "      <td>2.698527</td>\n",
       "      <td>17859.136719</td>\n",
       "      <td>168.919283</td>\n",
       "      <td>6.617188</td>\n",
       "      <td>12.097656</td>\n",
       "      <td>11813.562500</td>\n",
       "      <td>0.000000</td>\n",
       "      <td>9.398639</td>\n",
       "      <td>...</td>\n",
       "      <td>581.000000</td>\n",
       "      <td>0.785156</td>\n",
       "      <td>360.598684</td>\n",
       "      <td>99819.433924</td>\n",
       "      <td>1.835938</td>\n",
       "      <td>0.003906</td>\n",
       "      <td>51.722813</td>\n",
       "      <td>9.906250</td>\n",
       "      <td>2.335938</td>\n",
       "      <td>2017.328125</td>\n",
       "    </tr>\n",
       "    <tr>\n",
       "      <th>19.0</th>\n",
       "      <td>38890.363636</td>\n",
       "      <td>1.181818</td>\n",
       "      <td>2.702200</td>\n",
       "      <td>18953.337662</td>\n",
       "      <td>158.748201</td>\n",
       "      <td>6.727273</td>\n",
       "      <td>12.012987</td>\n",
       "      <td>11023.253247</td>\n",
       "      <td>0.000000</td>\n",
       "      <td>10.140285</td>\n",
       "      <td>...</td>\n",
       "      <td>397.704545</td>\n",
       "      <td>0.532468</td>\n",
       "      <td>519.626866</td>\n",
       "      <td>100141.190849</td>\n",
       "      <td>1.792208</td>\n",
       "      <td>0.006494</td>\n",
       "      <td>51.014416</td>\n",
       "      <td>10.064935</td>\n",
       "      <td>2.525974</td>\n",
       "      <td>2017.448052</td>\n",
       "    </tr>\n",
       "    <tr>\n",
       "      <th>20.0</th>\n",
       "      <td>28430.812500</td>\n",
       "      <td>1.208333</td>\n",
       "      <td>2.686986</td>\n",
       "      <td>20249.375000</td>\n",
       "      <td>162.102564</td>\n",
       "      <td>13.625000</td>\n",
       "      <td>25.250000</td>\n",
       "      <td>11482.979167</td>\n",
       "      <td>0.000000</td>\n",
       "      <td>12.191466</td>\n",
       "      <td>...</td>\n",
       "      <td>480.000000</td>\n",
       "      <td>1.812500</td>\n",
       "      <td>84.206897</td>\n",
       "      <td>106540.246897</td>\n",
       "      <td>1.895833</td>\n",
       "      <td>0.020833</td>\n",
       "      <td>58.134375</td>\n",
       "      <td>11.270833</td>\n",
       "      <td>2.875000</td>\n",
       "      <td>2017.479167</td>\n",
       "    </tr>\n",
       "    <tr>\n",
       "      <th>21.0</th>\n",
       "      <td>33840.373913</td>\n",
       "      <td>1.318966</td>\n",
       "      <td>2.773316</td>\n",
       "      <td>21097.862069</td>\n",
       "      <td>176.741935</td>\n",
       "      <td>6.672414</td>\n",
       "      <td>11.474138</td>\n",
       "      <td>12341.844828</td>\n",
       "      <td>0.086207</td>\n",
       "      <td>11.428761</td>\n",
       "      <td>...</td>\n",
       "      <td>658.428571</td>\n",
       "      <td>0.991379</td>\n",
       "      <td>599.366667</td>\n",
       "      <td>106828.124376</td>\n",
       "      <td>2.000000</td>\n",
       "      <td>0.008621</td>\n",
       "      <td>58.576034</td>\n",
       "      <td>8.637931</td>\n",
       "      <td>2.275862</td>\n",
       "      <td>2017.508621</td>\n",
       "    </tr>\n",
       "    <tr>\n",
       "      <th>22.0</th>\n",
       "      <td>27479.861386</td>\n",
       "      <td>1.222772</td>\n",
       "      <td>2.727889</td>\n",
       "      <td>21956.653465</td>\n",
       "      <td>157.034884</td>\n",
       "      <td>8.584158</td>\n",
       "      <td>14.643564</td>\n",
       "      <td>12015.297030</td>\n",
       "      <td>0.014851</td>\n",
       "      <td>11.040493</td>\n",
       "      <td>...</td>\n",
       "      <td>730.600000</td>\n",
       "      <td>0.920792</td>\n",
       "      <td>689.569620</td>\n",
       "      <td>106882.308644</td>\n",
       "      <td>1.900990</td>\n",
       "      <td>0.000000</td>\n",
       "      <td>60.308861</td>\n",
       "      <td>9.539604</td>\n",
       "      <td>2.534653</td>\n",
       "      <td>2017.504950</td>\n",
       "    </tr>\n",
       "    <tr>\n",
       "      <th>23.0</th>\n",
       "      <td>21758.423529</td>\n",
       "      <td>1.152941</td>\n",
       "      <td>2.679252</td>\n",
       "      <td>22844.411765</td>\n",
       "      <td>142.781250</td>\n",
       "      <td>7.517647</td>\n",
       "      <td>13.482353</td>\n",
       "      <td>12493.764706</td>\n",
       "      <td>0.011765</td>\n",
       "      <td>9.896171</td>\n",
       "      <td>...</td>\n",
       "      <td>NaN</td>\n",
       "      <td>1.305882</td>\n",
       "      <td>487.641975</td>\n",
       "      <td>104471.274906</td>\n",
       "      <td>1.952941</td>\n",
       "      <td>0.011765</td>\n",
       "      <td>56.604824</td>\n",
       "      <td>10.117647</td>\n",
       "      <td>2.364706</td>\n",
       "      <td>2017.494118</td>\n",
       "    </tr>\n",
       "    <tr>\n",
       "      <th>24.0</th>\n",
       "      <td>22174.692308</td>\n",
       "      <td>1.192308</td>\n",
       "      <td>2.789535</td>\n",
       "      <td>24089.461538</td>\n",
       "      <td>128.769231</td>\n",
       "      <td>11.769231</td>\n",
       "      <td>20.692308</td>\n",
       "      <td>12102.807692</td>\n",
       "      <td>0.000000</td>\n",
       "      <td>10.236932</td>\n",
       "      <td>...</td>\n",
       "      <td>NaN</td>\n",
       "      <td>1.884615</td>\n",
       "      <td>381.192308</td>\n",
       "      <td>72602.797917</td>\n",
       "      <td>1.461538</td>\n",
       "      <td>0.000000</td>\n",
       "      <td>45.770385</td>\n",
       "      <td>8.461538</td>\n",
       "      <td>2.307692</td>\n",
       "      <td>2017.576923</td>\n",
       "    </tr>\n",
       "    <tr>\n",
       "      <th>25.0</th>\n",
       "      <td>31593.115385</td>\n",
       "      <td>0.923077</td>\n",
       "      <td>2.798722</td>\n",
       "      <td>25319.884615</td>\n",
       "      <td>94.461538</td>\n",
       "      <td>7.307692</td>\n",
       "      <td>14.923077</td>\n",
       "      <td>10726.769231</td>\n",
       "      <td>0.000000</td>\n",
       "      <td>11.479247</td>\n",
       "      <td>...</td>\n",
       "      <td>296.666667</td>\n",
       "      <td>0.884615</td>\n",
       "      <td>611.130435</td>\n",
       "      <td>89701.904701</td>\n",
       "      <td>1.538462</td>\n",
       "      <td>0.000000</td>\n",
       "      <td>46.506154</td>\n",
       "      <td>8.923077</td>\n",
       "      <td>2.423077</td>\n",
       "      <td>2017.692308</td>\n",
       "    </tr>\n",
       "    <tr>\n",
       "      <th>26.0</th>\n",
       "      <td>45368.339623</td>\n",
       "      <td>1.075472</td>\n",
       "      <td>2.772282</td>\n",
       "      <td>25799.075472</td>\n",
       "      <td>143.365385</td>\n",
       "      <td>4.245283</td>\n",
       "      <td>6.113208</td>\n",
       "      <td>13213.735849</td>\n",
       "      <td>0.000000</td>\n",
       "      <td>10.944601</td>\n",
       "      <td>...</td>\n",
       "      <td>272.408163</td>\n",
       "      <td>0.924528</td>\n",
       "      <td>559.857143</td>\n",
       "      <td>96437.758820</td>\n",
       "      <td>1.528302</td>\n",
       "      <td>0.000000</td>\n",
       "      <td>45.408868</td>\n",
       "      <td>9.754717</td>\n",
       "      <td>1.660377</td>\n",
       "      <td>2017.735849</td>\n",
       "    </tr>\n",
       "    <tr>\n",
       "      <th>27.0</th>\n",
       "      <td>23947.000000</td>\n",
       "      <td>1.000000</td>\n",
       "      <td>2.966855</td>\n",
       "      <td>27372.000000</td>\n",
       "      <td>153.000000</td>\n",
       "      <td>2.500000</td>\n",
       "      <td>3.500000</td>\n",
       "      <td>3354.500000</td>\n",
       "      <td>0.000000</td>\n",
       "      <td>16.000000</td>\n",
       "      <td>...</td>\n",
       "      <td>1496.000000</td>\n",
       "      <td>0.000000</td>\n",
       "      <td>NaN</td>\n",
       "      <td>199358.504399</td>\n",
       "      <td>1.500000</td>\n",
       "      <td>0.000000</td>\n",
       "      <td>53.000000</td>\n",
       "      <td>9.500000</td>\n",
       "      <td>1.000000</td>\n",
       "      <td>2017.500000</td>\n",
       "    </tr>\n",
       "    <tr>\n",
       "      <th>28.0</th>\n",
       "      <td>40552.857143</td>\n",
       "      <td>1.000000</td>\n",
       "      <td>2.831751</td>\n",
       "      <td>28030.571429</td>\n",
       "      <td>207.428571</td>\n",
       "      <td>4.571429</td>\n",
       "      <td>8.142857</td>\n",
       "      <td>13471.000000</td>\n",
       "      <td>0.000000</td>\n",
       "      <td>12.857143</td>\n",
       "      <td>...</td>\n",
       "      <td>110.500000</td>\n",
       "      <td>0.571429</td>\n",
       "      <td>59.000000</td>\n",
       "      <td>89130.353793</td>\n",
       "      <td>2.000000</td>\n",
       "      <td>0.000000</td>\n",
       "      <td>65.428571</td>\n",
       "      <td>2.428571</td>\n",
       "      <td>1.714286</td>\n",
       "      <td>2015.571429</td>\n",
       "    </tr>\n",
       "    <tr>\n",
       "      <th>29.0</th>\n",
       "      <td>20034.000000</td>\n",
       "      <td>1.166667</td>\n",
       "      <td>2.958952</td>\n",
       "      <td>29032.166667</td>\n",
       "      <td>347.200000</td>\n",
       "      <td>1.833333</td>\n",
       "      <td>4.333333</td>\n",
       "      <td>14053.333333</td>\n",
       "      <td>0.166667</td>\n",
       "      <td>9.158353</td>\n",
       "      <td>...</td>\n",
       "      <td>NaN</td>\n",
       "      <td>0.000000</td>\n",
       "      <td>NaN</td>\n",
       "      <td>109317.350566</td>\n",
       "      <td>2.333333</td>\n",
       "      <td>0.000000</td>\n",
       "      <td>58.883333</td>\n",
       "      <td>15.000000</td>\n",
       "      <td>1.166667</td>\n",
       "      <td>2017.333333</td>\n",
       "    </tr>\n",
       "  </tbody>\n",
       "</table>\n",
       "<p>30 rows × 25 columns</p>\n",
       "</div>"
      ],
      "text/plain": [
       "             airports_nearest   balcony  ceiling_height  cityCenters_nearest  \\\n",
       "downtown_km                                                                    \n",
       "0.0              21822.866667  0.466667        3.375409           368.133333   \n",
       "1.0              21518.670807  0.677019        3.058373          1113.180124   \n",
       "2.0              22048.320755  0.652830        3.094564          2095.520755   \n",
       "3.0              22886.134969  0.717791        3.041095          3119.463190   \n",
       "4.0              23841.679305  0.842022        3.002052          4054.314376   \n",
       "5.0              25560.776284  0.892552        2.978585          4971.716728   \n",
       "6.0              26144.052731  0.939962        2.887580          5977.515947   \n",
       "7.0              25690.852368  0.997214        2.832927          7016.250696   \n",
       "8.0              28173.955357  1.003571        2.828937          8133.460714   \n",
       "9.0              31120.229706  1.065630        2.782294          9045.255613   \n",
       "10.0             29301.053085  1.065434        2.721493         10011.655761   \n",
       "11.0             28510.832168  1.029668        2.709845         11024.143979   \n",
       "12.0             27988.239924  1.165513        2.697593         12002.025802   \n",
       "13.0             24139.448084  1.150381        2.702186         13005.342342   \n",
       "14.0             27039.042197  1.141720        2.694837         14006.286624   \n",
       "15.0             31052.505837  1.135538        2.703890         14965.420882   \n",
       "16.0             32204.276579  1.133493        2.691366         15967.379696   \n",
       "17.0             31072.748837  1.038372        2.700376         16947.911628   \n",
       "18.0             28128.046875  1.050781        2.698527         17859.136719   \n",
       "19.0             38890.363636  1.181818        2.702200         18953.337662   \n",
       "20.0             28430.812500  1.208333        2.686986         20249.375000   \n",
       "21.0             33840.373913  1.318966        2.773316         21097.862069   \n",
       "22.0             27479.861386  1.222772        2.727889         21956.653465   \n",
       "23.0             21758.423529  1.152941        2.679252         22844.411765   \n",
       "24.0             22174.692308  1.192308        2.789535         24089.461538   \n",
       "25.0             31593.115385  0.923077        2.798722         25319.884615   \n",
       "26.0             45368.339623  1.075472        2.772282         25799.075472   \n",
       "27.0             23947.000000  1.000000        2.966855         27372.000000   \n",
       "28.0             40552.857143  1.000000        2.831751         28030.571429   \n",
       "29.0             20034.000000  1.166667        2.958952         29032.166667   \n",
       "\n",
       "             days_exposition      floor  floors_total         index  \\\n",
       "downtown_km                                                           \n",
       "0.0               196.846154   3.000000      4.933333   8525.533333   \n",
       "1.0               261.035971   2.931677      4.583851  12208.229814   \n",
       "2.0               217.601810   2.981132      4.822642  11235.350943   \n",
       "3.0               207.185328   3.180982      5.184049  11587.322086   \n",
       "4.0               234.892250   3.887836      6.668246  11684.627172   \n",
       "5.0               227.729769   4.523810      7.654457  11991.632479   \n",
       "6.0               188.849224   4.437148      7.859287  12524.054409   \n",
       "7.0               180.003300   5.272981      9.559889  11927.367688   \n",
       "8.0               174.635802   5.973214     10.955357  11869.117857   \n",
       "9.0               165.994071   5.682211     10.407599  11541.925734   \n",
       "10.0              155.938611   6.149360     11.301565  11566.807966   \n",
       "11.0              161.455268   6.160558     11.350785  11971.208551   \n",
       "12.0              148.510029   6.789805     12.898049  11932.647577   \n",
       "13.0              150.913380   7.387387     13.484407  11715.730423   \n",
       "14.0              150.432971   7.214968     13.105892  11956.355892   \n",
       "15.0              143.919557   7.119974     13.291180  11810.068742   \n",
       "16.0              143.042688   6.882494     13.264588  11752.314149   \n",
       "17.0              157.411995   6.931395     12.846512  11798.251163   \n",
       "18.0              168.919283   6.617188     12.097656  11813.562500   \n",
       "19.0              158.748201   6.727273     12.012987  11023.253247   \n",
       "20.0              162.102564  13.625000     25.250000  11482.979167   \n",
       "21.0              176.741935   6.672414     11.474138  12341.844828   \n",
       "22.0              157.034884   8.584158     14.643564  12015.297030   \n",
       "23.0              142.781250   7.517647     13.482353  12493.764706   \n",
       "24.0              128.769231  11.769231     20.692308  12102.807692   \n",
       "25.0               94.461538   7.307692     14.923077  10726.769231   \n",
       "26.0              143.365385   4.245283      6.113208  13213.735849   \n",
       "27.0              153.000000   2.500000      3.500000   3354.500000   \n",
       "28.0              207.428571   4.571429      8.142857  13471.000000   \n",
       "29.0              347.200000   1.833333      4.333333  14053.333333   \n",
       "\n",
       "             is_apartment  kitchen_area  ...  parks_nearest  ponds_around3000  \\\n",
       "downtown_km                              ...                                    \n",
       "0.0              0.000000     12.547239  ...     331.066667          2.533333   \n",
       "1.0              0.000000     12.565388  ...     463.328125          2.490683   \n",
       "2.0              0.003774     13.823048  ...     390.026906          2.109434   \n",
       "3.0              0.003067     13.011763  ...     427.995614          1.414110   \n",
       "4.0              0.003160     12.729826  ...     483.906516          1.097946   \n",
       "5.0              0.001221     13.307010  ...     544.708940          0.880342   \n",
       "6.0              0.001876     12.236184  ...     482.820106          1.200750   \n",
       "7.0              0.000000     11.606858  ...     419.966387          1.169916   \n",
       "8.0              0.000000     11.449150  ...     506.108761          1.142857   \n",
       "9.0              0.001727     10.163502  ...     609.394558          0.658031   \n",
       "10.0             0.001422      9.621017  ...     539.366359          0.662873   \n",
       "11.0             0.001745      9.618677  ...     528.920635          0.525305   \n",
       "12.0             0.001259      9.705804  ...     456.033962          0.468219   \n",
       "13.0             0.000693     10.015869  ...     551.500000          0.378378   \n",
       "14.0             0.000000      9.856848  ...     492.800857          0.502389   \n",
       "15.0             0.000649     10.049906  ...     476.511545          0.570039   \n",
       "16.0             0.000799      9.693559  ...     516.149733          0.700240   \n",
       "17.0             0.000000      9.649692  ...     599.843049          0.705814   \n",
       "18.0             0.000000      9.398639  ...     581.000000          0.785156   \n",
       "19.0             0.000000     10.140285  ...     397.704545          0.532468   \n",
       "20.0             0.000000     12.191466  ...     480.000000          1.812500   \n",
       "21.0             0.086207     11.428761  ...     658.428571          0.991379   \n",
       "22.0             0.014851     11.040493  ...     730.600000          0.920792   \n",
       "23.0             0.011765      9.896171  ...            NaN          1.305882   \n",
       "24.0             0.000000     10.236932  ...            NaN          1.884615   \n",
       "25.0             0.000000     11.479247  ...     296.666667          0.884615   \n",
       "26.0             0.000000     10.944601  ...     272.408163          0.924528   \n",
       "27.0             0.000000     16.000000  ...    1496.000000          0.000000   \n",
       "28.0             0.000000     12.857143  ...     110.500000          0.571429   \n",
       "29.0             0.166667      9.158353  ...            NaN          0.000000   \n",
       "\n",
       "             ponds_nearest        price_m     rooms    studio  total_area  \\\n",
       "downtown_km                                                                 \n",
       "0.0             370.066667  265405.518599  2.933333  0.000000   98.853333   \n",
       "1.0             171.024845  236698.608565  3.031056  0.000000   86.324720   \n",
       "2.0             325.399177  221920.993219  2.973585  0.003774   90.043736   \n",
       "3.0             502.875000  195644.373914  2.911043  0.003067   84.736810   \n",
       "4.0             498.120482  200138.154805  2.826224  0.001580   84.208278   \n",
       "5.0             587.607143  210797.688703  2.682540  0.004884   83.391770   \n",
       "6.0             492.699739  193804.738835  2.371482  0.007505   74.219756   \n",
       "7.0             487.902344  184914.077592  2.236769  0.005571   67.411727   \n",
       "8.0             498.315217  173994.547793  2.235714  0.007143   68.856125   \n",
       "9.0             503.843750  139274.911889  2.048359  0.003454   58.284542   \n",
       "10.0            499.317857  128145.458002  1.974395  0.004267   55.445391   \n",
       "11.0            611.495781  124152.404982  1.994764  0.000000   54.835236   \n",
       "12.0            578.543750  116028.257965  1.948395  0.004405   53.659572   \n",
       "13.0            650.411135  120327.660989  1.995842  0.009009   55.761268   \n",
       "14.0            559.201183  111247.009701  1.912420  0.010350   53.619013   \n",
       "15.0            599.922961  114564.003665  1.933852  0.003891   54.850798   \n",
       "16.0            543.344464  105841.108381  1.928857  0.007194   53.287554   \n",
       "17.0            424.666667  104841.661933  1.927907  0.011628   53.790919   \n",
       "18.0            360.598684   99819.433924  1.835938  0.003906   51.722813   \n",
       "19.0            519.626866  100141.190849  1.792208  0.006494   51.014416   \n",
       "20.0             84.206897  106540.246897  1.895833  0.020833   58.134375   \n",
       "21.0            599.366667  106828.124376  2.000000  0.008621   58.576034   \n",
       "22.0            689.569620  106882.308644  1.900990  0.000000   60.308861   \n",
       "23.0            487.641975  104471.274906  1.952941  0.011765   56.604824   \n",
       "24.0            381.192308   72602.797917  1.461538  0.000000   45.770385   \n",
       "25.0            611.130435   89701.904701  1.538462  0.000000   46.506154   \n",
       "26.0            559.857143   96437.758820  1.528302  0.000000   45.408868   \n",
       "27.0                   NaN  199358.504399  1.500000  0.000000   53.000000   \n",
       "28.0             59.000000   89130.353793  2.000000  0.000000   65.428571   \n",
       "29.0                   NaN  109317.350566  2.333333  0.000000   58.883333   \n",
       "\n",
       "             total_images   weekday         year  \n",
       "downtown_km                                       \n",
       "0.0              9.733333  1.866667  2016.800000  \n",
       "1.0              9.633540  2.534161  2017.012422  \n",
       "2.0             10.403774  2.750943  2017.188679  \n",
       "3.0             10.515337  2.573620  2017.340491  \n",
       "4.0              9.872038  2.352291  2017.236967  \n",
       "5.0              9.717949  2.404151  2017.169719  \n",
       "6.0              9.823640  2.604128  2017.360225  \n",
       "7.0             10.598886  2.593315  2017.306407  \n",
       "8.0              9.337500  2.671429  2017.326786  \n",
       "9.0              9.430052  2.466321  2017.464594  \n",
       "10.0             9.886202  2.523471  2017.431010  \n",
       "11.0             9.879581  2.679756  2017.342932  \n",
       "12.0            10.658905  2.590308  2017.451857  \n",
       "13.0            10.766459  2.562717  2017.410949  \n",
       "14.0            10.513535  2.531051  2017.468153  \n",
       "15.0            10.255512  2.552529  2017.430610  \n",
       "16.0            10.448441  2.687450  2017.465228  \n",
       "17.0             9.374419  2.605814  2017.376744  \n",
       "18.0             9.906250  2.335938  2017.328125  \n",
       "19.0            10.064935  2.525974  2017.448052  \n",
       "20.0            11.270833  2.875000  2017.479167  \n",
       "21.0             8.637931  2.275862  2017.508621  \n",
       "22.0             9.539604  2.534653  2017.504950  \n",
       "23.0            10.117647  2.364706  2017.494118  \n",
       "24.0             8.461538  2.307692  2017.576923  \n",
       "25.0             8.923077  2.423077  2017.692308  \n",
       "26.0             9.754717  1.660377  2017.735849  \n",
       "27.0             9.500000  1.000000  2017.500000  \n",
       "28.0             2.428571  1.714286  2015.571429  \n",
       "29.0            15.000000  1.166667  2017.333333  \n",
       "\n",
       "[30 rows x 25 columns]"
      ]
     },
     "execution_count": 37,
     "metadata": {},
     "output_type": "execute_result"
    }
   ],
   "source": [
    "#стоимость на 27 км выглядит как аномалия. Рассмотрим подробнее:\n",
    "\n",
    "data_spb = data_spb.pivot_table(index='downtown_km')\n",
    "data_spb"
   ]
  },
  {
   "cell_type": "markdown",
   "metadata": {},
   "source": [
    "<div style=\"background-color:black; color:#ffffff; text-align:left; padding:2%\">\n",
    "💬 Гистограмма стоимости км расстояния до центра показывает, что цена снижается по мере удаленности объекта от центра города. Вероятно, граница центральной части города около 9 км.\n",
    "Рост стоимости объектов на 27 км объясняется тем, что в этом районе преимущественно малоэтажная застройка. Очевидно, там располагается поселок таунхаусов или дома повышенной комфортности. Об этом говорят средние показатели этажности: 3,5 и этажа объекта: 2,5.  "
   ]
  },
  {
   "cell_type": "markdown",
   "metadata": {},
   "source": [
    "### Общий вывод"
   ]
  },
  {
   "cell_type": "markdown",
   "metadata": {},
   "source": [
    "<div style=\"background-color:black; color:#ffffff; text-align:left; padding:2%\">\n",
    "💬 По итогам исследования объектов в базе Яндекс.недвижимость сделаны выводы:\n",
    "\n",
    "- бОльшая часть объектов стоят в пределах 10 млн руб;\n",
    "- по стоимости кв м лидирует Санкт-Петербург, далее исторический пригород Пушкин и поселки Парголово и Кудрово. Из 10 самых популярных на сервисе Яндекс поселений, наименьшая стоимость кв м в Мурино, Гатчине и Выборге.\n",
    "- наибольшая часть объектов имеет удаленность от центра города от 10 до 20 км. Цена кв м объектов снижается по мере удаленности объекта от центра города. Исключение составляет малоэтажная застройка на 27 км от центра Санкт-Петербурга.\n",
    "- больше всего предложений в категориях однокомнатные и двухкомнатные квартиры. Чем больше количество комнат, тем меньше предложений в данной категории.\n",
    "- Типичная этажность зданий объектов - до 10 этажей, однако значимые доли занимают дома до 15, 20 и 30 этажей. Чем выше этажность и сам этаж объекта, тем меньше предложений в категории.На последних или первых этажах находится примерно по 15% всех объектов, подавляющее же большинство располагаются на других этажах. \n",
    "- абсолютное большинство объектов имеют стандартную высоту потолков до 3 м.\n",
    "- наибольшая часть предложений по общей площади не превышают 100 кв м, жилая площадь объектов в общей массе колеблется в пределах 50 кв м. Однако значительные доля категории с площадью до 100 кв м\n",
    "- площадь кухни в подавляющем большинстве предложений до 15 кв м. Наибольшая доля объектов с очень компактными кухнями: до 10 кв м.\n",
    "- в целом чем больше общая, жилая или площадь кухни, тем меньше объектов в категории.\n",
    "- абсолютное большинство публикаций имеют срок до 300 дней. Количество публикаций обратно пропорционально длительности размещения. Половина объектов продается за период до 92 дней. А среднее составляет 166 дней. Значительные доли имеют периоды до 600 дней. И есть единичные случаи, когда объекты продаются по несколько лет\n",
    "- пользователи предпочитают публиковать предложения по будним дням. Активность в первый и последний месяцы года заметно возрастает\n",
    "- объявления, размещенные в выходные, имеют более низкую цену. Месяц размещения не сильно влияет на стоимость. Есть влияние года размещения: в течение периода стоимость постепенно снижалась, небольшой рост в 2019 г.\n",
    "- в количестве объектов в сервисе Яндекс.Недвижимость видна положительная динамика по годам. Небольшой объем в 2019 г возможно объясняется тем, что архив захватил только часть года\n"
   ]
  }
 ],
 "metadata": {
  "ExecuteTimeLog": [
   {
    "duration": 483,
    "start_time": "2023-04-06T14:27:26.137Z"
   },
   {
    "duration": 123,
    "start_time": "2023-04-06T14:28:09.698Z"
   },
   {
    "duration": 417,
    "start_time": "2023-04-06T14:28:19.160Z"
   },
   {
    "duration": 124,
    "start_time": "2023-04-06T14:28:46.976Z"
   },
   {
    "duration": 665,
    "start_time": "2023-04-06T14:29:58.086Z"
   },
   {
    "duration": 131,
    "start_time": "2023-04-06T14:38:06.905Z"
   },
   {
    "duration": 7,
    "start_time": "2023-04-06T14:40:30.516Z"
   },
   {
    "duration": 119,
    "start_time": "2023-04-06T14:40:52.157Z"
   },
   {
    "duration": 178,
    "start_time": "2023-04-06T14:41:45.489Z"
   },
   {
    "duration": 149,
    "start_time": "2023-04-06T14:43:49.571Z"
   },
   {
    "duration": 568,
    "start_time": "2023-04-06T14:44:04.098Z"
   },
   {
    "duration": 224,
    "start_time": "2023-04-06T14:44:34.466Z"
   },
   {
    "duration": 3122,
    "start_time": "2023-04-06T14:48:01.360Z"
   },
   {
    "duration": 110,
    "start_time": "2023-04-06T14:49:02.969Z"
   },
   {
    "duration": 2659,
    "start_time": "2023-04-06T14:49:10.137Z"
   },
   {
    "duration": 268,
    "start_time": "2023-04-06T15:02:48.215Z"
   },
   {
    "duration": 186,
    "start_time": "2023-04-06T15:03:43.669Z"
   },
   {
    "duration": 203,
    "start_time": "2023-04-06T15:06:36.023Z"
   },
   {
    "duration": 26142,
    "start_time": "2023-04-06T15:06:49.370Z"
   },
   {
    "duration": 27342,
    "start_time": "2023-04-06T15:08:16.893Z"
   },
   {
    "duration": 8,
    "start_time": "2023-04-06T16:11:37.504Z"
   },
   {
    "duration": 4,
    "start_time": "2023-04-06T16:25:19.621Z"
   },
   {
    "duration": 28,
    "start_time": "2023-04-06T16:26:28.890Z"
   },
   {
    "duration": 129,
    "start_time": "2023-04-06T16:35:39.164Z"
   },
   {
    "duration": 105,
    "start_time": "2023-04-06T16:35:51.809Z"
   },
   {
    "duration": 507,
    "start_time": "2023-04-06T16:40:09.991Z"
   },
   {
    "duration": 0,
    "start_time": "2023-04-06T16:40:10.500Z"
   },
   {
    "duration": 106,
    "start_time": "2023-04-06T16:40:30.390Z"
   },
   {
    "duration": 122,
    "start_time": "2023-04-06T16:51:45.785Z"
   },
   {
    "duration": 102,
    "start_time": "2023-04-06T16:52:07.675Z"
   },
   {
    "duration": 124,
    "start_time": "2023-04-06T16:53:24.098Z"
   },
   {
    "duration": 102,
    "start_time": "2023-04-06T17:00:01.233Z"
   },
   {
    "duration": 93,
    "start_time": "2023-04-06T17:00:25.504Z"
   },
   {
    "duration": 138,
    "start_time": "2023-04-06T17:04:18.136Z"
   },
   {
    "duration": 63,
    "start_time": "2023-04-06T17:30:07.394Z"
   },
   {
    "duration": 188,
    "start_time": "2023-04-06T17:48:25.588Z"
   },
   {
    "duration": 130,
    "start_time": "2023-04-06T17:49:14.861Z"
   },
   {
    "duration": 541,
    "start_time": "2023-04-06T17:49:42.892Z"
   },
   {
    "duration": 166,
    "start_time": "2023-04-06T17:49:43.435Z"
   },
   {
    "duration": 137,
    "start_time": "2023-04-06T18:00:44.394Z"
   },
   {
    "duration": 1590,
    "start_time": "2023-04-07T07:59:01.200Z"
   },
   {
    "duration": 370,
    "start_time": "2023-04-07T07:59:47.901Z"
   },
   {
    "duration": 360,
    "start_time": "2023-04-07T07:59:55.899Z"
   },
   {
    "duration": 4152,
    "start_time": "2023-04-07T08:12:00.705Z"
   },
   {
    "duration": 1818,
    "start_time": "2023-04-07T08:25:00.482Z"
   },
   {
    "duration": 124,
    "start_time": "2023-04-07T08:26:38.304Z"
   },
   {
    "duration": 1447,
    "start_time": "2023-04-07T08:26:52.482Z"
   },
   {
    "duration": 33,
    "start_time": "2023-04-07T08:27:33.307Z"
   },
   {
    "duration": 22,
    "start_time": "2023-04-07T08:35:36.690Z"
   },
   {
    "duration": 22,
    "start_time": "2023-04-07T08:37:06.022Z"
   },
   {
    "duration": 4996,
    "start_time": "2023-04-07T08:37:29.391Z"
   },
   {
    "duration": 160,
    "start_time": "2023-04-07T08:37:34.389Z"
   },
   {
    "duration": 101,
    "start_time": "2023-04-07T08:37:34.551Z"
   },
   {
    "duration": 50,
    "start_time": "2023-04-07T08:38:30.787Z"
   },
   {
    "duration": 24,
    "start_time": "2023-04-07T08:45:07.882Z"
   },
   {
    "duration": 155,
    "start_time": "2023-04-07T08:50:01.225Z"
   },
   {
    "duration": 145,
    "start_time": "2023-04-07T08:51:34.030Z"
   },
   {
    "duration": 150,
    "start_time": "2023-04-07T08:52:03.543Z"
   },
   {
    "duration": 144,
    "start_time": "2023-04-07T08:52:12.966Z"
   },
   {
    "duration": 166,
    "start_time": "2023-04-07T08:53:08.254Z"
   },
   {
    "duration": 166,
    "start_time": "2023-04-07T08:53:25.888Z"
   },
   {
    "duration": 47,
    "start_time": "2023-04-07T08:57:53.109Z"
   },
   {
    "duration": 24,
    "start_time": "2023-04-07T08:59:12.288Z"
   },
   {
    "duration": 33,
    "start_time": "2023-04-07T09:08:44.233Z"
   },
   {
    "duration": 36,
    "start_time": "2023-04-07T09:11:21.543Z"
   },
   {
    "duration": 19,
    "start_time": "2023-04-07T09:30:26.155Z"
   },
   {
    "duration": 78,
    "start_time": "2023-04-07T09:30:51.938Z"
   },
   {
    "duration": 9,
    "start_time": "2023-04-07T11:03:15.711Z"
   },
   {
    "duration": 10,
    "start_time": "2023-04-07T11:03:29.523Z"
   },
   {
    "duration": 10,
    "start_time": "2023-04-07T11:05:00.237Z"
   },
   {
    "duration": 4781,
    "start_time": "2023-04-07T11:05:15.814Z"
   },
   {
    "duration": 189,
    "start_time": "2023-04-07T11:05:20.598Z"
   },
   {
    "duration": 25,
    "start_time": "2023-04-07T11:05:20.790Z"
   },
   {
    "duration": 94,
    "start_time": "2023-04-07T11:05:20.816Z"
   },
   {
    "duration": 7,
    "start_time": "2023-04-07T11:05:32.614Z"
   },
   {
    "duration": 7,
    "start_time": "2023-04-07T11:20:10.994Z"
   },
   {
    "duration": 5,
    "start_time": "2023-04-07T11:20:20.063Z"
   },
   {
    "duration": 5286,
    "start_time": "2023-04-07T11:20:52.052Z"
   },
   {
    "duration": 169,
    "start_time": "2023-04-07T11:20:57.340Z"
   },
   {
    "duration": 25,
    "start_time": "2023-04-07T11:20:57.511Z"
   },
   {
    "duration": 5,
    "start_time": "2023-04-07T11:20:57.537Z"
   },
   {
    "duration": 5,
    "start_time": "2023-04-07T11:21:03.009Z"
   },
   {
    "duration": 7,
    "start_time": "2023-04-07T11:21:15.915Z"
   },
   {
    "duration": 7,
    "start_time": "2023-04-07T11:21:22.948Z"
   },
   {
    "duration": 9,
    "start_time": "2023-04-07T11:22:03.402Z"
   },
   {
    "duration": 7,
    "start_time": "2023-04-07T11:28:27.361Z"
   },
   {
    "duration": 355,
    "start_time": "2023-04-07T12:05:17.999Z"
   },
   {
    "duration": 15,
    "start_time": "2023-04-07T12:05:43.262Z"
   },
   {
    "duration": 21,
    "start_time": "2023-04-07T12:05:52.133Z"
   },
   {
    "duration": 53,
    "start_time": "2023-04-07T12:30:37.303Z"
   },
   {
    "duration": 50,
    "start_time": "2023-04-07T12:31:05.222Z"
   },
   {
    "duration": 62,
    "start_time": "2023-04-07T12:32:17.091Z"
   },
   {
    "duration": 8,
    "start_time": "2023-04-07T12:35:15.877Z"
   },
   {
    "duration": 5342,
    "start_time": "2023-04-07T12:35:39.581Z"
   },
   {
    "duration": 171,
    "start_time": "2023-04-07T12:35:44.926Z"
   },
   {
    "duration": 24,
    "start_time": "2023-04-07T12:35:45.098Z"
   },
   {
    "duration": 8,
    "start_time": "2023-04-07T12:35:45.124Z"
   },
   {
    "duration": 83,
    "start_time": "2023-04-07T12:35:45.134Z"
   },
   {
    "duration": 73,
    "start_time": "2023-04-07T13:44:58.484Z"
   },
   {
    "duration": 46,
    "start_time": "2023-04-07T13:48:32.509Z"
   },
   {
    "duration": 85,
    "start_time": "2023-04-07T14:15:55.707Z"
   },
   {
    "duration": 13,
    "start_time": "2023-04-07T14:18:20.236Z"
   },
   {
    "duration": 15,
    "start_time": "2023-04-07T14:19:29.971Z"
   },
   {
    "duration": 20,
    "start_time": "2023-04-07T14:19:52.454Z"
   },
   {
    "duration": 12,
    "start_time": "2023-04-07T14:20:47.355Z"
   },
   {
    "duration": 14,
    "start_time": "2023-04-07T14:21:55.484Z"
   },
   {
    "duration": 22,
    "start_time": "2023-04-07T14:23:01.081Z"
   },
   {
    "duration": 1417,
    "start_time": "2023-04-07T14:24:03.819Z"
   },
   {
    "duration": 9,
    "start_time": "2023-04-07T14:26:26.810Z"
   },
   {
    "duration": 772,
    "start_time": "2023-04-07T14:26:37.667Z"
   },
   {
    "duration": 146,
    "start_time": "2023-04-07T14:27:20.682Z"
   },
   {
    "duration": 13,
    "start_time": "2023-04-07T14:27:43.409Z"
   },
   {
    "duration": 137,
    "start_time": "2023-04-07T14:27:54.349Z"
   },
   {
    "duration": 316,
    "start_time": "2023-04-07T14:28:36.827Z"
   },
   {
    "duration": 130,
    "start_time": "2023-04-07T14:29:02.097Z"
   },
   {
    "duration": 167,
    "start_time": "2023-04-07T14:31:57.928Z"
   },
   {
    "duration": 122,
    "start_time": "2023-04-07T14:32:13.551Z"
   },
   {
    "duration": 126,
    "start_time": "2023-04-07T14:32:37.184Z"
   },
   {
    "duration": 131,
    "start_time": "2023-04-07T14:32:48.744Z"
   },
   {
    "duration": 124,
    "start_time": "2023-04-07T14:37:45.766Z"
   },
   {
    "duration": 178,
    "start_time": "2023-04-07T14:38:25.661Z"
   },
   {
    "duration": 131,
    "start_time": "2023-04-07T14:38:29.092Z"
   },
   {
    "duration": 118,
    "start_time": "2023-04-07T14:38:31.809Z"
   },
   {
    "duration": 124,
    "start_time": "2023-04-07T14:38:34.144Z"
   },
   {
    "duration": 131,
    "start_time": "2023-04-07T14:51:21.247Z"
   },
   {
    "duration": 7,
    "start_time": "2023-04-07T14:58:16.437Z"
   },
   {
    "duration": 7,
    "start_time": "2023-04-07T14:58:42.045Z"
   },
   {
    "duration": 10,
    "start_time": "2023-04-07T15:07:13.187Z"
   },
   {
    "duration": 9,
    "start_time": "2023-04-07T15:07:35.735Z"
   },
   {
    "duration": 7,
    "start_time": "2023-04-07T15:07:46.754Z"
   },
   {
    "duration": 7,
    "start_time": "2023-04-07T15:08:00.119Z"
   },
   {
    "duration": 7,
    "start_time": "2023-04-07T15:08:08.075Z"
   },
   {
    "duration": 15,
    "start_time": "2023-04-07T15:08:43.110Z"
   },
   {
    "duration": 10,
    "start_time": "2023-04-07T15:08:59.662Z"
   },
   {
    "duration": 8,
    "start_time": "2023-04-07T15:09:25.593Z"
   },
   {
    "duration": 8,
    "start_time": "2023-04-07T15:09:54.802Z"
   },
   {
    "duration": 13,
    "start_time": "2023-04-07T15:12:16.763Z"
   },
   {
    "duration": 12,
    "start_time": "2023-04-07T15:18:03.442Z"
   },
   {
    "duration": 7,
    "start_time": "2023-04-07T15:18:22.274Z"
   },
   {
    "duration": 7,
    "start_time": "2023-04-07T15:21:05.951Z"
   },
   {
    "duration": 108,
    "start_time": "2023-04-07T15:25:44.433Z"
   },
   {
    "duration": 127,
    "start_time": "2023-04-07T15:30:36.845Z"
   },
   {
    "duration": 117,
    "start_time": "2023-04-07T15:30:55.319Z"
   },
   {
    "duration": 148,
    "start_time": "2023-04-07T15:31:10.308Z"
   },
   {
    "duration": 21,
    "start_time": "2023-04-07T15:31:52.395Z"
   },
   {
    "duration": 11,
    "start_time": "2023-04-07T15:34:46.129Z"
   },
   {
    "duration": 18,
    "start_time": "2023-04-07T15:35:00.213Z"
   },
   {
    "duration": 11,
    "start_time": "2023-04-07T15:36:21.045Z"
   },
   {
    "duration": 7,
    "start_time": "2023-04-07T15:36:29.532Z"
   },
   {
    "duration": 111,
    "start_time": "2023-04-07T15:37:50.996Z"
   },
   {
    "duration": 127,
    "start_time": "2023-04-07T15:38:01.963Z"
   },
   {
    "duration": 125,
    "start_time": "2023-04-07T15:38:25.676Z"
   },
   {
    "duration": 112,
    "start_time": "2023-04-07T15:38:44.429Z"
   },
   {
    "duration": 10,
    "start_time": "2023-04-07T15:41:47.779Z"
   },
   {
    "duration": 11,
    "start_time": "2023-04-07T15:42:50.402Z"
   },
   {
    "duration": 4796,
    "start_time": "2023-04-07T15:43:07.959Z"
   },
   {
    "duration": 175,
    "start_time": "2023-04-07T15:43:12.757Z"
   },
   {
    "duration": 58,
    "start_time": "2023-04-07T15:43:12.934Z"
   },
   {
    "duration": 9,
    "start_time": "2023-04-07T15:43:12.994Z"
   },
   {
    "duration": 61,
    "start_time": "2023-04-07T15:43:13.004Z"
   },
   {
    "duration": 74,
    "start_time": "2023-04-07T15:43:13.086Z"
   },
   {
    "duration": 127,
    "start_time": "2023-04-07T15:43:13.162Z"
   },
   {
    "duration": 129,
    "start_time": "2023-04-07T15:43:13.291Z"
   },
   {
    "duration": 120,
    "start_time": "2023-04-07T15:43:13.423Z"
   },
   {
    "duration": 132,
    "start_time": "2023-04-07T15:43:13.545Z"
   },
   {
    "duration": 123,
    "start_time": "2023-04-07T15:43:13.679Z"
   },
   {
    "duration": 129,
    "start_time": "2023-04-07T15:43:13.804Z"
   },
   {
    "duration": 143,
    "start_time": "2023-04-07T15:43:13.934Z"
   },
   {
    "duration": 12,
    "start_time": "2023-04-07T15:43:14.079Z"
   },
   {
    "duration": 121,
    "start_time": "2023-04-07T15:43:14.093Z"
   },
   {
    "duration": 8,
    "start_time": "2023-04-07T15:43:14.215Z"
   },
   {
    "duration": 20,
    "start_time": "2023-04-07T15:43:14.224Z"
   },
   {
    "duration": 121,
    "start_time": "2023-04-07T15:43:14.245Z"
   },
   {
    "duration": 20,
    "start_time": "2023-04-07T15:43:14.368Z"
   },
   {
    "duration": 86,
    "start_time": "2023-04-07T15:59:42.814Z"
   },
   {
    "duration": 11,
    "start_time": "2023-04-07T16:00:53.277Z"
   },
   {
    "duration": 24,
    "start_time": "2023-04-07T16:12:12.858Z"
   },
   {
    "duration": 7,
    "start_time": "2023-04-07T16:18:56.738Z"
   },
   {
    "duration": 9,
    "start_time": "2023-04-07T16:19:36.646Z"
   },
   {
    "duration": 11,
    "start_time": "2023-04-07T16:21:58.670Z"
   },
   {
    "duration": 8,
    "start_time": "2023-04-07T16:22:52.046Z"
   },
   {
    "duration": 8,
    "start_time": "2023-04-07T16:23:06.878Z"
   },
   {
    "duration": 9,
    "start_time": "2023-04-07T16:23:33.254Z"
   },
   {
    "duration": 10,
    "start_time": "2023-04-07T16:23:40.366Z"
   },
   {
    "duration": 13,
    "start_time": "2023-04-07T16:28:40.365Z"
   },
   {
    "duration": 8,
    "start_time": "2023-04-07T16:29:13.820Z"
   },
   {
    "duration": 9,
    "start_time": "2023-04-07T16:29:35.461Z"
   },
   {
    "duration": 9,
    "start_time": "2023-04-07T16:29:49.983Z"
   },
   {
    "duration": 9,
    "start_time": "2023-04-07T16:30:18.940Z"
   },
   {
    "duration": 12,
    "start_time": "2023-04-07T16:31:14.797Z"
   },
   {
    "duration": 8,
    "start_time": "2023-04-07T16:32:49.067Z"
   },
   {
    "duration": 9,
    "start_time": "2023-04-07T16:33:03.100Z"
   },
   {
    "duration": 9,
    "start_time": "2023-04-07T16:33:36.698Z"
   },
   {
    "duration": 2,
    "start_time": "2023-04-07T16:35:33.524Z"
   },
   {
    "duration": 3252,
    "start_time": "2023-04-07T16:36:16.299Z"
   },
   {
    "duration": 55,
    "start_time": "2023-04-08T03:38:59.540Z"
   },
   {
    "duration": 4189,
    "start_time": "2023-04-08T03:39:14.288Z"
   },
   {
    "duration": 148,
    "start_time": "2023-04-08T03:39:18.480Z"
   },
   {
    "duration": 55,
    "start_time": "2023-04-08T03:39:18.630Z"
   },
   {
    "duration": 14,
    "start_time": "2023-04-08T03:39:18.687Z"
   },
   {
    "duration": 80,
    "start_time": "2023-04-08T03:39:18.704Z"
   },
   {
    "duration": 64,
    "start_time": "2023-04-08T03:39:18.786Z"
   },
   {
    "duration": 123,
    "start_time": "2023-04-08T03:39:18.852Z"
   },
   {
    "duration": 156,
    "start_time": "2023-04-08T03:39:18.977Z"
   },
   {
    "duration": 114,
    "start_time": "2023-04-08T03:39:19.135Z"
   },
   {
    "duration": 127,
    "start_time": "2023-04-08T03:39:19.251Z"
   },
   {
    "duration": 112,
    "start_time": "2023-04-08T03:39:19.380Z"
   },
   {
    "duration": 130,
    "start_time": "2023-04-08T03:39:19.493Z"
   },
   {
    "duration": 135,
    "start_time": "2023-04-08T03:39:19.625Z"
   },
   {
    "duration": 15,
    "start_time": "2023-04-08T03:39:19.762Z"
   },
   {
    "duration": 116,
    "start_time": "2023-04-08T03:39:19.779Z"
   },
   {
    "duration": 8,
    "start_time": "2023-04-08T03:39:19.897Z"
   },
   {
    "duration": 19,
    "start_time": "2023-04-08T03:39:19.907Z"
   },
   {
    "duration": 179,
    "start_time": "2023-04-08T03:39:19.928Z"
   },
   {
    "duration": 9,
    "start_time": "2023-04-08T03:39:20.109Z"
   },
   {
    "duration": 96,
    "start_time": "2023-04-08T03:39:20.120Z"
   },
   {
    "duration": 0,
    "start_time": "2023-04-08T03:39:20.218Z"
   },
   {
    "duration": 12,
    "start_time": "2023-04-08T03:44:46.280Z"
   },
   {
    "duration": 107,
    "start_time": "2023-04-08T03:45:48.150Z"
   },
   {
    "duration": 93,
    "start_time": "2023-04-08T03:46:08.511Z"
   },
   {
    "duration": 107,
    "start_time": "2023-04-08T03:46:20.045Z"
   },
   {
    "duration": 113,
    "start_time": "2023-04-08T03:46:33.877Z"
   },
   {
    "duration": 106,
    "start_time": "2023-04-08T03:46:43.807Z"
   },
   {
    "duration": 111,
    "start_time": "2023-04-08T03:47:27.692Z"
   },
   {
    "duration": 106,
    "start_time": "2023-04-08T03:47:50.285Z"
   },
   {
    "duration": 10,
    "start_time": "2023-04-08T03:48:08.732Z"
   },
   {
    "duration": 11,
    "start_time": "2023-04-08T03:50:37.916Z"
   },
   {
    "duration": 9,
    "start_time": "2023-04-08T03:51:08.475Z"
   },
   {
    "duration": 9,
    "start_time": "2023-04-08T03:51:27.445Z"
   },
   {
    "duration": 3,
    "start_time": "2023-04-08T03:56:34.497Z"
   },
   {
    "duration": 2738,
    "start_time": "2023-04-08T03:58:33.242Z"
   },
   {
    "duration": 2611,
    "start_time": "2023-04-08T03:58:42.625Z"
   },
   {
    "duration": 2633,
    "start_time": "2023-04-08T03:58:57.514Z"
   },
   {
    "duration": 2262,
    "start_time": "2023-04-08T03:59:03.049Z"
   },
   {
    "duration": 85,
    "start_time": "2023-04-08T04:18:57.697Z"
   },
   {
    "duration": 75,
    "start_time": "2023-04-08T04:19:13.426Z"
   },
   {
    "duration": 50,
    "start_time": "2023-04-08T04:25:22.543Z"
   },
   {
    "duration": 32,
    "start_time": "2023-04-08T04:27:32.504Z"
   },
   {
    "duration": 66,
    "start_time": "2023-04-08T04:32:08.445Z"
   },
   {
    "duration": 13,
    "start_time": "2023-04-08T04:32:12.800Z"
   },
   {
    "duration": 3494,
    "start_time": "2023-04-08T04:32:18.533Z"
   },
   {
    "duration": 140,
    "start_time": "2023-04-08T04:32:22.029Z"
   },
   {
    "duration": 50,
    "start_time": "2023-04-08T04:32:22.171Z"
   },
   {
    "duration": 13,
    "start_time": "2023-04-08T04:32:22.224Z"
   },
   {
    "duration": 111,
    "start_time": "2023-04-08T04:32:22.239Z"
   },
   {
    "duration": 97,
    "start_time": "2023-04-08T04:32:22.352Z"
   },
   {
    "duration": 119,
    "start_time": "2023-04-08T04:32:22.451Z"
   },
   {
    "duration": 138,
    "start_time": "2023-04-08T04:32:22.571Z"
   },
   {
    "duration": 120,
    "start_time": "2023-04-08T04:32:22.711Z"
   },
   {
    "duration": 160,
    "start_time": "2023-04-08T04:32:22.833Z"
   },
   {
    "duration": 130,
    "start_time": "2023-04-08T04:32:22.995Z"
   },
   {
    "duration": 134,
    "start_time": "2023-04-08T04:32:23.127Z"
   },
   {
    "duration": 164,
    "start_time": "2023-04-08T04:32:23.263Z"
   },
   {
    "duration": 10,
    "start_time": "2023-04-08T04:32:23.429Z"
   },
   {
    "duration": 171,
    "start_time": "2023-04-08T04:32:23.441Z"
   },
   {
    "duration": 11,
    "start_time": "2023-04-08T04:32:23.622Z"
   },
   {
    "duration": 31,
    "start_time": "2023-04-08T04:32:23.634Z"
   },
   {
    "duration": 128,
    "start_time": "2023-04-08T04:32:23.668Z"
   },
   {
    "duration": 10,
    "start_time": "2023-04-08T04:32:23.797Z"
   },
   {
    "duration": 32,
    "start_time": "2023-04-08T04:32:23.809Z"
   },
   {
    "duration": 67,
    "start_time": "2023-04-08T04:36:26.286Z"
   },
   {
    "duration": 3253,
    "start_time": "2023-04-08T04:36:30.237Z"
   },
   {
    "duration": 133,
    "start_time": "2023-04-08T04:36:33.492Z"
   },
   {
    "duration": 63,
    "start_time": "2023-04-08T04:36:33.627Z"
   },
   {
    "duration": 12,
    "start_time": "2023-04-08T04:36:33.692Z"
   },
   {
    "duration": 58,
    "start_time": "2023-04-08T04:36:33.707Z"
   },
   {
    "duration": 86,
    "start_time": "2023-04-08T04:36:33.775Z"
   },
   {
    "duration": 133,
    "start_time": "2023-04-08T04:36:33.862Z"
   },
   {
    "duration": 122,
    "start_time": "2023-04-08T04:36:33.997Z"
   },
   {
    "duration": 120,
    "start_time": "2023-04-08T04:36:34.120Z"
   },
   {
    "duration": 111,
    "start_time": "2023-04-08T04:36:34.242Z"
   },
   {
    "duration": 109,
    "start_time": "2023-04-08T04:36:34.355Z"
   },
   {
    "duration": 124,
    "start_time": "2023-04-08T04:36:34.472Z"
   },
   {
    "duration": 152,
    "start_time": "2023-04-08T04:36:34.597Z"
   },
   {
    "duration": 10,
    "start_time": "2023-04-08T04:36:34.752Z"
   },
   {
    "duration": 136,
    "start_time": "2023-04-08T04:36:34.771Z"
   },
   {
    "duration": 10,
    "start_time": "2023-04-08T04:36:34.908Z"
   },
   {
    "duration": 30,
    "start_time": "2023-04-08T04:36:34.919Z"
   },
   {
    "duration": 114,
    "start_time": "2023-04-08T04:36:34.951Z"
   },
   {
    "duration": 28,
    "start_time": "2023-04-08T04:36:35.067Z"
   },
   {
    "duration": 14,
    "start_time": "2023-04-08T04:36:35.097Z"
   },
   {
    "duration": 56,
    "start_time": "2023-04-08T04:36:51.165Z"
   },
   {
    "duration": 3167,
    "start_time": "2023-04-08T04:38:02.252Z"
   },
   {
    "duration": 146,
    "start_time": "2023-04-08T04:38:05.421Z"
   },
   {
    "duration": 52,
    "start_time": "2023-04-08T04:38:05.568Z"
   },
   {
    "duration": 8,
    "start_time": "2023-04-08T04:38:05.622Z"
   },
   {
    "duration": 82,
    "start_time": "2023-04-08T04:38:05.631Z"
   },
   {
    "duration": 80,
    "start_time": "2023-04-08T04:38:05.715Z"
   },
   {
    "duration": 112,
    "start_time": "2023-04-08T04:38:05.796Z"
   },
   {
    "duration": 136,
    "start_time": "2023-04-08T04:38:05.910Z"
   },
   {
    "duration": 158,
    "start_time": "2023-04-08T04:38:06.048Z"
   },
   {
    "duration": 153,
    "start_time": "2023-04-08T04:38:06.209Z"
   },
   {
    "duration": 147,
    "start_time": "2023-04-08T04:38:06.364Z"
   },
   {
    "duration": 138,
    "start_time": "2023-04-08T04:38:06.512Z"
   },
   {
    "duration": 150,
    "start_time": "2023-04-08T04:38:06.651Z"
   },
   {
    "duration": 9,
    "start_time": "2023-04-08T04:38:06.803Z"
   },
   {
    "duration": 119,
    "start_time": "2023-04-08T04:38:06.813Z"
   },
   {
    "duration": 7,
    "start_time": "2023-04-08T04:38:06.933Z"
   },
   {
    "duration": 16,
    "start_time": "2023-04-08T04:38:06.941Z"
   },
   {
    "duration": 135,
    "start_time": "2023-04-08T04:38:06.958Z"
   },
   {
    "duration": 10,
    "start_time": "2023-04-08T04:38:07.107Z"
   },
   {
    "duration": 11,
    "start_time": "2023-04-08T04:38:07.118Z"
   },
   {
    "duration": 63,
    "start_time": "2023-04-08T04:38:15.261Z"
   },
   {
    "duration": 3240,
    "start_time": "2023-04-08T04:38:19.247Z"
   },
   {
    "duration": 143,
    "start_time": "2023-04-08T04:38:22.491Z"
   },
   {
    "duration": 58,
    "start_time": "2023-04-08T04:38:22.635Z"
   },
   {
    "duration": 10,
    "start_time": "2023-04-08T04:38:22.701Z"
   },
   {
    "duration": 57,
    "start_time": "2023-04-08T04:38:22.713Z"
   },
   {
    "duration": 71,
    "start_time": "2023-04-08T04:38:22.771Z"
   },
   {
    "duration": 153,
    "start_time": "2023-04-08T04:38:22.844Z"
   },
   {
    "duration": 140,
    "start_time": "2023-04-08T04:38:22.999Z"
   },
   {
    "duration": 123,
    "start_time": "2023-04-08T04:38:23.140Z"
   },
   {
    "duration": 141,
    "start_time": "2023-04-08T04:38:23.265Z"
   },
   {
    "duration": 119,
    "start_time": "2023-04-08T04:38:23.407Z"
   },
   {
    "duration": 176,
    "start_time": "2023-04-08T04:38:23.528Z"
   },
   {
    "duration": 126,
    "start_time": "2023-04-08T04:38:23.706Z"
   },
   {
    "duration": 7,
    "start_time": "2023-04-08T04:38:23.834Z"
   },
   {
    "duration": 131,
    "start_time": "2023-04-08T04:38:23.842Z"
   },
   {
    "duration": 13,
    "start_time": "2023-04-08T04:38:23.974Z"
   },
   {
    "duration": 27,
    "start_time": "2023-04-08T04:38:23.988Z"
   },
   {
    "duration": 121,
    "start_time": "2023-04-08T04:38:24.017Z"
   },
   {
    "duration": 10,
    "start_time": "2023-04-08T04:38:24.140Z"
   },
   {
    "duration": 11,
    "start_time": "2023-04-08T04:38:24.151Z"
   },
   {
    "duration": 49,
    "start_time": "2023-04-08T04:42:35.799Z"
   },
   {
    "duration": 6,
    "start_time": "2023-04-08T04:42:48.906Z"
   },
   {
    "duration": 8,
    "start_time": "2023-04-08T04:42:53.292Z"
   },
   {
    "duration": 3244,
    "start_time": "2023-04-08T05:38:50.272Z"
   },
   {
    "duration": 141,
    "start_time": "2023-04-08T05:38:53.518Z"
   },
   {
    "duration": 47,
    "start_time": "2023-04-08T05:38:53.660Z"
   },
   {
    "duration": 9,
    "start_time": "2023-04-08T05:38:53.709Z"
   },
   {
    "duration": 79,
    "start_time": "2023-04-08T05:38:53.719Z"
   },
   {
    "duration": 77,
    "start_time": "2023-04-08T05:38:53.800Z"
   },
   {
    "duration": 109,
    "start_time": "2023-04-08T05:38:53.879Z"
   },
   {
    "duration": 130,
    "start_time": "2023-04-08T05:38:53.990Z"
   },
   {
    "duration": 125,
    "start_time": "2023-04-08T05:38:54.123Z"
   },
   {
    "duration": 144,
    "start_time": "2023-04-08T05:38:54.250Z"
   },
   {
    "duration": 116,
    "start_time": "2023-04-08T05:38:54.396Z"
   },
   {
    "duration": 126,
    "start_time": "2023-04-08T05:38:54.514Z"
   },
   {
    "duration": 118,
    "start_time": "2023-04-08T05:38:54.642Z"
   },
   {
    "duration": 14,
    "start_time": "2023-04-08T05:38:54.762Z"
   },
   {
    "duration": 110,
    "start_time": "2023-04-08T05:38:54.777Z"
   },
   {
    "duration": 7,
    "start_time": "2023-04-08T05:38:54.889Z"
   },
   {
    "duration": 23,
    "start_time": "2023-04-08T05:38:54.898Z"
   },
   {
    "duration": 99,
    "start_time": "2023-04-08T05:38:54.922Z"
   },
   {
    "duration": 9,
    "start_time": "2023-04-08T05:38:55.022Z"
   },
   {
    "duration": 18,
    "start_time": "2023-04-08T05:38:55.032Z"
   },
   {
    "duration": 24,
    "start_time": "2023-04-08T05:38:55.051Z"
   },
   {
    "duration": 47,
    "start_time": "2023-04-08T17:44:08.770Z"
   },
   {
    "duration": 3124,
    "start_time": "2023-04-08T17:44:21.439Z"
   },
   {
    "duration": 134,
    "start_time": "2023-04-08T17:44:24.565Z"
   },
   {
    "duration": 54,
    "start_time": "2023-04-08T17:44:24.700Z"
   },
   {
    "duration": 11,
    "start_time": "2023-04-08T17:44:24.757Z"
   },
   {
    "duration": 74,
    "start_time": "2023-04-08T17:44:24.771Z"
   },
   {
    "duration": 59,
    "start_time": "2023-04-08T17:44:24.847Z"
   },
   {
    "duration": 111,
    "start_time": "2023-04-08T17:44:24.908Z"
   },
   {
    "duration": 106,
    "start_time": "2023-04-08T17:44:25.020Z"
   },
   {
    "duration": 102,
    "start_time": "2023-04-08T17:44:25.127Z"
   },
   {
    "duration": 123,
    "start_time": "2023-04-08T17:44:25.231Z"
   },
   {
    "duration": 105,
    "start_time": "2023-04-08T17:44:25.355Z"
   },
   {
    "duration": 111,
    "start_time": "2023-04-08T17:44:25.461Z"
   },
   {
    "duration": 116,
    "start_time": "2023-04-08T17:44:25.574Z"
   },
   {
    "duration": 5,
    "start_time": "2023-04-08T17:44:25.692Z"
   },
   {
    "duration": 107,
    "start_time": "2023-04-08T17:44:25.698Z"
   },
   {
    "duration": 8,
    "start_time": "2023-04-08T17:44:25.806Z"
   },
   {
    "duration": 40,
    "start_time": "2023-04-08T17:44:25.815Z"
   },
   {
    "duration": 100,
    "start_time": "2023-04-08T17:44:25.857Z"
   },
   {
    "duration": 8,
    "start_time": "2023-04-08T17:44:25.959Z"
   },
   {
    "duration": 43,
    "start_time": "2023-04-08T17:44:25.968Z"
   },
   {
    "duration": 0,
    "start_time": "2023-04-08T17:44:26.013Z"
   },
   {
    "duration": 50,
    "start_time": "2023-04-08T17:45:06.291Z"
   },
   {
    "duration": 9,
    "start_time": "2023-04-08T17:46:43.393Z"
   },
   {
    "duration": 10,
    "start_time": "2023-04-08T17:46:55.449Z"
   },
   {
    "duration": 9,
    "start_time": "2023-04-08T17:47:04.367Z"
   },
   {
    "duration": 9,
    "start_time": "2023-04-08T17:47:52.903Z"
   },
   {
    "duration": 41,
    "start_time": "2023-04-08T17:52:33.239Z"
   },
   {
    "duration": 59,
    "start_time": "2023-04-08T17:53:01.742Z"
   },
   {
    "duration": 12,
    "start_time": "2023-04-08T17:53:06.249Z"
   },
   {
    "duration": 62,
    "start_time": "2023-04-08T17:53:21.430Z"
   },
   {
    "duration": 43,
    "start_time": "2023-04-08T17:53:30.119Z"
   },
   {
    "duration": 50,
    "start_time": "2023-04-08T17:54:01.649Z"
   },
   {
    "duration": 40,
    "start_time": "2023-04-08T17:54:09.456Z"
   },
   {
    "duration": 14,
    "start_time": "2023-04-08T17:54:25.498Z"
   },
   {
    "duration": 103,
    "start_time": "2023-04-08T17:54:59.742Z"
   },
   {
    "duration": 56,
    "start_time": "2023-04-08T17:55:24.352Z"
   },
   {
    "duration": 14,
    "start_time": "2023-04-08T17:55:37.222Z"
   },
   {
    "duration": 15,
    "start_time": "2023-04-08T17:56:26.470Z"
   },
   {
    "duration": 48,
    "start_time": "2023-04-08T17:57:03.694Z"
   },
   {
    "duration": 75,
    "start_time": "2023-04-08T17:57:08.590Z"
   },
   {
    "duration": 50,
    "start_time": "2023-04-08T17:58:39.568Z"
   },
   {
    "duration": 49,
    "start_time": "2023-04-08T17:58:54.063Z"
   },
   {
    "duration": 53,
    "start_time": "2023-04-08T17:59:00.748Z"
   },
   {
    "duration": 48,
    "start_time": "2023-04-08T18:00:06.980Z"
   },
   {
    "duration": 3,
    "start_time": "2023-04-08T18:00:15.350Z"
   },
   {
    "duration": 50,
    "start_time": "2023-04-08T18:00:47.740Z"
   },
   {
    "duration": 51,
    "start_time": "2023-04-08T18:00:57.388Z"
   },
   {
    "duration": 53,
    "start_time": "2023-04-08T18:01:02.610Z"
   },
   {
    "duration": 50,
    "start_time": "2023-04-08T18:01:20.044Z"
   },
   {
    "duration": 51,
    "start_time": "2023-04-08T18:01:41.728Z"
   },
   {
    "duration": 50,
    "start_time": "2023-04-08T18:01:54.631Z"
   },
   {
    "duration": 72,
    "start_time": "2023-04-08T18:02:23.532Z"
   },
   {
    "duration": 65,
    "start_time": "2023-04-08T18:02:31.524Z"
   },
   {
    "duration": 60,
    "start_time": "2023-04-08T18:02:46.034Z"
   },
   {
    "duration": 124,
    "start_time": "2023-04-08T18:07:11.567Z"
   },
   {
    "duration": 2068,
    "start_time": "2023-04-08T18:07:31.580Z"
   },
   {
    "duration": 144,
    "start_time": "2023-04-08T18:07:33.650Z"
   },
   {
    "duration": 35,
    "start_time": "2023-04-08T18:07:33.795Z"
   },
   {
    "duration": 8,
    "start_time": "2023-04-08T18:07:33.839Z"
   },
   {
    "duration": 54,
    "start_time": "2023-04-08T18:07:33.850Z"
   },
   {
    "duration": 81,
    "start_time": "2023-04-08T18:07:33.905Z"
   },
   {
    "duration": 99,
    "start_time": "2023-04-08T18:07:33.988Z"
   },
   {
    "duration": 108,
    "start_time": "2023-04-08T18:07:34.089Z"
   },
   {
    "duration": 102,
    "start_time": "2023-04-08T18:07:34.198Z"
   },
   {
    "duration": 170,
    "start_time": "2023-04-08T18:07:34.301Z"
   },
   {
    "duration": 115,
    "start_time": "2023-04-08T18:07:34.472Z"
   },
   {
    "duration": 115,
    "start_time": "2023-04-08T18:07:34.589Z"
   },
   {
    "duration": 127,
    "start_time": "2023-04-08T18:07:34.706Z"
   },
   {
    "duration": 7,
    "start_time": "2023-04-08T18:07:34.839Z"
   },
   {
    "duration": 106,
    "start_time": "2023-04-08T18:07:34.848Z"
   },
   {
    "duration": 8,
    "start_time": "2023-04-08T18:07:34.955Z"
   },
   {
    "duration": 16,
    "start_time": "2023-04-08T18:07:34.964Z"
   },
   {
    "duration": 116,
    "start_time": "2023-04-08T18:07:34.981Z"
   },
   {
    "duration": 7,
    "start_time": "2023-04-08T18:07:35.099Z"
   },
   {
    "duration": 10,
    "start_time": "2023-04-08T18:07:35.107Z"
   },
   {
    "duration": 78,
    "start_time": "2023-04-08T18:07:35.119Z"
   },
   {
    "duration": 8,
    "start_time": "2023-04-08T18:07:35.198Z"
   },
   {
    "duration": 7,
    "start_time": "2023-04-08T18:08:10.659Z"
   },
   {
    "duration": 5,
    "start_time": "2023-04-08T18:08:34.058Z"
   },
   {
    "duration": 8,
    "start_time": "2023-04-08T18:09:18.521Z"
   },
   {
    "duration": 5,
    "start_time": "2023-04-08T18:10:17.795Z"
   },
   {
    "duration": 9,
    "start_time": "2023-04-08T18:18:40.456Z"
   },
   {
    "duration": 7,
    "start_time": "2023-04-08T18:18:52.728Z"
   },
   {
    "duration": 8,
    "start_time": "2023-04-08T18:19:25.145Z"
   },
   {
    "duration": 2,
    "start_time": "2023-04-08T18:24:40.911Z"
   },
   {
    "duration": 3220,
    "start_time": "2023-04-09T03:48:39.702Z"
   },
   {
    "duration": 144,
    "start_time": "2023-04-09T03:48:42.925Z"
   },
   {
    "duration": 41,
    "start_time": "2023-04-09T03:48:43.071Z"
   },
   {
    "duration": 22,
    "start_time": "2023-04-09T03:48:43.114Z"
   },
   {
    "duration": 51,
    "start_time": "2023-04-09T03:48:43.137Z"
   },
   {
    "duration": 82,
    "start_time": "2023-04-09T03:48:43.189Z"
   },
   {
    "duration": 108,
    "start_time": "2023-04-09T03:48:43.272Z"
   },
   {
    "duration": 113,
    "start_time": "2023-04-09T03:48:43.381Z"
   },
   {
    "duration": 101,
    "start_time": "2023-04-09T03:48:43.495Z"
   },
   {
    "duration": 116,
    "start_time": "2023-04-09T03:48:43.599Z"
   },
   {
    "duration": 107,
    "start_time": "2023-04-09T03:48:43.716Z"
   },
   {
    "duration": 119,
    "start_time": "2023-04-09T03:48:43.825Z"
   },
   {
    "duration": 120,
    "start_time": "2023-04-09T03:48:43.945Z"
   },
   {
    "duration": 7,
    "start_time": "2023-04-09T03:48:44.067Z"
   },
   {
    "duration": 106,
    "start_time": "2023-04-09T03:48:44.076Z"
   },
   {
    "duration": 8,
    "start_time": "2023-04-09T03:48:44.183Z"
   },
   {
    "duration": 18,
    "start_time": "2023-04-09T03:48:44.192Z"
   },
   {
    "duration": 165,
    "start_time": "2023-04-09T03:48:44.211Z"
   },
   {
    "duration": 8,
    "start_time": "2023-04-09T03:48:44.377Z"
   },
   {
    "duration": 9,
    "start_time": "2023-04-09T03:48:44.387Z"
   },
   {
    "duration": 5,
    "start_time": "2023-04-09T03:48:44.397Z"
   },
   {
    "duration": 17,
    "start_time": "2023-04-09T03:48:44.403Z"
   },
   {
    "duration": 34,
    "start_time": "2023-04-09T03:49:11.253Z"
   },
   {
    "duration": 73,
    "start_time": "2023-04-09T03:55:15.157Z"
   },
   {
    "duration": 14,
    "start_time": "2023-04-09T03:55:28.498Z"
   },
   {
    "duration": 13,
    "start_time": "2023-04-09T03:55:59.427Z"
   },
   {
    "duration": 19,
    "start_time": "2023-04-09T03:57:38.138Z"
   },
   {
    "duration": 2557,
    "start_time": "2023-04-09T03:57:47.176Z"
   },
   {
    "duration": 157,
    "start_time": "2023-04-09T03:57:49.735Z"
   },
   {
    "duration": 54,
    "start_time": "2023-04-09T03:57:49.894Z"
   },
   {
    "duration": 8,
    "start_time": "2023-04-09T03:57:49.950Z"
   },
   {
    "duration": 75,
    "start_time": "2023-04-09T03:57:49.960Z"
   },
   {
    "duration": 72,
    "start_time": "2023-04-09T03:57:50.037Z"
   },
   {
    "duration": 125,
    "start_time": "2023-04-09T03:57:50.111Z"
   },
   {
    "duration": 127,
    "start_time": "2023-04-09T03:57:50.237Z"
   },
   {
    "duration": 119,
    "start_time": "2023-04-09T03:57:50.366Z"
   },
   {
    "duration": 139,
    "start_time": "2023-04-09T03:57:50.487Z"
   },
   {
    "duration": 185,
    "start_time": "2023-04-09T03:57:50.627Z"
   },
   {
    "duration": 145,
    "start_time": "2023-04-09T03:57:50.813Z"
   },
   {
    "duration": 147,
    "start_time": "2023-04-09T03:57:50.960Z"
   },
   {
    "duration": 7,
    "start_time": "2023-04-09T03:57:51.110Z"
   },
   {
    "duration": 129,
    "start_time": "2023-04-09T03:57:51.119Z"
   },
   {
    "duration": 8,
    "start_time": "2023-04-09T03:57:51.249Z"
   },
   {
    "duration": 25,
    "start_time": "2023-04-09T03:57:51.258Z"
   },
   {
    "duration": 159,
    "start_time": "2023-04-09T03:57:51.285Z"
   },
   {
    "duration": 8,
    "start_time": "2023-04-09T03:57:51.446Z"
   },
   {
    "duration": 16,
    "start_time": "2023-04-09T03:57:51.456Z"
   },
   {
    "duration": 10,
    "start_time": "2023-04-09T03:57:51.473Z"
   },
   {
    "duration": 35,
    "start_time": "2023-04-09T03:57:51.485Z"
   },
   {
    "duration": 12,
    "start_time": "2023-04-09T04:02:05.832Z"
   },
   {
    "duration": 2384,
    "start_time": "2023-04-09T16:27:34.587Z"
   },
   {
    "duration": 262,
    "start_time": "2023-04-09T16:27:36.973Z"
   },
   {
    "duration": 44,
    "start_time": "2023-04-09T16:27:37.237Z"
   },
   {
    "duration": 9,
    "start_time": "2023-04-09T16:27:37.283Z"
   },
   {
    "duration": 90,
    "start_time": "2023-04-09T16:27:37.295Z"
   },
   {
    "duration": 73,
    "start_time": "2023-04-09T16:27:37.387Z"
   },
   {
    "duration": 106,
    "start_time": "2023-04-09T16:27:37.462Z"
   },
   {
    "duration": 118,
    "start_time": "2023-04-09T16:27:37.570Z"
   },
   {
    "duration": 115,
    "start_time": "2023-04-09T16:27:37.689Z"
   },
   {
    "duration": 151,
    "start_time": "2023-04-09T16:27:37.807Z"
   },
   {
    "duration": 114,
    "start_time": "2023-04-09T16:27:37.959Z"
   },
   {
    "duration": 127,
    "start_time": "2023-04-09T16:27:38.075Z"
   },
   {
    "duration": 136,
    "start_time": "2023-04-09T16:27:38.204Z"
   },
   {
    "duration": 8,
    "start_time": "2023-04-09T16:27:38.343Z"
   },
   {
    "duration": 122,
    "start_time": "2023-04-09T16:27:38.353Z"
   },
   {
    "duration": 7,
    "start_time": "2023-04-09T16:27:38.477Z"
   },
   {
    "duration": 23,
    "start_time": "2023-04-09T16:27:38.486Z"
   },
   {
    "duration": 129,
    "start_time": "2023-04-09T16:27:38.511Z"
   },
   {
    "duration": 7,
    "start_time": "2023-04-09T16:27:38.642Z"
   },
   {
    "duration": 15,
    "start_time": "2023-04-09T16:27:38.651Z"
   },
   {
    "duration": 8,
    "start_time": "2023-04-09T16:27:38.667Z"
   },
   {
    "duration": 35,
    "start_time": "2023-04-09T16:27:38.677Z"
   },
   {
    "duration": 39,
    "start_time": "2023-04-09T16:32:41.719Z"
   },
   {
    "duration": 18,
    "start_time": "2023-04-09T17:10:04.231Z"
   },
   {
    "duration": 21,
    "start_time": "2023-04-09T17:10:23.335Z"
   },
   {
    "duration": 3271,
    "start_time": "2023-04-09T17:10:31.622Z"
   },
   {
    "duration": 1656,
    "start_time": "2023-04-09T17:13:58.033Z"
   },
   {
    "duration": 83,
    "start_time": "2023-04-09T17:18:08.798Z"
   },
   {
    "duration": 5,
    "start_time": "2023-04-09T17:18:17.684Z"
   },
   {
    "duration": 277,
    "start_time": "2023-04-09T17:18:23.764Z"
   },
   {
    "duration": 262,
    "start_time": "2023-04-09T17:18:42.910Z"
   },
   {
    "duration": 243,
    "start_time": "2023-04-09T17:28:02.905Z"
   },
   {
    "duration": 260,
    "start_time": "2023-04-09T17:28:19.154Z"
   },
   {
    "duration": 262,
    "start_time": "2023-04-09T17:28:31.988Z"
   },
   {
    "duration": 2577,
    "start_time": "2023-04-09T17:34:28.435Z"
   },
   {
    "duration": 263,
    "start_time": "2023-04-09T17:34:31.014Z"
   },
   {
    "duration": 41,
    "start_time": "2023-04-09T17:34:31.279Z"
   },
   {
    "duration": 13,
    "start_time": "2023-04-09T17:34:31.334Z"
   },
   {
    "duration": 66,
    "start_time": "2023-04-09T17:34:31.348Z"
   },
   {
    "duration": 76,
    "start_time": "2023-04-09T17:34:31.415Z"
   },
   {
    "duration": 111,
    "start_time": "2023-04-09T17:34:31.493Z"
   },
   {
    "duration": 134,
    "start_time": "2023-04-09T17:34:31.606Z"
   },
   {
    "duration": 119,
    "start_time": "2023-04-09T17:34:31.742Z"
   },
   {
    "duration": 130,
    "start_time": "2023-04-09T17:34:31.864Z"
   },
   {
    "duration": 114,
    "start_time": "2023-04-09T17:34:31.996Z"
   },
   {
    "duration": 129,
    "start_time": "2023-04-09T17:34:32.112Z"
   },
   {
    "duration": 129,
    "start_time": "2023-04-09T17:34:32.242Z"
   },
   {
    "duration": 7,
    "start_time": "2023-04-09T17:34:32.373Z"
   },
   {
    "duration": 116,
    "start_time": "2023-04-09T17:34:32.382Z"
   },
   {
    "duration": 8,
    "start_time": "2023-04-09T17:34:32.500Z"
   },
   {
    "duration": 34,
    "start_time": "2023-04-09T17:34:32.510Z"
   },
   {
    "duration": 111,
    "start_time": "2023-04-09T17:34:32.546Z"
   },
   {
    "duration": 8,
    "start_time": "2023-04-09T17:34:32.658Z"
   },
   {
    "duration": 13,
    "start_time": "2023-04-09T17:34:32.668Z"
   },
   {
    "duration": 2,
    "start_time": "2023-04-09T17:34:32.682Z"
   },
   {
    "duration": 277,
    "start_time": "2023-04-09T17:34:32.686Z"
   },
   {
    "duration": 3426,
    "start_time": "2023-04-10T04:57:08.593Z"
   },
   {
    "duration": 163,
    "start_time": "2023-04-10T04:57:12.021Z"
   },
   {
    "duration": 52,
    "start_time": "2023-04-10T04:57:12.186Z"
   },
   {
    "duration": 11,
    "start_time": "2023-04-10T04:57:12.240Z"
   },
   {
    "duration": 85,
    "start_time": "2023-04-10T04:57:12.253Z"
   },
   {
    "duration": 0,
    "start_time": "2023-04-10T04:57:12.341Z"
   },
   {
    "duration": 0,
    "start_time": "2023-04-10T04:57:12.342Z"
   },
   {
    "duration": 0,
    "start_time": "2023-04-10T04:57:12.344Z"
   },
   {
    "duration": 1,
    "start_time": "2023-04-10T04:57:12.345Z"
   },
   {
    "duration": 0,
    "start_time": "2023-04-10T04:57:12.347Z"
   },
   {
    "duration": 0,
    "start_time": "2023-04-10T04:57:12.349Z"
   },
   {
    "duration": 0,
    "start_time": "2023-04-10T04:57:12.350Z"
   },
   {
    "duration": 0,
    "start_time": "2023-04-10T04:57:12.351Z"
   },
   {
    "duration": 0,
    "start_time": "2023-04-10T04:57:12.353Z"
   },
   {
    "duration": 0,
    "start_time": "2023-04-10T04:57:12.354Z"
   },
   {
    "duration": 0,
    "start_time": "2023-04-10T04:57:12.355Z"
   },
   {
    "duration": 0,
    "start_time": "2023-04-10T04:57:12.356Z"
   },
   {
    "duration": 0,
    "start_time": "2023-04-10T04:57:12.357Z"
   },
   {
    "duration": 0,
    "start_time": "2023-04-10T04:57:12.358Z"
   },
   {
    "duration": 0,
    "start_time": "2023-04-10T04:57:12.359Z"
   },
   {
    "duration": 0,
    "start_time": "2023-04-10T04:57:12.361Z"
   },
   {
    "duration": 0,
    "start_time": "2023-04-10T04:57:12.362Z"
   },
   {
    "duration": 80,
    "start_time": "2023-04-10T04:57:34.129Z"
   },
   {
    "duration": 11,
    "start_time": "2023-04-10T05:05:40.839Z"
   },
   {
    "duration": 9,
    "start_time": "2023-04-10T05:10:04.326Z"
   },
   {
    "duration": 13,
    "start_time": "2023-04-10T05:11:39.079Z"
   },
   {
    "duration": 11,
    "start_time": "2023-04-10T05:11:48.113Z"
   },
   {
    "duration": 10,
    "start_time": "2023-04-10T05:12:07.762Z"
   },
   {
    "duration": 24,
    "start_time": "2023-04-10T05:20:19.565Z"
   },
   {
    "duration": 19,
    "start_time": "2023-04-10T05:20:27.140Z"
   },
   {
    "duration": 26,
    "start_time": "2023-04-10T05:20:50.201Z"
   },
   {
    "duration": 356,
    "start_time": "2023-04-10T05:23:20.948Z"
   },
   {
    "duration": 327,
    "start_time": "2023-04-10T05:23:31.922Z"
   },
   {
    "duration": 360,
    "start_time": "2023-04-10T05:25:12.765Z"
   },
   {
    "duration": 18,
    "start_time": "2023-04-10T05:32:51.944Z"
   },
   {
    "duration": 19,
    "start_time": "2023-04-10T05:33:41.551Z"
   },
   {
    "duration": 84,
    "start_time": "2023-04-10T05:35:26.287Z"
   },
   {
    "duration": 123,
    "start_time": "2023-04-10T05:36:22.582Z"
   },
   {
    "duration": 18,
    "start_time": "2023-04-10T05:36:34.726Z"
   },
   {
    "duration": 90,
    "start_time": "2023-04-10T05:37:23.957Z"
   },
   {
    "duration": 175,
    "start_time": "2023-04-10T05:37:34.389Z"
   },
   {
    "duration": 83,
    "start_time": "2023-04-10T05:37:41.990Z"
   },
   {
    "duration": 92,
    "start_time": "2023-04-10T05:37:45.877Z"
   },
   {
    "duration": 80,
    "start_time": "2023-04-10T05:37:55.973Z"
   },
   {
    "duration": 104,
    "start_time": "2023-04-10T06:36:52.212Z"
   },
   {
    "duration": 20,
    "start_time": "2023-04-10T06:36:59.261Z"
   },
   {
    "duration": 24,
    "start_time": "2023-04-10T06:52:42.908Z"
   },
   {
    "duration": 34,
    "start_time": "2023-04-10T07:33:11.460Z"
   },
   {
    "duration": 91,
    "start_time": "2023-04-10T07:43:07.144Z"
   },
   {
    "duration": 98,
    "start_time": "2023-04-10T07:43:56.513Z"
   },
   {
    "duration": 2892,
    "start_time": "2023-04-10T07:45:13.970Z"
   },
   {
    "duration": 155,
    "start_time": "2023-04-10T07:45:16.865Z"
   },
   {
    "duration": 44,
    "start_time": "2023-04-10T07:45:17.023Z"
   },
   {
    "duration": 12,
    "start_time": "2023-04-10T07:45:17.084Z"
   },
   {
    "duration": 94,
    "start_time": "2023-04-10T07:45:17.099Z"
   },
   {
    "duration": 96,
    "start_time": "2023-04-10T07:45:17.196Z"
   },
   {
    "duration": 114,
    "start_time": "2023-04-10T07:45:17.295Z"
   },
   {
    "duration": 128,
    "start_time": "2023-04-10T07:45:17.412Z"
   },
   {
    "duration": 167,
    "start_time": "2023-04-10T07:45:17.541Z"
   },
   {
    "duration": 174,
    "start_time": "2023-04-10T07:45:17.709Z"
   },
   {
    "duration": 136,
    "start_time": "2023-04-10T07:45:17.885Z"
   },
   {
    "duration": 130,
    "start_time": "2023-04-10T07:45:18.023Z"
   },
   {
    "duration": 185,
    "start_time": "2023-04-10T07:45:18.155Z"
   },
   {
    "duration": 10,
    "start_time": "2023-04-10T07:45:18.343Z"
   },
   {
    "duration": 189,
    "start_time": "2023-04-10T07:45:18.354Z"
   },
   {
    "duration": 10,
    "start_time": "2023-04-10T07:45:18.545Z"
   },
   {
    "duration": 44,
    "start_time": "2023-04-10T07:45:18.556Z"
   },
   {
    "duration": 143,
    "start_time": "2023-04-10T07:45:18.601Z"
   },
   {
    "duration": 13,
    "start_time": "2023-04-10T07:45:18.746Z"
   },
   {
    "duration": 37,
    "start_time": "2023-04-10T07:45:18.761Z"
   },
   {
    "duration": 0,
    "start_time": "2023-04-10T07:45:18.799Z"
   },
   {
    "duration": 0,
    "start_time": "2023-04-10T07:45:18.801Z"
   },
   {
    "duration": 13,
    "start_time": "2023-04-10T07:45:48.675Z"
   },
   {
    "duration": 10,
    "start_time": "2023-04-10T07:45:52.329Z"
   },
   {
    "duration": 8,
    "start_time": "2023-04-10T07:45:59.225Z"
   },
   {
    "duration": 13,
    "start_time": "2023-04-10T07:46:07.156Z"
   },
   {
    "duration": 17,
    "start_time": "2023-04-10T07:53:51.487Z"
   },
   {
    "duration": 14,
    "start_time": "2023-04-10T07:55:13.823Z"
   },
   {
    "duration": 18,
    "start_time": "2023-04-10T07:55:17.911Z"
   },
   {
    "duration": 9,
    "start_time": "2023-04-10T07:57:54.447Z"
   },
   {
    "duration": 9,
    "start_time": "2023-04-10T07:58:05.767Z"
   },
   {
    "duration": 23,
    "start_time": "2023-04-10T07:58:57.800Z"
   },
   {
    "duration": 22,
    "start_time": "2023-04-10T07:59:33.317Z"
   },
   {
    "duration": 3,
    "start_time": "2023-04-10T08:07:25.122Z"
   },
   {
    "duration": 832,
    "start_time": "2023-04-10T08:09:00.701Z"
   },
   {
    "duration": 2577,
    "start_time": "2023-04-10T08:10:50.618Z"
   },
   {
    "duration": 44,
    "start_time": "2023-04-10T08:13:35.717Z"
   },
   {
    "duration": 70,
    "start_time": "2023-04-10T08:13:42.612Z"
   },
   {
    "duration": 54,
    "start_time": "2023-04-10T08:15:10.369Z"
   },
   {
    "duration": 164,
    "start_time": "2023-04-10T08:15:28.440Z"
   },
   {
    "duration": 65,
    "start_time": "2023-04-10T08:15:32.253Z"
   },
   {
    "duration": 2888,
    "start_time": "2023-04-10T08:16:00.667Z"
   },
   {
    "duration": 220,
    "start_time": "2023-04-10T08:16:03.557Z"
   },
   {
    "duration": 72,
    "start_time": "2023-04-10T08:16:03.782Z"
   },
   {
    "duration": 34,
    "start_time": "2023-04-10T08:16:03.857Z"
   },
   {
    "duration": 107,
    "start_time": "2023-04-10T08:16:03.895Z"
   },
   {
    "duration": 105,
    "start_time": "2023-04-10T08:16:04.005Z"
   },
   {
    "duration": 155,
    "start_time": "2023-04-10T08:16:04.112Z"
   },
   {
    "duration": 171,
    "start_time": "2023-04-10T08:16:04.268Z"
   },
   {
    "duration": 304,
    "start_time": "2023-04-10T08:16:04.441Z"
   },
   {
    "duration": 181,
    "start_time": "2023-04-10T08:16:04.748Z"
   },
   {
    "duration": 172,
    "start_time": "2023-04-10T08:16:04.931Z"
   },
   {
    "duration": 183,
    "start_time": "2023-04-10T08:16:05.106Z"
   },
   {
    "duration": 185,
    "start_time": "2023-04-10T08:16:05.292Z"
   },
   {
    "duration": 12,
    "start_time": "2023-04-10T08:16:05.482Z"
   },
   {
    "duration": 170,
    "start_time": "2023-04-10T08:16:05.497Z"
   },
   {
    "duration": 20,
    "start_time": "2023-04-10T08:16:05.670Z"
   },
   {
    "duration": 67,
    "start_time": "2023-04-10T08:16:05.693Z"
   },
   {
    "duration": 197,
    "start_time": "2023-04-10T08:16:05.762Z"
   },
   {
    "duration": 11,
    "start_time": "2023-04-10T08:16:05.962Z"
   },
   {
    "duration": 108,
    "start_time": "2023-04-10T08:16:05.975Z"
   },
   {
    "duration": 160,
    "start_time": "2023-04-10T08:16:06.085Z"
   },
   {
    "duration": 132,
    "start_time": "2023-04-10T08:16:06.248Z"
   },
   {
    "duration": 0,
    "start_time": "2023-04-10T08:16:06.383Z"
   },
   {
    "duration": 3249,
    "start_time": "2023-04-10T08:22:12.300Z"
   },
   {
    "duration": 158,
    "start_time": "2023-04-10T08:22:15.551Z"
   },
   {
    "duration": 49,
    "start_time": "2023-04-10T08:22:15.711Z"
   },
   {
    "duration": 25,
    "start_time": "2023-04-10T08:22:15.762Z"
   },
   {
    "duration": 72,
    "start_time": "2023-04-10T08:22:15.788Z"
   },
   {
    "duration": 85,
    "start_time": "2023-04-10T08:22:15.862Z"
   },
   {
    "duration": 116,
    "start_time": "2023-04-10T08:22:15.949Z"
   },
   {
    "duration": 139,
    "start_time": "2023-04-10T08:22:16.066Z"
   },
   {
    "duration": 121,
    "start_time": "2023-04-10T08:22:16.207Z"
   },
   {
    "duration": 131,
    "start_time": "2023-04-10T08:22:16.331Z"
   },
   {
    "duration": 151,
    "start_time": "2023-04-10T08:22:16.465Z"
   },
   {
    "duration": 141,
    "start_time": "2023-04-10T08:22:16.618Z"
   },
   {
    "duration": 157,
    "start_time": "2023-04-10T08:22:16.762Z"
   },
   {
    "duration": 7,
    "start_time": "2023-04-10T08:22:16.922Z"
   },
   {
    "duration": 161,
    "start_time": "2023-04-10T08:22:16.931Z"
   },
   {
    "duration": 11,
    "start_time": "2023-04-10T08:22:17.094Z"
   },
   {
    "duration": 24,
    "start_time": "2023-04-10T08:22:17.107Z"
   },
   {
    "duration": 128,
    "start_time": "2023-04-10T08:22:17.133Z"
   },
   {
    "duration": 22,
    "start_time": "2023-04-10T08:22:17.263Z"
   },
   {
    "duration": 17,
    "start_time": "2023-04-10T08:22:17.287Z"
   },
   {
    "duration": 8,
    "start_time": "2023-04-10T08:22:17.306Z"
   },
   {
    "duration": 160,
    "start_time": "2023-04-10T08:22:17.316Z"
   },
   {
    "duration": 0,
    "start_time": "2023-04-10T08:22:17.484Z"
   },
   {
    "duration": 2556,
    "start_time": "2023-04-10T08:32:08.643Z"
   },
   {
    "duration": 337,
    "start_time": "2023-04-10T08:34:20.601Z"
   },
   {
    "duration": 3611,
    "start_time": "2023-04-10T08:34:25.003Z"
   },
   {
    "duration": 9,
    "start_time": "2023-04-10T11:03:41.767Z"
   },
   {
    "duration": 77,
    "start_time": "2023-04-10T11:04:03.742Z"
   },
   {
    "duration": 9,
    "start_time": "2023-04-10T11:05:43.078Z"
   },
   {
    "duration": 10,
    "start_time": "2023-04-10T11:05:55.469Z"
   },
   {
    "duration": 20,
    "start_time": "2023-04-10T11:06:04.685Z"
   },
   {
    "duration": 9,
    "start_time": "2023-04-10T11:06:09.070Z"
   },
   {
    "duration": 8,
    "start_time": "2023-04-10T11:06:17.598Z"
   },
   {
    "duration": 2795,
    "start_time": "2023-04-10T11:06:42.627Z"
   },
   {
    "duration": 174,
    "start_time": "2023-04-10T11:06:45.424Z"
   },
   {
    "duration": 41,
    "start_time": "2023-04-10T11:06:45.599Z"
   },
   {
    "duration": 8,
    "start_time": "2023-04-10T11:06:45.643Z"
   },
   {
    "duration": 98,
    "start_time": "2023-04-10T11:06:45.653Z"
   },
   {
    "duration": 90,
    "start_time": "2023-04-10T11:06:45.753Z"
   },
   {
    "duration": 141,
    "start_time": "2023-04-10T11:06:45.845Z"
   },
   {
    "duration": 174,
    "start_time": "2023-04-10T11:06:45.987Z"
   },
   {
    "duration": 164,
    "start_time": "2023-04-10T11:06:46.163Z"
   },
   {
    "duration": 143,
    "start_time": "2023-04-10T11:06:46.330Z"
   },
   {
    "duration": 132,
    "start_time": "2023-04-10T11:06:46.475Z"
   },
   {
    "duration": 139,
    "start_time": "2023-04-10T11:06:46.609Z"
   },
   {
    "duration": 151,
    "start_time": "2023-04-10T11:06:46.750Z"
   },
   {
    "duration": 7,
    "start_time": "2023-04-10T11:06:46.903Z"
   },
   {
    "duration": 127,
    "start_time": "2023-04-10T11:06:46.912Z"
   },
   {
    "duration": 8,
    "start_time": "2023-04-10T11:06:47.042Z"
   },
   {
    "duration": 23,
    "start_time": "2023-04-10T11:06:47.052Z"
   },
   {
    "duration": 222,
    "start_time": "2023-04-10T11:06:47.087Z"
   },
   {
    "duration": 8,
    "start_time": "2023-04-10T11:06:47.311Z"
   },
   {
    "duration": 24,
    "start_time": "2023-04-10T11:06:47.320Z"
   },
   {
    "duration": 32,
    "start_time": "2023-04-10T11:06:47.346Z"
   },
   {
    "duration": 290,
    "start_time": "2023-04-10T11:06:47.381Z"
   },
   {
    "duration": 3621,
    "start_time": "2023-04-10T11:06:47.673Z"
   },
   {
    "duration": 10,
    "start_time": "2023-04-10T11:07:38.913Z"
   },
   {
    "duration": 13,
    "start_time": "2023-04-10T11:07:54.030Z"
   },
   {
    "duration": 20,
    "start_time": "2023-04-10T11:07:58.496Z"
   },
   {
    "duration": 15,
    "start_time": "2023-04-10T11:08:06.844Z"
   },
   {
    "duration": 17,
    "start_time": "2023-04-10T11:08:09.822Z"
   },
   {
    "duration": 14,
    "start_time": "2023-04-10T11:08:12.654Z"
   },
   {
    "duration": 5,
    "start_time": "2023-04-10T11:55:14.566Z"
   },
   {
    "duration": 7,
    "start_time": "2023-04-10T11:55:44.285Z"
   },
   {
    "duration": 7,
    "start_time": "2023-04-10T11:56:45.061Z"
   },
   {
    "duration": 7,
    "start_time": "2023-04-10T11:56:51.485Z"
   },
   {
    "duration": 2328,
    "start_time": "2023-04-10T11:59:25.657Z"
   },
   {
    "duration": 149,
    "start_time": "2023-04-10T11:59:27.987Z"
   },
   {
    "duration": 49,
    "start_time": "2023-04-10T11:59:28.138Z"
   },
   {
    "duration": 13,
    "start_time": "2023-04-10T11:59:28.189Z"
   },
   {
    "duration": 79,
    "start_time": "2023-04-10T11:59:28.204Z"
   },
   {
    "duration": 70,
    "start_time": "2023-04-10T11:59:28.284Z"
   },
   {
    "duration": 112,
    "start_time": "2023-04-10T11:59:28.356Z"
   },
   {
    "duration": 130,
    "start_time": "2023-04-10T11:59:28.470Z"
   },
   {
    "duration": 116,
    "start_time": "2023-04-10T11:59:28.602Z"
   },
   {
    "duration": 128,
    "start_time": "2023-04-10T11:59:28.721Z"
   },
   {
    "duration": 189,
    "start_time": "2023-04-10T11:59:28.850Z"
   },
   {
    "duration": 120,
    "start_time": "2023-04-10T11:59:29.040Z"
   },
   {
    "duration": 131,
    "start_time": "2023-04-10T11:59:29.161Z"
   },
   {
    "duration": 7,
    "start_time": "2023-04-10T11:59:29.294Z"
   },
   {
    "duration": 119,
    "start_time": "2023-04-10T11:59:29.302Z"
   },
   {
    "duration": 7,
    "start_time": "2023-04-10T11:59:29.423Z"
   },
   {
    "duration": 21,
    "start_time": "2023-04-10T11:59:29.432Z"
   },
   {
    "duration": 118,
    "start_time": "2023-04-10T11:59:29.455Z"
   },
   {
    "duration": 15,
    "start_time": "2023-04-10T11:59:29.575Z"
   },
   {
    "duration": 14,
    "start_time": "2023-04-10T11:59:29.592Z"
   },
   {
    "duration": 12,
    "start_time": "2023-04-10T11:59:29.607Z"
   },
   {
    "duration": 271,
    "start_time": "2023-04-10T11:59:29.621Z"
   },
   {
    "duration": 3166,
    "start_time": "2023-04-10T11:59:29.894Z"
   },
   {
    "duration": 5,
    "start_time": "2023-04-10T11:59:33.062Z"
   },
   {
    "duration": 3196,
    "start_time": "2023-04-10T12:00:06.717Z"
   },
   {
    "duration": 165,
    "start_time": "2023-04-10T12:00:09.915Z"
   },
   {
    "duration": 44,
    "start_time": "2023-04-10T12:00:10.081Z"
   },
   {
    "duration": 9,
    "start_time": "2023-04-10T12:00:10.126Z"
   },
   {
    "duration": 84,
    "start_time": "2023-04-10T12:00:10.136Z"
   },
   {
    "duration": 76,
    "start_time": "2023-04-10T12:00:10.222Z"
   },
   {
    "duration": 111,
    "start_time": "2023-04-10T12:00:10.300Z"
   },
   {
    "duration": 123,
    "start_time": "2023-04-10T12:00:10.413Z"
   },
   {
    "duration": 125,
    "start_time": "2023-04-10T12:00:10.538Z"
   },
   {
    "duration": 153,
    "start_time": "2023-04-10T12:00:10.666Z"
   },
   {
    "duration": 137,
    "start_time": "2023-04-10T12:00:10.820Z"
   },
   {
    "duration": 153,
    "start_time": "2023-04-10T12:00:10.958Z"
   },
   {
    "duration": 133,
    "start_time": "2023-04-10T12:00:11.113Z"
   },
   {
    "duration": 7,
    "start_time": "2023-04-10T12:00:11.247Z"
   },
   {
    "duration": 147,
    "start_time": "2023-04-10T12:00:11.256Z"
   },
   {
    "duration": 9,
    "start_time": "2023-04-10T12:00:11.405Z"
   },
   {
    "duration": 16,
    "start_time": "2023-04-10T12:00:11.416Z"
   },
   {
    "duration": 136,
    "start_time": "2023-04-10T12:00:11.434Z"
   },
   {
    "duration": 18,
    "start_time": "2023-04-10T12:00:11.572Z"
   },
   {
    "duration": 14,
    "start_time": "2023-04-10T12:00:11.592Z"
   },
   {
    "duration": 9,
    "start_time": "2023-04-10T12:00:11.608Z"
   },
   {
    "duration": 330,
    "start_time": "2023-04-10T12:00:11.618Z"
   },
   {
    "duration": 3350,
    "start_time": "2023-04-10T12:00:11.950Z"
   },
   {
    "duration": 6,
    "start_time": "2023-04-10T12:00:15.302Z"
   },
   {
    "duration": 155,
    "start_time": "2023-04-10T12:03:24.607Z"
   },
   {
    "duration": 9,
    "start_time": "2023-04-10T12:04:17.167Z"
   },
   {
    "duration": 47,
    "start_time": "2023-04-10T12:05:09.039Z"
   },
   {
    "duration": 2658,
    "start_time": "2023-04-10T12:05:20.671Z"
   },
   {
    "duration": 170,
    "start_time": "2023-04-10T12:05:23.332Z"
   },
   {
    "duration": 42,
    "start_time": "2023-04-10T12:05:23.504Z"
   },
   {
    "duration": 8,
    "start_time": "2023-04-10T12:05:23.548Z"
   },
   {
    "duration": 100,
    "start_time": "2023-04-10T12:05:23.559Z"
   },
   {
    "duration": 74,
    "start_time": "2023-04-10T12:05:23.661Z"
   },
   {
    "duration": 121,
    "start_time": "2023-04-10T12:05:23.736Z"
   },
   {
    "duration": 134,
    "start_time": "2023-04-10T12:05:23.859Z"
   },
   {
    "duration": 134,
    "start_time": "2023-04-10T12:05:23.994Z"
   },
   {
    "duration": 226,
    "start_time": "2023-04-10T12:05:24.130Z"
   },
   {
    "duration": 122,
    "start_time": "2023-04-10T12:05:24.357Z"
   },
   {
    "duration": 139,
    "start_time": "2023-04-10T12:05:24.484Z"
   },
   {
    "duration": 158,
    "start_time": "2023-04-10T12:05:24.625Z"
   },
   {
    "duration": 8,
    "start_time": "2023-04-10T12:05:24.788Z"
   },
   {
    "duration": 258,
    "start_time": "2023-04-10T12:05:24.798Z"
   },
   {
    "duration": 8,
    "start_time": "2023-04-10T12:05:25.058Z"
   },
   {
    "duration": 56,
    "start_time": "2023-04-10T12:05:25.068Z"
   },
   {
    "duration": 117,
    "start_time": "2023-04-10T12:05:25.126Z"
   },
   {
    "duration": 9,
    "start_time": "2023-04-10T12:05:25.245Z"
   },
   {
    "duration": 28,
    "start_time": "2023-04-10T12:05:25.256Z"
   },
   {
    "duration": 31,
    "start_time": "2023-04-10T12:05:25.286Z"
   },
   {
    "duration": 331,
    "start_time": "2023-04-10T12:05:25.319Z"
   },
   {
    "duration": 3331,
    "start_time": "2023-04-10T12:05:25.652Z"
   },
   {
    "duration": 5,
    "start_time": "2023-04-10T12:05:28.985Z"
   },
   {
    "duration": 6,
    "start_time": "2023-04-10T12:25:28.917Z"
   },
   {
    "duration": 2597,
    "start_time": "2023-04-10T12:26:58.815Z"
   },
   {
    "duration": 162,
    "start_time": "2023-04-10T12:27:01.414Z"
   },
   {
    "duration": 55,
    "start_time": "2023-04-10T12:27:01.577Z"
   },
   {
    "duration": 44,
    "start_time": "2023-04-10T12:27:01.634Z"
   },
   {
    "duration": 99,
    "start_time": "2023-04-10T12:27:01.680Z"
   },
   {
    "duration": 70,
    "start_time": "2023-04-10T12:27:01.785Z"
   },
   {
    "duration": 110,
    "start_time": "2023-04-10T12:27:01.856Z"
   },
   {
    "duration": 136,
    "start_time": "2023-04-10T12:27:01.967Z"
   },
   {
    "duration": 117,
    "start_time": "2023-04-10T12:27:02.105Z"
   },
   {
    "duration": 130,
    "start_time": "2023-04-10T12:27:02.225Z"
   },
   {
    "duration": 140,
    "start_time": "2023-04-10T12:27:02.356Z"
   },
   {
    "duration": 143,
    "start_time": "2023-04-10T12:27:02.497Z"
   },
   {
    "duration": 142,
    "start_time": "2023-04-10T12:27:02.641Z"
   },
   {
    "duration": 7,
    "start_time": "2023-04-10T12:27:02.785Z"
   },
   {
    "duration": 141,
    "start_time": "2023-04-10T12:27:02.794Z"
   },
   {
    "duration": 7,
    "start_time": "2023-04-10T12:27:02.937Z"
   },
   {
    "duration": 66,
    "start_time": "2023-04-10T12:27:02.946Z"
   },
   {
    "duration": 134,
    "start_time": "2023-04-10T12:27:03.014Z"
   },
   {
    "duration": 7,
    "start_time": "2023-04-10T12:27:03.150Z"
   },
   {
    "duration": 36,
    "start_time": "2023-04-10T12:27:03.159Z"
   },
   {
    "duration": 37,
    "start_time": "2023-04-10T12:27:03.196Z"
   },
   {
    "duration": 269,
    "start_time": "2023-04-10T12:27:03.235Z"
   },
   {
    "duration": 3408,
    "start_time": "2023-04-10T12:27:03.505Z"
   },
   {
    "duration": 5,
    "start_time": "2023-04-10T12:27:06.915Z"
   },
   {
    "duration": 7,
    "start_time": "2023-04-10T12:28:53.591Z"
   },
   {
    "duration": 173,
    "start_time": "2023-04-10T12:42:15.773Z"
   },
   {
    "duration": 81,
    "start_time": "2023-04-10T12:42:36.317Z"
   },
   {
    "duration": 130,
    "start_time": "2023-04-10T12:42:45.550Z"
   },
   {
    "duration": 150,
    "start_time": "2023-04-10T12:42:53.276Z"
   },
   {
    "duration": 12,
    "start_time": "2023-04-10T12:48:04.437Z"
   },
   {
    "duration": 13,
    "start_time": "2023-04-10T12:48:10.237Z"
   },
   {
    "duration": 14,
    "start_time": "2023-04-10T12:48:13.295Z"
   },
   {
    "duration": 13,
    "start_time": "2023-04-10T12:48:24.732Z"
   },
   {
    "duration": 2824,
    "start_time": "2023-04-10T12:50:25.086Z"
   },
   {
    "duration": 183,
    "start_time": "2023-04-10T12:50:27.913Z"
   },
   {
    "duration": 41,
    "start_time": "2023-04-10T12:50:28.099Z"
   },
   {
    "duration": 9,
    "start_time": "2023-04-10T12:50:28.142Z"
   },
   {
    "duration": 93,
    "start_time": "2023-04-10T12:50:28.153Z"
   },
   {
    "duration": 97,
    "start_time": "2023-04-10T12:50:28.248Z"
   },
   {
    "duration": 137,
    "start_time": "2023-04-10T12:50:28.346Z"
   },
   {
    "duration": 147,
    "start_time": "2023-04-10T12:50:28.486Z"
   },
   {
    "duration": 136,
    "start_time": "2023-04-10T12:50:28.635Z"
   },
   {
    "duration": 162,
    "start_time": "2023-04-10T12:50:28.773Z"
   },
   {
    "duration": 133,
    "start_time": "2023-04-10T12:50:28.937Z"
   },
   {
    "duration": 159,
    "start_time": "2023-04-10T12:50:29.072Z"
   },
   {
    "duration": 144,
    "start_time": "2023-04-10T12:50:29.232Z"
   },
   {
    "duration": 7,
    "start_time": "2023-04-10T12:50:29.384Z"
   },
   {
    "duration": 143,
    "start_time": "2023-04-10T12:50:29.393Z"
   },
   {
    "duration": 9,
    "start_time": "2023-04-10T12:50:29.537Z"
   },
   {
    "duration": 29,
    "start_time": "2023-04-10T12:50:29.547Z"
   },
   {
    "duration": 133,
    "start_time": "2023-04-10T12:50:29.587Z"
   },
   {
    "duration": 11,
    "start_time": "2023-04-10T12:50:29.723Z"
   },
   {
    "duration": 15,
    "start_time": "2023-04-10T12:50:29.736Z"
   },
   {
    "duration": 37,
    "start_time": "2023-04-10T12:50:29.753Z"
   },
   {
    "duration": 372,
    "start_time": "2023-04-10T12:50:29.794Z"
   },
   {
    "duration": 3724,
    "start_time": "2023-04-10T12:50:30.167Z"
   },
   {
    "duration": 10,
    "start_time": "2023-04-10T12:50:33.894Z"
   },
   {
    "duration": 182,
    "start_time": "2023-04-10T12:50:33.906Z"
   },
   {
    "duration": 127,
    "start_time": "2023-04-10T12:50:34.091Z"
   },
   {
    "duration": 14,
    "start_time": "2023-04-10T12:54:10.621Z"
   },
   {
    "duration": 13,
    "start_time": "2023-04-10T12:54:21.077Z"
   },
   {
    "duration": 182,
    "start_time": "2023-04-10T13:09:22.857Z"
   },
   {
    "duration": 1086,
    "start_time": "2023-04-10T13:17:11.892Z"
   },
   {
    "duration": 1415,
    "start_time": "2023-04-10T13:31:13.203Z"
   },
   {
    "duration": 8,
    "start_time": "2023-04-10T13:32:21.628Z"
   },
   {
    "duration": 1183,
    "start_time": "2023-04-10T13:34:53.401Z"
   },
   {
    "duration": 10,
    "start_time": "2023-04-10T17:01:17.828Z"
   },
   {
    "duration": 3190,
    "start_time": "2023-04-10T17:01:28.931Z"
   },
   {
    "duration": 156,
    "start_time": "2023-04-10T17:01:32.123Z"
   },
   {
    "duration": 43,
    "start_time": "2023-04-10T17:01:32.283Z"
   },
   {
    "duration": 10,
    "start_time": "2023-04-10T17:01:32.328Z"
   },
   {
    "duration": 77,
    "start_time": "2023-04-10T17:01:32.339Z"
   },
   {
    "duration": 78,
    "start_time": "2023-04-10T17:01:32.417Z"
   },
   {
    "duration": 125,
    "start_time": "2023-04-10T17:01:32.497Z"
   },
   {
    "duration": 136,
    "start_time": "2023-04-10T17:01:32.624Z"
   },
   {
    "duration": 132,
    "start_time": "2023-04-10T17:01:32.761Z"
   },
   {
    "duration": 146,
    "start_time": "2023-04-10T17:01:32.896Z"
   },
   {
    "duration": 116,
    "start_time": "2023-04-10T17:01:33.044Z"
   },
   {
    "duration": 133,
    "start_time": "2023-04-10T17:01:33.162Z"
   },
   {
    "duration": 128,
    "start_time": "2023-04-10T17:01:33.296Z"
   },
   {
    "duration": 8,
    "start_time": "2023-04-10T17:01:33.425Z"
   },
   {
    "duration": 116,
    "start_time": "2023-04-10T17:01:33.440Z"
   },
   {
    "duration": 9,
    "start_time": "2023-04-10T17:01:33.558Z"
   },
   {
    "duration": 51,
    "start_time": "2023-04-10T17:01:33.568Z"
   },
   {
    "duration": 120,
    "start_time": "2023-04-10T17:01:33.621Z"
   },
   {
    "duration": 11,
    "start_time": "2023-04-10T17:01:33.744Z"
   },
   {
    "duration": 35,
    "start_time": "2023-04-10T17:01:33.757Z"
   },
   {
    "duration": 135,
    "start_time": "2023-04-10T17:01:33.795Z"
   },
   {
    "duration": 300,
    "start_time": "2023-04-10T17:01:33.931Z"
   },
   {
    "duration": 3189,
    "start_time": "2023-04-10T17:01:34.232Z"
   },
   {
    "duration": 7,
    "start_time": "2023-04-10T17:01:37.423Z"
   },
   {
    "duration": 141,
    "start_time": "2023-04-10T17:01:37.431Z"
   },
   {
    "duration": 1134,
    "start_time": "2023-04-10T17:01:37.573Z"
   },
   {
    "duration": 85,
    "start_time": "2023-04-10T17:01:38.710Z"
   },
   {
    "duration": 20,
    "start_time": "2023-04-10T17:01:49.828Z"
   },
   {
    "duration": 25,
    "start_time": "2023-04-10T17:02:34.732Z"
   },
   {
    "duration": 20,
    "start_time": "2023-04-10T17:02:59.827Z"
   },
   {
    "duration": 16,
    "start_time": "2023-04-10T17:03:10.826Z"
   },
   {
    "duration": 15,
    "start_time": "2023-04-10T17:03:18.858Z"
   },
   {
    "duration": 17,
    "start_time": "2023-04-10T17:03:59.867Z"
   },
   {
    "duration": 17,
    "start_time": "2023-04-10T17:04:16.055Z"
   },
   {
    "duration": 11,
    "start_time": "2023-04-10T17:05:34.146Z"
   },
   {
    "duration": 15,
    "start_time": "2023-04-10T17:05:52.585Z"
   },
   {
    "duration": 2070,
    "start_time": "2023-04-10T17:15:33.076Z"
   },
   {
    "duration": 21,
    "start_time": "2023-04-10T17:16:33.383Z"
   },
   {
    "duration": 1523,
    "start_time": "2023-04-10T17:17:38.143Z"
   },
   {
    "duration": 25,
    "start_time": "2023-04-10T17:19:10.151Z"
   },
   {
    "duration": 25,
    "start_time": "2023-04-10T17:27:52.596Z"
   },
   {
    "duration": 24,
    "start_time": "2023-04-10T17:28:42.345Z"
   },
   {
    "duration": 1364,
    "start_time": "2023-04-10T17:45:43.328Z"
   },
   {
    "duration": 1201,
    "start_time": "2023-04-10T17:46:33.415Z"
   },
   {
    "duration": 1298,
    "start_time": "2023-04-10T17:46:58.430Z"
   },
   {
    "duration": 27,
    "start_time": "2023-04-10T17:47:25.022Z"
   },
   {
    "duration": 20,
    "start_time": "2023-04-10T17:47:37.501Z"
   },
   {
    "duration": 13,
    "start_time": "2023-04-10T17:47:46.982Z"
   },
   {
    "duration": 177,
    "start_time": "2023-04-10T17:49:18.671Z"
   },
   {
    "duration": 322,
    "start_time": "2023-04-10T17:49:53.113Z"
   },
   {
    "duration": 257,
    "start_time": "2023-04-10T17:50:11.310Z"
   },
   {
    "duration": 263,
    "start_time": "2023-04-10T17:50:20.875Z"
   },
   {
    "duration": 3313,
    "start_time": "2023-04-10T17:57:43.434Z"
   },
   {
    "duration": 158,
    "start_time": "2023-04-10T17:57:46.749Z"
   },
   {
    "duration": 43,
    "start_time": "2023-04-10T17:57:46.908Z"
   },
   {
    "duration": 9,
    "start_time": "2023-04-10T17:57:46.953Z"
   },
   {
    "duration": 93,
    "start_time": "2023-04-10T17:57:46.963Z"
   },
   {
    "duration": 102,
    "start_time": "2023-04-10T17:57:47.058Z"
   },
   {
    "duration": 132,
    "start_time": "2023-04-10T17:57:47.162Z"
   },
   {
    "duration": 136,
    "start_time": "2023-04-10T17:57:47.296Z"
   },
   {
    "duration": 120,
    "start_time": "2023-04-10T17:57:47.434Z"
   },
   {
    "duration": 142,
    "start_time": "2023-04-10T17:57:47.557Z"
   },
   {
    "duration": 122,
    "start_time": "2023-04-10T17:57:47.701Z"
   },
   {
    "duration": 126,
    "start_time": "2023-04-10T17:57:47.825Z"
   },
   {
    "duration": 160,
    "start_time": "2023-04-10T17:57:47.952Z"
   },
   {
    "duration": 8,
    "start_time": "2023-04-10T17:57:48.113Z"
   },
   {
    "duration": 134,
    "start_time": "2023-04-10T17:57:48.122Z"
   },
   {
    "duration": 8,
    "start_time": "2023-04-10T17:57:48.257Z"
   },
   {
    "duration": 53,
    "start_time": "2023-04-10T17:57:48.266Z"
   },
   {
    "duration": 112,
    "start_time": "2023-04-10T17:57:48.321Z"
   },
   {
    "duration": 9,
    "start_time": "2023-04-10T17:57:48.435Z"
   },
   {
    "duration": 30,
    "start_time": "2023-04-10T17:57:48.445Z"
   },
   {
    "duration": 93,
    "start_time": "2023-04-10T17:57:48.477Z"
   },
   {
    "duration": 297,
    "start_time": "2023-04-10T17:57:48.572Z"
   },
   {
    "duration": 3018,
    "start_time": "2023-04-10T17:57:48.870Z"
   },
   {
    "duration": 8,
    "start_time": "2023-04-10T17:57:51.890Z"
   },
   {
    "duration": 143,
    "start_time": "2023-04-10T17:57:51.900Z"
   },
   {
    "duration": 1108,
    "start_time": "2023-04-10T17:57:52.045Z"
   },
   {
    "duration": 81,
    "start_time": "2023-04-10T17:57:53.155Z"
   },
   {
    "duration": 0,
    "start_time": "2023-04-10T17:57:53.237Z"
   },
   {
    "duration": 0,
    "start_time": "2023-04-10T17:57:53.238Z"
   },
   {
    "duration": 25,
    "start_time": "2023-04-10T17:58:23.556Z"
   },
   {
    "duration": 3769,
    "start_time": "2023-04-11T06:33:50.912Z"
   },
   {
    "duration": 169,
    "start_time": "2023-04-11T06:33:54.683Z"
   },
   {
    "duration": 49,
    "start_time": "2023-04-11T06:33:54.854Z"
   },
   {
    "duration": 9,
    "start_time": "2023-04-11T06:33:54.906Z"
   },
   {
    "duration": 88,
    "start_time": "2023-04-11T06:33:54.916Z"
   },
   {
    "duration": 95,
    "start_time": "2023-04-11T06:33:55.005Z"
   },
   {
    "duration": 128,
    "start_time": "2023-04-11T06:33:55.101Z"
   },
   {
    "duration": 138,
    "start_time": "2023-04-11T06:33:55.242Z"
   },
   {
    "duration": 120,
    "start_time": "2023-04-11T06:33:55.381Z"
   },
   {
    "duration": 155,
    "start_time": "2023-04-11T06:33:55.504Z"
   },
   {
    "duration": 136,
    "start_time": "2023-04-11T06:33:55.661Z"
   },
   {
    "duration": 173,
    "start_time": "2023-04-11T06:33:55.799Z"
   },
   {
    "duration": 178,
    "start_time": "2023-04-11T06:33:55.974Z"
   },
   {
    "duration": 7,
    "start_time": "2023-04-11T06:33:56.154Z"
   },
   {
    "duration": 140,
    "start_time": "2023-04-11T06:33:56.163Z"
   },
   {
    "duration": 10,
    "start_time": "2023-04-11T06:33:56.305Z"
   },
   {
    "duration": 32,
    "start_time": "2023-04-11T06:33:56.317Z"
   },
   {
    "duration": 202,
    "start_time": "2023-04-11T06:33:56.351Z"
   },
   {
    "duration": 10,
    "start_time": "2023-04-11T06:33:56.554Z"
   },
   {
    "duration": 29,
    "start_time": "2023-04-11T06:33:56.566Z"
   },
   {
    "duration": 18,
    "start_time": "2023-04-11T06:33:56.597Z"
   },
   {
    "duration": 340,
    "start_time": "2023-04-11T06:33:56.617Z"
   },
   {
    "duration": 3453,
    "start_time": "2023-04-11T06:33:56.959Z"
   },
   {
    "duration": 7,
    "start_time": "2023-04-11T06:34:00.414Z"
   },
   {
    "duration": 177,
    "start_time": "2023-04-11T06:34:00.423Z"
   },
   {
    "duration": 1179,
    "start_time": "2023-04-11T06:34:00.602Z"
   },
   {
    "duration": 26,
    "start_time": "2023-04-11T06:34:01.783Z"
   },
   {
    "duration": 3479,
    "start_time": "2023-04-11T06:34:50.348Z"
   },
   {
    "duration": 162,
    "start_time": "2023-04-11T06:34:53.829Z"
   },
   {
    "duration": 123,
    "start_time": "2023-04-11T06:34:53.994Z"
   },
   {
    "duration": 10,
    "start_time": "2023-04-11T06:34:54.119Z"
   },
   {
    "duration": 108,
    "start_time": "2023-04-11T06:34:54.131Z"
   },
   {
    "duration": 102,
    "start_time": "2023-04-11T06:34:54.241Z"
   },
   {
    "duration": 129,
    "start_time": "2023-04-11T06:34:54.344Z"
   },
   {
    "duration": 139,
    "start_time": "2023-04-11T06:34:54.475Z"
   },
   {
    "duration": 139,
    "start_time": "2023-04-11T06:34:54.616Z"
   },
   {
    "duration": 148,
    "start_time": "2023-04-11T06:34:54.759Z"
   },
   {
    "duration": 137,
    "start_time": "2023-04-11T06:34:54.909Z"
   },
   {
    "duration": 141,
    "start_time": "2023-04-11T06:34:55.047Z"
   },
   {
    "duration": 156,
    "start_time": "2023-04-11T06:34:55.190Z"
   },
   {
    "duration": 7,
    "start_time": "2023-04-11T06:34:55.348Z"
   },
   {
    "duration": 145,
    "start_time": "2023-04-11T06:34:55.356Z"
   },
   {
    "duration": 9,
    "start_time": "2023-04-11T06:34:55.503Z"
   },
   {
    "duration": 30,
    "start_time": "2023-04-11T06:34:55.514Z"
   },
   {
    "duration": 167,
    "start_time": "2023-04-11T06:34:55.546Z"
   },
   {
    "duration": 10,
    "start_time": "2023-04-11T06:34:55.715Z"
   },
   {
    "duration": 47,
    "start_time": "2023-04-11T06:34:55.727Z"
   },
   {
    "duration": 107,
    "start_time": "2023-04-11T06:34:55.777Z"
   },
   {
    "duration": 341,
    "start_time": "2023-04-11T06:34:55.886Z"
   },
   {
    "duration": 3544,
    "start_time": "2023-04-11T06:34:56.229Z"
   },
   {
    "duration": 8,
    "start_time": "2023-04-11T06:34:59.775Z"
   },
   {
    "duration": 166,
    "start_time": "2023-04-11T06:34:59.785Z"
   },
   {
    "duration": 1219,
    "start_time": "2023-04-11T06:34:59.953Z"
   },
   {
    "duration": 30,
    "start_time": "2023-04-11T06:35:01.174Z"
   },
   {
    "duration": 3827,
    "start_time": "2023-04-11T06:39:59.632Z"
   },
   {
    "duration": 156,
    "start_time": "2023-04-11T06:40:03.461Z"
   },
   {
    "duration": 58,
    "start_time": "2023-04-11T06:40:03.619Z"
   },
   {
    "duration": 11,
    "start_time": "2023-04-11T06:40:03.678Z"
   },
   {
    "duration": 81,
    "start_time": "2023-04-11T06:40:03.692Z"
   },
   {
    "duration": 81,
    "start_time": "2023-04-11T06:40:03.774Z"
   },
   {
    "duration": 124,
    "start_time": "2023-04-11T06:40:03.857Z"
   },
   {
    "duration": 124,
    "start_time": "2023-04-11T06:40:03.982Z"
   },
   {
    "duration": 120,
    "start_time": "2023-04-11T06:40:04.108Z"
   },
   {
    "duration": 142,
    "start_time": "2023-04-11T06:40:04.230Z"
   },
   {
    "duration": 121,
    "start_time": "2023-04-11T06:40:04.374Z"
   },
   {
    "duration": 134,
    "start_time": "2023-04-11T06:40:04.497Z"
   },
   {
    "duration": 139,
    "start_time": "2023-04-11T06:40:04.641Z"
   },
   {
    "duration": 7,
    "start_time": "2023-04-11T06:40:04.782Z"
   },
   {
    "duration": 157,
    "start_time": "2023-04-11T06:40:04.791Z"
   },
   {
    "duration": 9,
    "start_time": "2023-04-11T06:40:04.949Z"
   },
   {
    "duration": 29,
    "start_time": "2023-04-11T06:40:04.960Z"
   },
   {
    "duration": 115,
    "start_time": "2023-04-11T06:40:04.991Z"
   },
   {
    "duration": 11,
    "start_time": "2023-04-11T06:40:05.108Z"
   },
   {
    "duration": 61,
    "start_time": "2023-04-11T06:40:05.121Z"
   },
   {
    "duration": 99,
    "start_time": "2023-04-11T06:40:05.184Z"
   },
   {
    "duration": 278,
    "start_time": "2023-04-11T06:40:05.285Z"
   },
   {
    "duration": 3357,
    "start_time": "2023-04-11T06:40:05.565Z"
   },
   {
    "duration": 7,
    "start_time": "2023-04-11T06:40:08.924Z"
   },
   {
    "duration": 153,
    "start_time": "2023-04-11T06:40:08.932Z"
   },
   {
    "duration": 1136,
    "start_time": "2023-04-11T06:40:09.087Z"
   },
   {
    "duration": 35,
    "start_time": "2023-04-11T06:40:10.224Z"
   },
   {
    "duration": 60,
    "start_time": "2023-04-11T06:51:45.953Z"
   },
   {
    "duration": 3992,
    "start_time": "2023-04-11T06:51:53.726Z"
   },
   {
    "duration": 165,
    "start_time": "2023-04-11T06:51:57.722Z"
   },
   {
    "duration": 59,
    "start_time": "2023-04-11T06:51:57.889Z"
   },
   {
    "duration": 11,
    "start_time": "2023-04-11T06:51:57.950Z"
   },
   {
    "duration": 90,
    "start_time": "2023-04-11T06:51:57.964Z"
   },
   {
    "duration": 87,
    "start_time": "2023-04-11T06:51:58.055Z"
   },
   {
    "duration": 123,
    "start_time": "2023-04-11T06:51:58.144Z"
   },
   {
    "duration": 140,
    "start_time": "2023-04-11T06:51:58.269Z"
   },
   {
    "duration": 134,
    "start_time": "2023-04-11T06:51:58.411Z"
   },
   {
    "duration": 143,
    "start_time": "2023-04-11T06:51:58.547Z"
   },
   {
    "duration": 130,
    "start_time": "2023-04-11T06:51:58.692Z"
   },
   {
    "duration": 151,
    "start_time": "2023-04-11T06:51:58.824Z"
   },
   {
    "duration": 140,
    "start_time": "2023-04-11T06:51:58.978Z"
   },
   {
    "duration": 7,
    "start_time": "2023-04-11T06:51:59.121Z"
   },
   {
    "duration": 135,
    "start_time": "2023-04-11T06:51:59.142Z"
   },
   {
    "duration": 9,
    "start_time": "2023-04-11T06:51:59.279Z"
   },
   {
    "duration": 20,
    "start_time": "2023-04-11T06:51:59.290Z"
   },
   {
    "duration": 137,
    "start_time": "2023-04-11T06:51:59.311Z"
   },
   {
    "duration": 13,
    "start_time": "2023-04-11T06:51:59.450Z"
   },
   {
    "duration": 21,
    "start_time": "2023-04-11T06:51:59.465Z"
   },
   {
    "duration": 138,
    "start_time": "2023-04-11T06:51:59.489Z"
   },
   {
    "duration": 306,
    "start_time": "2023-04-11T06:51:59.629Z"
   },
   {
    "duration": 3515,
    "start_time": "2023-04-11T06:51:59.937Z"
   },
   {
    "duration": 8,
    "start_time": "2023-04-11T06:52:03.453Z"
   },
   {
    "duration": 152,
    "start_time": "2023-04-11T06:52:03.462Z"
   },
   {
    "duration": 1149,
    "start_time": "2023-04-11T06:52:03.616Z"
   },
   {
    "duration": 27,
    "start_time": "2023-04-11T06:52:04.767Z"
   },
   {
    "duration": 48,
    "start_time": "2023-04-11T07:13:17.043Z"
   },
   {
    "duration": 3704,
    "start_time": "2023-04-11T07:13:27.819Z"
   },
   {
    "duration": 173,
    "start_time": "2023-04-11T07:13:31.525Z"
   },
   {
    "duration": 62,
    "start_time": "2023-04-11T07:13:31.699Z"
   },
   {
    "duration": 96,
    "start_time": "2023-04-11T07:13:31.763Z"
   },
   {
    "duration": 99,
    "start_time": "2023-04-11T07:13:31.862Z"
   },
   {
    "duration": 102,
    "start_time": "2023-04-11T07:13:31.963Z"
   },
   {
    "duration": 124,
    "start_time": "2023-04-11T07:13:32.067Z"
   },
   {
    "duration": 150,
    "start_time": "2023-04-11T07:13:32.193Z"
   },
   {
    "duration": 133,
    "start_time": "2023-04-11T07:13:32.345Z"
   },
   {
    "duration": 146,
    "start_time": "2023-04-11T07:13:32.480Z"
   },
   {
    "duration": 137,
    "start_time": "2023-04-11T07:13:32.627Z"
   },
   {
    "duration": 142,
    "start_time": "2023-04-11T07:13:32.766Z"
   },
   {
    "duration": 145,
    "start_time": "2023-04-11T07:13:32.910Z"
   },
   {
    "duration": 8,
    "start_time": "2023-04-11T07:13:33.058Z"
   },
   {
    "duration": 140,
    "start_time": "2023-04-11T07:13:33.068Z"
   },
   {
    "duration": 11,
    "start_time": "2023-04-11T07:13:33.210Z"
   },
   {
    "duration": 53,
    "start_time": "2023-04-11T07:13:33.223Z"
   },
   {
    "duration": 135,
    "start_time": "2023-04-11T07:13:33.279Z"
   },
   {
    "duration": 10,
    "start_time": "2023-04-11T07:13:33.416Z"
   },
   {
    "duration": 29,
    "start_time": "2023-04-11T07:13:33.427Z"
   },
   {
    "duration": 103,
    "start_time": "2023-04-11T07:13:33.458Z"
   },
   {
    "duration": 312,
    "start_time": "2023-04-11T07:13:33.563Z"
   },
   {
    "duration": 3482,
    "start_time": "2023-04-11T07:13:33.877Z"
   },
   {
    "duration": 7,
    "start_time": "2023-04-11T07:13:37.362Z"
   },
   {
    "duration": 177,
    "start_time": "2023-04-11T07:13:37.372Z"
   },
   {
    "duration": 1165,
    "start_time": "2023-04-11T07:13:37.551Z"
   },
   {
    "duration": 36,
    "start_time": "2023-04-11T07:13:38.717Z"
   },
   {
    "duration": 2,
    "start_time": "2023-04-11T07:13:38.755Z"
   },
   {
    "duration": 98,
    "start_time": "2023-04-11T07:13:38.759Z"
   },
   {
    "duration": 9,
    "start_time": "2023-04-11T07:14:01.607Z"
   },
   {
    "duration": 64,
    "start_time": "2023-04-11T07:14:05.071Z"
   },
   {
    "duration": 22,
    "start_time": "2023-04-11T07:18:34.117Z"
   },
   {
    "duration": 62,
    "start_time": "2023-04-11T07:29:35.290Z"
   },
   {
    "duration": 3778,
    "start_time": "2023-04-11T07:30:17.446Z"
   },
   {
    "duration": 165,
    "start_time": "2023-04-11T07:30:21.226Z"
   },
   {
    "duration": 71,
    "start_time": "2023-04-11T07:30:21.392Z"
   },
   {
    "duration": 10,
    "start_time": "2023-04-11T07:30:21.465Z"
   },
   {
    "duration": 85,
    "start_time": "2023-04-11T07:30:21.477Z"
   },
   {
    "duration": 126,
    "start_time": "2023-04-11T07:30:21.564Z"
   },
   {
    "duration": 135,
    "start_time": "2023-04-11T07:30:21.692Z"
   },
   {
    "duration": 146,
    "start_time": "2023-04-11T07:30:21.829Z"
   },
   {
    "duration": 130,
    "start_time": "2023-04-11T07:30:21.977Z"
   },
   {
    "duration": 162,
    "start_time": "2023-04-11T07:30:22.111Z"
   },
   {
    "duration": 129,
    "start_time": "2023-04-11T07:30:22.275Z"
   },
   {
    "duration": 154,
    "start_time": "2023-04-11T07:30:22.406Z"
   },
   {
    "duration": 137,
    "start_time": "2023-04-11T07:30:22.562Z"
   },
   {
    "duration": 7,
    "start_time": "2023-04-11T07:30:22.701Z"
   },
   {
    "duration": 144,
    "start_time": "2023-04-11T07:30:22.709Z"
   },
   {
    "duration": 10,
    "start_time": "2023-04-11T07:30:22.856Z"
   },
   {
    "duration": 40,
    "start_time": "2023-04-11T07:30:22.867Z"
   },
   {
    "duration": 120,
    "start_time": "2023-04-11T07:30:22.909Z"
   },
   {
    "duration": 24,
    "start_time": "2023-04-11T07:30:23.031Z"
   },
   {
    "duration": 34,
    "start_time": "2023-04-11T07:30:23.057Z"
   },
   {
    "duration": 91,
    "start_time": "2023-04-11T07:30:23.093Z"
   },
   {
    "duration": 413,
    "start_time": "2023-04-11T07:30:23.185Z"
   },
   {
    "duration": 3853,
    "start_time": "2023-04-11T07:30:23.599Z"
   },
   {
    "duration": 10,
    "start_time": "2023-04-11T07:30:27.454Z"
   },
   {
    "duration": 200,
    "start_time": "2023-04-11T07:30:27.466Z"
   },
   {
    "duration": 1223,
    "start_time": "2023-04-11T07:30:27.668Z"
   },
   {
    "duration": 26,
    "start_time": "2023-04-11T07:30:28.893Z"
   },
   {
    "duration": 36,
    "start_time": "2023-04-11T07:30:28.922Z"
   },
   {
    "duration": 344,
    "start_time": "2023-04-11T07:30:28.960Z"
   },
   {
    "duration": 15,
    "start_time": "2023-04-11T07:30:29.306Z"
   },
   {
    "duration": 24,
    "start_time": "2023-04-11T07:31:20.349Z"
   },
   {
    "duration": 412,
    "start_time": "2023-04-11T07:31:31.370Z"
   },
   {
    "duration": 78,
    "start_time": "2023-04-11T07:31:35.803Z"
   },
   {
    "duration": 148,
    "start_time": "2023-04-11T08:02:00.354Z"
   },
   {
    "duration": 157,
    "start_time": "2023-04-11T08:04:15.201Z"
   },
   {
    "duration": 2987,
    "start_time": "2023-04-11T08:04:45.838Z"
   },
   {
    "duration": 169,
    "start_time": "2023-04-11T08:04:48.827Z"
   },
   {
    "duration": 120,
    "start_time": "2023-04-11T08:04:48.998Z"
   },
   {
    "duration": 0,
    "start_time": "2023-04-11T08:04:49.121Z"
   },
   {
    "duration": 0,
    "start_time": "2023-04-11T08:04:49.123Z"
   },
   {
    "duration": 0,
    "start_time": "2023-04-11T08:04:49.124Z"
   },
   {
    "duration": 0,
    "start_time": "2023-04-11T08:04:49.126Z"
   },
   {
    "duration": 0,
    "start_time": "2023-04-11T08:04:49.142Z"
   },
   {
    "duration": 0,
    "start_time": "2023-04-11T08:04:49.144Z"
   },
   {
    "duration": 0,
    "start_time": "2023-04-11T08:04:49.152Z"
   },
   {
    "duration": 0,
    "start_time": "2023-04-11T08:04:49.152Z"
   },
   {
    "duration": 0,
    "start_time": "2023-04-11T08:04:49.153Z"
   },
   {
    "duration": 0,
    "start_time": "2023-04-11T08:04:49.154Z"
   },
   {
    "duration": 0,
    "start_time": "2023-04-11T08:04:49.155Z"
   },
   {
    "duration": 0,
    "start_time": "2023-04-11T08:04:49.160Z"
   },
   {
    "duration": 0,
    "start_time": "2023-04-11T08:04:49.162Z"
   },
   {
    "duration": 0,
    "start_time": "2023-04-11T08:04:49.163Z"
   },
   {
    "duration": 0,
    "start_time": "2023-04-11T08:04:49.164Z"
   },
   {
    "duration": 0,
    "start_time": "2023-04-11T08:04:49.168Z"
   },
   {
    "duration": 0,
    "start_time": "2023-04-11T08:04:49.169Z"
   },
   {
    "duration": 0,
    "start_time": "2023-04-11T08:04:49.171Z"
   },
   {
    "duration": 0,
    "start_time": "2023-04-11T08:04:49.172Z"
   },
   {
    "duration": 0,
    "start_time": "2023-04-11T08:04:49.174Z"
   },
   {
    "duration": 0,
    "start_time": "2023-04-11T08:04:49.175Z"
   },
   {
    "duration": 0,
    "start_time": "2023-04-11T08:04:49.177Z"
   },
   {
    "duration": 0,
    "start_time": "2023-04-11T08:04:49.180Z"
   },
   {
    "duration": 0,
    "start_time": "2023-04-11T08:04:49.181Z"
   },
   {
    "duration": 0,
    "start_time": "2023-04-11T08:04:49.182Z"
   },
   {
    "duration": 0,
    "start_time": "2023-04-11T08:04:49.185Z"
   },
   {
    "duration": 0,
    "start_time": "2023-04-11T08:04:49.186Z"
   },
   {
    "duration": 12,
    "start_time": "2023-04-11T08:05:21.264Z"
   },
   {
    "duration": 68,
    "start_time": "2023-04-11T08:05:54.891Z"
   },
   {
    "duration": 17,
    "start_time": "2023-04-11T08:07:47.958Z"
   },
   {
    "duration": 1660,
    "start_time": "2023-04-11T08:28:20.105Z"
   },
   {
    "duration": 1812,
    "start_time": "2023-04-11T08:29:56.046Z"
   },
   {
    "duration": 1715,
    "start_time": "2023-04-11T08:31:14.136Z"
   },
   {
    "duration": 2926,
    "start_time": "2023-04-11T08:31:30.043Z"
   },
   {
    "duration": 1607,
    "start_time": "2023-04-11T08:31:34.472Z"
   },
   {
    "duration": 1738,
    "start_time": "2023-04-11T08:32:48.243Z"
   },
   {
    "duration": 1615,
    "start_time": "2023-04-11T08:33:03.784Z"
   },
   {
    "duration": 6,
    "start_time": "2023-04-11T08:38:28.438Z"
   },
   {
    "duration": 12,
    "start_time": "2023-04-11T08:39:52.086Z"
   },
   {
    "duration": 15,
    "start_time": "2023-04-11T08:41:49.862Z"
   },
   {
    "duration": 13,
    "start_time": "2023-04-11T08:43:15.309Z"
   },
   {
    "duration": 50,
    "start_time": "2023-04-11T08:43:27.829Z"
   },
   {
    "duration": 55,
    "start_time": "2023-04-11T08:44:39.125Z"
   },
   {
    "duration": 9,
    "start_time": "2023-04-11T08:45:40.466Z"
   },
   {
    "duration": 63,
    "start_time": "2023-04-11T08:45:43.265Z"
   },
   {
    "duration": 90,
    "start_time": "2023-04-11T08:45:46.692Z"
   },
   {
    "duration": 123,
    "start_time": "2023-04-11T08:47:06.466Z"
   },
   {
    "duration": 129,
    "start_time": "2023-04-11T08:47:10.268Z"
   },
   {
    "duration": 121,
    "start_time": "2023-04-11T08:47:13.556Z"
   },
   {
    "duration": 150,
    "start_time": "2023-04-11T08:47:16.523Z"
   },
   {
    "duration": 131,
    "start_time": "2023-04-11T08:47:19.340Z"
   },
   {
    "duration": 141,
    "start_time": "2023-04-11T08:47:22.166Z"
   },
   {
    "duration": 231,
    "start_time": "2023-04-11T08:47:24.456Z"
   },
   {
    "duration": 8,
    "start_time": "2023-04-11T08:48:04.767Z"
   },
   {
    "duration": 129,
    "start_time": "2023-04-11T08:48:11.835Z"
   },
   {
    "duration": 10,
    "start_time": "2023-04-11T08:48:17.871Z"
   },
   {
    "duration": 20,
    "start_time": "2023-04-11T08:48:34.324Z"
   },
   {
    "duration": 118,
    "start_time": "2023-04-11T08:48:46.892Z"
   },
   {
    "duration": 14,
    "start_time": "2023-04-11T08:49:06.083Z"
   },
   {
    "duration": 27,
    "start_time": "2023-04-11T08:49:15.236Z"
   },
   {
    "duration": 17,
    "start_time": "2023-04-11T08:49:27.740Z"
   },
   {
    "duration": 18,
    "start_time": "2023-04-11T08:51:34.765Z"
   },
   {
    "duration": 3179,
    "start_time": "2023-04-11T08:56:24.207Z"
   },
   {
    "duration": 8,
    "start_time": "2023-04-11T08:58:22.729Z"
   },
   {
    "duration": 183,
    "start_time": "2023-04-11T08:58:39.486Z"
   },
   {
    "duration": 1063,
    "start_time": "2023-04-11T08:59:42.868Z"
   },
   {
    "duration": 367,
    "start_time": "2023-04-11T09:01:39.225Z"
   },
   {
    "duration": 1293,
    "start_time": "2023-04-11T09:01:54.690Z"
   },
   {
    "duration": 29,
    "start_time": "2023-04-11T09:02:28.119Z"
   },
   {
    "duration": 18,
    "start_time": "2023-04-11T09:06:59.468Z"
   },
   {
    "duration": 322,
    "start_time": "2023-04-11T09:07:08.278Z"
   },
   {
    "duration": 75,
    "start_time": "2023-04-11T09:07:11.623Z"
   },
   {
    "duration": 169,
    "start_time": "2023-04-11T09:41:23.011Z"
   },
   {
    "duration": 3565,
    "start_time": "2023-04-11T09:52:04.507Z"
   },
   {
    "duration": 1599,
    "start_time": "2023-04-11T09:52:08.075Z"
   },
   {
    "duration": 23,
    "start_time": "2023-04-11T09:52:09.676Z"
   },
   {
    "duration": 74,
    "start_time": "2023-04-11T09:52:09.702Z"
   },
   {
    "duration": 14,
    "start_time": "2023-04-11T09:52:09.778Z"
   },
   {
    "duration": 70,
    "start_time": "2023-04-11T09:52:09.794Z"
   },
   {
    "duration": 92,
    "start_time": "2023-04-11T09:52:09.866Z"
   },
   {
    "duration": 153,
    "start_time": "2023-04-11T09:52:09.960Z"
   },
   {
    "duration": 168,
    "start_time": "2023-04-11T09:52:10.114Z"
   },
   {
    "duration": 153,
    "start_time": "2023-04-11T09:52:10.289Z"
   },
   {
    "duration": 179,
    "start_time": "2023-04-11T09:52:10.445Z"
   },
   {
    "duration": 151,
    "start_time": "2023-04-11T09:52:10.626Z"
   },
   {
    "duration": 157,
    "start_time": "2023-04-11T09:52:10.790Z"
   },
   {
    "duration": 148,
    "start_time": "2023-04-11T09:52:10.950Z"
   },
   {
    "duration": 7,
    "start_time": "2023-04-11T09:52:11.100Z"
   },
   {
    "duration": 197,
    "start_time": "2023-04-11T09:52:11.109Z"
   },
   {
    "duration": 11,
    "start_time": "2023-04-11T09:52:11.307Z"
   },
   {
    "duration": 40,
    "start_time": "2023-04-11T09:52:11.320Z"
   },
   {
    "duration": 143,
    "start_time": "2023-04-11T09:52:11.362Z"
   },
   {
    "duration": 12,
    "start_time": "2023-04-11T09:52:11.507Z"
   },
   {
    "duration": 30,
    "start_time": "2023-04-11T09:52:11.521Z"
   },
   {
    "duration": 92,
    "start_time": "2023-04-11T09:52:11.553Z"
   },
   {
    "duration": 324,
    "start_time": "2023-04-11T09:52:11.647Z"
   },
   {
    "duration": 3537,
    "start_time": "2023-04-11T09:52:11.973Z"
   },
   {
    "duration": 8,
    "start_time": "2023-04-11T09:52:15.512Z"
   },
   {
    "duration": 169,
    "start_time": "2023-04-11T09:52:15.525Z"
   },
   {
    "duration": 1238,
    "start_time": "2023-04-11T09:52:15.695Z"
   },
   {
    "duration": 28,
    "start_time": "2023-04-11T09:52:16.936Z"
   },
   {
    "duration": 36,
    "start_time": "2023-04-11T09:52:16.966Z"
   },
   {
    "duration": 323,
    "start_time": "2023-04-11T09:52:17.004Z"
   },
   {
    "duration": 100,
    "start_time": "2023-04-11T09:52:17.329Z"
   },
   {
    "duration": 7,
    "start_time": "2023-04-11T10:09:01.637Z"
   },
   {
    "duration": 27,
    "start_time": "2023-04-11T10:09:32.679Z"
   },
   {
    "duration": 176,
    "start_time": "2023-04-11T10:09:35.906Z"
   },
   {
    "duration": 8,
    "start_time": "2023-04-11T10:09:59.572Z"
   },
   {
    "duration": 3311,
    "start_time": "2023-04-11T15:18:34.097Z"
   },
   {
    "duration": 4,
    "start_time": "2023-04-11T15:18:39.856Z"
   },
   {
    "duration": 147,
    "start_time": "2023-04-11T15:20:19.415Z"
   },
   {
    "duration": 19,
    "start_time": "2023-04-11T15:20:38.981Z"
   },
   {
    "duration": 225,
    "start_time": "2023-04-11T15:20:46.668Z"
   },
   {
    "duration": 17,
    "start_time": "2023-04-11T15:22:25.497Z"
   },
   {
    "duration": 2914,
    "start_time": "2023-04-11T15:22:30.401Z"
   },
   {
    "duration": 218,
    "start_time": "2023-04-11T15:47:58.274Z"
   },
   {
    "duration": 159,
    "start_time": "2023-04-11T16:01:35.764Z"
   },
   {
    "duration": 142,
    "start_time": "2023-04-11T16:02:25.584Z"
   },
   {
    "duration": 34,
    "start_time": "2023-04-11T16:06:36.690Z"
   },
   {
    "duration": 10,
    "start_time": "2023-04-11T16:06:59.796Z"
   },
   {
    "duration": 69,
    "start_time": "2023-04-11T16:08:16.380Z"
   },
   {
    "duration": 303,
    "start_time": "2023-04-11T16:10:13.070Z"
   },
   {
    "duration": 118,
    "start_time": "2023-04-11T16:10:53.169Z"
   },
   {
    "duration": 9,
    "start_time": "2023-04-11T16:11:11.279Z"
   },
   {
    "duration": 18,
    "start_time": "2023-04-11T16:11:38.383Z"
   },
   {
    "duration": 65,
    "start_time": "2023-04-11T16:12:00.736Z"
   },
   {
    "duration": 2989,
    "start_time": "2023-04-11T16:20:20.462Z"
   },
   {
    "duration": 23,
    "start_time": "2023-04-11T16:20:40.098Z"
   },
   {
    "duration": 27,
    "start_time": "2023-04-11T16:24:27.949Z"
   },
   {
    "duration": 174,
    "start_time": "2023-04-11T16:30:42.181Z"
   },
   {
    "duration": 111,
    "start_time": "2023-04-11T16:34:01.628Z"
   },
   {
    "duration": 99,
    "start_time": "2023-04-11T16:43:57.776Z"
   },
   {
    "duration": 2653,
    "start_time": "2023-04-11T16:44:40.618Z"
   },
   {
    "duration": 16,
    "start_time": "2023-04-11T16:51:49.418Z"
   },
   {
    "duration": 50,
    "start_time": "2023-04-12T02:33:11.212Z"
   },
   {
    "duration": 8,
    "start_time": "2023-04-12T02:33:24.707Z"
   },
   {
    "duration": 901,
    "start_time": "2023-04-12T02:33:35.544Z"
   },
   {
    "duration": 391,
    "start_time": "2023-04-12T02:33:36.447Z"
   },
   {
    "duration": 15,
    "start_time": "2023-04-12T02:33:36.840Z"
   },
   {
    "duration": 24,
    "start_time": "2023-04-12T02:33:36.857Z"
   },
   {
    "duration": 2525,
    "start_time": "2023-04-12T02:33:36.882Z"
   },
   {
    "duration": 49,
    "start_time": "2023-04-12T02:33:39.410Z"
   },
   {
    "duration": 2589,
    "start_time": "2023-04-12T02:33:39.460Z"
   },
   {
    "duration": 18,
    "start_time": "2023-04-12T02:33:42.051Z"
   },
   {
    "duration": 91,
    "start_time": "2023-04-12T02:33:42.072Z"
   },
   {
    "duration": 14,
    "start_time": "2023-04-12T02:33:42.166Z"
   },
   {
    "duration": 95,
    "start_time": "2023-04-12T02:33:42.183Z"
   },
   {
    "duration": 117,
    "start_time": "2023-04-12T02:33:42.280Z"
   },
   {
    "duration": 154,
    "start_time": "2023-04-12T02:33:42.400Z"
   },
   {
    "duration": 150,
    "start_time": "2023-04-12T02:33:42.556Z"
   },
   {
    "duration": 174,
    "start_time": "2023-04-12T02:33:42.708Z"
   },
   {
    "duration": 188,
    "start_time": "2023-04-12T02:33:42.884Z"
   },
   {
    "duration": 123,
    "start_time": "2023-04-12T02:33:43.074Z"
   },
   {
    "duration": 148,
    "start_time": "2023-04-12T02:33:43.199Z"
   },
   {
    "duration": 154,
    "start_time": "2023-04-12T02:33:43.350Z"
   },
   {
    "duration": 11,
    "start_time": "2023-04-12T02:33:43.507Z"
   },
   {
    "duration": 178,
    "start_time": "2023-04-12T02:33:43.520Z"
   },
   {
    "duration": 12,
    "start_time": "2023-04-12T02:33:43.700Z"
   },
   {
    "duration": 32,
    "start_time": "2023-04-12T02:33:43.713Z"
   },
   {
    "duration": 143,
    "start_time": "2023-04-12T02:33:43.747Z"
   },
   {
    "duration": 9,
    "start_time": "2023-04-12T02:33:43.892Z"
   },
   {
    "duration": 32,
    "start_time": "2023-04-12T02:33:43.903Z"
   },
   {
    "duration": 94,
    "start_time": "2023-04-12T02:33:43.936Z"
   },
   {
    "duration": 311,
    "start_time": "2023-04-12T02:33:44.044Z"
   },
   {
    "duration": 3529,
    "start_time": "2023-04-12T02:33:44.357Z"
   },
   {
    "duration": 144,
    "start_time": "2023-04-12T02:33:47.888Z"
   },
   {
    "duration": 8,
    "start_time": "2023-04-12T02:33:48.040Z"
   },
   {
    "duration": 154,
    "start_time": "2023-04-12T02:33:48.049Z"
   },
   {
    "duration": 1137,
    "start_time": "2023-04-12T02:33:48.205Z"
   },
   {
    "duration": 27,
    "start_time": "2023-04-12T02:33:49.344Z"
   },
   {
    "duration": 17,
    "start_time": "2023-04-12T02:33:49.373Z"
   },
   {
    "duration": 425,
    "start_time": "2023-04-12T02:33:49.392Z"
   },
   {
    "duration": 81,
    "start_time": "2023-04-12T02:33:49.820Z"
   },
   {
    "duration": 120,
    "start_time": "2023-04-12T02:55:28.828Z"
   },
   {
    "duration": 667,
    "start_time": "2023-04-12T13:22:26.415Z"
   },
   {
    "duration": 119,
    "start_time": "2023-04-12T13:22:27.084Z"
   },
   {
    "duration": 16,
    "start_time": "2023-04-12T13:22:27.205Z"
   },
   {
    "duration": 17,
    "start_time": "2023-04-12T13:22:27.223Z"
   },
   {
    "duration": 2202,
    "start_time": "2023-04-12T13:22:27.249Z"
   },
   {
    "duration": 41,
    "start_time": "2023-04-12T13:22:29.452Z"
   },
   {
    "duration": 2434,
    "start_time": "2023-04-12T13:22:29.494Z"
   },
   {
    "duration": 22,
    "start_time": "2023-04-12T13:22:31.930Z"
   },
   {
    "duration": 88,
    "start_time": "2023-04-12T13:22:31.953Z"
   },
   {
    "duration": 22,
    "start_time": "2023-04-12T13:22:32.043Z"
   },
   {
    "duration": 112,
    "start_time": "2023-04-12T13:22:32.067Z"
   },
   {
    "duration": 67,
    "start_time": "2023-04-12T13:22:32.181Z"
   },
   {
    "duration": 115,
    "start_time": "2023-04-12T13:22:32.250Z"
   },
   {
    "duration": 122,
    "start_time": "2023-04-12T13:22:32.366Z"
   },
   {
    "duration": 130,
    "start_time": "2023-04-12T13:22:32.489Z"
   },
   {
    "duration": 140,
    "start_time": "2023-04-12T13:22:32.621Z"
   },
   {
    "duration": 120,
    "start_time": "2023-04-12T13:22:32.763Z"
   },
   {
    "duration": 124,
    "start_time": "2023-04-12T13:22:32.885Z"
   },
   {
    "duration": 140,
    "start_time": "2023-04-12T13:22:33.011Z"
   },
   {
    "duration": 7,
    "start_time": "2023-04-12T13:22:33.153Z"
   },
   {
    "duration": 131,
    "start_time": "2023-04-12T13:22:33.161Z"
   },
   {
    "duration": 10,
    "start_time": "2023-04-12T13:22:33.294Z"
   },
   {
    "duration": 29,
    "start_time": "2023-04-12T13:22:33.306Z"
   },
   {
    "duration": 113,
    "start_time": "2023-04-12T13:22:33.337Z"
   },
   {
    "duration": 8,
    "start_time": "2023-04-12T13:22:33.452Z"
   },
   {
    "duration": 17,
    "start_time": "2023-04-12T13:22:33.462Z"
   },
   {
    "duration": 86,
    "start_time": "2023-04-12T13:22:33.480Z"
   },
   {
    "duration": 306,
    "start_time": "2023-04-12T13:22:33.569Z"
   },
   {
    "duration": 3047,
    "start_time": "2023-04-12T13:22:33.877Z"
   },
   {
    "duration": 134,
    "start_time": "2023-04-12T13:22:36.926Z"
   },
   {
    "duration": 6,
    "start_time": "2023-04-12T13:22:37.062Z"
   },
   {
    "duration": 149,
    "start_time": "2023-04-12T13:22:37.069Z"
   },
   {
    "duration": 1019,
    "start_time": "2023-04-12T13:22:37.220Z"
   },
   {
    "duration": 29,
    "start_time": "2023-04-12T13:22:38.241Z"
   },
   {
    "duration": 13,
    "start_time": "2023-04-12T13:22:38.272Z"
   },
   {
    "duration": 326,
    "start_time": "2023-04-12T13:22:38.286Z"
   },
   {
    "duration": 55,
    "start_time": "2023-04-12T13:22:38.613Z"
   },
   {
    "duration": 669,
    "start_time": "2023-09-23T16:33:37.993Z"
   },
   {
    "duration": 177,
    "start_time": "2023-09-23T16:33:38.665Z"
   },
   {
    "duration": 31,
    "start_time": "2023-09-23T16:33:59.674Z"
   },
   {
    "duration": 58,
    "start_time": "2023-09-23T16:34:29.162Z"
   }
  ],
  "kernelspec": {
   "display_name": "Python 3 (ipykernel)",
   "language": "python",
   "name": "python3"
  },
  "language_info": {
   "codemirror_mode": {
    "name": "ipython",
    "version": 3
   },
   "file_extension": ".py",
   "mimetype": "text/x-python",
   "name": "python",
   "nbconvert_exporter": "python",
   "pygments_lexer": "ipython3",
   "version": "3.9.5"
  },
  "toc": {
   "base_numbering": 1,
   "nav_menu": {},
   "number_sections": true,
   "sideBar": true,
   "skip_h1_title": true,
   "title_cell": "Table of Contents",
   "title_sidebar": "Contents",
   "toc_cell": false,
   "toc_position": {},
   "toc_section_display": true,
   "toc_window_display": false
  }
 },
 "nbformat": 4,
 "nbformat_minor": 2
}
