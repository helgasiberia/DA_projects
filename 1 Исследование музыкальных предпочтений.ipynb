{
 "cells": [
  {
   "cell_type": "markdown",
   "metadata": {
    "deletable": false,
    "editable": false,
    "id": "E0vqbgi9ay0H"
   },
   "source": [
    "# Яндекс.Музыка"
   ]
  },
  {
   "cell_type": "markdown",
   "metadata": {
    "deletable": false,
    "editable": false,
    "id": "VUC88oWjTJw2"
   },
   "source": [
    "Сравнение Москвы и Петербурга окружено мифами. Например:\n",
    " * Москва — мегаполис, подчинённый жёсткому ритму рабочей недели;\n",
    " * Петербург — культурная столица, со своими вкусами.\n",
    "\n",
    "На данных Яндекс Музыки вы сравните поведение пользователей двух столиц.\n",
    "\n",
    "**Цель исследования** — проверьте три гипотезы:\n",
    "1. Активность пользователей зависит от дня недели. Причём в Москве и Петербурге это проявляется по-разному.\n",
    "2. В понедельник утром в Москве преобладают одни жанры, а в Петербурге — другие. Так же и вечером пятницы преобладают разные жанры — в зависимости от города. \n",
    "3. Москва и Петербург предпочитают разные жанры музыки. В Москве чаще слушают поп-музыку, в Петербурге — русский рэп.\n",
    "\n",
    "**Ход исследования**\n",
    "\n",
    "Данные о поведении пользователей вы получите из файла `yandex_music_project.csv`. О качестве данных ничего не известно. Поэтому перед проверкой гипотез понадобится обзор данных. \n",
    "\n",
    "Вы проверите данные на ошибки и оцените их влияние на исследование. Затем, на этапе предобработки вы поищете возможность исправить самые критичные ошибки данных.\n",
    " \n",
    "Таким образом, исследование пройдёт в три этапа:\n",
    " 1. Обзор данных.\n",
    " 2. Предобработка данных.\n",
    " 3. Проверка гипотез.\n",
    "\n"
   ]
  },
  {
   "cell_type": "markdown",
   "metadata": {
    "deletable": false,
    "editable": false,
    "id": "Ml1hmfXC_Zcs"
   },
   "source": [
    "## Обзор данных\n",
    "\n",
    "Составьте первое представление о данных Яндекс Музыки.\n",
    "\n",
    "\n"
   ]
  },
  {
   "cell_type": "markdown",
   "metadata": {
    "deletable": false,
    "editable": false,
    "id": "57eAOGIz_Zcs",
    "tags": [
     "start_task"
    ]
   },
   "source": [
    "**Задание 1**\n",
    "\n",
    "Основной инструмент аналитика — `pandas`. Импортируйте эту библиотеку."
   ]
  },
  {
   "cell_type": "code",
   "execution_count": 1,
   "metadata": {
    "deletable": false,
    "id": "AXN7PHPN_Zcs"
   },
   "outputs": [],
   "source": [
    "import pandas as pd # импорт библиотеки pandas"
   ]
  },
  {
   "cell_type": "markdown",
   "metadata": {
    "deletable": false,
    "editable": false,
    "id": "SG23P8tt_Zcs",
    "tags": [
     "start_task"
    ]
   },
   "source": [
    "**Задание 2**\n",
    "\n",
    "Прочитайте файл `yandex_music_project.csv` из папки `/datasets` и сохраните его в переменной `df`:"
   ]
  },
  {
   "cell_type": "code",
   "execution_count": 2,
   "metadata": {
    "deletable": false,
    "id": "fFVu7vqh_Zct"
   },
   "outputs": [],
   "source": [
    "df = pd.read_csv('/datasets/yandex_music_project.csv')# чтение файла с данными и сохранение в df"
   ]
  },
  {
   "cell_type": "markdown",
   "metadata": {
    "deletable": false,
    "editable": false,
    "id": "rDoOMd3uTqnZ",
    "tags": [
     "start_task"
    ]
   },
   "source": [
    "**Задание 3**\n",
    "\n",
    "\n",
    "Выведите на экран первые десять строк таблицы:"
   ]
  },
  {
   "cell_type": "code",
   "execution_count": 3,
   "metadata": {
    "deletable": false,
    "id": "oWTVX3gW_Zct"
   },
   "outputs": [
    {
     "data": {
      "text/html": [
       "<div>\n",
       "<style scoped>\n",
       "    .dataframe tbody tr th:only-of-type {\n",
       "        vertical-align: middle;\n",
       "    }\n",
       "\n",
       "    .dataframe tbody tr th {\n",
       "        vertical-align: top;\n",
       "    }\n",
       "\n",
       "    .dataframe thead th {\n",
       "        text-align: right;\n",
       "    }\n",
       "</style>\n",
       "<table border=\"1\" class=\"dataframe\">\n",
       "  <thead>\n",
       "    <tr style=\"text-align: right;\">\n",
       "      <th></th>\n",
       "      <th>userID</th>\n",
       "      <th>Track</th>\n",
       "      <th>artist</th>\n",
       "      <th>genre</th>\n",
       "      <th>City</th>\n",
       "      <th>time</th>\n",
       "      <th>Day</th>\n",
       "    </tr>\n",
       "  </thead>\n",
       "  <tbody>\n",
       "    <tr>\n",
       "      <th>0</th>\n",
       "      <td>FFB692EC</td>\n",
       "      <td>Kamigata To Boots</td>\n",
       "      <td>The Mass Missile</td>\n",
       "      <td>rock</td>\n",
       "      <td>Saint-Petersburg</td>\n",
       "      <td>20:28:33</td>\n",
       "      <td>Wednesday</td>\n",
       "    </tr>\n",
       "    <tr>\n",
       "      <th>1</th>\n",
       "      <td>55204538</td>\n",
       "      <td>Delayed Because of Accident</td>\n",
       "      <td>Andreas Rönnberg</td>\n",
       "      <td>rock</td>\n",
       "      <td>Moscow</td>\n",
       "      <td>14:07:09</td>\n",
       "      <td>Friday</td>\n",
       "    </tr>\n",
       "    <tr>\n",
       "      <th>2</th>\n",
       "      <td>20EC38</td>\n",
       "      <td>Funiculì funiculà</td>\n",
       "      <td>Mario Lanza</td>\n",
       "      <td>pop</td>\n",
       "      <td>Saint-Petersburg</td>\n",
       "      <td>20:58:07</td>\n",
       "      <td>Wednesday</td>\n",
       "    </tr>\n",
       "    <tr>\n",
       "      <th>3</th>\n",
       "      <td>A3DD03C9</td>\n",
       "      <td>Dragons in the Sunset</td>\n",
       "      <td>Fire + Ice</td>\n",
       "      <td>folk</td>\n",
       "      <td>Saint-Petersburg</td>\n",
       "      <td>08:37:09</td>\n",
       "      <td>Monday</td>\n",
       "    </tr>\n",
       "    <tr>\n",
       "      <th>4</th>\n",
       "      <td>E2DC1FAE</td>\n",
       "      <td>Soul People</td>\n",
       "      <td>Space Echo</td>\n",
       "      <td>dance</td>\n",
       "      <td>Moscow</td>\n",
       "      <td>08:34:34</td>\n",
       "      <td>Monday</td>\n",
       "    </tr>\n",
       "    <tr>\n",
       "      <th>5</th>\n",
       "      <td>842029A1</td>\n",
       "      <td>Преданная</td>\n",
       "      <td>IMPERVTOR</td>\n",
       "      <td>rusrap</td>\n",
       "      <td>Saint-Petersburg</td>\n",
       "      <td>13:09:41</td>\n",
       "      <td>Friday</td>\n",
       "    </tr>\n",
       "    <tr>\n",
       "      <th>6</th>\n",
       "      <td>4CB90AA5</td>\n",
       "      <td>True</td>\n",
       "      <td>Roman Messer</td>\n",
       "      <td>dance</td>\n",
       "      <td>Moscow</td>\n",
       "      <td>13:00:07</td>\n",
       "      <td>Wednesday</td>\n",
       "    </tr>\n",
       "    <tr>\n",
       "      <th>7</th>\n",
       "      <td>F03E1C1F</td>\n",
       "      <td>Feeling This Way</td>\n",
       "      <td>Polina Griffith</td>\n",
       "      <td>dance</td>\n",
       "      <td>Moscow</td>\n",
       "      <td>20:47:49</td>\n",
       "      <td>Wednesday</td>\n",
       "    </tr>\n",
       "    <tr>\n",
       "      <th>8</th>\n",
       "      <td>8FA1D3BE</td>\n",
       "      <td>И вновь продолжается бой</td>\n",
       "      <td>NaN</td>\n",
       "      <td>ruspop</td>\n",
       "      <td>Moscow</td>\n",
       "      <td>09:17:40</td>\n",
       "      <td>Friday</td>\n",
       "    </tr>\n",
       "    <tr>\n",
       "      <th>9</th>\n",
       "      <td>E772D5C0</td>\n",
       "      <td>Pessimist</td>\n",
       "      <td>NaN</td>\n",
       "      <td>dance</td>\n",
       "      <td>Saint-Petersburg</td>\n",
       "      <td>21:20:49</td>\n",
       "      <td>Wednesday</td>\n",
       "    </tr>\n",
       "  </tbody>\n",
       "</table>\n",
       "</div>"
      ],
      "text/plain": [
       "     userID                        Track            artist   genre  \\\n",
       "0  FFB692EC            Kamigata To Boots  The Mass Missile    rock   \n",
       "1  55204538  Delayed Because of Accident  Andreas Rönnberg    rock   \n",
       "2    20EC38            Funiculì funiculà       Mario Lanza     pop   \n",
       "3  A3DD03C9        Dragons in the Sunset        Fire + Ice    folk   \n",
       "4  E2DC1FAE                  Soul People        Space Echo   dance   \n",
       "5  842029A1                    Преданная         IMPERVTOR  rusrap   \n",
       "6  4CB90AA5                         True      Roman Messer   dance   \n",
       "7  F03E1C1F             Feeling This Way   Polina Griffith   dance   \n",
       "8  8FA1D3BE     И вновь продолжается бой               NaN  ruspop   \n",
       "9  E772D5C0                    Pessimist               NaN   dance   \n",
       "\n",
       "             City        time        Day  \n",
       "0  Saint-Petersburg  20:28:33  Wednesday  \n",
       "1            Moscow  14:07:09     Friday  \n",
       "2  Saint-Petersburg  20:58:07  Wednesday  \n",
       "3  Saint-Petersburg  08:37:09     Monday  \n",
       "4            Moscow  08:34:34     Monday  \n",
       "5  Saint-Petersburg  13:09:41     Friday  \n",
       "6            Moscow  13:00:07  Wednesday  \n",
       "7            Moscow  20:47:49  Wednesday  \n",
       "8            Moscow  09:17:40     Friday  \n",
       "9  Saint-Petersburg  21:20:49  Wednesday  "
      ]
     },
     "execution_count": 3,
     "metadata": {},
     "output_type": "execute_result"
    }
   ],
   "source": [
    "df.head(10)# получение первых 10 строк таблицы df"
   ]
  },
  {
   "cell_type": "markdown",
   "metadata": {
    "deletable": false,
    "editable": false,
    "id": "EO73Kwic_Zct",
    "tags": [
     "start_task"
    ]
   },
   "source": [
    "**Задание 4**\n",
    "\n",
    "\n",
    "Одной командой получить общую информацию о таблице c помощью метода `info()`:"
   ]
  },
  {
   "cell_type": "code",
   "execution_count": 4,
   "metadata": {
    "deletable": false,
    "id": "DSf2kIb-_Zct"
   },
   "outputs": [
    {
     "name": "stdout",
     "output_type": "stream",
     "text": [
      "<class 'pandas.core.frame.DataFrame'>\n",
      "RangeIndex: 65079 entries, 0 to 65078\n",
      "Data columns (total 7 columns):\n",
      " #   Column    Non-Null Count  Dtype \n",
      "---  ------    --------------  ----- \n",
      " 0     userID  65079 non-null  object\n",
      " 1   Track     63848 non-null  object\n",
      " 2   artist    57876 non-null  object\n",
      " 3   genre     63881 non-null  object\n",
      " 4     City    65079 non-null  object\n",
      " 5   time      65079 non-null  object\n",
      " 6   Day       65079 non-null  object\n",
      "dtypes: object(7)\n",
      "memory usage: 3.5+ MB\n"
     ]
    }
   ],
   "source": [
    "df.info()# получение общей информации о данных в таблице df"
   ]
  },
  {
   "cell_type": "markdown",
   "metadata": {
    "deletable": false,
    "editable": false,
    "id": "TaQ2Iwbr_Zct"
   },
   "source": [
    "Итак, в таблице семь столбцов. Тип данных во всех столбцах — `object`.\n",
    "\n",
    "Согласно документации к данным:\n",
    "* `userID` — идентификатор пользователя;\n",
    "* `Track` — название трека;  \n",
    "* `artist` — имя исполнителя;\n",
    "* `genre` — название жанра;\n",
    "* `City` — город пользователя;\n",
    "* `time` — время начала прослушивания;\n",
    "* `Day` — день недели.\n",
    "\n",
    "Количество значений в столбцах различается. Значит, в данных есть пропущенные значения."
   ]
  },
  {
   "cell_type": "markdown",
   "metadata": {
    "deletable": false,
    "editable": false,
    "id": "4P0UCWzswgEm",
    "tags": [
     "start_task"
    ]
   },
   "source": [
    "**Задание 5**\n",
    "\n",
    "**Вопрос со свободной формой ответа**\n",
    "\n",
    "В названиях колонок видны три нарушения стиля:\n",
    "1. Строчные буквы сочетаются с прописными.\n",
    "2. Встречаются пробелы."
   ]
  },
  {
   "cell_type": "code",
   "execution_count": 5,
   "metadata": {
    "id": "c137-ZstwgEm"
   },
   "outputs": [],
   "source": [
    "# названия не соответствуют змеиному регистру # Напишите ваш ответ здесь комментарием. Не удаляйте символ #. Не меняйте тип этой ячейки на Markdown."
   ]
  },
  {
   "cell_type": "markdown",
   "metadata": {
    "deletable": false,
    "editable": false,
    "id": "MCB6-dXG_Zct"
   },
   "source": [
    "**Выводы**\n",
    "\n",
    "В каждой строке таблицы — данные о прослушанном треке. Часть колонок описывает саму композицию: название, исполнителя и жанр. Остальные данные рассказывают о пользователе: из какого он города, когда он слушал музыку. \n",
    "\n",
    "Предварительно можно утверждать, что, данных достаточно для проверки гипотез. Но встречаются пропуски в данных, а в названиях колонок — расхождения с хорошим стилем.\n",
    "\n",
    "Чтобы двигаться дальше, нужно устранить проблемы в данных."
   ]
  },
  {
   "cell_type": "markdown",
   "metadata": {
    "deletable": false,
    "editable": false,
    "id": "SjYF6Ub9_Zct"
   },
   "source": [
    "## Предобработка данных\n",
    "Исправьте стиль в заголовках столбцов, исключите пропуски. Затем проверьте данные на дубликаты."
   ]
  },
  {
   "cell_type": "markdown",
   "metadata": {
    "deletable": false,
    "editable": false,
    "id": "dIaKXr29_Zct",
    "tags": [
     "start_task"
    ]
   },
   "source": [
    "### Стиль заголовков\n",
    "\n",
    "**Задание 6**\n",
    "\n",
    "Выведите на экран названия столбцов:"
   ]
  },
  {
   "cell_type": "code",
   "execution_count": 6,
   "metadata": {
    "deletable": false,
    "id": "oKOTdF_Q_Zct"
   },
   "outputs": [
    {
     "data": {
      "text/plain": [
       "Index(['  userID', 'Track', 'artist', 'genre', '  City  ', 'time', 'Day'], dtype='object')"
      ]
     },
     "execution_count": 6,
     "metadata": {},
     "output_type": "execute_result"
    }
   ],
   "source": [
    "df.columns# перечень названий столбцов таблицы df"
   ]
  },
  {
   "cell_type": "markdown",
   "metadata": {
    "deletable": false,
    "editable": false,
    "id": "zj5534cv_Zct",
    "tags": [
     "start_task"
    ]
   },
   "source": [
    "**Задание 7**\n",
    "\n",
    "\n",
    "Приведите названия в соответствие с хорошим стилем:\n",
    "* несколько слов в названии запишите в «змеином_регистре»,\n",
    "* все символы сделайте строчными,\n",
    "* устраните пробелы.\n",
    "\n",
    "Для этого переименуйте колонки так:\n",
    "* `'  userID'` → `'user_id'`;\n",
    "* `'Track'` → `'track'`;\n",
    "* `'  City  '` → `'city'`;\n",
    "* `'Day'` → `'day'`."
   ]
  },
  {
   "cell_type": "code",
   "execution_count": 7,
   "metadata": {
    "deletable": false,
    "id": "ISlFqs5y_Zct"
   },
   "outputs": [],
   "source": [
    "df = df.rename(columns={'  userID': 'user_id', 'Track': 'track', '  City  ': 'city', 'Day':'day'})# переименование столбцов"
   ]
  },
  {
   "cell_type": "markdown",
   "metadata": {
    "deletable": false,
    "editable": false,
    "id": "1dqbh00J_Zct",
    "tags": [
     "start_task"
    ]
   },
   "source": [
    "**Задание 8**\n",
    "\n",
    "\n",
    "Проверьте результат. Для этого ещё раз выведите на экран названия столбцов:"
   ]
  },
  {
   "cell_type": "code",
   "execution_count": 8,
   "metadata": {
    "deletable": false,
    "id": "d4NOAmTW_Zct"
   },
   "outputs": [
    {
     "data": {
      "text/plain": [
       "Index(['user_id', 'track', 'artist', 'genre', 'city', 'time', 'day'], dtype='object')"
      ]
     },
     "execution_count": 8,
     "metadata": {},
     "output_type": "execute_result"
    }
   ],
   "source": [
    "df.columns # проверка результатов - перечень названий столбцов"
   ]
  },
  {
   "cell_type": "markdown",
   "metadata": {
    "deletable": false,
    "editable": false,
    "id": "5ISfbcfY_Zct",
    "tags": [
     "start_task"
    ]
   },
   "source": [
    "### Пропуски значений\n",
    "\n",
    "**Задание 9**\n",
    "\n",
    "Сначала посчитайте, сколько в таблице пропущенных значений. Для этого достаточно двух методов `pandas`:"
   ]
  },
  {
   "cell_type": "code",
   "execution_count": 9,
   "metadata": {
    "deletable": false,
    "id": "RskX29qr_Zct"
   },
   "outputs": [
    {
     "data": {
      "text/plain": [
       "user_id       0\n",
       "track      1231\n",
       "artist     7203\n",
       "genre      1198\n",
       "city          0\n",
       "time          0\n",
       "day           0\n",
       "dtype: int64"
      ]
     },
     "execution_count": 9,
     "metadata": {},
     "output_type": "execute_result"
    }
   ],
   "source": [
    "df.isna().sum()# подсчёт пропусков"
   ]
  },
  {
   "cell_type": "markdown",
   "metadata": {
    "deletable": false,
    "editable": false,
    "id": "qubhgnlO_Zct"
   },
   "source": [
    "Не все пропущенные значения влияют на исследование. Так в `track` и `artist` пропуски не важны для вашей работы. Достаточно заменить их явными обозначениями.\n",
    "\n",
    "Но пропуски в `genre` могут помешать сравнению музыкальных вкусов в Москве и Санкт-Петербурге. На практике было бы правильно установить причину пропусков и восстановить данные. Такой возможности нет в учебном проекте. Придётся:\n",
    "* заполнить и эти пропуски явными обозначениями,\n",
    "* оценить, насколько они повредят расчётам. "
   ]
  },
  {
   "cell_type": "markdown",
   "metadata": {
    "deletable": false,
    "editable": false,
    "id": "fSv2laPA_Zct",
    "tags": [
     "start_task"
    ]
   },
   "source": [
    "**Задание 10**\n",
    "\n",
    "Замените пропущенные значения в столбцах `track`, `artist` и `genre` на строку `'unknown'`. Для этого создайте список `columns_to_replace`, переберите его элементы циклом `for` и для каждого столбца выполните замену пропущенных значений:"
   ]
  },
  {
   "cell_type": "code",
   "execution_count": 10,
   "metadata": {
    "deletable": false,
    "id": "KplB5qWs_Zct"
   },
   "outputs": [],
   "source": [
    "columns_to_replace = ['track', 'artist', 'genre']\n",
    "for el in columns_to_replace:\n",
    "    df['track'] = df['track'].fillna('unknown')\n",
    "    df['artist'] = df['artist'].fillna('unknown')\n",
    "    df['genre'] = df['genre'].fillna('unknown')# перебор названий столбцов в цикле и замена пропущенных значений на 'unknown'"
   ]
  },
  {
   "cell_type": "markdown",
   "metadata": {
    "deletable": false,
    "editable": false,
    "id": "Ilsm-MZo_Zct",
    "tags": [
     "start_task"
    ]
   },
   "source": [
    "**Задание 11**\n",
    "\n",
    "Убедитесь, что в таблице не осталось пропусков. Для этого ещё раз посчитайте пропущенные значения."
   ]
  },
  {
   "cell_type": "code",
   "execution_count": 11,
   "metadata": {
    "deletable": false,
    "id": "Tq4nYRX4_Zct"
   },
   "outputs": [
    {
     "data": {
      "text/plain": [
       "user_id    0\n",
       "track      0\n",
       "artist     0\n",
       "genre      0\n",
       "city       0\n",
       "time       0\n",
       "day        0\n",
       "dtype: int64"
      ]
     },
     "execution_count": 11,
     "metadata": {},
     "output_type": "execute_result"
    }
   ],
   "source": [
    "df.isna().sum()# подсчёт пропусков"
   ]
  },
  {
   "cell_type": "markdown",
   "metadata": {
    "deletable": false,
    "editable": false,
    "id": "BWKRtBJ3_Zct",
    "tags": [
     "start_task"
    ]
   },
   "source": [
    "### Дубликаты\n",
    "\n",
    "**Задание 12**\n",
    "\n",
    "Посчитайте явные дубликаты в таблице одной командой:"
   ]
  },
  {
   "cell_type": "code",
   "execution_count": 12,
   "metadata": {
    "deletable": false,
    "id": "36eES_S0_Zct"
   },
   "outputs": [
    {
     "data": {
      "text/plain": [
       "3826"
      ]
     },
     "execution_count": 12,
     "metadata": {},
     "output_type": "execute_result"
    }
   ],
   "source": [
    "df.duplicated().sum() # подсчёт явных дубликатов"
   ]
  },
  {
   "cell_type": "markdown",
   "metadata": {
    "deletable": false,
    "editable": false,
    "id": "Ot25h6XR_Zct",
    "tags": [
     "start_task"
    ]
   },
   "source": [
    "**Задание 13**\n",
    "\n",
    "Вызовите специальный метод `pandas`, чтобы удалить явные дубликаты:"
   ]
  },
  {
   "cell_type": "code",
   "execution_count": 13,
   "metadata": {
    "deletable": false,
    "id": "exFHq6tt_Zct"
   },
   "outputs": [],
   "source": [
    "df = df.drop_duplicates() # удаление явных дубликатов (с удалением старых индексов и формированием новых)"
   ]
  },
  {
   "cell_type": "markdown",
   "metadata": {
    "deletable": false,
    "editable": false,
    "id": "Im2YwBEG_Zct",
    "tags": [
     "start_task"
    ]
   },
   "source": [
    "**Задание 14**\n",
    "\n",
    "Ещё раз посчитайте явные дубликаты в таблице — убедитесь, что полностью от них избавились:"
   ]
  },
  {
   "cell_type": "code",
   "execution_count": 14,
   "metadata": {
    "deletable": false,
    "id": "-8PuNWQ0_Zct"
   },
   "outputs": [
    {
     "data": {
      "text/plain": [
       "0"
      ]
     },
     "execution_count": 14,
     "metadata": {},
     "output_type": "execute_result"
    }
   ],
   "source": [
    "df.duplicated().sum()# проверка на отсутствие дубликатов"
   ]
  },
  {
   "cell_type": "markdown",
   "metadata": {
    "deletable": false,
    "editable": false,
    "id": "QlFBsxAr_Zct"
   },
   "source": [
    "Теперь избавьтесь от неявных дубликатов в колонке `genre`. Например, название одного и того же жанра может быть записано немного по-разному. Такие ошибки тоже повлияют на результат исследования."
   ]
  },
  {
   "cell_type": "markdown",
   "metadata": {
    "deletable": false,
    "editable": false,
    "id": "eSjWwsOh_Zct",
    "tags": [
     "start_task"
    ]
   },
   "source": [
    "**Задание 15**\n",
    "\n",
    "Выведите на экран список уникальных названий жанров, отсортированный в алфавитном порядке. Для этого:\n",
    "* извлеките нужный столбец датафрейма, \n",
    "* примените к нему метод сортировки,\n",
    "* для отсортированного столбца вызовите метод, который вернёт уникальные значения из столбца."
   ]
  },
  {
   "cell_type": "code",
   "execution_count": 15,
   "metadata": {
    "deletable": false,
    "id": "JIUcqzZN_Zct"
   },
   "outputs": [
    {
     "data": {
      "text/plain": [
       "array(['acid', 'acoustic', 'action', 'adult', 'africa', 'afrikaans',\n",
       "       'alternative', 'alternativepunk', 'ambient', 'americana',\n",
       "       'animated', 'anime', 'arabesk', 'arabic', 'arena',\n",
       "       'argentinetango', 'art', 'audiobook', 'author', 'avantgarde',\n",
       "       'axé', 'baile', 'balkan', 'beats', 'bigroom', 'black', 'bluegrass',\n",
       "       'blues', 'bollywood', 'bossa', 'brazilian', 'breakbeat', 'breaks',\n",
       "       'broadway', 'cantautori', 'cantopop', 'canzone', 'caribbean',\n",
       "       'caucasian', 'celtic', 'chamber', 'chanson', 'children', 'chill',\n",
       "       'chinese', 'choral', 'christian', 'christmas', 'classical',\n",
       "       'classicmetal', 'club', 'colombian', 'comedy', 'conjazz',\n",
       "       'contemporary', 'country', 'cuban', 'dance', 'dancehall',\n",
       "       'dancepop', 'dark', 'death', 'deep', 'deutschrock', 'deutschspr',\n",
       "       'dirty', 'disco', 'dnb', 'documentary', 'downbeat', 'downtempo',\n",
       "       'drum', 'dub', 'dubstep', 'eastern', 'easy', 'electronic',\n",
       "       'electropop', 'emo', 'entehno', 'epicmetal', 'estrada', 'ethnic',\n",
       "       'eurofolk', 'european', 'experimental', 'extrememetal', 'fado',\n",
       "       'fairytail', 'film', 'fitness', 'flamenco', 'folk', 'folklore',\n",
       "       'folkmetal', 'folkrock', 'folktronica', 'forró', 'frankreich',\n",
       "       'französisch', 'french', 'funk', 'future', 'gangsta', 'garage',\n",
       "       'german', 'ghazal', 'gitarre', 'glitch', 'gospel', 'gothic',\n",
       "       'grime', 'grunge', 'gypsy', 'handsup', \"hard'n'heavy\", 'hardcore',\n",
       "       'hardstyle', 'hardtechno', 'hip', 'hip-hop', 'hiphop',\n",
       "       'historisch', 'holiday', 'hop', 'horror', 'house', 'hymn', 'idm',\n",
       "       'independent', 'indian', 'indie', 'indipop', 'industrial',\n",
       "       'inspirational', 'instrumental', 'international', 'irish', 'jam',\n",
       "       'japanese', 'jazz', 'jewish', 'jpop', 'jungle', 'k-pop',\n",
       "       'karadeniz', 'karaoke', 'kayokyoku', 'korean', 'laiko', 'latin',\n",
       "       'latino', 'leftfield', 'local', 'lounge', 'loungeelectronic',\n",
       "       'lovers', 'malaysian', 'mandopop', 'marschmusik', 'meditative',\n",
       "       'mediterranean', 'melodic', 'metal', 'metalcore', 'mexican',\n",
       "       'middle', 'minimal', 'miscellaneous', 'modern', 'mood', 'mpb',\n",
       "       'muslim', 'native', 'neoklassik', 'neue', 'new', 'newage',\n",
       "       'newwave', 'nu', 'nujazz', 'numetal', 'oceania', 'old', 'opera',\n",
       "       'orchestral', 'other', 'piano', 'podcasts', 'pop', 'popdance',\n",
       "       'popelectronic', 'popeurodance', 'poprussian', 'post',\n",
       "       'posthardcore', 'postrock', 'power', 'progmetal', 'progressive',\n",
       "       'psychedelic', 'punjabi', 'punk', 'quebecois', 'ragga', 'ram',\n",
       "       'rancheras', 'rap', 'rave', 'reggae', 'reggaeton', 'regional',\n",
       "       'relax', 'religious', 'retro', 'rhythm', 'rnb', 'rnr', 'rock',\n",
       "       'rockabilly', 'rockalternative', 'rockindie', 'rockother',\n",
       "       'romance', 'roots', 'ruspop', 'rusrap', 'rusrock', 'russian',\n",
       "       'salsa', 'samba', 'scenic', 'schlager', 'self', 'sertanejo',\n",
       "       'shanson', 'shoegazing', 'showtunes', 'singer', 'ska', 'skarock',\n",
       "       'slow', 'smooth', 'soft', 'soul', 'soulful', 'sound', 'soundtrack',\n",
       "       'southern', 'specialty', 'speech', 'spiritual', 'sport',\n",
       "       'stonerrock', 'surf', 'swing', 'synthpop', 'synthrock',\n",
       "       'sängerportrait', 'tango', 'tanzorchester', 'taraftar', 'tatar',\n",
       "       'tech', 'techno', 'teen', 'thrash', 'top', 'traditional',\n",
       "       'tradjazz', 'trance', 'tribal', 'trip', 'triphop', 'tropical',\n",
       "       'türk', 'türkçe', 'ukrrock', 'unknown', 'urban', 'uzbek',\n",
       "       'variété', 'vi', 'videogame', 'vocal', 'western', 'world',\n",
       "       'worldbeat', 'ïîï', 'электроника'], dtype=object)"
      ]
     },
     "execution_count": 15,
     "metadata": {},
     "output_type": "execute_result"
    }
   ],
   "source": [
    "df['genre'].sort_values().unique()# Просмотр уникальных названий жанров"
   ]
  },
  {
   "cell_type": "markdown",
   "metadata": {
    "deletable": false,
    "editable": false,
    "id": "qej-Qmuo_Zct",
    "tags": [
     "start_task"
    ]
   },
   "source": [
    "**Задание 16**\n",
    "\n",
    "Просмотрите список и найдите неявные дубликаты названия `hiphop`. Это могут быть названия с ошибками или альтернативные названия того же жанра.\n",
    "\n",
    "Вы увидите следующие неявные дубликаты:\n",
    "* *hip*,\n",
    "* *hop*,\n",
    "* *hip-hop*.\n",
    "\n",
    "Чтобы очистить от них таблицу используйте метод `replace()` с двумя аргументами: списком строк-дубликатов (включащий *hip*, *hop* и *hip-hop*) и строкой с правильным значением. Вам нужно исправить колонку `genre` в таблице `df`: заменить каждое значение из списка дубликатов на верное. Вместо `hip`, `hop` и `hip-hop` в таблице должно быть значение `hiphop`:"
   ]
  },
  {
   "cell_type": "code",
   "execution_count": 16,
   "metadata": {
    "deletable": false,
    "id": "ErNDkmns_Zct"
   },
   "outputs": [],
   "source": [
    "df = df.replace({'hip': 'hiphop', 'hip-hop': 'hiphop', 'hop': 'hiphop'})  \n",
    "       # Устранение неявных дубликатов\n",
    "duplicates = ['hip', 'hip-hop', 'hop'] # список неправильных имён\n",
    "name = 'hiphop' # правильное имя\n",
    "df['genre'] = df['genre'].replace(duplicates, name) # замена всех значений из duplicates на name\n",
    " # датафрейм изменился, неявные дубликаты устранены "
   ]
  },
  {
   "cell_type": "markdown",
   "metadata": {
    "deletable": false,
    "editable": false,
    "id": "zQKF16_RG15m",
    "tags": [
     "start_task"
    ]
   },
   "source": [
    "**Задание 17**\n",
    "\n",
    "Проверьте, что заменили неправильные названия:\n",
    "\n",
    "*   hip\n",
    "*   hop\n",
    "*   hip-hop\n",
    "\n",
    "Выведите отсортированный список уникальных значений столбца `genre`:"
   ]
  },
  {
   "cell_type": "code",
   "execution_count": 17,
   "metadata": {
    "deletable": false,
    "id": "wvixALnFG15m"
   },
   "outputs": [
    {
     "data": {
      "text/plain": [
       "array(['acid', 'acoustic', 'action', 'adult', 'africa', 'afrikaans',\n",
       "       'alternative', 'alternativepunk', 'ambient', 'americana',\n",
       "       'animated', 'anime', 'arabesk', 'arabic', 'arena',\n",
       "       'argentinetango', 'art', 'audiobook', 'author', 'avantgarde',\n",
       "       'axé', 'baile', 'balkan', 'beats', 'bigroom', 'black', 'bluegrass',\n",
       "       'blues', 'bollywood', 'bossa', 'brazilian', 'breakbeat', 'breaks',\n",
       "       'broadway', 'cantautori', 'cantopop', 'canzone', 'caribbean',\n",
       "       'caucasian', 'celtic', 'chamber', 'chanson', 'children', 'chill',\n",
       "       'chinese', 'choral', 'christian', 'christmas', 'classical',\n",
       "       'classicmetal', 'club', 'colombian', 'comedy', 'conjazz',\n",
       "       'contemporary', 'country', 'cuban', 'dance', 'dancehall',\n",
       "       'dancepop', 'dark', 'death', 'deep', 'deutschrock', 'deutschspr',\n",
       "       'dirty', 'disco', 'dnb', 'documentary', 'downbeat', 'downtempo',\n",
       "       'drum', 'dub', 'dubstep', 'eastern', 'easy', 'electronic',\n",
       "       'electropop', 'emo', 'entehno', 'epicmetal', 'estrada', 'ethnic',\n",
       "       'eurofolk', 'european', 'experimental', 'extrememetal', 'fado',\n",
       "       'fairytail', 'film', 'fitness', 'flamenco', 'folk', 'folklore',\n",
       "       'folkmetal', 'folkrock', 'folktronica', 'forró', 'frankreich',\n",
       "       'französisch', 'french', 'funk', 'future', 'gangsta', 'garage',\n",
       "       'german', 'ghazal', 'gitarre', 'glitch', 'gospel', 'gothic',\n",
       "       'grime', 'grunge', 'gypsy', 'handsup', \"hard'n'heavy\", 'hardcore',\n",
       "       'hardstyle', 'hardtechno', 'hiphop', 'historisch', 'holiday',\n",
       "       'horror', 'house', 'hymn', 'idm', 'independent', 'indian', 'indie',\n",
       "       'indipop', 'industrial', 'inspirational', 'instrumental',\n",
       "       'international', 'irish', 'jam', 'japanese', 'jazz', 'jewish',\n",
       "       'jpop', 'jungle', 'k-pop', 'karadeniz', 'karaoke', 'kayokyoku',\n",
       "       'korean', 'laiko', 'latin', 'latino', 'leftfield', 'local',\n",
       "       'lounge', 'loungeelectronic', 'lovers', 'malaysian', 'mandopop',\n",
       "       'marschmusik', 'meditative', 'mediterranean', 'melodic', 'metal',\n",
       "       'metalcore', 'mexican', 'middle', 'minimal', 'miscellaneous',\n",
       "       'modern', 'mood', 'mpb', 'muslim', 'native', 'neoklassik', 'neue',\n",
       "       'new', 'newage', 'newwave', 'nu', 'nujazz', 'numetal', 'oceania',\n",
       "       'old', 'opera', 'orchestral', 'other', 'piano', 'podcasts', 'pop',\n",
       "       'popdance', 'popelectronic', 'popeurodance', 'poprussian', 'post',\n",
       "       'posthardcore', 'postrock', 'power', 'progmetal', 'progressive',\n",
       "       'psychedelic', 'punjabi', 'punk', 'quebecois', 'ragga', 'ram',\n",
       "       'rancheras', 'rap', 'rave', 'reggae', 'reggaeton', 'regional',\n",
       "       'relax', 'religious', 'retro', 'rhythm', 'rnb', 'rnr', 'rock',\n",
       "       'rockabilly', 'rockalternative', 'rockindie', 'rockother',\n",
       "       'romance', 'roots', 'ruspop', 'rusrap', 'rusrock', 'russian',\n",
       "       'salsa', 'samba', 'scenic', 'schlager', 'self', 'sertanejo',\n",
       "       'shanson', 'shoegazing', 'showtunes', 'singer', 'ska', 'skarock',\n",
       "       'slow', 'smooth', 'soft', 'soul', 'soulful', 'sound', 'soundtrack',\n",
       "       'southern', 'specialty', 'speech', 'spiritual', 'sport',\n",
       "       'stonerrock', 'surf', 'swing', 'synthpop', 'synthrock',\n",
       "       'sängerportrait', 'tango', 'tanzorchester', 'taraftar', 'tatar',\n",
       "       'tech', 'techno', 'teen', 'thrash', 'top', 'traditional',\n",
       "       'tradjazz', 'trance', 'tribal', 'trip', 'triphop', 'tropical',\n",
       "       'türk', 'türkçe', 'ukrrock', 'unknown', 'urban', 'uzbek',\n",
       "       'variété', 'vi', 'videogame', 'vocal', 'western', 'world',\n",
       "       'worldbeat', 'ïîï', 'электроника'], dtype=object)"
      ]
     },
     "execution_count": 17,
     "metadata": {},
     "output_type": "execute_result"
    }
   ],
   "source": [
    "df['genre'].sort_values().unique() # Проверка на неявные дубликаты"
   ]
  },
  {
   "cell_type": "markdown",
   "metadata": {
    "deletable": false,
    "editable": false,
    "id": "jz6a9-7HQUDd"
   },
   "source": [
    "**Выводы**\n",
    "\n",
    "Предобработка обнаружила три проблемы в данных:\n",
    "\n",
    "- нарушения в стиле заголовков,\n",
    "- пропущенные значения,\n",
    "- дубликаты — явные и неявные.\n",
    "\n",
    "Вы исправили заголовки, чтобы упростить работу с таблицей. Без дубликатов исследование станет более точным.\n",
    "\n",
    "Пропущенные значения вы заменили на `'unknown'`. Ещё предстоит увидеть, не повредят ли исследованию пропуски в колонке `genre`.\n",
    "\n",
    "Теперь можно перейти к проверке гипотез. "
   ]
  },
  {
   "cell_type": "markdown",
   "metadata": {
    "deletable": false,
    "editable": false,
    "id": "WttZHXH0SqKk"
   },
   "source": [
    "## Проверка гипотез"
   ]
  },
  {
   "cell_type": "markdown",
   "metadata": {
    "deletable": false,
    "editable": false,
    "id": "Im936VVi_Zcu"
   },
   "source": [
    "### Сравнение поведения пользователей двух столиц"
   ]
  },
  {
   "cell_type": "markdown",
   "metadata": {
    "deletable": false,
    "editable": false,
    "id": "nwt_MuaL_Zcu"
   },
   "source": [
    "Первая гипотеза утверждает, что пользователи по-разному слушают музыку в Москве и Санкт-Петербурге. Проверьте это предположение по данным о трёх днях недели — понедельнике, среде и пятнице. Для этого:\n",
    "\n",
    "* Разделите пользователей Москвы и Санкт-Петербурга\n",
    "* Сравните, сколько треков послушала каждая группа пользователей в понедельник, среду и пятницу.\n"
   ]
  },
  {
   "cell_type": "markdown",
   "metadata": {
    "deletable": false,
    "editable": false,
    "id": "8Dw_YMmT_Zcu",
    "tags": [
     "start_task"
    ]
   },
   "source": [
    "**Задание 18**\n",
    "\n",
    "Для тренировки сначала выполните каждый из расчётов по отдельности. \n",
    "\n",
    "Оцените активность пользователей в каждом городе. Сгруппируйте данные по городу и посчитайте прослушивания в каждой группе.\n",
    "\n"
   ]
  },
  {
   "cell_type": "code",
   "execution_count": 18,
   "metadata": {
    "deletable": false,
    "id": "0_Qs96oh_Zcu"
   },
   "outputs": [
    {
     "data": {
      "text/plain": [
       "city\n",
       "Moscow              42741\n",
       "Saint-Petersburg    18512\n",
       "Name: time, dtype: int64"
      ]
     },
     "execution_count": 18,
     "metadata": {},
     "output_type": "execute_result"
    }
   ],
   "source": [
    "df.groupby('city')['time'].count() # Подсчёт прослушиваний в каждом городе"
   ]
  },
  {
   "cell_type": "markdown",
   "metadata": {
    "deletable": false,
    "editable": false,
    "id": "dzli3w8o_Zcu",
    "tags": [
     "start_task"
    ]
   },
   "source": [
    "В Москве прослушиваний больше, чем в Петербурге. Из этого не следует, что московские пользователи чаще слушают музыку. Просто самих пользователей в Москве больше.\n",
    "\n",
    "**Задание 19**\n",
    "\n",
    "Теперь сгруппируйте данные по дню недели и подсчитайте прослушивания в понедельник, среду и пятницу. Учтите, что в данных есть информация только о прослушиваниях только за эти дни.\n"
   ]
  },
  {
   "cell_type": "code",
   "execution_count": 19,
   "metadata": {
    "deletable": false,
    "id": "uZMKjiJz_Zcu"
   },
   "outputs": [
    {
     "data": {
      "text/plain": [
       "day\n",
       "Friday       21840\n",
       "Monday       21354\n",
       "Wednesday    18059\n",
       "Name: time, dtype: int64"
      ]
     },
     "execution_count": 19,
     "metadata": {},
     "output_type": "execute_result"
    }
   ],
   "source": [
    "df.groupby('day')['time'].count() # Подсчёт прослушиваний в каждый из трёх дней"
   ]
  },
  {
   "cell_type": "markdown",
   "metadata": {
    "deletable": false,
    "editable": false,
    "id": "cC2tNrlL_Zcu"
   },
   "source": [
    "В среднем пользователи из двух городов менее активны по средам. Но картина может измениться, если рассмотреть каждый город в отдельности."
   ]
  },
  {
   "cell_type": "markdown",
   "metadata": {
    "deletable": false,
    "editable": false,
    "id": "POzs8bGa_Zcu",
    "tags": [
     "start_task"
    ]
   },
   "source": [
    "**Задание 20**\n",
    "\n",
    "\n",
    "Вы видели, как работает группировка по городу и по дням недели. Теперь напишите функцию, которая объединит два эти расчёта.\n",
    "\n",
    "Создайте функцию `number_tracks()`, которая посчитает прослушивания для заданного дня и города. Ей понадобятся два параметра:\n",
    "* день недели,\n",
    "* название города.\n",
    "\n",
    "В функции сохраните в переменную строки исходной таблицы, у которых значение:\n",
    "  * в колонке `day` равно параметру `day`,\n",
    "  * в колонке `city` равно параметру `city`.\n",
    "\n",
    "Для этого примените последовательную фильтрацию с логической индексацией (или сложные логические выражения в одну строку, если вы уже знакомы с ними).\n",
    "\n",
    "Затем посчитайте значения в столбце `user_id` получившейся таблицы. Результат сохраните в новую переменную. Верните эту переменную из функции."
   ]
  },
  {
   "cell_type": "code",
   "execution_count": 20,
   "metadata": {
    "deletable": false,
    "id": "Nz3GdQB1_Zcu"
   },
   "outputs": [],
   "source": [
    "def number_tracks(day, city):# <создание функции number_tracks()>\n",
    "\n",
    "    track_list = df[df['day'] == day]# В переменной track_list сохраняются те строки таблицы df, для которых \n",
    "    track_list = track_list[track_list['city'] == city]# значение в столбце 'day' равно параметру day и одновременно значение\n",
    "    track_list_count = track_list['user_id'].count()\n",
    "    return track_list_count # в столбце 'city' равно параметру city (используйте последовательную фильтрацию\n",
    "# с помощью логической индексации или сложные логические выражения в одну строку, если вы уже знакомы с ними).\n",
    "# В переменной track_list_count сохраняется число значений столбца 'user_id',\n",
    "# рассчитанное методом count() для таблицы track_list.\n",
    "# Функция возвращает число - значение track_list_count.\n",
    "\n",
    "def track_count(count):# Функция для подсчёта прослушиваний для конкретного города и дня.\n",
    "    df_city = df[df['day'] == day]# С помощью последовательной фильтрации с логической индексацией она \n",
    "    df_city = df_city[df_city['city'] == city]# сначала получит из исходной таблицы строки с нужным днём,\n",
    "    df_count = df_city['user_id'].count()\n",
    "    return df_count# затем из результата отфильтрует строки с нужным городом,\n",
    "# методом count() посчитает количество значений в колонке user_id. \n",
    "# Это количество функция вернёт в качестве результата"
   ]
  },
  {
   "cell_type": "markdown",
   "metadata": {
    "deletable": false,
    "editable": false,
    "id": "ytf7xFrFJQ2r",
    "tags": [
     "start_task"
    ]
   },
   "source": [
    "**Задание 21**\n",
    "\n",
    "Вызовите `number_tracks()` шесть раз, меняя значение параметров — так, чтобы получить данные для каждого города в каждый из трёх дней."
   ]
  },
  {
   "cell_type": "code",
   "execution_count": 21,
   "metadata": {
    "deletable": false,
    "id": "rJcRATNQ_Zcu"
   },
   "outputs": [
    {
     "data": {
      "text/plain": [
       "15740"
      ]
     },
     "execution_count": 21,
     "metadata": {},
     "output_type": "execute_result"
    }
   ],
   "source": [
    "number_tracks('Monday','Moscow')# количество прослушиваний в Москве по понедельникам"
   ]
  },
  {
   "cell_type": "code",
   "execution_count": 22,
   "metadata": {
    "deletable": false,
    "id": "hq_ncZ5T_Zcu"
   },
   "outputs": [
    {
     "data": {
      "text/plain": [
       "5614"
      ]
     },
     "execution_count": 22,
     "metadata": {},
     "output_type": "execute_result"
    }
   ],
   "source": [
    "number_tracks('Monday','Saint-Petersburg') # количество прослушиваний в Санкт-Петербурге по понедельникам"
   ]
  },
  {
   "cell_type": "code",
   "execution_count": 23,
   "metadata": {
    "deletable": false,
    "id": "_NTy2VPU_Zcu"
   },
   "outputs": [
    {
     "data": {
      "text/plain": [
       "11056"
      ]
     },
     "execution_count": 23,
     "metadata": {},
     "output_type": "execute_result"
    }
   ],
   "source": [
    "number_tracks('Wednesday','Moscow')# количество прослушиваний в Москве по средам"
   ]
  },
  {
   "cell_type": "code",
   "execution_count": 24,
   "metadata": {
    "deletable": false,
    "id": "j2y3TAwo_Zcu"
   },
   "outputs": [
    {
     "data": {
      "text/plain": [
       "7003"
      ]
     },
     "execution_count": 24,
     "metadata": {},
     "output_type": "execute_result"
    }
   ],
   "source": [
    "number_tracks('Wednesday','Saint-Petersburg')# количество прослушиваний в Санкт-Петербурге по средам"
   ]
  },
  {
   "cell_type": "code",
   "execution_count": 25,
   "metadata": {
    "deletable": false,
    "id": "vYDw5u_K_Zcu"
   },
   "outputs": [
    {
     "data": {
      "text/plain": [
       "15945"
      ]
     },
     "execution_count": 25,
     "metadata": {},
     "output_type": "execute_result"
    }
   ],
   "source": [
    "number_tracks('Friday','Moscow')# количество прослушиваний в Москве по пятницам"
   ]
  },
  {
   "cell_type": "code",
   "execution_count": 26,
   "metadata": {
    "deletable": false,
    "id": "8_yzFtW3_Zcu"
   },
   "outputs": [
    {
     "data": {
      "text/plain": [
       "5895"
      ]
     },
     "execution_count": 26,
     "metadata": {},
     "output_type": "execute_result"
    }
   ],
   "source": [
    "number_tracks('Friday','Saint-Petersburg')# количество прослушиваний в Санкт-Петербурге по пятницам"
   ]
  },
  {
   "cell_type": "markdown",
   "metadata": {
    "deletable": false,
    "editable": false,
    "id": "7QXffbO-_Zcu",
    "tags": [
     "start_task"
    ]
   },
   "source": [
    "**Задание 22**\n",
    "\n",
    "Создайте c помощью конструктора `pd.DataFrame` таблицу, где\n",
    "* названия колонок — `['city', 'monday', 'wednesday', 'friday']`;\n",
    "* данные — результаты, которые вы получили с помощью `number_tracks`."
   ]
  },
  {
   "cell_type": "code",
   "execution_count": 27,
   "metadata": {
    "deletable": false,
    "id": "APAcLpOr_Zcu"
   },
   "outputs": [
    {
     "data": {
      "text/html": [
       "<div>\n",
       "<style scoped>\n",
       "    .dataframe tbody tr th:only-of-type {\n",
       "        vertical-align: middle;\n",
       "    }\n",
       "\n",
       "    .dataframe tbody tr th {\n",
       "        vertical-align: top;\n",
       "    }\n",
       "\n",
       "    .dataframe thead th {\n",
       "        text-align: right;\n",
       "    }\n",
       "</style>\n",
       "<table border=\"1\" class=\"dataframe\">\n",
       "  <thead>\n",
       "    <tr style=\"text-align: right;\">\n",
       "      <th></th>\n",
       "      <th>city</th>\n",
       "      <th>monday</th>\n",
       "      <th>wednesday</th>\n",
       "      <th>friday</th>\n",
       "    </tr>\n",
       "  </thead>\n",
       "  <tbody>\n",
       "    <tr>\n",
       "      <th>0</th>\n",
       "      <td>Москва</td>\n",
       "      <td>15740</td>\n",
       "      <td>11056</td>\n",
       "      <td>15945</td>\n",
       "    </tr>\n",
       "    <tr>\n",
       "      <th>1</th>\n",
       "      <td>Санкт-Петербург</td>\n",
       "      <td>5614</td>\n",
       "      <td>7003</td>\n",
       "      <td>5895</td>\n",
       "    </tr>\n",
       "  </tbody>\n",
       "</table>\n",
       "</div>"
      ],
      "text/plain": [
       "              city  monday  wednesday  friday\n",
       "0           Москва   15740      11056   15945\n",
       "1  Санкт-Петербург    5614       7003    5895"
      ]
     },
     "execution_count": 27,
     "metadata": {},
     "output_type": "execute_result"
    }
   ],
   "source": [
    "info = pd.DataFrame(data=[['Москва', 15740, 11056, 15945], ['Санкт-Петербург', 5614, 7003, 5895]], columns=['city', 'monday', 'wednesday', 'friday'])\n",
    "info # Таблица с результатами"
   ]
  },
  {
   "cell_type": "markdown",
   "metadata": {
    "deletable": false,
    "editable": false,
    "id": "-EgPIHYu_Zcu"
   },
   "source": [
    "**Выводы**\n",
    "\n",
    "Данные показывают разницу поведения пользователей:\n",
    "\n",
    "- В Москве пик прослушиваний приходится на понедельник и пятницу, а в среду заметен спад.\n",
    "- В Петербурге, наоборот, больше слушают музыку по средам. Активность в понедельник и пятницу здесь почти в равной мере уступает среде.\n",
    "\n",
    "Значит, данные говорят в пользу первой гипотезы."
   ]
  },
  {
   "cell_type": "markdown",
   "metadata": {
    "deletable": false,
    "editable": false,
    "id": "atZAxtq4_Zcu"
   },
   "source": [
    "### Музыка в начале и в конце недели"
   ]
  },
  {
   "cell_type": "markdown",
   "metadata": {
    "deletable": false,
    "editable": false,
    "id": "eXrQqXFH_Zcu"
   },
   "source": [
    "Согласно второй гипотезе, утром в понедельник в Москве преобладают одни жанры, а в Петербурге — другие. Так же и вечером пятницы преобладают разные жанры — в зависимости от города."
   ]
  },
  {
   "cell_type": "markdown",
   "metadata": {
    "deletable": false,
    "editable": false,
    "id": "S8UcW6Hw_Zcu",
    "tags": [
     "start_task"
    ]
   },
   "source": [
    "**Задание 23**\n",
    "\n",
    "Сохраните таблицы с данными в две переменные:\n",
    "* по Москве — в `moscow_general`;\n",
    "* по Санкт-Петербургу — в `spb_general`."
   ]
  },
  {
   "cell_type": "code",
   "execution_count": 28,
   "metadata": {
    "deletable": false,
    "id": "qeaFfM_P_Zcu"
   },
   "outputs": [],
   "source": [
    "moscow_general = df[df['city'] == 'Moscow']# получение таблицы moscow_general из тех строк таблицы df, \n",
    "# для которых значение в столбце 'city' равно 'Moscow'\n"
   ]
  },
  {
   "cell_type": "code",
   "execution_count": 29,
   "metadata": {
    "deletable": false,
    "id": "ORaVRKto_Zcu"
   },
   "outputs": [],
   "source": [
    "spb_general = df[df['city'] == 'Saint-Petersburg']# получение таблицы spb_general из тех строк таблицы df,\n",
    "# для которых значение в столбце 'city' равно 'Saint-Petersburg'\n"
   ]
  },
  {
   "cell_type": "markdown",
   "metadata": {
    "deletable": false,
    "id": "MEJV-CX2_Zcu",
    "tags": [
     "start_task"
    ]
   },
   "source": [
    "**Задание 24**\n",
    "\n",
    "Создайте функцию `genre_weekday()` с четырьмя параметрами:\n",
    "* таблица (датафрейм) с данными,\n",
    "* день недели,\n",
    "* начальная временная метка в формате 'hh:mm', \n",
    "* последняя временная метка в формате 'hh:mm'.\n",
    "\n",
    "Функция должна вернуть информацию о топ-10 жанров тех треков, которые прослушивали в указанный день, в промежутке между двумя отметками времени."
   ]
  },
  {
   "cell_type": "code",
   "execution_count": 30,
   "metadata": {
    "deletable": false,
    "id": "laJT9BYl_Zcu"
   },
   "outputs": [],
   "source": [
    "def genre_weekday(table, day, time1, time2):\n",
    "    # последовательная фильтрация\n",
    "    # оставляем в genre_df только те строки df, у которых день равен day\n",
    "    genre_df = table[table['day'] == day]# ваш код здесь\n",
    "    # оставляем в genre_df только те строки genre_df, у которых время меньше time2\n",
    "    genre_df = genre_df[genre_df['time'] < time2]# ваш код здесь\n",
    "    # оставляем в genre_df только те строки genre_df, у которых время больше time1\n",
    "    genre_df = genre_df[genre_df['time'] > time1]# ваш код здесь\n",
    "    # сгруппируем отфильтрованный датафрейм по столбцу с названиями жанров, возьмём столбец genre и посчитаем кол-во строк для каждого жанра методом count()\n",
    "    genre_df_grouped = genre_df.groupby('genre')['genre'].count()# ваш код здесь\n",
    "    # отсортируем результат по убыванию (чтобы в начале Series оказались самые популярные жанры)\n",
    "    genre_df_sorted = genre_df_grouped.sort_values(ascending=False)# ваш код здесь\n",
    "    # вернём Series с 10 самыми популярными жанрами в указанный отрезок времени заданного дня\n",
    "    return genre_df_sorted[:10]"
   ]
  },
  {
   "cell_type": "markdown",
   "metadata": {
    "deletable": false,
    "editable": false,
    "id": "la2s2_PF_Zcu",
    "tags": [
     "start_task"
    ]
   },
   "source": [
    "**Задание 25**\n",
    "\n",
    "\n",
    "Cравните результаты функции `genre_weekday()` для Москвы и Санкт-Петербурга в понедельник утром (с 7:00 до 11:00) и в пятницу вечером (с 17:00 до 23:00):"
   ]
  },
  {
   "cell_type": "code",
   "execution_count": 31,
   "metadata": {
    "deletable": false,
    "id": "yz7itPUQ_Zcu"
   },
   "outputs": [
    {
     "data": {
      "text/plain": [
       "genre\n",
       "pop            781\n",
       "dance          549\n",
       "electronic     480\n",
       "rock           474\n",
       "hiphop         286\n",
       "ruspop         186\n",
       "world          181\n",
       "rusrap         175\n",
       "alternative    164\n",
       "unknown        161\n",
       "Name: genre, dtype: int64"
      ]
     },
     "execution_count": 31,
     "metadata": {},
     "output_type": "execute_result"
    }
   ],
   "source": [
    "genre_weekday(moscow_general,'Monday', '07:00', '11:00')# вызов функции для утра понедельника в Москве (вместо df — таблица moscow_general)\n",
    "# объекты, хранящие время, являются строками и сравниваются как строки\n",
    "# пример вызова: genre_weekday(moscow_general, 'Monday', '07:00', '11:00')"
   ]
  },
  {
   "cell_type": "code",
   "execution_count": 39,
   "metadata": {
    "deletable": false,
    "id": "kwUcHPdy_Zcu"
   },
   "outputs": [
    {
     "data": {
      "text/plain": [
       "genre\n",
       "pop            218\n",
       "dance          182\n",
       "rock           162\n",
       "electronic     147\n",
       "hiphop          80\n",
       "ruspop          64\n",
       "alternative     58\n",
       "rusrap          55\n",
       "jazz            44\n",
       "classical       40\n",
       "Name: genre, dtype: int64"
      ]
     },
     "execution_count": 39,
     "metadata": {},
     "output_type": "execute_result"
    }
   ],
   "source": [
    "genre_weekday(spb_general,'Monday', '07:00', '11:00')# вызов функции для утра понедельника в Петербурге (вместо df — таблица spb_general)"
   ]
  },
  {
   "cell_type": "code",
   "execution_count": 40,
   "metadata": {
    "deletable": false,
    "id": "EzXVRE1o_Zcu"
   },
   "outputs": [
    {
     "data": {
      "text/plain": [
       "genre\n",
       "pop            713\n",
       "rock           517\n",
       "dance          495\n",
       "electronic     482\n",
       "hiphop         273\n",
       "world          208\n",
       "ruspop         170\n",
       "alternative    163\n",
       "classical      163\n",
       "rusrap         142\n",
       "Name: genre, dtype: int64"
      ]
     },
     "execution_count": 40,
     "metadata": {},
     "output_type": "execute_result"
    }
   ],
   "source": [
    "genre_weekday(moscow_general,'Friday', '17:00', '23:00')# вызов функции для вечера пятницы в Москве"
   ]
  },
  {
   "cell_type": "code",
   "execution_count": 41,
   "metadata": {
    "deletable": false,
    "id": "JZaEKu5v_Zcu"
   },
   "outputs": [
    {
     "data": {
      "text/plain": [
       "genre\n",
       "pop            256\n",
       "electronic     216\n",
       "rock           216\n",
       "dance          210\n",
       "hiphop          97\n",
       "alternative     63\n",
       "jazz            61\n",
       "classical       60\n",
       "rusrap          59\n",
       "world           54\n",
       "Name: genre, dtype: int64"
      ]
     },
     "execution_count": 41,
     "metadata": {},
     "output_type": "execute_result"
    }
   ],
   "source": [
    "genre_weekday(spb_general,'Friday', '17:00', '23:00')# вызов функции для вечера пятницы в Петербурге"
   ]
  },
  {
   "cell_type": "markdown",
   "metadata": {
    "deletable": false,
    "editable": false,
    "id": "wrCe4MNX_Zcu"
   },
   "source": [
    "**Выводы**\n",
    "\n",
    "Если сравнить топ-10 жанров в понедельник утром, можно сделать такие выводы:\n",
    "\n",
    "1. В Москве и Петербурге слушают похожую музыку. Единственное отличие — в московский рейтинг вошёл жанр “world”, а в петербургский — джаз и классика.\n",
    "\n",
    "2. В Москве пропущенных значений оказалось так много, что значение `'unknown'` заняло десятое место среди самых популярных жанров. Значит, пропущенные значения занимают существенную долю в данных и угрожают достоверности исследования.\n",
    "\n",
    "Вечер пятницы не меняет эту картину. Некоторые жанры поднимаются немного выше, другие спускаются, но в целом топ-10 остаётся тем же самым.\n",
    "\n",
    "Таким образом, вторая гипотеза подтвердилась лишь частично:\n",
    "* Пользователи слушают похожую музыку в начале недели и в конце.\n",
    "* Разница между Москвой и Петербургом не слишком выражена. В Москве чаще слушают русскую популярную музыку, в Петербурге — джаз.\n",
    "\n",
    "Однако пропуски в данных ставят под сомнение этот результат. В Москве их так много, что рейтинг топ-10 мог бы выглядеть иначе, если бы не утерянные  данные о жанрах."
   ]
  },
  {
   "cell_type": "markdown",
   "metadata": {
    "deletable": false,
    "editable": false,
    "id": "JolODAqr_Zcu"
   },
   "source": [
    "### Жанровые предпочтения в Москве и Петербурге\n",
    "\n",
    "Гипотеза: Петербург — столица рэпа, музыку этого жанра там слушают чаще, чем в Москве.  А Москва — город контрастов, в котором, тем не менее, преобладает поп-музыка."
   ]
  },
  {
   "cell_type": "markdown",
   "metadata": {
    "deletable": false,
    "editable": false,
    "id": "DlegSvaT_Zcu",
    "tags": [
     "start_task"
    ]
   },
   "source": [
    "**Задание 26**\n",
    "\n",
    "Сгруппируйте таблицу `moscow_general` по жанру и посчитайте прослушивания треков каждого жанра методом `count()`. Затем отсортируйте результат в порядке убывания и сохраните его в таблице `moscow_genres`."
   ]
  },
  {
   "cell_type": "code",
   "execution_count": 42,
   "metadata": {
    "deletable": false,
    "id": "r19lIPke_Zcu"
   },
   "outputs": [],
   "source": [
    "moscow_genres = moscow_general.groupby('genre')['genre'].count()\n",
    "moscow_genres = moscow_genres.sort_values(ascending=False)# одной строкой: группировка таблицы moscow_general по столбцу 'genre', \n",
    "# подсчёт числа значений 'genre' в этой группировке методом count(), \n",
    "# сортировка получившегося Series в порядке убывания и сохранение в moscow_genres"
   ]
  },
  {
   "cell_type": "markdown",
   "metadata": {
    "deletable": false,
    "editable": false,
    "id": "6kMuomxTiIr8",
    "tags": [
     "start_task"
    ]
   },
   "source": [
    "**Задание 27**\n",
    "\n",
    "Выведите на экран первые десять строк `moscow_genres`:"
   ]
  },
  {
   "cell_type": "code",
   "execution_count": 44,
   "metadata": {
    "deletable": false,
    "id": "WhCSooF8_Zcv"
   },
   "outputs": [
    {
     "data": {
      "text/plain": [
       "genre\n",
       "pop            5892\n",
       "dance          4435\n",
       "rock           3965\n",
       "electronic     3786\n",
       "hiphop         2096\n",
       "classical      1616\n",
       "world          1432\n",
       "alternative    1379\n",
       "ruspop         1372\n",
       "rusrap         1161\n",
       "Name: genre, dtype: int64"
      ]
     },
     "execution_count": 44,
     "metadata": {},
     "output_type": "execute_result"
    }
   ],
   "source": [
    "moscow_genres[:10]# просмотр первых 10 строк moscow_genres"
   ]
  },
  {
   "cell_type": "markdown",
   "metadata": {
    "deletable": false,
    "editable": false,
    "id": "cnPG2vnN_Zcv",
    "tags": [
     "start_task"
    ]
   },
   "source": [
    "**Задание 28**\n",
    "\n",
    "\n",
    "Теперь повторите то же и для Петербурга.\n",
    "\n",
    "Сгруппируйте таблицу `spb_general` по жанру. Посчитайте прослушивания треков каждого жанра. Результат отсортируйте в порядке убывания и сохраните в таблице `spb_genres`:\n"
   ]
  },
  {
   "cell_type": "code",
   "execution_count": 50,
   "metadata": {
    "deletable": false,
    "id": "gluLIpE7_Zcv"
   },
   "outputs": [],
   "source": [
    "spb_genres = spb_general.groupby('genre')['genre'].count()\n",
    "spb_genres = spb_genres.sort_values(ascending=False)# одной строкой: группировка таблицы spb_general по столбцу 'genre', \n",
    "# подсчёт числа значений 'genre' в этой группировке методом count(), \n",
    "# сортировка получившегося Series в порядке убывания и сохранение в spb_genres"
   ]
  },
  {
   "cell_type": "markdown",
   "metadata": {
    "deletable": false,
    "editable": false,
    "id": "5Doha_ODgyQ8",
    "tags": [
     "start_task"
    ]
   },
   "source": [
    "**Задание 29**\n",
    "\n",
    "Выведите на экран первые десять строк `spb_genres`:"
   ]
  },
  {
   "cell_type": "code",
   "execution_count": 51,
   "metadata": {
    "deletable": false,
    "id": "uaGJHjVU_Zcv"
   },
   "outputs": [
    {
     "data": {
      "text/plain": [
       "genre\n",
       "pop            2431\n",
       "dance          1932\n",
       "rock           1879\n",
       "electronic     1736\n",
       "hiphop          960\n",
       "alternative     649\n",
       "classical       646\n",
       "rusrap          564\n",
       "ruspop          538\n",
       "world           515\n",
       "Name: genre, dtype: int64"
      ]
     },
     "execution_count": 51,
     "metadata": {},
     "output_type": "execute_result"
    }
   ],
   "source": [
    "spb_genres[:10]# просмотр первых 10 строк spb_genres"
   ]
  },
  {
   "cell_type": "markdown",
   "metadata": {
    "deletable": false,
    "editable": false,
    "id": "RY51YJYu_Zcv"
   },
   "source": [
    "**Выводы**"
   ]
  },
  {
   "cell_type": "markdown",
   "metadata": {
    "deletable": false,
    "editable": false,
    "id": "nVhnJEm__Zcv"
   },
   "source": [
    "Гипотеза частично подтвердилась:\n",
    "* Поп-музыка — самый популярный жанр в Москве, как и предполагала гипотеза. Более того, в топ-10 жанров встречается близкий жанр — русская популярная музыка.\n",
    "* Вопреки ожиданиям, рэп одинаково популярен в Москве и Петербурге. \n"
   ]
  },
  {
   "cell_type": "markdown",
   "metadata": {
    "deletable": false,
    "editable": false,
    "id": "ykKQ0N65_Zcv"
   },
   "source": [
    "## Итоги исследования"
   ]
  },
  {
   "cell_type": "markdown",
   "metadata": {
    "deletable": false,
    "editable": false,
    "id": "tjUwbHb3_Zcv"
   },
   "source": [
    "Вы проверили три гипотезы и установили:\n",
    "\n",
    "1. День недели по-разному влияет на активность пользователей в Москве и Петербурге. \n",
    "\n",
    "Первая гипотеза полностью подтвердилась.\n",
    "\n",
    "2. Музыкальные предпочтения не сильно меняются в течение недели — будь то Москва или Петербург. Небольшие различия заметны в начале недели, по понедельникам:\n",
    "* в Москве слушают музыку жанра “world”,\n",
    "* в Петербурге — джаз и классику.\n",
    "\n",
    "Таким образом, вторая гипотеза подтвердилась лишь отчасти. Этот результат мог оказаться иным, если бы не пропуски в данных.\n",
    "\n",
    "3. Во вкусах пользователей Москвы и Петербурга больше общего чем различий. Вопреки ожиданиям, предпочтения жанров в Петербурге напоминают московские.\n",
    "\n",
    "Третья гипотеза не подтвердилась. Если различия в предпочтениях и существуют, на основной массе пользователей они незаметны.\n",
    "\n",
    "**На практике исследования содержат проверки статистических гипотез.**\n",
    "Из данных одного сервиса не всегда можно сделать вывод о всех жителях города.\n",
    "Проверки статистических гипотез покажут, насколько они достоверны, исходя из имеющихся данных. \n",
    "С методами проверок гипотез вы ещё познакомитесь в следующих темах."
   ]
  }
 ],
 "metadata": {
  "ExecuteTimeLog": [
   {
    "duration": 465,
    "start_time": "2023-02-01T10:25:21.920Z"
   },
   {
    "duration": 67,
    "start_time": "2023-02-01T10:45:12.165Z"
   },
   {
    "duration": 8,
    "start_time": "2023-02-01T10:48:12.434Z"
   },
   {
    "duration": 10,
    "start_time": "2023-02-01T10:49:01.025Z"
   },
   {
    "duration": 7,
    "start_time": "2023-02-01T10:49:46.937Z"
   },
   {
    "duration": 7,
    "start_time": "2023-02-01T10:56:18.749Z"
   },
   {
    "duration": 419,
    "start_time": "2023-02-01T10:58:26.740Z"
   },
   {
    "duration": 526,
    "start_time": "2023-02-01T10:58:27.161Z"
   },
   {
    "duration": 17,
    "start_time": "2023-02-01T10:58:27.689Z"
   },
   {
    "duration": 39,
    "start_time": "2023-02-01T10:58:27.708Z"
   },
   {
    "duration": 5,
    "start_time": "2023-02-01T10:58:27.749Z"
   },
   {
    "duration": 6,
    "start_time": "2023-02-01T10:58:27.756Z"
   },
   {
    "duration": 4,
    "start_time": "2023-02-01T10:58:27.764Z"
   },
   {
    "duration": 5,
    "start_time": "2023-02-01T10:58:27.769Z"
   },
   {
    "duration": 6,
    "start_time": "2023-02-01T10:58:27.775Z"
   },
   {
    "duration": 5,
    "start_time": "2023-02-01T10:58:27.783Z"
   },
   {
    "duration": 5,
    "start_time": "2023-02-01T10:58:27.789Z"
   },
   {
    "duration": 31,
    "start_time": "2023-02-01T10:58:27.796Z"
   },
   {
    "duration": 14,
    "start_time": "2023-02-01T10:58:27.828Z"
   },
   {
    "duration": 7,
    "start_time": "2023-02-01T10:58:27.845Z"
   },
   {
    "duration": 6,
    "start_time": "2023-02-01T10:58:27.853Z"
   },
   {
    "duration": 6,
    "start_time": "2023-02-01T10:58:27.860Z"
   },
   {
    "duration": 9,
    "start_time": "2023-02-01T10:58:27.868Z"
   },
   {
    "duration": 7,
    "start_time": "2023-02-01T10:58:27.878Z"
   },
   {
    "duration": 7,
    "start_time": "2023-02-01T10:58:27.888Z"
   },
   {
    "duration": 13,
    "start_time": "2023-02-01T10:58:27.896Z"
   },
   {
    "duration": 14,
    "start_time": "2023-02-01T10:58:27.910Z"
   },
   {
    "duration": 10,
    "start_time": "2023-02-01T10:58:27.939Z"
   },
   {
    "duration": 13,
    "start_time": "2023-02-01T10:58:27.950Z"
   },
   {
    "duration": 5,
    "start_time": "2023-02-01T10:58:27.964Z"
   },
   {
    "duration": 7,
    "start_time": "2023-02-01T10:58:27.970Z"
   },
   {
    "duration": 5,
    "start_time": "2023-02-01T10:58:27.979Z"
   },
   {
    "duration": 4,
    "start_time": "2023-02-01T10:58:27.986Z"
   },
   {
    "duration": 6,
    "start_time": "2023-02-01T10:58:27.992Z"
   },
   {
    "duration": 5,
    "start_time": "2023-02-01T10:58:28.000Z"
   },
   {
    "duration": 76,
    "start_time": "2023-02-01T10:58:28.007Z"
   },
   {
    "duration": 0,
    "start_time": "2023-02-01T10:58:28.085Z"
   },
   {
    "duration": 0,
    "start_time": "2023-02-01T10:58:28.086Z"
   },
   {
    "duration": 0,
    "start_time": "2023-02-01T10:58:28.087Z"
   },
   {
    "duration": 0,
    "start_time": "2023-02-01T10:58:28.088Z"
   },
   {
    "duration": 0,
    "start_time": "2023-02-01T10:58:28.090Z"
   },
   {
    "duration": 0,
    "start_time": "2023-02-01T10:58:28.091Z"
   },
   {
    "duration": 0,
    "start_time": "2023-02-01T10:58:28.092Z"
   },
   {
    "duration": 0,
    "start_time": "2023-02-01T10:58:28.093Z"
   },
   {
    "duration": 12,
    "start_time": "2023-02-01T11:02:31.641Z"
   },
   {
    "duration": 14,
    "start_time": "2023-02-01T11:02:48.952Z"
   },
   {
    "duration": 5,
    "start_time": "2023-02-01T11:02:54.231Z"
   },
   {
    "duration": 13,
    "start_time": "2023-02-01T11:03:47.462Z"
   },
   {
    "duration": 4,
    "start_time": "2023-02-01T11:03:51.288Z"
   },
   {
    "duration": 27,
    "start_time": "2023-02-01T11:05:06.988Z"
   },
   {
    "duration": 3,
    "start_time": "2023-02-01T11:10:51.787Z"
   },
   {
    "duration": 3,
    "start_time": "2023-02-01T11:10:57.389Z"
   },
   {
    "duration": 3,
    "start_time": "2023-02-01T11:11:02.287Z"
   },
   {
    "duration": 48,
    "start_time": "2023-02-01T11:14:06.692Z"
   },
   {
    "duration": 26,
    "start_time": "2023-02-01T11:20:22.487Z"
   },
   {
    "duration": 53,
    "start_time": "2023-02-01T13:57:17.585Z"
   },
   {
    "duration": 7,
    "start_time": "2023-02-01T13:57:27.677Z"
   },
   {
    "duration": 411,
    "start_time": "2023-02-01T13:58:03.662Z"
   },
   {
    "duration": 879,
    "start_time": "2023-02-01T13:58:04.076Z"
   },
   {
    "duration": 25,
    "start_time": "2023-02-01T13:58:04.957Z"
   },
   {
    "duration": 43,
    "start_time": "2023-02-01T13:58:04.984Z"
   },
   {
    "duration": 2,
    "start_time": "2023-02-01T13:58:05.031Z"
   },
   {
    "duration": 11,
    "start_time": "2023-02-01T13:58:05.035Z"
   },
   {
    "duration": 19,
    "start_time": "2023-02-01T13:58:05.048Z"
   },
   {
    "duration": 27,
    "start_time": "2023-02-01T13:58:05.069Z"
   },
   {
    "duration": 36,
    "start_time": "2023-02-01T13:58:05.098Z"
   },
   {
    "duration": 102,
    "start_time": "2023-02-01T13:58:05.136Z"
   },
   {
    "duration": 33,
    "start_time": "2023-02-01T13:58:05.240Z"
   },
   {
    "duration": 87,
    "start_time": "2023-02-01T13:58:05.276Z"
   },
   {
    "duration": 85,
    "start_time": "2023-02-01T13:58:05.365Z"
   },
   {
    "duration": 2,
    "start_time": "2023-02-01T13:58:05.455Z"
   },
   {
    "duration": 25,
    "start_time": "2023-02-01T13:58:05.459Z"
   },
   {
    "duration": 11,
    "start_time": "2023-02-01T13:58:05.486Z"
   },
   {
    "duration": 7,
    "start_time": "2023-02-01T13:58:05.498Z"
   },
   {
    "duration": 10,
    "start_time": "2023-02-01T13:58:05.507Z"
   },
   {
    "duration": 6,
    "start_time": "2023-02-01T13:58:05.519Z"
   },
   {
    "duration": 8,
    "start_time": "2023-02-01T13:58:05.527Z"
   },
   {
    "duration": 10,
    "start_time": "2023-02-01T13:58:05.537Z"
   },
   {
    "duration": 6,
    "start_time": "2023-02-01T13:58:05.549Z"
   },
   {
    "duration": 10,
    "start_time": "2023-02-01T13:58:05.557Z"
   },
   {
    "duration": 6,
    "start_time": "2023-02-01T13:58:05.569Z"
   },
   {
    "duration": 10,
    "start_time": "2023-02-01T13:58:05.576Z"
   },
   {
    "duration": 6,
    "start_time": "2023-02-01T13:58:05.587Z"
   },
   {
    "duration": 6,
    "start_time": "2023-02-01T13:58:05.595Z"
   },
   {
    "duration": 6,
    "start_time": "2023-02-01T13:58:05.603Z"
   },
   {
    "duration": 12,
    "start_time": "2023-02-01T13:58:05.611Z"
   },
   {
    "duration": 95,
    "start_time": "2023-02-01T13:58:05.625Z"
   },
   {
    "duration": 0,
    "start_time": "2023-02-01T13:58:05.722Z"
   },
   {
    "duration": 0,
    "start_time": "2023-02-01T13:58:05.723Z"
   },
   {
    "duration": 0,
    "start_time": "2023-02-01T13:58:05.725Z"
   },
   {
    "duration": 0,
    "start_time": "2023-02-01T13:58:05.726Z"
   },
   {
    "duration": 0,
    "start_time": "2023-02-01T13:58:05.727Z"
   },
   {
    "duration": 0,
    "start_time": "2023-02-01T13:58:05.728Z"
   },
   {
    "duration": 0,
    "start_time": "2023-02-01T13:58:05.730Z"
   },
   {
    "duration": 0,
    "start_time": "2023-02-01T13:58:05.731Z"
   },
   {
    "duration": 75,
    "start_time": "2023-02-01T13:58:18.381Z"
   },
   {
    "duration": 75,
    "start_time": "2023-02-01T13:58:21.081Z"
   },
   {
    "duration": 70,
    "start_time": "2023-02-01T13:58:31.569Z"
   },
   {
    "duration": 71,
    "start_time": "2023-02-01T13:59:06.602Z"
   },
   {
    "duration": 75,
    "start_time": "2023-02-01T14:00:50.077Z"
   },
   {
    "duration": 13,
    "start_time": "2023-02-01T14:01:18.923Z"
   },
   {
    "duration": 41,
    "start_time": "2023-02-01T14:06:48.057Z"
   },
   {
    "duration": 43,
    "start_time": "2023-02-01T14:07:11.217Z"
   },
   {
    "duration": 87,
    "start_time": "2023-02-01T14:12:00.383Z"
   },
   {
    "duration": 108,
    "start_time": "2023-02-01T14:12:27.991Z"
   },
   {
    "duration": 88,
    "start_time": "2023-02-01T14:13:03.166Z"
   },
   {
    "duration": 37,
    "start_time": "2023-02-01T14:13:20.279Z"
   },
   {
    "duration": 43,
    "start_time": "2023-02-01T14:13:53.269Z"
   },
   {
    "duration": 40,
    "start_time": "2023-02-01T14:14:06.969Z"
   },
   {
    "duration": 44,
    "start_time": "2023-02-01T14:14:49.273Z"
   },
   {
    "duration": 35,
    "start_time": "2023-02-01T14:15:25.718Z"
   },
   {
    "duration": 98,
    "start_time": "2023-02-01T14:16:35.701Z"
   },
   {
    "duration": 67,
    "start_time": "2023-02-01T14:16:55.457Z"
   },
   {
    "duration": 84,
    "start_time": "2023-02-01T14:20:53.085Z"
   },
   {
    "duration": 41,
    "start_time": "2023-02-01T14:21:34.020Z"
   },
   {
    "duration": 4,
    "start_time": "2023-02-01T14:32:22.560Z"
   },
   {
    "duration": 37,
    "start_time": "2023-02-01T14:32:27.120Z"
   },
   {
    "duration": 33,
    "start_time": "2023-02-01T14:33:29.106Z"
   },
   {
    "duration": 13,
    "start_time": "2023-02-01T14:34:45.568Z"
   },
   {
    "duration": 50,
    "start_time": "2023-02-02T04:08:28.084Z"
   },
   {
    "duration": 522,
    "start_time": "2023-02-02T04:08:44.019Z"
   },
   {
    "duration": 285,
    "start_time": "2023-02-02T04:08:44.547Z"
   },
   {
    "duration": 26,
    "start_time": "2023-02-02T04:08:44.834Z"
   },
   {
    "duration": 48,
    "start_time": "2023-02-02T04:08:44.863Z"
   },
   {
    "duration": 8,
    "start_time": "2023-02-02T04:08:44.913Z"
   },
   {
    "duration": 6,
    "start_time": "2023-02-02T04:08:44.923Z"
   },
   {
    "duration": 21,
    "start_time": "2023-02-02T04:08:44.932Z"
   },
   {
    "duration": 13,
    "start_time": "2023-02-02T04:08:44.955Z"
   },
   {
    "duration": 43,
    "start_time": "2023-02-02T04:08:44.970Z"
   },
   {
    "duration": 110,
    "start_time": "2023-02-02T04:08:45.016Z"
   },
   {
    "duration": 47,
    "start_time": "2023-02-02T04:08:45.128Z"
   },
   {
    "duration": 100,
    "start_time": "2023-02-02T04:08:45.177Z"
   },
   {
    "duration": 89,
    "start_time": "2023-02-02T04:08:45.279Z"
   },
   {
    "duration": 83,
    "start_time": "2023-02-02T04:08:45.375Z"
   },
   {
    "duration": 42,
    "start_time": "2023-02-02T04:08:45.459Z"
   },
   {
    "duration": 125,
    "start_time": "2023-02-02T04:08:45.503Z"
   },
   {
    "duration": 52,
    "start_time": "2023-02-02T04:08:45.630Z"
   },
   {
    "duration": 14,
    "start_time": "2023-02-02T04:08:45.684Z"
   },
   {
    "duration": 51,
    "start_time": "2023-02-02T04:08:45.699Z"
   },
   {
    "duration": 7,
    "start_time": "2023-02-02T04:08:45.752Z"
   },
   {
    "duration": 14,
    "start_time": "2023-02-02T04:08:45.762Z"
   },
   {
    "duration": 13,
    "start_time": "2023-02-02T04:08:45.778Z"
   },
   {
    "duration": 7,
    "start_time": "2023-02-02T04:08:45.793Z"
   },
   {
    "duration": 6,
    "start_time": "2023-02-02T04:08:45.802Z"
   },
   {
    "duration": 9,
    "start_time": "2023-02-02T04:08:45.809Z"
   },
   {
    "duration": 6,
    "start_time": "2023-02-02T04:08:45.819Z"
   },
   {
    "duration": 6,
    "start_time": "2023-02-02T04:08:45.826Z"
   },
   {
    "duration": 9,
    "start_time": "2023-02-02T04:08:45.834Z"
   },
   {
    "duration": 30,
    "start_time": "2023-02-02T04:08:45.845Z"
   },
   {
    "duration": 136,
    "start_time": "2023-02-02T04:08:45.877Z"
   },
   {
    "duration": 0,
    "start_time": "2023-02-02T04:08:46.015Z"
   },
   {
    "duration": 0,
    "start_time": "2023-02-02T04:08:46.018Z"
   },
   {
    "duration": 0,
    "start_time": "2023-02-02T04:08:46.020Z"
   },
   {
    "duration": 0,
    "start_time": "2023-02-02T04:08:46.022Z"
   },
   {
    "duration": 0,
    "start_time": "2023-02-02T04:08:46.024Z"
   },
   {
    "duration": 0,
    "start_time": "2023-02-02T04:08:46.025Z"
   },
   {
    "duration": 0,
    "start_time": "2023-02-02T04:08:46.027Z"
   },
   {
    "duration": 0,
    "start_time": "2023-02-02T04:08:46.028Z"
   },
   {
    "duration": 71,
    "start_time": "2023-02-02T04:23:42.407Z"
   },
   {
    "duration": 150,
    "start_time": "2023-02-02T04:33:41.383Z"
   },
   {
    "duration": 117,
    "start_time": "2023-02-02T04:34:33.907Z"
   },
   {
    "duration": 99,
    "start_time": "2023-02-02T04:45:18.395Z"
   },
   {
    "duration": 156,
    "start_time": "2023-02-02T04:45:27.743Z"
   },
   {
    "duration": 17,
    "start_time": "2023-02-02T04:45:43.593Z"
   },
   {
    "duration": 108,
    "start_time": "2023-02-02T04:46:41.601Z"
   },
   {
    "duration": 15,
    "start_time": "2023-02-02T04:50:03.029Z"
   },
   {
    "duration": 114,
    "start_time": "2023-02-02T04:51:10.150Z"
   },
   {
    "duration": 114,
    "start_time": "2023-02-02T04:51:37.881Z"
   },
   {
    "duration": 118,
    "start_time": "2023-02-02T04:52:33.442Z"
   },
   {
    "duration": 113,
    "start_time": "2023-02-02T05:15:08.260Z"
   },
   {
    "duration": 117,
    "start_time": "2023-02-02T05:15:23.793Z"
   },
   {
    "duration": 4,
    "start_time": "2023-02-02T05:15:51.493Z"
   },
   {
    "duration": 4,
    "start_time": "2023-02-02T05:15:58.609Z"
   },
   {
    "duration": 5,
    "start_time": "2023-02-02T05:32:34.790Z"
   },
   {
    "duration": 17,
    "start_time": "2023-02-02T05:33:36.681Z"
   },
   {
    "duration": 15,
    "start_time": "2023-02-02T05:33:54.127Z"
   },
   {
    "duration": 17,
    "start_time": "2023-02-02T05:34:07.863Z"
   },
   {
    "duration": 19,
    "start_time": "2023-02-02T05:34:31.503Z"
   },
   {
    "duration": 19,
    "start_time": "2023-02-02T05:34:47.743Z"
   },
   {
    "duration": 20,
    "start_time": "2023-02-02T05:34:57.822Z"
   },
   {
    "duration": 18,
    "start_time": "2023-02-02T05:35:20.150Z"
   },
   {
    "duration": 17,
    "start_time": "2023-02-02T05:35:45.129Z"
   },
   {
    "duration": 15,
    "start_time": "2023-02-02T05:36:49.823Z"
   },
   {
    "duration": 16,
    "start_time": "2023-02-02T05:36:51.909Z"
   },
   {
    "duration": 16,
    "start_time": "2023-02-02T05:36:54.493Z"
   },
   {
    "duration": 17,
    "start_time": "2023-02-02T05:36:57.205Z"
   },
   {
    "duration": 9,
    "start_time": "2023-02-02T05:39:47.922Z"
   },
   {
    "duration": 11,
    "start_time": "2023-02-02T05:41:55.204Z"
   },
   {
    "duration": 8,
    "start_time": "2023-02-02T05:42:31.003Z"
   },
   {
    "duration": 15,
    "start_time": "2023-02-02T05:44:24.157Z"
   },
   {
    "duration": 14,
    "start_time": "2023-02-02T05:46:56.020Z"
   },
   {
    "duration": 8,
    "start_time": "2023-02-02T05:53:27.241Z"
   },
   {
    "duration": 12,
    "start_time": "2023-02-02T06:37:56.248Z"
   },
   {
    "duration": 9,
    "start_time": "2023-02-02T06:38:37.117Z"
   },
   {
    "duration": 121,
    "start_time": "2023-02-02T07:08:47.071Z"
   },
   {
    "duration": 6,
    "start_time": "2023-02-02T07:09:43.873Z"
   },
   {
    "duration": 6,
    "start_time": "2023-02-02T07:12:15.127Z"
   },
   {
    "duration": 6,
    "start_time": "2023-02-02T07:18:10.771Z"
   },
   {
    "duration": 5,
    "start_time": "2023-02-02T07:18:14.104Z"
   },
   {
    "duration": 7,
    "start_time": "2023-02-02T07:20:26.860Z"
   },
   {
    "duration": 405,
    "start_time": "2023-02-02T07:27:51.973Z"
   },
   {
    "duration": 190,
    "start_time": "2023-02-02T07:27:52.380Z"
   },
   {
    "duration": 18,
    "start_time": "2023-02-02T07:27:52.572Z"
   },
   {
    "duration": 67,
    "start_time": "2023-02-02T07:27:52.593Z"
   },
   {
    "duration": 5,
    "start_time": "2023-02-02T07:27:52.663Z"
   },
   {
    "duration": 18,
    "start_time": "2023-02-02T07:27:52.670Z"
   },
   {
    "duration": 17,
    "start_time": "2023-02-02T07:27:52.690Z"
   },
   {
    "duration": 13,
    "start_time": "2023-02-02T07:27:52.708Z"
   },
   {
    "duration": 49,
    "start_time": "2023-02-02T07:27:52.723Z"
   },
   {
    "duration": 52,
    "start_time": "2023-02-02T07:27:52.774Z"
   },
   {
    "duration": 49,
    "start_time": "2023-02-02T07:27:52.828Z"
   },
   {
    "duration": 89,
    "start_time": "2023-02-02T07:27:52.879Z"
   },
   {
    "duration": 86,
    "start_time": "2023-02-02T07:27:52.970Z"
   },
   {
    "duration": 66,
    "start_time": "2023-02-02T07:27:53.061Z"
   },
   {
    "duration": 57,
    "start_time": "2023-02-02T07:27:53.129Z"
   },
   {
    "duration": 120,
    "start_time": "2023-02-02T07:27:53.188Z"
   },
   {
    "duration": 49,
    "start_time": "2023-02-02T07:27:53.310Z"
   },
   {
    "duration": 13,
    "start_time": "2023-02-02T07:27:53.361Z"
   },
   {
    "duration": 13,
    "start_time": "2023-02-02T07:27:53.375Z"
   },
   {
    "duration": 4,
    "start_time": "2023-02-02T07:27:53.390Z"
   },
   {
    "duration": 56,
    "start_time": "2023-02-02T07:27:53.396Z"
   },
   {
    "duration": 18,
    "start_time": "2023-02-02T07:27:53.454Z"
   },
   {
    "duration": 16,
    "start_time": "2023-02-02T07:27:53.474Z"
   },
   {
    "duration": 15,
    "start_time": "2023-02-02T07:27:53.492Z"
   },
   {
    "duration": 46,
    "start_time": "2023-02-02T07:27:53.509Z"
   },
   {
    "duration": 16,
    "start_time": "2023-02-02T07:27:53.557Z"
   },
   {
    "duration": 8,
    "start_time": "2023-02-02T07:27:53.575Z"
   },
   {
    "duration": 15,
    "start_time": "2023-02-02T07:27:53.585Z"
   },
   {
    "duration": 32,
    "start_time": "2023-02-02T07:27:53.602Z"
   },
   {
    "duration": 31,
    "start_time": "2023-02-02T07:27:53.636Z"
   },
   {
    "duration": 14,
    "start_time": "2023-02-02T07:27:53.669Z"
   },
   {
    "duration": 7,
    "start_time": "2023-02-02T07:27:53.684Z"
   },
   {
    "duration": 6,
    "start_time": "2023-02-02T07:27:53.693Z"
   },
   {
    "duration": 10,
    "start_time": "2023-02-02T07:27:53.701Z"
   },
   {
    "duration": 12,
    "start_time": "2023-02-02T07:27:53.719Z"
   },
   {
    "duration": 24,
    "start_time": "2023-02-02T07:27:53.733Z"
   },
   {
    "duration": 21,
    "start_time": "2023-02-02T07:27:53.759Z"
   },
   {
    "duration": 6,
    "start_time": "2023-02-02T07:27:53.782Z"
   },
   {
    "duration": 404,
    "start_time": "2023-02-02T07:32:44.457Z"
   },
   {
    "duration": 182,
    "start_time": "2023-02-02T07:32:44.863Z"
   },
   {
    "duration": 19,
    "start_time": "2023-02-02T07:32:45.046Z"
   },
   {
    "duration": 33,
    "start_time": "2023-02-02T07:32:45.067Z"
   },
   {
    "duration": 3,
    "start_time": "2023-02-02T07:32:45.102Z"
   },
   {
    "duration": 10,
    "start_time": "2023-02-02T07:32:45.106Z"
   },
   {
    "duration": 11,
    "start_time": "2023-02-02T07:32:45.141Z"
   },
   {
    "duration": 9,
    "start_time": "2023-02-02T07:32:45.154Z"
   },
   {
    "duration": 33,
    "start_time": "2023-02-02T07:32:45.164Z"
   },
   {
    "duration": 72,
    "start_time": "2023-02-02T07:32:45.200Z"
   },
   {
    "duration": 30,
    "start_time": "2023-02-02T07:32:45.274Z"
   },
   {
    "duration": 95,
    "start_time": "2023-02-02T07:32:45.305Z"
   },
   {
    "duration": 88,
    "start_time": "2023-02-02T07:32:45.401Z"
   },
   {
    "duration": 78,
    "start_time": "2023-02-02T07:32:45.491Z"
   },
   {
    "duration": 42,
    "start_time": "2023-02-02T07:32:45.571Z"
   },
   {
    "duration": 113,
    "start_time": "2023-02-02T07:32:45.614Z"
   },
   {
    "duration": 49,
    "start_time": "2023-02-02T07:32:45.729Z"
   },
   {
    "duration": 13,
    "start_time": "2023-02-02T07:32:45.780Z"
   },
   {
    "duration": 13,
    "start_time": "2023-02-02T07:32:45.794Z"
   },
   {
    "duration": 32,
    "start_time": "2023-02-02T07:32:45.808Z"
   },
   {
    "duration": 26,
    "start_time": "2023-02-02T07:32:45.842Z"
   },
   {
    "duration": 20,
    "start_time": "2023-02-02T07:32:45.870Z"
   },
   {
    "duration": 19,
    "start_time": "2023-02-02T07:32:45.892Z"
   },
   {
    "duration": 41,
    "start_time": "2023-02-02T07:32:45.913Z"
   },
   {
    "duration": 20,
    "start_time": "2023-02-02T07:32:45.956Z"
   },
   {
    "duration": 16,
    "start_time": "2023-02-02T07:32:45.978Z"
   },
   {
    "duration": 10,
    "start_time": "2023-02-02T07:32:45.996Z"
   },
   {
    "duration": 13,
    "start_time": "2023-02-02T07:32:46.039Z"
   },
   {
    "duration": 27,
    "start_time": "2023-02-02T07:32:46.054Z"
   },
   {
    "duration": 13,
    "start_time": "2023-02-02T07:32:46.083Z"
   },
   {
    "duration": 8,
    "start_time": "2023-02-02T07:32:46.098Z"
   },
   {
    "duration": 5,
    "start_time": "2023-02-02T07:32:46.108Z"
   },
   {
    "duration": 5,
    "start_time": "2023-02-02T07:32:46.114Z"
   },
   {
    "duration": 12,
    "start_time": "2023-02-02T07:32:46.121Z"
   },
   {
    "duration": 8,
    "start_time": "2023-02-02T07:32:46.135Z"
   },
   {
    "duration": 7,
    "start_time": "2023-02-02T07:32:46.145Z"
   },
   {
    "duration": 6,
    "start_time": "2023-02-02T07:32:46.153Z"
   },
   {
    "duration": 7,
    "start_time": "2023-02-02T07:32:46.161Z"
   },
   {
    "duration": 490,
    "start_time": "2023-02-02T07:37:43.033Z"
   },
   {
    "duration": 194,
    "start_time": "2023-02-02T07:37:43.525Z"
   },
   {
    "duration": 29,
    "start_time": "2023-02-02T07:37:43.721Z"
   },
   {
    "duration": 37,
    "start_time": "2023-02-02T07:37:43.752Z"
   },
   {
    "duration": 19,
    "start_time": "2023-02-02T07:37:43.792Z"
   },
   {
    "duration": 17,
    "start_time": "2023-02-02T07:37:43.813Z"
   },
   {
    "duration": 42,
    "start_time": "2023-02-02T07:37:43.832Z"
   },
   {
    "duration": 26,
    "start_time": "2023-02-02T07:37:43.877Z"
   },
   {
    "duration": 65,
    "start_time": "2023-02-02T07:37:43.905Z"
   },
   {
    "duration": 78,
    "start_time": "2023-02-02T07:37:43.972Z"
   },
   {
    "duration": 26,
    "start_time": "2023-02-02T07:37:44.052Z"
   },
   {
    "duration": 103,
    "start_time": "2023-02-02T07:37:44.080Z"
   },
   {
    "duration": 89,
    "start_time": "2023-02-02T07:37:44.185Z"
   },
   {
    "duration": 80,
    "start_time": "2023-02-02T07:37:44.278Z"
   },
   {
    "duration": 42,
    "start_time": "2023-02-02T07:37:44.359Z"
   },
   {
    "duration": 111,
    "start_time": "2023-02-02T07:37:44.403Z"
   },
   {
    "duration": 50,
    "start_time": "2023-02-02T07:37:44.515Z"
   },
   {
    "duration": 12,
    "start_time": "2023-02-02T07:37:44.566Z"
   },
   {
    "duration": 21,
    "start_time": "2023-02-02T07:37:44.579Z"
   },
   {
    "duration": 16,
    "start_time": "2023-02-02T07:37:44.602Z"
   },
   {
    "duration": 49,
    "start_time": "2023-02-02T07:37:44.620Z"
   },
   {
    "duration": 47,
    "start_time": "2023-02-02T07:37:44.671Z"
   },
   {
    "duration": 25,
    "start_time": "2023-02-02T07:37:44.720Z"
   },
   {
    "duration": 30,
    "start_time": "2023-02-02T07:37:44.747Z"
   },
   {
    "duration": 39,
    "start_time": "2023-02-02T07:37:44.779Z"
   },
   {
    "duration": 42,
    "start_time": "2023-02-02T07:37:44.820Z"
   },
   {
    "duration": 37,
    "start_time": "2023-02-02T07:37:44.864Z"
   },
   {
    "duration": 63,
    "start_time": "2023-02-02T07:37:44.903Z"
   },
   {
    "duration": 48,
    "start_time": "2023-02-02T07:37:44.968Z"
   },
   {
    "duration": 23,
    "start_time": "2023-02-02T07:37:45.018Z"
   },
   {
    "duration": 49,
    "start_time": "2023-02-02T07:37:45.043Z"
   },
   {
    "duration": 33,
    "start_time": "2023-02-02T07:37:45.094Z"
   },
   {
    "duration": 24,
    "start_time": "2023-02-02T07:37:45.129Z"
   },
   {
    "duration": 33,
    "start_time": "2023-02-02T07:37:45.154Z"
   },
   {
    "duration": 30,
    "start_time": "2023-02-02T07:37:45.189Z"
   },
   {
    "duration": 23,
    "start_time": "2023-02-02T07:37:45.221Z"
   },
   {
    "duration": 34,
    "start_time": "2023-02-02T07:37:45.246Z"
   },
   {
    "duration": 30,
    "start_time": "2023-02-02T07:37:45.281Z"
   },
   {
    "duration": 404,
    "start_time": "2023-02-02T07:39:20.100Z"
   },
   {
    "duration": 194,
    "start_time": "2023-02-02T07:39:20.506Z"
   },
   {
    "duration": 18,
    "start_time": "2023-02-02T07:39:20.702Z"
   },
   {
    "duration": 160,
    "start_time": "2023-02-02T07:39:20.722Z"
   },
   {
    "duration": 224,
    "start_time": "2023-02-02T07:39:20.884Z"
   },
   {
    "duration": 119,
    "start_time": "2023-02-02T07:39:21.110Z"
   },
   {
    "duration": 71,
    "start_time": "2023-02-02T07:39:21.230Z"
   },
   {
    "duration": 20,
    "start_time": "2023-02-02T07:39:21.303Z"
   },
   {
    "duration": 72,
    "start_time": "2023-02-02T07:39:21.325Z"
   },
   {
    "duration": 93,
    "start_time": "2023-02-02T07:39:21.401Z"
   },
   {
    "duration": 30,
    "start_time": "2023-02-02T07:39:21.496Z"
   },
   {
    "duration": 114,
    "start_time": "2023-02-02T07:39:21.528Z"
   },
   {
    "duration": 92,
    "start_time": "2023-02-02T07:39:21.644Z"
   },
   {
    "duration": 81,
    "start_time": "2023-02-02T07:39:21.738Z"
   },
   {
    "duration": 67,
    "start_time": "2023-02-02T07:39:21.821Z"
   },
   {
    "duration": 172,
    "start_time": "2023-02-02T07:39:21.889Z"
   },
   {
    "duration": 43,
    "start_time": "2023-02-02T07:39:22.068Z"
   },
   {
    "duration": 73,
    "start_time": "2023-02-02T07:39:22.113Z"
   },
   {
    "duration": 13,
    "start_time": "2023-02-02T07:39:22.188Z"
   },
   {
    "duration": 32,
    "start_time": "2023-02-02T07:39:22.203Z"
   },
   {
    "duration": 69,
    "start_time": "2023-02-02T07:39:22.237Z"
   },
   {
    "duration": 45,
    "start_time": "2023-02-02T07:39:22.309Z"
   },
   {
    "duration": 61,
    "start_time": "2023-02-02T07:39:22.355Z"
   },
   {
    "duration": 31,
    "start_time": "2023-02-02T07:39:22.418Z"
   },
   {
    "duration": 49,
    "start_time": "2023-02-02T07:39:22.451Z"
   },
   {
    "duration": 47,
    "start_time": "2023-02-02T07:39:22.502Z"
   },
   {
    "duration": 52,
    "start_time": "2023-02-02T07:39:22.551Z"
   },
   {
    "duration": 26,
    "start_time": "2023-02-02T07:39:22.606Z"
   },
   {
    "duration": 51,
    "start_time": "2023-02-02T07:39:22.634Z"
   },
   {
    "duration": 26,
    "start_time": "2023-02-02T07:39:22.687Z"
   },
   {
    "duration": 18,
    "start_time": "2023-02-02T07:39:22.715Z"
   },
   {
    "duration": 54,
    "start_time": "2023-02-02T07:39:22.734Z"
   },
   {
    "duration": 18,
    "start_time": "2023-02-02T07:39:22.789Z"
   },
   {
    "duration": 60,
    "start_time": "2023-02-02T07:39:22.809Z"
   },
   {
    "duration": 18,
    "start_time": "2023-02-02T07:39:22.871Z"
   },
   {
    "duration": 16,
    "start_time": "2023-02-02T07:39:22.891Z"
   },
   {
    "duration": 33,
    "start_time": "2023-02-02T07:39:22.908Z"
   },
   {
    "duration": 43,
    "start_time": "2023-02-02T07:39:22.946Z"
   },
   {
    "duration": 402,
    "start_time": "2023-02-02T07:54:12.876Z"
   },
   {
    "duration": 201,
    "start_time": "2023-02-02T07:54:13.280Z"
   },
   {
    "duration": 18,
    "start_time": "2023-02-02T07:54:13.483Z"
   },
   {
    "duration": 53,
    "start_time": "2023-02-02T07:54:13.503Z"
   },
   {
    "duration": 20,
    "start_time": "2023-02-02T07:54:13.558Z"
   },
   {
    "duration": 32,
    "start_time": "2023-02-02T07:54:13.581Z"
   },
   {
    "duration": 47,
    "start_time": "2023-02-02T07:54:13.614Z"
   },
   {
    "duration": 17,
    "start_time": "2023-02-02T07:54:13.663Z"
   },
   {
    "duration": 60,
    "start_time": "2023-02-02T07:54:13.681Z"
   },
   {
    "duration": 60,
    "start_time": "2023-02-02T07:54:13.743Z"
   },
   {
    "duration": 36,
    "start_time": "2023-02-02T07:54:13.804Z"
   },
   {
    "duration": 95,
    "start_time": "2023-02-02T07:54:13.841Z"
   },
   {
    "duration": 70,
    "start_time": "2023-02-02T07:54:13.938Z"
   },
   {
    "duration": 76,
    "start_time": "2023-02-02T07:54:14.012Z"
   },
   {
    "duration": 59,
    "start_time": "2023-02-02T07:54:14.090Z"
   },
   {
    "duration": 114,
    "start_time": "2023-02-02T07:54:14.150Z"
   },
   {
    "duration": 42,
    "start_time": "2023-02-02T07:54:14.266Z"
   },
   {
    "duration": 12,
    "start_time": "2023-02-02T07:54:14.310Z"
   },
   {
    "duration": 13,
    "start_time": "2023-02-02T07:54:14.339Z"
   },
   {
    "duration": 35,
    "start_time": "2023-02-02T07:54:14.354Z"
   },
   {
    "duration": 67,
    "start_time": "2023-02-02T07:54:14.391Z"
   },
   {
    "duration": 58,
    "start_time": "2023-02-02T07:54:14.460Z"
   },
   {
    "duration": 29,
    "start_time": "2023-02-02T07:54:14.520Z"
   },
   {
    "duration": 50,
    "start_time": "2023-02-02T07:54:14.551Z"
   },
   {
    "duration": 34,
    "start_time": "2023-02-02T07:54:14.603Z"
   },
   {
    "duration": 37,
    "start_time": "2023-02-02T07:54:14.639Z"
   },
   {
    "duration": 28,
    "start_time": "2023-02-02T07:54:14.678Z"
   },
   {
    "duration": 32,
    "start_time": "2023-02-02T07:54:14.708Z"
   },
   {
    "duration": 33,
    "start_time": "2023-02-02T07:54:14.742Z"
   },
   {
    "duration": 16,
    "start_time": "2023-02-02T07:54:14.777Z"
   },
   {
    "duration": 23,
    "start_time": "2023-02-02T07:54:14.795Z"
   },
   {
    "duration": 41,
    "start_time": "2023-02-02T07:54:14.820Z"
   },
   {
    "duration": 26,
    "start_time": "2023-02-02T07:54:14.863Z"
   },
   {
    "duration": 15,
    "start_time": "2023-02-02T07:54:14.891Z"
   },
   {
    "duration": 20,
    "start_time": "2023-02-02T07:54:14.908Z"
   },
   {
    "duration": 50,
    "start_time": "2023-02-02T07:54:14.930Z"
   },
   {
    "duration": 63,
    "start_time": "2023-02-02T07:54:14.982Z"
   },
   {
    "duration": 22,
    "start_time": "2023-02-02T07:54:15.048Z"
   },
   {
    "duration": 26,
    "start_time": "2023-02-02T07:54:15.072Z"
   },
   {
    "duration": 4,
    "start_time": "2023-02-02T07:55:06.758Z"
   },
   {
    "duration": 4,
    "start_time": "2023-02-02T07:55:09.684Z"
   },
   {
    "duration": 390,
    "start_time": "2023-02-02T07:55:20.695Z"
   },
   {
    "duration": 192,
    "start_time": "2023-02-02T07:55:21.088Z"
   },
   {
    "duration": 25,
    "start_time": "2023-02-02T07:55:21.283Z"
   },
   {
    "duration": 53,
    "start_time": "2023-02-02T07:55:21.310Z"
   },
   {
    "duration": 11,
    "start_time": "2023-02-02T07:55:21.365Z"
   },
   {
    "duration": 43,
    "start_time": "2023-02-02T07:55:21.378Z"
   },
   {
    "duration": 37,
    "start_time": "2023-02-02T07:55:21.423Z"
   },
   {
    "duration": 30,
    "start_time": "2023-02-02T07:55:21.461Z"
   },
   {
    "duration": 56,
    "start_time": "2023-02-02T07:55:21.493Z"
   },
   {
    "duration": 65,
    "start_time": "2023-02-02T07:55:21.551Z"
   },
   {
    "duration": 28,
    "start_time": "2023-02-02T07:55:21.618Z"
   },
   {
    "duration": 85,
    "start_time": "2023-02-02T07:55:21.647Z"
   },
   {
    "duration": 82,
    "start_time": "2023-02-02T07:55:21.734Z"
   },
   {
    "duration": 74,
    "start_time": "2023-02-02T07:55:21.820Z"
   },
   {
    "duration": 54,
    "start_time": "2023-02-02T07:55:21.896Z"
   },
   {
    "duration": 134,
    "start_time": "2023-02-02T07:55:21.952Z"
   },
   {
    "duration": 52,
    "start_time": "2023-02-02T07:55:22.088Z"
   },
   {
    "duration": 13,
    "start_time": "2023-02-02T07:55:22.143Z"
   },
   {
    "duration": 32,
    "start_time": "2023-02-02T07:55:22.158Z"
   },
   {
    "duration": 21,
    "start_time": "2023-02-02T07:55:22.192Z"
   },
   {
    "duration": 68,
    "start_time": "2023-02-02T07:55:22.215Z"
   },
   {
    "duration": 39,
    "start_time": "2023-02-02T07:55:22.285Z"
   },
   {
    "duration": 37,
    "start_time": "2023-02-02T07:55:22.326Z"
   },
   {
    "duration": 23,
    "start_time": "2023-02-02T07:55:22.365Z"
   },
   {
    "duration": 28,
    "start_time": "2023-02-02T07:55:22.390Z"
   },
   {
    "duration": 38,
    "start_time": "2023-02-02T07:55:22.420Z"
   },
   {
    "duration": 33,
    "start_time": "2023-02-02T07:55:22.460Z"
   },
   {
    "duration": 60,
    "start_time": "2023-02-02T07:55:22.494Z"
   },
   {
    "duration": 44,
    "start_time": "2023-02-02T07:55:22.556Z"
   },
   {
    "duration": 17,
    "start_time": "2023-02-02T07:55:22.602Z"
   },
   {
    "duration": 29,
    "start_time": "2023-02-02T07:55:22.621Z"
   },
   {
    "duration": 48,
    "start_time": "2023-02-02T07:55:22.652Z"
   },
   {
    "duration": 14,
    "start_time": "2023-02-02T07:55:22.702Z"
   },
   {
    "duration": 7,
    "start_time": "2023-02-02T07:55:22.717Z"
   },
   {
    "duration": 9,
    "start_time": "2023-02-02T07:55:22.726Z"
   },
   {
    "duration": 5,
    "start_time": "2023-02-02T07:55:22.737Z"
   },
   {
    "duration": 11,
    "start_time": "2023-02-02T07:55:22.744Z"
   },
   {
    "duration": 7,
    "start_time": "2023-02-02T07:55:22.757Z"
   },
   {
    "duration": 7,
    "start_time": "2023-02-02T07:55:22.765Z"
   },
   {
    "duration": 442,
    "start_time": "2023-02-02T08:15:22.529Z"
   },
   {
    "duration": 197,
    "start_time": "2023-02-02T08:15:22.973Z"
   },
   {
    "duration": 19,
    "start_time": "2023-02-02T08:15:23.172Z"
   },
   {
    "duration": 52,
    "start_time": "2023-02-02T08:15:23.193Z"
   },
   {
    "duration": 27,
    "start_time": "2023-02-02T08:15:23.248Z"
   },
   {
    "duration": 31,
    "start_time": "2023-02-02T08:15:23.277Z"
   },
   {
    "duration": 39,
    "start_time": "2023-02-02T08:15:23.309Z"
   },
   {
    "duration": 40,
    "start_time": "2023-02-02T08:15:23.350Z"
   },
   {
    "duration": 66,
    "start_time": "2023-02-02T08:15:23.391Z"
   },
   {
    "duration": 113,
    "start_time": "2023-02-02T08:15:23.463Z"
   },
   {
    "duration": 30,
    "start_time": "2023-02-02T08:15:23.578Z"
   },
   {
    "duration": 100,
    "start_time": "2023-02-02T08:15:23.609Z"
   },
   {
    "duration": 85,
    "start_time": "2023-02-02T08:15:23.710Z"
   },
   {
    "duration": 92,
    "start_time": "2023-02-02T08:15:23.797Z"
   },
   {
    "duration": 61,
    "start_time": "2023-02-02T08:15:23.891Z"
   },
   {
    "duration": 117,
    "start_time": "2023-02-02T08:15:23.957Z"
   },
   {
    "duration": 42,
    "start_time": "2023-02-02T08:15:24.075Z"
   },
   {
    "duration": 43,
    "start_time": "2023-02-02T08:15:24.119Z"
   },
   {
    "duration": 18,
    "start_time": "2023-02-02T08:15:24.166Z"
   },
   {
    "duration": 4,
    "start_time": "2023-02-02T08:15:24.186Z"
   },
   {
    "duration": 61,
    "start_time": "2023-02-02T08:15:24.192Z"
   },
   {
    "duration": 31,
    "start_time": "2023-02-02T08:15:24.262Z"
   },
   {
    "duration": 29,
    "start_time": "2023-02-02T08:15:24.294Z"
   },
   {
    "duration": 44,
    "start_time": "2023-02-02T08:15:24.325Z"
   },
   {
    "duration": 29,
    "start_time": "2023-02-02T08:15:24.371Z"
   },
   {
    "duration": 17,
    "start_time": "2023-02-02T08:15:24.402Z"
   },
   {
    "duration": 10,
    "start_time": "2023-02-02T08:15:24.421Z"
   },
   {
    "duration": 44,
    "start_time": "2023-02-02T08:15:24.434Z"
   },
   {
    "duration": 14,
    "start_time": "2023-02-02T08:15:24.480Z"
   },
   {
    "duration": 18,
    "start_time": "2023-02-02T08:15:24.496Z"
   },
   {
    "duration": 6,
    "start_time": "2023-02-02T08:15:24.516Z"
   },
   {
    "duration": 8,
    "start_time": "2023-02-02T08:15:24.523Z"
   },
   {
    "duration": 5,
    "start_time": "2023-02-02T08:15:24.532Z"
   },
   {
    "duration": 33,
    "start_time": "2023-02-02T08:15:24.538Z"
   },
   {
    "duration": 6,
    "start_time": "2023-02-02T08:15:24.573Z"
   },
   {
    "duration": 4,
    "start_time": "2023-02-02T08:15:24.581Z"
   },
   {
    "duration": 4,
    "start_time": "2023-02-02T08:15:24.587Z"
   },
   {
    "duration": 5,
    "start_time": "2023-02-02T08:15:24.592Z"
   },
   {
    "duration": 6,
    "start_time": "2023-02-02T08:15:24.599Z"
   },
   {
    "duration": 441,
    "start_time": "2023-02-02T08:30:33.013Z"
   },
   {
    "duration": 203,
    "start_time": "2023-02-02T08:30:33.468Z"
   },
   {
    "duration": 19,
    "start_time": "2023-02-02T08:30:33.678Z"
   },
   {
    "duration": 58,
    "start_time": "2023-02-02T08:30:33.700Z"
   },
   {
    "duration": 21,
    "start_time": "2023-02-02T08:30:33.764Z"
   },
   {
    "duration": 10,
    "start_time": "2023-02-02T08:30:33.787Z"
   },
   {
    "duration": 13,
    "start_time": "2023-02-02T08:30:33.798Z"
   },
   {
    "duration": 8,
    "start_time": "2023-02-02T08:30:33.813Z"
   },
   {
    "duration": 54,
    "start_time": "2023-02-02T08:30:33.822Z"
   },
   {
    "duration": 54,
    "start_time": "2023-02-02T08:30:33.882Z"
   },
   {
    "duration": 50,
    "start_time": "2023-02-02T08:30:33.938Z"
   },
   {
    "duration": 83,
    "start_time": "2023-02-02T08:30:33.991Z"
   },
   {
    "duration": 92,
    "start_time": "2023-02-02T08:30:34.075Z"
   },
   {
    "duration": 73,
    "start_time": "2023-02-02T08:30:34.176Z"
   },
   {
    "duration": 61,
    "start_time": "2023-02-02T08:30:34.260Z"
   },
   {
    "duration": 113,
    "start_time": "2023-02-02T08:30:34.322Z"
   },
   {
    "duration": 61,
    "start_time": "2023-02-02T08:30:34.437Z"
   },
   {
    "duration": 14,
    "start_time": "2023-02-02T08:30:34.500Z"
   },
   {
    "duration": 32,
    "start_time": "2023-02-02T08:30:34.516Z"
   },
   {
    "duration": 46,
    "start_time": "2023-02-02T08:30:34.550Z"
   },
   {
    "duration": 28,
    "start_time": "2023-02-02T08:30:34.598Z"
   },
   {
    "duration": 31,
    "start_time": "2023-02-02T08:30:34.628Z"
   },
   {
    "duration": 27,
    "start_time": "2023-02-02T08:30:34.660Z"
   },
   {
    "duration": 16,
    "start_time": "2023-02-02T08:30:34.689Z"
   },
   {
    "duration": 19,
    "start_time": "2023-02-02T08:30:34.706Z"
   },
   {
    "duration": 34,
    "start_time": "2023-02-02T08:30:34.727Z"
   },
   {
    "duration": 51,
    "start_time": "2023-02-02T08:30:34.763Z"
   },
   {
    "duration": 16,
    "start_time": "2023-02-02T08:30:34.817Z"
   },
   {
    "duration": 25,
    "start_time": "2023-02-02T08:30:34.835Z"
   },
   {
    "duration": 14,
    "start_time": "2023-02-02T08:30:34.862Z"
   },
   {
    "duration": 15,
    "start_time": "2023-02-02T08:30:34.878Z"
   },
   {
    "duration": 12,
    "start_time": "2023-02-02T08:30:34.894Z"
   },
   {
    "duration": 9,
    "start_time": "2023-02-02T08:30:34.908Z"
   },
   {
    "duration": 6,
    "start_time": "2023-02-02T08:30:34.918Z"
   },
   {
    "duration": 10,
    "start_time": "2023-02-02T08:30:34.926Z"
   },
   {
    "duration": 44,
    "start_time": "2023-02-02T08:30:34.937Z"
   },
   {
    "duration": 15,
    "start_time": "2023-02-02T08:30:34.982Z"
   },
   {
    "duration": 9,
    "start_time": "2023-02-02T08:30:34.999Z"
   },
   {
    "duration": 419,
    "start_time": "2023-02-02T08:32:01.387Z"
   },
   {
    "duration": 220,
    "start_time": "2023-02-02T08:32:01.809Z"
   },
   {
    "duration": 34,
    "start_time": "2023-02-02T08:32:02.031Z"
   },
   {
    "duration": 61,
    "start_time": "2023-02-02T08:32:02.067Z"
   },
   {
    "duration": 48,
    "start_time": "2023-02-02T08:32:02.131Z"
   },
   {
    "duration": 23,
    "start_time": "2023-02-02T08:32:02.181Z"
   },
   {
    "duration": 28,
    "start_time": "2023-02-02T08:32:02.206Z"
   },
   {
    "duration": 36,
    "start_time": "2023-02-02T08:32:02.237Z"
   },
   {
    "duration": 39,
    "start_time": "2023-02-02T08:32:02.280Z"
   },
   {
    "duration": 75,
    "start_time": "2023-02-02T08:32:02.321Z"
   },
   {
    "duration": 28,
    "start_time": "2023-02-02T08:32:02.398Z"
   },
   {
    "duration": 142,
    "start_time": "2023-02-02T08:32:02.428Z"
   },
   {
    "duration": 99,
    "start_time": "2023-02-02T08:32:02.574Z"
   },
   {
    "duration": 142,
    "start_time": "2023-02-02T08:32:02.679Z"
   },
   {
    "duration": 75,
    "start_time": "2023-02-02T08:32:02.823Z"
   },
   {
    "duration": 128,
    "start_time": "2023-02-02T08:32:02.900Z"
   },
   {
    "duration": 68,
    "start_time": "2023-02-02T08:32:03.029Z"
   },
   {
    "duration": 24,
    "start_time": "2023-02-02T08:32:03.099Z"
   },
   {
    "duration": 33,
    "start_time": "2023-02-02T08:32:03.125Z"
   },
   {
    "duration": 37,
    "start_time": "2023-02-02T08:32:03.159Z"
   },
   {
    "duration": 61,
    "start_time": "2023-02-02T08:32:03.198Z"
   },
   {
    "duration": 63,
    "start_time": "2023-02-02T08:32:03.264Z"
   },
   {
    "duration": 28,
    "start_time": "2023-02-02T08:32:03.329Z"
   },
   {
    "duration": 59,
    "start_time": "2023-02-02T08:32:03.364Z"
   },
   {
    "duration": 35,
    "start_time": "2023-02-02T08:32:03.425Z"
   },
   {
    "duration": 162,
    "start_time": "2023-02-02T08:32:03.464Z"
   },
   {
    "duration": 54,
    "start_time": "2023-02-02T08:32:03.627Z"
   },
   {
    "duration": 39,
    "start_time": "2023-02-02T08:32:03.683Z"
   },
   {
    "duration": 63,
    "start_time": "2023-02-02T08:32:03.724Z"
   },
   {
    "duration": 11,
    "start_time": "2023-02-02T08:32:03.789Z"
   },
   {
    "duration": 44,
    "start_time": "2023-02-02T08:32:03.801Z"
   },
   {
    "duration": 53,
    "start_time": "2023-02-02T08:32:03.847Z"
   },
   {
    "duration": 16,
    "start_time": "2023-02-02T08:32:03.902Z"
   },
   {
    "duration": 59,
    "start_time": "2023-02-02T08:32:03.920Z"
   },
   {
    "duration": 20,
    "start_time": "2023-02-02T08:32:03.981Z"
   },
   {
    "duration": 18,
    "start_time": "2023-02-02T08:32:04.003Z"
   },
   {
    "duration": 53,
    "start_time": "2023-02-02T08:32:04.023Z"
   },
   {
    "duration": 15,
    "start_time": "2023-02-02T08:32:04.080Z"
   },
   {
    "duration": 71,
    "start_time": "2023-02-02T10:16:00.009Z"
   },
   {
    "duration": 387,
    "start_time": "2023-02-02T10:16:52.672Z"
   },
   {
    "duration": 186,
    "start_time": "2023-02-02T10:16:53.062Z"
   },
   {
    "duration": 18,
    "start_time": "2023-02-02T10:16:53.250Z"
   },
   {
    "duration": 46,
    "start_time": "2023-02-02T10:16:53.269Z"
   },
   {
    "duration": 4,
    "start_time": "2023-02-02T10:16:53.317Z"
   },
   {
    "duration": 19,
    "start_time": "2023-02-02T10:16:53.323Z"
   },
   {
    "duration": 14,
    "start_time": "2023-02-02T10:16:53.344Z"
   },
   {
    "duration": 10,
    "start_time": "2023-02-02T10:16:53.360Z"
   },
   {
    "duration": 44,
    "start_time": "2023-02-02T10:16:53.372Z"
   },
   {
    "duration": 53,
    "start_time": "2023-02-02T10:16:53.418Z"
   },
   {
    "duration": 28,
    "start_time": "2023-02-02T10:16:53.472Z"
   },
   {
    "duration": 91,
    "start_time": "2023-02-02T10:16:53.501Z"
   },
   {
    "duration": 100,
    "start_time": "2023-02-02T10:16:53.594Z"
   },
   {
    "duration": 83,
    "start_time": "2023-02-02T10:16:53.699Z"
   },
   {
    "duration": 44,
    "start_time": "2023-02-02T10:16:53.784Z"
   },
   {
    "duration": 116,
    "start_time": "2023-02-02T10:16:53.841Z"
   },
   {
    "duration": 42,
    "start_time": "2023-02-02T10:16:53.959Z"
   },
   {
    "duration": 22,
    "start_time": "2023-02-02T10:16:54.003Z"
   },
   {
    "duration": 25,
    "start_time": "2023-02-02T10:16:54.027Z"
   },
   {
    "duration": 15,
    "start_time": "2023-02-02T10:16:54.054Z"
   },
   {
    "duration": 56,
    "start_time": "2023-02-02T10:16:54.071Z"
   },
   {
    "duration": 20,
    "start_time": "2023-02-02T10:16:54.129Z"
   },
   {
    "duration": 16,
    "start_time": "2023-02-02T10:16:54.151Z"
   },
   {
    "duration": 16,
    "start_time": "2023-02-02T10:16:54.169Z"
   },
   {
    "duration": 20,
    "start_time": "2023-02-02T10:16:54.186Z"
   },
   {
    "duration": 44,
    "start_time": "2023-02-02T10:16:54.208Z"
   },
   {
    "duration": 12,
    "start_time": "2023-02-02T10:16:54.253Z"
   },
   {
    "duration": 19,
    "start_time": "2023-02-02T10:16:54.267Z"
   },
   {
    "duration": 14,
    "start_time": "2023-02-02T10:16:54.288Z"
   },
   {
    "duration": 5,
    "start_time": "2023-02-02T10:16:54.304Z"
   },
   {
    "duration": 44,
    "start_time": "2023-02-02T10:16:54.310Z"
   },
   {
    "duration": 3,
    "start_time": "2023-02-02T10:16:54.356Z"
   },
   {
    "duration": 22,
    "start_time": "2023-02-02T10:16:54.361Z"
   },
   {
    "duration": 7,
    "start_time": "2023-02-02T10:16:54.385Z"
   },
   {
    "duration": 6,
    "start_time": "2023-02-02T10:16:54.394Z"
   },
   {
    "duration": 9,
    "start_time": "2023-02-02T10:16:54.402Z"
   },
   {
    "duration": 8,
    "start_time": "2023-02-02T10:16:54.413Z"
   },
   {
    "duration": 11,
    "start_time": "2023-02-02T10:16:54.423Z"
   },
   {
    "duration": 13,
    "start_time": "2023-02-02T10:19:11.840Z"
   },
   {
    "duration": 20,
    "start_time": "2023-02-02T10:19:15.661Z"
   },
   {
    "duration": 14,
    "start_time": "2023-02-02T10:19:20.088Z"
   },
   {
    "duration": 9,
    "start_time": "2023-02-02T10:27:12.983Z"
   },
   {
    "duration": 5,
    "start_time": "2023-02-02T10:27:59.278Z"
   },
   {
    "duration": 6,
    "start_time": "2023-02-02T10:28:28.016Z"
   },
   {
    "duration": 75,
    "start_time": "2023-02-02T10:30:35.314Z"
   },
   {
    "duration": 10,
    "start_time": "2023-02-02T10:30:56.368Z"
   },
   {
    "duration": 113,
    "start_time": "2023-02-02T10:31:28.220Z"
   },
   {
    "duration": 17,
    "start_time": "2023-02-02T10:33:17.021Z"
   },
   {
    "duration": 11,
    "start_time": "2023-02-02T10:33:20.924Z"
   },
   {
    "duration": 6,
    "start_time": "2023-02-02T10:34:43.204Z"
   },
   {
    "duration": 5,
    "start_time": "2023-02-02T10:34:46.330Z"
   }
  ],
  "colab": {
   "collapsed_sections": [
    "E0vqbgi9ay0H",
    "VUC88oWjTJw2"
   ],
   "provenance": []
  },
  "kernelspec": {
   "display_name": "Python 3 (ipykernel)",
   "language": "python",
   "name": "python3"
  },
  "language_info": {
   "codemirror_mode": {
    "name": "ipython",
    "version": 3
   },
   "file_extension": ".py",
   "mimetype": "text/x-python",
   "name": "python",
   "nbconvert_exporter": "python",
   "pygments_lexer": "ipython3",
   "version": "3.9.13"
  },
  "toc": {
   "base_numbering": 1,
   "nav_menu": {
    "height": "215px",
    "width": "403px"
   },
   "number_sections": true,
   "sideBar": true,
   "skip_h1_title": true,
   "title_cell": "Table of Contents",
   "title_sidebar": "Contents",
   "toc_cell": false,
   "toc_position": {
    "height": "calc(100% - 180px)",
    "left": "10px",
    "top": "150px",
    "width": "285.825px"
   },
   "toc_section_display": true,
   "toc_window_display": false
  }
 },
 "nbformat": 4,
 "nbformat_minor": 1
}
