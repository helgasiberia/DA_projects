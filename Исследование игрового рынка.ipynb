{
 "cells": [
  {
   "cell_type": "markdown",
   "metadata": {},
   "source": [
    "# Исследование для интернет-магазина \"Стримчик\""
   ]
  },
  {
   "cell_type": "markdown",
   "metadata": {},
   "source": [
    "Из открытых источников доступны исторические данные о продажах игр, оценки пользователей и экспертов, жанры и платформы (например, Xbox или PlayStation). \n",
    "\n",
    "Интернет-магазину Стримчик необходимо получить данные о закономерностях, влияющих на коммерческую успешность игры. На основе данных будут спланированы кампании на 2017 г. Таким образом: \n",
    "\n",
    "**Цель исследования**\n",
    "Выявить определяющие успешность игры закономерности. Это позволит сделать ставку на потенциально популярный продукт и спланировать рекламные кампании.\n",
    "\n",
    "**Ход исследования**\n",
    "Исследование пройдёт в три этапа:\n",
    " 1. Обзор данных.\n",
    " 2. Предобработка данных.\n",
    " 3. Исследовательский анализ данных\n",
    " 4. Проверка гипотез."
   ]
  },
  {
   "cell_type": "markdown",
   "metadata": {},
   "source": [
    "### Общая информация о данных"
   ]
  },
  {
   "cell_type": "code",
   "execution_count": 32,
   "metadata": {},
   "outputs": [],
   "source": [
    "#импортируем все необходимые библиотеки\n",
    "\n",
    "import pandas as pd\n",
    "import numpy as np\n",
    "import matplotlib.pyplot as plt\n",
    "from scipy import stats as st\n",
    "import seaborn as sns"
   ]
  },
  {
   "cell_type": "code",
   "execution_count": 33,
   "metadata": {},
   "outputs": [],
   "source": [
    "data = pd.read_csv('/datasets/games.csv')"
   ]
  },
  {
   "cell_type": "code",
   "execution_count": 34,
   "metadata": {},
   "outputs": [
    {
     "data": {
      "text/html": [
       "<div>\n",
       "<style scoped>\n",
       "    .dataframe tbody tr th:only-of-type {\n",
       "        vertical-align: middle;\n",
       "    }\n",
       "\n",
       "    .dataframe tbody tr th {\n",
       "        vertical-align: top;\n",
       "    }\n",
       "\n",
       "    .dataframe thead th {\n",
       "        text-align: right;\n",
       "    }\n",
       "</style>\n",
       "<table border=\"1\" class=\"dataframe\">\n",
       "  <thead>\n",
       "    <tr style=\"text-align: right;\">\n",
       "      <th></th>\n",
       "      <th>Name</th>\n",
       "      <th>Platform</th>\n",
       "      <th>Year_of_Release</th>\n",
       "      <th>Genre</th>\n",
       "      <th>NA_sales</th>\n",
       "      <th>EU_sales</th>\n",
       "      <th>JP_sales</th>\n",
       "      <th>Other_sales</th>\n",
       "      <th>Critic_Score</th>\n",
       "      <th>User_Score</th>\n",
       "      <th>Rating</th>\n",
       "    </tr>\n",
       "  </thead>\n",
       "  <tbody>\n",
       "    <tr>\n",
       "      <th>0</th>\n",
       "      <td>Wii Sports</td>\n",
       "      <td>Wii</td>\n",
       "      <td>2006.0</td>\n",
       "      <td>Sports</td>\n",
       "      <td>41.36</td>\n",
       "      <td>28.96</td>\n",
       "      <td>3.77</td>\n",
       "      <td>8.45</td>\n",
       "      <td>76.0</td>\n",
       "      <td>8</td>\n",
       "      <td>E</td>\n",
       "    </tr>\n",
       "    <tr>\n",
       "      <th>1</th>\n",
       "      <td>Super Mario Bros.</td>\n",
       "      <td>NES</td>\n",
       "      <td>1985.0</td>\n",
       "      <td>Platform</td>\n",
       "      <td>29.08</td>\n",
       "      <td>3.58</td>\n",
       "      <td>6.81</td>\n",
       "      <td>0.77</td>\n",
       "      <td>NaN</td>\n",
       "      <td>NaN</td>\n",
       "      <td>NaN</td>\n",
       "    </tr>\n",
       "    <tr>\n",
       "      <th>2</th>\n",
       "      <td>Mario Kart Wii</td>\n",
       "      <td>Wii</td>\n",
       "      <td>2008.0</td>\n",
       "      <td>Racing</td>\n",
       "      <td>15.68</td>\n",
       "      <td>12.76</td>\n",
       "      <td>3.79</td>\n",
       "      <td>3.29</td>\n",
       "      <td>82.0</td>\n",
       "      <td>8.3</td>\n",
       "      <td>E</td>\n",
       "    </tr>\n",
       "    <tr>\n",
       "      <th>3</th>\n",
       "      <td>Wii Sports Resort</td>\n",
       "      <td>Wii</td>\n",
       "      <td>2009.0</td>\n",
       "      <td>Sports</td>\n",
       "      <td>15.61</td>\n",
       "      <td>10.93</td>\n",
       "      <td>3.28</td>\n",
       "      <td>2.95</td>\n",
       "      <td>80.0</td>\n",
       "      <td>8</td>\n",
       "      <td>E</td>\n",
       "    </tr>\n",
       "    <tr>\n",
       "      <th>4</th>\n",
       "      <td>Pokemon Red/Pokemon Blue</td>\n",
       "      <td>GB</td>\n",
       "      <td>1996.0</td>\n",
       "      <td>Role-Playing</td>\n",
       "      <td>11.27</td>\n",
       "      <td>8.89</td>\n",
       "      <td>10.22</td>\n",
       "      <td>1.00</td>\n",
       "      <td>NaN</td>\n",
       "      <td>NaN</td>\n",
       "      <td>NaN</td>\n",
       "    </tr>\n",
       "    <tr>\n",
       "      <th>5</th>\n",
       "      <td>Tetris</td>\n",
       "      <td>GB</td>\n",
       "      <td>1989.0</td>\n",
       "      <td>Puzzle</td>\n",
       "      <td>23.20</td>\n",
       "      <td>2.26</td>\n",
       "      <td>4.22</td>\n",
       "      <td>0.58</td>\n",
       "      <td>NaN</td>\n",
       "      <td>NaN</td>\n",
       "      <td>NaN</td>\n",
       "    </tr>\n",
       "    <tr>\n",
       "      <th>6</th>\n",
       "      <td>New Super Mario Bros.</td>\n",
       "      <td>DS</td>\n",
       "      <td>2006.0</td>\n",
       "      <td>Platform</td>\n",
       "      <td>11.28</td>\n",
       "      <td>9.14</td>\n",
       "      <td>6.50</td>\n",
       "      <td>2.88</td>\n",
       "      <td>89.0</td>\n",
       "      <td>8.5</td>\n",
       "      <td>E</td>\n",
       "    </tr>\n",
       "    <tr>\n",
       "      <th>7</th>\n",
       "      <td>Wii Play</td>\n",
       "      <td>Wii</td>\n",
       "      <td>2006.0</td>\n",
       "      <td>Misc</td>\n",
       "      <td>13.96</td>\n",
       "      <td>9.18</td>\n",
       "      <td>2.93</td>\n",
       "      <td>2.84</td>\n",
       "      <td>58.0</td>\n",
       "      <td>6.6</td>\n",
       "      <td>E</td>\n",
       "    </tr>\n",
       "    <tr>\n",
       "      <th>8</th>\n",
       "      <td>New Super Mario Bros. Wii</td>\n",
       "      <td>Wii</td>\n",
       "      <td>2009.0</td>\n",
       "      <td>Platform</td>\n",
       "      <td>14.44</td>\n",
       "      <td>6.94</td>\n",
       "      <td>4.70</td>\n",
       "      <td>2.24</td>\n",
       "      <td>87.0</td>\n",
       "      <td>8.4</td>\n",
       "      <td>E</td>\n",
       "    </tr>\n",
       "    <tr>\n",
       "      <th>9</th>\n",
       "      <td>Duck Hunt</td>\n",
       "      <td>NES</td>\n",
       "      <td>1984.0</td>\n",
       "      <td>Shooter</td>\n",
       "      <td>26.93</td>\n",
       "      <td>0.63</td>\n",
       "      <td>0.28</td>\n",
       "      <td>0.47</td>\n",
       "      <td>NaN</td>\n",
       "      <td>NaN</td>\n",
       "      <td>NaN</td>\n",
       "    </tr>\n",
       "  </tbody>\n",
       "</table>\n",
       "</div>"
      ],
      "text/plain": [
       "                        Name Platform  Year_of_Release         Genre  \\\n",
       "0                 Wii Sports      Wii           2006.0        Sports   \n",
       "1          Super Mario Bros.      NES           1985.0      Platform   \n",
       "2             Mario Kart Wii      Wii           2008.0        Racing   \n",
       "3          Wii Sports Resort      Wii           2009.0        Sports   \n",
       "4   Pokemon Red/Pokemon Blue       GB           1996.0  Role-Playing   \n",
       "5                     Tetris       GB           1989.0        Puzzle   \n",
       "6      New Super Mario Bros.       DS           2006.0      Platform   \n",
       "7                   Wii Play      Wii           2006.0          Misc   \n",
       "8  New Super Mario Bros. Wii      Wii           2009.0      Platform   \n",
       "9                  Duck Hunt      NES           1984.0       Shooter   \n",
       "\n",
       "   NA_sales  EU_sales  JP_sales  Other_sales  Critic_Score User_Score Rating  \n",
       "0     41.36     28.96      3.77         8.45          76.0          8      E  \n",
       "1     29.08      3.58      6.81         0.77           NaN        NaN    NaN  \n",
       "2     15.68     12.76      3.79         3.29          82.0        8.3      E  \n",
       "3     15.61     10.93      3.28         2.95          80.0          8      E  \n",
       "4     11.27      8.89     10.22         1.00           NaN        NaN    NaN  \n",
       "5     23.20      2.26      4.22         0.58           NaN        NaN    NaN  \n",
       "6     11.28      9.14      6.50         2.88          89.0        8.5      E  \n",
       "7     13.96      9.18      2.93         2.84          58.0        6.6      E  \n",
       "8     14.44      6.94      4.70         2.24          87.0        8.4      E  \n",
       "9     26.93      0.63      0.28         0.47           NaN        NaN    NaN  "
      ]
     },
     "execution_count": 34,
     "metadata": {},
     "output_type": "execute_result"
    }
   ],
   "source": [
    "data.head(10)"
   ]
  },
  {
   "cell_type": "code",
   "execution_count": 35,
   "metadata": {},
   "outputs": [
    {
     "name": "stdout",
     "output_type": "stream",
     "text": [
      "<class 'pandas.core.frame.DataFrame'>\n",
      "RangeIndex: 16715 entries, 0 to 16714\n",
      "Data columns (total 11 columns):\n",
      " #   Column           Non-Null Count  Dtype  \n",
      "---  ------           --------------  -----  \n",
      " 0   Name             16713 non-null  object \n",
      " 1   Platform         16715 non-null  object \n",
      " 2   Year_of_Release  16446 non-null  float64\n",
      " 3   Genre            16713 non-null  object \n",
      " 4   NA_sales         16715 non-null  float64\n",
      " 5   EU_sales         16715 non-null  float64\n",
      " 6   JP_sales         16715 non-null  float64\n",
      " 7   Other_sales      16715 non-null  float64\n",
      " 8   Critic_Score     8137 non-null   float64\n",
      " 9   User_Score       10014 non-null  object \n",
      " 10  Rating           9949 non-null   object \n",
      "dtypes: float64(6), object(5)\n",
      "memory usage: 1.4+ MB\n"
     ]
    }
   ],
   "source": [
    "data.info()"
   ]
  },
  {
   "cell_type": "markdown",
   "metadata": {},
   "source": [
    "<div style=\"background-color:black; color:#ffffff; text-align:left; padding:2%\">\n",
    "💬 всего в массиве 16715 строк. Есть что поправить:\n",
    "<br> Названия столбцов содержат заглавные буквы\n",
    "<br> в нескольких столбцах есть пропущенные значения. В столбцах Year_of_Release, Critic_Score, User_Score, Rating пропуски стоит изучить, и при необходимости, заменить или удалить.   \n",
    "<br> форматы данных столбцов Year_of_Release, User_Score подлежат изменению "
   ]
  },
  {
   "cell_type": "markdown",
   "metadata": {},
   "source": [
    "### Подготовка данных"
   ]
  },
  {
   "cell_type": "code",
   "execution_count": 36,
   "metadata": {},
   "outputs": [],
   "source": [
    "#устраним самый явный недочет - приведем все названия к змеиному регистру\n",
    "\n",
    "for col in data:\n",
    "    data = data.rename(\n",
    "    columns={\n",
    "        col: col.lower()\n",
    "    }\n",
    ")"
   ]
  },
  {
   "cell_type": "code",
   "execution_count": 37,
   "metadata": {},
   "outputs": [
    {
     "data": {
      "text/html": [
       "<div>\n",
       "<style scoped>\n",
       "    .dataframe tbody tr th:only-of-type {\n",
       "        vertical-align: middle;\n",
       "    }\n",
       "\n",
       "    .dataframe tbody tr th {\n",
       "        vertical-align: top;\n",
       "    }\n",
       "\n",
       "    .dataframe thead th {\n",
       "        text-align: right;\n",
       "    }\n",
       "</style>\n",
       "<table border=\"1\" class=\"dataframe\">\n",
       "  <thead>\n",
       "    <tr style=\"text-align: right;\">\n",
       "      <th></th>\n",
       "      <th>name</th>\n",
       "      <th>platform</th>\n",
       "      <th>year_of_release</th>\n",
       "      <th>genre</th>\n",
       "      <th>na_sales</th>\n",
       "      <th>eu_sales</th>\n",
       "      <th>jp_sales</th>\n",
       "      <th>other_sales</th>\n",
       "      <th>critic_score</th>\n",
       "      <th>user_score</th>\n",
       "      <th>rating</th>\n",
       "    </tr>\n",
       "  </thead>\n",
       "  <tbody>\n",
       "    <tr>\n",
       "      <th>0</th>\n",
       "      <td>Wii Sports</td>\n",
       "      <td>Wii</td>\n",
       "      <td>2006.0</td>\n",
       "      <td>Sports</td>\n",
       "      <td>41.36</td>\n",
       "      <td>28.96</td>\n",
       "      <td>3.77</td>\n",
       "      <td>8.45</td>\n",
       "      <td>76.0</td>\n",
       "      <td>8</td>\n",
       "      <td>E</td>\n",
       "    </tr>\n",
       "    <tr>\n",
       "      <th>1</th>\n",
       "      <td>Super Mario Bros.</td>\n",
       "      <td>NES</td>\n",
       "      <td>1985.0</td>\n",
       "      <td>Platform</td>\n",
       "      <td>29.08</td>\n",
       "      <td>3.58</td>\n",
       "      <td>6.81</td>\n",
       "      <td>0.77</td>\n",
       "      <td>NaN</td>\n",
       "      <td>NaN</td>\n",
       "      <td>NaN</td>\n",
       "    </tr>\n",
       "    <tr>\n",
       "      <th>2</th>\n",
       "      <td>Mario Kart Wii</td>\n",
       "      <td>Wii</td>\n",
       "      <td>2008.0</td>\n",
       "      <td>Racing</td>\n",
       "      <td>15.68</td>\n",
       "      <td>12.76</td>\n",
       "      <td>3.79</td>\n",
       "      <td>3.29</td>\n",
       "      <td>82.0</td>\n",
       "      <td>8.3</td>\n",
       "      <td>E</td>\n",
       "    </tr>\n",
       "    <tr>\n",
       "      <th>3</th>\n",
       "      <td>Wii Sports Resort</td>\n",
       "      <td>Wii</td>\n",
       "      <td>2009.0</td>\n",
       "      <td>Sports</td>\n",
       "      <td>15.61</td>\n",
       "      <td>10.93</td>\n",
       "      <td>3.28</td>\n",
       "      <td>2.95</td>\n",
       "      <td>80.0</td>\n",
       "      <td>8</td>\n",
       "      <td>E</td>\n",
       "    </tr>\n",
       "    <tr>\n",
       "      <th>4</th>\n",
       "      <td>Pokemon Red/Pokemon Blue</td>\n",
       "      <td>GB</td>\n",
       "      <td>1996.0</td>\n",
       "      <td>Role-Playing</td>\n",
       "      <td>11.27</td>\n",
       "      <td>8.89</td>\n",
       "      <td>10.22</td>\n",
       "      <td>1.00</td>\n",
       "      <td>NaN</td>\n",
       "      <td>NaN</td>\n",
       "      <td>NaN</td>\n",
       "    </tr>\n",
       "    <tr>\n",
       "      <th>5</th>\n",
       "      <td>Tetris</td>\n",
       "      <td>GB</td>\n",
       "      <td>1989.0</td>\n",
       "      <td>Puzzle</td>\n",
       "      <td>23.20</td>\n",
       "      <td>2.26</td>\n",
       "      <td>4.22</td>\n",
       "      <td>0.58</td>\n",
       "      <td>NaN</td>\n",
       "      <td>NaN</td>\n",
       "      <td>NaN</td>\n",
       "    </tr>\n",
       "    <tr>\n",
       "      <th>6</th>\n",
       "      <td>New Super Mario Bros.</td>\n",
       "      <td>DS</td>\n",
       "      <td>2006.0</td>\n",
       "      <td>Platform</td>\n",
       "      <td>11.28</td>\n",
       "      <td>9.14</td>\n",
       "      <td>6.50</td>\n",
       "      <td>2.88</td>\n",
       "      <td>89.0</td>\n",
       "      <td>8.5</td>\n",
       "      <td>E</td>\n",
       "    </tr>\n",
       "    <tr>\n",
       "      <th>7</th>\n",
       "      <td>Wii Play</td>\n",
       "      <td>Wii</td>\n",
       "      <td>2006.0</td>\n",
       "      <td>Misc</td>\n",
       "      <td>13.96</td>\n",
       "      <td>9.18</td>\n",
       "      <td>2.93</td>\n",
       "      <td>2.84</td>\n",
       "      <td>58.0</td>\n",
       "      <td>6.6</td>\n",
       "      <td>E</td>\n",
       "    </tr>\n",
       "    <tr>\n",
       "      <th>8</th>\n",
       "      <td>New Super Mario Bros. Wii</td>\n",
       "      <td>Wii</td>\n",
       "      <td>2009.0</td>\n",
       "      <td>Platform</td>\n",
       "      <td>14.44</td>\n",
       "      <td>6.94</td>\n",
       "      <td>4.70</td>\n",
       "      <td>2.24</td>\n",
       "      <td>87.0</td>\n",
       "      <td>8.4</td>\n",
       "      <td>E</td>\n",
       "    </tr>\n",
       "    <tr>\n",
       "      <th>9</th>\n",
       "      <td>Duck Hunt</td>\n",
       "      <td>NES</td>\n",
       "      <td>1984.0</td>\n",
       "      <td>Shooter</td>\n",
       "      <td>26.93</td>\n",
       "      <td>0.63</td>\n",
       "      <td>0.28</td>\n",
       "      <td>0.47</td>\n",
       "      <td>NaN</td>\n",
       "      <td>NaN</td>\n",
       "      <td>NaN</td>\n",
       "    </tr>\n",
       "  </tbody>\n",
       "</table>\n",
       "</div>"
      ],
      "text/plain": [
       "                        name platform  year_of_release         genre  \\\n",
       "0                 Wii Sports      Wii           2006.0        Sports   \n",
       "1          Super Mario Bros.      NES           1985.0      Platform   \n",
       "2             Mario Kart Wii      Wii           2008.0        Racing   \n",
       "3          Wii Sports Resort      Wii           2009.0        Sports   \n",
       "4   Pokemon Red/Pokemon Blue       GB           1996.0  Role-Playing   \n",
       "5                     Tetris       GB           1989.0        Puzzle   \n",
       "6      New Super Mario Bros.       DS           2006.0      Platform   \n",
       "7                   Wii Play      Wii           2006.0          Misc   \n",
       "8  New Super Mario Bros. Wii      Wii           2009.0      Platform   \n",
       "9                  Duck Hunt      NES           1984.0       Shooter   \n",
       "\n",
       "   na_sales  eu_sales  jp_sales  other_sales  critic_score user_score rating  \n",
       "0     41.36     28.96      3.77         8.45          76.0          8      E  \n",
       "1     29.08      3.58      6.81         0.77           NaN        NaN    NaN  \n",
       "2     15.68     12.76      3.79         3.29          82.0        8.3      E  \n",
       "3     15.61     10.93      3.28         2.95          80.0          8      E  \n",
       "4     11.27      8.89     10.22         1.00           NaN        NaN    NaN  \n",
       "5     23.20      2.26      4.22         0.58           NaN        NaN    NaN  \n",
       "6     11.28      9.14      6.50         2.88          89.0        8.5      E  \n",
       "7     13.96      9.18      2.93         2.84          58.0        6.6      E  \n",
       "8     14.44      6.94      4.70         2.24          87.0        8.4      E  \n",
       "9     26.93      0.63      0.28         0.47           NaN        NaN    NaN  "
      ]
     },
     "execution_count": 37,
     "metadata": {},
     "output_type": "execute_result"
    }
   ],
   "source": [
    "data.head(10)"
   ]
  },
  {
   "cell_type": "code",
   "execution_count": 38,
   "metadata": {},
   "outputs": [
    {
     "data": {
      "text/plain": [
       "0"
      ]
     },
     "execution_count": 38,
     "metadata": {},
     "output_type": "execute_result"
    }
   ],
   "source": [
    "#прорверим данные на наличие явных дубликатов:\n",
    "data.duplicated().sum()"
   ]
  },
  {
   "cell_type": "code",
   "execution_count": 39,
   "metadata": {},
   "outputs": [
    {
     "name": "stdout",
     "output_type": "stream",
     "text": [
      "[' Beyblade Burst' ' Fire Emblem Fates' \" Frozen: Olaf's Quest\" ...\n",
      " 'wwe Smackdown vs. Raw 2006' '¡Shin Chan Flipa en colores!' nan]\n",
      "['2600' '3DO' '3DS' 'DC' 'DS' 'GB' 'GBA' 'GC' 'GEN' 'GG' 'N64' 'NES' 'NG'\n",
      " 'PC' 'PCFX' 'PS' 'PS2' 'PS3' 'PS4' 'PSP' 'PSV' 'SAT' 'SCD' 'SNES' 'TG16'\n",
      " 'WS' 'Wii' 'WiiU' 'X360' 'XB' 'XOne']\n"
     ]
    }
   ],
   "source": [
    "#прорверим данные на наличие неявных дубликатов:\n",
    "print(data['name'].sort_values().unique())\n",
    "print(data['platform'].sort_values().unique())\n",
    "data['genre'].sort_values().unique()\n",
    "\n",
    "pd.set_option('display.max_rows', None)"
   ]
  },
  {
   "cell_type": "code",
   "execution_count": 40,
   "metadata": {},
   "outputs": [],
   "source": [
    "#дубликатов нет"
   ]
  },
  {
   "cell_type": "code",
   "execution_count": 41,
   "metadata": {},
   "outputs": [
    {
     "data": {
      "text/html": [
       "<div>\n",
       "<style scoped>\n",
       "    .dataframe tbody tr th:only-of-type {\n",
       "        vertical-align: middle;\n",
       "    }\n",
       "\n",
       "    .dataframe tbody tr th {\n",
       "        vertical-align: top;\n",
       "    }\n",
       "\n",
       "    .dataframe thead th {\n",
       "        text-align: right;\n",
       "    }\n",
       "</style>\n",
       "<table border=\"1\" class=\"dataframe\">\n",
       "  <thead>\n",
       "    <tr style=\"text-align: right;\">\n",
       "      <th></th>\n",
       "      <th>name</th>\n",
       "      <th>platform</th>\n",
       "      <th>year_of_release</th>\n",
       "      <th>genre</th>\n",
       "      <th>na_sales</th>\n",
       "      <th>eu_sales</th>\n",
       "      <th>jp_sales</th>\n",
       "      <th>other_sales</th>\n",
       "      <th>critic_score</th>\n",
       "      <th>user_score</th>\n",
       "      <th>rating</th>\n",
       "    </tr>\n",
       "  </thead>\n",
       "  <tbody>\n",
       "    <tr>\n",
       "      <th>604</th>\n",
       "      <td>Madden NFL 13</td>\n",
       "      <td>PS3</td>\n",
       "      <td>2012.0</td>\n",
       "      <td>Sports</td>\n",
       "      <td>2.11</td>\n",
       "      <td>0.22</td>\n",
       "      <td>0.00</td>\n",
       "      <td>0.23</td>\n",
       "      <td>83.0</td>\n",
       "      <td>5.5</td>\n",
       "      <td>E</td>\n",
       "    </tr>\n",
       "    <tr>\n",
       "      <th>659</th>\n",
       "      <td>NaN</td>\n",
       "      <td>GEN</td>\n",
       "      <td>1993.0</td>\n",
       "      <td>NaN</td>\n",
       "      <td>1.78</td>\n",
       "      <td>0.53</td>\n",
       "      <td>0.00</td>\n",
       "      <td>0.08</td>\n",
       "      <td>NaN</td>\n",
       "      <td>NaN</td>\n",
       "      <td>NaN</td>\n",
       "    </tr>\n",
       "    <tr>\n",
       "      <th>14244</th>\n",
       "      <td>NaN</td>\n",
       "      <td>GEN</td>\n",
       "      <td>1993.0</td>\n",
       "      <td>NaN</td>\n",
       "      <td>0.00</td>\n",
       "      <td>0.00</td>\n",
       "      <td>0.03</td>\n",
       "      <td>0.00</td>\n",
       "      <td>NaN</td>\n",
       "      <td>NaN</td>\n",
       "      <td>NaN</td>\n",
       "    </tr>\n",
       "    <tr>\n",
       "      <th>16230</th>\n",
       "      <td>Madden NFL 13</td>\n",
       "      <td>PS3</td>\n",
       "      <td>2012.0</td>\n",
       "      <td>Sports</td>\n",
       "      <td>0.00</td>\n",
       "      <td>0.01</td>\n",
       "      <td>0.00</td>\n",
       "      <td>0.00</td>\n",
       "      <td>83.0</td>\n",
       "      <td>5.5</td>\n",
       "      <td>E</td>\n",
       "    </tr>\n",
       "  </tbody>\n",
       "</table>\n",
       "</div>"
      ],
      "text/plain": [
       "                name platform  year_of_release   genre  na_sales  eu_sales  \\\n",
       "604    Madden NFL 13      PS3           2012.0  Sports      2.11      0.22   \n",
       "659              NaN      GEN           1993.0     NaN      1.78      0.53   \n",
       "14244            NaN      GEN           1993.0     NaN      0.00      0.00   \n",
       "16230  Madden NFL 13      PS3           2012.0  Sports      0.00      0.01   \n",
       "\n",
       "       jp_sales  other_sales  critic_score user_score rating  \n",
       "604        0.00         0.23          83.0        5.5      E  \n",
       "659        0.00         0.08           NaN        NaN    NaN  \n",
       "14244      0.03         0.00           NaN        NaN    NaN  \n",
       "16230      0.00         0.00          83.0        5.5      E  "
      ]
     },
     "execution_count": 41,
     "metadata": {},
     "output_type": "execute_result"
    }
   ],
   "source": [
    "#так, я попробую:\n",
    "data[data[['name', 'platform','year_of_release']].duplicated(keep=False)]\n",
    "\n",
    "#я правильно понимаю, код вывел строки с предполагаемыми дубликатами?"
   ]
  },
  {
   "cell_type": "code",
   "execution_count": 42,
   "metadata": {},
   "outputs": [
    {
     "data": {
      "text/plain": [
       "array(['8', nan, '8.3', '8.5', '6.6', '8.4', '8.6', '7.7', '6.3', '7.4',\n",
       "       '8.2', '9', '7.9', '8.1', '8.7', '7.1', '3.4', '5.3', '4.8', '3.2',\n",
       "       '8.9', '6.4', '7.8', '7.5', '2.6', '7.2', '9.2', '7', '7.3', '4.3',\n",
       "       '7.6', '5.7', '5', '9.1', '6.5', 'tbd', '8.8', '6.9', '9.4', '6.8',\n",
       "       '6.1', '6.7', '5.4', '4', '4.9', '4.5', '9.3', '6.2', '4.2', '6',\n",
       "       '3.7', '4.1', '5.8', '5.6', '5.5', '4.4', '4.6', '5.9', '3.9',\n",
       "       '3.1', '2.9', '5.2', '3.3', '4.7', '5.1', '3.5', '2.5', '1.9', '3',\n",
       "       '2.7', '2.2', '2', '9.5', '2.1', '3.6', '2.8', '1.8', '3.8', '0',\n",
       "       '1.6', '9.6', '2.4', '1.7', '1.1', '0.3', '1.5', '0.7', '1.2',\n",
       "       '2.3', '0.5', '1.3', '0.2', '0.6', '1.4', '0.9', '1', '9.7'],\n",
       "      dtype=object)"
      ]
     },
     "execution_count": 42,
     "metadata": {},
     "output_type": "execute_result"
    }
   ],
   "source": [
    "#в столбце user_score есть значения, препятствующие преобразованию данных в численный формат:\n",
    "data['user_score'].unique()"
   ]
  },
  {
   "cell_type": "code",
   "execution_count": 43,
   "metadata": {
    "scrolled": true
   },
   "outputs": [
    {
     "data": {
      "text/plain": [
       "tbd    2424\n",
       "7.8     324\n",
       "8       290\n",
       "8.2     282\n",
       "8.3     254\n",
       "8.5     253\n",
       "7.5     251\n",
       "7.9     249\n",
       "8.1     244\n",
       "7.7     240\n",
       "7.3     236\n",
       "8.4     223\n",
       "7       220\n",
       "7.6     220\n",
       "7.4     215\n",
       "8.6     211\n",
       "6.8     197\n",
       "8.7     188\n",
       "8.8     186\n",
       "7.1     180\n",
       "7.2     167\n",
       "8.9     153\n",
       "6.6     148\n",
       "6.9     143\n",
       "6.3     138\n",
       "6.7     128\n",
       "6       127\n",
       "6.5     125\n",
       "9       120\n",
       "6.2     113\n",
       "6.4     107\n",
       "5.8      97\n",
       "9.1      90\n",
       "6.1      84\n",
       "5.7      78\n",
       "5.9      77\n",
       "5.4      72\n",
       "5.6      72\n",
       "5.5      71\n",
       "5.3      70\n",
       "5        64\n",
       "5.2      57\n",
       "4.8      49\n",
       "5.1      44\n",
       "9.2      43\n",
       "4.9      40\n",
       "4.3      37\n",
       "4.6      37\n",
       "4.5      34\n",
       "4.1      33\n",
       "4.4      33\n",
       "9.3      31\n",
       "4.2      28\n",
       "3.8      28\n",
       "4        27\n",
       "3.5      26\n",
       "4.7      24\n",
       "2.8      24\n",
       "3.1      23\n",
       "3.4      23\n",
       "3        21\n",
       "3.6      20\n",
       "3.7      19\n",
       "3.3      15\n",
       "3.2      13\n",
       "3.9      13\n",
       "2.5      12\n",
       "9.4      11\n",
       "2        11\n",
       "2.4      11\n",
       "2.9       9\n",
       "2.1       9\n",
       "1.7       9\n",
       "2.7       8\n",
       "2.2       6\n",
       "1.8       6\n",
       "9.5       6\n",
       "1.4       5\n",
       "2.6       4\n",
       "1.2       3\n",
       "1.6       3\n",
       "0.6       2\n",
       "1.3       2\n",
       "0.3       2\n",
       "9.6       2\n",
       "1         2\n",
       "0.2       2\n",
       "2.3       2\n",
       "1.9       2\n",
       "1.5       2\n",
       "0.7       2\n",
       "0.9       2\n",
       "0.5       2\n",
       "1.1       2\n",
       "9.7       1\n",
       "0         1\n",
       "Name: user_score, dtype: int64"
      ]
     },
     "execution_count": 43,
     "metadata": {},
     "output_type": "execute_result"
    }
   ],
   "source": [
    "#как много этих значений?\n",
    "data['user_score'].value_counts()\n"
   ]
  },
  {
   "cell_type": "code",
   "execution_count": 44,
   "metadata": {},
   "outputs": [],
   "source": [
    "#2424 - это существенная потеря данных, нужно заменить.\n",
    "#tbd - это to be determined = будет определено.То есть никто еще не ставил оценку данной игре. Заменим tbd на 0\n",
    "data.loc[data['user_score'] == 'tbd', 'user_score'] = 0"
   ]
  },
  {
   "cell_type": "code",
   "execution_count": 45,
   "metadata": {},
   "outputs": [
    {
     "data": {
      "text/plain": [
       "array(['E', nan, 'M', 'T', 'E10+', 'K-A', 'AO', 'EC', 'RP'], dtype=object)"
      ]
     },
     "execution_count": 45,
     "metadata": {},
     "output_type": "execute_result"
    }
   ],
   "source": [
    "#аналогично изучим пропуски в 'rating'\n",
    "data['rating'].unique()\n"
   ]
  },
  {
   "cell_type": "code",
   "execution_count": 46,
   "metadata": {
    "scrolled": true
   },
   "outputs": [
    {
     "data": {
      "text/plain": [
       "array(['E', 'unknown', 'M', 'T', 'E10+', 'K-A', 'AO', 'EC', 'RP'],\n",
       "      dtype=object)"
      ]
     },
     "execution_count": 46,
     "metadata": {},
     "output_type": "execute_result"
    }
   ],
   "source": [
    "#Из общей информации о данных известно, что доля прорпусков в столбце rating высокая, удалить нельзя. Заменим nan на unknown\n",
    "data.loc[data['rating'].isna(), 'rating'] = 'unknown'\n",
    "\n",
    "data['rating'].unique()"
   ]
  },
  {
   "cell_type": "code",
   "execution_count": 47,
   "metadata": {},
   "outputs": [],
   "source": [
    "#User_Score преобразуем в формат, удобный для обработки данных           \n",
    "data['user_score'] = data['user_score'].astype('float')"
   ]
  },
  {
   "cell_type": "code",
   "execution_count": 48,
   "metadata": {},
   "outputs": [
    {
     "data": {
      "text/plain": [
       "array([2006., 1985., 2008., 2009., 1996., 1989., 1984., 2005., 1999.,\n",
       "       2007., 2010., 2013., 2004., 1990., 1988., 2002., 2001., 2011.,\n",
       "       1998., 2015., 2012., 2014., 1992., 1997., 1993., 1994., 1982.,\n",
       "       2016., 2003., 1986., 2000.,   nan, 1995., 1991., 1981., 1987.,\n",
       "       1980., 1983.])"
      ]
     },
     "execution_count": 48,
     "metadata": {},
     "output_type": "execute_result"
    }
   ],
   "source": [
    "data['year_of_release'].unique()"
   ]
  },
  {
   "cell_type": "code",
   "execution_count": 49,
   "metadata": {},
   "outputs": [
    {
     "data": {
      "text/plain": [
       "1.016356560865864"
      ]
     },
     "execution_count": 49,
     "metadata": {},
     "output_type": "execute_result"
    }
   ],
   "source": [
    "#оставим данные, где год релиза не пропущен\n",
    "\n",
    "data_final = data.query('~year_of_release.isnull()', engine='python')\n",
    "data_final = data_final.reset_index()\n",
    "data_final['year_of_release'] = data_final['year_of_release'].astype('int')\n",
    "\n",
    "#посмотрим, много ли данных отфильтровано\n",
    "data.shape[0]/data_final.shape[0] # 1,6% выглядит небольшой потерей"
   ]
  },
  {
   "cell_type": "code",
   "execution_count": 50,
   "metadata": {},
   "outputs": [
    {
     "name": "stdout",
     "output_type": "stream",
     "text": [
      "<class 'pandas.core.frame.DataFrame'>\n",
      "RangeIndex: 16446 entries, 0 to 16445\n",
      "Data columns (total 12 columns):\n",
      " #   Column           Non-Null Count  Dtype  \n",
      "---  ------           --------------  -----  \n",
      " 0   index            16446 non-null  int64  \n",
      " 1   name             16444 non-null  object \n",
      " 2   platform         16446 non-null  object \n",
      " 3   year_of_release  16446 non-null  int64  \n",
      " 4   genre            16444 non-null  object \n",
      " 5   na_sales         16446 non-null  float64\n",
      " 6   eu_sales         16446 non-null  float64\n",
      " 7   jp_sales         16446 non-null  float64\n",
      " 8   other_sales      16446 non-null  float64\n",
      " 9   critic_score     7983 non-null   float64\n",
      " 10  user_score       9839 non-null   float64\n",
      " 11  rating           16446 non-null  object \n",
      "dtypes: float64(6), int64(2), object(4)\n",
      "memory usage: 1.5+ MB\n"
     ]
    }
   ],
   "source": [
    "data_final.info()"
   ]
  },
  {
   "cell_type": "code",
   "execution_count": 51,
   "metadata": {
    "scrolled": true
   },
   "outputs": [
    {
     "data": {
      "image/png": "[encoded data removed]",
      "text/plain": [
       "<Figure size 360x360 with 1 Axes>"
      ]
     },
     "metadata": {
      "needs_background": "light"
     },
     "output_type": "display_data"
    },
    {
     "data": {
      "image/png": "[encoded data removed]",
      "text/plain": [
       "<Figure size 360x360 with 1 Axes>"
      ]
     },
     "metadata": {
      "needs_background": "light"
     },
     "output_type": "display_data"
    },
    {
     "data": {
      "image/png": "[encoded data removed]",
      "text/plain": [
       "<Figure size 360x360 with 1 Axes>"
      ]
     },
     "metadata": {
      "needs_background": "light"
     },
     "output_type": "display_data"
    },
    {
     "data": {
      "image/png": "[encoded data removed]",
      "text/plain": [
       "<Figure size 360x360 with 1 Axes>"
      ]
     },
     "metadata": {
      "needs_background": "light"
     },
     "output_type": "display_data"
    },
    {
     "data": {
      "image/png": "[encoded data removed]",
      "text/plain": [
       "<Figure size 360x360 with 1 Axes>"
      ]
     },
     "metadata": {
      "needs_background": "light"
     },
     "output_type": "display_data"
    },
    {
     "data": {
      "image/png": "[encoded data removed]",
      "text/plain": [
       "<Figure size 360x360 with 1 Axes>"
      ]
     },
     "metadata": {
      "needs_background": "light"
     },
     "output_type": "display_data"
    },
    {
     "data": {
      "image/png": "[encoded data removed]",
      "text/plain": [
       "<Figure size 360x360 with 1 Axes>"
      ]
     },
     "metadata": {
      "needs_background": "light"
     },
     "output_type": "display_data"
    },
    {
     "data": {
      "image/png": "[encoded data removed]",
      "text/plain": [
       "<Figure size 360x360 with 1 Axes>"
      ]
     },
     "metadata": {
      "needs_background": "light"
     },
     "output_type": "display_data"
    }
   ],
   "source": [
    "#изучим полученные данные после преобразований:\n",
    "data_numeric = data_final.select_dtypes(include=np.number)\n",
    "for col in data_numeric :\n",
    "    data_numeric [col].plot(title=col, kind ='hist',figsize=(5, 5))\n",
    "    plt.show()"
   ]
  },
  {
   "cell_type": "markdown",
   "metadata": {},
   "source": [
    "<div style=\"background-color:black; color:#ffffff; text-align:left; padding:2%\">\n",
    "💬 Данные по продажам выглядят так, что бОльшая часть значений лежит около 0. Учитывая, что речь идет о единице \"миллион проданных копий\", вполне допустимо\n",
    "<br> График user_score отобразил замененные на 0 отсутствующие оценки пользователей\n",
    "<br> У диаграммы year_of_release довольно длинный \"хвост\" в сторону первых лет появления компьютерных игр. Возможно, данные за первые годы стоит отбросить    "
   ]
  },
  {
   "cell_type": "code",
   "execution_count": 52,
   "metadata": {},
   "outputs": [
    {
     "data": {
      "text/html": [
       "<div>\n",
       "<style scoped>\n",
       "    .dataframe tbody tr th:only-of-type {\n",
       "        vertical-align: middle;\n",
       "    }\n",
       "\n",
       "    .dataframe tbody tr th {\n",
       "        vertical-align: top;\n",
       "    }\n",
       "\n",
       "    .dataframe thead th {\n",
       "        text-align: right;\n",
       "    }\n",
       "</style>\n",
       "<table border=\"1\" class=\"dataframe\">\n",
       "  <thead>\n",
       "    <tr style=\"text-align: right;\">\n",
       "      <th></th>\n",
       "      <th>index</th>\n",
       "      <th>name</th>\n",
       "      <th>platform</th>\n",
       "      <th>year_of_release</th>\n",
       "      <th>genre</th>\n",
       "      <th>na_sales</th>\n",
       "      <th>eu_sales</th>\n",
       "      <th>jp_sales</th>\n",
       "      <th>other_sales</th>\n",
       "      <th>critic_score</th>\n",
       "      <th>user_score</th>\n",
       "      <th>rating</th>\n",
       "      <th>total_sales</th>\n",
       "    </tr>\n",
       "  </thead>\n",
       "  <tbody>\n",
       "    <tr>\n",
       "      <th>0</th>\n",
       "      <td>0</td>\n",
       "      <td>Wii Sports</td>\n",
       "      <td>Wii</td>\n",
       "      <td>2006</td>\n",
       "      <td>Sports</td>\n",
       "      <td>41.36</td>\n",
       "      <td>28.96</td>\n",
       "      <td>3.77</td>\n",
       "      <td>8.45</td>\n",
       "      <td>76.0</td>\n",
       "      <td>8.0</td>\n",
       "      <td>E</td>\n",
       "      <td>82.54</td>\n",
       "    </tr>\n",
       "    <tr>\n",
       "      <th>1</th>\n",
       "      <td>1</td>\n",
       "      <td>Super Mario Bros.</td>\n",
       "      <td>NES</td>\n",
       "      <td>1985</td>\n",
       "      <td>Platform</td>\n",
       "      <td>29.08</td>\n",
       "      <td>3.58</td>\n",
       "      <td>6.81</td>\n",
       "      <td>0.77</td>\n",
       "      <td>NaN</td>\n",
       "      <td>NaN</td>\n",
       "      <td>unknown</td>\n",
       "      <td>40.24</td>\n",
       "    </tr>\n",
       "    <tr>\n",
       "      <th>2</th>\n",
       "      <td>2</td>\n",
       "      <td>Mario Kart Wii</td>\n",
       "      <td>Wii</td>\n",
       "      <td>2008</td>\n",
       "      <td>Racing</td>\n",
       "      <td>15.68</td>\n",
       "      <td>12.76</td>\n",
       "      <td>3.79</td>\n",
       "      <td>3.29</td>\n",
       "      <td>82.0</td>\n",
       "      <td>8.3</td>\n",
       "      <td>E</td>\n",
       "      <td>35.52</td>\n",
       "    </tr>\n",
       "    <tr>\n",
       "      <th>3</th>\n",
       "      <td>3</td>\n",
       "      <td>Wii Sports Resort</td>\n",
       "      <td>Wii</td>\n",
       "      <td>2009</td>\n",
       "      <td>Sports</td>\n",
       "      <td>15.61</td>\n",
       "      <td>10.93</td>\n",
       "      <td>3.28</td>\n",
       "      <td>2.95</td>\n",
       "      <td>80.0</td>\n",
       "      <td>8.0</td>\n",
       "      <td>E</td>\n",
       "      <td>32.77</td>\n",
       "    </tr>\n",
       "    <tr>\n",
       "      <th>4</th>\n",
       "      <td>4</td>\n",
       "      <td>Pokemon Red/Pokemon Blue</td>\n",
       "      <td>GB</td>\n",
       "      <td>1996</td>\n",
       "      <td>Role-Playing</td>\n",
       "      <td>11.27</td>\n",
       "      <td>8.89</td>\n",
       "      <td>10.22</td>\n",
       "      <td>1.00</td>\n",
       "      <td>NaN</td>\n",
       "      <td>NaN</td>\n",
       "      <td>unknown</td>\n",
       "      <td>31.38</td>\n",
       "    </tr>\n",
       "    <tr>\n",
       "      <th>5</th>\n",
       "      <td>5</td>\n",
       "      <td>Tetris</td>\n",
       "      <td>GB</td>\n",
       "      <td>1989</td>\n",
       "      <td>Puzzle</td>\n",
       "      <td>23.20</td>\n",
       "      <td>2.26</td>\n",
       "      <td>4.22</td>\n",
       "      <td>0.58</td>\n",
       "      <td>NaN</td>\n",
       "      <td>NaN</td>\n",
       "      <td>unknown</td>\n",
       "      <td>30.26</td>\n",
       "    </tr>\n",
       "    <tr>\n",
       "      <th>6</th>\n",
       "      <td>6</td>\n",
       "      <td>New Super Mario Bros.</td>\n",
       "      <td>DS</td>\n",
       "      <td>2006</td>\n",
       "      <td>Platform</td>\n",
       "      <td>11.28</td>\n",
       "      <td>9.14</td>\n",
       "      <td>6.50</td>\n",
       "      <td>2.88</td>\n",
       "      <td>89.0</td>\n",
       "      <td>8.5</td>\n",
       "      <td>E</td>\n",
       "      <td>29.80</td>\n",
       "    </tr>\n",
       "    <tr>\n",
       "      <th>7</th>\n",
       "      <td>7</td>\n",
       "      <td>Wii Play</td>\n",
       "      <td>Wii</td>\n",
       "      <td>2006</td>\n",
       "      <td>Misc</td>\n",
       "      <td>13.96</td>\n",
       "      <td>9.18</td>\n",
       "      <td>2.93</td>\n",
       "      <td>2.84</td>\n",
       "      <td>58.0</td>\n",
       "      <td>6.6</td>\n",
       "      <td>E</td>\n",
       "      <td>28.91</td>\n",
       "    </tr>\n",
       "    <tr>\n",
       "      <th>8</th>\n",
       "      <td>8</td>\n",
       "      <td>New Super Mario Bros. Wii</td>\n",
       "      <td>Wii</td>\n",
       "      <td>2009</td>\n",
       "      <td>Platform</td>\n",
       "      <td>14.44</td>\n",
       "      <td>6.94</td>\n",
       "      <td>4.70</td>\n",
       "      <td>2.24</td>\n",
       "      <td>87.0</td>\n",
       "      <td>8.4</td>\n",
       "      <td>E</td>\n",
       "      <td>28.32</td>\n",
       "    </tr>\n",
       "    <tr>\n",
       "      <th>9</th>\n",
       "      <td>9</td>\n",
       "      <td>Duck Hunt</td>\n",
       "      <td>NES</td>\n",
       "      <td>1984</td>\n",
       "      <td>Shooter</td>\n",
       "      <td>26.93</td>\n",
       "      <td>0.63</td>\n",
       "      <td>0.28</td>\n",
       "      <td>0.47</td>\n",
       "      <td>NaN</td>\n",
       "      <td>NaN</td>\n",
       "      <td>unknown</td>\n",
       "      <td>28.31</td>\n",
       "    </tr>\n",
       "  </tbody>\n",
       "</table>\n",
       "</div>"
      ],
      "text/plain": [
       "   index                       name platform  year_of_release         genre  \\\n",
       "0      0                 Wii Sports      Wii             2006        Sports   \n",
       "1      1          Super Mario Bros.      NES             1985      Platform   \n",
       "2      2             Mario Kart Wii      Wii             2008        Racing   \n",
       "3      3          Wii Sports Resort      Wii             2009        Sports   \n",
       "4      4   Pokemon Red/Pokemon Blue       GB             1996  Role-Playing   \n",
       "5      5                     Tetris       GB             1989        Puzzle   \n",
       "6      6      New Super Mario Bros.       DS             2006      Platform   \n",
       "7      7                   Wii Play      Wii             2006          Misc   \n",
       "8      8  New Super Mario Bros. Wii      Wii             2009      Platform   \n",
       "9      9                  Duck Hunt      NES             1984       Shooter   \n",
       "\n",
       "   na_sales  eu_sales  jp_sales  other_sales  critic_score  user_score  \\\n",
       "0     41.36     28.96      3.77         8.45          76.0         8.0   \n",
       "1     29.08      3.58      6.81         0.77           NaN         NaN   \n",
       "2     15.68     12.76      3.79         3.29          82.0         8.3   \n",
       "3     15.61     10.93      3.28         2.95          80.0         8.0   \n",
       "4     11.27      8.89     10.22         1.00           NaN         NaN   \n",
       "5     23.20      2.26      4.22         0.58           NaN         NaN   \n",
       "6     11.28      9.14      6.50         2.88          89.0         8.5   \n",
       "7     13.96      9.18      2.93         2.84          58.0         6.6   \n",
       "8     14.44      6.94      4.70         2.24          87.0         8.4   \n",
       "9     26.93      0.63      0.28         0.47           NaN         NaN   \n",
       "\n",
       "    rating  total_sales  \n",
       "0        E        82.54  \n",
       "1  unknown        40.24  \n",
       "2        E        35.52  \n",
       "3        E        32.77  \n",
       "4  unknown        31.38  \n",
       "5  unknown        30.26  \n",
       "6        E        29.80  \n",
       "7        E        28.91  \n",
       "8        E        28.32  \n",
       "9  unknown        28.31  "
      ]
     },
     "execution_count": 52,
     "metadata": {},
     "output_type": "execute_result"
    }
   ],
   "source": [
    "#добавим суммарные показатели продаж по всем регионам\n",
    "data_final['total_sales'] = data_final[['na_sales','eu_sales','jp_sales', 'other_sales']].sum(axis = 1)\n",
    "data_final.head(10)"
   ]
  },
  {
   "cell_type": "markdown",
   "metadata": {},
   "source": [
    "<div style=\"background-color:black; color:#ffffff; text-align:left; padding:2%\">\n",
    "💬 Проведена предобработка данных:\n",
    "<br> - названия столбцов приведены к нижнему регистру\n",
    "<br> - данные проверены на наличие дубликатов    \n",
    "<br> - обработаны пропуски в данных\n",
    "<br> - некорректные для обработки данных форматы изменены\n",
    "<br> - необходимые для анализа столбцы добавлены\n",
    "<br> - после предобработки сделана первичная визуализация данных для предварительных выводов и выявления оставшихся недочетов    "
   ]
  },
  {
   "cell_type": "markdown",
   "metadata": {},
   "source": [
    "### Исследовательский анализ данных"
   ]
  },
  {
   "cell_type": "code",
   "execution_count": 53,
   "metadata": {},
   "outputs": [
    {
     "data": {
      "text/html": [
       "<div>\n",
       "<style scoped>\n",
       "    .dataframe tbody tr th:only-of-type {\n",
       "        vertical-align: middle;\n",
       "    }\n",
       "\n",
       "    .dataframe tbody tr th {\n",
       "        vertical-align: top;\n",
       "    }\n",
       "\n",
       "    .dataframe thead th {\n",
       "        text-align: right;\n",
       "    }\n",
       "</style>\n",
       "<table border=\"1\" class=\"dataframe\">\n",
       "  <thead>\n",
       "    <tr style=\"text-align: right;\">\n",
       "      <th></th>\n",
       "      <th>games</th>\n",
       "    </tr>\n",
       "    <tr>\n",
       "      <th>year_of_release</th>\n",
       "      <th></th>\n",
       "    </tr>\n",
       "  </thead>\n",
       "  <tbody>\n",
       "    <tr>\n",
       "      <th>1980</th>\n",
       "      <td>9</td>\n",
       "    </tr>\n",
       "    <tr>\n",
       "      <th>1981</th>\n",
       "      <td>46</td>\n",
       "    </tr>\n",
       "    <tr>\n",
       "      <th>1982</th>\n",
       "      <td>36</td>\n",
       "    </tr>\n",
       "    <tr>\n",
       "      <th>1983</th>\n",
       "      <td>17</td>\n",
       "    </tr>\n",
       "    <tr>\n",
       "      <th>1984</th>\n",
       "      <td>14</td>\n",
       "    </tr>\n",
       "  </tbody>\n",
       "</table>\n",
       "</div>"
      ],
      "text/plain": [
       "                 games\n",
       "year_of_release       \n",
       "1980                 9\n",
       "1981                46\n",
       "1982                36\n",
       "1983                17\n",
       "1984                14"
      ]
     },
     "execution_count": 53,
     "metadata": {},
     "output_type": "execute_result"
    }
   ],
   "source": [
    "#выведем суммарное количество игр за каждый год\n",
    "games_per_year = data_final.groupby(['year_of_release']).agg(games=('year_of_release', 'count'))\n",
    "\n",
    "games_per_year.head()"
   ]
  },
  {
   "cell_type": "code",
   "execution_count": 54,
   "metadata": {},
   "outputs": [
    {
     "data": {
      "text/plain": [
       "[Text(0.5, 0, 'year'), Text(0, 0.5, 'games count')]"
      ]
     },
     "execution_count": 54,
     "metadata": {},
     "output_type": "execute_result"
    },
    {
     "data": {
      "image/png": "[encoded data removed]",
      "text/plain": [
       "<Figure size 1008x504 with 1 Axes>"
      ]
     },
     "metadata": {
      "needs_background": "light"
     },
     "output_type": "display_data"
    }
   ],
   "source": [
    "#выглядит так, что в таблице есть данные, которые можно отбросить. Построим гистограмму\n",
    "dx = games_per_year.plot.bar(title='games', rot=45, figsize=(14,7))\n",
    "\n",
    "dx.set(xlabel='year', ylabel='games count')"
   ]
  },
  {
   "cell_type": "code",
   "execution_count": 55,
   "metadata": {},
   "outputs": [
    {
     "data": {
      "text/plain": [
       "1.03020030816641"
      ]
     },
     "execution_count": 55,
     "metadata": {},
     "output_type": "execute_result"
    }
   ],
   "source": [
    "#оставим данные с 1991 г и проверим % потери\n",
    "data_final = data_final[data_final['year_of_release'] >= 1991]\n",
    "\n",
    "data.shape[0]/data_final.shape[0] #3% в пределах допустимого"
   ]
  },
  {
   "cell_type": "code",
   "execution_count": 56,
   "metadata": {},
   "outputs": [
    {
     "data": {
      "text/plain": [
       "[Text(0.5, 0, 'year'), Text(0, 0.5, 'games count')]"
      ]
     },
     "execution_count": 56,
     "metadata": {},
     "output_type": "execute_result"
    },
    {
     "data": {
      "image/png": "[encoded data removed]",
      "text/plain": [
       "<Figure size 1008x504 with 1 Axes>"
      ]
     },
     "metadata": {
      "needs_background": "light"
     },
     "output_type": "display_data"
    }
   ],
   "source": [
    "#проверим результат:\n",
    "games_per_year = data_final.groupby(['year_of_release']).agg(games=('year_of_release', 'count'))\n",
    "dx = games_per_year.plot.bar(title='games', rot=45, figsize=(14,7))\n",
    "\n",
    "dx.set(xlabel='year', ylabel='games count')"
   ]
  },
  {
   "cell_type": "markdown",
   "metadata": {},
   "source": [
    "<div style=\"background-color:black; color:#ffffff; text-align:left; padding:2%\">\n",
    "💬 В данных задействован достаточно большой период времени:\n",
    "<br> от момента появления компьютерных игр, их становления, до периода бурного роста и условно настоящего времени.\n",
    "<br> Для целей исследования данные первых лет не представляют интереса, пока ограничим данные с 1991 - года существенного роста."
   ]
  },
  {
   "cell_type": "code",
   "execution_count": 57,
   "metadata": {},
   "outputs": [
    {
     "data": {
      "text/plain": [
       "<AxesSubplot:title={'center':'data_platform'}, xlabel='platform'>"
      ]
     },
     "execution_count": 57,
     "metadata": {},
     "output_type": "execute_result"
    },
    {
     "data": {
      "image/png": "[encoded data removed]",
      "text/plain": [
       "<Figure size 1008x504 with 1 Axes>"
      ]
     },
     "metadata": {
      "needs_background": "light"
     },
     "output_type": "display_data"
    }
   ],
   "source": [
    "#рассмотрим продажи в разрезе платформ:\n",
    "data_platform_pivot = data_final.pivot_table(index='platform',values='total_sales',aggfunc='sum')\\\n",
    ".sort_values(by='total_sales',ascending=False)\n",
    "\n",
    "data_platform_pivot.plot(title='data_platform', kind ='bar',figsize=(14,7))"
   ]
  },
  {
   "cell_type": "code",
   "execution_count": 58,
   "metadata": {},
   "outputs": [
    {
     "data": {
      "text/plain": [
       "array(['3DO', '3DS', 'DC', 'DS', 'GB', 'GBA', 'GC', 'GEN', 'GG', 'N64',\n",
       "       'NES', 'NG', 'PC', 'PCFX', 'PS', 'PS2', 'PS3', 'PS4', 'PSP', 'PSV',\n",
       "       'SAT', 'SCD', 'SNES', 'TG16', 'WS', 'Wii', 'WiiU', 'X360', 'XB',\n",
       "       'XOne'], dtype=object)"
      ]
     },
     "execution_count": 58,
     "metadata": {},
     "output_type": "execute_result"
    }
   ],
   "source": [
    "data_final['platform'].sort_values().unique() #для копирования названий"
   ]
  },
  {
   "cell_type": "code",
   "execution_count": 59,
   "metadata": {},
   "outputs": [
    {
     "data": {
      "image/png": "[encoded data removed]",
      "text/plain": [
       "<Figure size 576x360 with 1 Axes>"
      ]
     },
     "metadata": {
      "needs_background": "light"
     },
     "output_type": "display_data"
    },
    {
     "data": {
      "image/png": "[encoded data removed]",
      "text/plain": [
       "<Figure size 576x360 with 1 Axes>"
      ]
     },
     "metadata": {
      "needs_background": "light"
     },
     "output_type": "display_data"
    },
    {
     "data": {
      "image/png": "[encoded data removed]",
      "text/plain": [
       "<Figure size 576x360 with 1 Axes>"
      ]
     },
     "metadata": {
      "needs_background": "light"
     },
     "output_type": "display_data"
    },
    {
     "data": {
      "image/png": "[encoded data removed]",
      "text/plain": [
       "<Figure size 576x360 with 1 Axes>"
      ]
     },
     "metadata": {
      "needs_background": "light"
     },
     "output_type": "display_data"
    },
    {
     "data": {
      "image/png": "[encoded data removed]",
      "text/plain": [
       "<Figure size 576x360 with 1 Axes>"
      ]
     },
     "metadata": {
      "needs_background": "light"
     },
     "output_type": "display_data"
    },
    {
     "data": {
      "image/png": "[encoded data removed]",
      "text/plain": [
       "<Figure size 576x360 with 1 Axes>"
      ]
     },
     "metadata": {
      "needs_background": "light"
     },
     "output_type": "display_data"
    }
   ],
   "source": [
    "#построим распределение по годам для наиболее популярных платформ:\n",
    "plts = ['PS2','X360', 'PS3','Wii','DS','PS']\n",
    "for el in plts:\n",
    "    data_final.query('platform == @el').pivot_table(index='year_of_release', values='total_sales', aggfunc='sum').plot(title = el, kind ='bar',figsize=(8,5))\n",
    "    plt.show()"
   ]
  },
  {
   "cell_type": "markdown",
   "metadata": {},
   "source": [
    "<div style=\"background-color:black; color:#ffffff; text-align:left; padding:2%\">\n",
    "💬 По данным 6 наиболее популярных платформ можно заметить, что есть некий жизненный цикл\n",
    "<br> Характерный период исчезновения старых и появления новых составляет около 10 лет.\n",
    "<br> Также на графиках видно, что пиковый период продаж составляет примерно 5 лет.\n",
    "<br> Далее изучим данные за актуальный период - последние 5 лет: 2011-2016 гг    "
   ]
  },
  {
   "cell_type": "code",
   "execution_count": 60,
   "metadata": {},
   "outputs": [
    {
     "data": {
      "text/plain": [
       "<AxesSubplot:title={'center':'platform'}, xlabel='platform'>"
      ]
     },
     "execution_count": 60,
     "metadata": {},
     "output_type": "execute_result"
    },
    {
     "data": {
      "image/png": "[encoded data removed]",
      "text/plain": [
       "<Figure size 1008x504 with 1 Axes>"
      ]
     },
     "metadata": {
      "needs_background": "light"
     },
     "output_type": "display_data"
    }
   ],
   "source": [
    "#Возьмем данные за последние 3 года:\n",
    "data_final = data_final[data_final['year_of_release'] >= 2014]\n",
    "data_final_pivot = data_final.pivot_table(index='platform',values='total_sales',aggfunc='sum')\\\n",
    ".sort_values(by='total_sales',ascending=False)\n",
    "\n",
    "data_final_pivot.plot(title='platform', kind ='bar',figsize=(14,7))"
   ]
  },
  {
   "cell_type": "code",
   "execution_count": 61,
   "metadata": {},
   "outputs": [
    {
     "data": {
      "text/plain": [
       "[Text(0, 0, 'PS4'),\n",
       " Text(1, 0, '3DS'),\n",
       " Text(2, 0, 'XOne'),\n",
       " Text(3, 0, 'WiiU'),\n",
       " Text(4, 0, 'PS3'),\n",
       " Text(5, 0, 'X360'),\n",
       " Text(6, 0, 'PC'),\n",
       " Text(7, 0, 'Wii'),\n",
       " Text(8, 0, 'PSV'),\n",
       " Text(9, 0, 'PSP')]"
      ]
     },
     "execution_count": 61,
     "metadata": {},
     "output_type": "execute_result"
    },
    {
     "data": {
      "image/png": "[encoded data removed]",
      "text/plain": [
       "<Figure size 432x288 with 1 Axes>"
      ]
     },
     "metadata": {
      "needs_background": "light"
     },
     "output_type": "display_data"
    }
   ],
   "source": [
    "#изучим распределение продаж игр внутри каждой платформы за актуальный период:\n",
    "ax = sns.boxplot(data=data_final, x='platform', y='total_sales', dodge=False)\n",
    "\n",
    "ax.set_xticklabels(ax.get_xticklabels(), rotation=90)\n"
   ]
  },
  {
   "cell_type": "markdown",
   "metadata": {},
   "source": [
    "<div style=\"background-color:black; color:#ffffff; text-align:left; padding:2%\">\n",
    "💬 Лидеры за последние 5 лет: PS4, 3DS, XOne, WiiU, PS3\n",
    "<br> Практически для всех платформ очевидно влияние выбросов на итоговый рейтинг: у каждой есть флагманы - нескольких игр с очень высокими продажами. Для выявления наиболее перспективных платформ необходимо оценить ситуацию с остальными играми.\n",
    "<br> Платформы, где значимая часть игра имеет прордажи до 1,5 млн: PS4, XOne, WiiU, Wii. Платформы 3DS, PS3, PC показывают результат за счет флагманов продаж, основная же масса продается количеством менее 1 млн копий.\n",
    "Наиболее равномерно продажи распределены внутри платформы XOne\n",
    "<br> Определим, какие из платформ наиболее перспективны. Для этого изучим динамику по годам, учтем данные total_sales и распределение продаж по играм внутри платформ  "
   ]
  },
  {
   "cell_type": "code",
   "execution_count": 62,
   "metadata": {},
   "outputs": [
    {
     "data": {
      "image/png": "[encoded data removed]",
      "text/plain": [
       "<Figure size 576x360 with 1 Axes>"
      ]
     },
     "metadata": {
      "needs_background": "light"
     },
     "output_type": "display_data"
    },
    {
     "data": {
      "image/png": "[encoded data removed]",
      "text/plain": [
       "<Figure size 576x360 with 1 Axes>"
      ]
     },
     "metadata": {
      "needs_background": "light"
     },
     "output_type": "display_data"
    },
    {
     "data": {
      "image/png": "[encoded data removed]",
      "text/plain": [
       "<Figure size 576x360 with 1 Axes>"
      ]
     },
     "metadata": {
      "needs_background": "light"
     },
     "output_type": "display_data"
    },
    {
     "data": {
      "image/png": "[encoded data removed]",
      "text/plain": [
       "<Figure size 576x360 with 1 Axes>"
      ]
     },
     "metadata": {
      "needs_background": "light"
     },
     "output_type": "display_data"
    },
    {
     "data": {
      "image/png": "[encoded data removed]",
      "text/plain": [
       "<Figure size 576x360 with 1 Axes>"
      ]
     },
     "metadata": {
      "needs_background": "light"
     },
     "output_type": "display_data"
    },
    {
     "data": {
      "image/png": "[encoded data removed]",
      "text/plain": [
       "<Figure size 576x360 with 1 Axes>"
      ]
     },
     "metadata": {
      "needs_background": "light"
     },
     "output_type": "display_data"
    },
    {
     "data": {
      "image/png": "[encoded data removed]",
      "text/plain": [
       "<Figure size 576x360 with 1 Axes>"
      ]
     },
     "metadata": {
      "needs_background": "light"
     },
     "output_type": "display_data"
    }
   ],
   "source": [
    "plts_actual = []\n",
    "for el in data_final['platform'].unique().tolist():\n",
    "    if el not in plts:\n",
    "        plts_actual.append(el)\n",
    "for el in plts_actual:\n",
    "    data_final.query('platform == @el').pivot_table(index='year_of_release', values='total_sales', aggfunc='sum').plot(title = el, kind ='bar',figsize=(8,5))\n",
    "    plt.show()"
   ]
  },
  {
   "cell_type": "markdown",
   "metadata": {},
   "source": [
    "<div style=\"background-color:black; color:#ffffff; text-align:left; padding:2%\">\n",
    "💬 Из полученных данных можно сделать выводы, что на момент 2016 г:\n",
    "    <br>Платформы PS4, XOne находятся в активной фазе жизненного цикла.\n",
    "    <br> игры платформы WiiU начали продаваться хуже в 2015 г, а 2016 вероятно не показателен. Но учитывая закономерность, что активная фаза цикла у платформ около 5 лет, велика вероятность, что будет происходить угасание. \n",
    "    <br>3DS, PC, PSV, PSP, показывает отрицательую динамику. \n",
    "    <br>в 2016 г PS4, XOne также показали отрицательный рост, но известно, что данные за 2016 г могут быть неполными,\n",
    "    <br> т.о. нельзя сделать вывод о падении за этот период.\n",
    "    <br>Учитывая данные о распределении, объеме продаж и их динамике, можно сделать вывод, что PS4 и XOne потенциально наиболее прибыльные платформы"
   ]
  },
  {
   "cell_type": "code",
   "execution_count": 63,
   "metadata": {},
   "outputs": [
    {
     "data": {
      "text/plain": [
       "{'whiskers': [<matplotlib.lines.Line2D at 0x7f1546f9fe50>,\n",
       "  <matplotlib.lines.Line2D at 0x7f1546fae1f0>],\n",
       " 'caps': [<matplotlib.lines.Line2D at 0x7f1546fae550>,\n",
       "  <matplotlib.lines.Line2D at 0x7f1546fae8b0>],\n",
       " 'boxes': [<matplotlib.lines.Line2D at 0x7f1546f9faf0>],\n",
       " 'medians': [<matplotlib.lines.Line2D at 0x7f1546faec10>],\n",
       " 'fliers': [<matplotlib.lines.Line2D at 0x7f1546faef70>],\n",
       " 'means': []}"
      ]
     },
     "execution_count": 63,
     "metadata": {},
     "output_type": "execute_result"
    },
    {
     "data": {
      "image/png": "[encoded data removed]",
      "text/plain": [
       "<Figure size 432x288 with 1 Axes>"
      ]
     },
     "metadata": {
      "needs_background": "light"
     },
     "output_type": "display_data"
    }
   ],
   "source": [
    "#рассмотрим основные показатели для платформ PS4 и XOne \n",
    "ps4 = data_final.query('platform == \"PS4\"')\n",
    "plt.boxplot(x=ps4['total_sales'])"
   ]
  },
  {
   "cell_type": "code",
   "execution_count": 64,
   "metadata": {},
   "outputs": [
    {
     "data": {
      "text/plain": [
       "{'whiskers': [<matplotlib.lines.Line2D at 0x7f1546f920a0>,\n",
       "  <matplotlib.lines.Line2D at 0x7f1546f92400>],\n",
       " 'caps': [<matplotlib.lines.Line2D at 0x7f1546f92760>,\n",
       "  <matplotlib.lines.Line2D at 0x7f1546f92ac0>],\n",
       " 'boxes': [<matplotlib.lines.Line2D at 0x7f1546f82d00>],\n",
       " 'medians': [<matplotlib.lines.Line2D at 0x7f1546f92e20>],\n",
       " 'fliers': [<matplotlib.lines.Line2D at 0x7f1546f1d1f0>],\n",
       " 'means': []}"
      ]
     },
     "execution_count": 64,
     "metadata": {},
     "output_type": "execute_result"
    },
    {
     "data": {
      "image/png": "[encoded data removed]",
      "text/plain": [
       "<Figure size 432x288 with 1 Axes>"
      ]
     },
     "metadata": {
      "needs_background": "light"
     },
     "output_type": "display_data"
    }
   ],
   "source": [
    "xone = data_final.query('platform == \"XOne\"')\n",
    "plt.boxplot(x=xone['total_sales'])"
   ]
  },
  {
   "cell_type": "markdown",
   "metadata": {},
   "source": [
    "<div style=\"background-color:black; color:#ffffff; text-align:left; padding:2%\">\n",
    "💬 Для PS4 и XOne бОльшая часть значений продаж лежит в диапазоне до 2 млн копий. В значениях много выбросов, максимальные около 15 млн копий для PS4 и около 8 для XOne."
   ]
  },
  {
   "cell_type": "code",
   "execution_count": 65,
   "metadata": {},
   "outputs": [
    {
     "data": {
      "text/plain": [
       "(0.0, 3.0)"
      ]
     },
     "execution_count": 65,
     "metadata": {},
     "output_type": "execute_result"
    },
    {
     "data": {
      "image/png": "[encoded data removed]",
      "text/plain": [
       "<Figure size 432x288 with 1 Axes>"
      ]
     },
     "metadata": {
      "needs_background": "light"
     },
     "output_type": "display_data"
    }
   ],
   "source": [
    "#Ограничим графики для более подробного изучения медианыи и квантилей\n",
    "plt.boxplot(x=ps4['total_sales'])\n",
    "plt.ylim(0, 3)"
   ]
  },
  {
   "cell_type": "code",
   "execution_count": 66,
   "metadata": {},
   "outputs": [
    {
     "data": {
      "text/plain": [
       "(0.0, 3.0)"
      ]
     },
     "execution_count": 66,
     "metadata": {},
     "output_type": "execute_result"
    },
    {
     "data": {
      "image/png": "[encoded data removed]",
      "text/plain": [
       "<Figure size 432x288 with 1 Axes>"
      ]
     },
     "metadata": {
      "needs_background": "light"
     },
     "output_type": "display_data"
    }
   ],
   "source": [
    "plt.boxplot(x=xone['total_sales'])\n",
    "plt.ylim(0, 3)"
   ]
  },
  {
   "cell_type": "markdown",
   "metadata": {},
   "source": [
    "<div style=\"background-color:black; color:#ffffff; text-align:left; padding:2%\">\n",
    "💬 для игр обеих платформ медианное значение продаж составляет около 0,2 млн. \n",
    "    <br> верхняя граница статистически значимой выборки для обеих игр также лежит примерно в одной области: около 1,5-1,6 млн копий\n",
    "    <br> Распределени по квантилям также похоже.\n",
    "    <br> Можно сделать вывод, что платформа ps4 выигрывает по продажам у xone за счет выбросов: их плотность выше, максимальные значения практически в 2 раза больше"
   ]
  },
  {
   "cell_type": "code",
   "execution_count": 67,
   "metadata": {},
   "outputs": [
    {
     "data": {
      "image/png": "[encoded data removed]",
      "text/plain": [
       "<Figure size 936x576 with 1 Axes>"
      ]
     },
     "metadata": {
      "needs_background": "light"
     },
     "output_type": "display_data"
    }
   ],
   "source": [
    "#Код ревьюера\n",
    "plt.figure(figsize=(13, 8))\n",
    "(sns.boxplot(data = data_final, y = 'total_sales', x='platform')\n",
    "    .set(title = 'Продажи по перспективным платформам', xlabel = 'Платформы', ylabel = 'Общие продажи', ylim=(0, 3)))\n",
    "\n",
    "plt.show()"
   ]
  },
  {
   "cell_type": "code",
   "execution_count": 68,
   "metadata": {},
   "outputs": [
    {
     "name": "stdout",
     "output_type": "stream",
     "text": [
      "Коэффициент корреляции: 0.33651362483599345\n"
     ]
    },
    {
     "data": {
      "image/png": "[encoded data removed]",
      "text/plain": [
       "<Figure size 432x288 with 1 Axes>"
      ]
     },
     "metadata": {
      "needs_background": "light"
     },
     "output_type": "display_data"
    }
   ],
   "source": [
    "#изучим взаимосвязь оценок пользователей и критиков и уровня продаж на примере наиболее востребованной платформы:\n",
    "X360_scatter = data_final.query('~critic_score.isnull() & platform == \"X360\" & user_score != 0')\n",
    "X360_scatter.plot(x='user_score', y='total_sales', kind='scatter')\n",
    "\n",
    "print('Коэффициент корреляции:', X360_scatter['user_score'].corr(X360_scatter['total_sales']))\n",
    "plt.show()\n"
   ]
  },
  {
   "cell_type": "code",
   "execution_count": 69,
   "metadata": {},
   "outputs": [
    {
     "name": "stdout",
     "output_type": "stream",
     "text": [
      "Коэффициент корреляции: 0.5257228356581523\n"
     ]
    },
    {
     "data": {
      "text/plain": [
       "<AxesSubplot:xlabel='critic_score', ylabel='total_sales'>"
      ]
     },
     "execution_count": 69,
     "metadata": {},
     "output_type": "execute_result"
    },
    {
     "data": {
      "image/png": "[encoded data removed]",
      "text/plain": [
       "<Figure size 432x288 with 1 Axes>"
      ]
     },
     "metadata": {
      "needs_background": "light"
     },
     "output_type": "display_data"
    }
   ],
   "source": [
    "print('Коэффициент корреляции:', X360_scatter['critic_score'].corr(X360_scatter['total_sales']))\n",
    "X360_scatter.plot(x='critic_score', y='total_sales', kind='scatter')\n"
   ]
  },
  {
   "cell_type": "markdown",
   "metadata": {},
   "source": [
    "<div style=\"background-color:black; color:#ffffff; text-align:left; padding:2%\">\n",
    "💬 Коэффициент корреляции и диграммы рассеяния говорят о слабой взаимосвязи, однако она есть.\n",
    "<br> Наименьше влияние на продажи у оценок пользователей: коэффициент = 0,34\n",
    "<br> чуть сильнее взаимосвязь у оценок критиков и продаж: 0,53"
   ]
  },
  {
   "cell_type": "code",
   "execution_count": 70,
   "metadata": {},
   "outputs": [
    {
     "data": {
      "text/plain": [
       "array([[<AxesSubplot:xlabel='critic_score', ylabel='critic_score'>,\n",
       "        <AxesSubplot:xlabel='user_score', ylabel='critic_score'>,\n",
       "        <AxesSubplot:xlabel='total_sales', ylabel='critic_score'>],\n",
       "       [<AxesSubplot:xlabel='critic_score', ylabel='user_score'>,\n",
       "        <AxesSubplot:xlabel='user_score', ylabel='user_score'>,\n",
       "        <AxesSubplot:xlabel='total_sales', ylabel='user_score'>],\n",
       "       [<AxesSubplot:xlabel='critic_score', ylabel='total_sales'>,\n",
       "        <AxesSubplot:xlabel='user_score', ylabel='total_sales'>,\n",
       "        <AxesSubplot:xlabel='total_sales', ylabel='total_sales'>]],\n",
       "      dtype=object)"
      ]
     },
     "execution_count": 70,
     "metadata": {},
     "output_type": "execute_result"
    },
    {
     "data": {
      "image/png": "[encoded data removed]",
      "text/plain": [
       "<Figure size 648x648 with 9 Axes>"
      ]
     },
     "metadata": {
      "needs_background": "light"
     },
     "output_type": "display_data"
    }
   ],
   "source": [
    "#Будут ли выводы актуальны и для других платформ?\n",
    "data_pairplot = data_final.query('~critic_score.isnull() & user_score != 0')\n",
    "data_pairplot = data_pairplot[['platform','critic_score','user_score','total_sales']]\n",
    "\n",
    "pd.plotting.scatter_matrix(data_pairplot, figsize=(9, 9)) "
   ]
  },
  {
   "cell_type": "markdown",
   "metadata": {},
   "source": [
    "<div style=\"background-color:black; color:#ffffff; text-align:left; padding:2%\">\n",
    "💬 Для показателей по всем платформам диаграмма говорит о слабом влиянии оценок критиков и пользователей на уровень продаж.\n",
    "<br> Из двух категорий оценок рейтинг критиков имеет больший вес, но и он не оказывает критического влияния на уровень продаж.     "
   ]
  },
  {
   "cell_type": "code",
   "execution_count": 71,
   "metadata": {},
   "outputs": [
    {
     "data": {
      "text/html": [
       "<div>\n",
       "<style scoped>\n",
       "    .dataframe tbody tr th:only-of-type {\n",
       "        vertical-align: middle;\n",
       "    }\n",
       "\n",
       "    .dataframe tbody tr th {\n",
       "        vertical-align: top;\n",
       "    }\n",
       "\n",
       "    .dataframe thead th {\n",
       "        text-align: right;\n",
       "    }\n",
       "</style>\n",
       "<table border=\"1\" class=\"dataframe\">\n",
       "  <thead>\n",
       "    <tr style=\"text-align: right;\">\n",
       "      <th></th>\n",
       "      <th>total_sales</th>\n",
       "    </tr>\n",
       "    <tr>\n",
       "      <th>genre</th>\n",
       "      <th></th>\n",
       "    </tr>\n",
       "  </thead>\n",
       "  <tbody>\n",
       "    <tr>\n",
       "      <th>Action</th>\n",
       "      <td>199.36</td>\n",
       "    </tr>\n",
       "    <tr>\n",
       "      <th>Shooter</th>\n",
       "      <td>170.94</td>\n",
       "    </tr>\n",
       "    <tr>\n",
       "      <th>Sports</th>\n",
       "      <td>109.48</td>\n",
       "    </tr>\n",
       "    <tr>\n",
       "      <th>Role-Playing</th>\n",
       "      <td>101.44</td>\n",
       "    </tr>\n",
       "    <tr>\n",
       "      <th>Misc</th>\n",
       "      <td>37.55</td>\n",
       "    </tr>\n",
       "    <tr>\n",
       "      <th>Fighting</th>\n",
       "      <td>28.22</td>\n",
       "    </tr>\n",
       "    <tr>\n",
       "      <th>Racing</th>\n",
       "      <td>27.52</td>\n",
       "    </tr>\n",
       "    <tr>\n",
       "      <th>Platform</th>\n",
       "      <td>18.09</td>\n",
       "    </tr>\n",
       "    <tr>\n",
       "      <th>Adventure</th>\n",
       "      <td>17.55</td>\n",
       "    </tr>\n",
       "    <tr>\n",
       "      <th>Simulation</th>\n",
       "      <td>13.13</td>\n",
       "    </tr>\n",
       "    <tr>\n",
       "      <th>Strategy</th>\n",
       "      <td>3.96</td>\n",
       "    </tr>\n",
       "    <tr>\n",
       "      <th>Puzzle</th>\n",
       "      <td>2.21</td>\n",
       "    </tr>\n",
       "  </tbody>\n",
       "</table>\n",
       "</div>"
      ],
      "text/plain": [
       "              total_sales\n",
       "genre                    \n",
       "Action             199.36\n",
       "Shooter            170.94\n",
       "Sports             109.48\n",
       "Role-Playing       101.44\n",
       "Misc                37.55\n",
       "Fighting            28.22\n",
       "Racing              27.52\n",
       "Platform            18.09\n",
       "Adventure           17.55\n",
       "Simulation          13.13\n",
       "Strategy             3.96\n",
       "Puzzle               2.21"
      ]
     },
     "execution_count": 71,
     "metadata": {},
     "output_type": "execute_result"
    }
   ],
   "source": [
    "##изучим распределение продаж игр по жанрам:\n",
    "data_genre_pivot = data_final.query('~genre.isnull()')\n",
    "\n",
    "data_genre_pivot.pivot_table(index='genre',values='total_sales',aggfunc='sum')\\\n",
    ".sort_values(by='total_sales',ascending=False)"
   ]
  },
  {
   "cell_type": "code",
   "execution_count": 72,
   "metadata": {},
   "outputs": [
    {
     "data": {
      "text/plain": [
       "[Text(0, 0, 'Shooter'),\n",
       " Text(1, 0, 'Action'),\n",
       " Text(2, 0, 'Role-Playing'),\n",
       " Text(3, 0, 'Sports'),\n",
       " Text(4, 0, 'Fighting'),\n",
       " Text(5, 0, 'Racing'),\n",
       " Text(6, 0, 'Misc'),\n",
       " Text(7, 0, 'Platform'),\n",
       " Text(8, 0, 'Simulation'),\n",
       " Text(9, 0, 'Adventure'),\n",
       " Text(10, 0, 'Puzzle'),\n",
       " Text(11, 0, 'Strategy')]"
      ]
     },
     "execution_count": 72,
     "metadata": {},
     "output_type": "execute_result"
    },
    {
     "data": {
      "image/png": "[encoded data removed]",
      "text/plain": [
       "<Figure size 432x288 with 1 Axes>"
      ]
     },
     "metadata": {
      "needs_background": "light"
     },
     "output_type": "display_data"
    }
   ],
   "source": [
    "##изучим распределение продаж игр по жанрам за актуальный период::\n",
    "ax_1 = sns.boxplot(data=data_final, x='genre', y='total_sales', dodge=False)\n",
    "\n",
    "ax_1.set_xticklabels(ax_1.get_xticklabels(), rotation=90)"
   ]
  },
  {
   "cell_type": "markdown",
   "metadata": {},
   "source": [
    "<div style=\"background-color:black; color:#ffffff; text-align:left; padding:2%\">\n",
    "💬 Категория Shooter лидирует как за счет выбросов, так и за счет продаж основной массы игр. В жанре Shooter наибольшая \n",
    "<br> статистически значимая выборка и наибольшее среднее на одну игру среди всех категорий.\n",
    "<br> За Shooter следует Action, однако высокий рейтинг у жанра за счет количества игр и выбросов: на графике виден небольшой диапазон статистически значимых значений и несколько выбросов с очень высокими продажами.\n",
    "<br> При этом среднее стремится к 0. Похожая ситуация с Role-playing.\n",
    "<br> Далее следуют жанры Sports, Fighting, Racing, и категория Misc. Стоит отметить, что в жанре Sports основная масса игр имеет достаточно весомые продажи. В жанре востребованы не только флагманы продаж, но и рядовые игры. \n",
    "<br> Среди жанров с наибольшим средним по продажам, наиболее равномерно показатели распределены в жанре Sports.\n",
    "    Вероятно, Shooter и Sports - это наиболее прибыльные жанры. Из них Shooter явно превосходит в продажах."
   ]
  },
  {
   "cell_type": "markdown",
   "metadata": {},
   "source": [
    "### Портрет пользователя регионов"
   ]
  },
  {
   "cell_type": "code",
   "execution_count": 73,
   "metadata": {},
   "outputs": [],
   "source": [
    "#изучим подробнее данные в разрезе регионов продаж. Рассмотрим ТОП-5 платформ и жанров:\n",
    "\n",
    "data_na_plt = data_final.groupby(['platform']).sum().sort_values(by='na_sales', ascending=False)[:5]\n",
    "data_na_gr = data_final.groupby(['genre']).sum().sort_values(by='na_sales', ascending=False)[:5]"
   ]
  },
  {
   "cell_type": "code",
   "execution_count": 74,
   "metadata": {},
   "outputs": [
    {
     "data": {
      "text/plain": [
       "<AxesSubplot:title={'center':'Продажи в Северной Америке, топ-5 платформ, млн копий'}, ylabel='na_sales'>"
      ]
     },
     "execution_count": 74,
     "metadata": {},
     "output_type": "execute_result"
    },
    {
     "data": {
      "image/png": "[encoded data removed]",
      "text/plain": [
       "<Figure size 432x288 with 1 Axes>"
      ]
     },
     "metadata": {},
     "output_type": "display_data"
    }
   ],
   "source": [
    "#какие предпочтения у пользователей в Северной Америке?\n",
    "\n",
    "data_na_plt.plot(kind='pie', y='na_sales', autopct='%1.0f%%',\n",
    "title='Продажи в Северной Америке, топ-5 платформ, млн копий', legend=False)"
   ]
  },
  {
   "cell_type": "code",
   "execution_count": 75,
   "metadata": {},
   "outputs": [
    {
     "data": {
      "text/plain": [
       "<AxesSubplot:title={'center':'Продажи в Северной Америке, топ-5 жанров, млн копий'}, ylabel='na_sales'>"
      ]
     },
     "execution_count": 75,
     "metadata": {},
     "output_type": "execute_result"
    },
    {
     "data": {
      "image/png": "[encoded data removed]",
      "text/plain": [
       "<Figure size 432x288 with 1 Axes>"
      ]
     },
     "metadata": {},
     "output_type": "display_data"
    }
   ],
   "source": [
    "data_na_gr.plot(kind='pie', y='na_sales', autopct='%1.0f%%',\n",
    "title='Продажи в Северной Америке, топ-5 жанров, млн копий', legend=False)"
   ]
  },
  {
   "cell_type": "markdown",
   "metadata": {},
   "source": [
    "<div style=\"background-color:black; color:#ffffff; text-align:left; padding:2%\">\n",
    "💬 Пользователи в Северной Америке предпочитают игры на платформах PS4 (39%), XOne (32%), X360 (11%), 3DS (9%), PS3(9%)  \n",
    "<br> Среди жанров наиболее востребованы Shooter (32%), далее Action и Sports (29% и 19%), Role-Playing (14%) и 6% Misc "
   ]
  },
  {
   "cell_type": "code",
   "execution_count": 76,
   "metadata": {},
   "outputs": [],
   "source": [
    "#какие предпочтения у пользователей Европы?\n",
    "data_eu_plt = data_final.groupby(['platform']).sum().sort_values(by='eu_sales', ascending=False)[:5]\n",
    "data_eu_gr = data_final.groupby(['genre']).sum().sort_values(by='eu_sales', ascending=False)[:5]"
   ]
  },
  {
   "cell_type": "code",
   "execution_count": 77,
   "metadata": {},
   "outputs": [
    {
     "data": {
      "text/plain": [
       "<AxesSubplot:title={'center':'Продажи в Европе, топ-5 платформ, млн копий'}, ylabel='eu_sales'>"
      ]
     },
     "execution_count": 77,
     "metadata": {},
     "output_type": "execute_result"
    },
    {
     "data": {
      "image/png": "[encoded data removed]",
      "text/plain": [
       "<Figure size 432x288 with 1 Axes>"
      ]
     },
     "metadata": {},
     "output_type": "display_data"
    }
   ],
   "source": [
    "data_eu_plt.plot(kind='pie', y='eu_sales', autopct='%1.0f%%',\n",
    "title='Продажи в Европе, топ-5 платформ, млн копий', legend=False)"
   ]
  },
  {
   "cell_type": "code",
   "execution_count": 78,
   "metadata": {},
   "outputs": [
    {
     "data": {
      "text/plain": [
       "<AxesSubplot:title={'center':'Продажи в Европе, топ-5 жанров, млн копий'}, ylabel='eu_sales'>"
      ]
     },
     "execution_count": 78,
     "metadata": {},
     "output_type": "execute_result"
    },
    {
     "data": {
      "image/png": "[encoded data removed]",
      "text/plain": [
       "<Figure size 432x288 with 1 Axes>"
      ]
     },
     "metadata": {},
     "output_type": "display_data"
    }
   ],
   "source": [
    "data_eu_gr.plot(kind='pie', y='eu_sales', autopct='%1.0f%%',\n",
    "title='Продажи в Европе, топ-5 жанров, млн копий', legend=False)"
   ]
  },
  {
   "cell_type": "markdown",
   "metadata": {},
   "source": [
    "<div style=\"background-color:black; color:#ffffff; text-align:left; padding:2%\">\n",
    "💬 Предпочтения пользователей из Европы по платформам отчасти похожи с Северной Америкой:\n",
    "<br> Лидирует платформа PS4 (55%), далее XOne (20%), PS3 (11%), далее почти в равной степени PC (8%) и 3DS (7%).\n",
    "<br> Среди жанров предпочтения также похожи с Северной Америкой.\n",
    "<br> Топ-5 жанров в Европе: Action (33%), далее Shooter (29%), Sports (20%), Role-Playing (12%) и 6% предпочитают Racing "
   ]
  },
  {
   "cell_type": "code",
   "execution_count": 79,
   "metadata": {},
   "outputs": [],
   "source": [
    "#какие предпочтения у пользователей в Японии?\n",
    "\n",
    "data_jp_plt = data_final.groupby(['platform']).sum().sort_values(by='jp_sales', ascending=False)[:5]\n",
    "data_jp_gr = data_final.groupby(['genre']).sum().sort_values(by='jp_sales', ascending=False)[:5]"
   ]
  },
  {
   "cell_type": "code",
   "execution_count": 80,
   "metadata": {},
   "outputs": [
    {
     "data": {
      "text/plain": [
       "<AxesSubplot:title={'center':'Продажи в Японии, топ-5 платформ, млн копий'}, ylabel='jp_sales'>"
      ]
     },
     "execution_count": 80,
     "metadata": {},
     "output_type": "execute_result"
    },
    {
     "data": {
      "image/png": "[encoded data removed]",
      "text/plain": [
       "<Figure size 432x288 with 1 Axes>"
      ]
     },
     "metadata": {},
     "output_type": "display_data"
    }
   ],
   "source": [
    "data_jp_plt.plot(kind='pie', y='jp_sales', autopct='%1.0f%%',\n",
    "title='Продажи в Японии, топ-5 платформ, млн копий', legend=False)"
   ]
  },
  {
   "cell_type": "code",
   "execution_count": 81,
   "metadata": {},
   "outputs": [
    {
     "data": {
      "text/plain": [
       "<AxesSubplot:title={'center':'Продажи в Японии, топ-5 жанров, млн копий'}, ylabel='jp_sales'>"
      ]
     },
     "execution_count": 81,
     "metadata": {},
     "output_type": "execute_result"
    },
    {
     "data": {
      "image/png": "[encoded data removed]",
      "text/plain": [
       "<Figure size 432x288 with 1 Axes>"
      ]
     },
     "metadata": {},
     "output_type": "display_data"
    }
   ],
   "source": [
    "data_jp_gr.plot(kind='pie', y='jp_sales', autopct='%1.0f%%',\n",
    "title='Продажи в Японии, топ-5 жанров, млн копий', legend=False)"
   ]
  },
  {
   "cell_type": "markdown",
   "metadata": {},
   "source": [
    "<div style=\"background-color:black; color:#ffffff; text-align:left; padding:2%\">\n",
    "💬 Предпочтения пользователей в Японии ожидаемо отличаются от Америки и Европы.\n",
    "<br> Абсолютный лидер, платформа 3DS (48%), практически половина продаж игр на этой платформе. Далее PS4 (16%), PSV (16%), PS3 (12%) и 8% WiiU.\n",
    "<br> Среди жанров в Японии лидер Role-Playing (40%), чуть меньше Action (38%), \n",
    "<br> далее пятерку замыкают Fighting (8%), Misc (7%), и Shooting (6%)"
   ]
  },
  {
   "cell_type": "code",
   "execution_count": 82,
   "metadata": {},
   "outputs": [
    {
     "data": {
      "text/plain": [
       "<AxesSubplot:title={'center':'Продажи в Японии, топ-5 платформ жанра Role-Playing, млн копий'}, ylabel='jp_sales'>"
      ]
     },
     "execution_count": 82,
     "metadata": {},
     "output_type": "execute_result"
    },
    {
     "data": {
      "image/png": "[encoded data removed]",
      "text/plain": [
       "<Figure size 432x288 with 1 Axes>"
      ]
     },
     "metadata": {},
     "output_type": "display_data"
    }
   ],
   "source": [
    "#Возможно платформа 3DS популярна, т к среди игр много в жанре Role-playing? Проверим:\n",
    "\n",
    "data_jp = data_final.query('genre == \"Role-Playing\"')\n",
    "data_jp = data_jp.groupby(['platform']).sum().sort_values(by='jp_sales', ascending=False)[:5]\n",
    "data_jp.plot(kind='pie', y='jp_sales', autopct='%1.0f%%',\n",
    "title='Продажи в Японии, топ-5 платформ жанра Role-Playing, млн копий', legend=False)"
   ]
  },
  {
   "cell_type": "markdown",
   "metadata": {},
   "source": [
    "<div style=\"background-color:black; color:#ffffff; text-align:left; padding:2%\">\n",
    "💬 Существенные различия между продажами платформ в Японии и Америке и Европе объяснясняются тем, \n",
    "<br> что основная часть столь любимых японцами игр Role-Playing выпускается преимущественно на платформе 3DS (65%)."
   ]
  },
  {
   "cell_type": "code",
   "execution_count": 83,
   "metadata": {},
   "outputs": [
    {
     "data": {
      "text/html": [
       "<div>\n",
       "<style scoped>\n",
       "    .dataframe tbody tr th:only-of-type {\n",
       "        vertical-align: middle;\n",
       "    }\n",
       "\n",
       "    .dataframe tbody tr th {\n",
       "        vertical-align: top;\n",
       "    }\n",
       "\n",
       "    .dataframe thead th {\n",
       "        text-align: right;\n",
       "    }\n",
       "</style>\n",
       "<table border=\"1\" class=\"dataframe\">\n",
       "  <thead>\n",
       "    <tr style=\"text-align: right;\">\n",
       "      <th></th>\n",
       "      <th>eu_sales</th>\n",
       "      <th>jp_sales</th>\n",
       "      <th>na_sales</th>\n",
       "      <th>total_sales</th>\n",
       "    </tr>\n",
       "    <tr>\n",
       "      <th>rating</th>\n",
       "      <th></th>\n",
       "      <th></th>\n",
       "      <th></th>\n",
       "      <th></th>\n",
       "    </tr>\n",
       "  </thead>\n",
       "  <tbody>\n",
       "    <tr>\n",
       "      <th>M</th>\n",
       "      <td>93.44</td>\n",
       "      <td>8.01</td>\n",
       "      <td>96.42</td>\n",
       "      <td>226.54</td>\n",
       "    </tr>\n",
       "    <tr>\n",
       "      <th>unknown</th>\n",
       "      <td>58.95</td>\n",
       "      <td>56.90</td>\n",
       "      <td>64.72</td>\n",
       "      <td>198.97</td>\n",
       "    </tr>\n",
       "    <tr>\n",
       "      <th>E</th>\n",
       "      <td>58.06</td>\n",
       "      <td>8.94</td>\n",
       "      <td>50.74</td>\n",
       "      <td>133.13</td>\n",
       "    </tr>\n",
       "    <tr>\n",
       "      <th>T</th>\n",
       "      <td>34.07</td>\n",
       "      <td>14.78</td>\n",
       "      <td>38.95</td>\n",
       "      <td>99.13</td>\n",
       "    </tr>\n",
       "    <tr>\n",
       "      <th>E10+</th>\n",
       "      <td>26.16</td>\n",
       "      <td>4.46</td>\n",
       "      <td>33.23</td>\n",
       "      <td>71.68</td>\n",
       "    </tr>\n",
       "  </tbody>\n",
       "</table>\n",
       "</div>"
      ],
      "text/plain": [
       "         eu_sales  jp_sales  na_sales  total_sales\n",
       "rating                                            \n",
       "M           93.44      8.01     96.42       226.54\n",
       "unknown     58.95     56.90     64.72       198.97\n",
       "E           58.06      8.94     50.74       133.13\n",
       "T           34.07     14.78     38.95        99.13\n",
       "E10+        26.16      4.46     33.23        71.68"
      ]
     },
     "execution_count": 83,
     "metadata": {},
     "output_type": "execute_result"
    }
   ],
   "source": [
    "#влияет ли рейтинг ESRB на продажи?\n",
    "data_rating = data_final.pivot_table(index='rating',values=('na_sales','eu_sales','jp_sales','total_sales'),aggfunc='sum')\\\n",
    ".sort_values(by='total_sales',ascending=False)\n",
    "\n",
    "data_rating"
   ]
  },
  {
   "cell_type": "markdown",
   "metadata": {},
   "source": [
    "<div style=\"background-color:black; color:#ffffff; text-align:left; padding:2%\">\n",
    "💬 Очевидно, что рейтинг ESRB влияет на продажи в Америке и Европе. Т к прослеживается одна и та же закономерность: топ 3 строчки продаж с рейтингами M, E, T. Иная ситуация с Японией: здесь преобладают игры без рейтинга ESRB. Связано с тем, что он предназначен для маркировки игр для США и Канады"
   ]
  },
  {
   "cell_type": "markdown",
   "metadata": {},
   "source": [
    "### Проверка гипотез"
   ]
  },
  {
   "cell_type": "markdown",
   "metadata": {},
   "source": [
    "<div style=\"background-color:black; color:#ffffff; text-align:left; padding:2%\">\n",
    "💬 Проверим гипотезу о том, что средние пользовательские рейтинги платформ Xbox One и PC одинаковые.\n",
    "<br> Сформулируем нулевую и альтернативную гипотезы:    \n",
    "<br> H0 - средние пользовательские рейтинги платформ Xbox One и PC равны\n",
    "<br> H1 - средние пользовательские рейтинги платформ Xbox One и PC не равны."
   ]
  },
  {
   "cell_type": "code",
   "execution_count": 84,
   "metadata": {},
   "outputs": [
    {
     "name": "stdout",
     "output_type": "stream",
     "text": [
      "p-value: 0.11601398086668832\n",
      "Не получилось отвергнуть нулевую гипотезу\n"
     ]
    }
   ],
   "source": [
    "data_final_st = data_final[data_final['user_score'] !=0 ]\n",
    "\n",
    "xone = data_final_st[data_final_st['platform'] =='XOne']['user_score'].dropna()\n",
    "pc = data_final_st[data_final_st['platform'] == 'PC']['user_score'].dropna()\n",
    "\n",
    "results = st.ttest_ind(xone, pc, equal_var=False)\n",
    "alpha = 0.05\n",
    "print('p-value:', results.pvalue)\n",
    "if results.pvalue < alpha:\n",
    "    print(\"Отвергаем нулевую гипотезу\")\n",
    "else:\n",
    "    print(\"Не получилось отвергнуть нулевую гипотезу\")\n"
   ]
  },
  {
   "cell_type": "code",
   "execution_count": 85,
   "metadata": {},
   "outputs": [
    {
     "data": {
      "text/plain": [
       "count    165.000000\n",
       "mean       6.594545\n",
       "std        1.375139\n",
       "min        1.600000\n",
       "25%        5.800000\n",
       "50%        6.800000\n",
       "75%        7.600000\n",
       "max        9.200000\n",
       "Name: user_score, dtype: float64"
      ]
     },
     "execution_count": 85,
     "metadata": {},
     "output_type": "execute_result"
    }
   ],
   "source": [
    "#прорверим, выведем средние:\n",
    "xone.describe()"
   ]
  },
  {
   "cell_type": "code",
   "execution_count": 86,
   "metadata": {
    "scrolled": true
   },
   "outputs": [
    {
     "data": {
      "text/plain": [
       "count    122.000000\n",
       "mean       6.298361\n",
       "std        1.703278\n",
       "min        1.400000\n",
       "25%        5.325000\n",
       "50%        6.800000\n",
       "75%        7.600000\n",
       "max        9.300000\n",
       "Name: user_score, dtype: float64"
      ]
     },
     "execution_count": 86,
     "metadata": {},
     "output_type": "execute_result"
    }
   ],
   "source": [
    "pc.describe()"
   ]
  },
  {
   "cell_type": "markdown",
   "metadata": {},
   "source": [
    "<div style=\"background-color:black; color:#ffffff; text-align:left; padding:2%\">\n",
    "💬 Проверим гипотезу о том, что средние пользовательские рейтинги жанров Action и Sports разные.\n",
    "<br> H0 - Средние пользовательские рейтинги жанров Action и Sports равны.\n",
    "<br> H1 - Средние пользовательские рейтинги жанров Action и Sports разные."
   ]
  },
  {
   "cell_type": "code",
   "execution_count": 87,
   "metadata": {},
   "outputs": [
    {
     "name": "stdout",
     "output_type": "stream",
     "text": [
      "p-value: 2.8711147985105864e-19\n",
      "Отвергаем нулевую гипотезу\n"
     ]
    }
   ],
   "source": [
    "action = data_final_st[data_final_st['genre'] =='Action']['user_score'].dropna()\n",
    "sports = data_final_st[data_final_st['genre'] == 'Sports']['user_score'].dropna()\n",
    "\n",
    "results = st.ttest_ind(action, sports, equal_var=True)\n",
    "alpha = 0.05\n",
    "print('p-value:', results.pvalue)\n",
    "if results.pvalue < alpha:\n",
    "    print(\"Отвергаем нулевую гипотезу\")\n",
    "else:\n",
    "    print(\"Не получилось отвергнуть нулевую гипотезу\")"
   ]
  },
  {
   "cell_type": "code",
   "execution_count": 88,
   "metadata": {},
   "outputs": [
    {
     "data": {
      "text/plain": [
       "count    297.000000\n",
       "mean       6.760606\n",
       "std        1.377852\n",
       "min        2.000000\n",
       "25%        6.100000\n",
       "50%        7.100000\n",
       "75%        7.700000\n",
       "max        9.000000\n",
       "Name: user_score, dtype: float64"
      ]
     },
     "execution_count": 88,
     "metadata": {},
     "output_type": "execute_result"
    }
   ],
   "source": [
    "action.describe()"
   ]
  },
  {
   "cell_type": "code",
   "execution_count": 89,
   "metadata": {},
   "outputs": [
    {
     "data": {
      "text/plain": [
       "count    127.000000\n",
       "mean       5.225197\n",
       "std        1.856604\n",
       "min        0.200000\n",
       "25%        4.000000\n",
       "50%        5.500000\n",
       "75%        6.650000\n",
       "max        8.800000\n",
       "Name: user_score, dtype: float64"
      ]
     },
     "execution_count": 89,
     "metadata": {},
     "output_type": "execute_result"
    }
   ],
   "source": [
    "sports.describe()"
   ]
  },
  {
   "cell_type": "markdown",
   "metadata": {},
   "source": [
    "<div style=\"background-color:black; color:#ffffff; text-align:left; padding:2%\">\n",
    "💬 Если данные нулевой гипотезе не противоречат, её не отвергаем. Если же приходим к выводу, что вероятность \n",
    "<br>получить такие данные очень низка, появляется основание отбросить эту гипотезу. Задача статистического теста в том, <br>чтобы эту вероятность найти.\n",
    "<br>    В первом случае нулевая гипотеза говорит о том, что средние пользовательские рейтинги платформ Xbox One и PC одинаковые. Гипотеза не опровергнута, средние равны. Выведенные для дополнительной проверки средние подтверждают правильность выводов. \n",
    "<br>    Во втором случае нулевая гипотеза говорит о том, что средние пользовательские рейтинги жанров Action и Sports одинаковые. Соответственно, когда мы отвергаем нулевую гипотезу, то у нас нет оснований полагать, что средние рейтинги равны. Выведенные в проверке средние подтверждают вывод."
   ]
  },
  {
   "cell_type": "markdown",
   "metadata": {},
   "source": [
    "### Общий вывод"
   ]
  },
  {
   "cell_type": "markdown",
   "metadata": {},
   "source": [
    "<div style=\"background-color:black; color:#ffffff; text-align:left; padding:2%\">\n",
    "💬 По иогам исследования данных можно сделать следующие выводы:\n",
    "<br>    \n",
    "<br> - Игровые платформы имеют некий жизненный цикл: характерный период исчезновения старых и появления новых платформ составляет около 10 лет. Пик развития составляет около 5 лет.\n",
    "<br> - Для исследования актуальных данных взят период 2014-2016 гг. При этом известно, что данные за 2016 г могут быть неполными.    \n",
    "<br> - лидеры за последние 3 года: PS4, 3DS, XOne, WiiU, PS3\n",
    "<br> - Практически для всех платформ очевидно влияние выбросов на итоговый рейтинг: у каждой есть флагманы - нескольких игр с очень высокими продажами.\n",
    "<br> - Платформы, где основная часть игр имеет весомые продажи (до 1,5 млн): PS4, XOne, WiiU, Wii.\n",
    "<br> - Платформы 3DS, PS3, PC показывают результат за счет флагманов продаж, основная же масса продается количеством менее 1 млн копий. \n",
    "<br>Платформы PS4, XOne находятся в активной фазе жизненного цикла. 3DS, PC, PSV, PSP, показывает отрицательую динамику. \n",
    "<br> - в 2016 г PS4, XOne также показали отрицательный рост, но известно, что данные за 2016 г могут быть неполными,\n",
    "<br> т.о. нельзя сделать вывод о падении за этот период.\n",
    "<br> - Учитывая данные о распределении, объеме продаж и их динамике, можно сделать вывод, что PS4 и XOne потенциально наиболее прибыльные платформы\n",
    "<br> - Основные показатели наиболее перспективных платформ PS4 и XOne: \n",
    "    <br> для игр обеих платформ медианное значение продаж составляет около 0,2 млн. \n",
    "    <br> верхняя граница статистически значимой выборки для обеих игр также лежит примерно в одной области: около 1,6 млн копий\n",
    "    <br> Распределение по квантилям также похоже.\n",
    "    <br> Можно сделать вывод, что платформа ps4 выигрывает по продажам у xone за счет выбросов: их плотность выше, максимальные значения практически в 2 раза больше\n",
    "    \n",
    "<br>Выводы по итогам исследования продаж в разрезе платформ, жанров и регионов:\n",
    "<br>    \n",
    "<br> - Категория Shooter лидирует как за счет выбросов, так и за счет продаж основной массы игр. В жанре Shooter наибольшая \n",
    "<br> статистически значимая выборка и наибольшее среднее на одну игру среди всех категорий.\n",
    "<br> - За Shooter следует Action, однако высокий рейтинг у жанра за счет количества игр и выбросов, при этом средние продажи небольшие, менее 0,5 млн копий. Похожая ситуация с Role-playing.\n",
    "<br> - Далее следуют жанры Sports, Fighting, Racing, и категория Misc. Стоит отметить, что в жанре Sports основная масса игр имеет достаточно весомые продажи. В жанре востребованы не только флагманы продаж, но и рядовые игры. \n",
    "<br> - Среди жанров с наибольшим средним по продажам, наиболее равномерно показатели распределены в жанре Sports.\n",
    "<br> - Вероятно, Shooter и Sports - это наиболее прибыльные жанры. Из них Shooter явно превосходит в продажах. \n",
    "<br>   \n",
    "<br> - Пользователи в Северной Америке предпочитают игры на платформах PS4 (39%), XOne (32%), X360 (11%), 3DS (9%), PS3(9%)  \n",
    "<br> - Среди жанров у пользователей из Америки наиболее востребованы Shooter (32%), далее Action и Sports (29% и 19%), Role-Playing (14%) и 6% Misc \n",
    "<br>    \n",
    "<br> - Предпочтения пользователей из Европы по платформам отчасти похожи с Северной Америкой:\n",
    "<br> Лидирует платформа PS4 (55%), далее XOne (20%), PS3 (11%), далее почти в равной степени PC (8%) и 3DS (7%).\n",
    "<br> - Среди жанров предпочтения также похожи с Северной Америкой.\n",
    "<br> Топ-5 жанров в Европе: Action (33%), далее Shooter (29%), Sports (20%), Role-Playing (12%) и 6% предпочитают Racing \n",
    "<br>\n",
    "<br> - Предпочтения пользователей в Японии ожидаемо отличаются от Америки и Европы.\n",
    "<br> Абсолютный лидер, платформа 3DS (48%), практически половина продаж игр на этой платформе. Далее PS4 (16%), PSV (16%), PS3 (12%) и 8% WiiU.\n",
    "<br> - Среди жанров в Японии лидер Role-Playing (40%), чуть меньше Action (38%), далее пятерку замыкают Fighting (8%), Misc (7%), и Shooting (6%)\n",
    "<br> - Существенные различия между продажами платформ в Японии и Америке и Европе объяснясняются тем, \n",
    "<br> что основная часть столь любимых японцами игр Role-Playing выпускается преимущественно на платформе 3DS (65%).\n",
    "<br>\n",
    "<br>Прочие выводы:\n",
    "    <br>- Изучена взаимосвязь оценок пользователей и критиков и показателя продаж: оценки критиков и пользователей имеют слабое влияние на продажи. Из двух категорий оценок рейтинг критиков имеет больший вес, но и он не оказывает критического влияния на уровень продаж.     \n",
    "    <br>-  Очевидно, что рейтинг ESRB влияет на продажи в Америке и Европе. Т к прослеживается одна и та же закономерность: топ 3 строчки продаж с рейтингами - это M, E, T. Иная ситуация с Японией: здесь преобладают игры без рейтинга ESRB. Связано с тем, что он предназначен для маркировки игр для США и Канады\n",
    "    <br>- Проверены гипотезы о том, что:\n",
    "        <br>средние пользовательские рейтинги платформ Xbox One и PC одинаковые. Гипотеза подтвердилась.\n",
    "        <br>средние пользовательские рейтинги жанров Action и Sports разные. Средние рейтинги действительно разные. Гипотеза верна.\n",
    "    <br> "
   ]
  }
 ],
 "metadata": {
  "ExecuteTimeLog": [
   {
    "duration": 55,
    "start_time": "2023-04-17T06:17:46.997Z"
   },
   {
    "duration": 811,
    "start_time": "2023-04-17T06:17:50.331Z"
   },
   {
    "duration": 193,
    "start_time": "2023-04-17T06:17:51.717Z"
   },
   {
    "duration": 23,
    "start_time": "2023-04-17T06:18:01.827Z"
   },
   {
    "duration": 13,
    "start_time": "2023-04-17T06:18:33.650Z"
   },
   {
    "duration": 10,
    "start_time": "2023-04-17T06:32:32.945Z"
   },
   {
    "duration": 10,
    "start_time": "2023-04-17T06:32:35.200Z"
   },
   {
    "duration": 14,
    "start_time": "2023-04-17T06:32:44.764Z"
   },
   {
    "duration": 10,
    "start_time": "2023-04-17T06:33:22.230Z"
   },
   {
    "duration": 15,
    "start_time": "2023-04-17T06:33:23.711Z"
   },
   {
    "duration": 66,
    "start_time": "2023-04-17T06:33:55.797Z"
   },
   {
    "duration": 7,
    "start_time": "2023-04-17T06:35:41.401Z"
   },
   {
    "duration": 3,
    "start_time": "2023-04-17T06:35:48.581Z"
   },
   {
    "duration": 14,
    "start_time": "2023-04-17T06:35:51.268Z"
   },
   {
    "duration": 12,
    "start_time": "2023-04-17T06:39:05.573Z"
   },
   {
    "duration": 15,
    "start_time": "2023-04-17T06:39:07.317Z"
   },
   {
    "duration": 834,
    "start_time": "2023-04-17T09:43:55.565Z"
   },
   {
    "duration": 203,
    "start_time": "2023-04-17T09:43:56.401Z"
   },
   {
    "duration": 21,
    "start_time": "2023-04-17T09:43:56.606Z"
   },
   {
    "duration": 14,
    "start_time": "2023-04-17T09:43:56.628Z"
   },
   {
    "duration": 12,
    "start_time": "2023-04-17T09:43:56.643Z"
   },
   {
    "duration": 15,
    "start_time": "2023-04-17T09:43:56.656Z"
   },
   {
    "duration": 106,
    "start_time": "2023-04-17T09:43:56.673Z"
   },
   {
    "duration": 22,
    "start_time": "2023-04-17T09:44:27.863Z"
   },
   {
    "duration": 20,
    "start_time": "2023-04-17T09:44:38.429Z"
   },
   {
    "duration": 5,
    "start_time": "2023-04-17T09:45:55.081Z"
   },
   {
    "duration": 5,
    "start_time": "2023-04-17T09:46:00.045Z"
   },
   {
    "duration": 2,
    "start_time": "2023-04-17T09:46:50.609Z"
   },
   {
    "duration": 15,
    "start_time": "2023-04-17T09:46:58.572Z"
   },
   {
    "duration": 22,
    "start_time": "2023-04-17T09:49:33.093Z"
   },
   {
    "duration": 11,
    "start_time": "2023-04-17T09:49:54.213Z"
   },
   {
    "duration": 24,
    "start_time": "2023-04-17T09:50:11.523Z"
   },
   {
    "duration": 31,
    "start_time": "2023-04-17T09:55:09.642Z"
   },
   {
    "duration": 31,
    "start_time": "2023-04-17T09:57:51.347Z"
   },
   {
    "duration": 21,
    "start_time": "2023-04-17T09:58:10.132Z"
   },
   {
    "duration": 10,
    "start_time": "2023-04-17T10:00:15.098Z"
   },
   {
    "duration": 10,
    "start_time": "2023-04-17T10:00:32.401Z"
   },
   {
    "duration": 9,
    "start_time": "2023-04-17T10:04:00.415Z"
   },
   {
    "duration": 831,
    "start_time": "2023-04-17T10:04:34.360Z"
   },
   {
    "duration": 53,
    "start_time": "2023-04-17T10:04:35.193Z"
   },
   {
    "duration": 23,
    "start_time": "2023-04-17T10:04:35.247Z"
   },
   {
    "duration": 14,
    "start_time": "2023-04-17T10:04:35.272Z"
   },
   {
    "duration": 14,
    "start_time": "2023-04-17T10:04:35.287Z"
   },
   {
    "duration": 16,
    "start_time": "2023-04-17T10:04:35.302Z"
   },
   {
    "duration": 8,
    "start_time": "2023-04-17T10:04:35.320Z"
   },
   {
    "duration": 130,
    "start_time": "2023-04-17T10:04:35.331Z"
   },
   {
    "duration": 0,
    "start_time": "2023-04-17T10:04:35.462Z"
   },
   {
    "duration": 0,
    "start_time": "2023-04-17T10:04:35.464Z"
   },
   {
    "duration": 8,
    "start_time": "2023-04-17T10:04:44.903Z"
   },
   {
    "duration": 3,
    "start_time": "2023-04-17T10:05:23.037Z"
   },
   {
    "duration": 54,
    "start_time": "2023-04-17T10:05:23.043Z"
   },
   {
    "duration": 18,
    "start_time": "2023-04-17T10:05:23.098Z"
   },
   {
    "duration": 20,
    "start_time": "2023-04-17T10:05:23.118Z"
   },
   {
    "duration": 21,
    "start_time": "2023-04-17T10:05:23.140Z"
   },
   {
    "duration": 16,
    "start_time": "2023-04-17T10:05:23.163Z"
   },
   {
    "duration": 15,
    "start_time": "2023-04-17T10:05:23.181Z"
   },
   {
    "duration": 42,
    "start_time": "2023-04-17T10:05:23.197Z"
   },
   {
    "duration": 14,
    "start_time": "2023-04-17T10:05:23.241Z"
   },
   {
    "duration": 15,
    "start_time": "2023-04-17T10:05:23.259Z"
   },
   {
    "duration": 5,
    "start_time": "2023-04-17T10:06:14.169Z"
   },
   {
    "duration": 3,
    "start_time": "2023-04-17T10:06:44.927Z"
   },
   {
    "duration": 58,
    "start_time": "2023-04-17T10:06:44.933Z"
   },
   {
    "duration": 16,
    "start_time": "2023-04-17T10:06:44.993Z"
   },
   {
    "duration": 40,
    "start_time": "2023-04-17T10:06:45.011Z"
   },
   {
    "duration": 14,
    "start_time": "2023-04-17T10:06:45.053Z"
   },
   {
    "duration": 15,
    "start_time": "2023-04-17T10:06:45.069Z"
   },
   {
    "duration": 9,
    "start_time": "2023-04-17T10:06:45.085Z"
   },
   {
    "duration": 5,
    "start_time": "2023-04-17T10:06:45.095Z"
   },
   {
    "duration": 17,
    "start_time": "2023-04-17T10:06:45.102Z"
   },
   {
    "duration": 13,
    "start_time": "2023-04-17T10:06:45.120Z"
   },
   {
    "duration": 12,
    "start_time": "2023-04-17T10:06:45.158Z"
   },
   {
    "duration": 9,
    "start_time": "2023-04-17T10:07:50.213Z"
   },
   {
    "duration": 6,
    "start_time": "2023-04-17T10:07:56.058Z"
   },
   {
    "duration": 4,
    "start_time": "2023-04-17T10:08:06.422Z"
   },
   {
    "duration": 15,
    "start_time": "2023-04-17T10:08:14.529Z"
   },
   {
    "duration": 5,
    "start_time": "2023-04-17T10:08:16.761Z"
   },
   {
    "duration": 4,
    "start_time": "2023-04-17T10:08:18.976Z"
   },
   {
    "duration": 4,
    "start_time": "2023-04-17T10:08:26.220Z"
   },
   {
    "duration": 65,
    "start_time": "2023-04-17T10:08:26.226Z"
   },
   {
    "duration": 19,
    "start_time": "2023-04-17T10:08:26.293Z"
   },
   {
    "duration": 18,
    "start_time": "2023-04-17T10:08:26.313Z"
   },
   {
    "duration": 27,
    "start_time": "2023-04-17T10:08:26.333Z"
   },
   {
    "duration": 16,
    "start_time": "2023-04-17T10:08:26.361Z"
   },
   {
    "duration": 7,
    "start_time": "2023-04-17T10:08:26.378Z"
   },
   {
    "duration": 8,
    "start_time": "2023-04-17T10:08:26.387Z"
   },
   {
    "duration": 8,
    "start_time": "2023-04-17T10:08:26.397Z"
   },
   {
    "duration": 53,
    "start_time": "2023-04-17T10:08:26.406Z"
   },
   {
    "duration": 23,
    "start_time": "2023-04-17T10:08:26.461Z"
   },
   {
    "duration": 19,
    "start_time": "2023-04-17T10:08:26.487Z"
   },
   {
    "duration": 8,
    "start_time": "2023-04-17T10:09:45.761Z"
   },
   {
    "duration": 12,
    "start_time": "2023-04-17T10:15:12.914Z"
   },
   {
    "duration": 10,
    "start_time": "2023-04-17T10:15:32.375Z"
   },
   {
    "duration": 12,
    "start_time": "2023-04-17T10:16:31.855Z"
   },
   {
    "duration": 12,
    "start_time": "2023-04-17T10:17:17.434Z"
   },
   {
    "duration": 8,
    "start_time": "2023-04-17T10:17:45.414Z"
   },
   {
    "duration": 20,
    "start_time": "2023-04-17T11:23:10.861Z"
   },
   {
    "duration": 6,
    "start_time": "2023-04-17T11:42:29.565Z"
   },
   {
    "duration": 8,
    "start_time": "2023-04-17T11:42:33.748Z"
   },
   {
    "duration": 10,
    "start_time": "2023-04-17T11:50:42.789Z"
   },
   {
    "duration": 11,
    "start_time": "2023-04-17T11:51:27.217Z"
   },
   {
    "duration": 199,
    "start_time": "2023-04-17T11:53:30.706Z"
   },
   {
    "duration": 14,
    "start_time": "2023-04-17T11:53:51.169Z"
   },
   {
    "duration": 15,
    "start_time": "2023-04-17T11:54:01.313Z"
   },
   {
    "duration": 191,
    "start_time": "2023-04-17T11:54:12.186Z"
   },
   {
    "duration": 12,
    "start_time": "2023-04-17T11:54:52.953Z"
   },
   {
    "duration": 12,
    "start_time": "2023-04-17T11:55:33.244Z"
   },
   {
    "duration": 14,
    "start_time": "2023-04-17T11:55:46.147Z"
   },
   {
    "duration": 13,
    "start_time": "2023-04-17T11:55:58.701Z"
   },
   {
    "duration": 20,
    "start_time": "2023-04-17T11:56:06.472Z"
   },
   {
    "duration": 5,
    "start_time": "2023-04-17T11:56:33.424Z"
   },
   {
    "duration": 3,
    "start_time": "2023-04-17T11:57:11.424Z"
   },
   {
    "duration": 14,
    "start_time": "2023-04-17T11:57:12.920Z"
   },
   {
    "duration": 23,
    "start_time": "2023-04-17T12:06:17.885Z"
   },
   {
    "duration": 20,
    "start_time": "2023-04-17T12:06:29.657Z"
   },
   {
    "duration": 55,
    "start_time": "2023-04-18T06:06:18.027Z"
   },
   {
    "duration": 905,
    "start_time": "2023-04-18T06:06:23.676Z"
   },
   {
    "duration": 207,
    "start_time": "2023-04-18T06:06:24.583Z"
   },
   {
    "duration": 28,
    "start_time": "2023-04-18T06:06:24.792Z"
   },
   {
    "duration": 24,
    "start_time": "2023-04-18T06:06:24.822Z"
   },
   {
    "duration": 18,
    "start_time": "2023-04-18T06:06:24.848Z"
   },
   {
    "duration": 18,
    "start_time": "2023-04-18T06:06:24.868Z"
   },
   {
    "duration": 5,
    "start_time": "2023-04-18T06:06:24.888Z"
   },
   {
    "duration": 10,
    "start_time": "2023-04-18T06:06:24.894Z"
   },
   {
    "duration": 24,
    "start_time": "2023-04-18T06:06:24.905Z"
   },
   {
    "duration": 32,
    "start_time": "2023-04-18T06:06:24.931Z"
   },
   {
    "duration": 9,
    "start_time": "2023-04-18T06:06:24.965Z"
   },
   {
    "duration": 25,
    "start_time": "2023-04-18T06:06:24.976Z"
   },
   {
    "duration": 6,
    "start_time": "2023-04-18T06:06:25.003Z"
   },
   {
    "duration": 26,
    "start_time": "2023-04-18T06:06:25.012Z"
   },
   {
    "duration": 41,
    "start_time": "2023-04-18T06:06:25.040Z"
   },
   {
    "duration": 7,
    "start_time": "2023-04-18T06:06:25.083Z"
   },
   {
    "duration": 11,
    "start_time": "2023-04-18T06:06:43.276Z"
   },
   {
    "duration": 19,
    "start_time": "2023-04-18T06:07:39.040Z"
   },
   {
    "duration": 578,
    "start_time": "2023-04-18T06:10:22.873Z"
   },
   {
    "duration": 452,
    "start_time": "2023-04-18T06:14:24.506Z"
   },
   {
    "duration": 355,
    "start_time": "2023-04-18T06:14:43.377Z"
   },
   {
    "duration": 61,
    "start_time": "2023-04-18T06:15:54.014Z"
   },
   {
    "duration": 902,
    "start_time": "2023-04-18T06:16:12.726Z"
   },
   {
    "duration": 202,
    "start_time": "2023-04-18T06:16:35.616Z"
   },
   {
    "duration": 938,
    "start_time": "2023-04-18T06:18:58.742Z"
   },
   {
    "duration": 743,
    "start_time": "2023-04-18T06:19:46.693Z"
   },
   {
    "duration": 882,
    "start_time": "2023-04-18T06:20:00.277Z"
   },
   {
    "duration": 31280,
    "start_time": "2023-04-18T06:20:13.990Z"
   },
   {
    "duration": 359,
    "start_time": "2023-04-18T06:20:51.111Z"
   },
   {
    "duration": 42,
    "start_time": "2023-04-18T06:21:15.909Z"
   },
   {
    "duration": 1285,
    "start_time": "2023-04-18T06:21:34.757Z"
   },
   {
    "duration": 393,
    "start_time": "2023-04-18T06:21:48.789Z"
   },
   {
    "duration": 397,
    "start_time": "2023-04-18T06:22:51.901Z"
   },
   {
    "duration": 16,
    "start_time": "2023-04-18T06:33:21.450Z"
   },
   {
    "duration": 9,
    "start_time": "2023-04-18T06:33:43.104Z"
   },
   {
    "duration": 298,
    "start_time": "2023-04-18T06:33:52.417Z"
   },
   {
    "duration": 10,
    "start_time": "2023-04-18T06:33:55.681Z"
   },
   {
    "duration": 7,
    "start_time": "2023-04-18T06:35:16.715Z"
   },
   {
    "duration": 4,
    "start_time": "2023-04-18T06:35:32.013Z"
   },
   {
    "duration": 96,
    "start_time": "2023-04-18T06:35:32.019Z"
   },
   {
    "duration": 18,
    "start_time": "2023-04-18T06:35:32.117Z"
   },
   {
    "duration": 18,
    "start_time": "2023-04-18T06:35:32.137Z"
   },
   {
    "duration": 27,
    "start_time": "2023-04-18T06:35:32.159Z"
   },
   {
    "duration": 22,
    "start_time": "2023-04-18T06:35:32.188Z"
   },
   {
    "duration": 25,
    "start_time": "2023-04-18T06:35:32.212Z"
   },
   {
    "duration": 26,
    "start_time": "2023-04-18T06:35:32.238Z"
   },
   {
    "duration": 17,
    "start_time": "2023-04-18T06:35:32.266Z"
   },
   {
    "duration": 42,
    "start_time": "2023-04-18T06:35:32.285Z"
   },
   {
    "duration": 18,
    "start_time": "2023-04-18T06:35:32.329Z"
   },
   {
    "duration": 31,
    "start_time": "2023-04-18T06:35:32.349Z"
   },
   {
    "duration": 19,
    "start_time": "2023-04-18T06:35:32.381Z"
   },
   {
    "duration": 25,
    "start_time": "2023-04-18T06:35:32.402Z"
   },
   {
    "duration": 25,
    "start_time": "2023-04-18T06:35:32.428Z"
   },
   {
    "duration": 22,
    "start_time": "2023-04-18T06:35:32.454Z"
   },
   {
    "duration": 375,
    "start_time": "2023-04-18T06:35:32.478Z"
   },
   {
    "duration": 8,
    "start_time": "2023-04-18T06:35:32.858Z"
   },
   {
    "duration": 9,
    "start_time": "2023-04-18T06:36:50.376Z"
   },
   {
    "duration": 377,
    "start_time": "2023-04-18T06:37:59.857Z"
   },
   {
    "duration": 7,
    "start_time": "2023-04-18T06:38:07.514Z"
   },
   {
    "duration": 349,
    "start_time": "2023-04-18T06:38:22.944Z"
   },
   {
    "duration": 8,
    "start_time": "2023-04-18T06:39:39.919Z"
   },
   {
    "duration": 339,
    "start_time": "2023-04-18T06:39:51.676Z"
   },
   {
    "duration": 343,
    "start_time": "2023-04-18T06:39:58.224Z"
   },
   {
    "duration": 11,
    "start_time": "2023-04-18T06:40:06.087Z"
   },
   {
    "duration": 821,
    "start_time": "2023-04-18T06:40:25.614Z"
   },
   {
    "duration": 57,
    "start_time": "2023-04-18T06:40:26.437Z"
   },
   {
    "duration": 23,
    "start_time": "2023-04-18T06:40:26.496Z"
   },
   {
    "duration": 20,
    "start_time": "2023-04-18T06:40:26.521Z"
   },
   {
    "duration": 24,
    "start_time": "2023-04-18T06:40:26.544Z"
   },
   {
    "duration": 29,
    "start_time": "2023-04-18T06:40:26.570Z"
   },
   {
    "duration": 7,
    "start_time": "2023-04-18T06:40:26.601Z"
   },
   {
    "duration": 11,
    "start_time": "2023-04-18T06:40:26.610Z"
   },
   {
    "duration": 21,
    "start_time": "2023-04-18T06:40:26.623Z"
   },
   {
    "duration": 20,
    "start_time": "2023-04-18T06:40:26.646Z"
   },
   {
    "duration": 10,
    "start_time": "2023-04-18T06:40:26.668Z"
   },
   {
    "duration": 16,
    "start_time": "2023-04-18T06:40:26.680Z"
   },
   {
    "duration": 10,
    "start_time": "2023-04-18T06:40:26.698Z"
   },
   {
    "duration": 20,
    "start_time": "2023-04-18T06:40:26.711Z"
   },
   {
    "duration": 40,
    "start_time": "2023-04-18T06:40:26.733Z"
   },
   {
    "duration": 14,
    "start_time": "2023-04-18T06:40:26.775Z"
   },
   {
    "duration": 608,
    "start_time": "2023-04-18T06:40:26.790Z"
   },
   {
    "duration": 12,
    "start_time": "2023-04-18T06:40:27.400Z"
   },
   {
    "duration": 7,
    "start_time": "2023-04-18T06:41:17.224Z"
   },
   {
    "duration": 6,
    "start_time": "2023-04-18T06:41:23.240Z"
   },
   {
    "duration": 8,
    "start_time": "2023-04-18T06:41:24.680Z"
   },
   {
    "duration": 14,
    "start_time": "2023-04-18T06:41:54.904Z"
   },
   {
    "duration": 12,
    "start_time": "2023-04-18T06:42:24.319Z"
   },
   {
    "duration": 340,
    "start_time": "2023-04-18T06:42:50.680Z"
   },
   {
    "duration": 12,
    "start_time": "2023-04-18T06:43:29.455Z"
   },
   {
    "duration": 19,
    "start_time": "2023-04-18T06:46:27.286Z"
   },
   {
    "duration": 354,
    "start_time": "2023-04-18T06:46:34.152Z"
   },
   {
    "duration": 866,
    "start_time": "2023-04-18T06:46:52.824Z"
   },
   {
    "duration": 58,
    "start_time": "2023-04-18T06:46:53.693Z"
   },
   {
    "duration": 25,
    "start_time": "2023-04-18T06:46:53.752Z"
   },
   {
    "duration": 19,
    "start_time": "2023-04-18T06:46:53.779Z"
   },
   {
    "duration": 15,
    "start_time": "2023-04-18T06:46:53.800Z"
   },
   {
    "duration": 18,
    "start_time": "2023-04-18T06:46:53.816Z"
   },
   {
    "duration": 5,
    "start_time": "2023-04-18T06:46:53.861Z"
   },
   {
    "duration": 9,
    "start_time": "2023-04-18T06:46:53.869Z"
   },
   {
    "duration": 7,
    "start_time": "2023-04-18T06:46:53.879Z"
   },
   {
    "duration": 9,
    "start_time": "2023-04-18T06:46:53.887Z"
   },
   {
    "duration": 11,
    "start_time": "2023-04-18T06:46:53.898Z"
   },
   {
    "duration": 15,
    "start_time": "2023-04-18T06:46:53.911Z"
   },
   {
    "duration": 6,
    "start_time": "2023-04-18T06:46:53.959Z"
   },
   {
    "duration": 27,
    "start_time": "2023-04-18T06:46:53.967Z"
   },
   {
    "duration": 20,
    "start_time": "2023-04-18T06:46:53.995Z"
   },
   {
    "duration": 13,
    "start_time": "2023-04-18T06:46:54.016Z"
   },
   {
    "duration": 616,
    "start_time": "2023-04-18T06:46:54.030Z"
   },
   {
    "duration": 16,
    "start_time": "2023-04-18T06:46:54.648Z"
   },
   {
    "duration": 310,
    "start_time": "2023-04-18T06:46:54.665Z"
   },
   {
    "duration": 341,
    "start_time": "2023-04-18T06:52:26.805Z"
   },
   {
    "duration": 465,
    "start_time": "2023-04-18T06:53:30.305Z"
   },
   {
    "duration": 356,
    "start_time": "2023-04-18T06:54:00.477Z"
   },
   {
    "duration": 9,
    "start_time": "2023-04-18T06:59:48.984Z"
   },
   {
    "duration": 3,
    "start_time": "2023-04-18T07:01:18.371Z"
   },
   {
    "duration": 420,
    "start_time": "2023-04-18T07:01:24.659Z"
   },
   {
    "duration": 443,
    "start_time": "2023-04-18T07:03:36.683Z"
   },
   {
    "duration": 475,
    "start_time": "2023-04-18T07:04:15.412Z"
   },
   {
    "duration": 443,
    "start_time": "2023-04-18T07:05:12.580Z"
   },
   {
    "duration": 205,
    "start_time": "2023-04-18T07:05:31.514Z"
   },
   {
    "duration": 475,
    "start_time": "2023-04-18T07:09:41.824Z"
   },
   {
    "duration": 331,
    "start_time": "2023-04-18T07:13:20.775Z"
   },
   {
    "duration": 610,
    "start_time": "2023-04-18T07:39:55.207Z"
   },
   {
    "duration": 303,
    "start_time": "2023-04-18T07:40:27.358Z"
   },
   {
    "duration": 529,
    "start_time": "2023-04-18T07:40:54.413Z"
   },
   {
    "duration": 309,
    "start_time": "2023-04-18T07:41:06.269Z"
   },
   {
    "duration": 58,
    "start_time": "2023-04-18T08:09:56.917Z"
   },
   {
    "duration": 221,
    "start_time": "2023-04-18T08:10:24.622Z"
   },
   {
    "duration": 9,
    "start_time": "2023-04-18T08:12:48.031Z"
   },
   {
    "duration": 8,
    "start_time": "2023-04-18T08:14:09.484Z"
   },
   {
    "duration": 14,
    "start_time": "2023-04-18T08:14:24.676Z"
   },
   {
    "duration": 13,
    "start_time": "2023-04-18T08:15:04.111Z"
   },
   {
    "duration": 32,
    "start_time": "2023-04-18T08:22:34.146Z"
   },
   {
    "duration": 1353,
    "start_time": "2023-04-18T08:23:25.843Z"
   },
   {
    "duration": 1038,
    "start_time": "2023-04-18T08:23:52.274Z"
   },
   {
    "duration": 1299,
    "start_time": "2023-04-18T08:24:06.129Z"
   },
   {
    "duration": 6,
    "start_time": "2023-04-18T08:38:50.581Z"
   },
   {
    "duration": 830,
    "start_time": "2023-04-18T08:43:01.924Z"
   },
   {
    "duration": 8,
    "start_time": "2023-04-18T08:43:15.668Z"
   },
   {
    "duration": 285,
    "start_time": "2023-04-18T08:52:25.778Z"
   },
   {
    "duration": 6,
    "start_time": "2023-04-18T09:05:16.638Z"
   },
   {
    "duration": 2826,
    "start_time": "2023-04-18T09:06:53.626Z"
   },
   {
    "duration": 216,
    "start_time": "2023-04-18T09:07:40.618Z"
   },
   {
    "duration": 1598,
    "start_time": "2023-04-18T09:10:27.581Z"
   },
   {
    "duration": 1685,
    "start_time": "2023-04-18T09:11:42.260Z"
   },
   {
    "duration": 49,
    "start_time": "2023-04-18T09:30:53.455Z"
   },
   {
    "duration": 486,
    "start_time": "2023-04-18T09:36:06.844Z"
   },
   {
    "duration": 16,
    "start_time": "2023-04-18T09:36:34.157Z"
   },
   {
    "duration": 16,
    "start_time": "2023-04-18T09:36:57.644Z"
   },
   {
    "duration": 21,
    "start_time": "2023-04-18T09:45:15.339Z"
   },
   {
    "duration": 1265,
    "start_time": "2023-04-18T13:22:02.320Z"
   },
   {
    "duration": 1173,
    "start_time": "2023-04-18T13:22:18.429Z"
   },
   {
    "duration": 91,
    "start_time": "2023-04-18T13:22:19.604Z"
   },
   {
    "duration": 26,
    "start_time": "2023-04-18T13:22:19.697Z"
   },
   {
    "duration": 18,
    "start_time": "2023-04-18T13:22:19.725Z"
   },
   {
    "duration": 19,
    "start_time": "2023-04-18T13:22:19.745Z"
   },
   {
    "duration": 16,
    "start_time": "2023-04-18T13:22:19.768Z"
   },
   {
    "duration": 9,
    "start_time": "2023-04-18T13:22:19.786Z"
   },
   {
    "duration": 15,
    "start_time": "2023-04-18T13:22:19.797Z"
   },
   {
    "duration": 21,
    "start_time": "2023-04-18T13:22:19.814Z"
   },
   {
    "duration": 36,
    "start_time": "2023-04-18T13:22:19.837Z"
   },
   {
    "duration": 9,
    "start_time": "2023-04-18T13:22:19.875Z"
   },
   {
    "duration": 15,
    "start_time": "2023-04-18T13:22:19.886Z"
   },
   {
    "duration": 4,
    "start_time": "2023-04-18T13:22:19.903Z"
   },
   {
    "duration": 20,
    "start_time": "2023-04-18T13:22:19.911Z"
   },
   {
    "duration": 1148,
    "start_time": "2023-04-18T13:22:19.933Z"
   },
   {
    "duration": 30,
    "start_time": "2023-04-18T13:22:21.083Z"
   },
   {
    "duration": 85,
    "start_time": "2023-04-18T13:22:21.116Z"
   },
   {
    "duration": 473,
    "start_time": "2023-04-18T13:22:21.202Z"
   },
   {
    "duration": 10,
    "start_time": "2023-04-18T13:22:21.678Z"
   },
   {
    "duration": 336,
    "start_time": "2023-04-18T13:22:21.690Z"
   },
   {
    "duration": 324,
    "start_time": "2023-04-18T13:22:22.028Z"
   },
   {
    "duration": 18,
    "start_time": "2023-04-18T13:22:22.354Z"
   },
   {
    "duration": 1108,
    "start_time": "2023-04-18T13:22:22.374Z"
   },
   {
    "duration": 235,
    "start_time": "2023-04-18T13:22:23.484Z"
   },
   {
    "duration": 1729,
    "start_time": "2023-04-18T13:22:23.721Z"
   },
   {
    "duration": 110,
    "start_time": "2023-04-18T13:22:25.459Z"
   },
   {
    "duration": 9,
    "start_time": "2023-04-18T13:25:22.101Z"
   },
   {
    "duration": 123,
    "start_time": "2023-04-18T13:26:42.308Z"
   },
   {
    "duration": 152,
    "start_time": "2023-04-18T13:27:30.225Z"
   },
   {
    "duration": 228,
    "start_time": "2023-04-18T13:27:47.098Z"
   },
   {
    "duration": 115,
    "start_time": "2023-04-18T13:29:16.323Z"
   },
   {
    "duration": 128,
    "start_time": "2023-04-18T13:29:45.548Z"
   },
   {
    "duration": 122,
    "start_time": "2023-04-18T13:30:02.905Z"
   },
   {
    "duration": 132,
    "start_time": "2023-04-18T13:30:39.359Z"
   },
   {
    "duration": 98,
    "start_time": "2023-04-18T13:30:54.442Z"
   },
   {
    "duration": 30,
    "start_time": "2023-04-18T13:35:52.865Z"
   },
   {
    "duration": 17,
    "start_time": "2023-04-18T13:36:12.618Z"
   },
   {
    "duration": 113,
    "start_time": "2023-04-18T13:37:36.554Z"
   },
   {
    "duration": 30,
    "start_time": "2023-04-18T13:39:05.590Z"
   },
   {
    "duration": 489,
    "start_time": "2023-04-18T13:39:12.042Z"
   },
   {
    "duration": 102,
    "start_time": "2023-04-18T13:46:50.519Z"
   },
   {
    "duration": 139,
    "start_time": "2023-04-18T13:53:53.493Z"
   },
   {
    "duration": 186,
    "start_time": "2023-04-18T13:54:27.796Z"
   },
   {
    "duration": 103,
    "start_time": "2023-04-18T13:54:32.213Z"
   },
   {
    "duration": 13,
    "start_time": "2023-04-18T15:20:07.229Z"
   },
   {
    "duration": 136,
    "start_time": "2023-04-18T15:20:28.371Z"
   },
   {
    "duration": 136,
    "start_time": "2023-04-18T15:21:34.062Z"
   },
   {
    "duration": 26,
    "start_time": "2023-04-18T15:26:10.355Z"
   },
   {
    "duration": 140,
    "start_time": "2023-04-18T15:29:24.011Z"
   },
   {
    "duration": 159,
    "start_time": "2023-04-18T15:29:47.266Z"
   },
   {
    "duration": 178,
    "start_time": "2023-04-18T15:30:22.368Z"
   },
   {
    "duration": 173,
    "start_time": "2023-04-18T15:33:03.554Z"
   },
   {
    "duration": 6,
    "start_time": "2023-04-18T15:46:18.304Z"
   },
   {
    "duration": 7,
    "start_time": "2023-04-18T15:46:28.659Z"
   },
   {
    "duration": 138,
    "start_time": "2023-04-18T15:47:38.115Z"
   },
   {
    "duration": 151,
    "start_time": "2023-04-18T15:49:26.810Z"
   },
   {
    "duration": 146,
    "start_time": "2023-04-18T15:49:58.563Z"
   },
   {
    "duration": 11,
    "start_time": "2023-04-18T16:08:38.543Z"
   },
   {
    "duration": 56,
    "start_time": "2023-04-18T16:08:45.323Z"
   },
   {
    "duration": 207,
    "start_time": "2023-04-18T16:12:25.927Z"
   },
   {
    "duration": 264,
    "start_time": "2023-04-18T16:12:41.045Z"
   },
   {
    "duration": 4114,
    "start_time": "2023-04-18T16:17:41.452Z"
   },
   {
    "duration": 724,
    "start_time": "2023-04-18T16:25:43.137Z"
   },
   {
    "duration": 372,
    "start_time": "2023-04-18T16:26:37.730Z"
   },
   {
    "duration": 15,
    "start_time": "2023-04-18T16:26:53.926Z"
   },
   {
    "duration": 558,
    "start_time": "2023-04-18T16:27:17.431Z"
   },
   {
    "duration": 16,
    "start_time": "2023-04-18T16:27:29.153Z"
   },
   {
    "duration": 704,
    "start_time": "2023-04-18T16:28:56.485Z"
   },
   {
    "duration": 16,
    "start_time": "2023-04-18T16:32:45.322Z"
   },
   {
    "duration": 786,
    "start_time": "2023-04-18T16:33:21.718Z"
   },
   {
    "duration": 229,
    "start_time": "2023-04-18T16:33:49.918Z"
   },
   {
    "duration": 698,
    "start_time": "2023-04-18T16:34:23.422Z"
   },
   {
    "duration": 18,
    "start_time": "2023-04-18T17:07:59.714Z"
   },
   {
    "duration": 275,
    "start_time": "2023-04-18T17:09:29.773Z"
   },
   {
    "duration": 28612,
    "start_time": "2023-04-18T17:10:00.722Z"
   },
   {
    "duration": 1221,
    "start_time": "2023-04-18T17:12:17.372Z"
   },
   {
    "duration": 180,
    "start_time": "2023-04-18T17:12:18.595Z"
   },
   {
    "duration": 21,
    "start_time": "2023-04-18T17:12:18.777Z"
   },
   {
    "duration": 20,
    "start_time": "2023-04-18T17:12:18.800Z"
   },
   {
    "duration": 42,
    "start_time": "2023-04-18T17:12:18.823Z"
   },
   {
    "duration": 22,
    "start_time": "2023-04-18T17:12:18.868Z"
   },
   {
    "duration": 29,
    "start_time": "2023-04-18T17:12:18.892Z"
   },
   {
    "duration": 29,
    "start_time": "2023-04-18T17:12:18.922Z"
   },
   {
    "duration": 32,
    "start_time": "2023-04-18T17:12:18.953Z"
   },
   {
    "duration": 46,
    "start_time": "2023-04-18T17:12:18.987Z"
   },
   {
    "duration": 22,
    "start_time": "2023-04-18T17:12:19.035Z"
   },
   {
    "duration": 29,
    "start_time": "2023-04-18T17:12:19.059Z"
   },
   {
    "duration": 9,
    "start_time": "2023-04-18T17:12:19.090Z"
   },
   {
    "duration": 23,
    "start_time": "2023-04-18T17:12:19.102Z"
   },
   {
    "duration": 1299,
    "start_time": "2023-04-18T17:12:19.127Z"
   },
   {
    "duration": 199,
    "start_time": "2023-04-18T17:12:20.429Z"
   },
   {
    "duration": 30,
    "start_time": "2023-04-18T17:12:20.630Z"
   },
   {
    "duration": 19,
    "start_time": "2023-04-18T17:12:20.662Z"
   },
   {
    "duration": 393,
    "start_time": "2023-04-18T17:12:20.683Z"
   },
   {
    "duration": 7,
    "start_time": "2023-04-18T17:12:21.078Z"
   },
   {
    "duration": 322,
    "start_time": "2023-04-18T17:12:21.087Z"
   },
   {
    "duration": 318,
    "start_time": "2023-04-18T17:12:21.410Z"
   },
   {
    "duration": 14,
    "start_time": "2023-04-18T17:12:21.730Z"
   },
   {
    "duration": 1201,
    "start_time": "2023-04-18T17:12:21.746Z"
   },
   {
    "duration": 236,
    "start_time": "2023-04-18T17:12:22.949Z"
   },
   {
    "duration": 1739,
    "start_time": "2023-04-18T17:12:23.186Z"
   },
   {
    "duration": 111,
    "start_time": "2023-04-18T17:12:24.927Z"
   },
   {
    "duration": 119,
    "start_time": "2023-04-18T17:12:25.040Z"
   },
   {
    "duration": 151,
    "start_time": "2023-04-18T17:12:25.161Z"
   },
   {
    "duration": 147,
    "start_time": "2023-04-18T17:12:25.314Z"
   },
   {
    "duration": 668,
    "start_time": "2023-04-18T17:12:25.463Z"
   },
   {
    "duration": 31,
    "start_time": "2023-04-18T17:12:26.133Z"
   },
   {
    "duration": 0,
    "start_time": "2023-04-18T17:13:18.148Z"
   },
   {
    "duration": 3058,
    "start_time": "2023-04-18T17:13:22.014Z"
   },
   {
    "duration": 27,
    "start_time": "2023-04-18T17:21:04.130Z"
   },
   {
    "duration": 49,
    "start_time": "2023-04-18T17:21:38.745Z"
   },
   {
    "duration": 36,
    "start_time": "2023-04-18T17:22:03.078Z"
   },
   {
    "duration": 44,
    "start_time": "2023-04-18T17:22:24.336Z"
   },
   {
    "duration": 1228,
    "start_time": "2023-04-19T09:30:15.862Z"
   },
   {
    "duration": 192,
    "start_time": "2023-04-19T09:30:17.092Z"
   },
   {
    "duration": 17,
    "start_time": "2023-04-19T09:30:17.286Z"
   },
   {
    "duration": 12,
    "start_time": "2023-04-19T09:30:17.305Z"
   },
   {
    "duration": 11,
    "start_time": "2023-04-19T09:30:17.319Z"
   },
   {
    "duration": 17,
    "start_time": "2023-04-19T09:30:17.331Z"
   },
   {
    "duration": 7,
    "start_time": "2023-04-19T09:30:17.349Z"
   },
   {
    "duration": 7,
    "start_time": "2023-04-19T09:30:17.357Z"
   },
   {
    "duration": 6,
    "start_time": "2023-04-19T09:30:17.366Z"
   },
   {
    "duration": 8,
    "start_time": "2023-04-19T09:30:17.374Z"
   },
   {
    "duration": 6,
    "start_time": "2023-04-19T09:30:17.383Z"
   },
   {
    "duration": 14,
    "start_time": "2023-04-19T09:30:17.390Z"
   },
   {
    "duration": 4,
    "start_time": "2023-04-19T09:30:17.405Z"
   },
   {
    "duration": 20,
    "start_time": "2023-04-19T09:30:17.439Z"
   },
   {
    "duration": 1040,
    "start_time": "2023-04-19T09:30:17.460Z"
   },
   {
    "duration": 187,
    "start_time": "2023-04-19T09:30:18.502Z"
   },
   {
    "duration": 17,
    "start_time": "2023-04-19T09:30:18.691Z"
   },
   {
    "duration": 12,
    "start_time": "2023-04-19T09:30:18.710Z"
   },
   {
    "duration": 384,
    "start_time": "2023-04-19T09:30:18.723Z"
   },
   {
    "duration": 8,
    "start_time": "2023-04-19T09:30:19.109Z"
   },
   {
    "duration": 285,
    "start_time": "2023-04-19T09:30:19.119Z"
   },
   {
    "duration": 278,
    "start_time": "2023-04-19T09:30:19.406Z"
   },
   {
    "duration": 15,
    "start_time": "2023-04-19T09:30:19.686Z"
   },
   {
    "duration": 1123,
    "start_time": "2023-04-19T09:30:19.703Z"
   },
   {
    "duration": 212,
    "start_time": "2023-04-19T09:30:20.827Z"
   },
   {
    "duration": 1625,
    "start_time": "2023-04-19T09:30:21.041Z"
   },
   {
    "duration": 118,
    "start_time": "2023-04-19T09:30:22.668Z"
   },
   {
    "duration": 127,
    "start_time": "2023-04-19T09:30:22.788Z"
   },
   {
    "duration": 451,
    "start_time": "2023-04-19T09:30:22.917Z"
   },
   {
    "duration": 127,
    "start_time": "2023-04-19T09:30:23.370Z"
   },
   {
    "duration": 124,
    "start_time": "2023-04-19T09:30:23.499Z"
   },
   {
    "duration": 658,
    "start_time": "2023-04-19T09:30:23.625Z"
   },
   {
    "duration": 16,
    "start_time": "2023-04-19T09:30:24.285Z"
   },
   {
    "duration": 116,
    "start_time": "2023-04-19T09:30:24.302Z"
   },
   {
    "duration": 43,
    "start_time": "2023-04-19T09:30:24.420Z"
   },
   {
    "duration": 32,
    "start_time": "2023-04-19T09:30:24.464Z"
   },
   {
    "duration": 1442,
    "start_time": "2023-04-19T09:30:34.830Z"
   },
   {
    "duration": 1560,
    "start_time": "2023-04-19T09:35:10.340Z"
   },
   {
    "duration": 41,
    "start_time": "2023-04-19T10:56:57.258Z"
   },
   {
    "duration": 37,
    "start_time": "2023-04-19T10:57:43.384Z"
   },
   {
    "duration": 4,
    "start_time": "2023-04-19T11:21:49.521Z"
   },
   {
    "duration": 349,
    "start_time": "2023-04-19T11:23:15.010Z"
   },
   {
    "duration": 480,
    "start_time": "2023-04-19T11:23:39.201Z"
   },
   {
    "duration": 414,
    "start_time": "2023-04-19T11:28:38.120Z"
   },
   {
    "duration": 350,
    "start_time": "2023-04-19T11:28:54.536Z"
   },
   {
    "duration": 337,
    "start_time": "2023-04-19T11:29:08.031Z"
   },
   {
    "duration": 90,
    "start_time": "2023-04-19T11:36:05.670Z"
   },
   {
    "duration": 177,
    "start_time": "2023-04-19T11:36:16.126Z"
   },
   {
    "duration": 101,
    "start_time": "2023-04-19T11:37:10.877Z"
   },
   {
    "duration": 100,
    "start_time": "2023-04-19T11:38:47.677Z"
   },
   {
    "duration": 111,
    "start_time": "2023-04-19T11:41:20.452Z"
   },
   {
    "duration": 16,
    "start_time": "2023-04-19T11:41:23.316Z"
   },
   {
    "duration": 12,
    "start_time": "2023-04-19T11:43:47.395Z"
   },
   {
    "duration": 94,
    "start_time": "2023-04-19T11:43:57.667Z"
   },
   {
    "duration": 89,
    "start_time": "2023-04-19T11:47:23.155Z"
   },
   {
    "duration": 86,
    "start_time": "2023-04-19T11:48:01.130Z"
   },
   {
    "duration": 1032,
    "start_time": "2023-04-19T11:50:03.073Z"
   },
   {
    "duration": 52,
    "start_time": "2023-04-19T11:50:04.107Z"
   },
   {
    "duration": 17,
    "start_time": "2023-04-19T11:50:04.161Z"
   },
   {
    "duration": 12,
    "start_time": "2023-04-19T11:50:04.180Z"
   },
   {
    "duration": 11,
    "start_time": "2023-04-19T11:50:04.193Z"
   },
   {
    "duration": 31,
    "start_time": "2023-04-19T11:50:04.205Z"
   },
   {
    "duration": 7,
    "start_time": "2023-04-19T11:50:04.238Z"
   },
   {
    "duration": 9,
    "start_time": "2023-04-19T11:50:04.247Z"
   },
   {
    "duration": 19,
    "start_time": "2023-04-19T11:50:04.257Z"
   },
   {
    "duration": 10,
    "start_time": "2023-04-19T11:50:04.279Z"
   },
   {
    "duration": 21,
    "start_time": "2023-04-19T11:50:04.290Z"
   },
   {
    "duration": 31,
    "start_time": "2023-04-19T11:50:04.312Z"
   },
   {
    "duration": 17,
    "start_time": "2023-04-19T11:50:04.344Z"
   },
   {
    "duration": 21,
    "start_time": "2023-04-19T11:50:04.363Z"
   },
   {
    "duration": 1015,
    "start_time": "2023-04-19T11:50:04.386Z"
   },
   {
    "duration": 170,
    "start_time": "2023-04-19T11:50:05.402Z"
   },
   {
    "duration": 19,
    "start_time": "2023-04-19T11:50:05.574Z"
   },
   {
    "duration": 13,
    "start_time": "2023-04-19T11:50:05.595Z"
   },
   {
    "duration": 319,
    "start_time": "2023-04-19T11:50:05.610Z"
   },
   {
    "duration": 7,
    "start_time": "2023-04-19T11:50:05.936Z"
   },
   {
    "duration": 262,
    "start_time": "2023-04-19T11:50:05.944Z"
   },
   {
    "duration": 264,
    "start_time": "2023-04-19T11:50:06.208Z"
   },
   {
    "duration": 10,
    "start_time": "2023-04-19T11:50:06.474Z"
   },
   {
    "duration": 974,
    "start_time": "2023-04-19T11:50:06.486Z"
   },
   {
    "duration": 196,
    "start_time": "2023-04-19T11:50:07.461Z"
   },
   {
    "duration": 1425,
    "start_time": "2023-04-19T11:50:07.660Z"
   },
   {
    "duration": 96,
    "start_time": "2023-04-19T11:50:09.087Z"
   },
   {
    "duration": 98,
    "start_time": "2023-04-19T11:50:09.186Z"
   },
   {
    "duration": 1435,
    "start_time": "2023-04-19T11:50:09.286Z"
   },
   {
    "duration": 126,
    "start_time": "2023-04-19T11:50:10.723Z"
   },
   {
    "duration": 135,
    "start_time": "2023-04-19T11:50:10.850Z"
   },
   {
    "duration": 609,
    "start_time": "2023-04-19T11:50:10.986Z"
   },
   {
    "duration": 25,
    "start_time": "2023-04-19T11:50:11.597Z"
   },
   {
    "duration": 46,
    "start_time": "2023-04-19T11:50:11.624Z"
   },
   {
    "duration": 44,
    "start_time": "2023-04-19T11:50:11.672Z"
   },
   {
    "duration": 44,
    "start_time": "2023-04-19T11:50:11.718Z"
   },
   {
    "duration": 28,
    "start_time": "2023-04-19T11:50:11.763Z"
   },
   {
    "duration": 44,
    "start_time": "2023-04-19T11:50:11.793Z"
   },
   {
    "duration": 19949,
    "start_time": "2023-04-19T11:50:11.838Z"
   },
   {
    "duration": 83785,
    "start_time": "2023-04-19T11:50:31.790Z"
   },
   {
    "duration": 73475,
    "start_time": "2023-04-19T11:51:55.577Z"
   },
   {
    "duration": 10,
    "start_time": "2023-04-19T11:53:09.056Z"
   },
   {
    "duration": 106,
    "start_time": "2023-04-19T11:53:09.068Z"
   },
   {
    "duration": 99,
    "start_time": "2023-04-19T11:53:09.175Z"
   },
   {
    "duration": 12079,
    "start_time": "2023-04-19T11:53:16.608Z"
   },
   {
    "duration": 90,
    "start_time": "2023-04-19T11:59:33.903Z"
   },
   {
    "duration": 21,
    "start_time": "2023-04-19T12:41:26.355Z"
   },
   {
    "duration": 123,
    "start_time": "2023-04-19T12:41:43.027Z"
   },
   {
    "duration": 137,
    "start_time": "2023-04-19T12:41:47.266Z"
   },
   {
    "duration": 45,
    "start_time": "2023-04-19T12:45:43.443Z"
   },
   {
    "duration": 10,
    "start_time": "2023-04-19T12:46:03.392Z"
   },
   {
    "duration": 11,
    "start_time": "2023-04-19T12:46:08.545Z"
   },
   {
    "duration": 87,
    "start_time": "2023-04-19T12:46:10.771Z"
   },
   {
    "duration": 99,
    "start_time": "2023-04-19T12:46:58.105Z"
   },
   {
    "duration": 15,
    "start_time": "2023-04-19T13:05:09.811Z"
   },
   {
    "duration": 112,
    "start_time": "2023-04-19T13:07:16.939Z"
   },
   {
    "duration": 139,
    "start_time": "2023-04-19T13:09:10.346Z"
   },
   {
    "duration": 49,
    "start_time": "2023-04-19T13:21:50.240Z"
   },
   {
    "duration": 21,
    "start_time": "2023-04-19T13:23:56.822Z"
   },
   {
    "duration": 12,
    "start_time": "2023-04-19T13:25:57.746Z"
   },
   {
    "duration": 865,
    "start_time": "2023-04-19T13:27:17.291Z"
   },
   {
    "duration": 12,
    "start_time": "2023-04-19T13:29:01.269Z"
   },
   {
    "duration": 17,
    "start_time": "2023-04-19T13:31:26.333Z"
   },
   {
    "duration": 11,
    "start_time": "2023-04-19T13:32:18.896Z"
   },
   {
    "duration": 12,
    "start_time": "2023-04-19T13:32:28.620Z"
   },
   {
    "duration": 24,
    "start_time": "2023-04-19T13:32:43.699Z"
   },
   {
    "duration": 9710,
    "start_time": "2023-04-19T13:37:29.380Z"
   },
   {
    "duration": 94,
    "start_time": "2023-04-19T13:38:18.003Z"
   },
   {
    "duration": 105,
    "start_time": "2023-04-19T13:41:00.384Z"
   },
   {
    "duration": 48,
    "start_time": "2023-04-19T13:48:06.576Z"
   },
   {
    "duration": 100,
    "start_time": "2023-04-19T13:54:05.806Z"
   },
   {
    "duration": 1126,
    "start_time": "2023-04-19T16:06:19.645Z"
   },
   {
    "duration": 53,
    "start_time": "2023-04-19T16:06:20.772Z"
   },
   {
    "duration": 20,
    "start_time": "2023-04-19T16:06:20.827Z"
   },
   {
    "duration": 22,
    "start_time": "2023-04-19T16:06:20.848Z"
   },
   {
    "duration": 27,
    "start_time": "2023-04-19T16:06:20.872Z"
   },
   {
    "duration": 44,
    "start_time": "2023-04-19T16:06:20.901Z"
   },
   {
    "duration": 31,
    "start_time": "2023-04-19T16:06:20.947Z"
   },
   {
    "duration": 22,
    "start_time": "2023-04-19T16:06:20.980Z"
   },
   {
    "duration": 31,
    "start_time": "2023-04-19T16:06:21.003Z"
   },
   {
    "duration": 29,
    "start_time": "2023-04-19T16:06:21.036Z"
   },
   {
    "duration": 15,
    "start_time": "2023-04-19T16:06:21.067Z"
   },
   {
    "duration": 32,
    "start_time": "2023-04-19T16:06:21.084Z"
   },
   {
    "duration": 17,
    "start_time": "2023-04-19T16:06:21.119Z"
   },
   {
    "duration": 42,
    "start_time": "2023-04-19T16:06:21.140Z"
   },
   {
    "duration": 1112,
    "start_time": "2023-04-19T16:06:21.184Z"
   },
   {
    "duration": 257,
    "start_time": "2023-04-19T16:06:22.298Z"
   },
   {
    "duration": 24,
    "start_time": "2023-04-19T16:06:22.558Z"
   },
   {
    "duration": 14,
    "start_time": "2023-04-19T16:06:22.584Z"
   },
   {
    "duration": 385,
    "start_time": "2023-04-19T16:06:22.600Z"
   },
   {
    "duration": 7,
    "start_time": "2023-04-19T16:06:22.987Z"
   },
   {
    "duration": 298,
    "start_time": "2023-04-19T16:06:22.995Z"
   },
   {
    "duration": 316,
    "start_time": "2023-04-19T16:06:23.295Z"
   },
   {
    "duration": 24,
    "start_time": "2023-04-19T16:06:23.613Z"
   },
   {
    "duration": 1083,
    "start_time": "2023-04-19T16:06:23.639Z"
   },
   {
    "duration": 243,
    "start_time": "2023-04-19T16:06:24.724Z"
   },
   {
    "duration": 1673,
    "start_time": "2023-04-19T16:06:24.969Z"
   },
   {
    "duration": 118,
    "start_time": "2023-04-19T16:06:26.644Z"
   },
   {
    "duration": 115,
    "start_time": "2023-04-19T16:06:26.764Z"
   },
   {
    "duration": 1562,
    "start_time": "2023-04-19T16:06:26.880Z"
   },
   {
    "duration": 142,
    "start_time": "2023-04-19T16:06:28.444Z"
   },
   {
    "duration": 178,
    "start_time": "2023-04-19T16:06:28.588Z"
   },
   {
    "duration": 683,
    "start_time": "2023-04-19T16:06:28.768Z"
   },
   {
    "duration": 18,
    "start_time": "2023-04-19T16:06:29.453Z"
   },
   {
    "duration": 36,
    "start_time": "2023-04-19T16:06:29.473Z"
   },
   {
    "duration": 41,
    "start_time": "2023-04-19T16:06:29.511Z"
   },
   {
    "duration": 33,
    "start_time": "2023-04-19T16:06:29.555Z"
   },
   {
    "duration": 47,
    "start_time": "2023-04-19T16:06:29.590Z"
   },
   {
    "duration": 32,
    "start_time": "2023-04-19T16:06:29.639Z"
   },
   {
    "duration": 11,
    "start_time": "2023-04-19T16:06:29.673Z"
   },
   {
    "duration": 137,
    "start_time": "2023-04-19T16:06:29.686Z"
   },
   {
    "duration": 210,
    "start_time": "2023-04-19T16:06:29.828Z"
   },
   {
    "duration": 12,
    "start_time": "2023-04-19T16:06:30.040Z"
   },
   {
    "duration": 121,
    "start_time": "2023-04-19T16:06:30.054Z"
   },
   {
    "duration": 111,
    "start_time": "2023-04-19T16:06:30.178Z"
   },
   {
    "duration": 12,
    "start_time": "2023-04-19T16:06:30.291Z"
   },
   {
    "duration": 121,
    "start_time": "2023-04-19T16:06:30.306Z"
   },
   {
    "duration": 126,
    "start_time": "2023-04-19T16:06:30.429Z"
   },
   {
    "duration": 140,
    "start_time": "2023-04-19T16:06:30.556Z"
   },
   {
    "duration": 2,
    "start_time": "2023-04-19T16:06:30.698Z"
   },
   {
    "duration": 10,
    "start_time": "2023-04-19T16:10:31.263Z"
   },
   {
    "duration": 15,
    "start_time": "2023-04-19T16:10:40.405Z"
   },
   {
    "duration": 15,
    "start_time": "2023-04-19T16:11:19.159Z"
   },
   {
    "duration": 47,
    "start_time": "2023-04-19T16:11:51.890Z"
   },
   {
    "duration": 17,
    "start_time": "2023-04-19T16:12:02.215Z"
   },
   {
    "duration": 16,
    "start_time": "2023-04-19T16:13:53.516Z"
   },
   {
    "duration": 814,
    "start_time": "2023-04-19T16:17:50.516Z"
   },
   {
    "duration": 880,
    "start_time": "2023-04-19T16:20:51.299Z"
   },
   {
    "duration": 11,
    "start_time": "2023-04-19T16:37:17.035Z"
   },
   {
    "duration": 8,
    "start_time": "2023-04-19T16:38:11.608Z"
   },
   {
    "duration": 8,
    "start_time": "2023-04-19T16:44:08.131Z"
   },
   {
    "duration": 9,
    "start_time": "2023-04-19T16:45:43.239Z"
   },
   {
    "duration": 10,
    "start_time": "2023-04-19T16:46:57.778Z"
   },
   {
    "duration": 10,
    "start_time": "2023-04-19T16:47:18.547Z"
   },
   {
    "duration": 8,
    "start_time": "2023-04-19T16:54:45.442Z"
   },
   {
    "duration": 10,
    "start_time": "2023-04-19T16:55:27.785Z"
   },
   {
    "duration": 1053,
    "start_time": "2023-04-19T16:56:16.363Z"
   },
   {
    "duration": 53,
    "start_time": "2023-04-19T16:56:17.418Z"
   },
   {
    "duration": 22,
    "start_time": "2023-04-19T16:56:17.473Z"
   },
   {
    "duration": 15,
    "start_time": "2023-04-19T16:56:17.496Z"
   },
   {
    "duration": 23,
    "start_time": "2023-04-19T16:56:17.513Z"
   },
   {
    "duration": 16,
    "start_time": "2023-04-19T16:56:17.538Z"
   },
   {
    "duration": 6,
    "start_time": "2023-04-19T16:56:17.556Z"
   },
   {
    "duration": 16,
    "start_time": "2023-04-19T16:56:17.563Z"
   },
   {
    "duration": 8,
    "start_time": "2023-04-19T16:56:17.580Z"
   },
   {
    "duration": 7,
    "start_time": "2023-04-19T16:56:17.589Z"
   },
   {
    "duration": 7,
    "start_time": "2023-04-19T16:56:17.598Z"
   },
   {
    "duration": 35,
    "start_time": "2023-04-19T16:56:17.607Z"
   },
   {
    "duration": 5,
    "start_time": "2023-04-19T16:56:17.644Z"
   },
   {
    "duration": 22,
    "start_time": "2023-04-19T16:56:17.652Z"
   },
   {
    "duration": 973,
    "start_time": "2023-04-19T16:56:17.675Z"
   },
   {
    "duration": 163,
    "start_time": "2023-04-19T16:56:18.649Z"
   },
   {
    "duration": 24,
    "start_time": "2023-04-19T16:56:18.813Z"
   },
   {
    "duration": 11,
    "start_time": "2023-04-19T16:56:18.838Z"
   },
   {
    "duration": 295,
    "start_time": "2023-04-19T16:56:18.850Z"
   },
   {
    "duration": 6,
    "start_time": "2023-04-19T16:56:19.147Z"
   },
   {
    "duration": 264,
    "start_time": "2023-04-19T16:56:19.154Z"
   },
   {
    "duration": 281,
    "start_time": "2023-04-19T16:56:19.420Z"
   },
   {
    "duration": 10,
    "start_time": "2023-04-19T16:56:19.703Z"
   },
   {
    "duration": 972,
    "start_time": "2023-04-19T16:56:19.714Z"
   },
   {
    "duration": 230,
    "start_time": "2023-04-19T16:56:20.687Z"
   },
   {
    "duration": 1555,
    "start_time": "2023-04-19T16:56:20.919Z"
   },
   {
    "duration": 108,
    "start_time": "2023-04-19T16:56:22.476Z"
   },
   {
    "duration": 112,
    "start_time": "2023-04-19T16:56:22.586Z"
   },
   {
    "duration": 1616,
    "start_time": "2023-04-19T16:56:22.700Z"
   },
   {
    "duration": 130,
    "start_time": "2023-04-19T16:56:24.317Z"
   },
   {
    "duration": 133,
    "start_time": "2023-04-19T16:56:24.449Z"
   },
   {
    "duration": 595,
    "start_time": "2023-04-19T16:56:24.584Z"
   },
   {
    "duration": 19,
    "start_time": "2023-04-19T16:56:25.180Z"
   },
   {
    "duration": 33,
    "start_time": "2023-04-19T16:56:25.200Z"
   },
   {
    "duration": 31,
    "start_time": "2023-04-19T16:56:25.235Z"
   },
   {
    "duration": 31,
    "start_time": "2023-04-19T16:56:25.268Z"
   },
   {
    "duration": 50,
    "start_time": "2023-04-19T16:56:25.301Z"
   },
   {
    "duration": 31,
    "start_time": "2023-04-19T16:56:25.353Z"
   },
   {
    "duration": 11,
    "start_time": "2023-04-19T16:56:25.386Z"
   },
   {
    "duration": 123,
    "start_time": "2023-04-19T16:56:25.398Z"
   },
   {
    "duration": 188,
    "start_time": "2023-04-19T16:56:25.525Z"
   },
   {
    "duration": 10,
    "start_time": "2023-04-19T16:56:25.715Z"
   },
   {
    "duration": 90,
    "start_time": "2023-04-19T16:56:25.727Z"
   },
   {
    "duration": 99,
    "start_time": "2023-04-19T16:56:25.819Z"
   },
   {
    "duration": 23,
    "start_time": "2023-04-19T16:56:25.919Z"
   },
   {
    "duration": 92,
    "start_time": "2023-04-19T16:56:25.944Z"
   },
   {
    "duration": 98,
    "start_time": "2023-04-19T16:56:26.038Z"
   },
   {
    "duration": 100,
    "start_time": "2023-04-19T16:56:26.137Z"
   },
   {
    "duration": 14,
    "start_time": "2023-04-19T16:56:26.239Z"
   },
   {
    "duration": 8,
    "start_time": "2023-04-19T16:56:26.254Z"
   },
   {
    "duration": 8,
    "start_time": "2023-04-19T16:56:26.264Z"
   },
   {
    "duration": 14,
    "start_time": "2023-04-19T16:58:10.320Z"
   },
   {
    "duration": 7,
    "start_time": "2023-04-19T17:04:11.518Z"
   },
   {
    "duration": 89,
    "start_time": "2023-04-19T17:05:05.391Z"
   },
   {
    "duration": 14,
    "start_time": "2023-04-19T17:05:14.463Z"
   },
   {
    "duration": 11,
    "start_time": "2023-04-19T17:05:27.630Z"
   },
   {
    "duration": 14,
    "start_time": "2023-04-19T17:05:54.525Z"
   },
   {
    "duration": 9,
    "start_time": "2023-04-19T17:05:59.822Z"
   },
   {
    "duration": 14,
    "start_time": "2023-04-19T17:06:12.398Z"
   },
   {
    "duration": 7,
    "start_time": "2023-04-19T17:06:25.942Z"
   },
   {
    "duration": 5,
    "start_time": "2023-04-19T17:07:11.781Z"
   },
   {
    "duration": 12,
    "start_time": "2023-04-19T17:07:12.845Z"
   },
   {
    "duration": 4,
    "start_time": "2023-04-19T17:08:01.926Z"
   },
   {
    "duration": 4,
    "start_time": "2023-04-19T17:08:26.886Z"
   },
   {
    "duration": 17,
    "start_time": "2023-04-19T17:18:29.082Z"
   },
   {
    "duration": 252,
    "start_time": "2023-04-19T17:18:57.979Z"
   },
   {
    "duration": 3,
    "start_time": "2023-04-19T17:19:10.226Z"
   },
   {
    "duration": 49,
    "start_time": "2023-04-19T17:19:10.231Z"
   },
   {
    "duration": 14,
    "start_time": "2023-04-19T17:19:10.281Z"
   },
   {
    "duration": 12,
    "start_time": "2023-04-19T17:19:10.297Z"
   },
   {
    "duration": 11,
    "start_time": "2023-04-19T17:19:10.310Z"
   },
   {
    "duration": 14,
    "start_time": "2023-04-19T17:19:10.322Z"
   },
   {
    "duration": 17,
    "start_time": "2023-04-19T17:19:10.337Z"
   },
   {
    "duration": 4,
    "start_time": "2023-04-19T17:19:10.355Z"
   },
   {
    "duration": 8,
    "start_time": "2023-04-19T17:19:10.360Z"
   },
   {
    "duration": 5,
    "start_time": "2023-04-19T17:19:10.369Z"
   },
   {
    "duration": 6,
    "start_time": "2023-04-19T17:19:10.375Z"
   },
   {
    "duration": 4,
    "start_time": "2023-04-19T17:19:10.382Z"
   },
   {
    "duration": 4,
    "start_time": "2023-04-19T17:19:10.388Z"
   },
   {
    "duration": 10,
    "start_time": "2023-04-19T17:19:10.395Z"
   },
   {
    "duration": 13,
    "start_time": "2023-04-19T17:19:10.436Z"
   },
   {
    "duration": 847,
    "start_time": "2023-04-19T17:19:10.450Z"
   },
   {
    "duration": 18,
    "start_time": "2023-04-19T17:19:11.299Z"
   },
   {
    "duration": 27,
    "start_time": "2023-04-19T17:19:11.319Z"
   },
   {
    "duration": 422,
    "start_time": "2023-04-19T17:19:11.348Z"
   },
   {
    "duration": 6,
    "start_time": "2023-04-19T17:19:11.772Z"
   },
   {
    "duration": 266,
    "start_time": "2023-04-19T17:19:11.779Z"
   },
   {
    "duration": 274,
    "start_time": "2023-04-19T17:19:12.047Z"
   },
   {
    "duration": 17,
    "start_time": "2023-04-19T17:19:12.323Z"
   },
   {
    "duration": 963,
    "start_time": "2023-04-19T17:19:12.341Z"
   },
   {
    "duration": 192,
    "start_time": "2023-04-19T17:19:13.306Z"
   },
   {
    "duration": 1430,
    "start_time": "2023-04-19T17:19:13.500Z"
   },
   {
    "duration": 91,
    "start_time": "2023-04-19T17:19:14.932Z"
   },
   {
    "duration": 99,
    "start_time": "2023-04-19T17:19:15.024Z"
   },
   {
    "duration": 1551,
    "start_time": "2023-04-19T17:19:15.135Z"
   },
   {
    "duration": 116,
    "start_time": "2023-04-19T17:19:16.688Z"
   },
   {
    "duration": 0,
    "start_time": "2023-04-19T17:19:16.806Z"
   },
   {
    "duration": 0,
    "start_time": "2023-04-19T17:19:16.807Z"
   },
   {
    "duration": 0,
    "start_time": "2023-04-19T17:19:16.808Z"
   },
   {
    "duration": 0,
    "start_time": "2023-04-19T17:19:16.809Z"
   },
   {
    "duration": 0,
    "start_time": "2023-04-19T17:19:16.810Z"
   },
   {
    "duration": 0,
    "start_time": "2023-04-19T17:19:16.811Z"
   },
   {
    "duration": 0,
    "start_time": "2023-04-19T17:19:16.812Z"
   },
   {
    "duration": 0,
    "start_time": "2023-04-19T17:19:16.813Z"
   },
   {
    "duration": 0,
    "start_time": "2023-04-19T17:19:16.814Z"
   },
   {
    "duration": 0,
    "start_time": "2023-04-19T17:19:16.836Z"
   },
   {
    "duration": 0,
    "start_time": "2023-04-19T17:19:16.837Z"
   },
   {
    "duration": 0,
    "start_time": "2023-04-19T17:19:16.838Z"
   },
   {
    "duration": 0,
    "start_time": "2023-04-19T17:19:16.839Z"
   },
   {
    "duration": 0,
    "start_time": "2023-04-19T17:19:16.840Z"
   },
   {
    "duration": 0,
    "start_time": "2023-04-19T17:19:16.841Z"
   },
   {
    "duration": 0,
    "start_time": "2023-04-19T17:19:16.842Z"
   },
   {
    "duration": 0,
    "start_time": "2023-04-19T17:19:16.842Z"
   },
   {
    "duration": 0,
    "start_time": "2023-04-19T17:19:16.843Z"
   },
   {
    "duration": 0,
    "start_time": "2023-04-19T17:19:16.844Z"
   },
   {
    "duration": 0,
    "start_time": "2023-04-19T17:19:16.844Z"
   },
   {
    "duration": 0,
    "start_time": "2023-04-19T17:19:16.845Z"
   },
   {
    "duration": 1005,
    "start_time": "2023-04-19T17:21:10.094Z"
   },
   {
    "duration": 48,
    "start_time": "2023-04-19T17:21:11.101Z"
   },
   {
    "duration": 17,
    "start_time": "2023-04-19T17:21:11.151Z"
   },
   {
    "duration": 12,
    "start_time": "2023-04-19T17:21:11.169Z"
   },
   {
    "duration": 14,
    "start_time": "2023-04-19T17:21:11.182Z"
   },
   {
    "duration": 14,
    "start_time": "2023-04-19T17:21:11.197Z"
   },
   {
    "duration": 35,
    "start_time": "2023-04-19T17:21:11.212Z"
   },
   {
    "duration": 4,
    "start_time": "2023-04-19T17:21:11.249Z"
   },
   {
    "duration": 17,
    "start_time": "2023-04-19T17:21:11.255Z"
   },
   {
    "duration": 9,
    "start_time": "2023-04-19T17:21:11.274Z"
   },
   {
    "duration": 19,
    "start_time": "2023-04-19T17:21:11.285Z"
   },
   {
    "duration": 98,
    "start_time": "2023-04-19T17:21:11.305Z"
   },
   {
    "duration": 0,
    "start_time": "2023-04-19T17:21:11.405Z"
   },
   {
    "duration": 0,
    "start_time": "2023-04-19T17:21:11.407Z"
   },
   {
    "duration": 0,
    "start_time": "2023-04-19T17:21:11.407Z"
   },
   {
    "duration": 0,
    "start_time": "2023-04-19T17:21:11.408Z"
   },
   {
    "duration": 0,
    "start_time": "2023-04-19T17:21:11.409Z"
   },
   {
    "duration": 0,
    "start_time": "2023-04-19T17:21:11.410Z"
   },
   {
    "duration": 0,
    "start_time": "2023-04-19T17:21:11.411Z"
   },
   {
    "duration": 0,
    "start_time": "2023-04-19T17:21:11.412Z"
   },
   {
    "duration": 0,
    "start_time": "2023-04-19T17:21:11.413Z"
   },
   {
    "duration": 0,
    "start_time": "2023-04-19T17:21:11.414Z"
   },
   {
    "duration": 0,
    "start_time": "2023-04-19T17:21:11.415Z"
   },
   {
    "duration": 0,
    "start_time": "2023-04-19T17:21:11.416Z"
   },
   {
    "duration": 0,
    "start_time": "2023-04-19T17:21:11.417Z"
   },
   {
    "duration": 0,
    "start_time": "2023-04-19T17:21:11.436Z"
   },
   {
    "duration": 0,
    "start_time": "2023-04-19T17:21:11.438Z"
   },
   {
    "duration": 0,
    "start_time": "2023-04-19T17:21:11.438Z"
   },
   {
    "duration": 0,
    "start_time": "2023-04-19T17:21:11.439Z"
   },
   {
    "duration": 0,
    "start_time": "2023-04-19T17:21:11.440Z"
   },
   {
    "duration": 0,
    "start_time": "2023-04-19T17:21:11.441Z"
   },
   {
    "duration": 0,
    "start_time": "2023-04-19T17:21:11.442Z"
   },
   {
    "duration": 0,
    "start_time": "2023-04-19T17:21:11.443Z"
   },
   {
    "duration": 0,
    "start_time": "2023-04-19T17:21:11.444Z"
   },
   {
    "duration": 0,
    "start_time": "2023-04-19T17:21:11.445Z"
   },
   {
    "duration": 0,
    "start_time": "2023-04-19T17:21:11.446Z"
   },
   {
    "duration": 0,
    "start_time": "2023-04-19T17:21:11.447Z"
   },
   {
    "duration": 0,
    "start_time": "2023-04-19T17:21:11.448Z"
   },
   {
    "duration": 0,
    "start_time": "2023-04-19T17:21:11.448Z"
   },
   {
    "duration": 0,
    "start_time": "2023-04-19T17:21:11.449Z"
   },
   {
    "duration": 0,
    "start_time": "2023-04-19T17:21:11.450Z"
   },
   {
    "duration": 0,
    "start_time": "2023-04-19T17:21:11.451Z"
   },
   {
    "duration": 0,
    "start_time": "2023-04-19T17:21:11.452Z"
   },
   {
    "duration": 0,
    "start_time": "2023-04-19T17:21:11.453Z"
   },
   {
    "duration": 0,
    "start_time": "2023-04-19T17:21:11.454Z"
   },
   {
    "duration": 0,
    "start_time": "2023-04-19T17:21:11.455Z"
   },
   {
    "duration": 0,
    "start_time": "2023-04-19T17:21:11.456Z"
   },
   {
    "duration": 0,
    "start_time": "2023-04-19T17:21:11.457Z"
   },
   {
    "duration": 0,
    "start_time": "2023-04-19T17:21:11.457Z"
   },
   {
    "duration": 0,
    "start_time": "2023-04-19T17:21:11.458Z"
   },
   {
    "duration": 0,
    "start_time": "2023-04-19T17:21:11.459Z"
   },
   {
    "duration": 5,
    "start_time": "2023-04-19T17:22:09.298Z"
   },
   {
    "duration": 5,
    "start_time": "2023-04-19T17:22:11.308Z"
   },
   {
    "duration": 13,
    "start_time": "2023-04-19T17:22:13.650Z"
   },
   {
    "duration": 12,
    "start_time": "2023-04-19T17:22:14.330Z"
   },
   {
    "duration": 972,
    "start_time": "2023-04-19T17:22:14.810Z"
   },
   {
    "duration": 18,
    "start_time": "2023-04-19T17:22:23.905Z"
   },
   {
    "duration": 19,
    "start_time": "2023-04-19T17:22:39.506Z"
   },
   {
    "duration": 13,
    "start_time": "2023-04-19T17:22:58.366Z"
   },
   {
    "duration": 366,
    "start_time": "2023-04-19T17:23:05.033Z"
   },
   {
    "duration": 6,
    "start_time": "2023-04-19T17:23:08.614Z"
   },
   {
    "duration": 236,
    "start_time": "2023-04-19T17:23:20.166Z"
   },
   {
    "duration": 268,
    "start_time": "2023-04-19T17:23:26.433Z"
   },
   {
    "duration": 13,
    "start_time": "2023-04-19T17:23:32.574Z"
   },
   {
    "duration": 887,
    "start_time": "2023-04-19T17:23:37.666Z"
   },
   {
    "duration": 251,
    "start_time": "2023-04-19T17:23:48.321Z"
   },
   {
    "duration": 100,
    "start_time": "2023-04-19T17:26:39.736Z"
   },
   {
    "duration": 84,
    "start_time": "2023-04-19T17:26:48.712Z"
   },
   {
    "duration": 80,
    "start_time": "2023-04-19T17:27:45.369Z"
   },
   {
    "duration": 1444,
    "start_time": "2023-04-19T17:28:56.258Z"
   },
   {
    "duration": 120,
    "start_time": "2023-04-19T17:29:03.672Z"
   },
   {
    "duration": 126,
    "start_time": "2023-04-19T17:29:09.884Z"
   },
   {
    "duration": 795,
    "start_time": "2023-04-19T17:29:16.928Z"
   },
   {
    "duration": 17,
    "start_time": "2023-04-19T17:29:46.472Z"
   },
   {
    "duration": 31,
    "start_time": "2023-04-19T17:29:56.879Z"
   },
   {
    "duration": 30,
    "start_time": "2023-04-19T17:29:57.967Z"
   },
   {
    "duration": 29,
    "start_time": "2023-04-19T17:29:58.567Z"
   },
   {
    "duration": 30,
    "start_time": "2023-04-19T17:31:55.463Z"
   },
   {
    "duration": 29,
    "start_time": "2023-04-19T17:31:56.415Z"
   },
   {
    "duration": 11,
    "start_time": "2023-04-19T17:32:27.113Z"
   },
   {
    "duration": 104,
    "start_time": "2023-04-19T17:32:38.375Z"
   },
   {
    "duration": 105,
    "start_time": "2023-04-19T17:32:39.661Z"
   },
   {
    "duration": 10,
    "start_time": "2023-04-19T17:35:49.503Z"
   },
   {
    "duration": 11,
    "start_time": "2023-04-19T17:36:15.374Z"
   },
   {
    "duration": 97,
    "start_time": "2023-04-19T17:36:17.272Z"
   },
   {
    "duration": 89,
    "start_time": "2023-04-19T17:36:18.951Z"
   },
   {
    "duration": 89,
    "start_time": "2023-04-19T17:37:43.527Z"
   },
   {
    "duration": 11,
    "start_time": "2023-04-19T17:37:56.710Z"
   },
   {
    "duration": 84,
    "start_time": "2023-04-19T17:37:59.230Z"
   },
   {
    "duration": 88,
    "start_time": "2023-04-19T17:38:00.974Z"
   },
   {
    "duration": 97,
    "start_time": "2023-04-19T17:39:24.717Z"
   },
   {
    "duration": 20,
    "start_time": "2023-04-19T17:41:32.461Z"
   },
   {
    "duration": 10,
    "start_time": "2023-04-19T17:43:22.806Z"
   },
   {
    "duration": 9,
    "start_time": "2023-04-19T17:43:24.234Z"
   },
   {
    "duration": 55,
    "start_time": "2023-04-20T02:43:34.493Z"
   },
   {
    "duration": 1289,
    "start_time": "2023-04-20T02:43:42.473Z"
   },
   {
    "duration": 94,
    "start_time": "2023-04-20T02:43:43.764Z"
   },
   {
    "duration": 22,
    "start_time": "2023-04-20T02:43:43.860Z"
   },
   {
    "duration": 15,
    "start_time": "2023-04-20T02:43:43.884Z"
   },
   {
    "duration": 13,
    "start_time": "2023-04-20T02:43:43.902Z"
   },
   {
    "duration": 24,
    "start_time": "2023-04-20T02:43:43.916Z"
   },
   {
    "duration": 21,
    "start_time": "2023-04-20T02:43:43.942Z"
   },
   {
    "duration": 5,
    "start_time": "2023-04-20T02:43:43.965Z"
   },
   {
    "duration": 10,
    "start_time": "2023-04-20T02:43:43.972Z"
   },
   {
    "duration": 9,
    "start_time": "2023-04-20T02:43:43.983Z"
   },
   {
    "duration": 9,
    "start_time": "2023-04-20T02:43:43.994Z"
   },
   {
    "duration": 33,
    "start_time": "2023-04-20T02:43:44.005Z"
   },
   {
    "duration": 11,
    "start_time": "2023-04-20T02:43:44.040Z"
   },
   {
    "duration": 15,
    "start_time": "2023-04-20T02:43:44.055Z"
   },
   {
    "duration": 15,
    "start_time": "2023-04-20T02:43:44.072Z"
   },
   {
    "duration": 1085,
    "start_time": "2023-04-20T02:43:44.089Z"
   },
   {
    "duration": 22,
    "start_time": "2023-04-20T02:43:45.176Z"
   },
   {
    "duration": 35,
    "start_time": "2023-04-20T02:43:45.199Z"
   },
   {
    "duration": 463,
    "start_time": "2023-04-20T02:43:45.236Z"
   },
   {
    "duration": 8,
    "start_time": "2023-04-20T02:43:45.700Z"
   },
   {
    "duration": 296,
    "start_time": "2023-04-20T02:43:45.709Z"
   },
   {
    "duration": 293,
    "start_time": "2023-04-20T02:43:46.007Z"
   },
   {
    "duration": 12,
    "start_time": "2023-04-20T02:43:46.302Z"
   },
   {
    "duration": 1001,
    "start_time": "2023-04-20T02:43:46.315Z"
   },
   {
    "duration": 292,
    "start_time": "2023-04-20T02:43:47.317Z"
   },
   {
    "duration": 1408,
    "start_time": "2023-04-20T02:43:47.610Z"
   },
   {
    "duration": 197,
    "start_time": "2023-04-20T02:43:49.019Z"
   },
   {
    "duration": 98,
    "start_time": "2023-04-20T02:43:49.218Z"
   },
   {
    "duration": 1535,
    "start_time": "2023-04-20T02:43:49.318Z"
   },
   {
    "duration": 150,
    "start_time": "2023-04-20T02:43:50.855Z"
   },
   {
    "duration": 171,
    "start_time": "2023-04-20T02:43:51.008Z"
   },
   {
    "duration": 647,
    "start_time": "2023-04-20T02:43:51.180Z"
   },
   {
    "duration": 17,
    "start_time": "2023-04-20T02:43:51.829Z"
   },
   {
    "duration": 41,
    "start_time": "2023-04-20T02:43:51.848Z"
   },
   {
    "duration": 51,
    "start_time": "2023-04-20T02:43:51.890Z"
   },
   {
    "duration": 34,
    "start_time": "2023-04-20T02:43:51.942Z"
   },
   {
    "duration": 32,
    "start_time": "2023-04-20T02:43:51.977Z"
   },
   {
    "duration": 32,
    "start_time": "2023-04-20T02:43:52.034Z"
   },
   {
    "duration": 12,
    "start_time": "2023-04-20T02:43:52.067Z"
   },
   {
    "duration": 121,
    "start_time": "2023-04-20T02:43:52.081Z"
   },
   {
    "duration": 138,
    "start_time": "2023-04-20T02:43:52.207Z"
   },
   {
    "duration": 13,
    "start_time": "2023-04-20T02:43:52.347Z"
   },
   {
    "duration": 200,
    "start_time": "2023-04-20T02:43:52.362Z"
   },
   {
    "duration": 112,
    "start_time": "2023-04-20T02:43:52.563Z"
   },
   {
    "duration": 11,
    "start_time": "2023-04-20T02:43:52.677Z"
   },
   {
    "duration": 112,
    "start_time": "2023-04-20T02:43:52.689Z"
   },
   {
    "duration": 102,
    "start_time": "2023-04-20T02:43:52.803Z"
   },
   {
    "duration": 110,
    "start_time": "2023-04-20T02:43:52.907Z"
   },
   {
    "duration": 27,
    "start_time": "2023-04-20T02:43:53.018Z"
   },
   {
    "duration": 10,
    "start_time": "2023-04-20T02:43:53.046Z"
   },
   {
    "duration": 8,
    "start_time": "2023-04-20T02:43:53.058Z"
   },
   {
    "duration": 11,
    "start_time": "2023-04-20T02:44:36.753Z"
   },
   {
    "duration": 10,
    "start_time": "2023-04-20T03:00:40.765Z"
   },
   {
    "duration": 10,
    "start_time": "2023-04-20T03:00:41.822Z"
   },
   {
    "duration": 8,
    "start_time": "2023-04-20T03:10:07.033Z"
   },
   {
    "duration": 286,
    "start_time": "2023-04-20T03:10:25.636Z"
   },
   {
    "duration": 104,
    "start_time": "2023-04-20T03:10:37.338Z"
   },
   {
    "duration": 7,
    "start_time": "2023-04-20T03:10:42.299Z"
   },
   {
    "duration": 9,
    "start_time": "2023-04-20T03:10:52.475Z"
   },
   {
    "duration": 14,
    "start_time": "2023-04-20T03:14:05.433Z"
   },
   {
    "duration": 9,
    "start_time": "2023-04-20T03:14:15.866Z"
   },
   {
    "duration": 10,
    "start_time": "2023-04-20T03:15:19.016Z"
   },
   {
    "duration": 22,
    "start_time": "2023-04-20T03:15:56.657Z"
   },
   {
    "duration": 28,
    "start_time": "2023-04-20T03:18:19.178Z"
   },
   {
    "duration": 36,
    "start_time": "2023-04-20T03:18:37.816Z"
   },
   {
    "duration": 37,
    "start_time": "2023-04-20T03:19:34.035Z"
   },
   {
    "duration": 34,
    "start_time": "2023-04-20T03:19:56.176Z"
   },
   {
    "duration": 3,
    "start_time": "2023-04-20T03:20:45.551Z"
   },
   {
    "duration": 1149,
    "start_time": "2023-04-20T05:29:52.274Z"
   },
   {
    "duration": 51,
    "start_time": "2023-04-20T05:29:53.426Z"
   },
   {
    "duration": 19,
    "start_time": "2023-04-20T05:29:53.478Z"
   },
   {
    "duration": 13,
    "start_time": "2023-04-20T05:29:53.498Z"
   },
   {
    "duration": 20,
    "start_time": "2023-04-20T05:29:53.513Z"
   },
   {
    "duration": 20,
    "start_time": "2023-04-20T05:29:53.535Z"
   },
   {
    "duration": 21,
    "start_time": "2023-04-20T05:29:53.557Z"
   },
   {
    "duration": 34,
    "start_time": "2023-04-20T05:29:53.580Z"
   },
   {
    "duration": 18,
    "start_time": "2023-04-20T05:29:53.616Z"
   },
   {
    "duration": 5,
    "start_time": "2023-04-20T05:29:53.636Z"
   },
   {
    "duration": 19,
    "start_time": "2023-04-20T05:29:53.643Z"
   },
   {
    "duration": 8,
    "start_time": "2023-04-20T05:29:53.663Z"
   },
   {
    "duration": 32,
    "start_time": "2023-04-20T05:29:53.672Z"
   },
   {
    "duration": 18,
    "start_time": "2023-04-20T05:29:53.708Z"
   },
   {
    "duration": 12,
    "start_time": "2023-04-20T05:29:53.727Z"
   },
   {
    "duration": 113,
    "start_time": "2023-04-20T05:29:53.741Z"
   },
   {
    "duration": 13,
    "start_time": "2023-04-20T05:29:53.856Z"
   },
   {
    "duration": 1016,
    "start_time": "2023-04-20T05:29:53.870Z"
   },
   {
    "duration": 19,
    "start_time": "2023-04-20T05:29:54.888Z"
   },
   {
    "duration": 34,
    "start_time": "2023-04-20T05:29:54.909Z"
   },
   {
    "duration": 504,
    "start_time": "2023-04-20T05:29:54.945Z"
   },
   {
    "duration": 7,
    "start_time": "2023-04-20T05:29:55.450Z"
   },
   {
    "duration": 275,
    "start_time": "2023-04-20T05:29:55.459Z"
   },
   {
    "duration": 281,
    "start_time": "2023-04-20T05:29:55.736Z"
   },
   {
    "duration": 28,
    "start_time": "2023-04-20T05:29:56.019Z"
   },
   {
    "duration": 969,
    "start_time": "2023-04-20T05:29:56.049Z"
   },
   {
    "duration": 295,
    "start_time": "2023-04-20T05:29:57.019Z"
   },
   {
    "duration": 1417,
    "start_time": "2023-04-20T05:29:57.316Z"
   },
   {
    "duration": 174,
    "start_time": "2023-04-20T05:29:58.735Z"
   },
   {
    "duration": 110,
    "start_time": "2023-04-20T05:29:58.910Z"
   },
   {
    "duration": 1603,
    "start_time": "2023-04-20T05:29:59.022Z"
   },
   {
    "duration": 209,
    "start_time": "2023-04-20T05:30:00.627Z"
   },
   {
    "duration": 167,
    "start_time": "2023-04-20T05:30:00.838Z"
   },
   {
    "duration": 769,
    "start_time": "2023-04-20T05:30:01.006Z"
   },
   {
    "duration": 82,
    "start_time": "2023-04-20T05:30:01.777Z"
   },
   {
    "duration": 38,
    "start_time": "2023-04-20T05:30:01.861Z"
   },
   {
    "duration": 42,
    "start_time": "2023-04-20T05:30:01.901Z"
   },
   {
    "duration": 32,
    "start_time": "2023-04-20T05:30:01.945Z"
   },
   {
    "duration": 31,
    "start_time": "2023-04-20T05:30:01.979Z"
   },
   {
    "duration": 67,
    "start_time": "2023-04-20T05:30:02.012Z"
   },
   {
    "duration": 12,
    "start_time": "2023-04-20T05:30:02.083Z"
   },
   {
    "duration": 125,
    "start_time": "2023-04-20T05:30:02.097Z"
   },
   {
    "duration": 113,
    "start_time": "2023-04-20T05:30:02.223Z"
   },
   {
    "duration": 13,
    "start_time": "2023-04-20T05:30:02.338Z"
   },
   {
    "duration": 241,
    "start_time": "2023-04-20T05:30:02.352Z"
   },
   {
    "duration": 112,
    "start_time": "2023-04-20T05:30:02.595Z"
   },
   {
    "duration": 13,
    "start_time": "2023-04-20T05:30:02.709Z"
   },
   {
    "duration": 129,
    "start_time": "2023-04-20T05:30:02.724Z"
   },
   {
    "duration": 107,
    "start_time": "2023-04-20T05:30:02.854Z"
   },
   {
    "duration": 115,
    "start_time": "2023-04-20T05:30:02.962Z"
   },
   {
    "duration": 17,
    "start_time": "2023-04-20T05:30:03.078Z"
   },
   {
    "duration": 31,
    "start_time": "2023-04-20T05:30:03.097Z"
   },
   {
    "duration": 12,
    "start_time": "2023-04-20T05:30:03.129Z"
   },
   {
    "duration": 1259,
    "start_time": "2023-04-20T07:28:45.073Z"
   },
   {
    "duration": 64,
    "start_time": "2023-04-20T07:28:46.334Z"
   },
   {
    "duration": 19,
    "start_time": "2023-04-20T07:28:46.400Z"
   },
   {
    "duration": 43,
    "start_time": "2023-04-20T07:28:46.421Z"
   },
   {
    "duration": 26,
    "start_time": "2023-04-20T07:28:46.467Z"
   },
   {
    "duration": 37,
    "start_time": "2023-04-20T07:28:46.495Z"
   },
   {
    "duration": 67,
    "start_time": "2023-04-20T07:28:46.534Z"
   },
   {
    "duration": 46,
    "start_time": "2023-04-20T07:28:46.603Z"
   },
   {
    "duration": 3,
    "start_time": "2023-04-20T07:28:46.653Z"
   },
   {
    "duration": 40,
    "start_time": "2023-04-20T07:28:46.657Z"
   },
   {
    "duration": 45,
    "start_time": "2023-04-20T07:28:46.699Z"
   },
   {
    "duration": 37,
    "start_time": "2023-04-20T07:28:46.752Z"
   },
   {
    "duration": 26,
    "start_time": "2023-04-20T07:28:46.791Z"
   },
   {
    "duration": 41,
    "start_time": "2023-04-20T07:28:46.821Z"
   },
   {
    "duration": 22,
    "start_time": "2023-04-20T07:28:46.864Z"
   },
   {
    "duration": 168,
    "start_time": "2023-04-20T07:28:46.888Z"
   },
   {
    "duration": 13,
    "start_time": "2023-04-20T07:28:47.057Z"
   },
   {
    "duration": 1189,
    "start_time": "2023-04-20T07:28:47.071Z"
   },
   {
    "duration": 22,
    "start_time": "2023-04-20T07:28:48.262Z"
   },
   {
    "duration": 15,
    "start_time": "2023-04-20T07:28:48.286Z"
   },
   {
    "duration": 469,
    "start_time": "2023-04-20T07:28:48.303Z"
   },
   {
    "duration": 7,
    "start_time": "2023-04-20T07:28:48.774Z"
   },
   {
    "duration": 335,
    "start_time": "2023-04-20T07:28:48.782Z"
   },
   {
    "duration": 309,
    "start_time": "2023-04-20T07:28:49.119Z"
   },
   {
    "duration": 29,
    "start_time": "2023-04-20T07:28:49.429Z"
   },
   {
    "duration": 1040,
    "start_time": "2023-04-20T07:28:49.460Z"
   },
   {
    "duration": 302,
    "start_time": "2023-04-20T07:28:50.501Z"
   },
   {
    "duration": 1589,
    "start_time": "2023-04-20T07:28:50.804Z"
   },
   {
    "duration": 188,
    "start_time": "2023-04-20T07:28:52.395Z"
   },
   {
    "duration": 107,
    "start_time": "2023-04-20T07:28:52.584Z"
   },
   {
    "duration": 1647,
    "start_time": "2023-04-20T07:28:52.693Z"
   },
   {
    "duration": 219,
    "start_time": "2023-04-20T07:28:54.341Z"
   },
   {
    "duration": 201,
    "start_time": "2023-04-20T07:28:54.566Z"
   },
   {
    "duration": 830,
    "start_time": "2023-04-20T07:28:54.769Z"
   },
   {
    "duration": 85,
    "start_time": "2023-04-20T07:28:55.601Z"
   },
   {
    "duration": 37,
    "start_time": "2023-04-20T07:28:55.687Z"
   },
   {
    "duration": 39,
    "start_time": "2023-04-20T07:28:55.740Z"
   },
   {
    "duration": 37,
    "start_time": "2023-04-20T07:28:55.780Z"
   },
   {
    "duration": 45,
    "start_time": "2023-04-20T07:28:55.819Z"
   },
   {
    "duration": 32,
    "start_time": "2023-04-20T07:28:55.866Z"
   },
   {
    "duration": 12,
    "start_time": "2023-04-20T07:28:55.901Z"
   },
   {
    "duration": 125,
    "start_time": "2023-04-20T07:28:55.936Z"
   },
   {
    "duration": 122,
    "start_time": "2023-04-20T07:28:56.063Z"
   },
   {
    "duration": 11,
    "start_time": "2023-04-20T07:28:56.188Z"
   },
   {
    "duration": 199,
    "start_time": "2023-04-20T07:28:56.201Z"
   },
   {
    "duration": 107,
    "start_time": "2023-04-20T07:28:56.402Z"
   },
   {
    "duration": 11,
    "start_time": "2023-04-20T07:28:56.511Z"
   },
   {
    "duration": 103,
    "start_time": "2023-04-20T07:28:56.538Z"
   },
   {
    "duration": 115,
    "start_time": "2023-04-20T07:28:56.643Z"
   },
   {
    "duration": 119,
    "start_time": "2023-04-20T07:28:56.760Z"
   },
   {
    "duration": 17,
    "start_time": "2023-04-20T07:28:56.880Z"
   },
   {
    "duration": 9,
    "start_time": "2023-04-20T07:28:56.898Z"
   },
   {
    "duration": 42,
    "start_time": "2023-04-20T07:28:56.908Z"
   },
   {
    "duration": 1299,
    "start_time": "2023-04-20T08:11:34.019Z"
   },
   {
    "duration": 233,
    "start_time": "2023-04-20T08:11:35.325Z"
   },
   {
    "duration": 22,
    "start_time": "2023-04-20T08:11:35.560Z"
   },
   {
    "duration": 16,
    "start_time": "2023-04-20T08:11:35.584Z"
   },
   {
    "duration": 29,
    "start_time": "2023-04-20T08:11:35.603Z"
   },
   {
    "duration": 27,
    "start_time": "2023-04-20T08:11:35.636Z"
   },
   {
    "duration": 33,
    "start_time": "2023-04-20T08:11:35.665Z"
   },
   {
    "duration": 66,
    "start_time": "2023-04-20T08:11:35.700Z"
   },
   {
    "duration": 2,
    "start_time": "2023-04-20T08:11:35.768Z"
   },
   {
    "duration": 12,
    "start_time": "2023-04-20T08:11:35.773Z"
   },
   {
    "duration": 17,
    "start_time": "2023-04-20T08:11:35.787Z"
   },
   {
    "duration": 8,
    "start_time": "2023-04-20T08:11:35.805Z"
   },
   {
    "duration": 27,
    "start_time": "2023-04-20T08:11:35.815Z"
   },
   {
    "duration": 8,
    "start_time": "2023-04-20T08:11:35.850Z"
   },
   {
    "duration": 12,
    "start_time": "2023-04-20T08:11:35.860Z"
   },
   {
    "duration": 132,
    "start_time": "2023-04-20T08:11:35.874Z"
   },
   {
    "duration": 31,
    "start_time": "2023-04-20T08:11:36.008Z"
   },
   {
    "duration": 1292,
    "start_time": "2023-04-20T08:11:36.042Z"
   },
   {
    "duration": 23,
    "start_time": "2023-04-20T08:11:37.336Z"
   },
   {
    "duration": 15,
    "start_time": "2023-04-20T08:11:37.361Z"
   },
   {
    "duration": 517,
    "start_time": "2023-04-20T08:11:37.378Z"
   },
   {
    "duration": 20,
    "start_time": "2023-04-20T08:11:37.897Z"
   },
   {
    "duration": 340,
    "start_time": "2023-04-20T08:11:37.918Z"
   },
   {
    "duration": 377,
    "start_time": "2023-04-20T08:11:38.260Z"
   },
   {
    "duration": 14,
    "start_time": "2023-04-20T08:11:38.643Z"
   },
   {
    "duration": 1317,
    "start_time": "2023-04-20T08:11:38.658Z"
   },
   {
    "duration": 372,
    "start_time": "2023-04-20T08:11:39.977Z"
   },
   {
    "duration": 1905,
    "start_time": "2023-04-20T08:11:40.351Z"
   },
   {
    "duration": 228,
    "start_time": "2023-04-20T08:11:42.258Z"
   },
   {
    "duration": 143,
    "start_time": "2023-04-20T08:11:42.488Z"
   },
   {
    "duration": 2129,
    "start_time": "2023-04-20T08:11:42.632Z"
   },
   {
    "duration": 248,
    "start_time": "2023-04-20T08:11:44.763Z"
   },
   {
    "duration": 171,
    "start_time": "2023-04-20T08:11:45.013Z"
   },
   {
    "duration": 899,
    "start_time": "2023-04-20T08:11:45.186Z"
   },
   {
    "duration": 107,
    "start_time": "2023-04-20T08:11:46.086Z"
   },
   {
    "duration": 46,
    "start_time": "2023-04-20T08:11:46.195Z"
   },
   {
    "duration": 37,
    "start_time": "2023-04-20T08:11:46.243Z"
   },
   {
    "duration": 62,
    "start_time": "2023-04-20T08:11:46.282Z"
   },
   {
    "duration": 37,
    "start_time": "2023-04-20T08:11:46.346Z"
   },
   {
    "duration": 58,
    "start_time": "2023-04-20T08:11:46.385Z"
   },
   {
    "duration": 19,
    "start_time": "2023-04-20T08:11:46.449Z"
   },
   {
    "duration": 138,
    "start_time": "2023-04-20T08:11:46.471Z"
   },
   {
    "duration": 148,
    "start_time": "2023-04-20T08:11:46.610Z"
   },
   {
    "duration": 15,
    "start_time": "2023-04-20T08:11:46.760Z"
   },
   {
    "duration": 253,
    "start_time": "2023-04-20T08:11:46.777Z"
   },
   {
    "duration": 121,
    "start_time": "2023-04-20T08:11:47.032Z"
   },
   {
    "duration": 16,
    "start_time": "2023-04-20T08:11:47.155Z"
   },
   {
    "duration": 170,
    "start_time": "2023-04-20T08:11:47.173Z"
   },
   {
    "duration": 127,
    "start_time": "2023-04-20T08:11:47.344Z"
   },
   {
    "duration": 147,
    "start_time": "2023-04-20T08:11:47.473Z"
   },
   {
    "duration": 30,
    "start_time": "2023-04-20T08:11:47.622Z"
   },
   {
    "duration": 16,
    "start_time": "2023-04-20T08:11:47.655Z"
   },
   {
    "duration": 15,
    "start_time": "2023-04-20T08:11:47.673Z"
   },
   {
    "duration": 28,
    "start_time": "2023-04-20T10:54:36.455Z"
   },
   {
    "duration": 128,
    "start_time": "2023-04-20T11:01:43.284Z"
   },
   {
    "duration": 181,
    "start_time": "2023-04-20T11:45:13.987Z"
   },
   {
    "duration": 21,
    "start_time": "2023-04-20T11:45:30.197Z"
   },
   {
    "duration": 18,
    "start_time": "2023-04-20T11:47:20.275Z"
   },
   {
    "duration": 86,
    "start_time": "2023-04-20T11:47:35.075Z"
   },
   {
    "duration": 25,
    "start_time": "2023-04-20T11:47:45.187Z"
   },
   {
    "duration": 7,
    "start_time": "2023-04-20T11:51:12.198Z"
   },
   {
    "duration": 5,
    "start_time": "2023-04-20T11:52:36.241Z"
   },
   {
    "duration": 7,
    "start_time": "2023-04-20T11:54:30.106Z"
   },
   {
    "duration": 7,
    "start_time": "2023-04-20T11:56:13.600Z"
   },
   {
    "duration": 183,
    "start_time": "2023-04-20T12:11:49.403Z"
   },
   {
    "duration": 111,
    "start_time": "2023-04-20T12:14:03.274Z"
   },
   {
    "duration": 791,
    "start_time": "2023-04-20T12:14:16.166Z"
   },
   {
    "duration": 931,
    "start_time": "2023-04-20T12:14:23.195Z"
   },
   {
    "duration": 206,
    "start_time": "2023-04-20T12:20:12.054Z"
   },
   {
    "duration": 829,
    "start_time": "2023-04-20T12:23:34.666Z"
   },
   {
    "duration": 253,
    "start_time": "2023-04-20T14:33:16.310Z"
   },
   {
    "duration": 1183,
    "start_time": "2023-04-20T14:37:20.503Z"
   },
   {
    "duration": 1360,
    "start_time": "2023-04-20T14:46:58.983Z"
   },
   {
    "duration": 854,
    "start_time": "2023-04-20T14:51:05.710Z"
   },
   {
    "duration": 12,
    "start_time": "2023-04-20T14:51:35.901Z"
   },
   {
    "duration": 36,
    "start_time": "2023-04-20T14:51:41.586Z"
   },
   {
    "duration": 1268,
    "start_time": "2023-04-20T14:52:32.250Z"
   },
   {
    "duration": 203,
    "start_time": "2023-04-20T14:52:44.675Z"
   },
   {
    "duration": 137,
    "start_time": "2023-04-20T14:53:13.787Z"
   },
   {
    "duration": 249,
    "start_time": "2023-04-20T14:53:18.279Z"
   },
   {
    "duration": 18,
    "start_time": "2023-04-20T14:56:41.374Z"
   },
   {
    "duration": 22,
    "start_time": "2023-04-20T14:57:01.355Z"
   },
   {
    "duration": 121,
    "start_time": "2023-04-20T14:57:33.478Z"
   },
   {
    "duration": 135,
    "start_time": "2023-04-20T14:57:35.474Z"
   },
   {
    "duration": 143,
    "start_time": "2023-04-20T15:07:50.478Z"
   },
   {
    "duration": 163,
    "start_time": "2023-04-20T15:08:33.400Z"
   },
   {
    "duration": 104,
    "start_time": "2023-04-20T15:08:42.211Z"
   },
   {
    "duration": 165,
    "start_time": "2023-04-20T15:09:00.513Z"
   },
   {
    "duration": 435,
    "start_time": "2023-04-20T15:09:15.209Z"
   },
   {
    "duration": 356,
    "start_time": "2023-04-20T15:12:55.503Z"
   },
   {
    "duration": 135,
    "start_time": "2023-04-20T15:14:36.404Z"
   },
   {
    "duration": 229,
    "start_time": "2023-04-20T15:18:32.191Z"
   },
   {
    "duration": 145,
    "start_time": "2023-04-20T15:18:38.685Z"
   },
   {
    "duration": 114,
    "start_time": "2023-04-20T17:04:07.931Z"
   },
   {
    "duration": 109,
    "start_time": "2023-04-20T17:06:56.272Z"
   },
   {
    "duration": 118,
    "start_time": "2023-04-20T17:14:25.208Z"
   },
   {
    "duration": 1132,
    "start_time": "2023-04-20T17:17:24.075Z"
   },
   {
    "duration": 1290,
    "start_time": "2023-04-20T17:17:32.991Z"
   },
   {
    "duration": 3,
    "start_time": "2023-04-20T17:18:34.023Z"
   },
   {
    "duration": 101,
    "start_time": "2023-04-20T17:18:34.027Z"
   },
   {
    "duration": 35,
    "start_time": "2023-04-20T17:18:34.130Z"
   },
   {
    "duration": 25,
    "start_time": "2023-04-20T17:18:34.170Z"
   },
   {
    "duration": 10,
    "start_time": "2023-04-20T17:18:34.196Z"
   },
   {
    "duration": 15,
    "start_time": "2023-04-20T17:18:34.207Z"
   },
   {
    "duration": 61,
    "start_time": "2023-04-20T17:18:34.224Z"
   },
   {
    "duration": 40,
    "start_time": "2023-04-20T17:18:34.287Z"
   },
   {
    "duration": 2,
    "start_time": "2023-04-20T17:18:34.329Z"
   },
   {
    "duration": 75,
    "start_time": "2023-04-20T17:18:34.333Z"
   },
   {
    "duration": 8,
    "start_time": "2023-04-20T17:18:34.409Z"
   },
   {
    "duration": 52,
    "start_time": "2023-04-20T17:18:34.421Z"
   },
   {
    "duration": 13,
    "start_time": "2023-04-20T17:18:34.475Z"
   },
   {
    "duration": 12,
    "start_time": "2023-04-20T17:18:34.489Z"
   },
   {
    "duration": 11,
    "start_time": "2023-04-20T17:18:34.502Z"
   },
   {
    "duration": 6,
    "start_time": "2023-04-20T17:18:34.515Z"
   },
   {
    "duration": 27,
    "start_time": "2023-04-20T17:18:34.523Z"
   },
   {
    "duration": 170,
    "start_time": "2023-04-20T17:18:34.551Z"
   },
   {
    "duration": 24,
    "start_time": "2023-04-20T17:18:34.723Z"
   },
   {
    "duration": 1357,
    "start_time": "2023-04-20T17:18:34.748Z"
   },
   {
    "duration": 18,
    "start_time": "2023-04-20T17:18:36.107Z"
   },
   {
    "duration": 24,
    "start_time": "2023-04-20T17:18:36.127Z"
   },
   {
    "duration": 422,
    "start_time": "2023-04-20T17:18:36.153Z"
   },
   {
    "duration": 6,
    "start_time": "2023-04-20T17:18:36.578Z"
   },
   {
    "duration": 336,
    "start_time": "2023-04-20T17:18:36.586Z"
   },
   {
    "duration": 361,
    "start_time": "2023-04-20T17:18:36.924Z"
   },
   {
    "duration": 12,
    "start_time": "2023-04-20T17:18:37.287Z"
   },
   {
    "duration": 1349,
    "start_time": "2023-04-20T17:18:37.301Z"
   },
   {
    "duration": 227,
    "start_time": "2023-04-20T17:18:38.653Z"
   },
   {
    "duration": 1290,
    "start_time": "2023-04-20T17:18:38.882Z"
   },
   {
    "duration": 110,
    "start_time": "2023-04-20T17:18:40.173Z"
   },
   {
    "duration": 128,
    "start_time": "2023-04-20T17:18:40.284Z"
   },
   {
    "duration": 114,
    "start_time": "2023-04-20T17:18:40.414Z"
   },
   {
    "duration": 118,
    "start_time": "2023-04-20T17:18:40.534Z"
   },
   {
    "duration": 247,
    "start_time": "2023-04-20T17:40:00.813Z"
   },
   {
    "duration": 163,
    "start_time": "2023-04-20T17:40:05.975Z"
   },
   {
    "duration": 876,
    "start_time": "2023-04-20T17:40:41.575Z"
   },
   {
    "duration": 43,
    "start_time": "2023-04-20T17:46:52.291Z"
   },
   {
    "duration": 51,
    "start_time": "2023-04-20T17:47:22.010Z"
   },
   {
    "duration": 40,
    "start_time": "2023-04-20T17:47:25.404Z"
   },
   {
    "duration": 19,
    "start_time": "2023-04-20T17:47:54.160Z"
   },
   {
    "duration": 44,
    "start_time": "2023-04-20T17:48:00.385Z"
   },
   {
    "duration": 52,
    "start_time": "2023-04-20T17:48:27.931Z"
   },
   {
    "duration": 35,
    "start_time": "2023-04-20T17:48:54.060Z"
   },
   {
    "duration": 34,
    "start_time": "2023-04-20T17:48:54.459Z"
   },
   {
    "duration": 40,
    "start_time": "2023-04-20T17:48:54.876Z"
   },
   {
    "duration": 38,
    "start_time": "2023-04-20T17:48:58.160Z"
   },
   {
    "duration": 46,
    "start_time": "2023-04-20T17:48:58.618Z"
   },
   {
    "duration": 4,
    "start_time": "2023-04-21T02:49:42.799Z"
   },
   {
    "duration": 1169,
    "start_time": "2023-04-21T02:49:47.897Z"
   },
   {
    "duration": 93,
    "start_time": "2023-04-21T02:49:49.068Z"
   },
   {
    "duration": 17,
    "start_time": "2023-04-21T02:49:49.163Z"
   },
   {
    "duration": 12,
    "start_time": "2023-04-21T02:49:49.182Z"
   },
   {
    "duration": 10,
    "start_time": "2023-04-21T02:49:49.196Z"
   },
   {
    "duration": 13,
    "start_time": "2023-04-21T02:49:49.208Z"
   },
   {
    "duration": 30,
    "start_time": "2023-04-21T02:49:49.222Z"
   },
   {
    "duration": 33,
    "start_time": "2023-04-21T02:49:49.253Z"
   },
   {
    "duration": 2,
    "start_time": "2023-04-21T02:49:49.288Z"
   },
   {
    "duration": 20,
    "start_time": "2023-04-21T02:49:49.292Z"
   },
   {
    "duration": 4,
    "start_time": "2023-04-21T02:49:49.313Z"
   },
   {
    "duration": 8,
    "start_time": "2023-04-21T02:49:49.319Z"
   },
   {
    "duration": 6,
    "start_time": "2023-04-21T02:49:49.329Z"
   },
   {
    "duration": 9,
    "start_time": "2023-04-21T02:49:49.337Z"
   },
   {
    "duration": 25,
    "start_time": "2023-04-21T02:49:49.347Z"
   },
   {
    "duration": 4,
    "start_time": "2023-04-21T02:49:49.374Z"
   },
   {
    "duration": 7,
    "start_time": "2023-04-21T02:49:49.379Z"
   },
   {
    "duration": 116,
    "start_time": "2023-04-21T02:49:49.388Z"
   },
   {
    "duration": 12,
    "start_time": "2023-04-21T02:49:49.505Z"
   },
   {
    "duration": 937,
    "start_time": "2023-04-21T02:49:49.518Z"
   },
   {
    "duration": 27,
    "start_time": "2023-04-21T02:49:50.457Z"
   },
   {
    "duration": 11,
    "start_time": "2023-04-21T02:49:50.485Z"
   },
   {
    "duration": 363,
    "start_time": "2023-04-21T02:49:50.498Z"
   },
   {
    "duration": 14,
    "start_time": "2023-04-21T02:49:50.863Z"
   },
   {
    "duration": 271,
    "start_time": "2023-04-21T02:49:50.879Z"
   },
   {
    "duration": 297,
    "start_time": "2023-04-21T02:49:51.151Z"
   },
   {
    "duration": 11,
    "start_time": "2023-04-21T02:49:51.450Z"
   },
   {
    "duration": 913,
    "start_time": "2023-04-21T02:49:51.464Z"
   },
   {
    "duration": 268,
    "start_time": "2023-04-21T02:49:52.378Z"
   },
   {
    "duration": 2,
    "start_time": "2023-04-21T02:49:52.648Z"
   },
   {
    "duration": 487,
    "start_time": "2023-04-21T02:49:58.082Z"
   },
   {
    "duration": 233,
    "start_time": "2023-04-21T02:50:42.648Z"
   },
   {
    "duration": 716,
    "start_time": "2023-04-21T02:50:50.100Z"
   },
   {
    "duration": 992,
    "start_time": "2023-04-21T02:55:14.499Z"
   },
   {
    "duration": 518,
    "start_time": "2023-04-21T03:03:11.036Z"
   },
   {
    "duration": 551,
    "start_time": "2023-04-21T03:03:17.346Z"
   },
   {
    "duration": 532,
    "start_time": "2023-04-21T03:03:23.988Z"
   },
   {
    "duration": 526,
    "start_time": "2023-04-21T03:03:30.657Z"
   },
   {
    "duration": 602,
    "start_time": "2023-04-21T03:07:18.399Z"
   },
   {
    "duration": 189,
    "start_time": "2023-04-21T03:07:37.275Z"
   },
   {
    "duration": 572,
    "start_time": "2023-04-21T03:07:46.627Z"
   },
   {
    "duration": 753,
    "start_time": "2023-04-21T03:07:57.930Z"
   },
   {
    "duration": 581,
    "start_time": "2023-04-21T03:08:05.531Z"
   },
   {
    "duration": 254,
    "start_time": "2023-04-21T03:08:35.187Z"
   },
   {
    "duration": 1359,
    "start_time": "2023-04-21T03:11:02.993Z"
   },
   {
    "duration": 358,
    "start_time": "2023-04-21T03:11:12.490Z"
   },
   {
    "duration": 251,
    "start_time": "2023-04-21T03:12:41.626Z"
   },
   {
    "duration": 13,
    "start_time": "2023-04-21T03:13:50.577Z"
   },
   {
    "duration": 298,
    "start_time": "2023-04-21T03:13:55.930Z"
   },
   {
    "duration": 250,
    "start_time": "2023-04-21T03:48:34.042Z"
   },
   {
    "duration": 215,
    "start_time": "2023-04-21T03:49:43.017Z"
   },
   {
    "duration": 3,
    "start_time": "2023-04-21T03:49:55.288Z"
   },
   {
    "duration": 66,
    "start_time": "2023-04-21T03:49:55.292Z"
   },
   {
    "duration": 25,
    "start_time": "2023-04-21T03:49:55.360Z"
   },
   {
    "duration": 24,
    "start_time": "2023-04-21T03:49:55.387Z"
   },
   {
    "duration": 35,
    "start_time": "2023-04-21T03:49:55.412Z"
   },
   {
    "duration": 34,
    "start_time": "2023-04-21T03:49:55.449Z"
   },
   {
    "duration": 42,
    "start_time": "2023-04-21T03:49:55.485Z"
   },
   {
    "duration": 33,
    "start_time": "2023-04-21T03:49:55.528Z"
   },
   {
    "duration": 3,
    "start_time": "2023-04-21T03:49:55.563Z"
   },
   {
    "duration": 45,
    "start_time": "2023-04-21T03:49:55.568Z"
   },
   {
    "duration": 5,
    "start_time": "2023-04-21T03:49:55.615Z"
   },
   {
    "duration": 9,
    "start_time": "2023-04-21T03:49:55.622Z"
   },
   {
    "duration": 11,
    "start_time": "2023-04-21T03:49:55.632Z"
   },
   {
    "duration": 13,
    "start_time": "2023-04-21T03:49:55.644Z"
   },
   {
    "duration": 8,
    "start_time": "2023-04-21T03:49:55.658Z"
   },
   {
    "duration": 31,
    "start_time": "2023-04-21T03:49:55.667Z"
   },
   {
    "duration": 11,
    "start_time": "2023-04-21T03:49:55.699Z"
   },
   {
    "duration": 134,
    "start_time": "2023-04-21T03:49:55.711Z"
   },
   {
    "duration": 11,
    "start_time": "2023-04-21T03:49:55.846Z"
   },
   {
    "duration": 1247,
    "start_time": "2023-04-21T03:49:55.858Z"
   },
   {
    "duration": 18,
    "start_time": "2023-04-21T03:49:57.107Z"
   },
   {
    "duration": 17,
    "start_time": "2023-04-21T03:49:57.126Z"
   },
   {
    "duration": 392,
    "start_time": "2023-04-21T03:49:57.145Z"
   },
   {
    "duration": 6,
    "start_time": "2023-04-21T03:49:57.539Z"
   },
   {
    "duration": 314,
    "start_time": "2023-04-21T03:49:57.547Z"
   },
   {
    "duration": 462,
    "start_time": "2023-04-21T03:49:57.863Z"
   },
   {
    "duration": 12,
    "start_time": "2023-04-21T03:49:58.327Z"
   },
   {
    "duration": 1155,
    "start_time": "2023-04-21T03:49:58.341Z"
   },
   {
    "duration": 223,
    "start_time": "2023-04-21T03:49:59.497Z"
   },
   {
    "duration": 266,
    "start_time": "2023-04-21T03:49:59.721Z"
   },
   {
    "duration": 1042,
    "start_time": "2023-04-21T03:49:59.989Z"
   },
   {
    "duration": 239,
    "start_time": "2023-04-21T03:52:15.657Z"
   },
   {
    "duration": 1186,
    "start_time": "2023-04-21T03:56:51.247Z"
   },
   {
    "duration": 107,
    "start_time": "2023-04-21T05:13:28.623Z"
   },
   {
    "duration": 89,
    "start_time": "2023-04-21T05:13:32.123Z"
   },
   {
    "duration": 101,
    "start_time": "2023-04-21T05:13:38.042Z"
   },
   {
    "duration": 83,
    "start_time": "2023-04-21T05:13:41.591Z"
   },
   {
    "duration": 80,
    "start_time": "2023-04-21T05:14:20.760Z"
   },
   {
    "duration": 280,
    "start_time": "2023-04-21T07:07:49.233Z"
   },
   {
    "duration": 295,
    "start_time": "2023-04-21T07:09:54.995Z"
   },
   {
    "duration": 14,
    "start_time": "2023-04-21T11:47:29.898Z"
   },
   {
    "duration": 126,
    "start_time": "2023-04-21T11:47:33.022Z"
   },
   {
    "duration": 104,
    "start_time": "2023-04-21T11:47:45.276Z"
   },
   {
    "duration": 12,
    "start_time": "2023-04-21T11:53:29.195Z"
   },
   {
    "duration": 108,
    "start_time": "2023-04-21T11:53:30.702Z"
   },
   {
    "duration": 106,
    "start_time": "2023-04-21T11:53:32.738Z"
   },
   {
    "duration": 15,
    "start_time": "2023-04-21T12:15:13.752Z"
   },
   {
    "duration": 104,
    "start_time": "2023-04-21T12:15:15.128Z"
   },
   {
    "duration": 92,
    "start_time": "2023-04-21T12:15:18.632Z"
   },
   {
    "duration": 10,
    "start_time": "2023-04-21T12:27:30.090Z"
   },
   {
    "duration": 82,
    "start_time": "2023-04-21T12:27:30.445Z"
   },
   {
    "duration": 85,
    "start_time": "2023-04-21T12:27:30.854Z"
   },
   {
    "duration": 103,
    "start_time": "2023-04-21T12:30:37.801Z"
   },
   {
    "duration": 102,
    "start_time": "2023-04-21T12:36:49.787Z"
   },
   {
    "duration": 16,
    "start_time": "2023-04-21T12:36:51.369Z"
   },
   {
    "duration": 12,
    "start_time": "2023-04-21T12:48:06.937Z"
   },
   {
    "duration": 9,
    "start_time": "2023-04-21T12:49:02.305Z"
   },
   {
    "duration": 945,
    "start_time": "2023-04-21T12:52:56.809Z"
   },
   {
    "duration": 8,
    "start_time": "2023-04-21T12:54:47.649Z"
   },
   {
    "duration": 30,
    "start_time": "2023-04-21T12:55:20.898Z"
   },
   {
    "duration": 6,
    "start_time": "2023-04-21T12:55:58.519Z"
   },
   {
    "duration": 6,
    "start_time": "2023-04-21T12:56:22.104Z"
   },
   {
    "duration": 8,
    "start_time": "2023-04-21T13:00:19.263Z"
   },
   {
    "duration": 7,
    "start_time": "2023-04-21T13:00:19.849Z"
   },
   {
    "duration": 3,
    "start_time": "2023-04-21T13:39:17.712Z"
   },
   {
    "duration": 89,
    "start_time": "2023-04-21T13:39:35.929Z"
   },
   {
    "duration": 13,
    "start_time": "2023-04-21T13:39:36.376Z"
   },
   {
    "duration": 13,
    "start_time": "2023-04-21T13:39:37.617Z"
   },
   {
    "duration": 12,
    "start_time": "2023-04-21T13:39:41.953Z"
   },
   {
    "duration": 17,
    "start_time": "2023-04-21T13:39:43.032Z"
   },
   {
    "duration": 17,
    "start_time": "2023-04-21T13:39:46.129Z"
   },
   {
    "duration": 32,
    "start_time": "2023-04-21T13:39:49.184Z"
   },
   {
    "duration": 2,
    "start_time": "2023-04-21T13:39:50.353Z"
   },
   {
    "duration": 17,
    "start_time": "2023-04-21T13:39:58.818Z"
   },
   {
    "duration": 5,
    "start_time": "2023-04-21T13:40:08.079Z"
   },
   {
    "duration": 7,
    "start_time": "2023-04-21T13:40:08.919Z"
   },
   {
    "duration": 4,
    "start_time": "2023-04-21T13:40:11.923Z"
   },
   {
    "duration": 5,
    "start_time": "2023-04-21T13:40:12.505Z"
   },
   {
    "duration": 7,
    "start_time": "2023-04-21T13:40:13.257Z"
   },
   {
    "duration": 4,
    "start_time": "2023-04-21T13:40:14.575Z"
   },
   {
    "duration": 6,
    "start_time": "2023-04-21T13:40:15.352Z"
   },
   {
    "duration": 119,
    "start_time": "2023-04-21T13:40:19.456Z"
   },
   {
    "duration": 12,
    "start_time": "2023-04-21T13:40:23.999Z"
   },
   {
    "duration": 1317,
    "start_time": "2023-04-21T13:40:28.858Z"
   },
   {
    "duration": 17,
    "start_time": "2023-04-21T13:41:18.914Z"
   },
   {
    "duration": 18,
    "start_time": "2023-04-21T13:41:55.751Z"
   },
   {
    "duration": 398,
    "start_time": "2023-04-21T13:42:01.042Z"
   },
   {
    "duration": 8,
    "start_time": "2023-04-21T13:42:02.338Z"
   },
   {
    "duration": 311,
    "start_time": "2023-04-21T13:42:03.472Z"
   },
   {
    "duration": 328,
    "start_time": "2023-04-21T13:42:39.014Z"
   },
   {
    "duration": 11,
    "start_time": "2023-04-21T13:42:40.163Z"
   },
   {
    "duration": 1039,
    "start_time": "2023-04-21T13:42:47.899Z"
   },
   {
    "duration": 234,
    "start_time": "2023-04-21T13:43:17.073Z"
   },
   {
    "duration": 291,
    "start_time": "2023-04-21T13:43:40.681Z"
   },
   {
    "duration": 9917,
    "start_time": "2023-04-21T13:44:01.033Z"
   },
   {
    "duration": 84,
    "start_time": "2023-04-21T13:44:36.799Z"
   },
   {
    "duration": 86,
    "start_time": "2023-04-21T13:44:41.314Z"
   },
   {
    "duration": 83,
    "start_time": "2023-04-21T13:44:54.476Z"
   },
   {
    "duration": 83,
    "start_time": "2023-04-21T13:44:58.077Z"
   },
   {
    "duration": 213,
    "start_time": "2023-04-21T13:46:01.370Z"
   },
   {
    "duration": 201,
    "start_time": "2023-04-21T13:47:18.643Z"
   },
   {
    "duration": 183,
    "start_time": "2023-04-21T13:47:33.662Z"
   },
   {
    "duration": 157,
    "start_time": "2023-04-21T13:47:42.274Z"
   },
   {
    "duration": 591,
    "start_time": "2023-04-21T13:47:57.388Z"
   },
   {
    "duration": 47,
    "start_time": "2023-04-21T13:48:33.544Z"
   },
   {
    "duration": 251,
    "start_time": "2023-04-21T13:48:38.498Z"
   },
   {
    "duration": 9,
    "start_time": "2023-04-21T13:49:09.426Z"
   },
   {
    "duration": 86,
    "start_time": "2023-04-21T13:49:10.802Z"
   },
   {
    "duration": 85,
    "start_time": "2023-04-21T13:49:12.426Z"
   },
   {
    "duration": 12,
    "start_time": "2023-04-21T13:49:16.283Z"
   },
   {
    "duration": 96,
    "start_time": "2023-04-21T13:49:17.265Z"
   },
   {
    "duration": 85,
    "start_time": "2023-04-21T13:49:21.452Z"
   },
   {
    "duration": 9,
    "start_time": "2023-04-21T13:50:02.644Z"
   },
   {
    "duration": 11,
    "start_time": "2023-04-21T13:50:30.013Z"
   },
   {
    "duration": 106,
    "start_time": "2023-04-21T13:50:30.479Z"
   },
   {
    "duration": 96,
    "start_time": "2023-04-21T13:50:35.812Z"
   },
   {
    "duration": 91,
    "start_time": "2023-04-21T13:50:41.105Z"
   },
   {
    "duration": 16,
    "start_time": "2023-04-21T13:50:44.760Z"
   },
   {
    "duration": 10,
    "start_time": "2023-04-21T13:51:25.669Z"
   },
   {
    "duration": 8,
    "start_time": "2023-04-21T13:51:29.891Z"
   },
   {
    "duration": 6,
    "start_time": "2023-04-21T13:51:33.194Z"
   },
   {
    "duration": 7,
    "start_time": "2023-04-21T13:51:36.396Z"
   },
   {
    "duration": 7,
    "start_time": "2023-04-21T13:51:37.145Z"
   },
   {
    "duration": 7,
    "start_time": "2023-04-21T13:51:37.778Z"
   },
   {
    "duration": 1391,
    "start_time": "2023-04-21T17:15:12.692Z"
   },
   {
    "duration": 67,
    "start_time": "2023-04-21T17:15:14.086Z"
   },
   {
    "duration": 26,
    "start_time": "2023-04-21T17:15:14.155Z"
   },
   {
    "duration": 18,
    "start_time": "2023-04-21T17:15:14.184Z"
   },
   {
    "duration": 17,
    "start_time": "2023-04-21T17:15:14.204Z"
   },
   {
    "duration": 32,
    "start_time": "2023-04-21T17:15:14.223Z"
   },
   {
    "duration": 36,
    "start_time": "2023-04-21T17:15:14.257Z"
   },
   {
    "duration": 76,
    "start_time": "2023-04-21T17:15:14.295Z"
   },
   {
    "duration": 7,
    "start_time": "2023-04-21T17:15:14.373Z"
   },
   {
    "duration": 44,
    "start_time": "2023-04-21T17:15:14.383Z"
   },
   {
    "duration": 20,
    "start_time": "2023-04-21T17:15:14.429Z"
   },
   {
    "duration": 41,
    "start_time": "2023-04-21T17:15:14.451Z"
   },
   {
    "duration": 30,
    "start_time": "2023-04-21T17:15:14.494Z"
   },
   {
    "duration": 24,
    "start_time": "2023-04-21T17:15:14.526Z"
   },
   {
    "duration": 31,
    "start_time": "2023-04-21T17:15:14.552Z"
   },
   {
    "duration": 18,
    "start_time": "2023-04-21T17:15:14.585Z"
   },
   {
    "duration": 11,
    "start_time": "2023-04-21T17:15:14.606Z"
   },
   {
    "duration": 131,
    "start_time": "2023-04-21T17:15:14.619Z"
   },
   {
    "duration": 14,
    "start_time": "2023-04-21T17:15:14.752Z"
   },
   {
    "duration": 1240,
    "start_time": "2023-04-21T17:15:14.768Z"
   },
   {
    "duration": 31,
    "start_time": "2023-04-21T17:15:16.011Z"
   },
   {
    "duration": 71,
    "start_time": "2023-04-21T17:15:16.044Z"
   },
   {
    "duration": 539,
    "start_time": "2023-04-21T17:15:16.117Z"
   },
   {
    "duration": 10,
    "start_time": "2023-04-21T17:15:16.659Z"
   },
   {
    "duration": 376,
    "start_time": "2023-04-21T17:15:16.671Z"
   },
   {
    "duration": 342,
    "start_time": "2023-04-21T17:15:17.049Z"
   },
   {
    "duration": 15,
    "start_time": "2023-04-21T17:15:17.393Z"
   },
   {
    "duration": 1244,
    "start_time": "2023-04-21T17:15:17.412Z"
   },
   {
    "duration": 328,
    "start_time": "2023-04-21T17:15:18.658Z"
   },
   {
    "duration": 335,
    "start_time": "2023-04-21T17:15:18.988Z"
   },
   {
    "duration": 1162,
    "start_time": "2023-04-21T17:15:19.325Z"
   },
   {
    "duration": 130,
    "start_time": "2023-04-21T17:15:20.488Z"
   },
   {
    "duration": 132,
    "start_time": "2023-04-21T17:15:20.620Z"
   },
   {
    "duration": 238,
    "start_time": "2023-04-21T17:15:20.754Z"
   },
   {
    "duration": 125,
    "start_time": "2023-04-21T17:15:20.994Z"
   },
   {
    "duration": 215,
    "start_time": "2023-04-21T17:15:21.121Z"
   },
   {
    "duration": 183,
    "start_time": "2023-04-21T17:15:21.342Z"
   },
   {
    "duration": 760,
    "start_time": "2023-04-21T17:15:21.527Z"
   },
   {
    "duration": 50,
    "start_time": "2023-04-21T17:15:22.289Z"
   },
   {
    "duration": 312,
    "start_time": "2023-04-21T17:15:22.340Z"
   },
   {
    "duration": 13,
    "start_time": "2023-04-21T17:15:22.654Z"
   },
   {
    "duration": 145,
    "start_time": "2023-04-21T17:15:22.669Z"
   },
   {
    "duration": 260,
    "start_time": "2023-04-21T17:15:22.816Z"
   },
   {
    "duration": 12,
    "start_time": "2023-04-21T17:15:23.078Z"
   },
   {
    "duration": 132,
    "start_time": "2023-04-21T17:15:23.092Z"
   },
   {
    "duration": 129,
    "start_time": "2023-04-21T17:15:23.235Z"
   },
   {
    "duration": 13,
    "start_time": "2023-04-21T17:15:23.366Z"
   },
   {
    "duration": 130,
    "start_time": "2023-04-21T17:15:23.381Z"
   },
   {
    "duration": 131,
    "start_time": "2023-04-21T17:15:23.513Z"
   },
   {
    "duration": 145,
    "start_time": "2023-04-21T17:15:23.646Z"
   },
   {
    "duration": 19,
    "start_time": "2023-04-21T17:15:23.793Z"
   },
   {
    "duration": 27,
    "start_time": "2023-04-21T17:15:23.814Z"
   },
   {
    "duration": 20,
    "start_time": "2023-04-21T17:15:23.843Z"
   },
   {
    "duration": 20,
    "start_time": "2023-04-21T17:15:23.865Z"
   },
   {
    "duration": 12,
    "start_time": "2023-04-21T17:15:23.887Z"
   },
   {
    "duration": 15,
    "start_time": "2023-04-21T17:15:23.901Z"
   },
   {
    "duration": 16,
    "start_time": "2023-04-21T17:15:23.917Z"
   },
   {
    "duration": 52,
    "start_time": "2023-04-22T10:21:46.214Z"
   },
   {
    "duration": 1318,
    "start_time": "2023-04-22T10:22:01.919Z"
   },
   {
    "duration": 102,
    "start_time": "2023-04-22T10:22:03.239Z"
   },
   {
    "duration": 18,
    "start_time": "2023-04-22T10:22:03.342Z"
   },
   {
    "duration": 19,
    "start_time": "2023-04-22T10:22:03.362Z"
   },
   {
    "duration": 11,
    "start_time": "2023-04-22T10:22:03.383Z"
   },
   {
    "duration": 16,
    "start_time": "2023-04-22T10:22:03.395Z"
   },
   {
    "duration": 25,
    "start_time": "2023-04-22T10:22:03.412Z"
   },
   {
    "duration": 33,
    "start_time": "2023-04-22T10:22:03.438Z"
   },
   {
    "duration": 2,
    "start_time": "2023-04-22T10:22:03.473Z"
   },
   {
    "duration": 34,
    "start_time": "2023-04-22T10:22:03.477Z"
   },
   {
    "duration": 4,
    "start_time": "2023-04-22T10:22:03.513Z"
   },
   {
    "duration": 17,
    "start_time": "2023-04-22T10:22:03.518Z"
   },
   {
    "duration": 15,
    "start_time": "2023-04-22T10:22:03.537Z"
   },
   {
    "duration": 9,
    "start_time": "2023-04-22T10:22:03.553Z"
   },
   {
    "duration": 13,
    "start_time": "2023-04-22T10:22:03.564Z"
   },
   {
    "duration": 8,
    "start_time": "2023-04-22T10:22:03.578Z"
   },
   {
    "duration": 7,
    "start_time": "2023-04-22T10:22:03.587Z"
   },
   {
    "duration": 101,
    "start_time": "2023-04-22T10:22:03.596Z"
   },
   {
    "duration": 12,
    "start_time": "2023-04-22T10:22:03.699Z"
   },
   {
    "duration": 963,
    "start_time": "2023-04-22T10:22:03.712Z"
   },
   {
    "duration": 17,
    "start_time": "2023-04-22T10:22:04.676Z"
   },
   {
    "duration": 15,
    "start_time": "2023-04-22T10:22:04.694Z"
   },
   {
    "duration": 457,
    "start_time": "2023-04-22T10:22:04.710Z"
   },
   {
    "duration": 7,
    "start_time": "2023-04-22T10:22:05.168Z"
   },
   {
    "duration": 281,
    "start_time": "2023-04-22T10:22:05.176Z"
   },
   {
    "duration": 278,
    "start_time": "2023-04-22T10:22:05.459Z"
   },
   {
    "duration": 12,
    "start_time": "2023-04-22T10:22:05.738Z"
   },
   {
    "duration": 977,
    "start_time": "2023-04-22T10:22:05.753Z"
   },
   {
    "duration": 246,
    "start_time": "2023-04-22T10:22:06.734Z"
   },
   {
    "duration": 218,
    "start_time": "2023-04-22T10:22:06.982Z"
   },
   {
    "duration": 949,
    "start_time": "2023-04-22T10:22:07.202Z"
   },
   {
    "duration": 118,
    "start_time": "2023-04-22T10:22:08.152Z"
   },
   {
    "duration": 113,
    "start_time": "2023-04-22T10:22:08.272Z"
   },
   {
    "duration": 106,
    "start_time": "2023-04-22T10:22:08.387Z"
   },
   {
    "duration": 201,
    "start_time": "2023-04-22T10:22:08.495Z"
   },
   {
    "duration": 168,
    "start_time": "2023-04-22T10:22:08.697Z"
   },
   {
    "duration": 157,
    "start_time": "2023-04-22T10:22:08.867Z"
   },
   {
    "duration": 629,
    "start_time": "2023-04-22T10:22:09.026Z"
   },
   {
    "duration": 29,
    "start_time": "2023-04-22T10:22:09.657Z"
   },
   {
    "duration": 278,
    "start_time": "2023-04-22T10:22:09.687Z"
   },
   {
    "duration": 10,
    "start_time": "2023-04-22T10:22:09.967Z"
   },
   {
    "duration": 126,
    "start_time": "2023-04-22T10:22:09.978Z"
   },
   {
    "duration": 118,
    "start_time": "2023-04-22T10:22:10.105Z"
   },
   {
    "duration": 19,
    "start_time": "2023-04-22T10:22:10.224Z"
   },
   {
    "duration": 205,
    "start_time": "2023-04-22T10:22:10.244Z"
   },
   {
    "duration": 117,
    "start_time": "2023-04-22T10:22:10.451Z"
   },
   {
    "duration": 10,
    "start_time": "2023-04-22T10:22:10.570Z"
   },
   {
    "duration": 113,
    "start_time": "2023-04-22T10:22:10.582Z"
   },
   {
    "duration": 115,
    "start_time": "2023-04-22T10:22:10.696Z"
   },
   {
    "duration": 135,
    "start_time": "2023-04-22T10:22:10.812Z"
   },
   {
    "duration": 20,
    "start_time": "2023-04-22T10:22:10.948Z"
   },
   {
    "duration": 16,
    "start_time": "2023-04-22T10:22:10.969Z"
   },
   {
    "duration": 14,
    "start_time": "2023-04-22T10:22:10.987Z"
   },
   {
    "duration": 7,
    "start_time": "2023-04-22T10:22:11.005Z"
   },
   {
    "duration": 10,
    "start_time": "2023-04-22T10:22:11.034Z"
   },
   {
    "duration": 9,
    "start_time": "2023-04-22T10:22:11.045Z"
   },
   {
    "duration": 8,
    "start_time": "2023-04-22T10:22:11.056Z"
   },
   {
    "duration": 179,
    "start_time": "2023-04-22T10:23:59.819Z"
   },
   {
    "duration": 230,
    "start_time": "2023-04-22T10:24:40.940Z"
   },
   {
    "duration": 788,
    "start_time": "2023-04-22T10:59:19.783Z"
   },
   {
    "duration": 115,
    "start_time": "2023-04-22T11:04:04.668Z"
   },
   {
    "duration": 101,
    "start_time": "2023-04-22T11:04:09.909Z"
   },
   {
    "duration": 88,
    "start_time": "2023-04-22T11:11:51.275Z"
   },
   {
    "duration": 196,
    "start_time": "2023-04-22T11:13:41.554Z"
   },
   {
    "duration": 143,
    "start_time": "2023-04-22T11:18:05.148Z"
   },
   {
    "duration": 153,
    "start_time": "2023-04-22T11:18:12.659Z"
   },
   {
    "duration": 89,
    "start_time": "2023-04-22T11:22:05.360Z"
   },
   {
    "duration": 95,
    "start_time": "2023-04-22T11:22:10.049Z"
   },
   {
    "duration": 540,
    "start_time": "2023-04-22T11:29:58.287Z"
   },
   {
    "duration": 352,
    "start_time": "2023-04-22T12:07:24.210Z"
   },
   {
    "duration": 283,
    "start_time": "2023-04-22T12:08:05.386Z"
   },
   {
    "duration": 402,
    "start_time": "2023-04-22T12:08:14.081Z"
   },
   {
    "duration": 252,
    "start_time": "2023-04-22T12:08:20.690Z"
   },
   {
    "duration": 331,
    "start_time": "2023-04-22T12:13:22.969Z"
   },
   {
    "duration": 238,
    "start_time": "2023-04-22T12:13:57.912Z"
   },
   {
    "duration": 263,
    "start_time": "2023-04-22T12:16:08.077Z"
   },
   {
    "duration": 304,
    "start_time": "2023-04-22T12:16:27.985Z"
   },
   {
    "duration": 308,
    "start_time": "2023-04-22T12:16:52.143Z"
   },
   {
    "duration": 97,
    "start_time": "2023-04-22T12:17:30.407Z"
   },
   {
    "duration": 496,
    "start_time": "2023-04-22T12:17:36.903Z"
   },
   {
    "duration": 3,
    "start_time": "2023-04-22T12:18:33.305Z"
   },
   {
    "duration": 57,
    "start_time": "2023-04-22T12:18:33.310Z"
   },
   {
    "duration": 13,
    "start_time": "2023-04-22T12:18:33.369Z"
   },
   {
    "duration": 19,
    "start_time": "2023-04-22T12:18:33.383Z"
   },
   {
    "duration": 10,
    "start_time": "2023-04-22T12:18:33.404Z"
   },
   {
    "duration": 26,
    "start_time": "2023-04-22T12:18:33.415Z"
   },
   {
    "duration": 29,
    "start_time": "2023-04-22T12:18:33.442Z"
   },
   {
    "duration": 36,
    "start_time": "2023-04-22T12:18:33.473Z"
   },
   {
    "duration": 3,
    "start_time": "2023-04-22T12:18:33.510Z"
   },
   {
    "duration": 24,
    "start_time": "2023-04-22T12:18:33.514Z"
   },
   {
    "duration": 4,
    "start_time": "2023-04-22T12:18:33.541Z"
   },
   {
    "duration": 17,
    "start_time": "2023-04-22T12:18:33.547Z"
   },
   {
    "duration": 9,
    "start_time": "2023-04-22T12:18:33.566Z"
   },
   {
    "duration": 17,
    "start_time": "2023-04-22T12:18:33.576Z"
   },
   {
    "duration": 32,
    "start_time": "2023-04-22T12:18:33.595Z"
   },
   {
    "duration": 11,
    "start_time": "2023-04-22T12:18:33.628Z"
   },
   {
    "duration": 52,
    "start_time": "2023-04-22T12:18:33.640Z"
   },
   {
    "duration": 107,
    "start_time": "2023-04-22T12:18:33.694Z"
   },
   {
    "duration": 12,
    "start_time": "2023-04-22T12:18:33.802Z"
   },
   {
    "duration": 1220,
    "start_time": "2023-04-22T12:18:33.815Z"
   },
   {
    "duration": 18,
    "start_time": "2023-04-22T12:18:35.036Z"
   },
   {
    "duration": 17,
    "start_time": "2023-04-22T12:18:35.056Z"
   },
   {
    "duration": 424,
    "start_time": "2023-04-22T12:18:35.074Z"
   },
   {
    "duration": 6,
    "start_time": "2023-04-22T12:18:35.500Z"
   },
   {
    "duration": 371,
    "start_time": "2023-04-22T12:18:35.507Z"
   },
   {
    "duration": 322,
    "start_time": "2023-04-22T12:18:35.880Z"
   },
   {
    "duration": 12,
    "start_time": "2023-04-22T12:18:36.204Z"
   },
   {
    "duration": 1277,
    "start_time": "2023-04-22T12:18:36.217Z"
   },
   {
    "duration": 198,
    "start_time": "2023-04-22T12:18:37.497Z"
   },
   {
    "duration": 254,
    "start_time": "2023-04-22T12:18:37.697Z"
   },
   {
    "duration": 891,
    "start_time": "2023-04-22T12:18:37.952Z"
   },
   {
    "duration": 130,
    "start_time": "2023-04-22T12:18:38.844Z"
   },
   {
    "duration": 134,
    "start_time": "2023-04-22T12:18:38.975Z"
   },
   {
    "duration": 134,
    "start_time": "2023-04-22T12:18:39.111Z"
   },
   {
    "duration": 143,
    "start_time": "2023-04-22T12:18:39.246Z"
   },
   {
    "duration": 193,
    "start_time": "2023-04-22T12:18:39.391Z"
   },
   {
    "duration": 188,
    "start_time": "2023-04-22T12:18:39.585Z"
   },
   {
    "duration": 749,
    "start_time": "2023-04-22T12:18:39.774Z"
   },
   {
    "duration": 33,
    "start_time": "2023-04-22T12:18:40.525Z"
   },
   {
    "duration": 27,
    "start_time": "2023-04-22T12:18:44.061Z"
   },
   {
    "duration": 327,
    "start_time": "2023-04-22T12:18:45.509Z"
   },
   {
    "duration": 155,
    "start_time": "2023-04-22T12:19:39.934Z"
   },
   {
    "duration": 311,
    "start_time": "2023-04-22T12:19:50.638Z"
   },
   {
    "duration": 89,
    "start_time": "2023-04-22T12:23:55.941Z"
   },
   {
    "duration": 290,
    "start_time": "2023-04-22T12:24:06.892Z"
   },
   {
    "duration": 229,
    "start_time": "2023-04-22T12:25:38.508Z"
   },
   {
    "duration": 87,
    "start_time": "2023-04-22T12:26:09.117Z"
   },
   {
    "duration": 89,
    "start_time": "2023-04-22T12:26:52.099Z"
   },
   {
    "duration": 297,
    "start_time": "2023-04-22T12:27:02.044Z"
   },
   {
    "duration": 70,
    "start_time": "2023-04-22T12:27:18.155Z"
   },
   {
    "duration": 286,
    "start_time": "2023-04-22T12:27:27.356Z"
   },
   {
    "duration": 301,
    "start_time": "2023-04-22T12:27:48.563Z"
   },
   {
    "duration": 302,
    "start_time": "2023-04-22T12:27:54.854Z"
   },
   {
    "duration": 304,
    "start_time": "2023-04-22T12:28:04.904Z"
   },
   {
    "duration": 473,
    "start_time": "2023-04-22T12:28:18.083Z"
   },
   {
    "duration": 9,
    "start_time": "2023-04-22T12:28:37.994Z"
   },
   {
    "duration": 115,
    "start_time": "2023-04-22T12:28:39.019Z"
   },
   {
    "duration": 106,
    "start_time": "2023-04-22T12:28:52.063Z"
   },
   {
    "duration": 10,
    "start_time": "2023-04-22T12:46:38.510Z"
   },
   {
    "duration": 111,
    "start_time": "2023-04-22T12:46:38.940Z"
   },
   {
    "duration": 126,
    "start_time": "2023-04-22T12:46:40.342Z"
   },
   {
    "duration": 10,
    "start_time": "2023-04-22T12:51:46.242Z"
   },
   {
    "duration": 125,
    "start_time": "2023-04-22T12:51:46.677Z"
   },
   {
    "duration": 122,
    "start_time": "2023-04-22T12:51:50.995Z"
   },
   {
    "duration": 10,
    "start_time": "2023-04-22T12:52:17.610Z"
   },
   {
    "duration": 106,
    "start_time": "2023-04-22T12:52:18.173Z"
   },
   {
    "duration": 110,
    "start_time": "2023-04-22T12:52:22.251Z"
   },
   {
    "duration": 107,
    "start_time": "2023-04-22T12:55:27.343Z"
   },
   {
    "duration": 118,
    "start_time": "2023-04-22T12:55:46.946Z"
   },
   {
    "duration": 126,
    "start_time": "2023-04-22T12:56:50.611Z"
   },
   {
    "duration": 16,
    "start_time": "2023-04-22T12:57:39.242Z"
   },
   {
    "duration": 10,
    "start_time": "2023-04-22T12:58:18.418Z"
   },
   {
    "duration": 7,
    "start_time": "2023-04-22T12:58:19.514Z"
   },
   {
    "duration": 7,
    "start_time": "2023-04-22T12:58:21.899Z"
   },
   {
    "duration": 8,
    "start_time": "2023-04-22T12:58:33.554Z"
   },
   {
    "duration": 8,
    "start_time": "2023-04-22T12:58:33.978Z"
   },
   {
    "duration": 8,
    "start_time": "2023-04-22T12:58:34.497Z"
   },
   {
    "duration": 1168,
    "start_time": "2023-04-22T13:19:44.875Z"
   },
   {
    "duration": 52,
    "start_time": "2023-04-22T13:19:46.045Z"
   },
   {
    "duration": 23,
    "start_time": "2023-04-22T13:19:46.099Z"
   },
   {
    "duration": 15,
    "start_time": "2023-04-22T13:19:46.124Z"
   },
   {
    "duration": 13,
    "start_time": "2023-04-22T13:19:46.140Z"
   },
   {
    "duration": 25,
    "start_time": "2023-04-22T13:19:46.154Z"
   },
   {
    "duration": 18,
    "start_time": "2023-04-22T13:19:46.180Z"
   },
   {
    "duration": 46,
    "start_time": "2023-04-22T13:19:46.200Z"
   },
   {
    "duration": 2,
    "start_time": "2023-04-22T13:19:46.248Z"
   },
   {
    "duration": 22,
    "start_time": "2023-04-22T13:19:46.252Z"
   },
   {
    "duration": 4,
    "start_time": "2023-04-22T13:19:46.276Z"
   },
   {
    "duration": 9,
    "start_time": "2023-04-22T13:19:46.282Z"
   },
   {
    "duration": 8,
    "start_time": "2023-04-22T13:19:46.293Z"
   },
   {
    "duration": 34,
    "start_time": "2023-04-22T13:19:46.302Z"
   },
   {
    "duration": 11,
    "start_time": "2023-04-22T13:19:46.338Z"
   },
   {
    "duration": 11,
    "start_time": "2023-04-22T13:19:46.350Z"
   },
   {
    "duration": 9,
    "start_time": "2023-04-22T13:19:46.363Z"
   },
   {
    "duration": 121,
    "start_time": "2023-04-22T13:19:46.374Z"
   },
   {
    "duration": 12,
    "start_time": "2023-04-22T13:19:46.496Z"
   },
   {
    "duration": 1030,
    "start_time": "2023-04-22T13:19:46.509Z"
   },
   {
    "duration": 19,
    "start_time": "2023-04-22T13:19:47.540Z"
   },
   {
    "duration": 21,
    "start_time": "2023-04-22T13:19:47.561Z"
   },
   {
    "duration": 459,
    "start_time": "2023-04-22T13:19:47.584Z"
   },
   {
    "duration": 7,
    "start_time": "2023-04-22T13:19:48.045Z"
   },
   {
    "duration": 291,
    "start_time": "2023-04-22T13:19:48.053Z"
   },
   {
    "duration": 306,
    "start_time": "2023-04-22T13:19:48.346Z"
   },
   {
    "duration": 13,
    "start_time": "2023-04-22T13:19:48.654Z"
   },
   {
    "duration": 1076,
    "start_time": "2023-04-22T13:19:48.671Z"
   },
   {
    "duration": 263,
    "start_time": "2023-04-22T13:19:49.749Z"
   },
   {
    "duration": 237,
    "start_time": "2023-04-22T13:19:50.014Z"
   },
   {
    "duration": 860,
    "start_time": "2023-04-22T13:19:50.252Z"
   },
   {
    "duration": 97,
    "start_time": "2023-04-22T13:19:51.114Z"
   },
   {
    "duration": 107,
    "start_time": "2023-04-22T13:19:51.213Z"
   },
   {
    "duration": 94,
    "start_time": "2023-04-22T13:19:51.321Z"
   },
   {
    "duration": 184,
    "start_time": "2023-04-22T13:19:51.416Z"
   },
   {
    "duration": 148,
    "start_time": "2023-04-22T13:19:51.601Z"
   },
   {
    "duration": 144,
    "start_time": "2023-04-22T13:19:51.750Z"
   },
   {
    "duration": 563,
    "start_time": "2023-04-22T13:19:51.896Z"
   },
   {
    "duration": 27,
    "start_time": "2023-04-22T13:19:52.461Z"
   },
   {
    "duration": 263,
    "start_time": "2023-04-22T13:19:52.489Z"
   },
   {
    "duration": 10,
    "start_time": "2023-04-22T13:19:52.754Z"
   },
   {
    "duration": 114,
    "start_time": "2023-04-22T13:19:52.765Z"
   },
   {
    "duration": 111,
    "start_time": "2023-04-22T13:19:52.880Z"
   },
   {
    "duration": 10,
    "start_time": "2023-04-22T13:19:52.993Z"
   },
   {
    "duration": 217,
    "start_time": "2023-04-22T13:19:53.005Z"
   },
   {
    "duration": 125,
    "start_time": "2023-04-22T13:19:53.224Z"
   },
   {
    "duration": 9,
    "start_time": "2023-04-22T13:19:53.350Z"
   },
   {
    "duration": 97,
    "start_time": "2023-04-22T13:19:53.360Z"
   },
   {
    "duration": 106,
    "start_time": "2023-04-22T13:19:53.459Z"
   },
   {
    "duration": 118,
    "start_time": "2023-04-22T13:19:53.567Z"
   },
   {
    "duration": 16,
    "start_time": "2023-04-22T13:19:53.687Z"
   },
   {
    "duration": 26,
    "start_time": "2023-04-22T13:19:53.705Z"
   },
   {
    "duration": 39,
    "start_time": "2023-04-22T13:19:53.733Z"
   },
   {
    "duration": 11,
    "start_time": "2023-04-22T13:19:53.774Z"
   },
   {
    "duration": 13,
    "start_time": "2023-04-22T13:19:53.787Z"
   },
   {
    "duration": 8,
    "start_time": "2023-04-22T13:19:53.801Z"
   },
   {
    "duration": 8,
    "start_time": "2023-04-22T13:19:53.810Z"
   },
   {
    "duration": 1310,
    "start_time": "2023-04-23T04:59:41.229Z"
   },
   {
    "duration": 71,
    "start_time": "2023-04-23T04:59:42.541Z"
   },
   {
    "duration": 27,
    "start_time": "2023-04-23T04:59:42.614Z"
   },
   {
    "duration": 21,
    "start_time": "2023-04-23T04:59:42.645Z"
   },
   {
    "duration": 32,
    "start_time": "2023-04-23T04:59:42.668Z"
   },
   {
    "duration": 18,
    "start_time": "2023-04-23T04:59:42.702Z"
   },
   {
    "duration": 27,
    "start_time": "2023-04-23T04:59:42.722Z"
   },
   {
    "duration": 67,
    "start_time": "2023-04-23T04:59:42.751Z"
   },
   {
    "duration": 3,
    "start_time": "2023-04-23T04:59:42.819Z"
   },
   {
    "duration": 24,
    "start_time": "2023-04-23T04:59:42.825Z"
   },
   {
    "duration": 6,
    "start_time": "2023-04-23T04:59:42.851Z"
   },
   {
    "duration": 33,
    "start_time": "2023-04-23T04:59:42.859Z"
   },
   {
    "duration": 12,
    "start_time": "2023-04-23T04:59:42.894Z"
   },
   {
    "duration": 9,
    "start_time": "2023-04-23T04:59:42.908Z"
   },
   {
    "duration": 19,
    "start_time": "2023-04-23T04:59:42.919Z"
   },
   {
    "duration": 10,
    "start_time": "2023-04-23T04:59:42.940Z"
   },
   {
    "duration": 10,
    "start_time": "2023-04-23T04:59:42.953Z"
   },
   {
    "duration": 154,
    "start_time": "2023-04-23T04:59:42.965Z"
   },
   {
    "duration": 21,
    "start_time": "2023-04-23T04:59:43.122Z"
   },
   {
    "duration": 1271,
    "start_time": "2023-04-23T04:59:43.145Z"
   },
   {
    "duration": 29,
    "start_time": "2023-04-23T04:59:44.417Z"
   },
   {
    "duration": 19,
    "start_time": "2023-04-23T04:59:44.449Z"
   },
   {
    "duration": 485,
    "start_time": "2023-04-23T04:59:44.488Z"
   },
   {
    "duration": 15,
    "start_time": "2023-04-23T04:59:44.975Z"
   },
   {
    "duration": 337,
    "start_time": "2023-04-23T04:59:44.993Z"
   },
   {
    "duration": 328,
    "start_time": "2023-04-23T04:59:45.331Z"
   },
   {
    "duration": 28,
    "start_time": "2023-04-23T04:59:45.661Z"
   },
   {
    "duration": 1262,
    "start_time": "2023-04-23T04:59:45.694Z"
   },
   {
    "duration": 321,
    "start_time": "2023-04-23T04:59:46.957Z"
   },
   {
    "duration": 287,
    "start_time": "2023-04-23T04:59:47.280Z"
   },
   {
    "duration": 1061,
    "start_time": "2023-04-23T04:59:47.569Z"
   },
   {
    "duration": 285,
    "start_time": "2023-04-23T04:59:48.632Z"
   },
   {
    "duration": 291,
    "start_time": "2023-04-23T04:59:48.919Z"
   },
   {
    "duration": 212,
    "start_time": "2023-04-23T04:59:49.213Z"
   },
   {
    "duration": 382,
    "start_time": "2023-04-23T04:59:49.427Z"
   },
   {
    "duration": 186,
    "start_time": "2023-04-23T04:59:49.810Z"
   },
   {
    "duration": 249,
    "start_time": "2023-04-23T04:59:49.998Z"
   },
   {
    "duration": 810,
    "start_time": "2023-04-23T04:59:50.249Z"
   },
   {
    "duration": 31,
    "start_time": "2023-04-23T04:59:51.060Z"
   },
   {
    "duration": 332,
    "start_time": "2023-04-23T04:59:51.093Z"
   },
   {
    "duration": 11,
    "start_time": "2023-04-23T04:59:51.427Z"
   },
   {
    "duration": 130,
    "start_time": "2023-04-23T04:59:51.439Z"
   },
   {
    "duration": 132,
    "start_time": "2023-04-23T04:59:51.571Z"
   },
   {
    "duration": 12,
    "start_time": "2023-04-23T04:59:51.705Z"
   },
   {
    "duration": 238,
    "start_time": "2023-04-23T04:59:51.718Z"
   },
   {
    "duration": 131,
    "start_time": "2023-04-23T04:59:51.958Z"
   },
   {
    "duration": 12,
    "start_time": "2023-04-23T04:59:52.091Z"
   },
   {
    "duration": 129,
    "start_time": "2023-04-23T04:59:52.105Z"
   },
   {
    "duration": 128,
    "start_time": "2023-04-23T04:59:52.236Z"
   },
   {
    "duration": 146,
    "start_time": "2023-04-23T04:59:52.366Z"
   },
   {
    "duration": 25,
    "start_time": "2023-04-23T04:59:52.515Z"
   },
   {
    "duration": 17,
    "start_time": "2023-04-23T04:59:52.543Z"
   },
   {
    "duration": 31,
    "start_time": "2023-04-23T04:59:52.562Z"
   },
   {
    "duration": 12,
    "start_time": "2023-04-23T04:59:52.595Z"
   },
   {
    "duration": 17,
    "start_time": "2023-04-23T04:59:52.609Z"
   },
   {
    "duration": 22,
    "start_time": "2023-04-23T04:59:52.628Z"
   },
   {
    "duration": 18,
    "start_time": "2023-04-23T04:59:52.652Z"
   },
   {
    "duration": 321,
    "start_time": "2023-04-23T05:03:01.183Z"
   },
   {
    "duration": 46,
    "start_time": "2023-09-23T15:47:23.476Z"
   },
   {
    "duration": 1399,
    "start_time": "2023-09-23T15:47:33.293Z"
   },
   {
    "duration": 201,
    "start_time": "2023-09-23T15:47:34.694Z"
   },
   {
    "duration": 18,
    "start_time": "2023-09-23T15:47:34.896Z"
   },
   {
    "duration": 15,
    "start_time": "2023-09-23T15:47:34.915Z"
   },
   {
    "duration": 10,
    "start_time": "2023-09-23T15:47:34.932Z"
   },
   {
    "duration": 15,
    "start_time": "2023-09-23T15:47:34.944Z"
   },
   {
    "duration": 20,
    "start_time": "2023-09-23T15:47:34.960Z"
   },
   {
    "duration": 40,
    "start_time": "2023-09-23T15:47:34.982Z"
   },
   {
    "duration": 3,
    "start_time": "2023-09-23T15:47:35.023Z"
   },
   {
    "duration": 23,
    "start_time": "2023-09-23T15:47:35.046Z"
   },
   {
    "duration": 5,
    "start_time": "2023-09-23T15:47:35.070Z"
   },
   {
    "duration": 37,
    "start_time": "2023-09-23T15:47:35.076Z"
   },
   {
    "duration": 8,
    "start_time": "2023-09-23T15:47:35.114Z"
   },
   {
    "duration": 16,
    "start_time": "2023-09-23T15:47:35.124Z"
   },
   {
    "duration": 28,
    "start_time": "2023-09-23T15:47:35.142Z"
   },
   {
    "duration": 15,
    "start_time": "2023-09-23T15:47:35.172Z"
   },
   {
    "duration": 24,
    "start_time": "2023-09-23T15:47:35.189Z"
   },
   {
    "duration": 134,
    "start_time": "2023-09-23T15:47:35.215Z"
   },
   {
    "duration": 14,
    "start_time": "2023-09-23T15:47:35.351Z"
   },
   {
    "duration": 1116,
    "start_time": "2023-09-23T15:47:35.368Z"
   },
   {
    "duration": 25,
    "start_time": "2023-09-23T15:47:36.486Z"
   },
   {
    "duration": 25,
    "start_time": "2023-09-23T15:47:48.853Z"
   },
   {
    "duration": 24,
    "start_time": "2023-09-23T15:47:56.947Z"
   },
   {
    "duration": 15,
    "start_time": "2023-09-23T15:48:16.586Z"
   },
   {
    "duration": 392,
    "start_time": "2023-09-23T15:48:24.857Z"
   },
   {
    "duration": 20,
    "start_time": "2023-09-23T15:48:25.310Z"
   },
   {
    "duration": 964,
    "start_time": "2023-09-23T15:48:29.866Z"
   },
   {
    "duration": 181,
    "start_time": "2023-09-23T15:48:38.771Z"
   },
   {
    "duration": 263,
    "start_time": "2023-09-23T15:48:45.347Z"
   },
   {
    "duration": 355,
    "start_time": "2023-09-23T15:48:56.776Z"
   },
   {
    "duration": 3,
    "start_time": "2023-09-23T15:49:38.804Z"
   },
   {
    "duration": 84,
    "start_time": "2023-09-23T15:49:38.809Z"
   },
   {
    "duration": 16,
    "start_time": "2023-09-23T15:49:38.894Z"
   },
   {
    "duration": 20,
    "start_time": "2023-09-23T15:49:38.911Z"
   },
   {
    "duration": 34,
    "start_time": "2023-09-23T15:49:38.933Z"
   },
   {
    "duration": 24,
    "start_time": "2023-09-23T15:49:38.969Z"
   },
   {
    "duration": 36,
    "start_time": "2023-09-23T15:49:38.995Z"
   },
   {
    "duration": 67,
    "start_time": "2023-09-23T15:49:39.033Z"
   },
   {
    "duration": 3,
    "start_time": "2023-09-23T15:49:39.102Z"
   },
   {
    "duration": 26,
    "start_time": "2023-09-23T15:49:39.108Z"
   },
   {
    "duration": 15,
    "start_time": "2023-09-23T15:49:39.136Z"
   },
   {
    "duration": 26,
    "start_time": "2023-09-23T15:49:39.152Z"
   },
   {
    "duration": 6,
    "start_time": "2023-09-23T15:49:39.180Z"
   },
   {
    "duration": 16,
    "start_time": "2023-09-23T15:49:39.188Z"
   },
   {
    "duration": 11,
    "start_time": "2023-09-23T15:49:39.207Z"
   },
   {
    "duration": 28,
    "start_time": "2023-09-23T15:49:39.220Z"
   },
   {
    "duration": 11,
    "start_time": "2023-09-23T15:49:39.250Z"
   },
   {
    "duration": 138,
    "start_time": "2023-09-23T15:49:39.272Z"
   },
   {
    "duration": 12,
    "start_time": "2023-09-23T15:49:39.412Z"
   },
   {
    "duration": 1502,
    "start_time": "2023-09-23T15:49:39.425Z"
   },
   {
    "duration": 34,
    "start_time": "2023-09-23T15:49:40.928Z"
   },
   {
    "duration": 19,
    "start_time": "2023-09-23T15:49:40.964Z"
   },
   {
    "duration": 529,
    "start_time": "2023-09-23T15:49:40.986Z"
   },
   {
    "duration": 7,
    "start_time": "2023-09-23T15:49:41.517Z"
   },
   {
    "duration": 392,
    "start_time": "2023-09-23T15:49:41.526Z"
   },
   {
    "duration": 364,
    "start_time": "2023-09-23T15:49:41.919Z"
   },
   {
    "duration": 20,
    "start_time": "2023-09-23T15:49:42.286Z"
   },
   {
    "duration": 1277,
    "start_time": "2023-09-23T15:49:42.310Z"
   },
   {
    "duration": 233,
    "start_time": "2023-09-23T15:49:43.588Z"
   },
   {
    "duration": 462,
    "start_time": "2023-09-23T15:49:43.823Z"
   },
   {
    "duration": 1101,
    "start_time": "2023-09-23T15:49:44.287Z"
   },
   {
    "duration": 123,
    "start_time": "2023-09-23T15:49:45.389Z"
   },
   {
    "duration": 112,
    "start_time": "2023-09-23T15:49:45.513Z"
   },
   {
    "duration": 107,
    "start_time": "2023-09-23T15:49:45.627Z"
   },
   {
    "duration": 110,
    "start_time": "2023-09-23T15:49:45.736Z"
   },
   {
    "duration": 431,
    "start_time": "2023-09-23T15:49:45.848Z"
   },
   {
    "duration": 160,
    "start_time": "2023-09-23T15:49:46.282Z"
   },
   {
    "duration": 172,
    "start_time": "2023-09-23T15:49:46.445Z"
   },
   {
    "duration": 745,
    "start_time": "2023-09-23T15:49:46.618Z"
   },
   {
    "duration": 32,
    "start_time": "2023-09-23T15:49:47.365Z"
   },
   {
    "duration": 281,
    "start_time": "2023-09-23T15:49:47.398Z"
   },
   {
    "duration": 10,
    "start_time": "2023-09-23T15:49:47.681Z"
   },
   {
    "duration": 126,
    "start_time": "2023-09-23T15:49:47.694Z"
   },
   {
    "duration": 125,
    "start_time": "2023-09-23T15:49:47.822Z"
   },
   {
    "duration": 18,
    "start_time": "2023-09-23T15:49:47.949Z"
   },
   {
    "duration": 120,
    "start_time": "2023-09-23T15:49:47.969Z"
   },
   {
    "duration": 119,
    "start_time": "2023-09-23T15:49:48.090Z"
   },
   {
    "duration": 9,
    "start_time": "2023-09-23T15:49:48.211Z"
   },
   {
    "duration": 232,
    "start_time": "2023-09-23T15:49:48.222Z"
   },
   {
    "duration": 124,
    "start_time": "2023-09-23T15:49:48.457Z"
   },
   {
    "duration": 142,
    "start_time": "2023-09-23T15:49:48.583Z"
   },
   {
    "duration": 26,
    "start_time": "2023-09-23T15:49:48.727Z"
   },
   {
    "duration": 13,
    "start_time": "2023-09-23T15:49:48.756Z"
   },
   {
    "duration": 13,
    "start_time": "2023-09-23T15:49:48.771Z"
   },
   {
    "duration": 33,
    "start_time": "2023-09-23T15:49:48.785Z"
   },
   {
    "duration": 16,
    "start_time": "2023-09-23T15:49:48.820Z"
   },
   {
    "duration": 37,
    "start_time": "2023-09-23T15:49:48.837Z"
   },
   {
    "duration": 11,
    "start_time": "2023-09-23T15:49:48.875Z"
   }
  ],
  "kernelspec": {
   "display_name": "Python 3 (ipykernel)",
   "language": "python",
   "name": "python3"
  },
  "language_info": {
   "codemirror_mode": {
    "name": "ipython",
    "version": 3
   },
   "file_extension": ".py",
   "mimetype": "text/x-python",
   "name": "python",
   "nbconvert_exporter": "python",
   "pygments_lexer": "ipython3",
   "version": "3.9.5"
  },
  "toc": {
   "base_numbering": 1,
   "nav_menu": {},
   "number_sections": true,
   "sideBar": true,
   "skip_h1_title": true,
   "title_cell": "Table of Contents",
   "title_sidebar": "Contents",
   "toc_cell": false,
   "toc_position": {},
   "toc_section_display": true,
   "toc_window_display": false
  }
 },
 "nbformat": 4,
 "nbformat_minor": 2
}
