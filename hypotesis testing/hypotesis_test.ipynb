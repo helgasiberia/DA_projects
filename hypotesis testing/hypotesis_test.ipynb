{
 "cells": [
  {
   "cell_type": "markdown",
   "metadata": {},
   "source": [
    "# Проверка гипотез по увеличению выручки интернет-магазина"
   ]
  },
  {
   "cell_type": "markdown",
   "metadata": {},
   "source": [
    "## Цели и задачи"
   ]
  },
  {
   "cell_type": "markdown",
   "metadata": {},
   "source": [
    "Имеются данные крупного интернет-магазина. Аналитики и отдел маркетинга подготовили список гипотез для увеличения выручки.\n",
    "\n",
    "**Цель исследования**\n",
    "Приоритизирвать гипотезы, запустить A/B-тест и проанализировать результаты.\n",
    "\n",
    "**Ход исследования**\n",
    "Исследование пройдёт в несколько этапов:\n",
    " 1. Обзор данных.\n",
    " 2. Предобработка данных.\n",
    " 3. Приоритизация гипотез.\n",
    " 4. Анализ A/B-теста."
   ]
  },
  {
   "cell_type": "markdown",
   "metadata": {},
   "source": [
    "## Обзор данных"
   ]
  },
  {
   "cell_type": "code",
   "execution_count": 1,
   "metadata": {},
   "outputs": [],
   "source": [
    "#импорт всех необходимых библиотек\n",
    "\n",
    "import pandas as pd\n",
    "import datetime as dt\n",
    "import numpy as np\n",
    "import scipy.stats as stats\n",
    "import matplotlib.pyplot as plt\n",
    "from pandas.plotting import register_matplotlib_converters\n",
    "import warnings\n",
    "register_matplotlib_converters()\n"
   ]
  },
  {
   "cell_type": "code",
   "execution_count": 2,
   "metadata": {},
   "outputs": [
    {
     "data": {
      "text/html": [
       "<div>\n",
       "<style scoped>\n",
       "    .dataframe tbody tr th:only-of-type {\n",
       "        vertical-align: middle;\n",
       "    }\n",
       "\n",
       "    .dataframe tbody tr th {\n",
       "        vertical-align: top;\n",
       "    }\n",
       "\n",
       "    .dataframe thead th {\n",
       "        text-align: right;\n",
       "    }\n",
       "</style>\n",
       "<table border=\"1\" class=\"dataframe\">\n",
       "  <thead>\n",
       "    <tr style=\"text-align: right;\">\n",
       "      <th></th>\n",
       "      <th>Hypothesis</th>\n",
       "      <th>Reach</th>\n",
       "      <th>Impact</th>\n",
       "      <th>Confidence</th>\n",
       "      <th>Efforts</th>\n",
       "    </tr>\n",
       "  </thead>\n",
       "  <tbody>\n",
       "    <tr>\n",
       "      <th>0</th>\n",
       "      <td>Добавить два новых канала привлечения трафика,...</td>\n",
       "      <td>3</td>\n",
       "      <td>10</td>\n",
       "      <td>8</td>\n",
       "      <td>6</td>\n",
       "    </tr>\n",
       "    <tr>\n",
       "      <th>1</th>\n",
       "      <td>Запустить собственную службу доставки, что сок...</td>\n",
       "      <td>2</td>\n",
       "      <td>5</td>\n",
       "      <td>4</td>\n",
       "      <td>10</td>\n",
       "    </tr>\n",
       "    <tr>\n",
       "      <th>2</th>\n",
       "      <td>Добавить блоки рекомендаций товаров на сайт ин...</td>\n",
       "      <td>8</td>\n",
       "      <td>3</td>\n",
       "      <td>7</td>\n",
       "      <td>3</td>\n",
       "    </tr>\n",
       "    <tr>\n",
       "      <th>3</th>\n",
       "      <td>Изменить структура категорий, что увеличит кон...</td>\n",
       "      <td>8</td>\n",
       "      <td>3</td>\n",
       "      <td>3</td>\n",
       "      <td>8</td>\n",
       "    </tr>\n",
       "    <tr>\n",
       "      <th>4</th>\n",
       "      <td>Изменить цвет фона главной страницы, чтобы уве...</td>\n",
       "      <td>3</td>\n",
       "      <td>1</td>\n",
       "      <td>1</td>\n",
       "      <td>1</td>\n",
       "    </tr>\n",
       "    <tr>\n",
       "      <th>5</th>\n",
       "      <td>Добавить страницу отзывов клиентов о магазине,...</td>\n",
       "      <td>3</td>\n",
       "      <td>2</td>\n",
       "      <td>2</td>\n",
       "      <td>3</td>\n",
       "    </tr>\n",
       "    <tr>\n",
       "      <th>6</th>\n",
       "      <td>Показать на главной странице баннеры с актуаль...</td>\n",
       "      <td>5</td>\n",
       "      <td>3</td>\n",
       "      <td>8</td>\n",
       "      <td>3</td>\n",
       "    </tr>\n",
       "    <tr>\n",
       "      <th>7</th>\n",
       "      <td>Добавить форму подписки на все основные страни...</td>\n",
       "      <td>10</td>\n",
       "      <td>7</td>\n",
       "      <td>8</td>\n",
       "      <td>5</td>\n",
       "    </tr>\n",
       "    <tr>\n",
       "      <th>8</th>\n",
       "      <td>Запустить акцию, дающую скидку на товар в день...</td>\n",
       "      <td>1</td>\n",
       "      <td>9</td>\n",
       "      <td>9</td>\n",
       "      <td>5</td>\n",
       "    </tr>\n",
       "  </tbody>\n",
       "</table>\n",
       "</div>"
      ],
      "text/plain": [
       "                                          Hypothesis  Reach  Impact  \\\n",
       "0  Добавить два новых канала привлечения трафика,...      3      10   \n",
       "1  Запустить собственную службу доставки, что сок...      2       5   \n",
       "2  Добавить блоки рекомендаций товаров на сайт ин...      8       3   \n",
       "3  Изменить структура категорий, что увеличит кон...      8       3   \n",
       "4  Изменить цвет фона главной страницы, чтобы уве...      3       1   \n",
       "5  Добавить страницу отзывов клиентов о магазине,...      3       2   \n",
       "6  Показать на главной странице баннеры с актуаль...      5       3   \n",
       "7  Добавить форму подписки на все основные страни...     10       7   \n",
       "8  Запустить акцию, дающую скидку на товар в день...      1       9   \n",
       "\n",
       "   Confidence  Efforts  \n",
       "0           8        6  \n",
       "1           4       10  \n",
       "2           7        3  \n",
       "3           3        8  \n",
       "4           1        1  \n",
       "5           2        3  \n",
       "6           8        3  \n",
       "7           8        5  \n",
       "8           9        5  "
      ]
     },
     "execution_count": 2,
     "metadata": {},
     "output_type": "execute_result"
    }
   ],
   "source": [
    "hypothesis = pd.read_csv('/datasets/hypothesis.csv', sep=',')\n",
    "hypothesis"
   ]
  },
  {
   "cell_type": "code",
   "execution_count": 3,
   "metadata": {},
   "outputs": [
    {
     "data": {
      "text/html": [
       "<div>\n",
       "<style scoped>\n",
       "    .dataframe tbody tr th:only-of-type {\n",
       "        vertical-align: middle;\n",
       "    }\n",
       "\n",
       "    .dataframe tbody tr th {\n",
       "        vertical-align: top;\n",
       "    }\n",
       "\n",
       "    .dataframe thead th {\n",
       "        text-align: right;\n",
       "    }\n",
       "</style>\n",
       "<table border=\"1\" class=\"dataframe\">\n",
       "  <thead>\n",
       "    <tr style=\"text-align: right;\">\n",
       "      <th></th>\n",
       "      <th>transactionId</th>\n",
       "      <th>visitorId</th>\n",
       "      <th>date</th>\n",
       "      <th>revenue</th>\n",
       "      <th>group</th>\n",
       "    </tr>\n",
       "  </thead>\n",
       "  <tbody>\n",
       "    <tr>\n",
       "      <th>0</th>\n",
       "      <td>3667963787</td>\n",
       "      <td>3312258926</td>\n",
       "      <td>2019-08-15</td>\n",
       "      <td>1650</td>\n",
       "      <td>B</td>\n",
       "    </tr>\n",
       "    <tr>\n",
       "      <th>1</th>\n",
       "      <td>2804400009</td>\n",
       "      <td>3642806036</td>\n",
       "      <td>2019-08-15</td>\n",
       "      <td>730</td>\n",
       "      <td>B</td>\n",
       "    </tr>\n",
       "    <tr>\n",
       "      <th>2</th>\n",
       "      <td>2961555356</td>\n",
       "      <td>4069496402</td>\n",
       "      <td>2019-08-15</td>\n",
       "      <td>400</td>\n",
       "      <td>A</td>\n",
       "    </tr>\n",
       "    <tr>\n",
       "      <th>3</th>\n",
       "      <td>3797467345</td>\n",
       "      <td>1196621759</td>\n",
       "      <td>2019-08-15</td>\n",
       "      <td>9759</td>\n",
       "      <td>B</td>\n",
       "    </tr>\n",
       "    <tr>\n",
       "      <th>4</th>\n",
       "      <td>2282983706</td>\n",
       "      <td>2322279887</td>\n",
       "      <td>2019-08-15</td>\n",
       "      <td>2308</td>\n",
       "      <td>B</td>\n",
       "    </tr>\n",
       "    <tr>\n",
       "      <th>...</th>\n",
       "      <td>...</td>\n",
       "      <td>...</td>\n",
       "      <td>...</td>\n",
       "      <td>...</td>\n",
       "      <td>...</td>\n",
       "    </tr>\n",
       "    <tr>\n",
       "      <th>1192</th>\n",
       "      <td>2662137336</td>\n",
       "      <td>3733762160</td>\n",
       "      <td>2019-08-14</td>\n",
       "      <td>6490</td>\n",
       "      <td>B</td>\n",
       "    </tr>\n",
       "    <tr>\n",
       "      <th>1193</th>\n",
       "      <td>2203539145</td>\n",
       "      <td>370388673</td>\n",
       "      <td>2019-08-14</td>\n",
       "      <td>3190</td>\n",
       "      <td>A</td>\n",
       "    </tr>\n",
       "    <tr>\n",
       "      <th>1194</th>\n",
       "      <td>1807773912</td>\n",
       "      <td>573423106</td>\n",
       "      <td>2019-08-14</td>\n",
       "      <td>10550</td>\n",
       "      <td>A</td>\n",
       "    </tr>\n",
       "    <tr>\n",
       "      <th>1195</th>\n",
       "      <td>1947021204</td>\n",
       "      <td>1614305549</td>\n",
       "      <td>2019-08-14</td>\n",
       "      <td>100</td>\n",
       "      <td>A</td>\n",
       "    </tr>\n",
       "    <tr>\n",
       "      <th>1196</th>\n",
       "      <td>3936777065</td>\n",
       "      <td>2108080724</td>\n",
       "      <td>2019-08-15</td>\n",
       "      <td>202740</td>\n",
       "      <td>B</td>\n",
       "    </tr>\n",
       "  </tbody>\n",
       "</table>\n",
       "<p>1197 rows × 5 columns</p>\n",
       "</div>"
      ],
      "text/plain": [
       "      transactionId   visitorId        date  revenue group\n",
       "0        3667963787  3312258926  2019-08-15     1650     B\n",
       "1        2804400009  3642806036  2019-08-15      730     B\n",
       "2        2961555356  4069496402  2019-08-15      400     A\n",
       "3        3797467345  1196621759  2019-08-15     9759     B\n",
       "4        2282983706  2322279887  2019-08-15     2308     B\n",
       "...             ...         ...         ...      ...   ...\n",
       "1192     2662137336  3733762160  2019-08-14     6490     B\n",
       "1193     2203539145   370388673  2019-08-14     3190     A\n",
       "1194     1807773912   573423106  2019-08-14    10550     A\n",
       "1195     1947021204  1614305549  2019-08-14      100     A\n",
       "1196     3936777065  2108080724  2019-08-15   202740     B\n",
       "\n",
       "[1197 rows x 5 columns]"
      ]
     },
     "execution_count": 3,
     "metadata": {},
     "output_type": "execute_result"
    }
   ],
   "source": [
    "orders = pd.read_csv('/datasets/orders.csv', sep=',')\n",
    "orders"
   ]
  },
  {
   "cell_type": "code",
   "execution_count": 4,
   "metadata": {
    "scrolled": true
   },
   "outputs": [
    {
     "data": {
      "text/html": [
       "<div>\n",
       "<style scoped>\n",
       "    .dataframe tbody tr th:only-of-type {\n",
       "        vertical-align: middle;\n",
       "    }\n",
       "\n",
       "    .dataframe tbody tr th {\n",
       "        vertical-align: top;\n",
       "    }\n",
       "\n",
       "    .dataframe thead th {\n",
       "        text-align: right;\n",
       "    }\n",
       "</style>\n",
       "<table border=\"1\" class=\"dataframe\">\n",
       "  <thead>\n",
       "    <tr style=\"text-align: right;\">\n",
       "      <th></th>\n",
       "      <th>date</th>\n",
       "      <th>group</th>\n",
       "      <th>visitors</th>\n",
       "    </tr>\n",
       "  </thead>\n",
       "  <tbody>\n",
       "    <tr>\n",
       "      <th>0</th>\n",
       "      <td>2019-08-01</td>\n",
       "      <td>A</td>\n",
       "      <td>719</td>\n",
       "    </tr>\n",
       "    <tr>\n",
       "      <th>1</th>\n",
       "      <td>2019-08-02</td>\n",
       "      <td>A</td>\n",
       "      <td>619</td>\n",
       "    </tr>\n",
       "    <tr>\n",
       "      <th>2</th>\n",
       "      <td>2019-08-03</td>\n",
       "      <td>A</td>\n",
       "      <td>507</td>\n",
       "    </tr>\n",
       "    <tr>\n",
       "      <th>3</th>\n",
       "      <td>2019-08-04</td>\n",
       "      <td>A</td>\n",
       "      <td>717</td>\n",
       "    </tr>\n",
       "    <tr>\n",
       "      <th>4</th>\n",
       "      <td>2019-08-05</td>\n",
       "      <td>A</td>\n",
       "      <td>756</td>\n",
       "    </tr>\n",
       "    <tr>\n",
       "      <th>...</th>\n",
       "      <td>...</td>\n",
       "      <td>...</td>\n",
       "      <td>...</td>\n",
       "    </tr>\n",
       "    <tr>\n",
       "      <th>57</th>\n",
       "      <td>2019-08-27</td>\n",
       "      <td>B</td>\n",
       "      <td>720</td>\n",
       "    </tr>\n",
       "    <tr>\n",
       "      <th>58</th>\n",
       "      <td>2019-08-28</td>\n",
       "      <td>B</td>\n",
       "      <td>654</td>\n",
       "    </tr>\n",
       "    <tr>\n",
       "      <th>59</th>\n",
       "      <td>2019-08-29</td>\n",
       "      <td>B</td>\n",
       "      <td>531</td>\n",
       "    </tr>\n",
       "    <tr>\n",
       "      <th>60</th>\n",
       "      <td>2019-08-30</td>\n",
       "      <td>B</td>\n",
       "      <td>490</td>\n",
       "    </tr>\n",
       "    <tr>\n",
       "      <th>61</th>\n",
       "      <td>2019-08-31</td>\n",
       "      <td>B</td>\n",
       "      <td>718</td>\n",
       "    </tr>\n",
       "  </tbody>\n",
       "</table>\n",
       "<p>62 rows × 3 columns</p>\n",
       "</div>"
      ],
      "text/plain": [
       "          date group  visitors\n",
       "0   2019-08-01     A       719\n",
       "1   2019-08-02     A       619\n",
       "2   2019-08-03     A       507\n",
       "3   2019-08-04     A       717\n",
       "4   2019-08-05     A       756\n",
       "..         ...   ...       ...\n",
       "57  2019-08-27     B       720\n",
       "58  2019-08-28     B       654\n",
       "59  2019-08-29     B       531\n",
       "60  2019-08-30     B       490\n",
       "61  2019-08-31     B       718\n",
       "\n",
       "[62 rows x 3 columns]"
      ]
     },
     "execution_count": 4,
     "metadata": {},
     "output_type": "execute_result"
    }
   ],
   "source": [
    "visitors = pd.read_csv('/datasets/visitors.csv', sep=',')\n",
    "visitors"
   ]
  },
  {
   "cell_type": "markdown",
   "metadata": {},
   "source": [
    "## Предобработка данных"
   ]
  },
  {
   "cell_type": "code",
   "execution_count": 5,
   "metadata": {},
   "outputs": [
    {
     "name": "stdout",
     "output_type": "stream",
     "text": [
      "<class 'pandas.core.frame.DataFrame'>\n",
      "RangeIndex: 9 entries, 0 to 8\n",
      "Data columns (total 5 columns):\n",
      " #   Column      Non-Null Count  Dtype \n",
      "---  ------      --------------  ----- \n",
      " 0   Hypothesis  9 non-null      object\n",
      " 1   Reach       9 non-null      int64 \n",
      " 2   Impact      9 non-null      int64 \n",
      " 3   Confidence  9 non-null      int64 \n",
      " 4   Efforts     9 non-null      int64 \n",
      "dtypes: int64(4), object(1)\n",
      "memory usage: 488.0+ bytes\n"
     ]
    }
   ],
   "source": [
    "#проверим данные hypothesis на пропуски и форматы\n",
    "hypothesis.info()"
   ]
  },
  {
   "cell_type": "code",
   "execution_count": 6,
   "metadata": {},
   "outputs": [
    {
     "name": "stdout",
     "output_type": "stream",
     "text": [
      "<class 'pandas.core.frame.DataFrame'>\n",
      "RangeIndex: 9 entries, 0 to 8\n",
      "Data columns (total 5 columns):\n",
      " #   Column      Non-Null Count  Dtype \n",
      "---  ------      --------------  ----- \n",
      " 0   hypothesis  9 non-null      object\n",
      " 1   reach       9 non-null      int64 \n",
      " 2   impact      9 non-null      int64 \n",
      " 3   confidence  9 non-null      int64 \n",
      " 4   efforts     9 non-null      int64 \n",
      "dtypes: int64(4), object(1)\n",
      "memory usage: 488.0+ bytes\n"
     ]
    }
   ],
   "source": [
    "#приведем названия столбцов к змеиному регистру\n",
    "\n",
    "hypothesis.columns = hypothesis.columns.str.lower()\n",
    "hypothesis.info()"
   ]
  },
  {
   "cell_type": "code",
   "execution_count": 7,
   "metadata": {},
   "outputs": [
    {
     "name": "stdout",
     "output_type": "stream",
     "text": [
      "<class 'pandas.core.frame.DataFrame'>\n",
      "RangeIndex: 1197 entries, 0 to 1196\n",
      "Data columns (total 5 columns):\n",
      " #   Column         Non-Null Count  Dtype \n",
      "---  ------         --------------  ----- \n",
      " 0   transactionId  1197 non-null   int64 \n",
      " 1   visitorId      1197 non-null   int64 \n",
      " 2   date           1197 non-null   object\n",
      " 3   revenue        1197 non-null   int64 \n",
      " 4   group          1197 non-null   object\n",
      "dtypes: int64(3), object(2)\n",
      "memory usage: 46.9+ KB\n"
     ]
    }
   ],
   "source": [
    "#проверим данные orders на пропуски и форматы\n",
    "orders.info()"
   ]
  },
  {
   "cell_type": "code",
   "execution_count": 8,
   "metadata": {},
   "outputs": [
    {
     "name": "stdout",
     "output_type": "stream",
     "text": [
      "<class 'pandas.core.frame.DataFrame'>\n",
      "RangeIndex: 1197 entries, 0 to 1196\n",
      "Data columns (total 5 columns):\n",
      " #   Column         Non-Null Count  Dtype         \n",
      "---  ------         --------------  -----         \n",
      " 0   transactionId  1197 non-null   int64         \n",
      " 1   visitorId      1197 non-null   int64         \n",
      " 2   date           1197 non-null   datetime64[ns]\n",
      " 3   revenue        1197 non-null   int64         \n",
      " 4   group          1197 non-null   object        \n",
      "dtypes: datetime64[ns](1), int64(3), object(1)\n",
      "memory usage: 46.9+ KB\n"
     ]
    }
   ],
   "source": [
    "#преобразуем данные date в формат даты\n",
    "\n",
    "orders['date'] = pd.to_datetime(\n",
    "    orders['date'], format='%Y-%m-%dT'\n",
    ")\n",
    "orders.info()"
   ]
  },
  {
   "cell_type": "code",
   "execution_count": 9,
   "metadata": {},
   "outputs": [
    {
     "name": "stdout",
     "output_type": "stream",
     "text": [
      "явных дубликатов: 0\n"
     ]
    }
   ],
   "source": [
    "#прорверим данные на наличие явных дубликатов:\n",
    "print('явных дубликатов:', orders.duplicated().sum())"
   ]
  },
  {
   "cell_type": "code",
   "execution_count": 10,
   "metadata": {},
   "outputs": [
    {
     "name": "stdout",
     "output_type": "stream",
     "text": [
      "<class 'pandas.core.frame.DataFrame'>\n",
      "RangeIndex: 62 entries, 0 to 61\n",
      "Data columns (total 3 columns):\n",
      " #   Column    Non-Null Count  Dtype \n",
      "---  ------    --------------  ----- \n",
      " 0   date      62 non-null     object\n",
      " 1   group     62 non-null     object\n",
      " 2   visitors  62 non-null     int64 \n",
      "dtypes: int64(1), object(2)\n",
      "memory usage: 1.6+ KB\n"
     ]
    }
   ],
   "source": [
    "#проверим данные visitors на пропуски и форматы\n",
    "visitors.info()"
   ]
  },
  {
   "cell_type": "code",
   "execution_count": 11,
   "metadata": {},
   "outputs": [
    {
     "name": "stdout",
     "output_type": "stream",
     "text": [
      "<class 'pandas.core.frame.DataFrame'>\n",
      "RangeIndex: 62 entries, 0 to 61\n",
      "Data columns (total 3 columns):\n",
      " #   Column    Non-Null Count  Dtype         \n",
      "---  ------    --------------  -----         \n",
      " 0   date      62 non-null     datetime64[ns]\n",
      " 1   group     62 non-null     object        \n",
      " 2   visitors  62 non-null     int64         \n",
      "dtypes: datetime64[ns](1), int64(1), object(1)\n",
      "memory usage: 1.6+ KB\n"
     ]
    }
   ],
   "source": [
    "#преобразуем данные date в формат даты\n",
    "\n",
    "visitors['date'] = pd.to_datetime(\n",
    "    visitors['date'], format='%Y-%m-%dT'\n",
    ")\n",
    "visitors.info()"
   ]
  },
  {
   "cell_type": "code",
   "execution_count": 12,
   "metadata": {},
   "outputs": [
    {
     "name": "stdout",
     "output_type": "stream",
     "text": [
      "явных дубликатов: 0\n"
     ]
    }
   ],
   "source": [
    "#прорверим данные на наличие явных дубликатов:\n",
    "print('явных дубликатов:', orders.duplicated().sum())"
   ]
  },
  {
   "cell_type": "markdown",
   "metadata": {},
   "source": [
    "<div style=\"background-color:black; color:#ffffff; text-align:left; padding:2%\">\n",
    "💬 Данные приведены к нужным форматам, пропусков и дубликатов нет"
   ]
  },
  {
   "cell_type": "markdown",
   "metadata": {},
   "source": [
    "## Приоритизация гипотез"
   ]
  },
  {
   "cell_type": "markdown",
   "metadata": {},
   "source": [
    "<div style=\"background-color:black; color:#ffffff; text-align:left; padding:2%\">\n",
    "💬 Приоретизируем гипотезы с помощью методов ICE и RICE. Для этого используем параметры:\n",
    "    <br> Reach — скольких пользователей затронет изменение, которое хотим внести;\n",
    "    <br> Impact — насколько сильно изменение повлияет на пользователей, их опыт и удовлетворение от продукта;\n",
    "    <br> Confidence — насколько мы уверены, что это изменение повлияет на пользователей именно так; \n",
    "    <br> Efforts — сколько стоит протестировать эту гипотезу."
   ]
  },
  {
   "cell_type": "code",
   "execution_count": 13,
   "metadata": {},
   "outputs": [
    {
     "name": "stdout",
     "output_type": "stream",
     "text": [
      "                                                                                            hypothesis  \\\n",
      "8                                              Запустить акцию, дающую скидку на товар в день рождения   \n",
      "0   Добавить два новых канала привлечения трафика, что позволит привлекать на 30% больше пользователей   \n",
      "7     Добавить форму подписки на все основные страницы, чтобы собрать базу клиентов для email-рассылок   \n",
      "6  Показать на главной странице баннеры с актуальными акциями и распродажами, чтобы увеличить конве...   \n",
      "2  Добавить блоки рекомендаций товаров на сайт интернет магазина, чтобы повысить конверсию и средни...   \n",
      "1                            Запустить собственную службу доставки, что сократит срок доставки заказов   \n",
      "3  Изменить структура категорий, что увеличит конверсию, т.к. пользователи быстрее найдут нужный товар   \n",
      "4                     Изменить цвет фона главной страницы, чтобы увеличить вовлеченность пользователей   \n",
      "5             Добавить страницу отзывов клиентов о магазине, что позволит увеличить количество заказов   \n",
      "\n",
      "   ICE  \n",
      "8   16  \n",
      "0   13  \n",
      "7   11  \n",
      "6    8  \n",
      "2    7  \n",
      "1    2  \n",
      "3    1  \n",
      "4    1  \n",
      "5    1  \n"
     ]
    }
   ],
   "source": [
    "#Применим фреймворк ICE для приоритизации гипотез\n",
    "\n",
    "hypothesis['ICE'] = hypothesis['impact']*hypothesis['confidence']/hypothesis['efforts']\n",
    "hypothesis['ICE'] = hypothesis['ICE'].astype(int)\n",
    "pd.options.display.max_colwidth = 100\n",
    "print(hypothesis[['hypothesis','ICE']].sort_values(by='ICE',ascending=False))"
   ]
  },
  {
   "cell_type": "markdown",
   "metadata": {},
   "source": [
    "<div style=\"background-color:black; color:#ffffff; text-align:left; padding:2%\">\n",
    "💬 Наиболее перспективные гипотезы по ICE: \n",
    "    <br> Запустить акцию, дающую скидку на товар в день рождения   \n",
    "    <br> Добавить два новых канала привлечения трафика, что позволит привлекать на 30% больше пользователей\n",
    "    <br> Добавить форму подписки на все основные страницы, чтобы собрать базу клиентов для email-рассылок\n",
    "    <br> Показать на главной странице баннеры с актуальными акциями и распродажами, чтобы увеличить конверсию"
   ]
  },
  {
   "cell_type": "code",
   "execution_count": 14,
   "metadata": {},
   "outputs": [
    {
     "name": "stdout",
     "output_type": "stream",
     "text": [
      "                                                                                            hypothesis  \\\n",
      "7     Добавить форму подписки на все основные страницы, чтобы собрать базу клиентов для email-рассылок   \n",
      "2  Добавить блоки рекомендаций товаров на сайт интернет магазина, чтобы повысить конверсию и средни...   \n",
      "0   Добавить два новых канала привлечения трафика, что позволит привлекать на 30% больше пользователей   \n",
      "6  Показать на главной странице баннеры с актуальными акциями и распродажами, чтобы увеличить конве...   \n",
      "8                                              Запустить акцию, дающую скидку на товар в день рождения   \n",
      "3  Изменить структура категорий, что увеличит конверсию, т.к. пользователи быстрее найдут нужный товар   \n",
      "1                            Запустить собственную службу доставки, что сократит срок доставки заказов   \n",
      "5             Добавить страницу отзывов клиентов о магазине, что позволит увеличить количество заказов   \n",
      "4                     Изменить цвет фона главной страницы, чтобы увеличить вовлеченность пользователей   \n",
      "\n",
      "   RICE  \n",
      "7   112  \n",
      "2    56  \n",
      "0    40  \n",
      "6    40  \n",
      "8    16  \n",
      "3     9  \n",
      "1     4  \n",
      "5     4  \n",
      "4     3  \n"
     ]
    }
   ],
   "source": [
    "hypothesis['RICE'] = hypothesis['reach']*hypothesis['impact']*hypothesis['confidence']/hypothesis['efforts']\n",
    "hypothesis['RICE'] = hypothesis['RICE'].astype(int)\n",
    "pd.options.display.max_colwidth = 100\n",
    "print(hypothesis[['hypothesis','RICE']].sort_values(by='RICE', ascending=False))"
   ]
  },
  {
   "cell_type": "markdown",
   "metadata": {},
   "source": [
    "<div style=\"background-color:black; color:#ffffff; text-align:left; padding:2%\">\n",
    "💬 Наиболее перспективные гипотезы по RICE: \n",
    "<br> Добавить форму подписки на все основные страницы, чтобы собрать базу клиентов для email-рассылок\n",
    "<br> Добавить блоки рекомендаций товаров на сайт интернет магазина, чтобы повысить конверсию и средний чек\n",
    "<br> Добавить два новых канала привлечения трафика, что позволит привлекать на 30% больше пользователей\n",
    "<br> Показать на главной странице баннеры с актуальными акциями и распродажами, чтобы увеличить конверсию\n",
    "<br>\n",
    "<br> Приоритеты по RICE сменились относительно ICE, т к у двух ггипотез парметр Reach (сколько пользователей затронут изменения) макисмальный или близок к максимальному."
   ]
  },
  {
   "cell_type": "markdown",
   "metadata": {},
   "source": [
    "<div style=\"background-color:black; color:#ffffff; text-align:left; padding:2%\">\n",
    "💬 По итогам приоретизации наиболее перспективные гипотезы:\n",
    "    <br> Добавить два новых канала привлечения трафика, что позволит привлекать на 30% больше пользователей\n",
    "    <br> Добавить блоки рекомендаций товаров на сайт интернет магазина, чтобы повысить конверсию и средний чек\n",
    "    <br> Показать на главной странице баннеры с актуальными акциями и распродажами, чтобы увеличить конверсию\n",
    "    <br> Добавить форму подписки на все основные страницы, чтобы собрать базу клиентов для email-рассылок\n",
    "    <br> Запустить акцию, дающую скидку на товар в день рождения"
   ]
  },
  {
   "cell_type": "markdown",
   "metadata": {},
   "source": [
    "## Анализ A/B-теста"
   ]
  },
  {
   "cell_type": "code",
   "execution_count": 15,
   "metadata": {},
   "outputs": [
    {
     "name": "stdout",
     "output_type": "stream",
     "text": [
      "   transactionId   visitorId       date  revenue group\n",
      "0     3667963787  3312258926 2019-08-15     1650     B\n",
      "1     2804400009  3642806036 2019-08-15      730     B\n",
      "2     2961555356  4069496402 2019-08-15      400     A\n",
      "3     3797467345  1196621759 2019-08-15     9759     B\n",
      "4     2282983706  2322279887 2019-08-15     2308     B\n",
      "        date group  visitors\n",
      "0 2019-08-01     A       719\n",
      "1 2019-08-02     A       619\n",
      "2 2019-08-03     A       507\n",
      "3 2019-08-04     A       717\n",
      "4 2019-08-05     A       756\n",
      "        date group  orders  buyers  revenue  visitors\n",
      "0 2019-08-01     A      24      20   148579       719\n",
      "1 2019-08-01     B      21      20   101217       713\n",
      "2 2019-08-02     A      44      38   242401      1338\n",
      "3 2019-08-02     B      45      43   266748      1294\n",
      "4 2019-08-03     A      68      62   354874      1845\n"
     ]
    }
   ],
   "source": [
    "#Соберём агрегированные кумулятивные по дням данные о заказах\n",
    "\n",
    "\n",
    "print(orders.head(5))\n",
    "print(visitors.head(5))\n",
    "\n",
    "datesGroups = orders[['date', 'group']].drop_duplicates()\n",
    "ordersAggregated = datesGroups.apply(\n",
    " lambda x: orders[np.logical_and(orders['date'] <= x['date'], orders['group'] == x['group'])].agg({\n",
    "'date' : 'max',\n",
    "'group' : 'max',\n",
    "'transactionId' : pd.Series.nunique,\n",
    "'visitorId' : pd.Series.nunique,\n",
    "'revenue' : 'sum'}), axis=1).sort_values(by=['date','group']) \n",
    "\n",
    "visitorsAggregated = datesGroups.apply(lambda x: visitors[np.logical_and(visitors['date'] <= x['date'], visitors['group'] == x['group'])].agg({'date' : 'max', 'group' : 'max', 'visitors' : 'sum'}), axis=1).sort_values(by=['date','group'])\n",
    "\n",
    "cumulativeData = ordersAggregated.merge(visitorsAggregated, left_on=['date', 'group'], right_on=['date', 'group']) \n",
    "cumulativeData.columns = ['date', 'group', 'orders', 'buyers', 'revenue', 'visitors']\n",
    "print(cumulativeData.head(5)) "
   ]
  },
  {
   "cell_type": "code",
   "execution_count": 16,
   "metadata": {},
   "outputs": [
    {
     "data": {
      "text/plain": [
       "58"
      ]
     },
     "execution_count": 16,
     "metadata": {},
     "output_type": "execute_result"
    }
   ],
   "source": [
    "\n",
    "users_both = (\n",
    "    orders.groupby('visitorId', as_index=False)\n",
    "    .agg({'group': 'nunique'}))\n",
    "users_both = users_both.query('group > 1')\n",
    "len(users_both['visitorId'])"
   ]
  },
  {
   "cell_type": "markdown",
   "metadata": {},
   "source": [
    "<div style=\"background-color:black; color:#ffffff; text-align:left; padding:2%\">\n",
    "💬 58 пользователей присутствуют в обеих группах.Удалять не будем, т к поведение одного и того же пользователя может измениться под влиянием изменений на сайте  "
   ]
  },
  {
   "cell_type": "code",
   "execution_count": 17,
   "metadata": {},
   "outputs": [
    {
     "data": {
      "text/plain": [
       "<matplotlib.legend.Legend at 0x7f26c5423f70>"
      ]
     },
     "execution_count": 17,
     "metadata": {},
     "output_type": "execute_result"
    },
    {
     "data": {
      "image/png": "[encoded data removed]",
      "text/plain": [
       "<Figure size 864x432 with 1 Axes>"
      ]
     },
     "metadata": {
      "needs_background": "light"
     },
     "output_type": "display_data"
    }
   ],
   "source": [
    "#Для отслеживания изменений результатов эксперимента на каждый день тестирования, построим график куммулятивных данных.\n",
    "#Построим график кумулятивной выручки по группам.\n",
    "\n",
    "\n",
    "# датафрейм с кумулятивным количеством заказов и кумулятивной выручкой по дням в группе А\n",
    "cumulativeRevenueA = cumulativeData[cumulativeData['group']=='A'][['date','revenue', 'orders']]\n",
    "\n",
    "# датафрейм с кумулятивным количеством заказов и кумулятивной выручкой по дням в группе B\n",
    "cumulativeRevenueB = cumulativeData[cumulativeData['group']=='B'][['date','revenue', 'orders']]\n",
    "\n",
    "plt.figure(figsize=(12,6))\n",
    "plt.xlabel('Date', fontsize=15)\n",
    "plt.ylabel('Revenue', fontsize=15)\n",
    "plt.title('Кумулятивная выручка по группам', fontsize=15)\n",
    "\n",
    "\n",
    "# Строим график выручки группы А\n",
    "plt.plot(cumulativeRevenueA['date'], cumulativeRevenueA['revenue'], label='A')\n",
    "\n",
    "# Строим график выручки группы B\n",
    "plt.plot(cumulativeRevenueB['date'], cumulativeRevenueB['revenue'], label='B')\n",
    "\n",
    "plt.legend() "
   ]
  },
  {
   "cell_type": "markdown",
   "metadata": {},
   "source": [
    "<div style=\"background-color:black; color:#ffffff; text-align:left; padding:2%\">\n",
    "💬 Графики в обеих группах постоянно растут. Половину периода выручка группы В растет чуть быстрее группы А, но затем в группе B произошел резкий скачок, и вторую половину периода накопительная выручка уже значительно превышала показатель группы А. Возможно был крупный заказ.    "
   ]
  },
  {
   "cell_type": "code",
   "execution_count": 18,
   "metadata": {},
   "outputs": [
    {
     "data": {
      "text/plain": [
       "<matplotlib.legend.Legend at 0x7f26bd350220>"
      ]
     },
     "execution_count": 18,
     "metadata": {},
     "output_type": "execute_result"
    },
    {
     "data": {
      "image/png": "[encoded data removed]",
      "text/plain": [
       "<Figure size 864x432 with 1 Axes>"
      ]
     },
     "metadata": {
      "needs_background": "light"
     },
     "output_type": "display_data"
    }
   ],
   "source": [
    "#Построим графики среднего чека по группам — разделим кумулятивную выручку на кумулятивное число заказов:\n",
    "plt.figure(figsize=(12,6))\n",
    "plt.xlabel('Date', fontsize=15)\n",
    "plt.ylabel('Average check', fontsize=15)\n",
    "plt.title('Cредний чек по группам', fontsize=15)\n",
    "\n",
    "\n",
    "plt.plot(cumulativeRevenueA['date'], cumulativeRevenueA['revenue']/cumulativeRevenueA['orders'], label='A')\n",
    "plt.plot(cumulativeRevenueB['date'], cumulativeRevenueB['revenue']/cumulativeRevenueB['orders'], label='B')\n",
    "plt.legend() \n"
   ]
  },
  {
   "cell_type": "markdown",
   "metadata": {},
   "source": [
    "<div style=\"background-color:black; color:#ffffff; text-align:left; padding:2%\">\n",
    "💬 Средний чек для группы А становится равномерным ближе к середине теста, график в самом начале показывает падение, затем резкий рост и с середины примерно на одном уровне с небольшими колебаниями. Группа B по среднему чеку большую часть периода превосходила группу А\n",
    "<br> Для группы B был резкий скачок в начале, затем небольшое падение, и в середине теста уже наблюдаемый в предыдущем графике резкий рост, и далее небольшое плавное падение до конца периода."
   ]
  },
  {
   "cell_type": "code",
   "execution_count": 19,
   "metadata": {},
   "outputs": [
    {
     "data": {
      "text/plain": [
       "<matplotlib.lines.Line2D at 0x7f26bcefce50>"
      ]
     },
     "execution_count": 19,
     "metadata": {},
     "output_type": "execute_result"
    },
    {
     "data": {
      "image/png": "[encoded data removed]",
      "text/plain": [
       "<Figure size 864x432 with 1 Axes>"
      ]
     },
     "metadata": {
      "needs_background": "light"
     },
     "output_type": "display_data"
    }
   ],
   "source": [
    "#Построим график относительного различия для среднего чека\n",
    "plt.figure(figsize=(12,6))\n",
    "plt.xlabel('Date', fontsize=15)\n",
    "plt.ylabel('Average check difference', fontsize=15)\n",
    "plt.title('Относительное различие для среднего чека', fontsize=15)\n",
    "\n",
    "# собираем данные в одном датафрейме\n",
    "mergedCumulativeRevenue = cumulativeRevenueA.merge(cumulativeRevenueB, left_on='date', right_on='date', how='left', suffixes=['A', 'B'])\n",
    "\n",
    "# cтроим отношение средних чеков\n",
    "plt.plot(mergedCumulativeRevenue['date'], (mergedCumulativeRevenue['revenueB']/mergedCumulativeRevenue['ordersB'])/(mergedCumulativeRevenue['revenueA']/mergedCumulativeRevenue['ordersA'])-1)\n",
    "\n",
    "# добавляем ось X\n",
    "plt.axhline(y=0, color='black', linestyle='--') "
   ]
  },
  {
   "cell_type": "markdown",
   "metadata": {},
   "source": [
    "<div style=\"background-color:black; color:#ffffff; text-align:left; padding:2%\">\n",
    "💬 В нескольких точках график различия между сегментами резко падает или резко растет. В данных о заказах точно есть выбросы, найдём их позже."
   ]
  },
  {
   "cell_type": "code",
   "execution_count": 20,
   "metadata": {},
   "outputs": [
    {
     "data": {
      "text/plain": [
       "<matplotlib.legend.Legend at 0x7f26bcf9db80>"
      ]
     },
     "execution_count": 20,
     "metadata": {},
     "output_type": "execute_result"
    },
    {
     "data": {
      "image/png": "[encoded data removed]",
      "text/plain": [
       "<Figure size 864x432 with 1 Axes>"
      ]
     },
     "metadata": {
      "needs_background": "light"
     },
     "output_type": "display_data"
    }
   ],
   "source": [
    "#Построим график кумулятивного среднего количества заказов на посетителя по группам, куммулятивной конверсии\n",
    "plt.figure(figsize=(12,6))\n",
    "plt.xlabel('Date', fontsize=15)\n",
    "plt.ylabel('Conversion', fontsize=15)\n",
    "plt.title('Кумулятивная конверсия по группам', fontsize=15)\n",
    "\n",
    "# считаем кумулятивную конверсию\n",
    "cumulativeData['conversion'] = cumulativeData['orders']/cumulativeData['visitors']\n",
    "\n",
    "# отделяем данные по группе A\n",
    "cumulativeDataA = cumulativeData[cumulativeData['group']=='A']\n",
    "\n",
    "# отделяем данные по группе B\n",
    "cumulativeDataB = cumulativeData[cumulativeData['group']=='B']\n",
    "\n",
    "# строим графики\n",
    "plt.plot(cumulativeDataA['date'], cumulativeDataA['conversion'], label='A')\n",
    "plt.plot(cumulativeDataB['date'], cumulativeDataB['conversion'], label='B')\n",
    "plt.legend()\n"
   ]
  },
  {
   "cell_type": "markdown",
   "metadata": {},
   "source": [
    "<div style=\"background-color:black; color:#ffffff; text-align:left; padding:2%\">\n",
    "💬 в начале периода по количеству заказов превосходит группа А, для графиков в этот период характены резкие скачки, затем динамика стабилизируется. Группа B вскоре после первого падения показывает интенсивный рост, и далее стабилизируется только в самом конце периода. График конверсии группы А после периода стабилизации примерно на одном уровне."
   ]
  },
  {
   "cell_type": "code",
   "execution_count": 21,
   "metadata": {},
   "outputs": [
    {
     "data": {
      "text/plain": [
       "<matplotlib.lines.Line2D at 0x7f26bceb0910>"
      ]
     },
     "execution_count": 21,
     "metadata": {},
     "output_type": "execute_result"
    },
    {
     "data": {
      "image/png": "[encoded data removed]",
      "text/plain": [
       "<Figure size 864x432 with 1 Axes>"
      ]
     },
     "metadata": {
      "needs_background": "light"
     },
     "output_type": "display_data"
    }
   ],
   "source": [
    "#Построим график относительного изменения кумулятивного среднего количества заказов на посетителя группы B к группе A\n",
    "mergedCumulativeConversions = cumulativeDataA[['date','conversion']].merge(cumulativeDataB[['date','conversion']], left_on='date', right_on='date', how='left', suffixes=['A', 'B'])\n",
    "\n",
    "plt.figure(figsize=(12,6))\n",
    "plt.xlabel('Date', fontsize=15)\n",
    "plt.ylabel('Conversion variance', fontsize=15)\n",
    "plt.title('Относительное изменение кумулятивного среднего количества заказов', fontsize=15)\n",
    "\n",
    "plt.plot(mergedCumulativeConversions['date'], mergedCumulativeConversions['conversionB']/mergedCumulativeConversions['conversionA']-1, label=\"Относительный прирост конверсии группы B относительно группы A\")\n",
    "plt.legend()\n",
    "\n",
    "plt.axhline(y=0, color='black', linestyle='--')\n",
    "plt.axhline(y=-0.1, color='grey', linestyle='--')\n"
   ]
  },
  {
   "cell_type": "markdown",
   "metadata": {},
   "source": [
    "<div style=\"background-color:black; color:#ffffff; text-align:left; padding:2%\">\n",
    "💬 Сначала группа B сильно уступала в конверсии группе А, затем произошел резкий рост показателя в группе B, и он продолжился до конца периода\n",
    "    "
   ]
  },
  {
   "cell_type": "code",
   "execution_count": 22,
   "metadata": {},
   "outputs": [
    {
     "name": "stdout",
     "output_type": "stream",
     "text": [
      "       visitorId  orders\n",
      "1023  4256040402      11\n",
      "591   2458001652      11\n",
      "569   2378935119       9\n",
      "487   2038680547       8\n",
      "44     199603092       5\n",
      "744   3062433592       5\n",
      "55     237748145       5\n",
      "917   3803269165       5\n",
      "299   1230306981       5\n",
      "897   3717692402       5\n"
     ]
    },
    {
     "data": {
      "text/plain": [
       "<matplotlib.collections.PathCollection at 0x7f26bce221f0>"
      ]
     },
     "execution_count": 22,
     "metadata": {},
     "output_type": "execute_result"
    },
    {
     "data": {
      "image/png": "[encoded data removed]",
      "text/plain": [
       "<Figure size 864x432 with 1 Axes>"
      ]
     },
     "metadata": {
      "needs_background": "light"
     },
     "output_type": "display_data"
    }
   ],
   "source": [
    "#построим диаграмму распределения для оценки выбросов в данных о заказах:\n",
    "\n",
    "ordersByUsers = (\n",
    "    orders.groupby('visitorId', as_index=False)\n",
    "    .agg({'transactionId': 'nunique'})\n",
    ")\n",
    "ordersByUsers.columns = ['visitorId', 'orders']\n",
    "\n",
    "print(ordersByUsers.sort_values(by='orders', ascending=False).head(10))\n",
    "\n",
    "# серия из чисел от 0 до количества наблюдений в ordersByUsers\n",
    "x_values = pd.Series(range(0, len(ordersByUsers)))\n",
    "\n",
    "plt.figure(figsize=(12,6))\n",
    "plt.ylabel('Orders', fontsize=15)\n",
    "plt.title('Распределение по числу заказов на пользователя', fontsize=15)\n",
    "\n",
    "plt.scatter(x_values, ordersByUsers['orders']) "
   ]
  },
  {
   "cell_type": "markdown",
   "metadata": {},
   "source": [
    "<div style=\"background-color:black; color:#ffffff; text-align:left; padding:2%\">\n",
    "💬 На графике видны выбросы: несколько покупателей совершили более 8 заказов. Но бОльшая часть значений - это 1, также значительная часть покупателей сделали два заказа. Чем больше значение количества заказов на пользователя - тем меньше таких пользователей."
   ]
  },
  {
   "cell_type": "code",
   "execution_count": 23,
   "metadata": {},
   "outputs": [
    {
     "name": "stdout",
     "output_type": "stream",
     "text": [
      "[1. 2. 4.]\n"
     ]
    }
   ],
   "source": [
    "#Посчитаем 95-й и 99-й перцентили количества заказов на пользователя\n",
    "print(np.percentile(ordersByUsers['orders'], [90, 95, 99])) "
   ]
  },
  {
   "cell_type": "markdown",
   "metadata": {},
   "source": [
    "<div style=\"background-color:black; color:#ffffff; text-align:left; padding:2%\">\n",
    "💬 Не более 5% пользователей сделали более 2 заказов и не более 1% - более 4 заказов. Порог аномального значения 4 заказа"
   ]
  },
  {
   "cell_type": "code",
   "execution_count": 24,
   "metadata": {},
   "outputs": [
    {
     "name": "stdout",
     "output_type": "stream",
     "text": [
      "       visitorId  revenue\n",
      "463   1920142716  1294500\n",
      "503   2108080724   202740\n",
      "1023  4256040402   176490\n",
      "1026  4266935830   157980\n",
      "569   2378935119   142939\n",
      "316   1316129916    94770\n",
      "314   1307669133    92550\n",
      "213    888512513    86620\n",
      "744   3062433592    75459\n",
      "186    759473111    72000\n"
     ]
    },
    {
     "data": {
      "text/plain": [
       "<matplotlib.collections.PathCollection at 0x7f26bce019d0>"
      ]
     },
     "execution_count": 24,
     "metadata": {},
     "output_type": "execute_result"
    },
    {
     "data": {
      "image/png": "[encoded data removed]",
      "text/plain": [
       "<Figure size 864x432 with 1 Axes>"
      ]
     },
     "metadata": {
      "needs_background": "light"
     },
     "output_type": "display_data"
    }
   ],
   "source": [
    "#построим диаграмму рассеяния для оценки выбросов в данных о сумме заказов:\n",
    "revenueByUsers = (\n",
    "    orders.groupby('visitorId', as_index=False)\n",
    "    .agg({'revenue': 'sum'})\n",
    ")\n",
    "revenueByUsers.columns = ['visitorId', 'revenue']\n",
    "\n",
    "print(revenueByUsers.sort_values(by='revenue', ascending=False).head(10))\n",
    "\n",
    "# серия из чисел от 0 до количества наблюдений в revenueByUsers\n",
    "x_values = pd.Series(range(0, len(revenueByUsers)))\n",
    "\n",
    "plt.figure(figsize=(12,6))\n",
    "plt.ylabel('Revenue', fontsize=15)\n",
    "plt.title('Распределение по сумме заказов на пользователя', fontsize=15)\n",
    "\n",
    "plt.scatter(x_values, revenueByUsers['revenue']) "
   ]
  },
  {
   "cell_type": "markdown",
   "metadata": {},
   "source": [
    "<div style=\"background-color:black; color:#ffffff; text-align:left; padding:2%\">\n",
    "💬 Очевидно вот и тот самый выброс, который поменял ход тестирования в группе B. Кто-то оформил заказы на сумму 1 294 500.В то время как основная масса заказов сосредоточена в дизапазонне значений до 100 тыс"
   ]
  },
  {
   "cell_type": "code",
   "execution_count": 25,
   "metadata": {},
   "outputs": [
    {
     "name": "stdout",
     "output_type": "stream",
     "text": [
      "[19260.  32899.5 67750. ]\n"
     ]
    }
   ],
   "source": [
    "#Посчитаем 95-й и 99-й перцентили суммы заказов на пользователя\n",
    "print(np.percentile(revenueByUsers['revenue'], [90, 95, 99])) "
   ]
  },
  {
   "cell_type": "markdown",
   "metadata": {},
   "source": [
    "<div style=\"background-color:black; color:#ffffff; text-align:left; padding:2%\">\n",
    "💬 Не более 5% пользователей сделали заказы на сумму более 32899,5 и не более 1% на сумму 67750. Порог аномального значения 32899,5 "
   ]
  },
  {
   "cell_type": "code",
   "execution_count": 26,
   "metadata": {},
   "outputs": [
    {
     "name": "stdout",
     "output_type": "stream",
     "text": [
      "        date  ordersPerDateA  revenuePerDateA  ordersPerDateB  \\\n",
      "0 2019-08-01              24           148579              21   \n",
      "1 2019-08-02              20            93822              24   \n",
      "2 2019-08-03              24           112473              16   \n",
      "3 2019-08-04              16            70825              17   \n",
      "4 2019-08-05              25           124218              23   \n",
      "\n",
      "   revenuePerDateB  ordersCummulativeA  revenueCummulativeA  \\\n",
      "0           101217                  24               148579   \n",
      "1           165531                  44               242401   \n",
      "2           114248                  68               354874   \n",
      "3           108571                  84               425699   \n",
      "4            92428                 109               549917   \n",
      "\n",
      "   ordersCummulativeB  revenueCummulativeB  visitorsPerDateA  \\\n",
      "0                  21               101217               719   \n",
      "1                  45               266748               619   \n",
      "2                  61               380996               507   \n",
      "3                  78               489567               717   \n",
      "4                 101               581995               756   \n",
      "\n",
      "   visitorsPerDateB  visitorsCummulativeA  visitorsCummulativeB  \n",
      "0               713                   719                   713  \n",
      "1               581                  1338                  1294  \n",
      "2               509                  1845                  1803  \n",
      "3               770                  2562                  2573  \n",
      "4               707                  3318                  3280  \n"
     ]
    }
   ],
   "source": [
    "#Посчитаем статистическую значимость различий в среднем числе заказов на пользователя\n",
    "#между группами по «сырым» данным — без удаления аномальных пользователей.\n",
    "\n",
    "visitorsADaily = visitors[visitors['group'] == 'A'][['date', 'visitors']]\n",
    "visitorsADaily.columns = ['date', 'visitorsPerDateA']\n",
    "\n",
    "visitorsACummulative = visitorsADaily.apply(\n",
    "    lambda x: visitorsADaily[visitorsADaily['date'] <= x['date']].agg(\n",
    "        {'date': 'max', 'visitorsPerDateA': 'sum'}\n",
    "    ),\n",
    "    axis=1,\n",
    ")\n",
    "visitorsACummulative.columns = ['date', 'visitorsCummulativeA']\n",
    "\n",
    "visitorsBDaily = visitors[visitors['group'] == 'B'][['date', 'visitors']]\n",
    "visitorsBDaily.columns = ['date', 'visitorsPerDateB']\n",
    "\n",
    "visitorsBCummulative = visitorsBDaily.apply(\n",
    "    lambda x: visitorsBDaily[visitorsBDaily['date'] <= x['date']].agg(\n",
    "        {'date': 'max', 'visitorsPerDateB': 'sum'}\n",
    "    ),\n",
    "    axis=1,\n",
    ")\n",
    "visitorsBCummulative.columns = ['date', 'visitorsCummulativeB']\n",
    "\n",
    "ordersADaily = (\n",
    "    orders[orders['group'] == 'A'][['date', 'transactionId', 'visitorId', 'revenue']]\n",
    "    .groupby('date', as_index=False)\n",
    "    .agg({'transactionId': pd.Series.nunique, 'revenue': 'sum'})\n",
    ")\n",
    "ordersADaily.columns = ['date', 'ordersPerDateA', 'revenuePerDateA']\n",
    "\n",
    "ordersACummulative = ordersADaily.apply(\n",
    "    lambda x: ordersADaily[ordersADaily['date'] <= x['date']].agg(\n",
    "        {'date': 'max', 'ordersPerDateA': 'sum', 'revenuePerDateA': 'sum'}\n",
    "    ),\n",
    "    axis=1,\n",
    ").sort_values(by=['date'])\n",
    "ordersACummulative.columns = [\n",
    "    'date',\n",
    "    'ordersCummulativeA',\n",
    "    'revenueCummulativeA',\n",
    "]\n",
    "\n",
    "ordersBDaily = (\n",
    "    orders[orders['group'] == 'B'][['date', 'transactionId', 'visitorId', 'revenue']]\n",
    "    .groupby('date', as_index=False)\n",
    "    .agg({'transactionId': pd.Series.nunique, 'revenue': 'sum'})\n",
    ")\n",
    "ordersBDaily.columns = ['date', 'ordersPerDateB', 'revenuePerDateB']\n",
    "\n",
    "ordersBCummulative = ordersBDaily.apply(\n",
    "    lambda x: ordersBDaily[ordersBDaily['date'] <= x['date']].agg(\n",
    "        {'date': 'max', 'ordersPerDateB': 'sum', 'revenuePerDateB': 'sum'}\n",
    "    ),\n",
    "    axis=1,\n",
    ").sort_values(by=['date'])\n",
    "ordersBCummulative.columns = [\n",
    "    'date',\n",
    "    'ordersCummulativeB',\n",
    "    'revenueCummulativeB',\n",
    "]\n",
    "\n",
    "data = (\n",
    "    ordersADaily.merge(\n",
    "        ordersBDaily, left_on='date', right_on='date', how='left'\n",
    "    )\n",
    "    .merge(ordersACummulative, left_on='date', right_on='date', how='left')\n",
    "    .merge(ordersBCummulative, left_on='date', right_on='date', how='left')\n",
    "    .merge(visitorsADaily, left_on='date', right_on='date', how='left')\n",
    "    .merge(visitorsBDaily, left_on='date', right_on='date', how='left')\n",
    "    .merge(visitorsACummulative, left_on='date', right_on='date', how='left')\n",
    "    .merge(visitorsBCummulative, left_on='date', right_on='date', how='left')\n",
    ")\n",
    "\n",
    "print(data.head(5))"
   ]
  },
  {
   "cell_type": "code",
   "execution_count": 27,
   "metadata": {},
   "outputs": [],
   "source": [
    "#Посчитаем статистическую значимость различия в среднем количестве заказов между группам\n",
    "#Создадим переменные ordersByUsersA и ordersByUsersB со столбцами ['userId', 'orders']. \n",
    "#В них для пользователей, которые заказывали хотя бы 1 раз, укажем число совершённых заказов\n",
    "ordersByUsersA = (\n",
    "    orders[orders['group'] == 'A']\n",
    "    .groupby('visitorId', as_index=False)\n",
    "    .agg({'transactionId': pd.Series.nunique})\n",
    ")\n",
    "ordersByUsersA.columns = ['visitorId', 'orders']\n",
    "\n",
    "ordersByUsersB = (\n",
    "    orders[orders['group'] == 'B']\n",
    "    .groupby('visitorId', as_index=False)\n",
    "    .agg({'transactionId': pd.Series.nunique})\n",
    ")\n",
    "ordersByUsersB.columns = ['visitorId', 'orders'] "
   ]
  },
  {
   "cell_type": "code",
   "execution_count": 28,
   "metadata": {},
   "outputs": [
    {
     "data": {
      "text/plain": [
       "0        0\n",
       "1        0\n",
       "2        0\n",
       "3        0\n",
       "4        0\n",
       "        ..\n",
       "18228    0\n",
       "18229    0\n",
       "18230    0\n",
       "18231    0\n",
       "18232    0\n",
       "Name: orders, Length: 18233, dtype: int64"
      ]
     },
     "execution_count": 28,
     "metadata": {},
     "output_type": "execute_result"
    }
   ],
   "source": [
    "#Объявим переменные sampleA и sampleB, в которых пользователям из разных групп будет соответствовать количество заказов. \n",
    "#Тем, кто ничего не заказал, будут соответствовать нули\n",
    "pd.Series(0, index=np.arange(data['visitorsPerDateA'].sum() - len(ordersByUsersA['orders'])), name='orders')\n",
    "  "
   ]
  },
  {
   "cell_type": "code",
   "execution_count": 29,
   "metadata": {},
   "outputs": [
    {
     "data": {
      "text/plain": [
       "[0      1\n",
       " 1      1\n",
       " 2      1\n",
       " 3      1\n",
       " 4      1\n",
       "       ..\n",
       " 498    1\n",
       " 499    7\n",
       " 500    1\n",
       " 501    1\n",
       " 502    1\n",
       " Name: orders, Length: 503, dtype: int64,\n",
       " 0        0\n",
       " 1        0\n",
       " 2        0\n",
       " 3        0\n",
       " 4        0\n",
       "         ..\n",
       " 18228    0\n",
       " 18229    0\n",
       " 18230    0\n",
       " 18231    0\n",
       " 18232    0\n",
       " Name: orders, Length: 18233, dtype: int64]"
      ]
     },
     "execution_count": 29,
     "metadata": {},
     "output_type": "execute_result"
    }
   ],
   "source": [
    "#объединим последовательности\n",
    "[ordersByUsersA['orders'],pd.Series(0, index=np.arange(data['visitorsPerDateA'].sum() - len(ordersByUsersA['orders'])), name='orders')]"
   ]
  },
  {
   "cell_type": "code",
   "execution_count": 30,
   "metadata": {},
   "outputs": [],
   "source": [
    "#передадим аргумент, сообщающий, что объекты Series нужно объединить по строкам \n",
    "sampleA = pd.concat([ordersByUsersA['orders'],pd.Series(0, index=np.arange(data['visitorsPerDateA'].sum() - len(ordersByUsersA['orders'])), name='orders')],axis=0)\n",
    "\n",
    "sampleB = pd.concat([ordersByUsersB['orders'],pd.Series(0, index=np.arange(data['visitorsPerDateB'].sum() - len(ordersByUsersB['orders'])), name='orders')],axis=0)"
   ]
  },
  {
   "cell_type": "markdown",
   "metadata": {},
   "source": [
    "<div style=\"background-color:black; color:#ffffff; text-align:left; padding:2%\">\n",
    "💬 Сформулируем нулевую и альтернативную гипотезы для различий в среднем числе заказов:\n",
    "<br> H0: статистически значимых различий в среднем числе заказов между группами нет\n",
    "<br> H1: между группами есть статистически значимые различия в среднем числе заказов    "
   ]
  },
  {
   "cell_type": "code",
   "execution_count": 31,
   "metadata": {},
   "outputs": [
    {
     "name": "stdout",
     "output_type": "stream",
     "text": [
      "p-value = 0.017\n",
      "Относительный выигрыш 0.138\n"
     ]
    }
   ],
   "source": [
    "#Применим критерий и отформатируем p-value, округлив его до трёх знаков после запятой\n",
    "\n",
    "ordersByUsersA = (\n",
    "    orders[orders['group'] == 'A']\n",
    "    .groupby('visitorId', as_index=False)\n",
    "    .agg({'transactionId': pd.Series.nunique})\n",
    ")\n",
    "ordersByUsersA.columns = ['visitorId', 'orders']\n",
    "\n",
    "ordersByUsersB = (\n",
    "    orders[orders['group'] == 'B']\n",
    "    .groupby('visitorId', as_index=False)\n",
    "    .agg({'transactionId': pd.Series.nunique})\n",
    ")\n",
    "ordersByUsersB.columns = ['visitorId', 'orders']\n",
    "\n",
    "sampleA = pd.concat(\n",
    "    [\n",
    "        ordersByUsersA['orders'],\n",
    "        pd.Series(\n",
    "            0,\n",
    "            index=np.arange(\n",
    "                data['visitorsPerDateA'].sum() - len(ordersByUsersA['orders'])\n",
    "            ),\n",
    "            name='orders',\n",
    "        ),\n",
    "    ],\n",
    "    axis=0,\n",
    ")\n",
    "\n",
    "sampleB = pd.concat(\n",
    "    [\n",
    "        ordersByUsersB['orders'],\n",
    "        pd.Series(\n",
    "            0,\n",
    "            index=np.arange(\n",
    "                data['visitorsPerDateB'].sum() - len(ordersByUsersB['orders'])\n",
    "            ),\n",
    "            name='orders',\n",
    "        ),\n",
    "    ],\n",
    "    axis=0,\n",
    ")\n",
    "\n",
    "print('p-value =',\"{0:.3f}\".format(stats.mannwhitneyu(sampleA, sampleB)[1]))\n",
    "\n",
    "print('Относительный выигрыш', \"{0:.3f}\".format(sampleB.mean() / sampleA.mean() - 1))\n",
    " "
   ]
  },
  {
   "cell_type": "markdown",
   "metadata": {},
   "source": [
    "<div style=\"background-color:black; color:#ffffff; text-align:left; padding:2%\">\n",
    "💬 Первое число — p-value = 0.017 меньше 0.05. Значит, нулевую гипотезу о том, что статистически значимых различий в среднем числе заказов между группами нет, отвергаем. Относительный выигрыш группы B равен 13,8%."
   ]
  },
  {
   "cell_type": "markdown",
   "metadata": {},
   "source": [
    "<div style=\"background-color:black; color:#ffffff; text-align:left; padding:2%\">\n",
    "💬 Сформулируем нулевую и альтернативную гипотезы для различий в среднем чеке между группами:\n",
    "<br> H0: статистически значимых различий в среднем чеке между группами нет\n",
    "<br> H1: между группами есть статистически значимые различия в среднем чеке    "
   ]
  },
  {
   "cell_type": "code",
   "execution_count": 32,
   "metadata": {},
   "outputs": [
    {
     "name": "stdout",
     "output_type": "stream",
     "text": [
      "p-value = 0.729\n",
      "Относительный выигрыш 0.259\n"
     ]
    }
   ],
   "source": [
    "# найдём относительные различия в среднем чеке между группами:\n",
    "print('p-value =', '{0:.3f}'.format(stats.mannwhitneyu(orders[orders['group']=='A']['revenue'], orders[orders['group']=='B']['revenue'])[1]))\n",
    "print('Относительный выигрыш','{0:.3f}'.format(orders[orders['group']=='B']['revenue'].mean()/orders[orders['group']=='A']['revenue'].mean()-1)) "
   ]
  },
  {
   "cell_type": "markdown",
   "metadata": {},
   "source": [
    "<div style=\"background-color:black; color:#ffffff; text-align:left; padding:2%\">\n",
    "💬 P-value 0.729 больше 0.05, значит, причин отвергать нулевую гипотезу и считать, что в среднем чеке есть различия, нет. Средний чек группы B <b>равен</b> среднему чеку группы A (или не отличается или различия получены случайным образом)."
   ]
  },
  {
   "cell_type": "code",
   "execution_count": 33,
   "metadata": {},
   "outputs": [
    {
     "name": "stdout",
     "output_type": "stream",
     "text": [
      "1099    148427295\n",
      "928     204675465\n",
      "684     358944393\n",
      "648     382846391\n",
      "751     689129267\n",
      "Name: visitorId, dtype: int64\n",
      "44\n"
     ]
    }
   ],
   "source": [
    "#произведем аналогичные действия с очищенными от аномалий данными\n",
    "#за аномалии приняли кол-во заказов более 4 и сумму более 32900\n",
    "\n",
    "usersWithManyOrders = pd.concat(\n",
    "    [\n",
    "        ordersByUsersA[ordersByUsersA['orders'] > 4]['visitorId'],\n",
    "        ordersByUsersB[ordersByUsersB['orders'] > 4]['visitorId'],\n",
    "    ],\n",
    "    axis=0,\n",
    ")\n",
    "usersWithExpensiveOrders = orders[orders['revenue'] > 32899.5]['visitorId']\n",
    "abnormalUsers = (\n",
    "    pd.concat([usersWithManyOrders, usersWithExpensiveOrders], axis=0)\n",
    "    .drop_duplicates()\n",
    "    .sort_values()\n",
    ")\n",
    "print(abnormalUsers.head(5))\n",
    "print(abnormalUsers.shape[0]) "
   ]
  },
  {
   "cell_type": "code",
   "execution_count": 34,
   "metadata": {},
   "outputs": [
    {
     "name": "stdout",
     "output_type": "stream",
     "text": [
      "абсолютные потери: 44\n",
      "относительные потери: 0.043\n"
     ]
    }
   ],
   "source": [
    "#Посчитаем потери пользователей после очитски данных от аномалий\n",
    "abnormalUsers_count = abnormalUsers.shape[0]\n",
    "abnormalUsers_share = len(abnormalUsers)/len(orders['visitorId'].unique())\n",
    "print('абсолютные потери:', abnormalUsers_count)\n",
    "print('относительные потери:', '{0:.3f}'.format(abnormalUsers_share))\n"
   ]
  },
  {
   "cell_type": "markdown",
   "metadata": {},
   "source": [
    "<div style=\"background-color:black; color:#ffffff; text-align:left; padding:2%\">\n",
    "💬 всего 44 аномальных пользователя, что составляет 4% от общего числа. Доля не критичная. Узнаем, как их действия повлияли на результаты теста"
   ]
  },
  {
   "cell_type": "markdown",
   "metadata": {},
   "source": [
    "<div style=\"background-color:black; color:#ffffff; text-align:left; padding:2%\">\n",
    "💬 Сформулируем нулевую и альтернативную гипотезы о различиях в среднем числе заказов по очищенным данным::\n",
    "<br> H0: В очищенных данных статистически значимых различий в среднем числе заказов между группами нет\n",
    "<br> H1: В очищенных данных между группами есть статистически значимые различия в среднем числе заказов    "
   ]
  },
  {
   "cell_type": "code",
   "execution_count": 35,
   "metadata": {},
   "outputs": [
    {
     "name": "stdout",
     "output_type": "stream",
     "text": [
      "p-value = 0.017\n",
      "Относительный выигрыш 0.154\n"
     ]
    }
   ],
   "source": [
    "#Посчитаем статистическую значимость различий в среднем количестве заказов между группами теста по очищенным данным\n",
    "sampleAFiltered = pd.concat(\n",
    "    [\n",
    "        ordersByUsersA[\n",
    "            np.logical_not(ordersByUsersA['visitorId'].isin(abnormalUsers))\n",
    "        ]['orders'],\n",
    "        pd.Series(\n",
    "            0,\n",
    "            index=np.arange(\n",
    "                data['visitorsPerDateA'].sum() - len(ordersByUsersA['orders'])\n",
    "            ),\n",
    "            name='orders',\n",
    "        ),\n",
    "    ],\n",
    "    axis=0,\n",
    ")\n",
    "\n",
    "sampleBFiltered = pd.concat(\n",
    "    [\n",
    "        ordersByUsersB[\n",
    "            np.logical_not(ordersByUsersB['visitorId'].isin(abnormalUsers))\n",
    "        ]['orders'],\n",
    "        pd.Series(\n",
    "            0,\n",
    "            index=np.arange(\n",
    "                data['visitorsPerDateB'].sum() - len(ordersByUsersB['orders'])\n",
    "            ),\n",
    "            name='orders',\n",
    "        ),\n",
    "    ],\n",
    "    axis=0,\n",
    ")\n",
    "\n",
    "#Применим статистический критерий Манна-Уитни к полученным выборкам:\n",
    "print('p-value =','{0:.3f}'.format(stats.mannwhitneyu(sampleAFiltered, sampleBFiltered)[1]))\n",
    "print('Относительный выигрыш','{0:.3f}'.format(sampleBFiltered.mean()/sampleAFiltered.mean()-1)) "
   ]
  },
  {
   "cell_type": "markdown",
   "metadata": {},
   "source": [
    "<div style=\"background-color:black; color:#ffffff; text-align:left; padding:2%\">\n",
    "💬 Результаты по очищенным данным о количестве заказов поменялись незначительно. Первое число — p-value = 0.017 меньше 0.05. Значит, нулевую гипотезу о том, что статистически значимых различий в среднем числе заказов между группами нет, отвергаем. Относительный выигрыш группы B равен 15,4%. Изменятся ли результаты по среднему чеку?"
   ]
  },
  {
   "cell_type": "markdown",
   "metadata": {},
   "source": [
    "<div style=\"background-color:black; color:#ffffff; text-align:left; padding:2%\">\n",
    "💬 Сформулируем нулевую и альтернативную гипотезы для различий в среднем чеке по очищенным данным:\n",
    "<br> H0: В очищенных данных статистически значимых различий в среднем чеке между группами нет\n",
    "<br> H1: В очищенных данных между группами есть статистически значимые различия в среднем чеке    "
   ]
  },
  {
   "cell_type": "code",
   "execution_count": 36,
   "metadata": {},
   "outputs": [
    {
     "name": "stdout",
     "output_type": "stream",
     "text": [
      "0.831\n",
      "0.014\n"
     ]
    }
   ],
   "source": [
    "print(\n",
    "    '{0:.3f}'.format(\n",
    "        stats.mannwhitneyu(\n",
    "            orders[\n",
    "                np.logical_and(\n",
    "                    orders['group'] == 'A',\n",
    "                    np.logical_not(orders['visitorId'].isin(abnormalUsers)),\n",
    "                )\n",
    "            ]['revenue'],\n",
    "            orders[\n",
    "                np.logical_and(\n",
    "                    orders['group'] == 'B',\n",
    "                    np.logical_not(orders['visitorId'].isin(abnormalUsers)),\n",
    "                )\n",
    "            ]['revenue'],\n",
    "        )[1]\n",
    "    )\n",
    ")\n",
    "\n",
    "print(\n",
    "    \"{0:.3f}\".format(\n",
    "        orders[\n",
    "            np.logical_and(\n",
    "                orders['group'] == 'B',\n",
    "                np.logical_not(orders['visitorId'].isin(abnormalUsers)),\n",
    "            )\n",
    "        ]['revenue'].mean()\n",
    "        / orders[\n",
    "            np.logical_and(\n",
    "                orders['group'] == 'A',\n",
    "                np.logical_not(orders['visitorId'].isin(abnormalUsers)),\n",
    "            )\n",
    "        ]['revenue'].mean()\n",
    "        - 1\n",
    "    )\n",
    ") "
   ]
  },
  {
   "cell_type": "markdown",
   "metadata": {},
   "source": [
    "<div style=\"background-color:black; color:#ffffff; text-align:left; padding:2%\">\n",
    "💬 P-value увеличился с 0.729 до 0.831, что по-прежнему больше 0,05,  значит, причин отвергать нулевую гипотезу и считать, что в среднем чеке есть различия, нет. Средний чек группы B <b>равен</b> среднему чеку группы A (или не отличается или различия получены случайным образом).   "
   ]
  },
  {
   "cell_type": "markdown",
   "metadata": {},
   "source": [
    "## Результат A/B-теста"
   ]
  },
  {
   "cell_type": "markdown",
   "metadata": {},
   "source": [
    "<div style=\"background-color:black; color:#ffffff; text-align:left; padding:2%\">\n",
    "💬 Результаты теста ка по сырым, так и по очищенным данным показали преимущество группы B в показателях количества заказов:\n",
    "<br> По количеству заказов на пользователя по \"сырым данным\" группа B выигрывает на 13,8%, по очищенным от аномалий - на 15,4%.\n",
    "<br> В динамике показатели выручки, числа заказов и конверсии также говорят в пользу группы B.\n",
    "<br>  Исходя из обнаруженных фактов, тест следует остановить и признать, что при имеющихся данных сегмент B выигрывает у сегмента A.    "
   ]
  }
 ],
 "metadata": {
  "ExecuteTimeLog": [
   {
    "duration": 568,
    "start_time": "2023-06-22T05:04:43.251Z"
   },
   {
    "duration": 34,
    "start_time": "2023-06-22T05:06:01.032Z"
   },
   {
    "duration": 30,
    "start_time": "2023-06-22T05:06:10.777Z"
   },
   {
    "duration": 4,
    "start_time": "2023-06-22T05:06:52.312Z"
   },
   {
    "duration": 33,
    "start_time": "2023-06-22T05:06:57.992Z"
   },
   {
    "duration": 45,
    "start_time": "2023-06-22T05:07:10.488Z"
   },
   {
    "duration": 17,
    "start_time": "2023-06-22T05:07:21.776Z"
   },
   {
    "duration": 113,
    "start_time": "2023-06-22T05:11:46.143Z"
   },
   {
    "duration": 14,
    "start_time": "2023-06-22T05:12:00.680Z"
   },
   {
    "duration": 94,
    "start_time": "2023-06-22T05:15:59.134Z"
   },
   {
    "duration": 8,
    "start_time": "2023-06-22T05:22:48.805Z"
   },
   {
    "duration": 8,
    "start_time": "2023-06-22T05:23:06.637Z"
   },
   {
    "duration": 82,
    "start_time": "2023-06-22T05:23:41.908Z"
   },
   {
    "duration": 5,
    "start_time": "2023-06-22T05:23:58.483Z"
   },
   {
    "duration": 17,
    "start_time": "2023-06-22T05:24:06.915Z"
   },
   {
    "duration": 8,
    "start_time": "2023-06-22T05:34:33.544Z"
   },
   {
    "duration": 16,
    "start_time": "2023-06-22T05:35:39.089Z"
   },
   {
    "duration": 8,
    "start_time": "2023-06-22T05:36:17.993Z"
   },
   {
    "duration": 81,
    "start_time": "2023-06-22T05:37:16.688Z"
   },
   {
    "duration": 11,
    "start_time": "2023-06-22T05:37:42.999Z"
   },
   {
    "duration": 14,
    "start_time": "2023-06-22T05:38:07.694Z"
   },
   {
    "duration": 13,
    "start_time": "2023-06-22T05:39:52.098Z"
   },
   {
    "duration": 6,
    "start_time": "2023-06-22T05:39:56.776Z"
   },
   {
    "duration": 4,
    "start_time": "2023-06-22T05:49:18.030Z"
   },
   {
    "duration": 14,
    "start_time": "2023-06-22T05:49:25.942Z"
   },
   {
    "duration": 16,
    "start_time": "2023-06-22T05:50:05.037Z"
   },
   {
    "duration": 19,
    "start_time": "2023-06-22T05:50:31.109Z"
   },
   {
    "duration": 15,
    "start_time": "2023-06-22T05:50:33.336Z"
   },
   {
    "duration": 15,
    "start_time": "2023-06-22T05:50:34.477Z"
   },
   {
    "duration": 14,
    "start_time": "2023-06-22T05:50:41.933Z"
   },
   {
    "duration": 15,
    "start_time": "2023-06-22T05:50:43.736Z"
   },
   {
    "duration": 14,
    "start_time": "2023-06-22T05:50:50.398Z"
   },
   {
    "duration": 14,
    "start_time": "2023-06-22T05:51:06.997Z"
   },
   {
    "duration": 19,
    "start_time": "2023-06-22T05:51:10.039Z"
   },
   {
    "duration": 7,
    "start_time": "2023-06-22T05:51:13.476Z"
   },
   {
    "duration": 12,
    "start_time": "2023-06-22T05:51:21.148Z"
   },
   {
    "duration": 63,
    "start_time": "2023-06-22T05:53:11.437Z"
   },
   {
    "duration": 12,
    "start_time": "2023-06-22T05:54:00.759Z"
   },
   {
    "duration": 514,
    "start_time": "2023-06-22T07:50:31.456Z"
   },
   {
    "duration": 14,
    "start_time": "2023-06-22T07:51:42.122Z"
   },
   {
    "duration": 1122,
    "start_time": "2023-06-22T07:52:41.301Z"
   },
   {
    "duration": 122,
    "start_time": "2023-06-22T09:16:45.216Z"
   },
   {
    "duration": 194,
    "start_time": "2023-06-22T09:41:43.606Z"
   },
   {
    "duration": 336,
    "start_time": "2023-06-22T09:43:04.019Z"
   },
   {
    "duration": 328,
    "start_time": "2023-06-22T10:11:07.317Z"
   },
   {
    "duration": 148,
    "start_time": "2023-06-22T10:11:47.616Z"
   },
   {
    "duration": 142,
    "start_time": "2023-06-22T10:12:50.734Z"
   },
   {
    "duration": 179,
    "start_time": "2023-06-22T10:14:42.939Z"
   },
   {
    "duration": 258,
    "start_time": "2023-06-22T10:20:08.150Z"
   },
   {
    "duration": 212,
    "start_time": "2023-06-22T10:23:54.517Z"
   },
   {
    "duration": 190,
    "start_time": "2023-06-22T10:24:37.934Z"
   },
   {
    "duration": 3,
    "start_time": "2023-06-22T10:29:29.172Z"
   },
   {
    "duration": 299,
    "start_time": "2023-06-22T10:30:00.838Z"
   },
   {
    "duration": 355,
    "start_time": "2023-06-22T10:30:06.375Z"
   },
   {
    "duration": 295,
    "start_time": "2023-06-22T10:30:25.930Z"
   },
   {
    "duration": 360,
    "start_time": "2023-06-22T10:30:37.100Z"
   },
   {
    "duration": 383,
    "start_time": "2023-06-22T10:39:24.917Z"
   },
   {
    "duration": 94,
    "start_time": "2023-06-22T10:39:25.413Z"
   },
   {
    "duration": 293,
    "start_time": "2023-06-22T10:46:52.464Z"
   },
   {
    "duration": 17,
    "start_time": "2023-06-22T10:47:44.404Z"
   },
   {
    "duration": 653,
    "start_time": "2023-06-22T10:51:44.420Z"
   },
   {
    "duration": 38,
    "start_time": "2023-06-22T10:51:45.075Z"
   },
   {
    "duration": 70,
    "start_time": "2023-06-22T10:51:45.114Z"
   },
   {
    "duration": 25,
    "start_time": "2023-06-22T10:51:45.186Z"
   },
   {
    "duration": 15,
    "start_time": "2023-06-22T10:51:45.215Z"
   },
   {
    "duration": 35,
    "start_time": "2023-06-22T10:51:45.232Z"
   },
   {
    "duration": 19,
    "start_time": "2023-06-22T10:51:45.269Z"
   },
   {
    "duration": 24,
    "start_time": "2023-06-22T10:51:45.290Z"
   },
   {
    "duration": 6,
    "start_time": "2023-06-22T10:51:45.316Z"
   },
   {
    "duration": 15,
    "start_time": "2023-06-22T10:51:45.324Z"
   },
   {
    "duration": 31,
    "start_time": "2023-06-22T10:51:45.341Z"
   },
   {
    "duration": 22,
    "start_time": "2023-06-22T10:51:45.374Z"
   },
   {
    "duration": 43,
    "start_time": "2023-06-22T10:51:45.398Z"
   },
   {
    "duration": 30,
    "start_time": "2023-06-22T10:51:45.443Z"
   },
   {
    "duration": 91,
    "start_time": "2023-06-22T10:51:45.475Z"
   },
   {
    "duration": 0,
    "start_time": "2023-06-22T10:51:45.568Z"
   },
   {
    "duration": 0,
    "start_time": "2023-06-22T10:51:45.569Z"
   },
   {
    "duration": 0,
    "start_time": "2023-06-22T10:51:45.570Z"
   },
   {
    "duration": 0,
    "start_time": "2023-06-22T10:51:45.571Z"
   },
   {
    "duration": 0,
    "start_time": "2023-06-22T10:51:45.572Z"
   },
   {
    "duration": 601,
    "start_time": "2023-06-22T10:55:34.430Z"
   },
   {
    "duration": 284,
    "start_time": "2023-06-22T10:55:37.720Z"
   },
   {
    "duration": 706,
    "start_time": "2023-06-22T10:55:47.813Z"
   },
   {
    "duration": 39,
    "start_time": "2023-06-22T10:55:48.522Z"
   },
   {
    "duration": 48,
    "start_time": "2023-06-22T10:55:48.563Z"
   },
   {
    "duration": 35,
    "start_time": "2023-06-22T10:55:48.613Z"
   },
   {
    "duration": 12,
    "start_time": "2023-06-22T10:55:48.652Z"
   },
   {
    "duration": 27,
    "start_time": "2023-06-22T10:55:48.665Z"
   },
   {
    "duration": 33,
    "start_time": "2023-06-22T10:55:48.694Z"
   },
   {
    "duration": 26,
    "start_time": "2023-06-22T10:55:48.729Z"
   },
   {
    "duration": 52,
    "start_time": "2023-06-22T10:55:48.757Z"
   },
   {
    "duration": 62,
    "start_time": "2023-06-22T10:55:48.811Z"
   },
   {
    "duration": 41,
    "start_time": "2023-06-22T10:55:48.874Z"
   },
   {
    "duration": 15,
    "start_time": "2023-06-22T10:55:48.917Z"
   },
   {
    "duration": 18,
    "start_time": "2023-06-22T10:55:48.934Z"
   },
   {
    "duration": 12,
    "start_time": "2023-06-22T10:55:48.955Z"
   },
   {
    "duration": 591,
    "start_time": "2023-06-22T10:55:48.969Z"
   },
   {
    "duration": 381,
    "start_time": "2023-06-22T10:55:49.562Z"
   },
   {
    "duration": 249,
    "start_time": "2023-06-22T10:55:49.945Z"
   },
   {
    "duration": 301,
    "start_time": "2023-06-22T10:55:50.196Z"
   },
   {
    "duration": 257,
    "start_time": "2023-06-22T10:55:50.498Z"
   },
   {
    "duration": 284,
    "start_time": "2023-06-22T10:55:50.756Z"
   },
   {
    "duration": 104,
    "start_time": "2023-06-22T10:55:51.042Z"
   },
   {
    "duration": 14,
    "start_time": "2023-06-22T10:58:34.504Z"
   },
   {
    "duration": 1052,
    "start_time": "2023-06-23T08:00:46.361Z"
   },
   {
    "duration": 112,
    "start_time": "2023-06-23T08:00:47.416Z"
   },
   {
    "duration": 99,
    "start_time": "2023-06-23T08:00:47.530Z"
   },
   {
    "duration": 83,
    "start_time": "2023-06-23T08:00:47.631Z"
   },
   {
    "duration": 14,
    "start_time": "2023-06-23T08:00:47.716Z"
   },
   {
    "duration": 18,
    "start_time": "2023-06-23T08:00:47.732Z"
   },
   {
    "duration": 22,
    "start_time": "2023-06-23T08:00:47.753Z"
   },
   {
    "duration": 30,
    "start_time": "2023-06-23T08:00:47.777Z"
   },
   {
    "duration": 16,
    "start_time": "2023-06-23T08:00:47.811Z"
   },
   {
    "duration": 13,
    "start_time": "2023-06-23T08:00:47.830Z"
   },
   {
    "duration": 30,
    "start_time": "2023-06-23T08:00:47.845Z"
   },
   {
    "duration": 17,
    "start_time": "2023-06-23T08:00:47.891Z"
   },
   {
    "duration": 31,
    "start_time": "2023-06-23T08:00:47.910Z"
   },
   {
    "duration": 15,
    "start_time": "2023-06-23T08:00:47.944Z"
   },
   {
    "duration": 483,
    "start_time": "2023-06-23T08:00:47.961Z"
   },
   {
    "duration": 0,
    "start_time": "2023-06-23T08:00:48.446Z"
   },
   {
    "duration": 0,
    "start_time": "2023-06-23T08:00:48.448Z"
   },
   {
    "duration": 0,
    "start_time": "2023-06-23T08:00:48.450Z"
   },
   {
    "duration": 0,
    "start_time": "2023-06-23T08:00:48.451Z"
   },
   {
    "duration": 0,
    "start_time": "2023-06-23T08:00:48.453Z"
   },
   {
    "duration": 0,
    "start_time": "2023-06-23T08:00:48.456Z"
   },
   {
    "duration": 356,
    "start_time": "2023-06-23T08:09:08.107Z"
   },
   {
    "duration": 38,
    "start_time": "2023-06-23T08:13:18.606Z"
   },
   {
    "duration": 129,
    "start_time": "2023-06-24T07:37:34.420Z"
   },
   {
    "duration": 17,
    "start_time": "2023-06-24T07:38:39.982Z"
   },
   {
    "duration": 1289,
    "start_time": "2023-06-24T07:38:47.440Z"
   },
   {
    "duration": 149,
    "start_time": "2023-06-24T07:38:48.734Z"
   },
   {
    "duration": 139,
    "start_time": "2023-06-24T07:38:48.885Z"
   },
   {
    "duration": 116,
    "start_time": "2023-06-24T07:38:49.029Z"
   },
   {
    "duration": 24,
    "start_time": "2023-06-24T07:38:49.151Z"
   },
   {
    "duration": 23,
    "start_time": "2023-06-24T07:38:49.182Z"
   },
   {
    "duration": 22,
    "start_time": "2023-06-24T07:38:49.208Z"
   },
   {
    "duration": 34,
    "start_time": "2023-06-24T07:38:49.235Z"
   },
   {
    "duration": 19,
    "start_time": "2023-06-24T07:38:49.274Z"
   },
   {
    "duration": 20,
    "start_time": "2023-06-24T07:38:49.300Z"
   },
   {
    "duration": 52,
    "start_time": "2023-06-24T07:38:49.326Z"
   },
   {
    "duration": 13,
    "start_time": "2023-06-24T07:38:49.394Z"
   },
   {
    "duration": 18,
    "start_time": "2023-06-24T07:38:49.413Z"
   },
   {
    "duration": 17,
    "start_time": "2023-06-24T07:38:49.437Z"
   },
   {
    "duration": 502,
    "start_time": "2023-06-24T07:38:49.460Z"
   },
   {
    "duration": 409,
    "start_time": "2023-06-24T07:38:49.968Z"
   },
   {
    "duration": 274,
    "start_time": "2023-06-24T07:38:50.383Z"
   },
   {
    "duration": 447,
    "start_time": "2023-06-24T07:38:50.664Z"
   },
   {
    "duration": 401,
    "start_time": "2023-06-24T07:38:51.113Z"
   },
   {
    "duration": 412,
    "start_time": "2023-06-24T07:38:51.518Z"
   },
   {
    "duration": 153,
    "start_time": "2023-06-24T07:38:51.934Z"
   },
   {
    "duration": 200,
    "start_time": "2023-06-24T07:40:22.397Z"
   },
   {
    "duration": 116,
    "start_time": "2023-06-24T13:25:32.732Z"
   },
   {
    "duration": 4,
    "start_time": "2023-06-24T13:48:54.598Z"
   },
   {
    "duration": 157,
    "start_time": "2023-06-24T14:10:01.978Z"
   },
   {
    "duration": 79,
    "start_time": "2023-06-24T14:23:40.796Z"
   },
   {
    "duration": 5,
    "start_time": "2023-06-24T14:39:40.435Z"
   },
   {
    "duration": 177,
    "start_time": "2023-06-24T14:39:47.056Z"
   },
   {
    "duration": 4,
    "start_time": "2023-06-24T14:39:50.732Z"
   },
   {
    "duration": 5,
    "start_time": "2023-06-24T14:41:37.073Z"
   },
   {
    "duration": 109,
    "start_time": "2023-06-24T14:50:34.967Z"
   },
   {
    "duration": 225,
    "start_time": "2023-06-24T14:53:16.351Z"
   },
   {
    "duration": 162,
    "start_time": "2023-06-24T14:56:39.895Z"
   },
   {
    "duration": 8,
    "start_time": "2023-06-24T15:10:42.598Z"
   },
   {
    "duration": 9,
    "start_time": "2023-06-24T15:11:15.306Z"
   },
   {
    "duration": 6,
    "start_time": "2023-06-24T15:11:41.189Z"
   },
   {
    "duration": 23,
    "start_time": "2023-06-24T15:12:12.033Z"
   },
   {
    "duration": 94,
    "start_time": "2023-06-24T15:13:24.291Z"
   },
   {
    "duration": 201,
    "start_time": "2023-06-24T15:13:37.940Z"
   },
   {
    "duration": 550,
    "start_time": "2023-06-24T15:15:08.201Z"
   },
   {
    "duration": 179,
    "start_time": "2023-06-24T15:15:14.099Z"
   },
   {
    "duration": 12,
    "start_time": "2023-06-24T15:37:55.170Z"
   },
   {
    "duration": 1134,
    "start_time": "2023-06-24T16:06:07.452Z"
   },
   {
    "duration": 9,
    "start_time": "2023-06-24T16:06:52.571Z"
   },
   {
    "duration": 64,
    "start_time": "2023-06-24T16:07:42.140Z"
   },
   {
    "duration": 2,
    "start_time": "2023-06-24T16:08:37.107Z"
   },
   {
    "duration": 78,
    "start_time": "2023-06-24T16:09:36.163Z"
   },
   {
    "duration": 36,
    "start_time": "2023-06-24T16:09:55.102Z"
   },
   {
    "duration": 65,
    "start_time": "2023-06-24T16:10:54.865Z"
   },
   {
    "duration": 17,
    "start_time": "2023-06-24T16:12:46.150Z"
   },
   {
    "duration": 57,
    "start_time": "2023-06-25T06:35:54.989Z"
   },
   {
    "duration": 1190,
    "start_time": "2023-06-25T06:36:12.598Z"
   },
   {
    "duration": 80,
    "start_time": "2023-06-25T06:36:13.790Z"
   },
   {
    "duration": 146,
    "start_time": "2023-06-25T06:36:13.871Z"
   },
   {
    "duration": 71,
    "start_time": "2023-06-25T06:36:14.222Z"
   },
   {
    "duration": 10,
    "start_time": "2023-06-25T06:36:15.849Z"
   },
   {
    "duration": 11,
    "start_time": "2023-06-25T06:36:16.573Z"
   },
   {
    "duration": 12,
    "start_time": "2023-06-25T06:36:20.446Z"
   },
   {
    "duration": 10,
    "start_time": "2023-06-25T06:36:31.190Z"
   },
   {
    "duration": 14,
    "start_time": "2023-06-25T06:36:36.158Z"
   },
   {
    "duration": 6,
    "start_time": "2023-06-25T06:36:40.504Z"
   },
   {
    "duration": 14,
    "start_time": "2023-06-25T06:36:41.070Z"
   },
   {
    "duration": 15,
    "start_time": "2023-06-25T06:36:41.774Z"
   },
   {
    "duration": 5,
    "start_time": "2023-06-25T06:36:46.510Z"
   },
   {
    "duration": 9,
    "start_time": "2023-06-25T06:37:03.793Z"
   },
   {
    "duration": 8,
    "start_time": "2023-06-25T06:37:13.054Z"
   },
   {
    "duration": 87,
    "start_time": "2023-06-25T06:40:15.454Z"
   },
   {
    "duration": 1043,
    "start_time": "2023-06-25T06:40:52.354Z"
   },
   {
    "duration": 39,
    "start_time": "2023-06-25T06:40:53.399Z"
   },
   {
    "duration": 66,
    "start_time": "2023-06-25T06:40:53.441Z"
   },
   {
    "duration": 19,
    "start_time": "2023-06-25T06:40:53.509Z"
   },
   {
    "duration": 16,
    "start_time": "2023-06-25T06:40:53.530Z"
   },
   {
    "duration": 32,
    "start_time": "2023-06-25T06:40:53.550Z"
   },
   {
    "duration": 30,
    "start_time": "2023-06-25T06:40:53.584Z"
   },
   {
    "duration": 29,
    "start_time": "2023-06-25T06:40:53.616Z"
   },
   {
    "duration": 20,
    "start_time": "2023-06-25T06:40:53.647Z"
   },
   {
    "duration": 27,
    "start_time": "2023-06-25T06:40:53.671Z"
   },
   {
    "duration": 33,
    "start_time": "2023-06-25T06:40:53.700Z"
   },
   {
    "duration": 39,
    "start_time": "2023-06-25T06:40:53.735Z"
   },
   {
    "duration": 30,
    "start_time": "2023-06-25T06:40:53.776Z"
   },
   {
    "duration": 20,
    "start_time": "2023-06-25T06:40:53.808Z"
   },
   {
    "duration": 324,
    "start_time": "2023-06-25T06:40:53.830Z"
   },
   {
    "duration": 257,
    "start_time": "2023-06-25T06:40:54.156Z"
   },
   {
    "duration": 196,
    "start_time": "2023-06-25T06:40:54.415Z"
   },
   {
    "duration": 287,
    "start_time": "2023-06-25T06:40:54.615Z"
   },
   {
    "duration": 219,
    "start_time": "2023-06-25T06:40:54.904Z"
   },
   {
    "duration": 334,
    "start_time": "2023-06-25T06:40:55.125Z"
   },
   {
    "duration": 120,
    "start_time": "2023-06-25T06:40:55.461Z"
   },
   {
    "duration": 4,
    "start_time": "2023-06-25T06:40:55.583Z"
   },
   {
    "duration": 163,
    "start_time": "2023-06-25T06:40:55.589Z"
   },
   {
    "duration": 4,
    "start_time": "2023-06-25T06:40:55.753Z"
   },
   {
    "duration": 236,
    "start_time": "2023-06-25T06:40:55.759Z"
   },
   {
    "duration": 154,
    "start_time": "2023-06-25T06:40:55.997Z"
   },
   {
    "duration": 7,
    "start_time": "2023-06-25T06:40:56.153Z"
   },
   {
    "duration": 45,
    "start_time": "2023-06-25T06:40:56.163Z"
   },
   {
    "duration": 42,
    "start_time": "2023-06-25T06:40:56.210Z"
   },
   {
    "duration": 144,
    "start_time": "2023-06-25T06:40:56.253Z"
   },
   {
    "duration": 9,
    "start_time": "2023-06-25T06:40:56.399Z"
   },
   {
    "duration": 10,
    "start_time": "2023-06-25T06:40:56.409Z"
   },
   {
    "duration": 50,
    "start_time": "2023-06-25T06:40:56.432Z"
   },
   {
    "duration": 12,
    "start_time": "2023-06-25T06:40:56.484Z"
   },
   {
    "duration": 241,
    "start_time": "2023-06-25T08:00:40.116Z"
   },
   {
    "duration": 196,
    "start_time": "2023-06-25T08:08:07.997Z"
   },
   {
    "duration": 317,
    "start_time": "2023-06-25T08:08:23.545Z"
   },
   {
    "duration": 1662,
    "start_time": "2023-06-25T08:19:04.907Z"
   },
   {
    "duration": 2121,
    "start_time": "2023-06-25T08:19:51.698Z"
   },
   {
    "duration": 1948,
    "start_time": "2023-06-25T08:20:25.201Z"
   },
   {
    "duration": 3,
    "start_time": "2023-06-25T08:20:35.020Z"
   },
   {
    "duration": 5,
    "start_time": "2023-06-25T08:20:45.208Z"
   },
   {
    "duration": 8,
    "start_time": "2023-06-25T08:20:48.144Z"
   },
   {
    "duration": 6,
    "start_time": "2023-06-25T08:20:50.401Z"
   },
   {
    "duration": 1904,
    "start_time": "2023-06-25T08:21:26.862Z"
   },
   {
    "duration": 11,
    "start_time": "2023-06-25T08:25:03.767Z"
   },
   {
    "duration": 6,
    "start_time": "2023-06-25T08:25:15.697Z"
   },
   {
    "duration": 9,
    "start_time": "2023-06-25T08:25:57.189Z"
   },
   {
    "duration": 10,
    "start_time": "2023-06-25T08:26:09.686Z"
   },
   {
    "duration": 12,
    "start_time": "2023-06-25T08:26:27.802Z"
   },
   {
    "duration": 4,
    "start_time": "2023-06-25T08:27:47.157Z"
   },
   {
    "duration": 4,
    "start_time": "2023-06-25T08:27:53.368Z"
   },
   {
    "duration": 4,
    "start_time": "2023-06-25T08:29:29.983Z"
   },
   {
    "duration": 5,
    "start_time": "2023-06-25T08:29:45.248Z"
   },
   {
    "duration": 5,
    "start_time": "2023-06-25T08:30:08.884Z"
   },
   {
    "duration": 5,
    "start_time": "2023-06-25T08:36:19.396Z"
   },
   {
    "duration": 6,
    "start_time": "2023-06-25T08:36:40.500Z"
   },
   {
    "duration": 4,
    "start_time": "2023-06-25T08:38:13.323Z"
   },
   {
    "duration": 120,
    "start_time": "2023-06-25T08:38:49.697Z"
   },
   {
    "duration": 4,
    "start_time": "2023-06-25T08:38:59.817Z"
   },
   {
    "duration": 11,
    "start_time": "2023-06-25T14:06:42.307Z"
   },
   {
    "duration": 102,
    "start_time": "2023-06-25T14:08:52.456Z"
   },
   {
    "duration": 12,
    "start_time": "2023-06-25T14:19:37.384Z"
   },
   {
    "duration": 12,
    "start_time": "2023-06-25T14:20:11.556Z"
   },
   {
    "duration": 9,
    "start_time": "2023-06-25T14:21:42.644Z"
   },
   {
    "duration": 13,
    "start_time": "2023-06-25T14:22:24.212Z"
   },
   {
    "duration": 13,
    "start_time": "2023-06-25T14:22:41.948Z"
   },
   {
    "duration": 9,
    "start_time": "2023-06-25T14:25:58.844Z"
   },
   {
    "duration": 11,
    "start_time": "2023-06-25T14:33:25.986Z"
   },
   {
    "duration": 17,
    "start_time": "2023-06-25T14:35:11.345Z"
   },
   {
    "duration": 28,
    "start_time": "2023-06-25T14:35:42.333Z"
   },
   {
    "duration": 5,
    "start_time": "2023-06-25T14:35:50.634Z"
   },
   {
    "duration": 8,
    "start_time": "2023-06-25T14:42:55.671Z"
   },
   {
    "duration": 10,
    "start_time": "2023-06-25T14:43:12.897Z"
   },
   {
    "duration": 89,
    "start_time": "2023-06-25T14:47:30.364Z"
   },
   {
    "duration": 79,
    "start_time": "2023-06-25T14:47:36.067Z"
   },
   {
    "duration": 111,
    "start_time": "2023-06-25T14:47:45.093Z"
   },
   {
    "duration": 75,
    "start_time": "2023-06-25T14:47:51.446Z"
   },
   {
    "duration": 15,
    "start_time": "2023-06-25T14:47:58.590Z"
   },
   {
    "duration": 13,
    "start_time": "2023-06-25T14:48:24.595Z"
   },
   {
    "duration": 13,
    "start_time": "2023-06-25T14:49:27.188Z"
   },
   {
    "duration": 17,
    "start_time": "2023-06-25T14:53:55.555Z"
   },
   {
    "duration": 191,
    "start_time": "2023-06-25T15:05:57.722Z"
   },
   {
    "duration": 139,
    "start_time": "2023-06-25T15:06:17.351Z"
   },
   {
    "duration": 148,
    "start_time": "2023-06-25T15:06:52.400Z"
   },
   {
    "duration": 165,
    "start_time": "2023-06-25T15:07:27.722Z"
   },
   {
    "duration": 192,
    "start_time": "2023-06-25T15:07:42.602Z"
   },
   {
    "duration": 165,
    "start_time": "2023-06-25T15:07:53.914Z"
   },
   {
    "duration": 198,
    "start_time": "2023-06-25T15:08:17.583Z"
   },
   {
    "duration": 13,
    "start_time": "2023-06-25T15:13:18.016Z"
   },
   {
    "duration": 1144,
    "start_time": "2023-06-25T15:13:41.288Z"
   },
   {
    "duration": 35,
    "start_time": "2023-06-25T15:13:42.434Z"
   },
   {
    "duration": 46,
    "start_time": "2023-06-25T15:13:42.471Z"
   },
   {
    "duration": 21,
    "start_time": "2023-06-25T15:13:42.520Z"
   },
   {
    "duration": 11,
    "start_time": "2023-06-25T15:13:42.543Z"
   },
   {
    "duration": 38,
    "start_time": "2023-06-25T15:13:42.556Z"
   },
   {
    "duration": 17,
    "start_time": "2023-06-25T15:13:42.596Z"
   },
   {
    "duration": 29,
    "start_time": "2023-06-25T15:13:42.615Z"
   },
   {
    "duration": 11,
    "start_time": "2023-06-25T15:13:42.646Z"
   },
   {
    "duration": 17,
    "start_time": "2023-06-25T15:13:42.660Z"
   },
   {
    "duration": 47,
    "start_time": "2023-06-25T15:13:42.679Z"
   },
   {
    "duration": 30,
    "start_time": "2023-06-25T15:13:42.727Z"
   },
   {
    "duration": 34,
    "start_time": "2023-06-25T15:13:42.759Z"
   },
   {
    "duration": 21,
    "start_time": "2023-06-25T15:13:42.795Z"
   },
   {
    "duration": 325,
    "start_time": "2023-06-25T15:13:42.817Z"
   },
   {
    "duration": 111,
    "start_time": "2023-06-25T15:13:43.144Z"
   },
   {
    "duration": 0,
    "start_time": "2023-06-25T15:13:43.257Z"
   },
   {
    "duration": 0,
    "start_time": "2023-06-25T15:13:43.258Z"
   },
   {
    "duration": 0,
    "start_time": "2023-06-25T15:13:43.259Z"
   },
   {
    "duration": 0,
    "start_time": "2023-06-25T15:13:43.260Z"
   },
   {
    "duration": 0,
    "start_time": "2023-06-25T15:13:43.261Z"
   },
   {
    "duration": 0,
    "start_time": "2023-06-25T15:13:43.262Z"
   },
   {
    "duration": 0,
    "start_time": "2023-06-25T15:13:43.263Z"
   },
   {
    "duration": 0,
    "start_time": "2023-06-25T15:13:43.264Z"
   },
   {
    "duration": 0,
    "start_time": "2023-06-25T15:13:43.265Z"
   },
   {
    "duration": 0,
    "start_time": "2023-06-25T15:13:43.267Z"
   },
   {
    "duration": 0,
    "start_time": "2023-06-25T15:13:43.268Z"
   },
   {
    "duration": 0,
    "start_time": "2023-06-25T15:13:43.268Z"
   },
   {
    "duration": 1,
    "start_time": "2023-06-25T15:13:43.269Z"
   },
   {
    "duration": 0,
    "start_time": "2023-06-25T15:13:43.270Z"
   },
   {
    "duration": 0,
    "start_time": "2023-06-25T15:13:43.271Z"
   },
   {
    "duration": 0,
    "start_time": "2023-06-25T15:13:43.272Z"
   },
   {
    "duration": 0,
    "start_time": "2023-06-25T15:13:43.274Z"
   },
   {
    "duration": 0,
    "start_time": "2023-06-25T15:13:43.274Z"
   },
   {
    "duration": 0,
    "start_time": "2023-06-25T15:13:43.275Z"
   },
   {
    "duration": 0,
    "start_time": "2023-06-25T15:13:43.276Z"
   },
   {
    "duration": 10,
    "start_time": "2023-06-25T15:14:05.144Z"
   },
   {
    "duration": 4,
    "start_time": "2023-06-25T15:16:31.082Z"
   },
   {
    "duration": 8,
    "start_time": "2023-06-25T15:16:39.823Z"
   },
   {
    "duration": 15,
    "start_time": "2023-06-25T15:16:45.684Z"
   },
   {
    "duration": 11,
    "start_time": "2023-06-25T15:17:18.790Z"
   },
   {
    "duration": 334,
    "start_time": "2023-06-25T15:21:41.216Z"
   },
   {
    "duration": 103,
    "start_time": "2023-06-25T15:34:05.699Z"
   },
   {
    "duration": 176,
    "start_time": "2023-06-25T15:35:40.291Z"
   },
   {
    "duration": 23,
    "start_time": "2023-06-25T15:38:04.941Z"
   },
   {
    "duration": 17,
    "start_time": "2023-06-25T15:38:23.726Z"
   },
   {
    "duration": 12,
    "start_time": "2023-06-25T15:38:43.714Z"
   },
   {
    "duration": 12,
    "start_time": "2023-06-25T15:39:26.805Z"
   },
   {
    "duration": 13,
    "start_time": "2023-06-25T15:39:35.809Z"
   },
   {
    "duration": 12,
    "start_time": "2023-06-25T15:39:47.364Z"
   },
   {
    "duration": 9,
    "start_time": "2023-06-25T15:40:04.208Z"
   },
   {
    "duration": 9,
    "start_time": "2023-06-25T15:40:43.919Z"
   },
   {
    "duration": 12,
    "start_time": "2023-06-25T15:40:54.587Z"
   },
   {
    "duration": 159,
    "start_time": "2023-06-25T16:25:49.356Z"
   },
   {
    "duration": 269,
    "start_time": "2023-06-25T16:25:52.304Z"
   },
   {
    "duration": 176,
    "start_time": "2023-06-25T16:26:00.204Z"
   },
   {
    "duration": 285,
    "start_time": "2023-06-25T16:26:22.898Z"
   },
   {
    "duration": 111,
    "start_time": "2023-06-25T16:26:52.794Z"
   },
   {
    "duration": 4,
    "start_time": "2023-06-25T16:27:08.667Z"
   },
   {
    "duration": 154,
    "start_time": "2023-06-25T16:27:17.949Z"
   },
   {
    "duration": 5,
    "start_time": "2023-06-25T16:27:41.917Z"
   },
   {
    "duration": 224,
    "start_time": "2023-06-25T16:28:20.971Z"
   },
   {
    "duration": 182,
    "start_time": "2023-06-25T16:28:24.597Z"
   },
   {
    "duration": 7,
    "start_time": "2023-06-25T16:28:25.443Z"
   },
   {
    "duration": 7,
    "start_time": "2023-06-25T16:28:27.748Z"
   },
   {
    "duration": 139,
    "start_time": "2023-06-25T16:28:32.256Z"
   },
   {
    "duration": 7,
    "start_time": "2023-06-25T16:28:32.665Z"
   },
   {
    "duration": 7,
    "start_time": "2023-06-25T16:28:33.300Z"
   },
   {
    "duration": 6,
    "start_time": "2023-06-25T16:28:34.299Z"
   },
   {
    "duration": 188,
    "start_time": "2023-06-25T16:28:45.362Z"
   },
   {
    "duration": 180,
    "start_time": "2023-06-25T16:30:14.856Z"
   },
   {
    "duration": 12,
    "start_time": "2023-06-25T16:31:42.727Z"
   },
   {
    "duration": 15,
    "start_time": "2023-06-25T16:35:40.767Z"
   },
   {
    "duration": 10,
    "start_time": "2023-06-25T16:36:47.048Z"
   },
   {
    "duration": 4,
    "start_time": "2023-06-25T16:36:55.845Z"
   },
   {
    "duration": 4,
    "start_time": "2023-06-25T16:37:44.004Z"
   },
   {
    "duration": 44,
    "start_time": "2023-06-25T16:39:30.727Z"
   },
   {
    "duration": 195,
    "start_time": "2023-06-25T16:59:48.707Z"
   },
   {
    "duration": 252,
    "start_time": "2023-06-25T16:59:59.732Z"
   },
   {
    "duration": 228,
    "start_time": "2023-06-25T17:00:09.749Z"
   },
   {
    "duration": 188,
    "start_time": "2023-06-25T17:00:19.184Z"
   },
   {
    "duration": 201,
    "start_time": "2023-06-25T17:01:54.064Z"
   },
   {
    "duration": 194,
    "start_time": "2023-06-25T17:02:37.023Z"
   },
   {
    "duration": 291,
    "start_time": "2023-06-25T17:02:42.400Z"
   },
   {
    "duration": 193,
    "start_time": "2023-06-25T17:05:43.516Z"
   },
   {
    "duration": 203,
    "start_time": "2023-06-25T17:05:51.491Z"
   },
   {
    "duration": 218,
    "start_time": "2023-06-25T17:06:32.256Z"
   },
   {
    "duration": 192,
    "start_time": "2023-06-25T17:06:42.572Z"
   },
   {
    "duration": 280,
    "start_time": "2023-06-25T17:06:49.522Z"
   },
   {
    "duration": 141,
    "start_time": "2023-06-25T17:06:58.515Z"
   },
   {
    "duration": 290,
    "start_time": "2023-06-25T17:07:06.855Z"
   },
   {
    "duration": 203,
    "start_time": "2023-06-25T17:07:16.482Z"
   },
   {
    "duration": 349,
    "start_time": "2023-06-25T17:08:27.026Z"
   },
   {
    "duration": 236,
    "start_time": "2023-06-25T17:08:45.298Z"
   },
   {
    "duration": 246,
    "start_time": "2023-06-25T17:08:58.983Z"
   },
   {
    "duration": 302,
    "start_time": "2023-06-25T17:10:08.758Z"
   },
   {
    "duration": 215,
    "start_time": "2023-06-25T17:11:04.393Z"
   },
   {
    "duration": 318,
    "start_time": "2023-06-25T17:12:14.382Z"
   },
   {
    "duration": 317,
    "start_time": "2023-06-25T17:14:02.218Z"
   },
   {
    "duration": 310,
    "start_time": "2023-06-25T17:32:47.357Z"
   },
   {
    "duration": 247,
    "start_time": "2023-06-25T17:34:14.299Z"
   },
   {
    "duration": 241,
    "start_time": "2023-06-25T17:34:21.315Z"
   },
   {
    "duration": 319,
    "start_time": "2023-06-25T17:34:36.884Z"
   },
   {
    "duration": 256,
    "start_time": "2023-06-25T17:34:49.026Z"
   },
   {
    "duration": 233,
    "start_time": "2023-06-25T17:34:56.218Z"
   },
   {
    "duration": 363,
    "start_time": "2023-06-25T17:35:11.215Z"
   },
   {
    "duration": 368,
    "start_time": "2023-06-25T17:38:30.130Z"
   },
   {
    "duration": 177,
    "start_time": "2023-06-25T17:41:25.200Z"
   },
   {
    "duration": 158,
    "start_time": "2023-06-25T17:42:54.108Z"
   },
   {
    "duration": 173,
    "start_time": "2023-06-25T17:43:47.160Z"
   },
   {
    "duration": 1366,
    "start_time": "2023-06-25T17:44:30.158Z"
   },
   {
    "duration": 55,
    "start_time": "2023-06-25T17:44:31.526Z"
   },
   {
    "duration": 100,
    "start_time": "2023-06-25T17:44:31.583Z"
   },
   {
    "duration": 23,
    "start_time": "2023-06-25T17:44:31.685Z"
   },
   {
    "duration": 10,
    "start_time": "2023-06-25T17:44:31.710Z"
   },
   {
    "duration": 55,
    "start_time": "2023-06-25T17:44:31.721Z"
   },
   {
    "duration": 26,
    "start_time": "2023-06-25T17:44:31.777Z"
   },
   {
    "duration": 23,
    "start_time": "2023-06-25T17:44:31.805Z"
   },
   {
    "duration": 48,
    "start_time": "2023-06-25T17:44:31.829Z"
   },
   {
    "duration": 17,
    "start_time": "2023-06-25T17:44:31.879Z"
   },
   {
    "duration": 30,
    "start_time": "2023-06-25T17:44:31.898Z"
   },
   {
    "duration": 64,
    "start_time": "2023-06-25T17:44:31.930Z"
   },
   {
    "duration": 59,
    "start_time": "2023-06-25T17:44:31.996Z"
   },
   {
    "duration": 43,
    "start_time": "2023-06-25T17:44:32.062Z"
   },
   {
    "duration": 398,
    "start_time": "2023-06-25T17:44:32.107Z"
   },
   {
    "duration": 10,
    "start_time": "2023-06-25T17:44:32.506Z"
   },
   {
    "duration": 353,
    "start_time": "2023-06-25T17:44:32.517Z"
   },
   {
    "duration": 213,
    "start_time": "2023-06-25T17:44:32.872Z"
   },
   {
    "duration": 315,
    "start_time": "2023-06-25T17:44:33.087Z"
   },
   {
    "duration": 274,
    "start_time": "2023-06-25T17:44:33.403Z"
   },
   {
    "duration": 329,
    "start_time": "2023-06-25T17:44:33.679Z"
   },
   {
    "duration": 167,
    "start_time": "2023-06-25T17:44:34.010Z"
   },
   {
    "duration": 5,
    "start_time": "2023-06-25T17:44:34.179Z"
   },
   {
    "duration": 204,
    "start_time": "2023-06-25T17:44:34.185Z"
   },
   {
    "duration": 5,
    "start_time": "2023-06-25T17:44:34.391Z"
   },
   {
    "duration": 307,
    "start_time": "2023-06-25T17:44:34.397Z"
   },
   {
    "duration": 149,
    "start_time": "2023-06-25T17:44:34.706Z"
   },
   {
    "duration": 17,
    "start_time": "2023-06-25T17:44:34.858Z"
   },
   {
    "duration": 30,
    "start_time": "2023-06-25T17:44:34.877Z"
   },
   {
    "duration": 18,
    "start_time": "2023-06-25T17:44:34.909Z"
   },
   {
    "duration": 252,
    "start_time": "2023-06-25T17:44:34.928Z"
   },
   {
    "duration": 11,
    "start_time": "2023-06-25T17:44:35.182Z"
   },
   {
    "duration": 14,
    "start_time": "2023-06-25T17:44:35.195Z"
   },
   {
    "duration": 66,
    "start_time": "2023-06-25T17:44:35.211Z"
   },
   {
    "duration": 42,
    "start_time": "2023-06-25T17:44:35.279Z"
   },
   {
    "duration": 19,
    "start_time": "2023-06-25T17:44:35.323Z"
   },
   {
    "duration": 8,
    "start_time": "2023-06-25T17:48:34.006Z"
   },
   {
    "duration": 301,
    "start_time": "2023-06-25T17:50:31.605Z"
   },
   {
    "duration": 693,
    "start_time": "2023-06-25T17:53:46.288Z"
   },
   {
    "duration": 8,
    "start_time": "2023-06-25T17:54:04.088Z"
   },
   {
    "duration": 4,
    "start_time": "2023-06-25T17:54:18.741Z"
   },
   {
    "duration": 25,
    "start_time": "2023-06-25T17:54:22.924Z"
   },
   {
    "duration": 1026,
    "start_time": "2023-06-25T17:57:26.290Z"
   },
   {
    "duration": 40,
    "start_time": "2023-06-25T17:57:27.317Z"
   },
   {
    "duration": 45,
    "start_time": "2023-06-25T17:57:27.358Z"
   },
   {
    "duration": 21,
    "start_time": "2023-06-25T17:57:27.406Z"
   },
   {
    "duration": 16,
    "start_time": "2023-06-25T17:57:27.428Z"
   },
   {
    "duration": 12,
    "start_time": "2023-06-25T17:57:27.448Z"
   },
   {
    "duration": 21,
    "start_time": "2023-06-25T17:57:27.461Z"
   },
   {
    "duration": 13,
    "start_time": "2023-06-25T17:57:27.483Z"
   },
   {
    "duration": 5,
    "start_time": "2023-06-25T17:57:27.498Z"
   },
   {
    "duration": 8,
    "start_time": "2023-06-25T17:57:27.506Z"
   },
   {
    "duration": 28,
    "start_time": "2023-06-25T17:57:27.516Z"
   },
   {
    "duration": 18,
    "start_time": "2023-06-25T17:57:27.548Z"
   },
   {
    "duration": 17,
    "start_time": "2023-06-25T17:57:27.567Z"
   },
   {
    "duration": 9,
    "start_time": "2023-06-25T17:57:27.586Z"
   },
   {
    "duration": 303,
    "start_time": "2023-06-25T17:57:27.596Z"
   },
   {
    "duration": 9,
    "start_time": "2023-06-25T17:57:27.900Z"
   },
   {
    "duration": 299,
    "start_time": "2023-06-25T17:57:27.910Z"
   },
   {
    "duration": 239,
    "start_time": "2023-06-25T17:57:28.211Z"
   },
   {
    "duration": 321,
    "start_time": "2023-06-25T17:57:28.452Z"
   },
   {
    "duration": 359,
    "start_time": "2023-06-25T17:57:28.776Z"
   },
   {
    "duration": 349,
    "start_time": "2023-06-25T17:57:29.136Z"
   },
   {
    "duration": 152,
    "start_time": "2023-06-25T17:57:29.487Z"
   },
   {
    "duration": 8,
    "start_time": "2023-06-25T17:57:29.640Z"
   },
   {
    "duration": 185,
    "start_time": "2023-06-25T17:57:29.650Z"
   },
   {
    "duration": 9,
    "start_time": "2023-06-25T17:57:29.839Z"
   },
   {
    "duration": 238,
    "start_time": "2023-06-25T17:57:29.850Z"
   },
   {
    "duration": 150,
    "start_time": "2023-06-25T17:57:30.090Z"
   },
   {
    "duration": 8,
    "start_time": "2023-06-25T17:57:30.244Z"
   },
   {
    "duration": 46,
    "start_time": "2023-06-25T17:57:30.254Z"
   },
   {
    "duration": 79,
    "start_time": "2023-06-25T17:57:30.301Z"
   },
   {
    "duration": 197,
    "start_time": "2023-06-25T17:57:30.381Z"
   },
   {
    "duration": 10,
    "start_time": "2023-06-25T17:57:30.580Z"
   },
   {
    "duration": 41,
    "start_time": "2023-06-25T17:57:30.592Z"
   },
   {
    "duration": 323,
    "start_time": "2023-06-25T17:57:30.635Z"
   },
   {
    "duration": 254,
    "start_time": "2023-06-25T17:57:30.960Z"
   },
   {
    "duration": 86,
    "start_time": "2023-06-25T17:57:31.215Z"
   },
   {
    "duration": 146,
    "start_time": "2023-06-26T04:56:32.105Z"
   },
   {
    "duration": 626,
    "start_time": "2023-06-26T04:56:39.045Z"
   },
   {
    "duration": 104,
    "start_time": "2023-06-26T04:56:47.794Z"
   },
   {
    "duration": 40,
    "start_time": "2023-06-26T04:57:26.081Z"
   },
   {
    "duration": 1387,
    "start_time": "2023-06-26T04:57:36.952Z"
   },
   {
    "duration": 73,
    "start_time": "2023-06-26T04:57:38.341Z"
   },
   {
    "duration": 94,
    "start_time": "2023-06-26T04:57:38.416Z"
   },
   {
    "duration": 67,
    "start_time": "2023-06-26T04:57:38.512Z"
   },
   {
    "duration": 11,
    "start_time": "2023-06-26T04:57:38.582Z"
   },
   {
    "duration": 13,
    "start_time": "2023-06-26T04:57:38.594Z"
   },
   {
    "duration": 11,
    "start_time": "2023-06-26T04:57:38.609Z"
   },
   {
    "duration": 20,
    "start_time": "2023-06-26T04:57:38.621Z"
   },
   {
    "duration": 12,
    "start_time": "2023-06-26T04:57:38.643Z"
   },
   {
    "duration": 13,
    "start_time": "2023-06-26T04:57:38.658Z"
   },
   {
    "duration": 29,
    "start_time": "2023-06-26T04:57:38.673Z"
   },
   {
    "duration": 8,
    "start_time": "2023-06-26T04:57:38.704Z"
   },
   {
    "duration": 43,
    "start_time": "2023-06-26T04:57:38.714Z"
   },
   {
    "duration": 13,
    "start_time": "2023-06-26T04:57:38.758Z"
   },
   {
    "duration": 317,
    "start_time": "2023-06-26T04:57:38.772Z"
   },
   {
    "duration": 10,
    "start_time": "2023-06-26T04:57:39.091Z"
   },
   {
    "duration": 50,
    "start_time": "2023-06-26T04:57:39.103Z"
   },
   {
    "duration": 330,
    "start_time": "2023-06-26T04:57:39.155Z"
   },
   {
    "duration": 241,
    "start_time": "2023-06-26T04:57:39.487Z"
   },
   {
    "duration": 358,
    "start_time": "2023-06-26T04:57:39.733Z"
   },
   {
    "duration": 219,
    "start_time": "2023-06-26T04:57:40.093Z"
   },
   {
    "duration": 367,
    "start_time": "2023-06-26T04:57:40.314Z"
   },
   {
    "duration": 179,
    "start_time": "2023-06-26T04:57:40.683Z"
   },
   {
    "duration": 4,
    "start_time": "2023-06-26T04:57:40.864Z"
   },
   {
    "duration": 195,
    "start_time": "2023-06-26T04:57:40.870Z"
   },
   {
    "duration": 5,
    "start_time": "2023-06-26T04:57:41.066Z"
   },
   {
    "duration": 249,
    "start_time": "2023-06-26T04:57:41.072Z"
   },
   {
    "duration": 178,
    "start_time": "2023-06-26T04:57:41.325Z"
   },
   {
    "duration": 7,
    "start_time": "2023-06-26T04:57:41.505Z"
   },
   {
    "duration": 42,
    "start_time": "2023-06-26T04:57:41.513Z"
   },
   {
    "duration": 24,
    "start_time": "2023-06-26T04:57:41.557Z"
   },
   {
    "duration": 197,
    "start_time": "2023-06-26T04:57:41.583Z"
   },
   {
    "duration": 11,
    "start_time": "2023-06-26T04:57:41.782Z"
   },
   {
    "duration": 10,
    "start_time": "2023-06-26T04:57:41.795Z"
   },
   {
    "duration": 30,
    "start_time": "2023-06-26T04:57:41.807Z"
   },
   {
    "duration": 39,
    "start_time": "2023-06-26T04:57:41.841Z"
   },
   {
    "duration": 14,
    "start_time": "2023-06-26T04:57:41.882Z"
   },
   {
    "duration": 13,
    "start_time": "2023-06-26T04:58:05.915Z"
   },
   {
    "duration": 12,
    "start_time": "2023-06-26T04:58:47.848Z"
   },
   {
    "duration": 11,
    "start_time": "2023-06-26T04:59:53.985Z"
   },
   {
    "duration": 99,
    "start_time": "2023-06-26T05:00:59.055Z"
   },
   {
    "duration": 10,
    "start_time": "2023-06-26T05:01:45.689Z"
   },
   {
    "duration": 55,
    "start_time": "2023-06-27T03:40:14.557Z"
   },
   {
    "duration": 1290,
    "start_time": "2023-06-27T03:40:22.802Z"
   },
   {
    "duration": 73,
    "start_time": "2023-06-27T03:40:24.093Z"
   },
   {
    "duration": 139,
    "start_time": "2023-06-27T03:40:24.168Z"
   },
   {
    "duration": 69,
    "start_time": "2023-06-27T03:40:24.309Z"
   },
   {
    "duration": 12,
    "start_time": "2023-06-27T03:40:24.379Z"
   },
   {
    "duration": 16,
    "start_time": "2023-06-27T03:40:24.393Z"
   },
   {
    "duration": 21,
    "start_time": "2023-06-27T03:40:24.411Z"
   },
   {
    "duration": 34,
    "start_time": "2023-06-27T03:40:24.434Z"
   },
   {
    "duration": 7,
    "start_time": "2023-06-27T03:40:24.469Z"
   },
   {
    "duration": 14,
    "start_time": "2023-06-27T03:40:24.478Z"
   },
   {
    "duration": 14,
    "start_time": "2023-06-27T03:40:24.493Z"
   },
   {
    "duration": 10,
    "start_time": "2023-06-27T03:40:24.509Z"
   },
   {
    "duration": 10,
    "start_time": "2023-06-27T03:40:24.521Z"
   },
   {
    "duration": 41,
    "start_time": "2023-06-27T03:40:24.533Z"
   },
   {
    "duration": 386,
    "start_time": "2023-06-27T03:40:24.577Z"
   },
   {
    "duration": 13,
    "start_time": "2023-06-27T03:40:24.965Z"
   },
   {
    "duration": 310,
    "start_time": "2023-06-27T03:40:24.979Z"
   },
   {
    "duration": 216,
    "start_time": "2023-06-27T03:40:25.291Z"
   },
   {
    "duration": 396,
    "start_time": "2023-06-27T03:40:25.508Z"
   },
   {
    "duration": 265,
    "start_time": "2023-06-27T03:40:25.905Z"
   },
   {
    "duration": 322,
    "start_time": "2023-06-27T03:40:26.172Z"
   },
   {
    "duration": 172,
    "start_time": "2023-06-27T03:40:26.496Z"
   },
   {
    "duration": 4,
    "start_time": "2023-06-27T03:40:26.670Z"
   },
   {
    "duration": 178,
    "start_time": "2023-06-27T03:40:26.676Z"
   },
   {
    "duration": 4,
    "start_time": "2023-06-27T03:40:26.856Z"
   },
   {
    "duration": 231,
    "start_time": "2023-06-27T03:40:26.862Z"
   },
   {
    "duration": 171,
    "start_time": "2023-06-27T03:40:27.094Z"
   },
   {
    "duration": 7,
    "start_time": "2023-06-27T03:40:27.268Z"
   },
   {
    "duration": 11,
    "start_time": "2023-06-27T03:40:27.276Z"
   },
   {
    "duration": 17,
    "start_time": "2023-06-27T03:40:27.288Z"
   },
   {
    "duration": 166,
    "start_time": "2023-06-27T03:40:27.307Z"
   },
   {
    "duration": 11,
    "start_time": "2023-06-27T03:40:27.475Z"
   },
   {
    "duration": 10,
    "start_time": "2023-06-27T03:40:27.488Z"
   },
   {
    "duration": 9,
    "start_time": "2023-06-27T03:40:27.499Z"
   },
   {
    "duration": 64,
    "start_time": "2023-06-27T03:40:27.510Z"
   },
   {
    "duration": 12,
    "start_time": "2023-06-27T03:40:27.576Z"
   },
   {
    "duration": 16,
    "start_time": "2023-06-27T03:40:54.552Z"
   },
   {
    "duration": 139,
    "start_time": "2023-06-27T03:41:44.094Z"
   },
   {
    "duration": 14,
    "start_time": "2023-06-27T03:41:56.693Z"
   },
   {
    "duration": 9,
    "start_time": "2023-06-27T03:42:11.309Z"
   },
   {
    "duration": 7,
    "start_time": "2023-06-27T03:42:22.293Z"
   },
   {
    "duration": 23,
    "start_time": "2023-06-27T03:42:31.333Z"
   },
   {
    "duration": 10,
    "start_time": "2023-06-27T03:43:54.282Z"
   },
   {
    "duration": 1197,
    "start_time": "2023-09-23T17:30:41.913Z"
   },
   {
    "duration": 80,
    "start_time": "2023-09-23T17:30:43.112Z"
   },
   {
    "duration": 83,
    "start_time": "2023-09-23T17:30:43.194Z"
   },
   {
    "duration": 60,
    "start_time": "2023-09-23T17:30:43.279Z"
   },
   {
    "duration": 20,
    "start_time": "2023-09-23T17:30:43.341Z"
   },
   {
    "duration": 18,
    "start_time": "2023-09-23T17:30:43.364Z"
   },
   {
    "duration": 14,
    "start_time": "2023-09-23T17:30:43.384Z"
   },
   {
    "duration": 12,
    "start_time": "2023-09-23T17:30:43.400Z"
   },
   {
    "duration": 32,
    "start_time": "2023-09-23T17:30:43.413Z"
   },
   {
    "duration": 19,
    "start_time": "2023-09-23T17:30:43.450Z"
   },
   {
    "duration": 22,
    "start_time": "2023-09-23T17:30:43.471Z"
   },
   {
    "duration": 6,
    "start_time": "2023-09-23T17:30:43.495Z"
   },
   {
    "duration": 14,
    "start_time": "2023-09-23T17:30:43.502Z"
   },
   {
    "duration": 8,
    "start_time": "2023-09-23T17:30:43.518Z"
   },
   {
    "duration": 371,
    "start_time": "2023-09-23T17:30:43.550Z"
   },
   {
    "duration": 9,
    "start_time": "2023-09-23T17:30:43.923Z"
   },
   {
    "duration": 393,
    "start_time": "2023-09-23T17:30:43.933Z"
   },
   {
    "duration": 232,
    "start_time": "2023-09-23T17:30:44.328Z"
   },
   {
    "duration": 342,
    "start_time": "2023-09-23T17:30:44.562Z"
   },
   {
    "duration": 233,
    "start_time": "2023-09-23T17:30:44.906Z"
   },
   {
    "duration": 368,
    "start_time": "2023-09-23T17:30:45.143Z"
   },
   {
    "duration": 167,
    "start_time": "2023-09-23T17:30:45.512Z"
   },
   {
    "duration": 4,
    "start_time": "2023-09-23T17:30:45.680Z"
   },
   {
    "duration": 176,
    "start_time": "2023-09-23T17:30:45.685Z"
   },
   {
    "duration": 5,
    "start_time": "2023-09-23T17:30:45.864Z"
   },
   {
    "duration": 243,
    "start_time": "2023-09-23T17:30:45.871Z"
   },
   {
    "duration": 174,
    "start_time": "2023-09-23T17:30:46.116Z"
   },
   {
    "duration": 7,
    "start_time": "2023-09-23T17:30:46.293Z"
   },
   {
    "duration": 14,
    "start_time": "2023-09-23T17:30:46.302Z"
   },
   {
    "duration": 5,
    "start_time": "2023-09-23T17:30:46.318Z"
   },
   {
    "duration": 198,
    "start_time": "2023-09-23T17:30:46.325Z"
   },
   {
    "duration": 9,
    "start_time": "2023-09-23T17:30:46.525Z"
   },
   {
    "duration": 18,
    "start_time": "2023-09-23T17:30:46.544Z"
   },
   {
    "duration": 6,
    "start_time": "2023-09-23T17:30:46.565Z"
   },
   {
    "duration": 27,
    "start_time": "2023-09-23T17:30:46.572Z"
   },
   {
    "duration": 11,
    "start_time": "2023-09-23T17:30:46.601Z"
   }
  ],
  "kernelspec": {
   "display_name": "Python 3 (ipykernel)",
   "language": "python",
   "name": "python3"
  },
  "language_info": {
   "codemirror_mode": {
    "name": "ipython",
    "version": 3
   },
   "file_extension": ".py",
   "mimetype": "text/x-python",
   "name": "python",
   "nbconvert_exporter": "python",
   "pygments_lexer": "ipython3",
   "version": "3.9.13"
  },
  "toc": {
   "base_numbering": 1,
   "nav_menu": {},
   "number_sections": true,
   "sideBar": true,
   "skip_h1_title": true,
   "title_cell": "Table of Contents",
   "title_sidebar": "Contents",
   "toc_cell": false,
   "toc_position": {},
   "toc_section_display": true,
   "toc_window_display": false
  }
 },
 "nbformat": 4,
 "nbformat_minor": 2
}
