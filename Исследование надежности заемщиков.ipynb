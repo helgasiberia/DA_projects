{
 "cells": [
  {
   "cell_type": "markdown",
   "id": "386f2ae7",
   "metadata": {
    "deletable": false,
    "editable": false,
    "id": "386f2ae7"
   },
   "source": [
    "# Исследование надежности заемщиков\n"
   ]
  },
  {
   "cell_type": "markdown",
   "id": "ffe86f65",
   "metadata": {
    "deletable": false,
    "editable": false,
    "id": "ffe86f65"
   },
   "source": [
    "Во второй части проекта вы выполните шаги 3 и 4. Их вручную проверит ревьюер.\n",
    "Чтобы вам не пришлось писать код заново для шагов 1 и 2, мы добавили авторские решения в ячейки с кодом. \n",
    "\n"
   ]
  },
  {
   "cell_type": "markdown",
   "id": "26613308",
   "metadata": {
    "deletable": false,
    "editable": false,
    "id": "26613308"
   },
   "source": [
    "## Откройте таблицу и изучите общую информацию о данных"
   ]
  },
  {
   "cell_type": "markdown",
   "id": "3c9f838e",
   "metadata": {
    "deletable": false,
    "editable": false,
    "id": "3c9f838e"
   },
   "source": [
    "**Задание 1. Импортируйте библиотеку pandas. Считайте данные из csv-файла в датафрейм и сохраните в переменную `data`. Путь к файлу:**\n",
    "\n",
    "`/datasets/data.csv`"
   ]
  },
  {
   "cell_type": "code",
   "execution_count": 1,
   "id": "77a68a90",
   "metadata": {
    "deletable": false,
    "id": "77a68a90"
   },
   "outputs": [],
   "source": [
    "import pandas as pd\n",
    "\n",
    "try:\n",
    "    data = pd.read_csv('/datasets/data.csv')\n",
    "except:\n",
    "    data = pd.read_csv('https://code.s3.yandex.net/datasets/data.csv')"
   ]
  },
  {
   "cell_type": "markdown",
   "id": "45365635",
   "metadata": {
    "deletable": false,
    "editable": false,
    "id": "45365635"
   },
   "source": [
    "**Задание 2. Выведите первые 20 строчек датафрейма `data` на экран.**"
   ]
  },
  {
   "cell_type": "code",
   "execution_count": 2,
   "id": "b0451a9a",
   "metadata": {
    "deletable": false,
    "id": "b0451a9a",
    "outputId": "1a8f3ef2-d323-4ec2-ddf7-89670b5944c4"
   },
   "outputs": [
    {
     "data": {
      "text/html": [
       "<div>\n",
       "<style scoped>\n",
       "    .dataframe tbody tr th:only-of-type {\n",
       "        vertical-align: middle;\n",
       "    }\n",
       "\n",
       "    .dataframe tbody tr th {\n",
       "        vertical-align: top;\n",
       "    }\n",
       "\n",
       "    .dataframe thead th {\n",
       "        text-align: right;\n",
       "    }\n",
       "</style>\n",
       "<table border=\"1\" class=\"dataframe\">\n",
       "  <thead>\n",
       "    <tr style=\"text-align: right;\">\n",
       "      <th></th>\n",
       "      <th>children</th>\n",
       "      <th>days_employed</th>\n",
       "      <th>dob_years</th>\n",
       "      <th>education</th>\n",
       "      <th>education_id</th>\n",
       "      <th>family_status</th>\n",
       "      <th>family_status_id</th>\n",
       "      <th>gender</th>\n",
       "      <th>income_type</th>\n",
       "      <th>debt</th>\n",
       "      <th>total_income</th>\n",
       "      <th>purpose</th>\n",
       "    </tr>\n",
       "  </thead>\n",
       "  <tbody>\n",
       "    <tr>\n",
       "      <th>0</th>\n",
       "      <td>1</td>\n",
       "      <td>-8437.673028</td>\n",
       "      <td>42</td>\n",
       "      <td>высшее</td>\n",
       "      <td>0</td>\n",
       "      <td>женат / замужем</td>\n",
       "      <td>0</td>\n",
       "      <td>F</td>\n",
       "      <td>сотрудник</td>\n",
       "      <td>0</td>\n",
       "      <td>253875.639453</td>\n",
       "      <td>покупка жилья</td>\n",
       "    </tr>\n",
       "    <tr>\n",
       "      <th>1</th>\n",
       "      <td>1</td>\n",
       "      <td>-4024.803754</td>\n",
       "      <td>36</td>\n",
       "      <td>среднее</td>\n",
       "      <td>1</td>\n",
       "      <td>женат / замужем</td>\n",
       "      <td>0</td>\n",
       "      <td>F</td>\n",
       "      <td>сотрудник</td>\n",
       "      <td>0</td>\n",
       "      <td>112080.014102</td>\n",
       "      <td>приобретение автомобиля</td>\n",
       "    </tr>\n",
       "    <tr>\n",
       "      <th>2</th>\n",
       "      <td>0</td>\n",
       "      <td>-5623.422610</td>\n",
       "      <td>33</td>\n",
       "      <td>Среднее</td>\n",
       "      <td>1</td>\n",
       "      <td>женат / замужем</td>\n",
       "      <td>0</td>\n",
       "      <td>M</td>\n",
       "      <td>сотрудник</td>\n",
       "      <td>0</td>\n",
       "      <td>145885.952297</td>\n",
       "      <td>покупка жилья</td>\n",
       "    </tr>\n",
       "    <tr>\n",
       "      <th>3</th>\n",
       "      <td>3</td>\n",
       "      <td>-4124.747207</td>\n",
       "      <td>32</td>\n",
       "      <td>среднее</td>\n",
       "      <td>1</td>\n",
       "      <td>женат / замужем</td>\n",
       "      <td>0</td>\n",
       "      <td>M</td>\n",
       "      <td>сотрудник</td>\n",
       "      <td>0</td>\n",
       "      <td>267628.550329</td>\n",
       "      <td>дополнительное образование</td>\n",
       "    </tr>\n",
       "    <tr>\n",
       "      <th>4</th>\n",
       "      <td>0</td>\n",
       "      <td>340266.072047</td>\n",
       "      <td>53</td>\n",
       "      <td>среднее</td>\n",
       "      <td>1</td>\n",
       "      <td>гражданский брак</td>\n",
       "      <td>1</td>\n",
       "      <td>F</td>\n",
       "      <td>пенсионер</td>\n",
       "      <td>0</td>\n",
       "      <td>158616.077870</td>\n",
       "      <td>сыграть свадьбу</td>\n",
       "    </tr>\n",
       "    <tr>\n",
       "      <th>5</th>\n",
       "      <td>0</td>\n",
       "      <td>-926.185831</td>\n",
       "      <td>27</td>\n",
       "      <td>высшее</td>\n",
       "      <td>0</td>\n",
       "      <td>гражданский брак</td>\n",
       "      <td>1</td>\n",
       "      <td>M</td>\n",
       "      <td>компаньон</td>\n",
       "      <td>0</td>\n",
       "      <td>255763.565419</td>\n",
       "      <td>покупка жилья</td>\n",
       "    </tr>\n",
       "    <tr>\n",
       "      <th>6</th>\n",
       "      <td>0</td>\n",
       "      <td>-2879.202052</td>\n",
       "      <td>43</td>\n",
       "      <td>высшее</td>\n",
       "      <td>0</td>\n",
       "      <td>женат / замужем</td>\n",
       "      <td>0</td>\n",
       "      <td>F</td>\n",
       "      <td>компаньон</td>\n",
       "      <td>0</td>\n",
       "      <td>240525.971920</td>\n",
       "      <td>операции с жильем</td>\n",
       "    </tr>\n",
       "    <tr>\n",
       "      <th>7</th>\n",
       "      <td>0</td>\n",
       "      <td>-152.779569</td>\n",
       "      <td>50</td>\n",
       "      <td>СРЕДНЕЕ</td>\n",
       "      <td>1</td>\n",
       "      <td>женат / замужем</td>\n",
       "      <td>0</td>\n",
       "      <td>M</td>\n",
       "      <td>сотрудник</td>\n",
       "      <td>0</td>\n",
       "      <td>135823.934197</td>\n",
       "      <td>образование</td>\n",
       "    </tr>\n",
       "    <tr>\n",
       "      <th>8</th>\n",
       "      <td>2</td>\n",
       "      <td>-6929.865299</td>\n",
       "      <td>35</td>\n",
       "      <td>ВЫСШЕЕ</td>\n",
       "      <td>0</td>\n",
       "      <td>гражданский брак</td>\n",
       "      <td>1</td>\n",
       "      <td>F</td>\n",
       "      <td>сотрудник</td>\n",
       "      <td>0</td>\n",
       "      <td>95856.832424</td>\n",
       "      <td>на проведение свадьбы</td>\n",
       "    </tr>\n",
       "    <tr>\n",
       "      <th>9</th>\n",
       "      <td>0</td>\n",
       "      <td>-2188.756445</td>\n",
       "      <td>41</td>\n",
       "      <td>среднее</td>\n",
       "      <td>1</td>\n",
       "      <td>женат / замужем</td>\n",
       "      <td>0</td>\n",
       "      <td>M</td>\n",
       "      <td>сотрудник</td>\n",
       "      <td>0</td>\n",
       "      <td>144425.938277</td>\n",
       "      <td>покупка жилья для семьи</td>\n",
       "    </tr>\n",
       "    <tr>\n",
       "      <th>10</th>\n",
       "      <td>2</td>\n",
       "      <td>-4171.483647</td>\n",
       "      <td>36</td>\n",
       "      <td>высшее</td>\n",
       "      <td>0</td>\n",
       "      <td>женат / замужем</td>\n",
       "      <td>0</td>\n",
       "      <td>M</td>\n",
       "      <td>компаньон</td>\n",
       "      <td>0</td>\n",
       "      <td>113943.491460</td>\n",
       "      <td>покупка недвижимости</td>\n",
       "    </tr>\n",
       "    <tr>\n",
       "      <th>11</th>\n",
       "      <td>0</td>\n",
       "      <td>-792.701887</td>\n",
       "      <td>40</td>\n",
       "      <td>среднее</td>\n",
       "      <td>1</td>\n",
       "      <td>женат / замужем</td>\n",
       "      <td>0</td>\n",
       "      <td>F</td>\n",
       "      <td>сотрудник</td>\n",
       "      <td>0</td>\n",
       "      <td>77069.234271</td>\n",
       "      <td>покупка коммерческой недвижимости</td>\n",
       "    </tr>\n",
       "    <tr>\n",
       "      <th>12</th>\n",
       "      <td>0</td>\n",
       "      <td>NaN</td>\n",
       "      <td>65</td>\n",
       "      <td>среднее</td>\n",
       "      <td>1</td>\n",
       "      <td>гражданский брак</td>\n",
       "      <td>1</td>\n",
       "      <td>M</td>\n",
       "      <td>пенсионер</td>\n",
       "      <td>0</td>\n",
       "      <td>NaN</td>\n",
       "      <td>сыграть свадьбу</td>\n",
       "    </tr>\n",
       "    <tr>\n",
       "      <th>13</th>\n",
       "      <td>0</td>\n",
       "      <td>-1846.641941</td>\n",
       "      <td>54</td>\n",
       "      <td>неоконченное высшее</td>\n",
       "      <td>2</td>\n",
       "      <td>женат / замужем</td>\n",
       "      <td>0</td>\n",
       "      <td>F</td>\n",
       "      <td>сотрудник</td>\n",
       "      <td>0</td>\n",
       "      <td>130458.228857</td>\n",
       "      <td>приобретение автомобиля</td>\n",
       "    </tr>\n",
       "    <tr>\n",
       "      <th>14</th>\n",
       "      <td>0</td>\n",
       "      <td>-1844.956182</td>\n",
       "      <td>56</td>\n",
       "      <td>высшее</td>\n",
       "      <td>0</td>\n",
       "      <td>гражданский брак</td>\n",
       "      <td>1</td>\n",
       "      <td>F</td>\n",
       "      <td>компаньон</td>\n",
       "      <td>1</td>\n",
       "      <td>165127.911772</td>\n",
       "      <td>покупка жилой недвижимости</td>\n",
       "    </tr>\n",
       "    <tr>\n",
       "      <th>15</th>\n",
       "      <td>1</td>\n",
       "      <td>-972.364419</td>\n",
       "      <td>26</td>\n",
       "      <td>среднее</td>\n",
       "      <td>1</td>\n",
       "      <td>женат / замужем</td>\n",
       "      <td>0</td>\n",
       "      <td>F</td>\n",
       "      <td>сотрудник</td>\n",
       "      <td>0</td>\n",
       "      <td>116820.904450</td>\n",
       "      <td>строительство собственной недвижимости</td>\n",
       "    </tr>\n",
       "    <tr>\n",
       "      <th>16</th>\n",
       "      <td>0</td>\n",
       "      <td>-1719.934226</td>\n",
       "      <td>35</td>\n",
       "      <td>среднее</td>\n",
       "      <td>1</td>\n",
       "      <td>женат / замужем</td>\n",
       "      <td>0</td>\n",
       "      <td>F</td>\n",
       "      <td>сотрудник</td>\n",
       "      <td>0</td>\n",
       "      <td>289202.704229</td>\n",
       "      <td>недвижимость</td>\n",
       "    </tr>\n",
       "    <tr>\n",
       "      <th>17</th>\n",
       "      <td>0</td>\n",
       "      <td>-2369.999720</td>\n",
       "      <td>33</td>\n",
       "      <td>высшее</td>\n",
       "      <td>0</td>\n",
       "      <td>гражданский брак</td>\n",
       "      <td>1</td>\n",
       "      <td>M</td>\n",
       "      <td>сотрудник</td>\n",
       "      <td>0</td>\n",
       "      <td>90410.586745</td>\n",
       "      <td>строительство недвижимости</td>\n",
       "    </tr>\n",
       "    <tr>\n",
       "      <th>18</th>\n",
       "      <td>0</td>\n",
       "      <td>400281.136913</td>\n",
       "      <td>53</td>\n",
       "      <td>среднее</td>\n",
       "      <td>1</td>\n",
       "      <td>вдовец / вдова</td>\n",
       "      <td>2</td>\n",
       "      <td>F</td>\n",
       "      <td>пенсионер</td>\n",
       "      <td>0</td>\n",
       "      <td>56823.777243</td>\n",
       "      <td>на покупку подержанного автомобиля</td>\n",
       "    </tr>\n",
       "    <tr>\n",
       "      <th>19</th>\n",
       "      <td>0</td>\n",
       "      <td>-10038.818549</td>\n",
       "      <td>48</td>\n",
       "      <td>СРЕДНЕЕ</td>\n",
       "      <td>1</td>\n",
       "      <td>в разводе</td>\n",
       "      <td>3</td>\n",
       "      <td>F</td>\n",
       "      <td>сотрудник</td>\n",
       "      <td>0</td>\n",
       "      <td>242831.107982</td>\n",
       "      <td>на покупку своего автомобиля</td>\n",
       "    </tr>\n",
       "  </tbody>\n",
       "</table>\n",
       "</div>"
      ],
      "text/plain": [
       "    children  days_employed  dob_years            education  education_id  \\\n",
       "0          1   -8437.673028         42               высшее             0   \n",
       "1          1   -4024.803754         36              среднее             1   \n",
       "2          0   -5623.422610         33              Среднее             1   \n",
       "3          3   -4124.747207         32              среднее             1   \n",
       "4          0  340266.072047         53              среднее             1   \n",
       "5          0    -926.185831         27               высшее             0   \n",
       "6          0   -2879.202052         43               высшее             0   \n",
       "7          0    -152.779569         50              СРЕДНЕЕ             1   \n",
       "8          2   -6929.865299         35               ВЫСШЕЕ             0   \n",
       "9          0   -2188.756445         41              среднее             1   \n",
       "10         2   -4171.483647         36               высшее             0   \n",
       "11         0    -792.701887         40              среднее             1   \n",
       "12         0            NaN         65              среднее             1   \n",
       "13         0   -1846.641941         54  неоконченное высшее             2   \n",
       "14         0   -1844.956182         56               высшее             0   \n",
       "15         1    -972.364419         26              среднее             1   \n",
       "16         0   -1719.934226         35              среднее             1   \n",
       "17         0   -2369.999720         33               высшее             0   \n",
       "18         0  400281.136913         53              среднее             1   \n",
       "19         0  -10038.818549         48              СРЕДНЕЕ             1   \n",
       "\n",
       "       family_status  family_status_id gender income_type  debt  \\\n",
       "0    женат / замужем                 0      F   сотрудник     0   \n",
       "1    женат / замужем                 0      F   сотрудник     0   \n",
       "2    женат / замужем                 0      M   сотрудник     0   \n",
       "3    женат / замужем                 0      M   сотрудник     0   \n",
       "4   гражданский брак                 1      F   пенсионер     0   \n",
       "5   гражданский брак                 1      M   компаньон     0   \n",
       "6    женат / замужем                 0      F   компаньон     0   \n",
       "7    женат / замужем                 0      M   сотрудник     0   \n",
       "8   гражданский брак                 1      F   сотрудник     0   \n",
       "9    женат / замужем                 0      M   сотрудник     0   \n",
       "10   женат / замужем                 0      M   компаньон     0   \n",
       "11   женат / замужем                 0      F   сотрудник     0   \n",
       "12  гражданский брак                 1      M   пенсионер     0   \n",
       "13   женат / замужем                 0      F   сотрудник     0   \n",
       "14  гражданский брак                 1      F   компаньон     1   \n",
       "15   женат / замужем                 0      F   сотрудник     0   \n",
       "16   женат / замужем                 0      F   сотрудник     0   \n",
       "17  гражданский брак                 1      M   сотрудник     0   \n",
       "18    вдовец / вдова                 2      F   пенсионер     0   \n",
       "19         в разводе                 3      F   сотрудник     0   \n",
       "\n",
       "     total_income                                 purpose  \n",
       "0   253875.639453                           покупка жилья  \n",
       "1   112080.014102                 приобретение автомобиля  \n",
       "2   145885.952297                           покупка жилья  \n",
       "3   267628.550329              дополнительное образование  \n",
       "4   158616.077870                         сыграть свадьбу  \n",
       "5   255763.565419                           покупка жилья  \n",
       "6   240525.971920                       операции с жильем  \n",
       "7   135823.934197                             образование  \n",
       "8    95856.832424                   на проведение свадьбы  \n",
       "9   144425.938277                 покупка жилья для семьи  \n",
       "10  113943.491460                    покупка недвижимости  \n",
       "11   77069.234271       покупка коммерческой недвижимости  \n",
       "12            NaN                         сыграть свадьбу  \n",
       "13  130458.228857                 приобретение автомобиля  \n",
       "14  165127.911772              покупка жилой недвижимости  \n",
       "15  116820.904450  строительство собственной недвижимости  \n",
       "16  289202.704229                            недвижимость  \n",
       "17   90410.586745              строительство недвижимости  \n",
       "18   56823.777243      на покупку подержанного автомобиля  \n",
       "19  242831.107982            на покупку своего автомобиля  "
      ]
     },
     "execution_count": 2,
     "metadata": {},
     "output_type": "execute_result"
    }
   ],
   "source": [
    "data.head(20)"
   ]
  },
  {
   "cell_type": "markdown",
   "id": "0ed8f27f",
   "metadata": {
    "deletable": false,
    "editable": false,
    "id": "0ed8f27f"
   },
   "source": [
    "**Задание 3. Выведите основную информацию о датафрейме с помощью метода `info()`.**"
   ]
  },
  {
   "cell_type": "code",
   "execution_count": 3,
   "id": "ab3f863b",
   "metadata": {
    "deletable": false,
    "id": "ab3f863b",
    "outputId": "15376089-8dad-46c9-b520-c05248d43158"
   },
   "outputs": [
    {
     "name": "stdout",
     "output_type": "stream",
     "text": [
      "<class 'pandas.core.frame.DataFrame'>\n",
      "RangeIndex: 21525 entries, 0 to 21524\n",
      "Data columns (total 12 columns):\n",
      " #   Column            Non-Null Count  Dtype  \n",
      "---  ------            --------------  -----  \n",
      " 0   children          21525 non-null  int64  \n",
      " 1   days_employed     19351 non-null  float64\n",
      " 2   dob_years         21525 non-null  int64  \n",
      " 3   education         21525 non-null  object \n",
      " 4   education_id      21525 non-null  int64  \n",
      " 5   family_status     21525 non-null  object \n",
      " 6   family_status_id  21525 non-null  int64  \n",
      " 7   gender            21525 non-null  object \n",
      " 8   income_type       21525 non-null  object \n",
      " 9   debt              21525 non-null  int64  \n",
      " 10  total_income      19351 non-null  float64\n",
      " 11  purpose           21525 non-null  object \n",
      "dtypes: float64(2), int64(5), object(5)\n",
      "memory usage: 2.0+ MB\n"
     ]
    }
   ],
   "source": [
    "data.info()"
   ]
  },
  {
   "cell_type": "markdown",
   "id": "60e3e22d",
   "metadata": {
    "deletable": false,
    "editable": false,
    "id": "60e3e22d"
   },
   "source": [
    "## Предобработка данных"
   ]
  },
  {
   "cell_type": "markdown",
   "id": "03dc170c",
   "metadata": {
    "deletable": false,
    "editable": false,
    "id": "03dc170c"
   },
   "source": [
    "### Удаление пропусков"
   ]
  },
  {
   "cell_type": "markdown",
   "id": "a4f54eef",
   "metadata": {
    "deletable": false,
    "editable": false,
    "id": "a4f54eef"
   },
   "source": [
    "**Задание 4. Выведите количество пропущенных значений для каждого столбца. Используйте комбинацию двух методов.**"
   ]
  },
  {
   "cell_type": "code",
   "execution_count": 4,
   "id": "2dc372b2",
   "metadata": {
    "deletable": false,
    "id": "2dc372b2",
    "outputId": "81f4d817-781c-465c-ed15-91ce4446810d"
   },
   "outputs": [
    {
     "data": {
      "text/plain": [
       "children               0\n",
       "days_employed       2174\n",
       "dob_years              0\n",
       "education              0\n",
       "education_id           0\n",
       "family_status          0\n",
       "family_status_id       0\n",
       "gender                 0\n",
       "income_type            0\n",
       "debt                   0\n",
       "total_income        2174\n",
       "purpose                0\n",
       "dtype: int64"
      ]
     },
     "execution_count": 4,
     "metadata": {},
     "output_type": "execute_result"
    }
   ],
   "source": [
    "data.isna().sum()"
   ]
  },
  {
   "cell_type": "markdown",
   "id": "14f011b1",
   "metadata": {
    "deletable": false,
    "editable": false,
    "id": "14f011b1"
   },
   "source": [
    "**Задание 5. В двух столбцах есть пропущенные значения. Один из них — `days_employed`. Пропуски в этом столбце вы обработаете на следующем этапе. Другой столбец с пропущенными значениями — `total_income` — хранит данные о доходах. На сумму дохода сильнее всего влияет тип занятости, поэтому заполнить пропуски в этом столбце нужно медианным значением по каждому типу из столбца `income_type`. Например, у человека с типом занятости `сотрудник` пропуск в столбце `total_income` должен быть заполнен медианным доходом среди всех записей с тем же типом.**"
   ]
  },
  {
   "cell_type": "code",
   "execution_count": 5,
   "id": "bdabfb6e",
   "metadata": {
    "deletable": false,
    "id": "bdabfb6e"
   },
   "outputs": [],
   "source": [
    "for t in data['income_type'].unique():\n",
    "    data.loc[(data['income_type'] == t) & (data['total_income'].isna()), 'total_income'] = \\\n",
    "    data.loc[(data['income_type'] == t), 'total_income'].median()"
   ]
  },
  {
   "cell_type": "markdown",
   "id": "5be34059",
   "metadata": {
    "deletable": false,
    "editable": false,
    "id": "5be34059"
   },
   "source": [
    "### Обработка аномальных значений"
   ]
  },
  {
   "cell_type": "markdown",
   "id": "a87606cb",
   "metadata": {
    "deletable": false,
    "editable": false,
    "id": "a87606cb"
   },
   "source": [
    "**Задание 6. В данных могут встречаться артефакты (аномалии) — значения, которые не отражают действительность и появились по какой-то ошибке. таким артефактом будет отрицательное количество дней трудового стажа в столбце `days_employed`. Для реальных данных это нормально. Обработайте значения в этом столбце: замените все отрицательные значения положительными с помощью метода `abs()`.**"
   ]
  },
  {
   "cell_type": "code",
   "execution_count": 6,
   "id": "020c46cc",
   "metadata": {
    "deletable": false,
    "id": "020c46cc"
   },
   "outputs": [],
   "source": [
    "data['days_employed'] = data['days_employed'].abs()"
   ]
  },
  {
   "cell_type": "markdown",
   "id": "45538a3a",
   "metadata": {
    "deletable": false,
    "editable": false,
    "id": "45538a3a"
   },
   "source": [
    "**Задание 7. Для каждого типа занятости выведите медианное значение трудового стажа `days_employed` в днях.**"
   ]
  },
  {
   "cell_type": "code",
   "execution_count": 7,
   "id": "cd3e6328",
   "metadata": {
    "deletable": false,
    "id": "cd3e6328",
    "outputId": "801ef80e-522b-4668-f34e-565af7432bcf"
   },
   "outputs": [
    {
     "data": {
      "text/plain": [
       "income_type\n",
       "безработный        366413.652744\n",
       "в декрете            3296.759962\n",
       "госслужащий          2689.368353\n",
       "компаньон            1547.382223\n",
       "пенсионер          365213.306266\n",
       "предприниматель       520.848083\n",
       "сотрудник            1574.202821\n",
       "студент               578.751554\n",
       "Name: days_employed, dtype: float64"
      ]
     },
     "execution_count": 7,
     "metadata": {},
     "output_type": "execute_result"
    }
   ],
   "source": [
    "data.groupby('income_type')['days_employed'].agg('median')"
   ]
  },
  {
   "cell_type": "markdown",
   "id": "90c5f058",
   "metadata": {
    "deletable": false,
    "editable": false,
    "id": "90c5f058"
   },
   "source": [
    "У двух типов (безработные и пенсионеры) получатся аномально большие значения. Исправить такие значения сложно, поэтому оставьте их как есть."
   ]
  },
  {
   "cell_type": "markdown",
   "id": "9652e50d",
   "metadata": {
    "deletable": false,
    "editable": false,
    "id": "9652e50d"
   },
   "source": [
    "**Задание 8. Выведите перечень уникальных значений столбца `children`.**"
   ]
  },
  {
   "cell_type": "code",
   "execution_count": 8,
   "id": "dbb37b8e",
   "metadata": {
    "deletable": false,
    "id": "dbb37b8e",
    "outputId": "6975b15c-7f95-4697-d16d-a0c79b657b03"
   },
   "outputs": [
    {
     "data": {
      "text/plain": [
       "array([ 1,  0,  3,  2, -1,  4, 20,  5])"
      ]
     },
     "execution_count": 8,
     "metadata": {},
     "output_type": "execute_result"
    }
   ],
   "source": [
    "data['children'].unique()"
   ]
  },
  {
   "cell_type": "markdown",
   "id": "2b8b0715",
   "metadata": {
    "deletable": false,
    "editable": false,
    "id": "2b8b0715"
   },
   "source": [
    "**Задание 9. В столбце `children` есть два аномальных значения. Удалите строки, в которых встречаются такие аномальные значения из датафрейма `data`.**"
   ]
  },
  {
   "cell_type": "code",
   "execution_count": 9,
   "id": "20009df8",
   "metadata": {
    "deletable": false,
    "id": "20009df8"
   },
   "outputs": [],
   "source": [
    "data = data[(data['children'] != -1) & (data['children'] != 20)]"
   ]
  },
  {
   "cell_type": "markdown",
   "id": "8c6ac9f1",
   "metadata": {
    "deletable": false,
    "editable": false,
    "id": "8c6ac9f1"
   },
   "source": [
    "**Задание 10. Ещё раз выведите перечень уникальных значений столбца `children`, чтобы убедиться, что артефакты удалены.**"
   ]
  },
  {
   "cell_type": "code",
   "execution_count": 10,
   "id": "07337b81",
   "metadata": {
    "deletable": false,
    "id": "07337b81",
    "outputId": "b2097101-d49d-44d9-901b-32a65c9463d1"
   },
   "outputs": [
    {
     "data": {
      "text/plain": [
       "array([1, 0, 3, 2, 4, 5])"
      ]
     },
     "execution_count": 10,
     "metadata": {},
     "output_type": "execute_result"
    }
   ],
   "source": [
    "data['children'].unique()"
   ]
  },
  {
   "cell_type": "markdown",
   "id": "ee3f52d4",
   "metadata": {
    "deletable": false,
    "editable": false,
    "id": "ee3f52d4"
   },
   "source": [
    "### Удаление пропусков (продолжение)"
   ]
  },
  {
   "cell_type": "markdown",
   "id": "a700b0e4",
   "metadata": {
    "deletable": false,
    "editable": false,
    "id": "a700b0e4"
   },
   "source": [
    "**Задание 11. Заполните пропуски в столбце `days_employed` медианными значениями по каждого типа занятости `income_type`.**"
   ]
  },
  {
   "cell_type": "code",
   "execution_count": 11,
   "id": "61946b83",
   "metadata": {
    "deletable": false,
    "id": "61946b83"
   },
   "outputs": [],
   "source": [
    "for t in data['income_type'].unique():\n",
    "    data.loc[(data['income_type'] == t) & (data['days_employed'].isna()), 'days_employed'] = \\\n",
    "    data.loc[(data['income_type'] == t), 'days_employed'].median()"
   ]
  },
  {
   "cell_type": "markdown",
   "id": "550dcd9b",
   "metadata": {
    "deletable": false,
    "editable": false,
    "id": "550dcd9b"
   },
   "source": [
    "**Задание 12. Убедитесь, что все пропуски заполнены. Проверьте себя и ещё раз выведите количество пропущенных значений для каждого столбца с помощью двух методов.**"
   ]
  },
  {
   "cell_type": "code",
   "execution_count": 12,
   "id": "937c7014",
   "metadata": {
    "deletable": false,
    "id": "937c7014",
    "outputId": "8da1e4e1-358e-4e87-98c9-f261bce0a7b2"
   },
   "outputs": [
    {
     "data": {
      "text/plain": [
       "children            0\n",
       "days_employed       0\n",
       "dob_years           0\n",
       "education           0\n",
       "education_id        0\n",
       "family_status       0\n",
       "family_status_id    0\n",
       "gender              0\n",
       "income_type         0\n",
       "debt                0\n",
       "total_income        0\n",
       "purpose             0\n",
       "dtype: int64"
      ]
     },
     "execution_count": 12,
     "metadata": {},
     "output_type": "execute_result"
    }
   ],
   "source": [
    "data.isna().sum()"
   ]
  },
  {
   "cell_type": "markdown",
   "id": "d522e295",
   "metadata": {
    "deletable": false,
    "editable": false,
    "id": "d522e295"
   },
   "source": [
    "### Изменение типов данных"
   ]
  },
  {
   "cell_type": "markdown",
   "id": "c229c581",
   "metadata": {
    "deletable": false,
    "editable": false,
    "id": "c229c581"
   },
   "source": [
    "**Задание 13. Замените вещественный тип данных в столбце `total_income` на целочисленный с помощью метода `astype()`.**"
   ]
  },
  {
   "cell_type": "code",
   "execution_count": 13,
   "id": "31036462",
   "metadata": {
    "deletable": false,
    "id": "31036462"
   },
   "outputs": [],
   "source": [
    "data['total_income'] = data['total_income'].astype(int)"
   ]
  },
  {
   "cell_type": "markdown",
   "id": "b8e3d1d9",
   "metadata": {
    "deletable": false,
    "editable": false,
    "id": "b8e3d1d9"
   },
   "source": [
    "### Обработка дубликатов"
   ]
  },
  {
   "cell_type": "markdown",
   "id": "9be53c49",
   "metadata": {
    "deletable": false,
    "editable": false,
    "id": "9be53c49"
   },
   "source": [
    "**Задание 14. Обработайте неявные дубликаты в столбце `education`. В этом столбце есть одни и те же значения, но записанные по-разному: с использованием заглавных и строчных букв. Приведите их к нижнему регистру.**"
   ]
  },
  {
   "cell_type": "code",
   "execution_count": 14,
   "id": "d89e73e1",
   "metadata": {
    "deletable": false,
    "id": "d89e73e1"
   },
   "outputs": [],
   "source": [
    "data['education'] = data['education'].str.lower()"
   ]
  },
  {
   "cell_type": "markdown",
   "id": "01d4500e",
   "metadata": {
    "deletable": false,
    "editable": false,
    "id": "01d4500e"
   },
   "source": [
    "**Задание 15. Выведите на экран количество строк-дубликатов в данных. Если такие строки присутствуют, удалите их.**"
   ]
  },
  {
   "cell_type": "code",
   "execution_count": 15,
   "id": "e10efb23",
   "metadata": {
    "deletable": false,
    "id": "e10efb23",
    "outputId": "9684deba-1934-42d1-99e1-cda61740f822"
   },
   "outputs": [
    {
     "data": {
      "text/plain": [
       "71"
      ]
     },
     "execution_count": 15,
     "metadata": {},
     "output_type": "execute_result"
    }
   ],
   "source": [
    "data.duplicated().sum()"
   ]
  },
  {
   "cell_type": "code",
   "execution_count": 16,
   "id": "df853f20",
   "metadata": {
    "deletable": false,
    "id": "df853f20"
   },
   "outputs": [],
   "source": [
    "data = data.drop_duplicates()"
   ]
  },
  {
   "cell_type": "markdown",
   "id": "627be38f",
   "metadata": {
    "deletable": false,
    "editable": false,
    "id": "627be38f"
   },
   "source": [
    "### Категоризация данных"
   ]
  },
  {
   "cell_type": "markdown",
   "id": "4684c3e0",
   "metadata": {
    "deletable": false,
    "editable": false,
    "id": "4684c3e0"
   },
   "source": [
    "**Задание 16. На основании диапазонов, указанных ниже, создайте в датафрейме `data` столбец `total_income_category` с категориями:**\n",
    "\n",
    "- 0–30000 — `'E'`;\n",
    "- 30001–50000 — `'D'`;\n",
    "- 50001–200000 — `'C'`;\n",
    "- 200001–1000000 — `'B'`;\n",
    "- 1000001 и выше — `'A'`.\n",
    "\n",
    "\n",
    "**Например, кредитополучателю с доходом 25000 нужно назначить категорию `'E'`, а клиенту, получающему 235000, — `'B'`. Используйте собственную функцию с именем `categorize_income()` и метод `apply()`.**"
   ]
  },
  {
   "cell_type": "code",
   "execution_count": 17,
   "id": "78965238",
   "metadata": {
    "deletable": false,
    "id": "78965238"
   },
   "outputs": [],
   "source": [
    "def categorize_income(income):\n",
    "    try:\n",
    "        if 0 <= income <= 30000:\n",
    "            return 'E'\n",
    "        elif 30001 <= income <= 50000:\n",
    "            return 'D'\n",
    "        elif 50001 <= income <= 200000:\n",
    "            return 'C'\n",
    "        elif 200001 <= income <= 1000000:\n",
    "            return 'B'\n",
    "        elif income >= 1000001:\n",
    "            return 'A'\n",
    "    except:\n",
    "        pass"
   ]
  },
  {
   "cell_type": "code",
   "execution_count": 18,
   "id": "0980ada1",
   "metadata": {
    "deletable": false,
    "id": "0980ada1"
   },
   "outputs": [],
   "source": [
    "data['total_income_category'] = data['total_income'].apply(categorize_income)"
   ]
  },
  {
   "cell_type": "markdown",
   "id": "9917bba0",
   "metadata": {
    "deletable": false,
    "editable": false,
    "id": "9917bba0"
   },
   "source": [
    "**Задание 17. Выведите на экран перечень уникальных целей взятия кредита из столбца `purpose`.**"
   ]
  },
  {
   "cell_type": "code",
   "execution_count": 19,
   "id": "ee07b65e",
   "metadata": {
    "deletable": false,
    "id": "ee07b65e",
    "outputId": "673c12d9-7d7e-4ae0-9812-c622c89dd244"
   },
   "outputs": [
    {
     "data": {
      "text/plain": [
       "array(['покупка жилья', 'приобретение автомобиля',\n",
       "       'дополнительное образование', 'сыграть свадьбу',\n",
       "       'операции с жильем', 'образование', 'на проведение свадьбы',\n",
       "       'покупка жилья для семьи', 'покупка недвижимости',\n",
       "       'покупка коммерческой недвижимости', 'покупка жилой недвижимости',\n",
       "       'строительство собственной недвижимости', 'недвижимость',\n",
       "       'строительство недвижимости', 'на покупку подержанного автомобиля',\n",
       "       'на покупку своего автомобиля',\n",
       "       'операции с коммерческой недвижимостью',\n",
       "       'строительство жилой недвижимости', 'жилье',\n",
       "       'операции со своей недвижимостью', 'автомобили',\n",
       "       'заняться образованием', 'сделка с подержанным автомобилем',\n",
       "       'получение образования', 'автомобиль', 'свадьба',\n",
       "       'получение дополнительного образования', 'покупка своего жилья',\n",
       "       'операции с недвижимостью', 'получение высшего образования',\n",
       "       'свой автомобиль', 'сделка с автомобилем',\n",
       "       'профильное образование', 'высшее образование',\n",
       "       'покупка жилья для сдачи', 'на покупку автомобиля', 'ремонт жилью',\n",
       "       'заняться высшим образованием'], dtype=object)"
      ]
     },
     "execution_count": 19,
     "metadata": {},
     "output_type": "execute_result"
    }
   ],
   "source": [
    "data['purpose'].unique()"
   ]
  },
  {
   "cell_type": "markdown",
   "id": "52b79d56",
   "metadata": {
    "deletable": false,
    "editable": false,
    "id": "52b79d56"
   },
   "source": [
    "**Задание 18. Создайте функцию, которая на основании данных из столбца `purpose` сформирует новый столбец `purpose_category`, в который войдут следующие категории:**\n",
    "\n",
    "- `'операции с автомобилем'`,\n",
    "- `'операции с недвижимостью'`,\n",
    "- `'проведение свадьбы'`,\n",
    "- `'получение образования'`.\n",
    "\n",
    "**Например, если в столбце `purpose` находится подстрока `'на покупку автомобиля'`, то в столбце `purpose_category` должна появиться строка `'операции с автомобилем'`.**\n",
    "\n",
    "**Используйте собственную функцию с именем `categorize_purpose()` и метод `apply()`. Изучите данные в столбце `purpose` и определите, какие подстроки помогут вам правильно определить категорию.**"
   ]
  },
  {
   "cell_type": "code",
   "execution_count": 20,
   "id": "be41da5d",
   "metadata": {
    "deletable": false,
    "id": "be41da5d"
   },
   "outputs": [],
   "source": [
    "def categorize_purpose(row):\n",
    "    try:\n",
    "        if 'автом' in row:\n",
    "            return 'операции с автомобилем'\n",
    "        elif 'жил' in row or 'недвиж' in row:\n",
    "            return 'операции с недвижимостью'\n",
    "        elif 'свад' in row:\n",
    "            return 'проведение свадьбы'\n",
    "        elif 'образов' in row:\n",
    "            return 'получение образования'\n",
    "    except:\n",
    "        return 'нет категории'"
   ]
  },
  {
   "cell_type": "code",
   "execution_count": 21,
   "id": "94c4a19a",
   "metadata": {
    "deletable": false,
    "id": "94c4a19a"
   },
   "outputs": [],
   "source": [
    "data['purpose_category'] = data['purpose'].apply(categorize_purpose)"
   ]
  },
  {
   "cell_type": "markdown",
   "id": "3d596c34",
   "metadata": {
    "deletable": false,
    "editable": false,
    "id": "3d596c34"
   },
   "source": [
    "### Шаг 3. Исследуйте данные и ответьте на вопросы"
   ]
  },
  {
   "cell_type": "markdown",
   "id": "648db036",
   "metadata": {
    "deletable": false,
    "editable": false,
    "id": "648db036"
   },
   "source": [
    "#### 3.1 Есть ли зависимость между количеством детей и возвратом кредита в срок?"
   ]
  },
  {
   "cell_type": "code",
   "execution_count": 22,
   "id": "7fcff25e",
   "metadata": {
    "deletable": false,
    "id": "7fcff25e"
   },
   "outputs": [
    {
     "data": {
      "text/html": [
       "<div>\n",
       "<style scoped>\n",
       "    .dataframe tbody tr th:only-of-type {\n",
       "        vertical-align: middle;\n",
       "    }\n",
       "\n",
       "    .dataframe tbody tr th {\n",
       "        vertical-align: top;\n",
       "    }\n",
       "\n",
       "    .dataframe thead th {\n",
       "        text-align: right;\n",
       "    }\n",
       "</style>\n",
       "<table border=\"1\" class=\"dataframe\">\n",
       "  <thead>\n",
       "    <tr style=\"text-align: right;\">\n",
       "      <th></th>\n",
       "      <th>количество детей</th>\n",
       "      <th>всего_кредитов</th>\n",
       "      <th>всего_должников</th>\n",
       "      <th>процент_должников</th>\n",
       "    </tr>\n",
       "  </thead>\n",
       "  <tbody>\n",
       "    <tr>\n",
       "      <th>0</th>\n",
       "      <td>0</td>\n",
       "      <td>14091</td>\n",
       "      <td>1063</td>\n",
       "      <td>7.54%</td>\n",
       "    </tr>\n",
       "    <tr>\n",
       "      <th>1</th>\n",
       "      <td>1</td>\n",
       "      <td>4808</td>\n",
       "      <td>444</td>\n",
       "      <td>9.23%</td>\n",
       "    </tr>\n",
       "    <tr>\n",
       "      <th>2</th>\n",
       "      <td>2</td>\n",
       "      <td>2052</td>\n",
       "      <td>194</td>\n",
       "      <td>9.45%</td>\n",
       "    </tr>\n",
       "    <tr>\n",
       "      <th>3</th>\n",
       "      <td>3</td>\n",
       "      <td>330</td>\n",
       "      <td>27</td>\n",
       "      <td>8.18%</td>\n",
       "    </tr>\n",
       "    <tr>\n",
       "      <th>4</th>\n",
       "      <td>4</td>\n",
       "      <td>41</td>\n",
       "      <td>4</td>\n",
       "      <td>9.76%</td>\n",
       "    </tr>\n",
       "    <tr>\n",
       "      <th>5</th>\n",
       "      <td>5</td>\n",
       "      <td>9</td>\n",
       "      <td>0</td>\n",
       "      <td>0.00%</td>\n",
       "    </tr>\n",
       "  </tbody>\n",
       "</table>\n",
       "</div>"
      ],
      "text/plain": [
       "   количество детей  всего_кредитов  всего_должников процент_должников\n",
       "0                 0           14091             1063             7.54%\n",
       "1                 1            4808              444             9.23%\n",
       "2                 2            2052              194             9.45%\n",
       "3                 3             330               27             8.18%\n",
       "4                 4              41                4             9.76%\n",
       "5                 5               9                0             0.00%"
      ]
     },
     "execution_count": 22,
     "metadata": {},
     "output_type": "execute_result"
    }
   ],
   "source": [
    "data_pivot_children = data.pivot_table(index=['children'], values='debt', aggfunc=['count', 'sum', 'mean'])\\\n",
    ".reset_index(level=['children']) # Ваш код будет здесь. Вы можете создавать новые ячейки.\n",
    "data_pivot_children.columns = ['количество детей', 'всего_кредитов', 'всего_должников', 'процент_должников']\n",
    "data_pivot_children['процент_должников'] = data_pivot_children['процент_должников'].apply('{:.2%}'.format)\n",
    "data_pivot_children"
   ]
  },
  {
   "cell_type": "markdown",
   "id": "2eb9088e",
   "metadata": {
    "deletable": false,
    "id": "2eb9088e"
   },
   "source": [
    "**Вывод:**\\\n",
    "В категориях клиентов без детей доля должников на 2% ниже, чем в категориях с детьми и составляет 7,5%. Вероятность не погасить задолженность в срок наиболее высокая, если у клиента 1, 2 или 4 ребенка: 9-10%. Родители троих детей возвращают кредит в срок на 1% лучше, доля должников здесь 8%. \n",
    "В категории клиентов с количеством детей 5 задолженность отсутствует. Однако в этой группе клиентов несопоставимо меньше, показатели на такой группе могут быть не информативны.\\\n",
    "Взаимосвязь между количеством детей и возвратом кредита в срок отслеживается."
   ]
  },
  {
   "cell_type": "markdown",
   "id": "74c9b3a7",
   "metadata": {
    "deletable": false,
    "editable": false,
    "id": "74c9b3a7"
   },
   "source": [
    "#### 3.2 Есть ли зависимость между семейным положением и возвратом кредита в срок?"
   ]
  },
  {
   "cell_type": "code",
   "execution_count": 23,
   "id": "8098ab3b",
   "metadata": {
    "deletable": false,
    "id": "8098ab3b"
   },
   "outputs": [
    {
     "data": {
      "text/html": [
       "<div>\n",
       "<style scoped>\n",
       "    .dataframe tbody tr th:only-of-type {\n",
       "        vertical-align: middle;\n",
       "    }\n",
       "\n",
       "    .dataframe tbody tr th {\n",
       "        vertical-align: top;\n",
       "    }\n",
       "\n",
       "    .dataframe thead th {\n",
       "        text-align: right;\n",
       "    }\n",
       "</style>\n",
       "<table border=\"1\" class=\"dataframe\">\n",
       "  <thead>\n",
       "    <tr style=\"text-align: right;\">\n",
       "      <th></th>\n",
       "      <th>семейное положение</th>\n",
       "      <th>всего_кредитов</th>\n",
       "      <th>всего_должников</th>\n",
       "      <th>процент_должников</th>\n",
       "    </tr>\n",
       "  </thead>\n",
       "  <tbody>\n",
       "    <tr>\n",
       "      <th>0</th>\n",
       "      <td>Не женат / не замужем</td>\n",
       "      <td>2796</td>\n",
       "      <td>273</td>\n",
       "      <td>9.76%</td>\n",
       "    </tr>\n",
       "    <tr>\n",
       "      <th>1</th>\n",
       "      <td>в разводе</td>\n",
       "      <td>1189</td>\n",
       "      <td>84</td>\n",
       "      <td>7.06%</td>\n",
       "    </tr>\n",
       "    <tr>\n",
       "      <th>2</th>\n",
       "      <td>вдовец / вдова</td>\n",
       "      <td>951</td>\n",
       "      <td>63</td>\n",
       "      <td>6.62%</td>\n",
       "    </tr>\n",
       "    <tr>\n",
       "      <th>3</th>\n",
       "      <td>гражданский брак</td>\n",
       "      <td>4134</td>\n",
       "      <td>385</td>\n",
       "      <td>9.31%</td>\n",
       "    </tr>\n",
       "    <tr>\n",
       "      <th>4</th>\n",
       "      <td>женат / замужем</td>\n",
       "      <td>12261</td>\n",
       "      <td>927</td>\n",
       "      <td>7.56%</td>\n",
       "    </tr>\n",
       "  </tbody>\n",
       "</table>\n",
       "</div>"
      ],
      "text/plain": [
       "      семейное положение  всего_кредитов  всего_должников процент_должников\n",
       "0  Не женат / не замужем            2796              273             9.76%\n",
       "1              в разводе            1189               84             7.06%\n",
       "2         вдовец / вдова             951               63             6.62%\n",
       "3       гражданский брак            4134              385             9.31%\n",
       "4        женат / замужем           12261              927             7.56%"
      ]
     },
     "execution_count": 23,
     "metadata": {},
     "output_type": "execute_result"
    }
   ],
   "source": [
    "data_pivot_family_status = data.pivot_table(index=['family_status'], values='debt', aggfunc=['count', 'sum', 'mean'])\\\n",
    ".reset_index(level=['family_status']) # Ваш код будет здесь. Вы можете создавать новые ячейки.\n",
    "data_pivot_family_status.columns = ['семейное положение', 'всего_кредитов', 'всего_должников', 'процент_должников']\n",
    "data_pivot_family_status['процент_должников'] = data_pivot_family_status['процент_должников'].apply('{:.2%}'.format)\n",
    "data_pivot_family_status"
   ]
  },
  {
   "cell_type": "markdown",
   "id": "c389ca63",
   "metadata": {
    "deletable": false,
    "id": "c389ca63"
   },
   "source": [
    "**Вывод:**\\\n",
    "Доля клиентов с дебиторской задолженностью наибольшая в категориях \"гражданский брак\" и \"не женат/не замужем\": 9% и 10% соответственно. На 1% меньше доля в категории \"женат/замужем\" и наименьшая доля (7%) у клиентов в статусе \"вдовец/вдова\" или \"в разводе\". Статистически разница в долях небольшая, колеблется в пределах 3%.\n",
    "  \n",
    "Взаимосвязь семейного положения и возврата кредита в срок в данных отслеживается."
   ]
  },
  {
   "cell_type": "markdown",
   "id": "5d91a918",
   "metadata": {},
   "source": [
    "<div style=\"background-color:black; color:#ffffff; text-align:center; padding:2%\">\n",
    "    \n",
    "**Ольга:** Привет, Артём) Спасибо за комменты. Обрати пожл внимание, что я изначально указала, что взаимосвязь отслеживается, то есть она есть) Связь не уловила только с количеством детей, спасибо, исправила!"
   ]
  },
  {
   "cell_type": "markdown",
   "id": "9529de68",
   "metadata": {
    "deletable": false,
    "editable": false,
    "id": "9529de68"
   },
   "source": [
    "#### 3.3 Есть ли зависимость между уровнем дохода и возвратом кредита в срок?"
   ]
  },
  {
   "cell_type": "code",
   "execution_count": 24,
   "id": "8787f44a",
   "metadata": {
    "deletable": false,
    "id": "8787f44a"
   },
   "outputs": [
    {
     "data": {
      "text/html": [
       "<div>\n",
       "<style scoped>\n",
       "    .dataframe tbody tr th:only-of-type {\n",
       "        vertical-align: middle;\n",
       "    }\n",
       "\n",
       "    .dataframe tbody tr th {\n",
       "        vertical-align: top;\n",
       "    }\n",
       "\n",
       "    .dataframe thead th {\n",
       "        text-align: right;\n",
       "    }\n",
       "</style>\n",
       "<table border=\"1\" class=\"dataframe\">\n",
       "  <thead>\n",
       "    <tr style=\"text-align: right;\">\n",
       "      <th></th>\n",
       "      <th>уровень дохода</th>\n",
       "      <th>всего_кредитов</th>\n",
       "      <th>всего_должников</th>\n",
       "      <th>процент_должников</th>\n",
       "    </tr>\n",
       "  </thead>\n",
       "  <tbody>\n",
       "    <tr>\n",
       "      <th>0</th>\n",
       "      <td>A</td>\n",
       "      <td>25</td>\n",
       "      <td>2</td>\n",
       "      <td>8.00%</td>\n",
       "    </tr>\n",
       "    <tr>\n",
       "      <th>1</th>\n",
       "      <td>B</td>\n",
       "      <td>5014</td>\n",
       "      <td>354</td>\n",
       "      <td>7.06%</td>\n",
       "    </tr>\n",
       "    <tr>\n",
       "      <th>2</th>\n",
       "      <td>C</td>\n",
       "      <td>15921</td>\n",
       "      <td>1353</td>\n",
       "      <td>8.50%</td>\n",
       "    </tr>\n",
       "    <tr>\n",
       "      <th>3</th>\n",
       "      <td>D</td>\n",
       "      <td>349</td>\n",
       "      <td>21</td>\n",
       "      <td>6.02%</td>\n",
       "    </tr>\n",
       "    <tr>\n",
       "      <th>4</th>\n",
       "      <td>E</td>\n",
       "      <td>22</td>\n",
       "      <td>2</td>\n",
       "      <td>9.09%</td>\n",
       "    </tr>\n",
       "  </tbody>\n",
       "</table>\n",
       "</div>"
      ],
      "text/plain": [
       "  уровень дохода  всего_кредитов  всего_должников процент_должников\n",
       "0              A              25                2             8.00%\n",
       "1              B            5014              354             7.06%\n",
       "2              C           15921             1353             8.50%\n",
       "3              D             349               21             6.02%\n",
       "4              E              22                2             9.09%"
      ]
     },
     "execution_count": 24,
     "metadata": {},
     "output_type": "execute_result"
    }
   ],
   "source": [
    "data_pivot_total_income = data.pivot_table(index=['total_income_category'], values='debt', aggfunc=['count', 'sum', 'mean'])\\\n",
    ".reset_index(level=['total_income_category']) # Ваш код будет здесь. Вы можете создавать новые ячейки.\n",
    "data_pivot_total_income.columns = ['уровень дохода', 'всего_кредитов', 'всего_должников', 'процент_должников']\n",
    "data_pivot_total_income['процент_должников'] = data_pivot_total_income['процент_должников'].apply('{:.2%}'.format)\n",
    "data_pivot_total_income"
   ]
  },
  {
   "cell_type": "markdown",
   "id": "6dd14b57",
   "metadata": {
    "deletable": false,
    "id": "6dd14b57"
   },
   "source": [
    "**Вывод:**\\\n",
    "Наименьшая доля клиентов с просроченной задолженностью в категории с доходом от 200 т р до миллиона: 6%. Любопытно, что в следующей категории клиентов с доходами более 1 000 000 р напрортив, показатели по выборке максимальные: 9%. Категории клиентов A,B и C в среднем на одном уровне 7-8%.\\\n",
    "Взаимосвязь уровня дохода и возврата кредита в срок отслеживается, однако статистически разница в долях небольшая, колеблется в пределах 3%."
   ]
  },
  {
   "cell_type": "markdown",
   "id": "1dcc9b12",
   "metadata": {
    "deletable": false,
    "editable": false,
    "id": "1dcc9b12"
   },
   "source": [
    "#### 3.4 Как разные цели кредита влияют на его возврат в срок?"
   ]
  },
  {
   "cell_type": "code",
   "execution_count": 25,
   "id": "c602bc8b",
   "metadata": {
    "deletable": false,
    "id": "c602bc8b"
   },
   "outputs": [
    {
     "data": {
      "text/html": [
       "<div>\n",
       "<style scoped>\n",
       "    .dataframe tbody tr th:only-of-type {\n",
       "        vertical-align: middle;\n",
       "    }\n",
       "\n",
       "    .dataframe tbody tr th {\n",
       "        vertical-align: top;\n",
       "    }\n",
       "\n",
       "    .dataframe thead th {\n",
       "        text-align: right;\n",
       "    }\n",
       "</style>\n",
       "<table border=\"1\" class=\"dataframe\">\n",
       "  <thead>\n",
       "    <tr style=\"text-align: right;\">\n",
       "      <th></th>\n",
       "      <th>цель кредита</th>\n",
       "      <th>всего_кредитов</th>\n",
       "      <th>всего_должников</th>\n",
       "      <th>процент_должников</th>\n",
       "    </tr>\n",
       "  </thead>\n",
       "  <tbody>\n",
       "    <tr>\n",
       "      <th>0</th>\n",
       "      <td>операции с автомобилем</td>\n",
       "      <td>4279</td>\n",
       "      <td>400</td>\n",
       "      <td>9.35%</td>\n",
       "    </tr>\n",
       "    <tr>\n",
       "      <th>1</th>\n",
       "      <td>операции с недвижимостью</td>\n",
       "      <td>10751</td>\n",
       "      <td>780</td>\n",
       "      <td>7.26%</td>\n",
       "    </tr>\n",
       "    <tr>\n",
       "      <th>2</th>\n",
       "      <td>получение образования</td>\n",
       "      <td>3988</td>\n",
       "      <td>369</td>\n",
       "      <td>9.25%</td>\n",
       "    </tr>\n",
       "    <tr>\n",
       "      <th>3</th>\n",
       "      <td>проведение свадьбы</td>\n",
       "      <td>2313</td>\n",
       "      <td>183</td>\n",
       "      <td>7.91%</td>\n",
       "    </tr>\n",
       "  </tbody>\n",
       "</table>\n",
       "</div>"
      ],
      "text/plain": [
       "               цель кредита  всего_кредитов  всего_должников процент_должников\n",
       "0    операции с автомобилем            4279              400             9.35%\n",
       "1  операции с недвижимостью           10751              780             7.26%\n",
       "2     получение образования            3988              369             9.25%\n",
       "3        проведение свадьбы            2313              183             7.91%"
      ]
     },
     "execution_count": 25,
     "metadata": {},
     "output_type": "execute_result"
    }
   ],
   "source": [
    "data_pivot_purpose = data.pivot_table(index=['purpose_category'], values='debt', aggfunc=['count', 'sum', 'mean'])\\\n",
    ".reset_index(level=['purpose_category']) # Ваш код будет здесь. Вы можете создавать новые ячейки.\n",
    "data_pivot_purpose.columns = ['цель кредита', 'всего_кредитов', 'всего_должников', 'процент_должников']\n",
    "data_pivot_purpose['процент_должников'] = data_pivot_purpose['процент_должников'].apply('{:.2%}'.format)\n",
    "data_pivot_purpose"
   ]
  },
  {
   "cell_type": "markdown",
   "id": "cf05ed63",
   "metadata": {
    "deletable": false,
    "id": "cf05ed63"
   },
   "source": [
    "**Вывод:**\\\n",
    "Категория \"операции с недвижимостью\" выделяется среди остальных значением в меньшую сторону: 7%.\\\n",
    "Для остальных целей разница в доле клиентов с задолженностью несущественная, колеблется в пределах 1,5%.  "
   ]
  },
  {
   "cell_type": "markdown",
   "id": "46c1f10b",
   "metadata": {
    "deletable": false,
    "editable": false,
    "id": "46c1f10b"
   },
   "source": [
    "#### 3.5 Приведите возможные причины появления пропусков в исходных данных."
   ]
  },
  {
   "cell_type": "markdown",
   "id": "3697d2a9",
   "metadata": {
    "deletable": false,
    "id": "3697d2a9"
   },
   "source": [
    "*Ответ:*\\\n",
    "Варианты:\n",
    "- Пропуски в исходных данных присутствуют в одинаковом количестве в столбцах \"days_employed\" и \"total_income\". Вероятно, клиенты официально не трудоустроены и, соответственно, по ним нет данных о доходах. \n",
    "- для категорий студент или безработный данных об официальном стаже может не быть по причине его отсутствия как такового"
   ]
  },
  {
   "cell_type": "markdown",
   "id": "3137d257",
   "metadata": {
    "deletable": false,
    "editable": false,
    "id": "3137d257"
   },
   "source": [
    "#### 3.6 Объясните, почему заполнить пропуски медианным значением — лучшее решение для количественных переменных."
   ]
  },
  {
   "cell_type": "markdown",
   "id": "cf40012a",
   "metadata": {
    "deletable": false,
    "id": "cf40012a"
   },
   "source": [
    "*Ответ:*\\\n",
    "Альтернативным решением было бы заполнить пропуски средним арифметическим. Но в данных могут быть нетипичные значения, смещающие среднее вверх или вниз. Медиана нивелирует этот недостаток."
   ]
  },
  {
   "cell_type": "code",
   "execution_count": 26,
   "id": "fe5fb157",
   "metadata": {},
   "outputs": [
    {
     "data": {
      "text/plain": [
       "(0.44, 1.0)"
      ]
     },
     "execution_count": 26,
     "metadata": {},
     "output_type": "execute_result"
    }
   ],
   "source": [
    "d = {'число': [-20, 0, 0, 0, 1, 2, 3, 3, 15]}\n",
    "df = pd.DataFrame(data=d)\n",
    "round(df['число'].mean(),2), df['число'].median()"
   ]
  },
  {
   "cell_type": "markdown",
   "id": "57bc304e",
   "metadata": {
    "deletable": false,
    "editable": false,
    "id": "57bc304e"
   },
   "source": [
    "### Шаг 4: общий вывод."
   ]
  },
  {
   "cell_type": "markdown",
   "id": "1ab75d1c",
   "metadata": {
    "deletable": false,
    "id": "1ab75d1c"
   },
   "source": [
    "Проведен анализ взаимосвязи возврата кредитов в срок с параметрами:\\\n",
    "- количество детей,\n",
    "- семейное положение,\n",
    "- уровень дохода,\n",
    "- цель кредита.\n",
    "\n",
    "На показатель дебиторской задолженности влияют все указанные параметры.\n",
    "\n",
    "Наименьшая доля клиентов с задолженностью в категориях\n",
    "- без детей\n",
    "- семейное положение \"в разводе\" или \"вдовец/вдова\"\n",
    "- доход от 200 тысяч рублей до миллиона рублей\n",
    "- цель кредитования \"операции с недвижимостью\"\n",
    "\n",
    "Наибольшая доля клиентов с задолженностью в категориях:\n",
    "- количество детей 1,2,4\n",
    "- семейное положение \"гражданский брак\" и \"Не женат / не замужем\"\n",
    "- доход более миллиона рублей\n",
    "- цель кредитования \"операции с автомобилем\" и \"получение образования\"\n",
    "\n",
    "Необходимо отметить, что диапазон значений статистически небольшой: по всем категориям клиентов доля колеблется в диапазоне 6-10%."
   ]
  }
 ],
 "metadata": {
  "ExecuteTimeLog": [
   {
    "duration": 52,
    "start_time": "2023-02-15T11:12:17.714Z"
   },
   {
    "duration": 520,
    "start_time": "2023-02-15T11:12:34.456Z"
   },
   {
    "duration": 23,
    "start_time": "2023-02-15T11:12:34.978Z"
   },
   {
    "duration": 26,
    "start_time": "2023-02-15T11:12:35.003Z"
   },
   {
    "duration": 10,
    "start_time": "2023-02-15T11:12:35.031Z"
   },
   {
    "duration": 39,
    "start_time": "2023-02-15T11:12:35.043Z"
   },
   {
    "duration": 4,
    "start_time": "2023-02-15T11:12:35.084Z"
   },
   {
    "duration": 15,
    "start_time": "2023-02-15T11:12:35.090Z"
   },
   {
    "duration": 21,
    "start_time": "2023-02-15T11:12:35.107Z"
   },
   {
    "duration": 8,
    "start_time": "2023-02-15T11:12:35.130Z"
   },
   {
    "duration": 13,
    "start_time": "2023-02-15T11:12:35.140Z"
   },
   {
    "duration": 36,
    "start_time": "2023-02-15T11:12:35.155Z"
   },
   {
    "duration": 11,
    "start_time": "2023-02-15T11:12:35.193Z"
   },
   {
    "duration": 24,
    "start_time": "2023-02-15T11:12:35.207Z"
   },
   {
    "duration": 11,
    "start_time": "2023-02-15T11:12:35.232Z"
   },
   {
    "duration": 25,
    "start_time": "2023-02-15T11:12:35.245Z"
   },
   {
    "duration": 17,
    "start_time": "2023-02-15T11:12:35.271Z"
   },
   {
    "duration": 5,
    "start_time": "2023-02-15T11:12:35.290Z"
   },
   {
    "duration": 33,
    "start_time": "2023-02-15T11:12:35.297Z"
   },
   {
    "duration": 6,
    "start_time": "2023-02-15T11:12:35.332Z"
   },
   {
    "duration": 10,
    "start_time": "2023-02-15T11:12:35.339Z"
   },
   {
    "duration": 18,
    "start_time": "2023-02-15T11:12:35.350Z"
   },
   {
    "duration": 15,
    "start_time": "2023-02-15T11:12:35.370Z"
   },
   {
    "duration": 5,
    "start_time": "2023-02-15T11:12:35.387Z"
   },
   {
    "duration": 7,
    "start_time": "2023-02-15T11:12:35.394Z"
   },
   {
    "duration": 8,
    "start_time": "2023-02-15T11:12:35.403Z"
   },
   {
    "duration": 66,
    "start_time": "2023-02-15T11:19:41.189Z"
   },
   {
    "duration": 12,
    "start_time": "2023-02-15T11:21:31.014Z"
   },
   {
    "duration": 12,
    "start_time": "2023-02-15T11:26:07.223Z"
   },
   {
    "duration": 12,
    "start_time": "2023-02-15T11:26:46.900Z"
   },
   {
    "duration": 8,
    "start_time": "2023-02-15T11:27:02.757Z"
   },
   {
    "duration": 8,
    "start_time": "2023-02-15T11:27:08.235Z"
   },
   {
    "duration": 11,
    "start_time": "2023-02-15T11:32:40.471Z"
   },
   {
    "duration": 10,
    "start_time": "2023-02-15T11:32:54.468Z"
   },
   {
    "duration": 53,
    "start_time": "2023-02-16T05:59:20.741Z"
   },
   {
    "duration": 595,
    "start_time": "2023-02-16T05:59:29.508Z"
   },
   {
    "duration": 24,
    "start_time": "2023-02-16T05:59:30.105Z"
   },
   {
    "duration": 16,
    "start_time": "2023-02-16T05:59:30.131Z"
   },
   {
    "duration": 11,
    "start_time": "2023-02-16T05:59:30.150Z"
   },
   {
    "duration": 36,
    "start_time": "2023-02-16T05:59:30.163Z"
   },
   {
    "duration": 3,
    "start_time": "2023-02-16T05:59:30.201Z"
   },
   {
    "duration": 35,
    "start_time": "2023-02-16T05:59:30.206Z"
   },
   {
    "duration": 5,
    "start_time": "2023-02-16T05:59:30.243Z"
   },
   {
    "duration": 10,
    "start_time": "2023-02-16T05:59:30.249Z"
   },
   {
    "duration": 4,
    "start_time": "2023-02-16T05:59:30.262Z"
   },
   {
    "duration": 56,
    "start_time": "2023-02-16T05:59:30.267Z"
   },
   {
    "duration": 11,
    "start_time": "2023-02-16T05:59:30.334Z"
   },
   {
    "duration": 11,
    "start_time": "2023-02-16T05:59:30.347Z"
   },
   {
    "duration": 37,
    "start_time": "2023-02-16T05:59:30.360Z"
   },
   {
    "duration": 45,
    "start_time": "2023-02-16T05:59:30.399Z"
   },
   {
    "duration": 34,
    "start_time": "2023-02-16T05:59:30.445Z"
   },
   {
    "duration": 22,
    "start_time": "2023-02-16T05:59:30.482Z"
   },
   {
    "duration": 34,
    "start_time": "2023-02-16T05:59:30.506Z"
   },
   {
    "duration": 28,
    "start_time": "2023-02-16T05:59:30.542Z"
   },
   {
    "duration": 32,
    "start_time": "2023-02-16T05:59:30.572Z"
   },
   {
    "duration": 55,
    "start_time": "2023-02-16T05:59:30.606Z"
   },
   {
    "duration": 99,
    "start_time": "2023-02-16T05:59:30.663Z"
   },
   {
    "duration": 0,
    "start_time": "2023-02-16T05:59:30.764Z"
   },
   {
    "duration": 0,
    "start_time": "2023-02-16T05:59:30.765Z"
   },
   {
    "duration": 0,
    "start_time": "2023-02-16T05:59:30.766Z"
   },
   {
    "duration": 7,
    "start_time": "2023-02-16T06:00:43.420Z"
   },
   {
    "duration": 97,
    "start_time": "2023-02-16T06:01:49.620Z"
   },
   {
    "duration": 9,
    "start_time": "2023-02-16T06:05:20.363Z"
   },
   {
    "duration": 13,
    "start_time": "2023-02-16T06:07:56.571Z"
   },
   {
    "duration": 9,
    "start_time": "2023-02-16T06:09:16.128Z"
   },
   {
    "duration": 12,
    "start_time": "2023-02-16T06:09:33.218Z"
   },
   {
    "duration": 12,
    "start_time": "2023-02-16T06:10:18.275Z"
   },
   {
    "duration": 12,
    "start_time": "2023-02-16T06:15:34.791Z"
   },
   {
    "duration": 10,
    "start_time": "2023-02-16T06:15:51.175Z"
   },
   {
    "duration": 101,
    "start_time": "2023-02-16T06:31:59.337Z"
   },
   {
    "duration": 34,
    "start_time": "2023-02-16T06:33:26.921Z"
   },
   {
    "duration": 29,
    "start_time": "2023-02-16T06:34:39.338Z"
   },
   {
    "duration": 12,
    "start_time": "2023-02-16T06:35:16.545Z"
   },
   {
    "duration": 13,
    "start_time": "2023-02-16T06:35:27.287Z"
   },
   {
    "duration": 13,
    "start_time": "2023-02-16T06:37:51.512Z"
   },
   {
    "duration": 14,
    "start_time": "2023-02-16T06:38:29.735Z"
   },
   {
    "duration": 13,
    "start_time": "2023-02-16T06:40:01.984Z"
   },
   {
    "duration": 12,
    "start_time": "2023-02-16T06:40:16.822Z"
   },
   {
    "duration": 12,
    "start_time": "2023-02-16T06:40:58.158Z"
   },
   {
    "duration": 14,
    "start_time": "2023-02-16T06:41:20.414Z"
   },
   {
    "duration": 12,
    "start_time": "2023-02-16T06:41:46.006Z"
   },
   {
    "duration": 17,
    "start_time": "2023-02-16T06:43:18.717Z"
   },
   {
    "duration": 5,
    "start_time": "2023-02-16T06:45:54.245Z"
   },
   {
    "duration": 6,
    "start_time": "2023-02-16T06:46:08.880Z"
   },
   {
    "duration": 5,
    "start_time": "2023-02-16T06:46:17.676Z"
   },
   {
    "duration": 4,
    "start_time": "2023-02-16T06:46:59.740Z"
   },
   {
    "duration": 12,
    "start_time": "2023-02-16T06:51:18.420Z"
   },
   {
    "duration": 13,
    "start_time": "2023-02-16T06:51:28.017Z"
   },
   {
    "duration": 11,
    "start_time": "2023-02-16T06:55:25.209Z"
   },
   {
    "duration": 15,
    "start_time": "2023-02-16T07:05:46.772Z"
   },
   {
    "duration": 13,
    "start_time": "2023-02-16T07:07:17.981Z"
   },
   {
    "duration": 69,
    "start_time": "2023-02-16T08:52:58.378Z"
   },
   {
    "duration": 638,
    "start_time": "2023-02-16T22:28:16.894Z"
   },
   {
    "duration": 19,
    "start_time": "2023-02-16T22:28:17.535Z"
   },
   {
    "duration": 18,
    "start_time": "2023-02-16T22:28:17.555Z"
   },
   {
    "duration": 8,
    "start_time": "2023-02-16T22:28:17.575Z"
   },
   {
    "duration": 29,
    "start_time": "2023-02-16T22:28:17.585Z"
   },
   {
    "duration": 3,
    "start_time": "2023-02-16T22:28:17.615Z"
   },
   {
    "duration": 31,
    "start_time": "2023-02-16T22:28:17.620Z"
   },
   {
    "duration": 4,
    "start_time": "2023-02-16T22:28:17.652Z"
   },
   {
    "duration": 9,
    "start_time": "2023-02-16T22:28:17.657Z"
   },
   {
    "duration": 5,
    "start_time": "2023-02-16T22:28:17.667Z"
   },
   {
    "duration": 36,
    "start_time": "2023-02-16T22:28:17.673Z"
   },
   {
    "duration": 9,
    "start_time": "2023-02-16T22:28:17.710Z"
   },
   {
    "duration": 4,
    "start_time": "2023-02-16T22:28:17.720Z"
   },
   {
    "duration": 35,
    "start_time": "2023-02-16T22:28:17.727Z"
   },
   {
    "duration": 18,
    "start_time": "2023-02-16T22:28:17.764Z"
   },
   {
    "duration": 16,
    "start_time": "2023-02-16T22:28:17.784Z"
   },
   {
    "duration": 4,
    "start_time": "2023-02-16T22:28:17.801Z"
   },
   {
    "duration": 11,
    "start_time": "2023-02-16T22:28:17.806Z"
   },
   {
    "duration": 8,
    "start_time": "2023-02-16T22:28:17.818Z"
   },
   {
    "duration": 3,
    "start_time": "2023-02-16T22:28:17.848Z"
   },
   {
    "duration": 12,
    "start_time": "2023-02-16T22:28:17.852Z"
   },
   {
    "duration": 7,
    "start_time": "2023-02-16T22:28:17.865Z"
   },
   {
    "duration": 13,
    "start_time": "2023-02-16T22:28:17.874Z"
   },
   {
    "duration": 10,
    "start_time": "2023-02-16T22:28:17.888Z"
   },
   {
    "duration": 13,
    "start_time": "2023-02-16T22:28:17.899Z"
   },
   {
    "duration": 57,
    "start_time": "2023-02-17T03:24:09.340Z"
   },
   {
    "duration": 707,
    "start_time": "2023-02-17T03:24:25.539Z"
   },
   {
    "duration": 21,
    "start_time": "2023-02-17T03:24:26.248Z"
   },
   {
    "duration": 14,
    "start_time": "2023-02-17T03:24:26.271Z"
   },
   {
    "duration": 8,
    "start_time": "2023-02-17T03:24:26.287Z"
   },
   {
    "duration": 51,
    "start_time": "2023-02-17T03:24:26.297Z"
   },
   {
    "duration": 3,
    "start_time": "2023-02-17T03:24:26.350Z"
   },
   {
    "duration": 21,
    "start_time": "2023-02-17T03:24:26.354Z"
   },
   {
    "duration": 4,
    "start_time": "2023-02-17T03:24:26.376Z"
   },
   {
    "duration": 12,
    "start_time": "2023-02-17T03:24:26.382Z"
   },
   {
    "duration": 14,
    "start_time": "2023-02-17T03:24:26.396Z"
   },
   {
    "duration": 47,
    "start_time": "2023-02-17T03:24:26.411Z"
   },
   {
    "duration": 9,
    "start_time": "2023-02-17T03:24:26.460Z"
   },
   {
    "duration": 7,
    "start_time": "2023-02-17T03:24:26.471Z"
   },
   {
    "duration": 18,
    "start_time": "2023-02-17T03:24:26.480Z"
   },
   {
    "duration": 41,
    "start_time": "2023-02-17T03:24:26.499Z"
   },
   {
    "duration": 19,
    "start_time": "2023-02-17T03:24:26.541Z"
   },
   {
    "duration": 3,
    "start_time": "2023-02-17T03:24:26.562Z"
   },
   {
    "duration": 14,
    "start_time": "2023-02-17T03:24:26.566Z"
   },
   {
    "duration": 10,
    "start_time": "2023-02-17T03:24:26.581Z"
   },
   {
    "duration": 3,
    "start_time": "2023-02-17T03:24:26.592Z"
   },
   {
    "duration": 41,
    "start_time": "2023-02-17T03:24:26.597Z"
   },
   {
    "duration": 33,
    "start_time": "2023-02-17T03:24:26.640Z"
   },
   {
    "duration": 12,
    "start_time": "2023-02-17T03:24:26.675Z"
   },
   {
    "duration": 10,
    "start_time": "2023-02-17T03:24:26.689Z"
   },
   {
    "duration": 35,
    "start_time": "2023-02-17T03:24:26.701Z"
   },
   {
    "duration": 26,
    "start_time": "2023-02-17T03:24:52.835Z"
   },
   {
    "duration": 81,
    "start_time": "2023-02-17T03:27:31.855Z"
   },
   {
    "duration": 29,
    "start_time": "2023-02-17T03:27:43.773Z"
   },
   {
    "duration": 27,
    "start_time": "2023-02-17T03:29:17.505Z"
   },
   {
    "duration": 26,
    "start_time": "2023-02-17T03:31:03.381Z"
   },
   {
    "duration": 34,
    "start_time": "2023-02-17T03:44:25.302Z"
   },
   {
    "duration": 50,
    "start_time": "2023-02-17T03:49:24.068Z"
   },
   {
    "duration": 29,
    "start_time": "2023-02-17T03:50:22.332Z"
   },
   {
    "duration": 71,
    "start_time": "2023-02-17T03:58:11.819Z"
   },
   {
    "duration": 31,
    "start_time": "2023-02-17T04:12:37.655Z"
   },
   {
    "duration": 80,
    "start_time": "2023-02-17T04:20:44.897Z"
   },
   {
    "duration": 72,
    "start_time": "2023-02-17T04:29:12.954Z"
   },
   {
    "duration": 9,
    "start_time": "2023-02-17T04:30:35.193Z"
   },
   {
    "duration": 8,
    "start_time": "2023-02-17T04:34:06.432Z"
   },
   {
    "duration": 12,
    "start_time": "2023-02-17T04:34:43.431Z"
   },
   {
    "duration": 12,
    "start_time": "2023-02-17T04:34:51.168Z"
   },
   {
    "duration": 7,
    "start_time": "2023-02-17T04:35:14.350Z"
   },
   {
    "duration": 7,
    "start_time": "2023-02-17T04:35:43.824Z"
   },
   {
    "duration": 11,
    "start_time": "2023-02-17T04:36:05.102Z"
   },
   {
    "duration": 6,
    "start_time": "2023-02-17T04:36:52.384Z"
   },
   {
    "duration": 6,
    "start_time": "2023-02-17T04:37:09.358Z"
   },
   {
    "duration": 7,
    "start_time": "2023-02-17T04:37:33.551Z"
   },
   {
    "duration": 7,
    "start_time": "2023-02-17T04:41:32.322Z"
   },
   {
    "duration": 7,
    "start_time": "2023-02-17T04:41:44.743Z"
   },
   {
    "duration": 7,
    "start_time": "2023-02-17T04:42:29.188Z"
   },
   {
    "duration": 8,
    "start_time": "2023-02-17T04:42:59.699Z"
   },
   {
    "duration": 85,
    "start_time": "2023-02-17T04:47:32.249Z"
   },
   {
    "duration": 76,
    "start_time": "2023-02-17T04:47:40.674Z"
   },
   {
    "duration": 89,
    "start_time": "2023-02-17T04:47:54.561Z"
   },
   {
    "duration": 7,
    "start_time": "2023-02-17T04:48:01.394Z"
   },
   {
    "duration": 83,
    "start_time": "2023-02-17T04:50:45.521Z"
   },
   {
    "duration": 83,
    "start_time": "2023-02-17T04:52:16.664Z"
   },
   {
    "duration": 10,
    "start_time": "2023-02-17T04:54:50.976Z"
   },
   {
    "duration": 439,
    "start_time": "2023-02-17T04:55:20.081Z"
   },
   {
    "duration": 23,
    "start_time": "2023-02-17T04:55:20.522Z"
   },
   {
    "duration": 39,
    "start_time": "2023-02-17T04:55:20.547Z"
   },
   {
    "duration": 21,
    "start_time": "2023-02-17T04:55:20.588Z"
   },
   {
    "duration": 49,
    "start_time": "2023-02-17T04:55:20.611Z"
   },
   {
    "duration": 8,
    "start_time": "2023-02-17T04:55:20.662Z"
   },
   {
    "duration": 30,
    "start_time": "2023-02-17T04:55:20.671Z"
   },
   {
    "duration": 19,
    "start_time": "2023-02-17T04:55:20.703Z"
   },
   {
    "duration": 29,
    "start_time": "2023-02-17T04:55:20.724Z"
   },
   {
    "duration": 15,
    "start_time": "2023-02-17T04:55:20.755Z"
   },
   {
    "duration": 57,
    "start_time": "2023-02-17T04:55:20.771Z"
   },
   {
    "duration": 9,
    "start_time": "2023-02-17T04:55:20.830Z"
   },
   {
    "duration": 16,
    "start_time": "2023-02-17T04:55:20.841Z"
   },
   {
    "duration": 30,
    "start_time": "2023-02-17T04:55:20.860Z"
   },
   {
    "duration": 36,
    "start_time": "2023-02-17T04:55:20.892Z"
   },
   {
    "duration": 27,
    "start_time": "2023-02-17T04:55:20.930Z"
   },
   {
    "duration": 4,
    "start_time": "2023-02-17T04:55:20.959Z"
   },
   {
    "duration": 31,
    "start_time": "2023-02-17T04:55:20.964Z"
   },
   {
    "duration": 28,
    "start_time": "2023-02-17T04:55:20.997Z"
   },
   {
    "duration": 13,
    "start_time": "2023-02-17T04:55:21.026Z"
   },
   {
    "duration": 31,
    "start_time": "2023-02-17T04:55:21.041Z"
   },
   {
    "duration": 46,
    "start_time": "2023-02-17T04:55:21.074Z"
   },
   {
    "duration": 29,
    "start_time": "2023-02-17T04:55:21.122Z"
   },
   {
    "duration": 48,
    "start_time": "2023-02-17T04:55:21.153Z"
   },
   {
    "duration": 31,
    "start_time": "2023-02-17T04:55:21.202Z"
   },
   {
    "duration": 7,
    "start_time": "2023-02-17T04:55:21.235Z"
   },
   {
    "duration": 465,
    "start_time": "2023-02-17T22:33:09.307Z"
   },
   {
    "duration": 21,
    "start_time": "2023-02-17T22:33:09.774Z"
   },
   {
    "duration": 14,
    "start_time": "2023-02-17T22:33:09.796Z"
   },
   {
    "duration": 8,
    "start_time": "2023-02-17T22:33:09.812Z"
   },
   {
    "duration": 65,
    "start_time": "2023-02-17T22:33:09.822Z"
   },
   {
    "duration": 4,
    "start_time": "2023-02-17T22:33:09.888Z"
   },
   {
    "duration": 19,
    "start_time": "2023-02-17T22:33:09.894Z"
   },
   {
    "duration": 4,
    "start_time": "2023-02-17T22:33:09.915Z"
   },
   {
    "duration": 14,
    "start_time": "2023-02-17T22:33:09.921Z"
   },
   {
    "duration": 4,
    "start_time": "2023-02-17T22:33:09.937Z"
   },
   {
    "duration": 33,
    "start_time": "2023-02-17T22:33:09.948Z"
   },
   {
    "duration": 11,
    "start_time": "2023-02-17T22:33:09.982Z"
   },
   {
    "duration": 3,
    "start_time": "2023-02-17T22:33:09.994Z"
   },
   {
    "duration": 12,
    "start_time": "2023-02-17T22:33:09.999Z"
   },
   {
    "duration": 57,
    "start_time": "2023-02-17T22:33:10.013Z"
   },
   {
    "duration": 17,
    "start_time": "2023-02-17T22:33:10.072Z"
   },
   {
    "duration": 4,
    "start_time": "2023-02-17T22:33:10.090Z"
   },
   {
    "duration": 10,
    "start_time": "2023-02-17T22:33:10.096Z"
   },
   {
    "duration": 6,
    "start_time": "2023-02-17T22:33:10.108Z"
   },
   {
    "duration": 3,
    "start_time": "2023-02-17T22:33:10.115Z"
   },
   {
    "duration": 13,
    "start_time": "2023-02-17T22:33:10.147Z"
   },
   {
    "duration": 38,
    "start_time": "2023-02-17T22:33:10.162Z"
   },
   {
    "duration": 27,
    "start_time": "2023-02-17T22:33:10.201Z"
   },
   {
    "duration": 49,
    "start_time": "2023-02-17T22:33:10.229Z"
   },
   {
    "duration": 30,
    "start_time": "2023-02-17T22:33:10.279Z"
   },
   {
    "duration": 5,
    "start_time": "2023-02-17T22:33:10.311Z"
   }
  ],
  "colab": {
   "provenance": []
  },
  "kernelspec": {
   "display_name": "Python 3 (ipykernel)",
   "language": "python",
   "name": "python3"
  },
  "language_info": {
   "codemirror_mode": {
    "name": "ipython",
    "version": 3
   },
   "file_extension": ".py",
   "mimetype": "text/x-python",
   "name": "python",
   "nbconvert_exporter": "python",
   "pygments_lexer": "ipython3",
   "version": "3.9.5"
  },
  "toc": {
   "base_numbering": 1,
   "nav_menu": {},
   "number_sections": true,
   "sideBar": true,
   "skip_h1_title": true,
   "title_cell": "Table of Contents",
   "title_sidebar": "Contents",
   "toc_cell": false,
   "toc_position": {},
   "toc_section_display": true,
   "toc_window_display": true
  }
 },
 "nbformat": 4,
 "nbformat_minor": 5
}
